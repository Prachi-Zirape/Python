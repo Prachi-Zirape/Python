{
 "cells": [
  {
   "cell_type": "code",
   "execution_count": 2,
   "id": "21de8dba",
   "metadata": {},
   "outputs": [
    {
     "name": "stdout",
     "output_type": "stream",
     "text": [
      "1 2 3 4 \n",
      "5 6 7 8 \n",
      "9 10 11 13 \n"
     ]
    }
   ],
   "source": [
    "#date--1/29/23\n",
    "#Introduction and Basics\n",
    "\n",
    "#1-Printing matrix elements:\n",
    "mtr=[[1,2,3,4],[5,6,7,8],[9,10,11,13]]  #3X4 matrix\n",
    "for i in range(3):\n",
    "    for j in range(4):\n",
    "        print(mtr[i][j], end=\" \")\n",
    "    print(\"\")"
   ]
  },
  {
   "cell_type": "code",
   "execution_count": 4,
   "id": "84ec15c0",
   "metadata": {},
   "outputs": [
    {
     "name": "stdout",
     "output_type": "stream",
     "text": [
      "No key found\n"
     ]
    }
   ],
   "source": [
    "#2-Search in matrix\n",
    "def searchBruteForce(mtr, key):\n",
    "    for i in range(3): \n",
    "        for j in range(4):\n",
    "            if mtr[i][j]==key:\n",
    "                return 1\n",
    "    return \n",
    "\n",
    "x=890\n",
    "mtr=[[0,6,8,9,11],\n",
    "    [20,22,28,29,31],\n",
    "    [36,38,40,52],\n",
    "    [64,66,68,70]]\n",
    "\n",
    "if searchBruteForce(mtr, x):\n",
    "    print('key found')\n",
    "else:\n",
    "    print('No key found')"
   ]
  },
  {
   "cell_type": "code",
   "execution_count": 5,
   "id": "931204a8",
   "metadata": {},
   "outputs": [
    {
     "name": "stdout",
     "output_type": "stream",
     "text": [
      "principal diagonal\n",
      "1 6 11 16 \n",
      "secondary diagonal\n",
      "4 7 10 13 \n"
     ]
    }
   ],
   "source": [
    "#3- Print diagonals of the matrix\n",
    "MAX=100\n",
    "\n",
    "def printPrincipalDiag(mtr, n):  #n= number of rows or columns\n",
    "    print('principal diagonal')\n",
    "    for i in range(n):\n",
    "        for j in range(n):\n",
    "            if (i==j):\n",
    "                print(mtr[i][j], end=\" \")\n",
    "    print(\"\")\n",
    "    \n",
    "def printSecondaryDiag(mtr, n):\n",
    "    print('secondary diagonal')\n",
    "    for i in range(n):\n",
    "        for j in range(n):\n",
    "            if (i+j)==n-1:\n",
    "                print(mtr[i][j], end=\" \")\n",
    "    print(\"\")\n",
    "    \n",
    "#driver code\n",
    "n=4\n",
    "a=[[1,2,3,4],\n",
    "  [5,6,7,8],\n",
    "  [9,10,11,12],\n",
    "  [13,14,15,16]]\n",
    "\n",
    "printPrincipalDiag(a,n)\n",
    "\n",
    "printSecondaryDiag(a,n)         \n",
    "    "
   ]
  },
  {
   "cell_type": "code",
   "execution_count": null,
   "id": "0ef1f872",
   "metadata": {},
   "outputs": [],
   "source": [
    "#sort Given Matrix\n"
   ]
  }
 ],
 "metadata": {
  "kernelspec": {
   "display_name": "Python 3 (ipykernel)",
   "language": "python",
   "name": "python3"
  },
  "language_info": {
   "codemirror_mode": {
    "name": "ipython",
    "version": 3
   },
   "file_extension": ".py",
   "mimetype": "text/x-python",
   "name": "python",
   "nbconvert_exporter": "python",
   "pygments_lexer": "ipython3",
   "version": "3.9.7"
  }
 },
 "nbformat": 4,
 "nbformat_minor": 5
}
