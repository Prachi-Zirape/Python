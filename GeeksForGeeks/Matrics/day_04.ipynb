{
 "cells": [
  {
   "cell_type": "code",
   "execution_count": 2,
   "id": "488730e4",
   "metadata": {},
   "outputs": [
    {
     "name": "stdout",
     "output_type": "stream",
     "text": [
      "found at( 1 , 4 )\n"
     ]
    }
   ],
   "source": [
    "#date--1/29/23\n",
    "#Introduction and Basics\n",
    "\n",
    "#search an element in sorted matrix\n",
    "#approach01: match the key with every elemnt\n",
    "#approach02: compare key with right most elment if key<element then search in same row or move to next row\n",
    "#aprroach03:binary search by searching middle element and select to go left or right\n",
    "\n",
    "#brute Force-linear search\n",
    "n=4  #rows\n",
    "m=5  #column\n",
    "\n",
    "a=[[0, 6, 8, 9, 11],\n",
    "     [20, 22, 28, 29, 31],\n",
    "     [36, 38, 50, 61, 63],\n",
    "     [64, 66, 100, 122, 128]]\n",
    "k=31\n",
    "\n",
    "mp={}\n",
    "\n",
    "for i in range(n):\n",
    "    for j in range(m):\n",
    "        if(k==a[i][j]):\n",
    "            print('found at(',i,\",\",j,')')\n",
    "        mp[a[i][j]]=[i,j]\n",
    "        \n",
    "            \n"
   ]
  },
  {
   "cell_type": "code",
   "execution_count": 3,
   "id": "bb47e9b9",
   "metadata": {},
   "outputs": [
    {
     "name": "stdout",
     "output_type": "stream",
     "text": [
      "found at ( 1 , 4 )\n"
     ]
    }
   ],
   "source": [
    "#2 way binary search\n",
    "#binary search on all rows to find out in which row element exist(top to bottom)\n",
    "#binary search on single row array where element exist (right to left)\n",
    "def findRow(arr,n,m,key):\n",
    "    lo=0\n",
    "    hi=n-1\n",
    "    mid=0\n",
    "    \n",
    "    while(lo<=hi):\n",
    "        mid=int((lo+hi)/2)\n",
    "        #we will check left and right most elments of the row for efficienc\n",
    "        if key==arr[mid][0]: #checking leftmost element\n",
    "            print('found at (',mid,',','0)',sep=' ')\n",
    "            return\n",
    "        if key==arr[mid][m-1]: #checking rightmost element\n",
    "            print('found at (',mid,',',m-1,')',sep=' ')\n",
    "            return\n",
    "        if key>arr[mid][0] and k<arr[mid][m-1]:\n",
    "            binarySearch(arr,n,m,key,mid)  #binary search on same row\n",
    "            return\n",
    "        if key<arr[mid][0]:\n",
    "            hi=mid-1\n",
    "        if key>arr[mid][0]:\n",
    "            low=mid+1\n",
    "            \n",
    "def binarySearch(arr,n,m,key,ro_num):\n",
    "    # now we simply have to apply binary search as we\n",
    "    # did in a 1-D array, for the elements in row number\n",
    "    lo=0\n",
    "    hi=m-1\n",
    "    mid=0\n",
    "    while(lo<=hi):\n",
    "        mid=int((lo+hi)/2)\n",
    "        \n",
    "        if arr[x][mid]==key:\n",
    "            print('found at (',row_num,' ',mid,')')\n",
    "            return\n",
    "        if key<arr[mid][0]:\n",
    "            hi=mid-1\n",
    "        if key>arr[mid][0]:\n",
    "            low=mid+1\n",
    "    print('element not found')\n",
    "\n",
    "n = 4 # no. of rows\n",
    "m = 5 # no. of columns\n",
    "a = [[ 0, 6, 8, 9, 11], [20, 22, 28, 29, 31], [36, 38, 50, 61, 63 ], [64, 66, 100, 122, 128]]\n",
    "k = 31  # element to search\n",
    "findRow(a, n, m, k) "
   ]
  },
  {
   "cell_type": "code",
   "execution_count": 7,
   "id": "92d84f11",
   "metadata": {},
   "outputs": [
    {
     "name": "stdout",
     "output_type": "stream",
     "text": [
      "result matrix is \n",
      "1 2 3 4 \n",
      "1 2 3 4 \n",
      "1 2 3 4 \n",
      "1 2 3 4 \n"
     ]
    }
   ],
   "source": [
    "#finding transpose\n",
    "#1-using auxiliary space\n",
    "N=4\n",
    "def transpose(a,b):\n",
    "    for i in range(N):\n",
    "        for j in range(N):\n",
    "            b[i][j]=a[j][i]\n",
    "            \n",
    "if __name__=='__main__':\n",
    "    a=[[1, 1, 1, 1],\n",
    "       [2, 2, 2, 2],\n",
    "       [3, 3, 3, 3],\n",
    "       [4, 4, 4, 4]]\n",
    "    \n",
    "    b=[[0 for i in range(N)]for j in range(N)]\n",
    "    \n",
    "    transpose(a,b)\n",
    "    \n",
    "    print('result matrix is ')\n",
    "    for i in range(N):\n",
    "        for j in range(N):\n",
    "            print(b[i][j],end=' ')\n",
    "        print('')"
   ]
  },
  {
   "cell_type": "code",
   "execution_count": 8,
   "id": "1cc5da03",
   "metadata": {},
   "outputs": [
    {
     "name": "stdout",
     "output_type": "stream",
     "text": [
      "result matrix is \n",
      "1 2 3 4 \n",
      "1 2 3 4 \n",
      "1 2 3 4 \n",
      "1 2 3 4 \n"
     ]
    }
   ],
   "source": [
    "#2-using constant space\n",
    "def inSpaceTranspose(mtr):\n",
    "    for i in range(n):\n",
    "        for j in range(i+1, n):\n",
    "            a[i][j],a[j][i]=a[j][i],a[i][j]\n",
    "            \n",
    "if __name__=='__main__':\n",
    "    a=[[1, 1, 1, 1],\n",
    "       [2, 2, 2, 2],\n",
    "       [3, 3, 3, 3],\n",
    "       [4, 4, 4, 4]]\n",
    "        \n",
    "    inSpaceTranspose(a)\n",
    "    \n",
    "    print('result matrix is ')\n",
    "    for i in range(N):\n",
    "        for j in range(N):\n",
    "            print(a[i][j],end=' ')\n",
    "        print('')"
   ]
  },
  {
   "cell_type": "code",
   "execution_count": null,
   "id": "bb9ec0cc",
   "metadata": {},
   "outputs": [],
   "source": []
  }
 ],
 "metadata": {
  "kernelspec": {
   "display_name": "Python 3 (ipykernel)",
   "language": "python",
   "name": "python3"
  },
  "language_info": {
   "codemirror_mode": {
    "name": "ipython",
    "version": 3
   },
   "file_extension": ".py",
   "mimetype": "text/x-python",
   "name": "python",
   "nbconvert_exporter": "python",
   "pygments_lexer": "ipython3",
   "version": "3.9.7"
  }
 },
 "nbformat": 4,
 "nbformat_minor": 5
}
