{
 "cells": [
  {
   "cell_type": "code",
   "execution_count": 9,
   "id": "488730e4",
   "metadata": {},
   "outputs": [
    {
     "name": "stdout",
     "output_type": "stream",
     "text": [
      "printing original matrix\n",
      "5 4 7 \n",
      "1 3 8 \n",
      "2 9 6 \n",
      "0\n",
      "[5] 0\n"
     ]
    },
    {
     "ename": "IndexError",
     "evalue": "list assignment index out of range",
     "output_type": "error",
     "traceback": [
      "\u001b[1;31m---------------------------------------------------------------------------\u001b[0m",
      "\u001b[1;31mIndexError\u001b[0m                                Traceback (most recent call last)",
      "\u001b[1;32m~\\AppData\\Local\\Temp/ipykernel_2948/698005878.py\u001b[0m in \u001b[0;36m<module>\u001b[1;34m\u001b[0m\n\u001b[0;32m     46\u001b[0m \u001b[0mprintMatrix\u001b[0m\u001b[1;33m(\u001b[0m\u001b[0mmtr\u001b[0m\u001b[1;33m,\u001b[0m\u001b[0mn\u001b[0m\u001b[1;33m)\u001b[0m\u001b[1;33m\u001b[0m\u001b[1;33m\u001b[0m\u001b[0m\n\u001b[0;32m     47\u001b[0m \u001b[1;33m\u001b[0m\u001b[0m\n\u001b[1;32m---> 48\u001b[1;33m \u001b[0msortStrict\u001b[0m\u001b[1;33m(\u001b[0m\u001b[0mmtr\u001b[0m\u001b[1;33m,\u001b[0m \u001b[0mn\u001b[0m\u001b[1;33m)\u001b[0m\u001b[1;33m\u001b[0m\u001b[1;33m\u001b[0m\u001b[0m\n\u001b[0m",
      "\u001b[1;32m~\\AppData\\Local\\Temp/ipykernel_2948/698005878.py\u001b[0m in \u001b[0;36msortStrict\u001b[1;34m(mtr, n)\u001b[0m\n\u001b[0;32m     18\u001b[0m         \u001b[0mprint\u001b[0m\u001b[1;33m(\u001b[0m\u001b[0mk\u001b[0m\u001b[1;33m)\u001b[0m\u001b[1;33m\u001b[0m\u001b[1;33m\u001b[0m\u001b[0m\n\u001b[0;32m     19\u001b[0m         \u001b[1;32mfor\u001b[0m \u001b[0mj\u001b[0m \u001b[1;32min\u001b[0m \u001b[0mrange\u001b[0m\u001b[1;33m(\u001b[0m\u001b[0mn\u001b[0m\u001b[1;33m)\u001b[0m\u001b[1;33m:\u001b[0m\u001b[1;33m\u001b[0m\u001b[1;33m\u001b[0m\u001b[0m\n\u001b[1;32m---> 20\u001b[1;33m             \u001b[0marr\u001b[0m\u001b[1;33m[\u001b[0m\u001b[0mk\u001b[0m\u001b[1;33m]\u001b[0m\u001b[1;33m=\u001b[0m\u001b[0mmtr\u001b[0m\u001b[1;33m[\u001b[0m\u001b[0mi\u001b[0m\u001b[1;33m]\u001b[0m\u001b[1;33m[\u001b[0m\u001b[0mj\u001b[0m\u001b[1;33m]\u001b[0m\u001b[1;33m\u001b[0m\u001b[1;33m\u001b[0m\u001b[0m\n\u001b[0m\u001b[0;32m     21\u001b[0m             \u001b[0mprint\u001b[0m\u001b[1;33m(\u001b[0m\u001b[0marr\u001b[0m\u001b[1;33m,\u001b[0m \u001b[0mk\u001b[0m\u001b[1;33m)\u001b[0m\u001b[1;33m\u001b[0m\u001b[1;33m\u001b[0m\u001b[0m\n\u001b[0;32m     22\u001b[0m             \u001b[0mk\u001b[0m\u001b[1;33m+=\u001b[0m\u001b[1;36m1\u001b[0m\u001b[1;33m\u001b[0m\u001b[1;33m\u001b[0m\u001b[0m\n",
      "\u001b[1;31mIndexError\u001b[0m: list assignment index out of range"
     ]
    }
   ],
   "source": [
    "#date--1/30/23\n",
    "#Introduction and Basics\n",
    "\n",
    "#Sort given Matrix\n",
    "#1. create temporary array of size n^2\n",
    "#2.copy all the elements of matrix to the temp array\n",
    "#3. Sort array\n",
    "#4. copy back these sorted array elements to the matrix\n",
    "#5. print matrix\n",
    "\n",
    "def sortStrict(mtr,n):\n",
    "    #create temporary array of size n^2\n",
    "    arr=[2*n*n]\n",
    "    k=0\n",
    "    \n",
    "    #copy all the elements of matrix to the temp array\n",
    "    for i in range(n):\n",
    "        print(k)\n",
    "        for j in range(n):\n",
    "            arr[k]=mtr[i][j]\n",
    "            print(arr, k)\n",
    "            k+=1\n",
    "            \n",
    "    #Sort array\n",
    "    arrays.sort(arr)\n",
    "    \n",
    "    #copy back these sorted array elements to the matrix\n",
    "    k=0\n",
    "    for i in range(n):\n",
    "        for j in range(n):\n",
    "            mtr[i][j]=arr[k]\n",
    "            k+=1\n",
    "    \n",
    "# print matrix\n",
    "def printMatrix(mtr, n):\n",
    "    for i in range(n):\n",
    "        for j in range(n):\n",
    "            print(mtr[i][j], end=\" \")    \n",
    "        print()\n",
    "\n",
    "#driver Program\n",
    "mtr=[[5,4,7],[1,3,8],[2,9,6]]\n",
    "n=3\n",
    "\n",
    "print('printing original matrix')\n",
    "printMatrix(mtr,n)\n",
    "    \n",
    "sortStrict(mtr, n)"
   ]
  },
  {
   "cell_type": "code",
   "execution_count": null,
   "id": "098fd18b",
   "metadata": {},
   "outputs": [],
   "source": []
  }
 ],
 "metadata": {
  "kernelspec": {
   "display_name": "Python 3 (ipykernel)",
   "language": "python",
   "name": "python3"
  },
  "language_info": {
   "codemirror_mode": {
    "name": "ipython",
    "version": 3
   },
   "file_extension": ".py",
   "mimetype": "text/x-python",
   "name": "python",
   "nbconvert_exporter": "python",
   "pygments_lexer": "ipython3",
   "version": "3.9.7"
  }
 },
 "nbformat": 4,
 "nbformat_minor": 5
}
