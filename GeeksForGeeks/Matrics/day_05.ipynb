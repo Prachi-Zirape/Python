{
 "cells": [
  {
   "cell_type": "code",
   "execution_count": 1,
   "id": "488730e4",
   "metadata": {},
   "outputs": [
    {
     "name": "stdout",
     "output_type": "stream",
     "text": [
      "1 2 4 7 5 3 6 8 9 "
     ]
    }
   ],
   "source": [
    "#date--1/29/23\n",
    "#Print matrix in zizag fashion\n",
    "matrix =[\n",
    "            [ 1, 2, 3,],\n",
    "            [ 4, 5, 6 ],\n",
    "            [ 7, 8, 9 ],\n",
    "        ]\n",
    "\n",
    "row=3\n",
    "col=3\n",
    "solution=[[]for i in range(row+col-1)]\n",
    "\n",
    "for i in range(row):\n",
    "    for j in range(col):\n",
    "        sum=i+j\n",
    "        if sum%2==0:\n",
    "            solution[sum].insert(0,matrix[i][j]) #its creating sub array in solution and writes new element at 0th position \n",
    "            #####################################when condition satisfies otherwise append it at end\n",
    "            #print(solution)\n",
    "        else:\n",
    "            solution[sum].append(matrix[i][j])\n",
    "\n",
    "for i in solution:\n",
    "    for j in i:\n",
    "        print(j,end=' ')\n",
    "    \n"
   ]
  },
  {
   "cell_type": "code",
   "execution_count": 13,
   "id": "1d47b103",
   "metadata": {},
   "outputs": [
    {
     "name": "stdout",
     "output_type": "stream",
     "text": [
      "scalar product of the matrix is:\n",
      "4 8 12 \n",
      "16 20 24 \n",
      "28 32 36 \n"
     ]
    }
   ],
   "source": [
    "#Scalar product of the matrix\n",
    "n=3\n",
    "def scalarProdMtr(mtr,k):\n",
    "    for i in range(n):\n",
    "        for j in range(n):\n",
    "            mtr[i][j]=mtr[i][j]*k\n",
    "\n",
    "if __name__==\"__main__\":\n",
    "    mtr=[[ 1, 2, 3 ],\n",
    "           [ 4, 5, 6 ],\n",
    "           [ 7, 8, 9 ]]\n",
    "    k=4\n",
    "    \n",
    "    scalarProdMtr(mtr,k)\n",
    "    print('scalar product of the matrix is:')\n",
    "    for i in range(n):\n",
    "        for j in range(n):\n",
    "            print(mtr[i][j],end=' ')\n",
    "        print()"
   ]
  },
  {
   "cell_type": "code",
   "execution_count": 15,
   "id": "9ce8c465",
   "metadata": {},
   "outputs": [
    {
     "name": "stdout",
     "output_type": "stream",
     "text": [
      "1 3 14 "
     ]
    }
   ],
   "source": [
    "#finding element common to each row\n",
    "#Proces: Take a value from 0th row search trough all the rows \n",
    "#if present in all rows add in solution otherwise move to next value in 0th row\n",
    "\n",
    "MAX=100\n",
    "\n",
    "#sort each row increasing order\n",
    "def sortRows(mtr, n):\n",
    "    for i in range(n):\n",
    "        mtr[i].sort()\n",
    "\n",
    "def findAndPrintComEl(mtr,n):\n",
    "    #sort rows\n",
    "    sortRows(mtr, n)\n",
    "    #current column index of each row is stored from where the \n",
    "    #element is being searched in the row\n",
    "    \n",
    "    cur_index=[0]*n\n",
    "    for i in range(n):\n",
    "        cur_index[i]=0\n",
    "        \n",
    "    f=0\n",
    "    while cur_index[0]<n:\n",
    "        # value present at the current\n",
    "        # column index of 1st row\n",
    "        value=mtr[0][cur_index[0]]\n",
    "        \n",
    "        present =True\n",
    "        \n",
    "        # 'value' is being searched in\n",
    "        # all the subsequent rows\n",
    "        for i in range(1,n):\n",
    "            # iterate through all the elements\n",
    "            # of the row from its current column\n",
    "            # index till an element greater than\n",
    "            # the 'value' is found or the end of\n",
    "            # the row is encountered\n",
    "            while (cur_index[i]<n and mtr[i][cur_index[i]]<=value):\n",
    "                cur_index[i]=cur_index[i]+1\n",
    "            # if the element was not present at\n",
    "            # the column before to the 'curr_index'\n",
    "            # of the row\n",
    "            if mtr[i][cur_index[i]-1]!=value:\n",
    "                present=False\n",
    "            \n",
    "            # if all elements of the row have\n",
    "            # been traversed)\n",
    "            if (cur_index[i]==n):\n",
    "                f=1\n",
    "                break\n",
    "        # if the 'value' is common to all the rows\n",
    "        if (present):\n",
    "            print(value, end = \" \")\n",
    " \n",
    "        # if any row have been completely traversed\n",
    "        # then no more common elements can be found\n",
    "        if (f == 1):\n",
    "            break\n",
    "            \n",
    "        cur_index[0]+=1  #this shows we are walking horizontally in a row of the matrix\n",
    "        \n",
    "mat = [[12, 1, 14, 3, 16],\n",
    "       [14, 2, 1, 3, 35],\n",
    "       [14, 1, 14, 3, 11],\n",
    "       [14, 25, 3, 2, 1],\n",
    "       [1, 18, 3, 21, 14]]\n",
    " \n",
    "n = 5\n",
    "findAndPrintComEl(mat, n)\n",
    "                \n",
    "    "
   ]
  },
  {
   "cell_type": "code",
   "execution_count": 17,
   "id": "23ed14c8",
   "metadata": {},
   "outputs": [
    {
     "name": "stdout",
     "output_type": "stream",
     "text": [
      "2 3 "
     ]
    }
   ],
   "source": [
    "#finding element common to each row using hash\n",
    "#process: map first row elements in US hash then from row-1 till last row map elements to temp hash\n",
    "#if element in US does not present in temp then delete entry from US\n",
    "\n",
    "MAX=100\n",
    "\n",
    "#function to individually sort each row increasing order\n",
    "def findAndPrintCommonElements(mtr,n):\n",
    "    us=dict()\n",
    "    \n",
    "    #map elements of first row into us\n",
    "    for i in range(n):\n",
    "        us[mat[0][i]]=1\n",
    "        \n",
    "    for i in range(1,n):\n",
    "        temp=dict()\n",
    "        \n",
    "        #mapping elements of current row in temp\n",
    "        for j in range(n):\n",
    "            temp[mat[i][j]]=1\n",
    "            \n",
    "        #iterate through all the elements in us\n",
    "        for itr in list(us):\n",
    "            if itr not in temp:\n",
    "                del us[itr]\n",
    "                \n",
    "        # if size of 'us' becomes 0,\n",
    "        # then there are no common elements\n",
    "        if (len(us) == 0):\n",
    "            break\n",
    "            \n",
    "    # print common elements\n",
    "    for itr in list(us):\n",
    "        print(itr, end=' ')\n",
    "        \n",
    "# Driver Code\n",
    "mat = [[2, 1, 4, 3],\n",
    "       [1, 2, 3, 2],\n",
    "       [3, 6, 2, 3],\n",
    "       [5, 2, 5, 3]]\n",
    "n = 4\n",
    "findAndPrintCommonElements(mat, n)\n",
    "        \n"
   ]
  },
  {
   "cell_type": "code",
   "execution_count": 2,
   "id": "50be6654",
   "metadata": {},
   "outputs": [
    {
     "name": "stdout",
     "output_type": "stream",
     "text": [
      "2 3 "
     ]
    }
   ],
   "source": [
    "#finding element common to each row using map\n",
    "def distinct(matrix, N):\n",
    "     \n",
    "    # Make a empty map\n",
    "    ans = {}\n",
    " \n",
    "    # Insert the elements of\n",
    "    # first row in the map and\n",
    "    # initialize with 1\n",
    "    for j in range(N):\n",
    "        ans[matrix[0][j]] = 1\n",
    " \n",
    "    # Traverse the matrix from 2nd row\n",
    "    for i in range(N):\n",
    "        for j in range(N):\n",
    "            #print(matrix[i][j],end=' ')\n",
    "             \n",
    "            # If the element is present in the map\n",
    "            # and is not duplicated in the current row\n",
    "            if matrix[i][j] in ans and ans[matrix[i][j]] == i:\n",
    "                 \n",
    "                # Increment count of the element in\n",
    "                # map by 1\n",
    "                ans[matrix[i][j]] = i + 1\n",
    "                \n",
    "                # If we have reached the last row\n",
    "                if (i == N - 1):\n",
    "                     \n",
    "                    # Print the element\n",
    "                    print(matrix[i][j],end=\" \") \n",
    "# Driver code\n",
    "matrix = [ [ 2, 1, 4, 3 ],\n",
    "                  [ 1, 2, 3, 2 ],\n",
    "                  [ 3, 6, 2, 3 ],\n",
    "                  [ 5, 2, 5, 3 ] ]\n",
    "n = 4\n",
    " \n",
    "distinct(matrix, n)\n",
    " "
   ]
  },
  {
   "cell_type": "code",
   "execution_count": null,
   "id": "d6244b5c",
   "metadata": {},
   "outputs": [],
   "source": []
  }
 ],
 "metadata": {
  "kernelspec": {
   "display_name": "Python 3 (ipykernel)",
   "language": "python",
   "name": "python3"
  },
  "language_info": {
   "codemirror_mode": {
    "name": "ipython",
    "version": 3
   },
   "file_extension": ".py",
   "mimetype": "text/x-python",
   "name": "python",
   "nbconvert_exporter": "python",
   "pygments_lexer": "ipython3",
   "version": "3.9.7"
  }
 },
 "nbformat": 4,
 "nbformat_minor": 5
}
