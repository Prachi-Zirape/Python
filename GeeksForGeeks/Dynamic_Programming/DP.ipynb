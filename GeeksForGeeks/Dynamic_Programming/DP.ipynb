{
 "cells": [
  {
   "cell_type": "code",
   "execution_count": 25,
   "id": "546c12ac",
   "metadata": {},
   "outputs": [
    {
     "name": "stdout",
     "output_type": "stream",
     "text": [
      "[7, 11]\n"
     ]
    },
    {
     "data": {
      "text/plain": [
       "False"
      ]
     },
     "execution_count": 25,
     "metadata": {},
     "output_type": "execute_result"
    }
   ],
   "source": [
    "#Date-09/24/22\n",
    "\n",
    "#Experimnent-IGNORE\n",
    "\n",
    "#1-Ugly Numbers- numbers whose only prime factors are 2, 3 or 5\n",
    "#Naive approach\n",
    "import math\n",
    "def isPrime(prime):\n",
    "    for i in range(2,prime):\n",
    "        if prime%i==0:\n",
    "            return False\n",
    "    return True\n",
    "\n",
    "def factors(num):\n",
    "    arr=[]\n",
    "    for j in range(2,num+1):\n",
    "        if num%j==0 and isPrime(j):\n",
    "            arr.append(j)\n",
    "    print(arr)\n",
    "    return(arr)\n",
    "\n",
    "def ugly_num(n):\n",
    "    ugly_set=[2,3,5]\n",
    "    lookup=[]\n",
    "    \n",
    "    if factors(n)==ugly_set:\n",
    "        return True\n",
    "    else:\n",
    "        return False\n",
    "    \n",
    "ugly_num(77)"
   ]
  },
  {
   "cell_type": "code",
   "execution_count": 29,
   "id": "8def8299",
   "metadata": {},
   "outputs": [
    {
     "name": "stdout",
     "output_type": "stream",
     "text": [
      "5832\n"
     ]
    }
   ],
   "source": [
    "def nth_ugly_num(n):\n",
    "    #initialize ugly array\n",
    "    ugly=[0]*n\n",
    "    \n",
    "    #initialize 2,3,and 5 index\n",
    "    i2,i3,i5=0,0,0\n",
    "    \n",
    "    prod_two=2\n",
    "    prod_three=3\n",
    "    prod_five=5\n",
    "    \n",
    "    #now next ugly number will be minimum of i* 1 of the index above\n",
    "    for i in range(1,n):\n",
    "        #next_ugly=min(2*i2, 3*i3, 5*i5)\n",
    "        #ugly.append(next_ugly)\n",
    "        \n",
    "        ugly[i]=min(prod_two,prod_three,prod_five)\n",
    "        \n",
    "        if ugly[i]==prod_two:\n",
    "            i2+=1\n",
    "            prod_two=ugly[i2]*2\n",
    "            \n",
    "        if ugly[i]==prod_three:\n",
    "            i3+=1\n",
    "            prod_three=ugly[i3]*3\n",
    "            \n",
    "        if ugly[i]==prod_five:\n",
    "            i5+=1\n",
    "            prod_five=ugly[i5]*5\n",
    "            \n",
    "    return ugly[-1]\n",
    "\n",
    "n = 150  \n",
    "print (nth_ugly_num(n))\n",
    "    "
   ]
  },
  {
   "cell_type": "code",
   "execution_count": 21,
   "id": "7234b61a",
   "metadata": {},
   "outputs": [
    {
     "name": "stdout",
     "output_type": "stream",
     "text": [
      "8\n"
     ]
    }
   ],
   "source": [
    "#Fibonacci numbers-recursion\n",
    "def fib_num(n):\n",
    "    if n==0:\n",
    "        return 0\n",
    "    if n==1:\n",
    "        return 1\n",
    "    return fib_num(n-1)+fib_num(n-2)\n",
    "\n",
    "print(fib_num(6))\n"
   ]
  },
  {
   "cell_type": "code",
   "execution_count": 42,
   "id": "53a62064",
   "metadata": {},
   "outputs": [
    {
     "name": "stdout",
     "output_type": "stream",
     "text": [
      "[0, 1, 1, 2, 3, 5, 8, 13, 21, 34]\n"
     ]
    }
   ],
   "source": [
    "def fib_num_dp(n):\n",
    "    fib_arr=[0]*(n+1)\n",
    "    \n",
    "    #print(len(fib_arr))\n",
    "    \n",
    "    for i in range(0,n+1):\n",
    "        if i==0:\n",
    "            fib_arr[i]=0\n",
    "        elif i==1:\n",
    "            fib_arr[i]=1\n",
    "        else:\n",
    "            fib_arr[i]=fib_arr[i-1]+fib_arr[i-2]\n",
    "       # print(fib_arr[i])\n",
    "    return fib_arr\n",
    "\n",
    "print(fib_num_dp(9))   "
   ]
  },
  {
   "cell_type": "code",
   "execution_count": 5,
   "id": "04558e72",
   "metadata": {},
   "outputs": [
    {
     "name": "stdout",
     "output_type": "stream",
     "text": [
      "14.0\n"
     ]
    }
   ],
   "source": [
    "#nth catlan number  #fact(2n)/(fact(n+1)*fact(n))\n",
    "def cat_num(n):\n",
    "    \n",
    "    cat_num=fact(2*n)/(fact(n+1)*fact(n))\n",
    "    return cat_num\n",
    "\n",
    "def fact(n):\n",
    "    if n==1:\n",
    "        return 1\n",
    "    \n",
    "    return n*fact(n-1)\n",
    "\n",
    "print(cat_num(4))"
   ]
  },
  {
   "cell_type": "code",
   "execution_count": 19,
   "id": "1dea65bc",
   "metadata": {},
   "outputs": [
    {
     "name": "stdout",
     "output_type": "stream",
     "text": [
      "14\n"
     ]
    }
   ],
   "source": [
    "def cat_num(n):\n",
    "    if n<=1:\n",
    "        return 1\n",
    "    \n",
    "    res=0\n",
    "    for i in range(n):\n",
    "        res+=cat_num(i)*cat_num(n-i-1)\n",
    "\n",
    "    return res\n",
    "print(cat_num(4))\n"
   ]
  },
  {
   "cell_type": "code",
   "execution_count": 25,
   "id": "99c33505",
   "metadata": {},
   "outputs": [
    {
     "name": "stdout",
     "output_type": "stream",
     "text": [
      "14\n"
     ]
    }
   ],
   "source": [
    "def cat_num_dp(n):\n",
    "    if n<=1 :\n",
    "        return 1\n",
    "    #store results of sub problems\n",
    "    cat_tbl=[0]*(n+1)\n",
    "    \n",
    "    #initialize tble\n",
    "    cat_tbl[0]=1\n",
    "    cat_tbl[1]=1\n",
    "    \n",
    "    # Fill entries in catalan[]\n",
    "    # using recursive formula\n",
    "    for i in range(2,n+1):\n",
    "        for j in range(i):\n",
    "            cat_tbl[i]+=cat_tbl[j]*cat_tbl[i-j-1]  #cat_num(i)*cat_num(n-i-1)\n",
    "    \n",
    "    return cat_tbl[n]\n",
    "print(cat_num_dp(4))\n",
    "    "
   ]
  },
  {
   "cell_type": "code",
   "execution_count": 11,
   "id": "a03dc83a",
   "metadata": {},
   "outputs": [
    {
     "name": "stdout",
     "output_type": "stream",
     "text": [
      "5\n"
     ]
    }
   ],
   "source": [
    "#Date-09/25/22\n",
    "#Bell numbers -S(n+1, k) = k*S(n, k) + S(n, k-1)\n",
    "n=3\n",
    "s=[[0 for _ in range(n+1)] for _ in range(n+1) ] #define row and columns of matrics with 0s\n",
    "\n",
    "for i in range(n+1):\n",
    "    for j in range(n+1):\n",
    "        if j>i:\n",
    "            continue\n",
    "        elif i==j:\n",
    "           # print(\"i==j\",i,j)\n",
    "            s[i][j]=1\n",
    "        elif i==0 or j==0:\n",
    "            s[i][j]=0\n",
    "        else:\n",
    "            s[i][j]=j*s[i-1][j]+s[i-1][j-1]\n",
    "ans=0\n",
    "for i in range(0,n+1):\n",
    "    ans+=s[n][i]\n",
    "print(ans)"
   ]
  },
  {
   "cell_type": "code",
   "execution_count": 10,
   "id": "24b44d0f",
   "metadata": {},
   "outputs": [
    {
     "name": "stdout",
     "output_type": "stream",
     "text": [
      "Bell Number 0 is 1\n",
      "Bell Number 1 is 1\n",
      "Bell Number 2 is 2\n",
      "Bell Number 3 is 5\n",
      "Bell Number 4 is 15\n",
      "Bell Number 5 is 52\n"
     ]
    }
   ],
   "source": [
    "def bell_num_tri(n):\n",
    "    bell=[[0 for _ in range(n+1)] for _ in range(n+1)]\n",
    "    bell[0][0]=1  #first value always 1\n",
    "    \n",
    "    for i in range(1,n+1):\n",
    "        bell[i][0]=bell[i-1][i-1]  #first value of new row and col 0 is always last value of previous row\n",
    "        \n",
    "        #fill other values\n",
    "        for j in range(1,i+1):\n",
    "            bell[i][j]=bell[i][j-1]+bell[i-1][j-1]\n",
    "            \n",
    "    return bell[n][0]\n",
    "\n",
    "for n in range(6):\n",
    "    print('Bell Number', n, 'is', bell_num_tri(n))"
   ]
  },
  {
   "cell_type": "code",
   "execution_count": 12,
   "id": "110fc157",
   "metadata": {},
   "outputs": [
    {
     "data": {
      "text/plain": [
       "10"
      ]
     },
     "execution_count": 12,
     "metadata": {},
     "output_type": "execute_result"
    }
   ],
   "source": [
    "#Binomial Coefficient or n factorial\n",
    "#Recursive solution\n",
    "def bin_coeff(n,k):\n",
    "    if k==0 :\n",
    "        return 1\n",
    "    elif k==n:\n",
    "        return 1\n",
    "    return bin_coeff(n-1,k-1)+bin_coeff(n-1,k)\n",
    "\n",
    "bin_coeff(5,2)"
   ]
  },
  {
   "cell_type": "code",
   "execution_count": 26,
   "id": "c477b9b1",
   "metadata": {},
   "outputs": [
    {
     "name": "stdout",
     "output_type": "stream",
     "text": [
      "10\n"
     ]
    }
   ],
   "source": [
    "#Dynamic approach =>on concept C(n, k) can be defined as the coefficient of x^k in the expansion of (1 + x)^n\n",
    "def bin_coeff_dp(n,k):\n",
    "    c=[[0 for _ in range(k+1)] for x in range(n+1)]\n",
    "    \n",
    "    # Calculate value of Binomial\n",
    "    # Coefficient in bottom up manner\n",
    "    for i in range(n+1):\n",
    "        #print(i,k)\n",
    "        for j in range(min(i,k)+1): \n",
    "           # print(j)\n",
    "            if j==i or j==0: #when n==k and k=0\n",
    "                c[i][j]=1  \n",
    "            else:                \n",
    "                # Calculate value using\n",
    "                # previously stored values\n",
    "                c[i][j]=c[i-1][j]+c[i-1][j-1]       #bin_coeff(n-1,k)+bin_coeff(n-1,k-1)\n",
    "            \n",
    "    return c[n][k]\n",
    "\n",
    "print(bin_coeff_dp(5,2))"
   ]
  },
  {
   "cell_type": "code",
   "execution_count": 7,
   "id": "d7fb74dc",
   "metadata": {},
   "outputs": [
    {
     "name": "stdout",
     "output_type": "stream",
     "text": [
      "720\n"
     ]
    }
   ],
   "source": [
    "#permutation coefficient\n",
    "def perm_coef_rec(n,k):\n",
    "    if k>n:\n",
    "        return 0\n",
    "    if k==0:\n",
    "        return 1\n",
    "    \n",
    "    return perm_coef_rec(n-1,k)+k*(perm_coef_rec(n-1,k-1))\n",
    "\n",
    "print(perm_coef_rec(10,3))"
   ]
  },
  {
   "cell_type": "code",
   "execution_count": 10,
   "id": "3769c8b1",
   "metadata": {},
   "outputs": [
    {
     "name": "stdout",
     "output_type": "stream",
     "text": [
      "720\n"
     ]
    }
   ],
   "source": [
    "def perm_coef_dp(n,k):\n",
    "    arr=[[0 for _ in range (k+1)]for _ in range(n+1)]\n",
    "    \n",
    "    for i in range(n+1):\n",
    "        for j in range(min(i,k)+1):\n",
    "            if j>i:\n",
    "                arr[i][j]= 0\n",
    "            elif j==0:\n",
    "                arr[i][j]= 1\n",
    "            else:\n",
    "                arr[i][j]= arr[i-1][j]+(j*(arr[i-1][j-1]))\n",
    "    return arr[n][k]\n",
    "\n",
    "print(perm_coef_dp(10,3))"
   ]
  },
  {
   "cell_type": "code",
   "execution_count": 11,
   "id": "578c3e5f",
   "metadata": {},
   "outputs": [
    {
     "name": "stdout",
     "output_type": "stream",
     "text": [
      "90\n"
     ]
    }
   ],
   "source": [
    "#linear time complexity and less space\n",
    "def perm_dp(n,k):\n",
    "    f=1\n",
    "    \n",
    "    for i in range(k):\n",
    "        f*=(n-i)\n",
    "        \n",
    "    return f\n",
    "\n",
    "n=10\n",
    "k=2\n",
    "print(perm_dp(n,k))"
   ]
  },
  {
   "cell_type": "code",
   "execution_count": 12,
   "id": "11ead18d",
   "metadata": {},
   "outputs": [],
   "source": [
    "#using extra space and linear time complexity\n"
   ]
  },
  {
   "cell_type": "code",
   "execution_count": 2,
   "id": "6a7b6f4d",
   "metadata": {},
   "outputs": [
    {
     "name": "stdout",
     "output_type": "stream",
     "text": [
      "5\n"
     ]
    }
   ],
   "source": [
    "#Date 09/26/22\n",
    "#Tiling Problem for 2 x n board and tiles of size size 2 x 1\n",
    "def tiling_rec(n):\n",
    "    #base:\n",
    "    if n==1:\n",
    "        return 1\n",
    "    if n==2:\n",
    "        return 2\n",
    "    return tiling_rec(n-1)+tiling_rec(n-2)\n",
    "\n",
    "print(tiling_rec(4))\n"
   ]
  },
  {
   "cell_type": "code",
   "execution_count": 11,
   "id": "e1ad508c",
   "metadata": {},
   "outputs": [
    {
     "data": {
      "text/plain": [
       "5"
      ]
     },
     "execution_count": 11,
     "metadata": {},
     "output_type": "execute_result"
    }
   ],
   "source": [
    "##Tiling Problem for 2 x n board and tiles of size size 2 x 1\n",
    "\n",
    "def tiling_dp(n):\n",
    "    arr=[0]*(n)\n",
    "    \n",
    "    for i in range(n):\n",
    "        if i==0:\n",
    "            arr[i]=1\n",
    "        elif i==1:\n",
    "            arr[i]=2\n",
    "        else:\n",
    "            arr[i]=arr[i-1]+arr[i-2]\n",
    "            \n",
    "    return arr[n-1]\n",
    "\n",
    "tiling_dp(4)"
   ]
  },
  {
   "cell_type": "code",
   "execution_count": 17,
   "id": "d12c4ab7",
   "metadata": {},
   "outputs": [
    {
     "name": "stdout",
     "output_type": "stream",
     "text": [
      "16\n"
     ]
    }
   ],
   "source": [
    "#Gold Mine Problem\n",
    "#can move only right, right digonal upward, right diagonal downward\n",
    "\n",
    "def gold_mine_rec(gold,x_idx,y_idx,end_m,end_n):   #this function works individually for each row\n",
    "    #base condition\n",
    "    if ((x_idx<0 or x_idx==end_m or y_idx==end_n)):\n",
    "        return 0\n",
    "    \n",
    "    # Right upper diagonal\n",
    "    right_up_diagonal=gold_mine_rec(gold,x_idx-1,y_idx+1,end_m,end_n)\n",
    "    \n",
    "    # right lower diagonal\n",
    "    right_down_diagonal=gold_mine_rec(gold,x_idx+1,y_idx+1,end_m,end_n)\n",
    "    \n",
    "    #toward right \n",
    "    right=gold_mine_rec(gold,x_idx,y_idx+1,end_m,end_n)\n",
    "    \n",
    "    # Return the maximum and store the value\n",
    "    return gold[x_idx][y_idx]+max(max(right_up_diagonal,right_down_diagonal), right)\n",
    "\n",
    "def getMaxGold(gold,m,n): \n",
    "    maxGold = 0\n",
    " \n",
    "    for i in range(m): \n",
    "        # Recursive function call for  ith row.\n",
    "        goldCollected = gold_mine_rec(gold, i, 0, m, n)\n",
    "        maxGold = max(maxGold, goldCollected)\n",
    " \n",
    "    return maxGold\n",
    "\n",
    "gold = [[1, 3, 1, 5],\n",
    "        [2, 2, 4, 1],\n",
    "        [5, 0, 2, 3],\n",
    "        [0, 6, 1, 2]\n",
    "]\n",
    " \n",
    "m,n = 4,4\n",
    "print(getMaxGold(gold, m, n))"
   ]
  },
  {
   "cell_type": "code",
   "execution_count": 68,
   "id": "5789a033",
   "metadata": {},
   "outputs": [
    {
     "name": "stdout",
     "output_type": "stream",
     "text": [
      "16\n"
     ]
    }
   ],
   "source": [
    "#Gold Mine Problem\n",
    "#dimensions mXn\n",
    "#can move only right, right digonal upward, right diagonal downwar\n",
    "\n",
    "#backward storage method. try with forward storage\n",
    "\n",
    "def gold_mine_dp(gold,m,n):\n",
    "    \n",
    "    gold_table=[[0 for _ in range(n)]for _ in range(m)]  #initialize arr to store intermediate results\n",
    "    \n",
    "    for col in range(n-1,-1,-1):\n",
    "        #print(n)\n",
    "        for row in range(m):\n",
    "           # print(m)\n",
    "            if col==n-1:\n",
    "                right=0\n",
    "            else:\n",
    "                right=gold_table[row][col+1]\n",
    "                \n",
    "            if (row==0 or col==n-1):\n",
    "                right_up=0\n",
    "            else:\n",
    "                right_up=gold_table[row-1][col+1]\n",
    "                \n",
    "            if (row==m-1 or col==n-1):\n",
    "                right_down=0\n",
    "            else:\n",
    "                right_down = gold_table[row+1][col+1]\n",
    "                               \n",
    "            gold_table[row][col] = gold[row][col] + max(right, right_up, right_down)\n",
    "            #print(gold_table)\n",
    "            \n",
    "    res = gold_table[0][0]\n",
    "    for i in range(1, m):\n",
    "        res = max(res, gold_table[i][0])\n",
    " \n",
    "    return res\n",
    "gold = [[1, 3, 1, 5],\n",
    "        [2, 2, 4, 1],\n",
    "        [5, 0, 2, 3],\n",
    "        [0, 6, 1, 2]]\n",
    " \n",
    "m = 4\n",
    "n = 4\n",
    " \n",
    "print(gold_mine_dp(gold, m, n))"
   ]
  },
  {
   "cell_type": "code",
   "execution_count": 69,
   "id": "6bbb3578",
   "metadata": {},
   "outputs": [
    {
     "name": "stdout",
     "output_type": "stream",
     "text": [
      "16\n"
     ]
    }
   ],
   "source": [
    "def getMaxGold(gold, m, n):\n",
    " \n",
    "    # Create a table for storing\n",
    "    # intermediate results\n",
    "    # and initialize all cells to 0.\n",
    "    # The first row of\n",
    "    # goldMineTable gives the\n",
    "    # maximum gold that the miner\n",
    "    # can collect when starts that row\n",
    "    goldTable = [[0 for i in range(2)]\n",
    "                        for j in range(m)]\n",
    " \n",
    "    for col in range(n-1, -1, -1):\n",
    "       # print(col)\n",
    "        for row in range(m):\n",
    " \n",
    "            # Gold collected on going to\n",
    "            # the cell on the right(->)\n",
    "            if (col == n-1):\n",
    "                right = 0\n",
    "            else:\n",
    "                right = goldTable[row][(col+1)%2]\n",
    " \n",
    "            # Gold collected on going to\n",
    "            # the cell to right up (/)\n",
    "            if (row == 0 or col == n-1):\n",
    "                right_up = 0\n",
    "            else:\n",
    "                right_up = goldTable[row-1][(col+1)%2]\n",
    " \n",
    "            # Gold collected on going to\n",
    "            # the cell to right down (\\)\n",
    "            if (row == m-1 or col == n-1):\n",
    "                right_down = 0\n",
    "            else:\n",
    "                right_down = goldTable[row+1][(col+1)%2]\n",
    " \n",
    "            # Max gold collected from taking\n",
    "            # either of the above 3 paths\n",
    "            goldTable[row][col%2] = gold[row][col] + max(right, right_up, right_down)\n",
    "           # print(goldTable)                                                 \n",
    "    # The max amount of gold\n",
    "    # collected will be the max\n",
    "    # value in first column of all rows\n",
    "    res = goldTable[0][0]\n",
    "    for i in range(1, m):\n",
    "        res = max(res, goldTable[i][0])\n",
    " \n",
    "    return res\n",
    "     \n",
    "# Driver code\n",
    "gold = [[1, 3, 1, 5],\n",
    "        [2, 2, 4, 1],\n",
    "        [5, 0, 2, 3],\n",
    "        [0, 6, 1, 2]]\n",
    " \n",
    "m = 4\n",
    "n = 4\n",
    " \n",
    "print(getMaxGold(gold, m, n))\n",
    " "
   ]
  },
  {
   "cell_type": "code",
   "execution_count": null,
   "id": "c866aa80",
   "metadata": {},
   "outputs": [],
   "source": []
  },
  {
   "cell_type": "code",
   "execution_count": null,
   "id": "876e277a",
   "metadata": {},
   "outputs": [],
   "source": []
  }
 ],
 "metadata": {
  "kernelspec": {
   "display_name": "Python 3 (ipykernel)",
   "language": "python",
   "name": "python3"
  },
  "language_info": {
   "codemirror_mode": {
    "name": "ipython",
    "version": 3
   },
   "file_extension": ".py",
   "mimetype": "text/x-python",
   "name": "python",
   "nbconvert_exporter": "python",
   "pygments_lexer": "ipython3",
   "version": "3.9.7"
  }
 },
 "nbformat": 4,
 "nbformat_minor": 5
}
