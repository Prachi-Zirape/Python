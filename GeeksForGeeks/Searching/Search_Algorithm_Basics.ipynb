{
 "cells": [
  {
   "cell_type": "code",
   "execution_count": 4,
   "id": "9986e02d",
   "metadata": {},
   "outputs": [
    {
     "name": "stdout",
     "output_type": "stream",
     "text": [
      "Element not in arr\n"
     ]
    }
   ],
   "source": [
    "#Date 09/13/22\n",
    "#Linear-Itrative\n",
    "arr= [10, 20, 80, 30, 60, 50,110, 100, 130, 170]\n",
    "x = 1110\n",
    "\n",
    "for i in arr:\n",
    "    if i==x:\n",
    "        print(arr.index(x))\n",
    "        break\n",
    "    elif i==arr[-1] and i!=x:\n",
    "        print(\"Element not in arr\")"
   ]
  },
  {
   "cell_type": "code",
   "execution_count": 7,
   "id": "7f5e4829",
   "metadata": {},
   "outputs": [
    {
     "data": {
      "text/plain": [
       "6"
      ]
     },
     "execution_count": 7,
     "metadata": {},
     "output_type": "execute_result"
    }
   ],
   "source": [
    "#Linear-Recursive\n",
    "arr= [10, 20, 80, 30, 60, 50,110, 100, 130, 170]\n",
    "x = 110\n",
    "arr_size=len(arr)-1\n",
    "\n",
    "def rec_linear(arr,x,arr_size):\n",
    "    if arr_size==0:\n",
    "        return -1\n",
    "    elif arr_size==1 and arr[0]!=x:\n",
    "        return -1\n",
    "    elif arr[arr_size]==x:\n",
    "        return arr_size\n",
    "    else:\n",
    "        return rec_linear(arr,x,arr_size-1)\n",
    "rec_linear(arr,x,arr_size)"
   ]
  },
  {
   "cell_type": "code",
   "execution_count": 27,
   "id": "702b08c5",
   "metadata": {},
   "outputs": [
    {
     "name": "stdout",
     "output_type": "stream",
     "text": [
      "Found At Index 2\n"
     ]
    }
   ],
   "source": [
    "#Date 09/16/22\n",
    "#Binary-Iterative\n",
    "def bin_search(arr,x):\n",
    "    high=len(arr)-1\n",
    "    low=0\n",
    "    \n",
    "    while (high-low>1):  #where high always right to low\n",
    "        \n",
    "        mid=(low+high)//2\n",
    "        #print(high,low)\n",
    "        \n",
    "        if arr[mid]<x:\n",
    "            low=mid+1\n",
    "           # print(\"l\",mid,low)\n",
    "            \n",
    "        else:           #else if condition would not work\n",
    "            high=mid\n",
    "            #print(\"h\",mid,high)        \n",
    "    \n",
    "    if arr[low] == x:\n",
    "        print(\"Found At Index\", low)\n",
    "    elif arr[high] == x:\n",
    "        print(\"Found At Index\", high)\n",
    "    else:\n",
    "        print(\"Not Found\")\n",
    "\n",
    "x=4\n",
    "arr=[1, 3, 4, 5, 6, 7, 8, 9, 10]\n",
    "(bin_search(arr,x))"
   ]
  },
  {
   "cell_type": "code",
   "execution_count": 13,
   "id": "48a1b959",
   "metadata": {},
   "outputs": [
    {
     "name": "stdout",
     "output_type": "stream",
     "text": [
      "-1\n"
     ]
    }
   ],
   "source": [
    "def rec_binary(arr,x,low,high):\n",
    "    \n",
    "    #base case2\n",
    "    if  high>=low:\n",
    "        \n",
    "       # mid=low + (high-low) //2\n",
    "        mid=(low + high) //2\n",
    "       # print(mid)\n",
    "        \n",
    "        if arr[mid]==x:\n",
    "            return mid\n",
    "        \n",
    "        # If x is smaller, x is in left subarray\n",
    "        elif arr[mid]>x:\n",
    "            #print(\"1::\",low,high)\n",
    "            return rec_binary(arr,x,low,mid-1)\n",
    "        \n",
    "        # If x is larger, x is in right subarray\n",
    "        else:\n",
    "            #print(\"2::\",low,high)\n",
    "            return rec_binary(arr,x,mid+1,high)\n",
    "        \n",
    "    else:\n",
    "        return -1\n",
    "\n",
    "x=90\n",
    "arr=[2, 3, 4, 5, 6, 7, 8, 9, 10]\n",
    "low=0\n",
    "high=len(arr)-1\n",
    "print(rec_binary(arr,x,low,high))   "
   ]
  },
  {
   "cell_type": "code",
   "execution_count": 15,
   "id": "3c3d4dc1",
   "metadata": {},
   "outputs": [
    {
     "name": "stdout",
     "output_type": "stream",
     "text": [
      "10.0\n"
     ]
    }
   ],
   "source": [
    "#Jump Search\n",
    "import math\n",
    "def jumpSearch(arr,x,n):\n",
    "    step=math.sqrt(n)\n",
    "    \n",
    "    prev=0\n",
    "    # Finding the block where element is\n",
    "    # present (if it is present)\n",
    "    #binary search block\n",
    "    while arr[int(min(step,n)-1)]<x:\n",
    "        prev=step\n",
    "        step+=math.sqrt(n)   #steps increased by block\n",
    "        if prev>=n:\n",
    "            return -1\n",
    "        \n",
    "    #linear search block\n",
    "    while arr[int(prev)]<x:\n",
    "        prev+=1\n",
    "        \n",
    "        # If we reached next block or end\n",
    "        # of array, element is not present.\n",
    "        if prev==min(step,n):\n",
    "            return -1\n",
    "        \n",
    "    if arr[int(prev)]==x:\n",
    "        return prev\n",
    "        \n",
    "    return -1\n",
    "\n",
    "arr = [ 0, 1, 1, 2, 3, 5, 8, 13, 21,\n",
    "    34, 55, 89, 144, 233, 377, 610 ]\n",
    "x = 55\n",
    "n = len(arr)\n",
    " \n",
    "# Find the index of 'x' using Jump Search\n",
    "index = jumpSearch(arr, x, n)\n",
    "        \n",
    "print(index)"
   ]
  },
  {
   "cell_type": "code",
   "execution_count": 4,
   "id": "40b5ea6e",
   "metadata": {},
   "outputs": [
    {
     "name": "stdout",
     "output_type": "stream",
     "text": [
      "Element found at index 4\n"
     ]
    }
   ],
   "source": [
    "#Date-09/17/22\n",
    "#interpolation Search\n",
    "def interpolation_search(arr,lo,hi,x):\n",
    "    if (lo<=hi and x>=arr[lo] and x<=arr[hi]):\n",
    "        pos=lo+((hi-lo)//(arr[hi]-arr[lo])*(x-arr[lo]))\n",
    "        \n",
    "        if arr[pos]==x:\n",
    "            return pos\n",
    "        \n",
    "         # If x is larger, x is in right subarray\n",
    "        if arr[pos]<x:\n",
    "            return interpolation_search(arr,pos+1,hi,x)\n",
    "        \n",
    "        # If x is smaller, x is in left subarray\n",
    "        if arr[pos]>x:\n",
    "            return interpolation_search(arr,lo,pos-1,x)\n",
    "    return -1\n",
    "\n",
    "# Array of items in which\n",
    "# search will be conducted\n",
    "arr = [10, 12, 13, 16, 18, 19, 20,\n",
    "       21, 22, 23, 24, 33, 35, 42, 47]\n",
    "n = len(arr)\n",
    "  \n",
    "# Element to be searched\n",
    "x = 18\n",
    "index = interpolation_search(arr, 0, n - 1, x)\n",
    "  \n",
    "if index != -1:\n",
    "    print(\"Element found at index\", index)\n",
    "else:\n",
    "    print(\"Element not found\")"
   ]
  },
  {
   "cell_type": "code",
   "execution_count": 10,
   "id": "8131a4d3",
   "metadata": {},
   "outputs": [
    {
     "name": "stdout",
     "output_type": "stream",
     "text": [
      "Element is present at index 7\n"
     ]
    }
   ],
   "source": [
    "#Exponential Search\n",
    "\n",
    "#binary Search\n",
    "def rec_bin(arr,lo,hi,x):\n",
    "    if(hi>=lo):    #we dont need while as we are recusing the pgm\n",
    "        #value of middle \n",
    "        mid=(lo+hi)//2\n",
    "        \n",
    "        if arr[mid]==x:\n",
    "            return mid\n",
    "        #x is smaller and lies in left side of arr\n",
    "        elif arr[mid]>x:\n",
    "            return rec_bin(arr,lo,mid-1,x)\n",
    "        \n",
    "        #x is larger and lies in right side of arr\n",
    "        else:\n",
    "            return rec_bin(arr,mid+1,hi,x)\n",
    "    return -1\n",
    "\n",
    "#Expoenential search\n",
    "def exponential_search(arr,n,x):\n",
    "    # IF x is present at first \n",
    "    # location itself\n",
    "    if arr[0]==x:\n",
    "        return 0\n",
    "    \n",
    "    # Find range for binary search \n",
    "    # j by repeated doubling\n",
    "    i=1\n",
    "    while i<=n and arr[i]<=x:\n",
    "        #print(i)\n",
    "        i=i*2\n",
    "        \n",
    "    # Call binary search for the found range\n",
    "    return rec_bin(arr,i//2,min(i,n-1),x)\n",
    "\n",
    "# Driver Code\n",
    "arr = [2, 3, 4, 10, 40,50,60,70,80]\n",
    "n = len(arr)\n",
    "x = 70\n",
    "result = exponential_search(arr, n, x)\n",
    "if result == -1:\n",
    "    print (\"Element not found in the array\")\n",
    "else:\n",
    "    print (\"Element is present at index %d\" %(result))"
   ]
  },
  {
   "cell_type": "code",
   "execution_count": 11,
   "id": "76f5645c",
   "metadata": {},
   "outputs": [],
   "source": [
    "#Fibonacci Search\n"
   ]
  },
  {
   "cell_type": "code",
   "execution_count": 16,
   "id": "c8e9d414",
   "metadata": {},
   "outputs": [
    {
     "name": "stdout",
     "output_type": "stream",
     "text": [
      "8\n"
     ]
    }
   ],
   "source": [
    "#Recursive program to linearly search an element in a given array\n",
    "def rec_lin(arr,x,idx):\n",
    "    if arr[idx]==x:\n",
    "        return idx\n",
    "    elif idx==len(arr)-1:\n",
    "        return -1\n",
    "    else:\n",
    "        return rec_lin(arr,x,idx+1)\n",
    "    return -1\n",
    "arr = [2, 3, 4, 10, 40,50,60,70,80]\n",
    "x=80\n",
    "idx=0\n",
    "print(rec_lin(arr,x,idx))"
   ]
  },
  {
   "cell_type": "code",
   "execution_count": 19,
   "id": "56d88820",
   "metadata": {},
   "outputs": [
    {
     "name": "stdout",
     "output_type": "stream",
     "text": [
      "Element 3 is present at index 4\n"
     ]
    }
   ],
   "source": [
    "#Recursive program to linearly search an element in a given array\n",
    "def rec_lin_search(arr,low,high,x):\n",
    "    if high<low:\n",
    "        return -1\n",
    "    if arr[low]==x:\n",
    "        return l\n",
    "    if arr[high]==x:\n",
    "        return high\n",
    "    return rec_lin_search(arr,low+1,high-1,x)\n",
    "arr = [12, 34, 54, 2, 3]\n",
    "n = len(arr)\n",
    "x = 3\n",
    "index = rec_lin_search(arr, 0, n-1, x)\n",
    "if index != -1:\n",
    "    print (\"Element\", x,\"is present at index %d\" %(index))\n",
    "else:\n",
    "    print (\"Element %d is not present\" %(x))"
   ]
  },
  {
   "cell_type": "code",
   "execution_count": 21,
   "id": "1a6b1d50",
   "metadata": {},
   "outputs": [
    {
     "name": "stdout",
     "output_type": "stream",
     "text": [
      "3\n"
     ]
    }
   ],
   "source": [
    "#Recursive function to do substring search\n",
    "text=\"THIS IS A TEST TEXT\"\n",
    "sub_str=\"TEST\"\n",
    "\n",
    "#Thoughts---As this string is not sorted we have to go with linear search\n",
    "\n",
    "def rec_str_search(txt,sub,low,high):\n",
    "    if high<low:\n",
    "        return -1\n",
    "    if txt[low]==sub:\n",
    "        return low\n",
    "    if txt[high]==sub:\n",
    "        return high\n",
    "    return rec_str_search(txt,sub,low+1,high-1)\n",
    "\n",
    "txt=text.split()\n",
    "sub=sub_str\n",
    "low=0\n",
    "high=len(txt)-1\n",
    "print(rec_str_search(txt,sub,low,high))"
   ]
  },
  {
   "cell_type": "code",
   "execution_count": 22,
   "id": "5d45d4da",
   "metadata": {},
   "outputs": [],
   "source": [
    "#https://www.geeksforgeeks.org/recursive-function-to-do-substring-search/"
   ]
  },
  {
   "cell_type": "code",
   "execution_count": null,
   "id": "68d43e24",
   "metadata": {},
   "outputs": [],
   "source": [
    "#Unbounded Binary Search"
   ]
  }
 ],
 "metadata": {
  "kernelspec": {
   "display_name": "Python 3 (ipykernel)",
   "language": "python",
   "name": "python3"
  },
  "language_info": {
   "codemirror_mode": {
    "name": "ipython",
    "version": 3
   },
   "file_extension": ".py",
   "mimetype": "text/x-python",
   "name": "python",
   "nbconvert_exporter": "python",
   "pygments_lexer": "ipython3",
   "version": "3.9.7"
  }
 },
 "nbformat": 4,
 "nbformat_minor": 5
}
