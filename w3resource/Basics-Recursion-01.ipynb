{
 "cells": [
  {
   "cell_type": "code",
   "execution_count": 17,
   "id": "379b8e36",
   "metadata": {},
   "outputs": [
    {
     "name": "stdout",
     "output_type": "stream",
     "text": [
      "24\n"
     ]
    }
   ],
   "source": [
    "#Date-08/04/22\n",
    "#https://www.geeksforgeeks.org/tail-recursion/\n",
    "#https://www.geeksforgeeks.org/recursion/#:~:text=The%20process%20in%20which%20a,%20can%20be%20solved%20quite%20easily.\n",
    "\n",
    "#1-calculate the sum of a list of numbers\n",
    "def list_sum(num_List):\n",
    "    if len(num_List) == 1:\n",
    "        return num_List[0]\n",
    "    else:  \n",
    "        #print(len(num_List),num_List[0])\n",
    "        return num_List[0] + list_sum(num_List[1:]) #list[0] changes to every length \n",
    "        \n",
    "print(list_sum([2, 4, 5, 6, 7]))"
   ]
  },
  {
   "cell_type": "code",
   "execution_count": 23,
   "id": "a8491166",
   "metadata": {},
   "outputs": [
    {
     "name": "stdout",
     "output_type": "stream",
     "text": [
      "B13\n"
     ]
    }
   ],
   "source": [
    "#2-converting an Integer to a string in any base\n",
    "def to_str(n,base):\n",
    "    convert_str=\"0123456789ABCDEF\" #hexadecimal all numbers\n",
    "    if n<base:\n",
    "        return convert_str[n]\n",
    "    else:\n",
    "        return to_str(n//base,base)+convert_str[n%base]\n",
    "print(to_str(2835,16))"
   ]
  },
  {
   "cell_type": "code",
   "execution_count": 2,
   "id": "0be40326",
   "metadata": {},
   "outputs": [
    {
     "name": "stdout",
     "output_type": "stream",
     "text": [
      "21\n"
     ]
    }
   ],
   "source": [
    "#Date 8/5/22\n",
    "#3-program of recursion list sum\n",
    "l= [1, 2, [3,4], [5,6]]\n",
    "def sum_lst(lst):\n",
    "    total=0\n",
    "    for el in lst:\n",
    "        if type(el)==list:\n",
    "            total=total+sum_lst(el)\n",
    "        else:\n",
    "            total=total+el\n",
    "    return total\n",
    "print(sum_lst(l))\n",
    "    "
   ]
  },
  {
   "cell_type": "code",
   "execution_count": 4,
   "id": "54c1340b",
   "metadata": {},
   "outputs": [
    {
     "name": "stdout",
     "output_type": "stream",
     "text": [
      "120\n"
     ]
    }
   ],
   "source": [
    "#4-factorial of a non-negative integer\n",
    "def fact_rec(n):\n",
    "    if n==1 or n==0:\n",
    "        return 1\n",
    "    else:\n",
    "        return n*fact_rec(n-1)\n",
    "print(fact_rec(5))"
   ]
  },
  {
   "cell_type": "code",
   "execution_count": 3,
   "id": "0209546d",
   "metadata": {},
   "outputs": [
    {
     "name": "stdout",
     "output_type": "stream",
     "text": [
      "13\n"
     ]
    }
   ],
   "source": [
    "#5-Fibonacci sequence using recursion\n",
    "def fib_rec(n):\n",
    "    if n==1 or n==2:\n",
    "        return 1\n",
    "    else:\n",
    "        return fib_rec(n-1)+fib_rec(n-2)\n",
    "print(fib_rec(7))"
   ]
  },
  {
   "cell_type": "code",
   "execution_count": 5,
   "id": "900cf369",
   "metadata": {},
   "outputs": [
    {
     "name": "stdout",
     "output_type": "stream",
     "text": [
      "34\n"
     ]
    }
   ],
   "source": [
    "#tail recursion\n",
    "def fib(n,a=0,b=1):\n",
    "    if n==0:\n",
    "        return a\n",
    "    elif n==1:\n",
    "        return b\n",
    "    else:\n",
    "        return fib(n-1,b,a+b)\n",
    "print(fib(9))"
   ]
  },
  {
   "cell_type": "code",
   "execution_count": 8,
   "id": "f7cb1479",
   "metadata": {},
   "outputs": [
    {
     "name": "stdout",
     "output_type": "stream",
     "text": [
      "9\n"
     ]
    }
   ],
   "source": [
    "#6-sum of a non-negative integer.\n",
    "#sumDigits(345) -> 12  or sumDigits(45) -> 9\n",
    "def sum_dig(n):\n",
    "    if n==0:\n",
    "        return 0\n",
    "    else:\n",
    "        return(n%10+sum_dig(n//10))\n",
    "print(sum_dig(45))"
   ]
  },
  {
   "cell_type": "code",
   "execution_count": 3,
   "id": "411653df",
   "metadata": {},
   "outputs": [
    {
     "name": "stdout",
     "output_type": "stream",
     "text": [
      "36\n"
     ]
    }
   ],
   "source": [
    "#7-calculate the sum of the positive integers of n+(n-2)+(n-4)... (until n-x =< 0)\n",
    "#sum_series(6) -> 12  or sum_series(10) -> 30\n",
    "def sum_series(n):\n",
    "    if n==0:\n",
    "        return 0\n",
    "    elif n==1:\n",
    "        return 1\n",
    "    else:\n",
    "        return n+sum_series(n-2)\n",
    "print(sum_series(11))"
   ]
  },
  {
   "cell_type": "code",
   "execution_count": 5,
   "id": "7d90b212",
   "metadata": {},
   "outputs": [
    {
     "name": "stdout",
     "output_type": "stream",
     "text": [
      "2.5928571428571425\n"
     ]
    }
   ],
   "source": [
    "#8-calculate the harmonic sum of n-1\n",
    "def harmnic_sum(n):\n",
    "    if n==1:\n",
    "        return 1\n",
    "    else:\n",
    "        return (1/n)+harmnic_sum(n-1)\n",
    "print(harmnic_sum(7))"
   ]
  },
  {
   "cell_type": "code",
   "execution_count": 7,
   "id": "f5ab476e",
   "metadata": {},
   "outputs": [
    {
     "name": "stdout",
     "output_type": "stream",
     "text": [
      "1.4979423868312758\n"
     ]
    }
   ],
   "source": [
    "#9-calculate the geometric sum of n-1\n",
    "#question-what would be the base numebr?\n",
    "def geo_sum(n):\n",
    "    if n == 0:\n",
    "        return 1\n",
    "\n",
    "    return 1 / pow(3, n) + geo_sum(n-1)\n",
    "print(geo_sum(5))"
   ]
  },
  {
   "cell_type": "code",
   "execution_count": 9,
   "id": "342aab5a",
   "metadata": {},
   "outputs": [
    {
     "name": "stdout",
     "output_type": "stream",
     "text": [
      "1\n"
     ]
    }
   ],
   "source": [
    "#10- calculate the value of 'a' to the power 'b'\n",
    "#(power(3,4) -> 81\n",
    "def pow_val(base,index):\n",
    "    if index==1:\n",
    "        return base\n",
    "    else:\n",
    "        return base*pow_val(base,index-1)\n",
    "print(pow_val(1,4))"
   ]
  },
  {
   "cell_type": "code",
   "execution_count": 16,
   "id": "66dcb9e5",
   "metadata": {},
   "outputs": [
    {
     "name": "stdout",
     "output_type": "stream",
     "text": [
      "6\n"
     ]
    }
   ],
   "source": [
    "#11-find  the greatest common divisor (gcd) of two integers\n",
    "#5,25-->5  or 8,12-->4\n",
    "def gcd_val(a,b):\n",
    "    if b==0:\n",
    "        return a\n",
    "    return gcd_val(b,a%b)    \n",
    "print(gcd_val(18,12))"
   ]
  },
  {
   "cell_type": "code",
   "execution_count": null,
   "id": "3067e01c",
   "metadata": {},
   "outputs": [],
   "source": []
  }
 ],
 "metadata": {
  "kernelspec": {
   "display_name": "Python 3 (ipykernel)",
   "language": "python",
   "name": "python3"
  },
  "language_info": {
   "codemirror_mode": {
    "name": "ipython",
    "version": 3
   },
   "file_extension": ".py",
   "mimetype": "text/x-python",
   "name": "python",
   "nbconvert_exporter": "python",
   "pygments_lexer": "ipython3",
   "version": "3.9.7"
  }
 },
 "nbformat": 4,
 "nbformat_minor": 5
}
