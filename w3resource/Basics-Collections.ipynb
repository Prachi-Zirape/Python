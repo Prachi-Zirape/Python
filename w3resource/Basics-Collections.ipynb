{
 "cells": [
  {
   "cell_type": "code",
   "execution_count": 7,
   "id": "fc1189d5",
   "metadata": {},
   "outputs": [
    {
     "name": "stdout",
     "output_type": "stream",
     "text": [
      "['p', 'p', 'p', 'r', 'r', 'r', 'r']\n",
      "Counter({'r': 4, 'p': 3, 'x': 0, 'q': -1})\n"
     ]
    }
   ],
   "source": [
    "#Date-8/16/22\n",
    "#1-program that iterate over elements repeating each as many times as its count\n",
    "from collections import Counter\n",
    "c=Counter(p=3,r=4,q=-1,x=0)\n",
    "print(list(c.elements()))\n",
    "print(c)"
   ]
  },
  {
   "cell_type": "code",
   "execution_count": 14,
   "id": "749b8642",
   "metadata": {},
   "outputs": [
    {
     "name": "stdout",
     "output_type": "stream",
     "text": [
      "[(('s', 4), 1), (('e', 3), 1)]\n",
      "[('s', 4), ('e', 3), ('f', 3)]\n"
     ]
    }
   ],
   "source": [
    "#2-find the most common elements and their counts of a specified text.\n",
    "from collections import Counter\n",
    "l=[('s', 4), ('e', 3), ('f', 5)]\n",
    "print(Counter(l).most_common(2))\n",
    "\n",
    "s = 'lkseropewdssafsdfafkpwe'\n",
    "print(Counter(s).most_common(3))"
   ]
  },
  {
   "cell_type": "code",
   "execution_count": 15,
   "id": "3db8490c",
   "metadata": {},
   "outputs": [
    {
     "name": "stdout",
     "output_type": "stream",
     "text": [
      "a\n",
      "e\n",
      "i\n",
      "o\n",
      "u\n"
     ]
    }
   ],
   "source": [
    "#3-create a new deque with three items and iterate over the deque's elements\n",
    "from collections import deque\n",
    "dq=deque('aeiou')\n",
    "for element in dq:\n",
    "    print(element)"
   ]
  },
  {
   "cell_type": "code",
   "execution_count": 21,
   "id": "7e80ecd4",
   "metadata": {},
   "outputs": [
    {
     "name": "stdout",
     "output_type": "stream",
     "text": [
      "[('Python', 6), ('the', 6), ('and', 5), ('We', 2), ('with', 2), ('The', 1), ('Software', 1), ('Foundation', 1), ('PSF', 1), ('is', 1)]\n"
     ]
    }
   ],
   "source": [
    "#4-find the occurrences of 10 most common words in a given text.\n",
    "from collections import Counter\n",
    "import re\n",
    "txt=\"\"\"The Python Software Foundation (PSF) is a 501(c)(3) non-profit \n",
    "corporation that holds the intellectual property rights behind\n",
    "the Python programming language. We manage the open source licensing \n",
    "for Python version 2.1 and later and own and protect the trademarks \n",
    "associated with Python. We also run the North American PyCon conference \n",
    "annually, support other Python conferences around the world, and \n",
    "fund Python related development with our grants program and by funding \n",
    "special projects.\"\"\"\n",
    "words=re.findall('\\w+',txt)\n",
    "print(Counter(words).most_common(10))"
   ]
  },
  {
   "cell_type": "code",
   "execution_count": 25,
   "id": "ba24bcef",
   "metadata": {},
   "outputs": [
    {
     "name": "stdout",
     "output_type": "stream",
     "text": [
      "input number of words: 3\n",
      "input the words: \n",
      "Yellow\n",
      "Green\n",
      "Red\n",
      "3\n",
      "1 1 1 "
     ]
    }
   ],
   "source": [
    "#5-accept some words and count the number of distinct words. Print the number of distinct words and number \n",
    "#of occurrences for each distinct word according to their appearance\n",
    "\n",
    "from collections import Counter,OrderedDict\n",
    "class OrderedCounter(Counter, OrderedDict):\n",
    "    pass\n",
    "word_arr=[]\n",
    "n=int(input(\"input number of words: \"))\n",
    "print(\"input the words: \")\n",
    "for i in range(n):\n",
    "    word_arr.append(input().strip())\n",
    "word_ctr=OrderedCounter(word_arr)\n",
    "print(len(word_ctr))\n",
    "for word in word_ctr:\n",
    "    print(word_ctr[word],end=\" \")"
   ]
  },
  {
   "cell_type": "code",
   "execution_count": 28,
   "id": "2a258303",
   "metadata": {},
   "outputs": [
    {
     "name": "stdout",
     "output_type": "stream",
     "text": [
      "Number of subjects: 2\n",
      "input sub name and marks: chem 30\n",
      "input sub name and marks: phys 40\n",
      "['chem ', 'phys ']\n",
      "chem 30\n",
      "phys 40\n"
     ]
    }
   ],
   "source": [
    "#6- accepts number of subjects, subject names and marks. \n",
    "#Input number of subjects and then subject name, marks separated by a space \n",
    "#in next line. Print subject name and marks in order of its first occurrence\n",
    "\n",
    "import collections,re\n",
    "n=int(input(\"Number of subjects: \"))\n",
    "\n",
    "item_order=collections.OrderedDict()\n",
    "\n",
    "for i in range(n):\n",
    "    sub_mark_lst=re.split(r'(\\d+)$',input(\"input sub name and marks: \").strip())\n",
    "    \n",
    "    sub_name=sub_mark_lst[0]\n",
    "    sub_mark=int(sub_mark_lst[1])\n",
    "    \n",
    "    if sub_name not in item_order:\n",
    "        item_order[sub_name]=sub_mark\n",
    "    else:\n",
    "        item_order[sub_name]=item_order[sub_name]+sub_mark\n",
    "print(list(item_order))      \n",
    "for i in item_order:\n",
    "    print(i+str(item_order[i]))"
   ]
  },
  {
   "cell_type": "code",
   "execution_count": 38,
   "id": "03fa225f",
   "metadata": {},
   "outputs": [
    {
     "name": "stdout",
     "output_type": "stream",
     "text": [
      "deque(['Red', 'Green', 'White'])\n",
      "deque(['pink', 'Red', 'Green', 'White'])\n",
      "deque(['pink', 'Red', 'Green', 'White', 'yellow'])\n",
      "deque(['Red', 'Green', 'White', 'yellow'])\n",
      "deque(['Red', 'Green', 'White'])\n",
      "deque(['White', 'Green', 'Red'])\n"
     ]
    }
   ],
   "source": [
    "#7-create a deque and append few elements to the left and right, \n",
    "#then remove some elements from the left, right sides and reverse the deque\n",
    "from collections import deque\n",
    "\n",
    "#create a deque\n",
    "d=deque(['Red', 'Green', 'White'])\n",
    "print(d)\n",
    "\n",
    "#append few elements to left\n",
    "d.appendleft(\"pink\")\n",
    "print(d)\n",
    "\n",
    "#append few elements to right\n",
    "d.append(\"yellow\")\n",
    "print(d)\n",
    "\n",
    "#Removing from the left\n",
    "d.popleft()\n",
    "print(d)\n",
    "\n",
    "#Removing from the right\n",
    "d.pop()\n",
    "print(d)\n",
    "\n",
    "#Reversing the deque\n",
    "d.reverse()\n",
    "print(d)"
   ]
  },
  {
   "cell_type": "code",
   "execution_count": 41,
   "id": "e7c16575",
   "metadata": {},
   "outputs": [
    {
     "name": "stdout",
     "output_type": "stream",
     "text": [
      "deque([2, 4, 6])\n",
      "deque([0, 2, 4, 6, 8])\n"
     ]
    }
   ],
   "source": [
    "#8-create a deque from an existing iterable object\n",
    "from collections import deque\n",
    "\n",
    "tup=(2,4,6)\n",
    "d= deque(tup)\n",
    "print(d)\n",
    "\n",
    "d.append(8)\n",
    "d.appendleft(0)\n",
    "print(d)"
   ]
  },
  {
   "cell_type": "code",
   "execution_count": 43,
   "id": "6c8ad3aa",
   "metadata": {},
   "outputs": [
    {
     "name": "stdout",
     "output_type": "stream",
     "text": [
      "deque([2, 4, 6, 12, 14, 16, 18, 20])\n"
     ]
    }
   ],
   "source": [
    "#9-add more number of elements to a deque object from an iterable object\n",
    "from collections import deque\n",
    "tup=(2,4,6)\n",
    "d=deque(tup)\n",
    "\n",
    "tup_extend = (12, 14, 16, 18, 20)\n",
    "\n",
    "d.extend(tup_extend)\n",
    "print(d)"
   ]
  },
  {
   "cell_type": "code",
   "execution_count": 45,
   "id": "90c98935",
   "metadata": {},
   "outputs": [
    {
     "name": "stdout",
     "output_type": "stream",
     "text": [
      "deque([])\n"
     ]
    }
   ],
   "source": [
    "#10-remove all the elements of a given deque object\n",
    "from collections import deque\n",
    "d=deque([1, 3, 5, 7, 9])\n",
    "d.clear()\n",
    "print(d)"
   ]
  },
  {
   "cell_type": "code",
   "execution_count": 50,
   "id": "204f7f65",
   "metadata": {},
   "outputs": [
    {
     "name": "stdout",
     "output_type": "stream",
     "text": [
      "1818289153504\n",
      "1818287958912\n",
      "1818207611184\n",
      "1818207611184\n"
     ]
    }
   ],
   "source": [
    "#11-copy of a deque object and verify the shallow copying process\n",
    "from collections import deque\n",
    "d1=deque([1, 3, 5, 7, 9])\n",
    "\n",
    "d2=d1.copy()\n",
    "print(id(d1))\n",
    "print(id(d2))\n",
    "\n",
    "print(id(d1[0]))\n",
    "print(id(d2[0]))"
   ]
  },
  {
   "cell_type": "code",
   "execution_count": 4,
   "id": "63a4ba52",
   "metadata": {},
   "outputs": [
    {
     "name": "stdout",
     "output_type": "stream",
     "text": [
      "[(3, 4)]\n",
      "4\n"
     ]
    }
   ],
   "source": [
    "#12-count the number of times a specific element presents in a deque object\n",
    "from collections import deque, Counter\n",
    "d=deque([1, 3, 5,3, 7, 9,3,3])\n",
    "\n",
    "print(Counter(d).most_common(1))\n",
    "print(d.count(3))"
   ]
  },
  {
   "cell_type": "code",
   "execution_count": 11,
   "id": "2ef15d71",
   "metadata": {},
   "outputs": [
    {
     "name": "stdout",
     "output_type": "stream",
     "text": [
      "deque([2, 4, 6, 8, 10])\n",
      "deque([10, 2, 4, 6, 8])\n",
      "deque([6, 8, 10, 2, 4])\n"
     ]
    }
   ],
   "source": [
    "#13-rotate a Deque Object specified number (positive) of times.\n",
    "from collections import deque\n",
    "#import collections\n",
    "#d=collections.deque()\n",
    "d=deque([2, 4, 6, 8, 10])\n",
    "print(d)\n",
    "\n",
    "d.rotate()\n",
    "print(d)\n",
    "\n",
    "d.rotate(2)\n",
    "print(d)"
   ]
  },
  {
   "cell_type": "code",
   "execution_count": 12,
   "id": "3e9a2f8d",
   "metadata": {},
   "outputs": [
    {
     "name": "stdout",
     "output_type": "stream",
     "text": [
      "deque([6, 8, 10, 2, 4])\n"
     ]
    }
   ],
   "source": [
    "#14-rotate a Deque Object specified number (negative) of times\n",
    "from collections import deque\n",
    "d=deque([2, 4, 6, 8, 10])\n",
    "\n",
    "d.rotate(-2)\n",
    "print(d)"
   ]
  },
  {
   "cell_type": "code",
   "execution_count": 18,
   "id": "6cbe1c24",
   "metadata": {},
   "outputs": [
    {
     "name": "stdout",
     "output_type": "stream",
     "text": [
      "Python\n",
      "[('Python', 5)]\n"
     ]
    }
   ],
   "source": [
    "#15-most common element of a given list\n",
    "from collections import Counter\n",
    "l=['PHP', 'PHP', 'Python', 'PHP', 'Python', 'JS', 'Python', 'Python', 'PHP', 'Python']\n",
    "print(Counter(l).most_common(1)[0][0])\n",
    "print(Counter(l).most_common(1))"
   ]
  },
  {
   "cell_type": "code",
   "execution_count": 41,
   "id": "b00b2b22",
   "metadata": {},
   "outputs": [
    {
     "name": "stdout",
     "output_type": "stream",
     "text": [
      "Enter the number of students : 3\n",
      "input student name and marks: phys 100\n",
      "input student name and marks: chem 40\n",
      "input student name and marks: marh 90\n",
      "{'phys ': 100, 'chem ': 40, 'marh ': 90}\n",
      "marh \n"
     ]
    }
   ],
   "source": [
    "#16-find the second lowest total marks of any student(s) from the given names and marks of \n",
    "#each student using lists and lambda. Input number of students, names and grades of each student.\n",
    "import collections,re\n",
    "\n",
    "stud_lst=[]\n",
    "stud_dct={}\n",
    "\n",
    "stud_num=int(input(\"Enter the number of students : \"))\n",
    "for stud in range(stud_num):    \n",
    "    stud_lst=re.split(r'(\\d+)$',input(\"input student name and marks: \").strip())\n",
    "    \n",
    "    stud_name=stud_lst[0]\n",
    "    stud_marks=int(stud_lst[1])\n",
    "    \n",
    "    stud_dct[stud_name]=stud_marks\n",
    "    \n",
    "sorted_dct=sorted(stud_dct,key=lambda x:stud_dct[x])\n",
    "print(stud_dct)\n",
    "print(sorted_dct[-2])"
   ]
  },
  {
   "cell_type": "code",
   "execution_count": 45,
   "id": "5137006a",
   "metadata": {},
   "outputs": [
    {
     "name": "stdout",
     "output_type": "stream",
     "text": [
      "Input number of students: 3\n",
      "name: Manasi\n",
      "Total marks: 50\n",
      "name: Akriti\n",
      "Total marks: 20\n",
      "name: Vidhi\n",
      "Total marks: 100\n",
      "\n",
      "Name and marks of all studets:\n",
      "[['Manasi', 50.0], ['Akriti', 20.0], ['Vidhi', 100.0]]\n",
      "\n",
      "Second lowest Marks:  50.0\n"
     ]
    }
   ],
   "source": [
    "students=[]\n",
    "sec_name=[]\n",
    "sec_low=0\n",
    "n=int(input(\"Input number of students: \"))\n",
    "\n",
    "for _ in range(n):\n",
    "    s_name=input(\"name: \")\n",
    "    score=float(input(\"Total marks: \"))\n",
    "    students.append([s_name,score])\n",
    "    \n",
    "print(\"\\nName and marks of all studets:\")\n",
    "print(students)\n",
    "\n",
    "order=sorted(students,key=lambda x:int(x[1]))\n",
    "\n",
    "for i in range(n):\n",
    "    if order[i][1]!=order[0][1]:\n",
    "        sec_low=order[i][1]\n",
    "        break\n",
    "print(\"\\nSecond lowest Marks: \",sec_low)"
   ]
  },
  {
   "cell_type": "code",
   "execution_count": 47,
   "id": "744e38a4",
   "metadata": {},
   "outputs": [
    {
     "name": "stdout",
     "output_type": "stream",
     "text": [
      "10\n"
     ]
    }
   ],
   "source": [
    "#17-find the majority element from a given array of size n using Collections module\n",
    "import collections\n",
    "class Solution(object):\n",
    "    def majorityElement(self, nums):\n",
    "        \"\"\"\n",
    "        :type nums: List[int]\n",
    "        :return type: int\n",
    "        \"\"\"\n",
    "        count_ele=collections.Counter(nums)\n",
    "        return count_ele.most_common()[0][0]\n",
    "\n",
    "result = Solution().majorityElement([10,10,20,30,40,10,20,10])\n",
    "print(result)"
   ]
  },
  {
   "cell_type": "code",
   "execution_count": 51,
   "id": "afe83d53",
   "metadata": {},
   "outputs": [
    {
     "name": "stdout",
     "output_type": "stream",
     "text": [
      "\n",
      "Merged dictionary:\n",
      "{'G': 'Green', 'W': 'White', 'R': 'Red', 'B': 'Black', 'P': 'Pink'}\n"
     ]
    }
   ],
   "source": [
    "#18-merge more than one dictionary in a single expression\n",
    "import collections as ct\n",
    "\n",
    "def merge_dct(color1,color2):\n",
    "    merged_dct=dict(ct.ChainMap({},color1,color2))\n",
    "    return merged_dct\n",
    "\n",
    "d1={'R': 'Red', 'B': 'Black', 'P': 'Pink'} \n",
    "d2={'G': 'Green', 'W': 'White'}\n",
    "\n",
    "print(\"\\nMerged dictionary:\")\n",
    "print(merge_dct(d1, d2))"
   ]
  },
  {
   "cell_type": "code",
   "execution_count": 55,
   "id": "9c6e6eb9",
   "metadata": {},
   "outputs": [
    {
     "name": "stdout",
     "output_type": "stream",
     "text": [
      "False\n"
     ]
    }
   ],
   "source": [
    "#19-program to break a given list of integers into sets of a given positive number. Return true or false\n",
    "import collections as clt\n",
    "def check_brk_lst(nums,n):\n",
    "    coll_data=clt.Counter(nums)\n",
    "    for x in sorted(coll_data.keys()):\n",
    "        for index in range(1,n):\n",
    "            coll_data[x+index]=coll_data[x+index]-coll_data[x]\n",
    "            if coll_data[x+index]<0:\n",
    "                return False\n",
    "    return True\n",
    "\n",
    "l=[1, 2, 3, 4, 5, 6, 7, 8]\n",
    "n=3\n",
    "print(check_brk_lst(l,n))"
   ]
  },
  {
   "cell_type": "code",
   "execution_count": 56,
   "id": "2a17529a",
   "metadata": {},
   "outputs": [
    {
     "name": "stdout",
     "output_type": "stream",
     "text": [
      "[(2, 5)]\n"
     ]
    }
   ],
   "source": [
    "#20-find the item with maximum frequency in a given list\n",
    "from collections import Counter\n",
    "l=[2, 3, 8, 4, 7, 9, 8, 2, 6, 5, 1, 6, 1, 2, 3, 2, 4, 6, 9, 1, 2]\n",
    "print(Counter(l).most_common(1))"
   ]
  },
  {
   "cell_type": "code",
   "execution_count": 61,
   "id": "d1c67df9",
   "metadata": {},
   "outputs": [
    {
     "name": "stdout",
     "output_type": "stream",
     "text": [
      "[('l', 3)]\n",
      "('l', 3)\n"
     ]
    }
   ],
   "source": [
    "#21-count most and least common characters in a given string\n",
    "from collections import Counter\n",
    "s='hello world'\n",
    "print(Counter(s).most_common(1))\n",
    "print(Counter(s).most_common(1)[0])"
   ]
  },
  {
   "cell_type": "code",
   "execution_count": 5,
   "id": "e69a130b",
   "metadata": {},
   "outputs": [
    {
     "name": "stdout",
     "output_type": "stream",
     "text": [
      "Most common character of the said string: l\n",
      "Least common character of the said string: h\n"
     ]
    }
   ],
   "source": [
    "#Date 8/17/22\n",
    "#21-count most and least common characters in a given string\n",
    "from collections import Counter\n",
    "def max_least_char(str1):\n",
    "    temp=Counter(str1)\n",
    "    max_char=max(temp,key=temp.get)\n",
    "    min_char=min(temp,key=temp.get)\n",
    "    return (max_char,min_char)\n",
    "s='hello world'\n",
    "result = max_least_char(s)\n",
    "#print(result)\n",
    "print(\"Most common character of the said string:\",result[0])\n",
    "print(\"Least common character of the said string:\",result[1])"
   ]
  },
  {
   "cell_type": "code",
   "execution_count": 13,
   "id": "9ed08c60",
   "metadata": {},
   "outputs": [
    {
     "name": "stdout",
     "output_type": "stream",
     "text": [
      "OrderedDict([('color4', 'Orange'), ('color1', 'Red'), ('color2', 'Green'), ('color3', 'Blue')])\n"
     ]
    }
   ],
   "source": [
    "#22-insert an element at the beginning of a given OrderedDictionary\n",
    "from collections import OrderedDict\n",
    "#d=collections.OrderedDict()\n",
    "d=OrderedDict([('color1', 'Red'), ('color2', 'Green'), ('color3', 'Blue')])\n",
    "tup=({'color4': 'Orange'})\n",
    "d.update(tup)\n",
    "d.move_to_end('color4',last=False)\n",
    "print(d)"
   ]
  },
  {
   "cell_type": "code",
   "execution_count": 14,
   "id": "9b3cf079",
   "metadata": {},
   "outputs": [
    {
     "name": "stdout",
     "output_type": "stream",
     "text": [
      "Resultant Dictionary :OrderedDict([('manjeet', '4'), ('akash', '4'), ('akshat', '1'), ('nikhil', '2')])\n"
     ]
    }
   ],
   "source": [
    "from collections import OrderedDict\n",
    "ini_dict1 = OrderedDict([('akshat', '1'), ('nikhil', '2')])\n",
    "ini_dict2 = OrderedDict([(\"manjeet\", '4'), (\"akash\", '4')])\n",
    "\n",
    "both = OrderedDict(list(ini_dict2.items()) + list(ini_dict1.items()))\n",
    "print (\"Resultant Dictionary :\"+str(both))"
   ]
  },
  {
   "cell_type": "code",
   "execution_count": 25,
   "id": "3bf7a5cd",
   "metadata": {},
   "outputs": [
    {
     "name": "stdout",
     "output_type": "stream",
     "text": [
      "('1', '4') 2\n",
      "('3', '4') 1\n",
      "('2', '7') 2\n",
      "('6', '8') 2\n",
      "('5', '8') 1\n",
      "('5', '7') 1\n"
     ]
    }
   ],
   "source": [
    "#23-get the frequency of the tuples in a given list\n",
    "from collections import Counter\n",
    "lst=[(['1', '4'], ['4', '1'], ['3', '4'], ['2', '7'], ['6', '8'], ['5', '8'], ['6', '8'], ['5', '7'], ['2', '7'])]\n",
    "\n",
    "result=Counter(tuple(sorted(i)) for i in lst[0])\n",
    "for key,val in result.items():\n",
    "    print(key,val)"
   ]
  },
  {
   "cell_type": "code",
   "execution_count": 26,
   "id": "137805ce",
   "metadata": {},
   "outputs": [
    {
     "name": "stdout",
     "output_type": "stream",
     "text": [
      "('Juan Whelan', 212)\n"
     ]
    }
   ],
   "source": [
    "#24- calculate the maximum aggregate from the list of tuples (pairs)\n",
    "from collections import defaultdict\n",
    "def max_aggregate(st_data):\n",
    "    temp=defaultdict(int)\n",
    "    for name,marks in st_data:\n",
    "        temp[name]+=marks\n",
    "    return max(temp.items(),key=lambda x:x[1])\n",
    "\n",
    "l=[('Juan Whelan', 90), ('Sabah Colley', 88), ('Peter Nichols', 7), ('Juan Whelan', 122), ('Sabah Colley', 84)]\n",
    "print(max_aggregate(l))"
   ]
  },
  {
   "cell_type": "code",
   "execution_count": 44,
   "id": "83bd999b",
   "metadata": {},
   "outputs": [
    {
     "name": "stdout",
     "output_type": "stream",
     "text": [
      "['d', 'a', 'f'] ['b', 'c', 'e', 'h', 'i', 'l', 's', 'g', 'k', 'j']\n"
     ]
    }
   ],
   "source": [
    "#25-find the characters in a list of strings which occur more than and less than a given number\n",
    "from collections import Counter\n",
    "from itertools import chain\n",
    "\n",
    "def agg_max(lst_str,n):\n",
    "    temp=(set(sub) for sub in lst_str)\n",
    "    counts=Counter(chain.from_iterable(temp))\n",
    "    #print(counts)\n",
    "    gt_n=[chr for chr, count in counts.items() if count>n]\n",
    "    lt_n=[chr for chr, count in counts.items() if count<n]\n",
    "    return gt_n,lt_n\n",
    "\n",
    "l=['abcd', 'iabhef', 'dsalsdf', 'sdfsas', 'jlkdfgd']\n",
    "n=3\n",
    "result=(agg_max(l,n))\n",
    "print(result[0],result[1])"
   ]
  },
  {
   "cell_type": "code",
   "execution_count": 41,
   "id": "b32bc4af",
   "metadata": {},
   "outputs": [
    {
     "name": "stdout",
     "output_type": "stream",
     "text": [
      "[3, 3, 4, 7]\n"
     ]
    }
   ],
   "source": [
    "#26- find the difference between two list including duplicate elements. Use collections module.\n",
    "from collections import Counter\n",
    "l1 = [1,1,2,3,3,4,4,5,6,7]\n",
    "l2 = [1,1,2,4,5,6]\n",
    "c1=Counter(l1)\n",
    "c2=Counter(l2)\n",
    "diff=c1-c2\n",
    "print(list(diff.elements()))"
   ]
  },
  {
   "cell_type": "code",
   "execution_count": 4,
   "id": "03b711fa",
   "metadata": {},
   "outputs": [
    {
     "name": "stdout",
     "output_type": "stream",
     "text": [
      "\n",
      "After removing duplicate words from the said string:\n",
      "Python Exercises Practice Solution\n"
     ]
    }
   ],
   "source": [
    "#Date-8/18/22\n",
    "#27-remove duplicate words from a given string use collections module\n",
    "from collections import OrderedDict\n",
    "s=\"Python Exercises Practice Solution Exercises\"\n",
    "print(\"\\nAfter removing duplicate words from the said string:\")\n",
    "result = ' '.join(OrderedDict((w,w) for w in s.split()).keys())\n",
    "print(result)"
   ]
  },
  {
   "cell_type": "code",
   "execution_count": 10,
   "id": "b33f0d7f",
   "metadata": {},
   "outputs": [
    {
     "name": "stdout",
     "output_type": "stream",
     "text": [
      "defaultdict(<class 'list'>, {'yellow': [1, 3], 'blue': [2, 4], 'red': [1]})\n"
     ]
    }
   ],
   "source": [
    "#28-create a dictionary grouping a sequence of key-value pairs into a dictionary of lists\n",
    "from collections import defaultdict\n",
    "l=[('yellow', 1), ('blue', 2), ('yellow', 3), ('blue', 4), ('red', 1)]\n",
    "d=defaultdict(list)\n",
    "for key,val in l:\n",
    "    d[key].append(val)\n",
    "print(d)"
   ]
  },
  {
   "cell_type": "code",
   "execution_count": 13,
   "id": "636de97f",
   "metadata": {},
   "outputs": [
    {
     "name": "stdout",
     "output_type": "stream",
     "text": [
      "Counter({2: 3, 1: 2, 5: 2, 3: 1, 4: 1, 6: 1, 7: 1, 9: 1})\n"
     ]
    }
   ],
   "source": [
    "#29-get the frequency of the elements in a given list of lists.\n",
    "from collections import Counter\n",
    "from itertools import chain\n",
    "l=[[1, 2, 3, 2], [4, 5, 6, 2], [7, 1, 9, 5]]\n",
    "print(Counter(chain.from_iterable(l)))"
   ]
  },
  {
   "cell_type": "code",
   "execution_count": 16,
   "id": "c2e62027",
   "metadata": {},
   "outputs": [
    {
     "name": "stdout",
     "output_type": "stream",
     "text": [
      "Counter({3: 4, 5: 4, 8: 4, 0: 3, 9: 1, 1: 1, 2: 1})\n"
     ]
    }
   ],
   "source": [
    "#30-count the occurrence of each element of a given list\n",
    "from collections import Counter\n",
    "\n",
    "l=[3, 5, 0, 3, 9, 5, 8, 0, 3, 8, 5, 8, 3, 5, 8, 1, 0, 2]\n",
    "print(Counter(l))"
   ]
  },
  {
   "cell_type": "code",
   "execution_count": 23,
   "id": "bf95bbf7",
   "metadata": {},
   "outputs": [
    {
     "name": "stdout",
     "output_type": "stream",
     "text": [
      "[('pink', 6)]\n"
     ]
    }
   ],
   "source": [
    "#31-count the most common words in a dictionary\n",
    "from collections import Counter\n",
    "l = [\n",
    "   'red', 'green', 'black', 'pink', 'black', 'white', 'black', 'eyes',\n",
    "   'white', 'black', 'orange', 'pink', 'pink', 'red', 'red', 'white', 'orange',\n",
    "   'white', \"black\", 'pink', 'green', 'green', 'pink', 'green', 'pink',\n",
    "   'white', 'orange', \"orange\", 'red'\n",
    "]\n",
    "print(Counter(l).most_common(1))"
   ]
  },
  {
   "cell_type": "code",
   "execution_count": 25,
   "id": "4d8387d6",
   "metadata": {},
   "outputs": [
    {
     "name": "stdout",
     "output_type": "stream",
     "text": [
      "defaultdict(<class 'list'>, {'V': [1, 2], 'VI': [1, 2, 3], 'VII': [1]})\n"
     ]
    }
   ],
   "source": [
    "#32-find the class wise roll number from a tuple-of-tuples.\n",
    "from collections import defaultdict\n",
    "classes = (\n",
    "    ('V', 1),\n",
    "    ('VI', 1),\n",
    "    ('V', 2),\n",
    "    ('VI', 2),\n",
    "    ('VI', 3),\n",
    "    ('VII', 1),\n",
    ")\n",
    "d=defaultdict(list)\n",
    "for key, val in classes:\n",
    "    d[key].append(val)\n",
    "print(d)"
   ]
  },
  {
   "cell_type": "code",
   "execution_count": 27,
   "id": "549b28de",
   "metadata": {},
   "outputs": [
    {
     "name": "stdout",
     "output_type": "stream",
     "text": [
      "Counter({'VI': 3, 'V': 2, 'VII': 1})\n"
     ]
    }
   ],
   "source": [
    "#33- count the number of students of individual class\n",
    "from collections import Counter\n",
    "classes = (\n",
    "    ('V', 1),\n",
    "    ('VI', 1),\n",
    "    ('V', 2),\n",
    "    ('VI', 2),\n",
    "    ('VI', 3),\n",
    "    ('VII', 1),\n",
    ")\n",
    "\n",
    "print(Counter(clas_name for clas_name,stud_num in classes))\n"
   ]
  },
  {
   "cell_type": "code",
   "execution_count": 30,
   "id": "9dcf1daa",
   "metadata": {},
   "outputs": [
    {
     "name": "stdout",
     "output_type": "stream",
     "text": [
      "Afghanistan 93\n",
      "Albania 355\n",
      "Algeria 213\n",
      "Andorra 376\n",
      "Angola 244\n",
      "\n",
      "In reverse order:\n",
      "Angola 244\n",
      "Andorra 376\n",
      "Algeria 213\n",
      "Albania 355\n",
      "Afghanistan 93\n"
     ]
    }
   ],
   "source": [
    "#34-create an instance of an OrderedDict using a given dictionary. \n",
    "#Sort the dictionary during the creation and print the members of the dictionary in reverse order\n",
    "from collections import OrderedDict\n",
    "d={'Afghanistan': 93, 'Albania': 355, 'Algeria': 213, 'Andorra': 376, 'Angola': 244}\n",
    "new_dct=OrderedDict(d.items())\n",
    "\n",
    "for key in new_dct:\n",
    "    print (key, new_dct[key])\n",
    "\n",
    "print(\"\\nIn reverse order:\")\n",
    "for key in reversed(new_dct):\n",
    "    print (key, new_dct[key])\n"
   ]
  },
  {
   "cell_type": "code",
   "execution_count": 32,
   "id": "b7422bef",
   "metadata": {},
   "outputs": [
    {
     "name": "stdout",
     "output_type": "stream",
     "text": [
      "defaultdict(<class 'list'>, {'v': [1, 3], 'vi': [2, 4], 'vii': [1]})\n"
     ]
    }
   ],
   "source": [
    "#35-group a sequence of key-value pairs into a dictionary of lists\n",
    "from collections import defaultdict\n",
    "class_roll = [('v', 1), ('vi', 2), ('v', 3), ('vi', 4), ('vii', 1)]\n",
    "d=defaultdict(list)\n",
    "\n",
    "for key,val in class_roll:\n",
    "    d[key].append(val)\n",
    "print(d)"
   ]
  },
  {
   "cell_type": "code",
   "execution_count": 36,
   "id": "80d9b923",
   "metadata": {},
   "outputs": [
    {
     "name": "stdout",
     "output_type": "stream",
     "text": [
      "False\n"
     ]
    }
   ],
   "source": [
    "#36-compare two unordered lists (not sets)\n",
    "from collections import Counter\n",
    "n1 = [20, 10, 30, 10, 20, 30]\n",
    "n2 = [30, 20, 10, 30, 20, 50]\n",
    "\n",
    "print(Counter(n1) == Counter(n2))"
   ]
  },
  {
   "cell_type": "code",
   "execution_count": null,
   "id": "e7d6d929",
   "metadata": {},
   "outputs": [],
   "source": []
  }
 ],
 "metadata": {
  "kernelspec": {
   "display_name": "Python 3 (ipykernel)",
   "language": "python",
   "name": "python3"
  },
  "language_info": {
   "codemirror_mode": {
    "name": "ipython",
    "version": 3
   },
   "file_extension": ".py",
   "mimetype": "text/x-python",
   "name": "python",
   "nbconvert_exporter": "python",
   "pygments_lexer": "ipython3",
   "version": "3.9.7"
  }
 },
 "nbformat": 4,
 "nbformat_minor": 5
}
