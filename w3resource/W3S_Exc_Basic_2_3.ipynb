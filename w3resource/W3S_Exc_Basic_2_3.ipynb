{
 "cells": [
  {
   "cell_type": "code",
   "execution_count": 9,
   "id": "379b9649",
   "metadata": {},
   "outputs": [
    {
     "name": "stdout",
     "output_type": "stream",
     "text": [
      "Is Happy: False\n"
     ]
    }
   ],
   "source": [
    "#Date -8/25/22\n",
    "#66-check whether a number is \"happy\" or not\n",
    "#solution-recursion\n",
    "n=2\n",
    "\n",
    "class Solution(object):\n",
    "    \n",
    "    def isHappy(self,n):\n",
    "        \"\"\"\n",
    "        :type n: int\n",
    "        :rtype: bool\n",
    "        \"\"\"\n",
    "        return self.solve(n,{})\n",
    "    \n",
    "    def solve(self,n,visited): #visited could be dictionary or array\n",
    "        if n==1:\n",
    "            return True\n",
    "        if n in visited:\n",
    "            return False\n",
    "        visited[n]=1  #initialize visited as dictionary\n",
    "        #print(visited)\n",
    "        n=str(n)\n",
    "        l=list(n)\n",
    "        l=list(map(int,l))\n",
    "        temp=0\n",
    "        for i in l:\n",
    "            temp+=(i**2)\n",
    "        return self.solve(temp,visited)\n",
    "ob1=Solution()\n",
    "op=ob1.isHappy(2)\n",
    "print(\"Is Happy:\",op) \n",
    "    "
   ]
  },
  {
   "cell_type": "code",
   "execution_count": 11,
   "id": "cd68bd53",
   "metadata": {},
   "outputs": [
    {
     "name": "stdout",
     "output_type": "stream",
     "text": [
      "True\n",
      "False\n"
     ]
    }
   ],
   "source": [
    "def is_Happy_num(n):\n",
    "    past=set()\n",
    "    while n!=1:\n",
    "        n=sum(int(i)**2 for i in str(n))\n",
    "        if n in past:\n",
    "            return False\n",
    "        past.add(n)\n",
    "    return True\n",
    "print(is_Happy_num(7))\n",
    "print(is_Happy_num(6))"
   ]
  },
  {
   "cell_type": "code",
   "execution_count": 13,
   "id": "18c14a32",
   "metadata": {},
   "outputs": [
    {
     "name": "stdout",
     "output_type": "stream",
     "text": [
      "[1, 7, 10, 13, 19, 23, 28, 31, 32, 44, 49, 68]\n"
     ]
    }
   ],
   "source": [
    "#67-find and print the first 10 happy numbers.\n",
    "def is_num_happy(n):\n",
    "    past=set()\n",
    "    while n!=1:\n",
    "        n=sum(int(i)**2 for i in str(n))\n",
    "        if n in past:\n",
    "            return False\n",
    "        past.add(n)\n",
    "    return True\n",
    "def happy_num(num):\n",
    "    n=1\n",
    "    cnt=0\n",
    "    happy_num_arr=[]\n",
    "    while cnt!=num:\n",
    "        if is_num_happy(n)==True:\n",
    "            happy_num_arr.append(n)\n",
    "            cnt+=1\n",
    "        n+=1\n",
    "    print(happy_num_arr)\n",
    "happy_num(12)"
   ]
  },
  {
   "cell_type": "code",
   "execution_count": 14,
   "id": "503d115c",
   "metadata": {},
   "outputs": [
    {
     "name": "stdout",
     "output_type": "stream",
     "text": [
      "[1, 7, 10, 13, 19, 23, 28, 31, 32, 44]\n"
     ]
    }
   ],
   "source": [
    "def happy_numbers(n):\n",
    "    past = set()\n",
    "    while n != 1:\n",
    "        n = sum(int(i)**2 for i in str(n))\n",
    "        if n in past:\n",
    "            return False\n",
    "        past.add(n)\n",
    "    return True\n",
    "print([x for x in range(500) if happy_numbers(x)][:10])"
   ]
  },
  {
   "cell_type": "code",
   "execution_count": 28,
   "id": "5e30363a",
   "metadata": {},
   "outputs": [
    {
     "name": "stdout",
     "output_type": "stream",
     "text": [
      "{2, 3, 5, 7, 11, 13, 17, 19, 23, 29, 31, 37, 41, 43, 47, 53, 59, 61, 67, 71, 73, 79, 83, 89, 97} \n",
      " count of prime number= 25\n"
     ]
    }
   ],
   "source": [
    "#68-count the number of prime numbers less than a given non-negative number\n",
    "n=100\n",
    "import math\n",
    "def prime_num_cnt(n):\n",
    "    cnt=0\n",
    "    num=2    \n",
    "    prime_num=set()\n",
    "    while num!=n:\n",
    "        flag=0\n",
    "        for i in range(2,int(math.sqrt(num))+1):\n",
    "            if num%i==0:\n",
    "                #print(num)\n",
    "                flag=1\n",
    "                break\n",
    "        if flag==0:\n",
    "            prime_num.add(num)\n",
    "            cnt+=1\n",
    "        num+=1\n",
    "    print(prime_num,\"\\n count of prime number=\",cnt)\n",
    "prime_num_cnt(n)"
   ]
  },
  {
   "cell_type": "code",
   "execution_count": 29,
   "id": "524f318c",
   "metadata": {},
   "outputs": [
    {
     "name": "stdout",
     "output_type": "stream",
     "text": [
      "4\n",
      "25\n"
     ]
    }
   ],
   "source": [
    "def count_Primes_nums(n):\n",
    "    ctr = 0\n",
    "    \n",
    "    for num in range(n):\n",
    "        if num <= 1:\n",
    "            continue\n",
    "        for i in range(2, num):\n",
    "            if (num % i) == 0:\n",
    "                break\n",
    "        else:\n",
    "            ctr += 1\n",
    "    return ctr\n",
    "\n",
    "print(count_Primes_nums(10))\n",
    "print(count_Primes_nums(100))"
   ]
  },
  {
   "cell_type": "code",
   "execution_count": 3,
   "id": "cbf71685",
   "metadata": {},
   "outputs": [
    {
     "name": "stdout",
     "output_type": "stream",
     "text": [
      "True\n",
      "False\n"
     ]
    }
   ],
   "source": [
    "#69-check if two given strings are isomorphic to each other or not\n",
    "MAX_CHARS=256\n",
    "\n",
    "def isomorphic(str1,str2):\n",
    "    m=len(str1)\n",
    "    n=len(str2)\n",
    "    \n",
    "    if m!=n:\n",
    "        return False\n",
    "    \n",
    "    map=[-1]*MAX_CHARS  #Initialize all entries of map as -1\n",
    "    \n",
    "    marked=[False]*MAX_CHARS #To mark visited characters in str2\n",
    "    \n",
    "    for i in range(n):\n",
    "        if map[ord(str1[i])]==-1:  #if current character of str1 is seen first time in it.\n",
    "            \n",
    "            if marked[ord(str2[i])]==True:   #if current character of st2 is already seen, one to one mapping not possible\n",
    "                return False\n",
    "            \n",
    "            marked[ord(str2[i])]=True  ## Mark current character of str2 as visited\n",
    "            \n",
    "            map[ord(str1[i])]=str2[i]  #mapping ith characters of both strings\n",
    "            \n",
    "        elif map[ord(str1[i])] !=str2[i]: #if mapping mismatch found\n",
    "            return False\n",
    "        \n",
    "    return True\n",
    "\n",
    "print (isomorphic(\"aab\", \"xxy\"))\n",
    "print (isomorphic(\"aab\", \"xyz\"))    "
   ]
  },
  {
   "cell_type": "code",
   "execution_count": 23,
   "id": "95e82f41",
   "metadata": {},
   "outputs": [
    {
     "name": "stdout",
     "output_type": "stream",
     "text": [
      "False\n"
     ]
    }
   ],
   "source": [
    "#solution-2 : count the number of occurences of every characters and its sequence\n",
    "CHAR=26\n",
    "\n",
    "def areisomorphic(st1,st2):\n",
    "    m=len(st1)\n",
    "    n=len(st2)\n",
    "    \n",
    "    if m!=n:\n",
    "        return False\n",
    "    \n",
    "    #for counting the previous appearances of character\n",
    "    # in both the strings\n",
    "    countChars1=[0]*CHAR\n",
    "    countChars2=[0]*CHAR\n",
    "    #print(countChars1)\n",
    "    \n",
    "    # Process all characters one by one\n",
    "    for i in range(n):\n",
    "        countChars1[ord(st1[i])-ord('a')]+=1\n",
    "        countChars2[ord(st2[i])-ord('a')]+=1\n",
    "       # print(countChars1)\n",
    "       # print(countChars2)\n",
    "       # print(countChars1[ord(st1[i])-ord('a')])\n",
    "       # print(countChars2[ord(st1[i])-ord('a')])\n",
    "        \n",
    "        \n",
    "    for i in range(n):\n",
    "        if countChars1[ord(st1[i])-ord('a')]!= countChars2[ord(st2[i])-ord('a')]:\n",
    "            return False\n",
    "    return True\n",
    "\n",
    "#print((areisomorphic(\"aab\", \"xxy\")))\n",
    "print((areisomorphic(\"aab\", \"xyz\")))    "
   ]
  },
  {
   "cell_type": "code",
   "execution_count": 39,
   "id": "ac3563ca",
   "metadata": {},
   "outputs": [
    {
     "name": "stdout",
     "output_type": "stream",
     "text": [
      "abcdefgh abdfgh 0 a\n",
      "abcefgh abdfgh 0 a\n",
      "abdfgh abdfgh 0 a\n",
      "qjandjn abdfgh 0 a\n",
      "\n"
     ]
    }
   ],
   "source": [
    "#70-find the longest common prefix string amongst a given array of strings. Return false If there is no common prefix\n",
    "arr=[\"abcdefgh\",\"abcefgh\"]\n",
    "def longest_Common_Prefix(str1):\n",
    "    if not str1:\n",
    "        return \"\"\n",
    "    short_str=min(str1,key=len)\n",
    "    #print(short_str)\n",
    "    \n",
    "    for i,char in enumerate(short_str):\n",
    "        for other in str1:\n",
    "            print(other,short_str,i,char)\n",
    "            if other[i]!=char:\n",
    "                return short_str[:i]\n",
    "    return short_str\n",
    "\n",
    "print(longest_Common_Prefix([\"abcdefgh\",\"abcefgh\",\"abdfgh\",\"qjandjn\"]))"
   ]
  },
  {
   "cell_type": "code",
   "execution_count": 54,
   "id": "27e334d7",
   "metadata": {},
   "outputs": [
    {
     "data": {
      "text/plain": [
       "'rusoerc'"
      ]
     },
     "execution_count": 54,
     "metadata": {},
     "output_type": "execute_result"
    }
   ],
   "source": [
    "#71-Python program to reverse only the vowels of a given string\n",
    "def isVowel(c):\n",
    "        if (c == 'a' or c == 'A' or c == 'e' or\n",
    "        c == 'E' or c == 'i' or c == 'I' or\n",
    "        c == 'o' or c == 'O' or c == 'u' or c == 'U'):\n",
    "            return True\n",
    "        return False\n",
    "def reverseVowel(strng):\n",
    "    j=0\n",
    "    vowel=[0]*len(strng)\n",
    "    strng=list(strng)  #as strings are immutabel we need to conver them to list\n",
    "    \n",
    "    for i in range(len(strng)):  # Storing the vowels separately\n",
    "        if isVowel(strng[i]):\n",
    "            vowel[j]=strng[i]\n",
    "            j+=1\n",
    "            \n",
    "    for i in range(len(strng)):  #reversing vowel\n",
    "        if isVowel(strng[i]):\n",
    "            j-=1\n",
    "            strng[i]=vowel[j]\n",
    "            \n",
    "    return ''.join(strng)\n",
    "\n",
    "reverseVowel(\"resourc\")"
   ]
  },
  {
   "cell_type": "code",
   "execution_count": 59,
   "id": "a9d2f769",
   "metadata": {},
   "outputs": [
    {
     "data": {
      "text/plain": [
       "['r', 'u', 's', 'o', 'e', 'r', 'c']"
      ]
     },
     "execution_count": 59,
     "metadata": {},
     "output_type": "execute_result"
    }
   ],
   "source": [
    "def isVowel(c):\n",
    "    return (c=='a' or c=='A' or c=='e' or\n",
    "            c=='E' or c=='i' or c=='I' or\n",
    "            c=='o' or c=='O' or c=='u' or\n",
    "            c=='U')\n",
    "\n",
    "def reverseVowel(str):\n",
    "    i=0\n",
    "    j=len(str)-1\n",
    "    \n",
    "    while(i<j):\n",
    "        if not isVowel(str[i]):\n",
    "            i+=1\n",
    "            continue\n",
    "        if not isVowel(str[j]):\n",
    "            j-=1\n",
    "            continue\n",
    "        \n",
    "        str[i],str[j]=str[j],str[i]  #swapping\n",
    "        i+=1\n",
    "        j-=1\n",
    "        \n",
    "    return str\n",
    "\n",
    "str=\"resourc\"\n",
    "reverseVowel(list(str))\n",
    "        \n",
    "        "
   ]
  },
  {
   "cell_type": "code",
   "execution_count": 69,
   "id": "21ebd245",
   "metadata": {},
   "outputs": [
    {
     "name": "stdout",
     "output_type": "stream",
     "text": [
      "Enter a number323\n",
      "Yes its a palindrome\n"
     ]
    }
   ],
   "source": [
    "#72-check whether a given integer is a palindrome or not\n",
    "num = input(\"Enter a number\")\n",
    "if num == num[::-1]:\n",
    "    print(\"Yes its a palindrome\")\n",
    "else:\n",
    "    print(\"No, its not a palindrome\")"
   ]
  },
  {
   "cell_type": "code",
   "execution_count": 70,
   "id": "86ab6ab5",
   "metadata": {},
   "outputs": [
    {
     "ename": "TypeError",
     "evalue": "'str' object is not callable",
     "output_type": "error",
     "traceback": [
      "\u001b[1;31m---------------------------------------------------------------------------\u001b[0m",
      "\u001b[1;31mTypeError\u001b[0m                                 Traceback (most recent call last)",
      "\u001b[1;32m~\\AppData\\Local\\Temp/ipykernel_16912/4188703257.py\u001b[0m in \u001b[0;36m<module>\u001b[1;34m\u001b[0m\n\u001b[0;32m      2\u001b[0m \u001b[1;33m\u001b[0m\u001b[0m\n\u001b[0;32m      3\u001b[0m \u001b[1;31m# printing the original number\u001b[0m\u001b[1;33m\u001b[0m\u001b[1;33m\u001b[0m\u001b[0m\n\u001b[1;32m----> 4\u001b[1;33m \u001b[0mprint\u001b[0m \u001b[1;33m(\u001b[0m\u001b[1;34m\"The original number is : \"\u001b[0m \u001b[1;33m+\u001b[0m \u001b[0mstr\u001b[0m\u001b[1;33m(\u001b[0m\u001b[0mtest_number\u001b[0m\u001b[1;33m)\u001b[0m\u001b[1;33m)\u001b[0m\u001b[1;33m\u001b[0m\u001b[1;33m\u001b[0m\u001b[0m\n\u001b[0m\u001b[0;32m      5\u001b[0m \u001b[1;33m\u001b[0m\u001b[0m\n\u001b[0;32m      6\u001b[0m \u001b[1;31m# using str() + string slicing\u001b[0m\u001b[1;33m\u001b[0m\u001b[1;33m\u001b[0m\u001b[0m\n",
      "\u001b[1;31mTypeError\u001b[0m: 'str' object is not callable"
     ]
    }
   ],
   "source": [
    "test_number = 9669669\n",
    "  \n",
    "# printing the original number \n",
    "print (\"The original number is : \" + str(test_number))\n",
    "  \n",
    "# using str() + string slicing\n",
    "# for checking a number is palindrome\n",
    "res = str(test_number) == str(test_number)[::-1]\n",
    "  \n",
    "# printing result\n",
    "print (\"Is the number palindrome ? : \" + str(res))"
   ]
  },
  {
   "cell_type": "code",
   "execution_count": 72,
   "id": "2a640511",
   "metadata": {},
   "outputs": [
    {
     "ename": "TypeError",
     "evalue": "'str' object is not callable",
     "output_type": "error",
     "traceback": [
      "\u001b[1;31m---------------------------------------------------------------------------\u001b[0m",
      "\u001b[1;31mTypeError\u001b[0m                                 Traceback (most recent call last)",
      "\u001b[1;32m~\\AppData\\Local\\Temp/ipykernel_16912/2515002729.py\u001b[0m in \u001b[0;36m<module>\u001b[1;34m\u001b[0m\n\u001b[0;32m     11\u001b[0m \u001b[1;33m\u001b[0m\u001b[0m\n\u001b[0;32m     12\u001b[0m \u001b[1;31m# printing the original number\u001b[0m\u001b[1;33m\u001b[0m\u001b[1;33m\u001b[0m\u001b[0m\n\u001b[1;32m---> 13\u001b[1;33m \u001b[0mprint\u001b[0m \u001b[1;33m(\u001b[0m\u001b[1;34m\"The original number is : \"\u001b[0m \u001b[1;33m+\u001b[0m \u001b[0mstr\u001b[0m\u001b[1;33m(\u001b[0m\u001b[0mtest_number\u001b[0m\u001b[1;33m)\u001b[0m\u001b[1;33m)\u001b[0m\u001b[1;33m\u001b[0m\u001b[1;33m\u001b[0m\u001b[0m\n\u001b[0m\u001b[0;32m     14\u001b[0m \u001b[1;33m\u001b[0m\u001b[0m\n\u001b[0;32m     15\u001b[0m \u001b[1;31m# using math.log() + recursion + list comprehension\u001b[0m\u001b[1;33m\u001b[0m\u001b[1;33m\u001b[0m\u001b[0m\n",
      "\u001b[1;31mTypeError\u001b[0m: 'str' object is not callable"
     ]
    }
   ],
   "source": [
    "import math\n",
    "   \n",
    "# the recursive function to reverse\n",
    "def rev(num):\n",
    "    return int(num != 0) and ((num % 10) * \\\n",
    "             (10**int(math.log(num, 10))) + \\\n",
    "                          rev(num // 10))\n",
    "  \n",
    "# initializing number \n",
    "test_number = 9669669\n",
    "  \n",
    "# printing the original number \n",
    "print (\"The original number is : \" + str(test_number))\n",
    "  \n",
    "# using math.log() + recursion + list comprehension\n",
    "# for checking a number is palindrome\n",
    "res = test_number == rev(test_number)\n",
    "  \n",
    "# printing result\n",
    "print (\"Is the number palindrome ? : \" + str(res))"
   ]
  },
  {
   "cell_type": "code",
   "execution_count": 73,
   "id": "172ec001",
   "metadata": {},
   "outputs": [
    {
     "name": "stdout",
     "output_type": "stream",
     "text": [
      "5\n"
     ]
    }
   ],
   "source": [
    "#73-remove the duplicate elements of a given array of numbers such that\n",
    "#each element appear only once and return the new length of the given array\n",
    "input_arr=[0,0,1,1,2,2,3,3,4,4,4]\n",
    "\n",
    "print(len(set(input_arr)))"
   ]
  },
  {
   "cell_type": "code",
   "execution_count": 75,
   "id": "32615d74",
   "metadata": {},
   "outputs": [
    {
     "name": "stdout",
     "output_type": "stream",
     "text": [
      "5\n",
      "6\n"
     ]
    }
   ],
   "source": [
    "def remove_duplicates(nums):\n",
    "    for i in range (len(nums)-1, 0, -1):\n",
    "        if nums[i] == nums[i-1]:\n",
    "            del nums[i-1]\n",
    "    return len(nums)\n",
    "\n",
    "print(remove_duplicates([0,0,1,1,2,2,3,3,4,4,4]))\n",
    "print(remove_duplicates([1, 2, 2, 3, 4, 4]))"
   ]
  },
  {
   "cell_type": "code",
   "execution_count": 77,
   "id": "d916b336",
   "metadata": {},
   "outputs": [
    {
     "name": "stdout",
     "output_type": "stream",
     "text": [
      "10\n"
     ]
    }
   ],
   "source": [
    "#74-calculate the maximum profit from selling and buying values of stock. \n",
    "#An array of numbers represent the stock prices in chronological order\n",
    "stock_prices=([8, 10, 7, 5, 7, 15])\n",
    "max_price=max(stock_prices)\n",
    "min_price=min(stock_prices)\n",
    "\n",
    "max_profit=max_price-min_price\n",
    "print(max_profit)        "
   ]
  },
  {
   "cell_type": "code",
   "execution_count": 78,
   "id": "773499ba",
   "metadata": {},
   "outputs": [
    {
     "name": "stdout",
     "output_type": "stream",
     "text": [
      "10\n",
      "7\n",
      "0\n"
     ]
    }
   ],
   "source": [
    "def buy_and_sell(stock_price):\n",
    "    max_profit_val, current_max_val = 0, 0 \n",
    "    for price in reversed(stock_price):                       \n",
    "        current_max_val = max(current_max_val, price)          \n",
    "        potential_profit = current_max_val - price          \n",
    "        max_profit_val = max(potential_profit, max_profit_val)\n",
    "\n",
    "    return max_profit_val\n",
    "\n",
    "print(buy_and_sell([8, 10, 7, 5, 7, 15]))\n",
    "print(buy_and_sell([1, 2, 8, 1]))\n",
    "print(buy_and_sell([]))"
   ]
  },
  {
   "cell_type": "code",
   "execution_count": 2,
   "id": "9d8752b7",
   "metadata": {},
   "outputs": [
    {
     "name": "stdout",
     "output_type": "stream",
     "text": [
      "[1, 2, 3, 4, 6, 7] 6\n"
     ]
    }
   ],
   "source": [
    "#Date-8/26/22\n",
    "#75-remove all instances of a given value from a given array of integers and find the length of the new array\n",
    "arr=[1, 2, 3, 4, 5, 6, 7, 5]\n",
    "n=5\n",
    "\n",
    "for i in arr:\n",
    "    if i==n:\n",
    "        arr.remove(i)\n",
    "print(arr, len(arr))"
   ]
  },
  {
   "cell_type": "code",
   "execution_count": 20,
   "id": "2321bb81",
   "metadata": {},
   "outputs": [
    {
     "name": "stdout",
     "output_type": "stream",
     "text": [
      "[0, 5]\n",
      "[0, 0]\n"
     ]
    }
   ],
   "source": [
    "#76-find the starting and ending position of a given value in a given array of integers, sorted in ascending order\n",
    "arr=[5, 7, 7, 8, 8, 8] \n",
    "n=8\n",
    "max_index=0\n",
    "#print(arr.index(n))\n",
    "def search_Range(array_nums, target_val):\n",
    "    res_arr=[]\n",
    "    start_pos=0\n",
    "    end_pos=0\n",
    "    for i in range(len(array_nums)):\n",
    "        if target_val==array_nums[i] and start_pos==-1:\n",
    "            start_pos=i\n",
    "            end_pos=i\n",
    "            #print(start_pos,end_pos)\n",
    "        elif target_val==array_nums[i] and start_pos!=-1:\n",
    "            end_pos=i\n",
    "           # print(end_pos)\n",
    "    res_arr.append(start_pos)\n",
    "    res_arr.append(end_pos)\n",
    "    return res_arr\n",
    "print(search_Range([5, 7, 7, 8, 8, 8], 8))\n",
    "#print(search_Range([1, 3, 6, 9, 13, 14], 4))\n",
    "print(search_Range([8, 7, 7,10], 8))"
   ]
  },
  {
   "cell_type": "code",
   "execution_count": 26,
   "id": "2e4462b8",
   "metadata": {},
   "outputs": [
    {
     "name": "stdout",
     "output_type": "stream",
     "text": [
      "35\n"
     ]
    }
   ],
   "source": [
    "#77-find the maximum profit in one transaction i.e., buy one and sell one share of the stock \n",
    "#from the given price value of the said array. You cannot sell a stock before you buy one\n",
    "stock_price=[224, 236, 247, 258, 259, 225]\n",
    "\n",
    "max_price=max(stock_price)\n",
    "max_index=stock_price.index(max_price)\n",
    "#print(max_price,max_index)\n",
    "max_profit=0\n",
    "\n",
    "for i in range(0,max_index+1):\n",
    "    if max_price-stock_price[i]>max_profit:\n",
    "        max_profit=max_price-stock_price[i]\n",
    "print(max_profit)   "
   ]
  },
  {
   "cell_type": "code",
   "execution_count": 27,
   "id": "6299a1cc",
   "metadata": {},
   "outputs": [
    {
     "name": "stdout",
     "output_type": "stream",
     "text": [
      "35\n"
     ]
    }
   ],
   "source": [
    "#use j=i+1(sell=buy+1 index)\n",
    "def max_profit(stock_price):\n",
    "\tmax_profit_amt = 0\n",
    "\n",
    "\tfor i in range(len(stock_price)):\n",
    "\t\tprofit_amt = 0\n",
    "\t\tfor j in range(i+1, len(stock_price)):\n",
    "\t\t\tprofit_amt = stock_price[j] - stock_price[i]\n",
    "\t\t\tif  profit_amt > max_profit_amt:\n",
    "\t\t\t\tmax_profit_amt = profit_amt\n",
    "\treturn max_profit_amt\n",
    "print(max_profit([224, 236, 247, 258, 259, 225]))\n"
   ]
  },
  {
   "cell_type": "code",
   "execution_count": 39,
   "id": "01cdbd5e",
   "metadata": {},
   "outputs": [
    {
     "name": "stdout",
     "output_type": "stream",
     "text": [
      "1 2 3 4 8 7 6 5 0 6 2 8 2 0 3 2 "
     ]
    }
   ],
   "source": [
    "#78- Python program to print a given N by M matrix of numbers line by line in forward > backwards > forward >... order\n",
    "mtr=[[1, 2, 3,4],\n",
    "    [5, 6, 7, 8],\n",
    "    [0, 6, 2, 8],\n",
    "    [2, 3, 0, 2]]\n",
    "\n",
    "for i in range(len(mtr)):\n",
    "    #print(\"i=\",i)\n",
    "    if i%2==0:\n",
    "        for j in range(len(mtr)):\n",
    "            print(mtr[i][j],end=\" \")\n",
    "    else:\n",
    "        for j in range(len(mtr)-1,-1,-1):\n",
    "            print(mtr[i][j],end=\" \")\n"
   ]
  },
  {
   "cell_type": "code",
   "execution_count": 42,
   "id": "762d20e2",
   "metadata": {},
   "outputs": [
    {
     "name": "stdout",
     "output_type": "stream",
     "text": [
      "1\n",
      "2\n",
      "3\n",
      "4\n",
      "8\n",
      "7\n",
      "6\n",
      "5\n",
      "0\n",
      "6\n",
      "2\n",
      "8\n",
      "2\n",
      "0\n",
      "3\n",
      "2\n"
     ]
    }
   ],
   "source": [
    "#try to use while loop when there are multiple for loops\n",
    "def print_matrix(nums):\n",
    "    flag = True \n",
    "    \n",
    "    for line in nums:\n",
    "\n",
    "        if flag == True: \n",
    "            i = 0\n",
    "            while i < len(line):\n",
    "                print(line[i], sep=\" \")\n",
    "                i += 1\n",
    "            flag = False\n",
    "\n",
    "        else: \n",
    "            i = -1\n",
    "            while i > -1 * len(line) - 1:\n",
    "                print(line[i], sep=\" \")\n",
    "                i = i - 1\n",
    "            flag = True\n",
    "print_matrix([[1, 2, 3, 4],\n",
    "              [5, 6, 7, 8],\n",
    "              [0, 6, 2, 8],\n",
    "              [2, 3, 0, 2]])"
   ]
  },
  {
   "cell_type": "code",
   "execution_count": 43,
   "id": "6923a4f2",
   "metadata": {},
   "outputs": [
    {
     "name": "stdout",
     "output_type": "stream",
     "text": [
      "4000\n",
      "8\n",
      "120\n"
     ]
    }
   ],
   "source": [
    "#79-compute the largest product of three integers from a given list of integers\n",
    "#lst=[-10, -20, 20, 1]\n",
    "def largest_product_of_three(nums):\n",
    "    max_val = nums[1]\n",
    "\n",
    "    for i in range(len(nums)):\n",
    "        for j in range(i+1, len(nums)):\n",
    "            for k in range(j+1, len(nums)):\n",
    "                max_val = max(nums[i] * nums[j] * nums[k], max_val)\n",
    "                \n",
    "    return max_val\n",
    "    \n",
    "print(largest_product_of_three([-10, -20, 20, 1]))\n",
    "print(largest_product_of_three([-1, -1, 4, 2, 1]))\n",
    "print(largest_product_of_three([1, 2, 3, 4, 5, 6]))"
   ]
  },
  {
   "cell_type": "code",
   "execution_count": 56,
   "id": "934cac41",
   "metadata": {},
   "outputs": [
    {
     "name": "stdout",
     "output_type": "stream",
     "text": [
      "[-10, 1, 2, 3, 4, 6, 8, 15, 16]\n",
      "2\n",
      "missing number is:  5\n"
     ]
    }
   ],
   "source": [
    "#80-find the first missing positive integer that does not exist in a given list\n",
    "lst=[2, 3, 4, 6, 8, 1, -10, 15, 16]\n",
    "sorted_lst=sorted(lst)\n",
    "print(sorted_lst)\n",
    "num=1\n",
    "for i in range(len(sorted_lst)):\n",
    "    if sorted_lst[i]>0 and sorted_lst[i]==sorted_lst[i+1]-1:\n",
    "        continue\n",
    "    elif sorted_lst[i]>0 and sorted_lst[i]!=sorted_lst[i+1]-1:\n",
    "        print(\"missing number is: \",sorted_lst[i]+1)\n",
    "        break\n",
    "    num+=1\n",
    "    print(num)"
   ]
  },
  {
   "cell_type": "code",
   "execution_count": 59,
   "id": "b5e26e89",
   "metadata": {},
   "outputs": [
    {
     "name": "stdout",
     "output_type": "stream",
     "text": [
      "[54, 20, 82, 64, 94, 80, 12, 42, 10, 16]\n"
     ]
    }
   ],
   "source": [
    "#81-randomly generate a list with 10 even numbers between 1 and 100 inclusive.\n",
    "import random\n",
    "print(random.sample([i for i in range(1,100) if i%2==0],10))"
   ]
  },
  {
   "cell_type": "code",
   "execution_count": 63,
   "id": "45f138b5",
   "metadata": {},
   "outputs": [
    {
     "name": "stdout",
     "output_type": "stream",
     "text": [
      "22.3\n"
     ]
    }
   ],
   "source": [
    "#82-calculate the median from a list of numbers\n",
    "import statistics\n",
    "lst=[2.0,12.11,22.3,24.12,55.22]\n",
    "res=statistics.median(lst)\n",
    "print(res)"
   ]
  },
  {
   "cell_type": "code",
   "execution_count": 68,
   "id": "a6807453",
   "metadata": {},
   "outputs": [
    {
     "name": "stdout",
     "output_type": "stream",
     "text": [
      "[4, 5, 8, 9, 10, 17]\n",
      "8.5\n"
     ]
    }
   ],
   "source": [
    "lst=[4, 5, 8, 9, 10, 17]\n",
    "lst.sort()\n",
    "print(lst)\n",
    "mid=len(lst)//2\n",
    "res=(lst[mid]+lst[~mid])/2\n",
    "#print(lst[mid],lst[~mid],mid,~mid)\n",
    "print(res)"
   ]
  },
  {
   "cell_type": "code",
   "execution_count": 76,
   "id": "2c8539cb",
   "metadata": {},
   "outputs": [
    {
     "name": "stdout",
     "output_type": "stream",
     "text": [
      "False\n"
     ]
    }
   ],
   "source": [
    "#83-test whether a given number is symmetrical or not.(palindrome)\n",
    "n=122\n",
    "m=\"\"\n",
    "lst=list(str(n))\n",
    "for i in range(len(lst)-1,-1,-1):\n",
    "    m+=lst[i]\n",
    "\n",
    "if int(m)==n:\n",
    "    print(\"True\")\n",
    "else:\n",
    "    print(\"False\")"
   ]
  },
  {
   "cell_type": "code",
   "execution_count": 78,
   "id": "6dd2334f",
   "metadata": {},
   "outputs": [
    {
     "name": "stdout",
     "output_type": "stream",
     "text": [
      "True\n",
      "True\n",
      "False\n",
      "True\n"
     ]
    }
   ],
   "source": [
    "def is_symmetrical_num(n):\n",
    "    return str(n) == str(n)[::-1]\n",
    "print(is_symmetrical_num(121))\n",
    "print(is_symmetrical_num(0))\n",
    "print(is_symmetrical_num(122))\n",
    "print(is_symmetrical_num(990099))"
   ]
  },
  {
   "cell_type": "code",
   "execution_count": 81,
   "id": "b339b32b",
   "metadata": {},
   "outputs": [
    {
     "name": "stdout",
     "output_type": "stream",
     "text": [
      "[[2, 6]]\n"
     ]
    }
   ],
   "source": [
    "#84- Count the negative numbers and compute the sum of the positive numbers of the said list. \n",
    "#Return these values through a list.\n",
    "lst=[1, 2, 3, -4, -5]\n",
    "cnt=0\n",
    "res=[]\n",
    "sums=0\n",
    "for i in lst:\n",
    "    if i<0:\n",
    "        cnt+=1\n",
    "    elif i>0:\n",
    "        sums+=i\n",
    "res.append([cnt,sums])\n",
    "print(res)"
   ]
  },
  {
   "cell_type": "code",
   "execution_count": 82,
   "id": "9cfbd462",
   "metadata": {},
   "outputs": [
    {
     "name": "stdout",
     "output_type": "stream",
     "text": [
      "Original list: [1, 2, 3, 4, 5]\n",
      "Number of negative of numbers and sum of the positive numbers of the said list: [0, 15]\n"
     ]
    }
   ],
   "source": [
    "def count_sum(nums):\n",
    "   if not nums: return []\n",
    "   return [len([n for n in nums if n < 0]), sum(n for n in nums if n > 0)]\n",
    "nums = [1, 2, 3, 4, 5]\n",
    "print(\"Original list:\",nums)\n",
    "print(\"Number of negative of numbers and sum of the positive numbers of the said list:\",count_sum(nums))"
   ]
  },
  {
   "cell_type": "code",
   "execution_count": 1,
   "id": "c6d44456",
   "metadata": {},
   "outputs": [
    {
     "name": "stdout",
     "output_type": "stream",
     "text": [
      "False\n",
      "True\n",
      "True\n",
      "False\n"
     ]
    }
   ],
   "source": [
    "#85-check whether a given string is an \"isogram\" or not.\n",
    "def check_isogram(str1):\n",
    "    return len(str1) == len(set(str1.lower()))\n",
    "\n",
    "print(check_isogram(\"w3resource\"))\n",
    "print(check_isogram(\"w3r\"))\n",
    "print(check_isogram(\"Python\"))\n",
    "print(check_isogram(\"Java\"))"
   ]
  },
  {
   "cell_type": "code",
   "execution_count": 8,
   "id": "f3efd12e",
   "metadata": {},
   "outputs": [
    {
     "name": "stdout",
     "output_type": "stream",
     "text": [
      "2 --> 2\n"
     ]
    }
   ],
   "source": [
    "#86-count the number of equal numbers from three given\n",
    "l=[1, 2, 2]\n",
    "dct={}\n",
    "for i in l:\n",
    "    dct[i]=l.count(i)\n",
    "for key, val in dct.items():\n",
    "    if val>1:\n",
    "        print(key,\"-->\",val)"
   ]
  },
  {
   "cell_type": "code",
   "execution_count": 11,
   "id": "e0e09e5a",
   "metadata": {},
   "outputs": [
    {
     "name": "stdout",
     "output_type": "stream",
     "text": [
      "employee code does not follow rule\n"
     ]
    }
   ],
   "source": [
    "#87-check whether a given employee code is exactly 8 digits or 12 digits\n",
    "#solution-1: ascii or unicode\n",
    "#isdigit method\n",
    "code='1234567j'\n",
    "for i in code:\n",
    "    if i.isdigit():\n",
    "        flag=0\n",
    "    else:\n",
    "        flag=1\n",
    "        break\n",
    "if flag==0:\n",
    "    print(\"employee code is exactly 8 digits\")\n",
    "else:\n",
    "    print(\"employee code does not follow rule\")"
   ]
  },
  {
   "cell_type": "code",
   "execution_count": 12,
   "id": "8aa63e8f",
   "metadata": {},
   "outputs": [
    {
     "name": "stdout",
     "output_type": "stream",
     "text": [
      "True\n",
      "False\n",
      "False\n"
     ]
    }
   ],
   "source": [
    "def is_valid_emp_code(emp_code):\n",
    "  return len(emp_code) in [8, 12] and emp_code.isdigit()\n",
    "print(is_valid_emp_code('12345678'))\n",
    "print(is_valid_emp_code('1234567j'))\n",
    "print(is_valid_emp_code('12345678j'))"
   ]
  },
  {
   "cell_type": "code",
   "execution_count": 14,
   "id": "b7675c43",
   "metadata": {},
   "outputs": [
    {
     "name": "stdout",
     "output_type": "stream",
     "text": [
      "the second string present in the first string\n"
     ]
    }
   ],
   "source": [
    "#88-program that accept two strings and test if the letters in the second string are present in the first string\n",
    "arr=[\"python\", \"ypth\"]\n",
    "\n",
    "for i in arr[1]:\n",
    "    if i in arr[0]:\n",
    "        flag=0\n",
    "    else:\n",
    "        flag=1\n",
    "        break\n",
    "if flag==1:\n",
    "    print(\"the second string do not present in the first string\")\n",
    "else:\n",
    "    print(\"the second string present in the first string\")"
   ]
  },
  {
   "cell_type": "code",
   "execution_count": 15,
   "id": "49494cfd",
   "metadata": {},
   "outputs": [
    {
     "name": "stdout",
     "output_type": "stream",
     "text": [
      "True\n",
      "False\n"
     ]
    }
   ],
   "source": [
    "#using all\n",
    "def string_letter_check(str1, str2):\n",
    "  return all([char in str1.lower() for char in str2.lower()])\n",
    "print(string_letter_check(\"python\", \"ypth\"))\n",
    "print(string_letter_check(\"python\", \"ypths\"))"
   ]
  },
  {
   "cell_type": "code",
   "execution_count": 18,
   "id": "4e93e458",
   "metadata": {},
   "outputs": [
    {
     "name": "stdout",
     "output_type": "stream",
     "text": [
      "37\n"
     ]
    }
   ],
   "source": [
    "#89-compute the sum of the three lowest positive numbers from a given list of numbers\n",
    "lst=[10, 20, 30, 40, 50, 60, 7]\n",
    "lst.sort()\n",
    "print(sum(lst[:3]))"
   ]
  },
  {
   "cell_type": "code",
   "execution_count": 19,
   "id": "ac38900a",
   "metadata": {},
   "outputs": [
    {
     "name": "stdout",
     "output_type": "stream",
     "text": [
      "Original list of numbers:  [10, 20, 30, 40, 50, 60, 7]\n",
      "Sum of the three lowest positive numbers of the said array:  37\n"
     ]
    }
   ],
   "source": [
    "def sum_three_smallest_nums(lst):\n",
    "\treturn sum(sorted([x for x in lst if x > 0])[:3])\n",
    "nums = [10, 20, 30, 40, 50, 60, 7]\n",
    "print(\"Original list of numbers: \",nums)\n",
    "print(\"Sum of the three lowest positive numbers of the said array: \",sum_three_smallest_nums(nums))"
   ]
  },
  {
   "cell_type": "code",
   "execution_count": 21,
   "id": "f14741bc",
   "metadata": {},
   "outputs": [
    {
     "name": "stdout",
     "output_type": "stream",
     "text": [
      "******23swe\n"
     ]
    }
   ],
   "source": [
    "#90-replace first five characters of a given string with \"*\" and returns the new string\n",
    "strng=\"kdi39323swe\"\n",
    "cnt=0\n",
    "res_strng=\"\"\n",
    "for i in strng:\n",
    "    if cnt<=5:\n",
    "        res_strng+=\"*\"\n",
    "        cnt+=1\n",
    "    else:\n",
    "        res_strng+=i\n",
    "print(res_strng)"
   ]
  },
  {
   "cell_type": "code",
   "execution_count": 22,
   "id": "bb42bd17",
   "metadata": {},
   "outputs": [
    {
     "name": "stdout",
     "output_type": "stream",
     "text": [
      "Original String:  kdi39323swe\n",
      "new string:  ******23swe\n"
     ]
    }
   ],
   "source": [
    "def new_string(str1):\n",
    "    return '*'*(len(str1)-5)+str1[-5:]\n",
    "text = \"kdi39323swe\"\n",
    "print(\"Original String: \",text)\n",
    "print(\"new string: \",new_string(text))"
   ]
  },
  {
   "cell_type": "code",
   "execution_count": 23,
   "id": "cd65221c",
   "metadata": {},
   "outputs": [
    {
     "name": "stdout",
     "output_type": "stream",
     "text": [
      "0\n",
      "1\n"
     ]
    }
   ],
   "source": [
    "#91-count the number of arguments in a given function\n",
    "def num_of_args(*args):\n",
    "   \n",
    "    # using len() method in args to count\n",
    "    return(len(args))\n",
    "\n",
    "print(num_of_args())\n",
    "print(num_of_args([1, 2, 3, 4]))"
   ]
  },
  {
   "cell_type": "code",
   "execution_count": 24,
   "id": "fdf07563",
   "metadata": {},
   "outputs": [
    {
     "name": "stdout",
     "output_type": "stream",
     "text": [
      "[10, 30, 60, 100, 150, 210, 217]\n"
     ]
    }
   ],
   "source": [
    "#92-program to compute cumulative sum of numbers of a given list\n",
    "lst=[10, 20, 30, 40, 50, 60, 7]\n",
    "res_lst=[]\n",
    "cum_sum=0\n",
    "\n",
    "for i in range(len(lst)):\n",
    "    cum_sum+=lst[i]\n",
    "    res_lst.append(cum_sum)\n",
    "print(res_lst)"
   ]
  },
  {
   "cell_type": "code",
   "execution_count": 25,
   "id": "a3543be1",
   "metadata": {},
   "outputs": [
    {
     "name": "stdout",
     "output_type": "stream",
     "text": [
      "[10, 30, 60, 100, 150, 210, 217]\n"
     ]
    }
   ],
   "source": [
    "def nums_cumulative_sum(nums_list):\n",
    "  return [sum(nums_list[:i+1]) for i in range(len(nums_list))]\n",
    "\n",
    "print(nums_cumulative_sum([10, 20, 30, 40, 50, 60, 7]))"
   ]
  },
  {
   "cell_type": "code",
   "execution_count": 40,
   "id": "ea9b1b96",
   "metadata": {},
   "outputs": [
    {
     "name": "stdout",
     "output_type": "stream",
     "text": [
      "8 4.0 -4.0\n",
      "ty\n"
     ]
    }
   ],
   "source": [
    "#93-find the middle character(s) of a given string. If the length of the string is even \n",
    "#return the two middle characters. If the length of the string is odd, return the middle character.\n",
    "s=\"kkPython\"\n",
    "m=len(s)\n",
    "print(m,m/2,-m/2)\n",
    "if m%2==0:\n",
    "    print(s[int(m/2)]+s[-(int(m/2))-1])\n",
    "else:    \n",
    "    print(s[int(m/2)])"
   ]
  },
  {
   "cell_type": "code",
   "execution_count": 44,
   "id": "1ef044b1",
   "metadata": {},
   "outputs": [
    {
     "name": "stdout",
     "output_type": "stream",
     "text": [
      "Original string:  Python\n",
      "Middle character(s) of the said string:  th\n"
     ]
    }
   ],
   "source": [
    "def middle_char(txt):\n",
    "  return txt[(len(txt)-1)//2:(len(txt)+2)//2]\n",
    "text = \"Python\"\n",
    "print(\"Original string: \",text)\n",
    "print(\"Middle character(s) of the said string: \",middle_char(text))"
   ]
  },
  {
   "cell_type": "code",
   "execution_count": 45,
   "id": "4d4da1ac",
   "metadata": {},
   "outputs": [
    {
     "name": "stdout",
     "output_type": "stream",
     "text": [
      "30\n"
     ]
    }
   ],
   "source": [
    "#94-program to find the largest product of the pair of adjacent elements from a given list of integers\n",
    "arr=[1, 2, 3, 4, 5, 6]\n",
    "max_prod=0\n",
    "for i in range(len(arr)-1):\n",
    "    prod=0\n",
    "    prod=arr[i]*arr[i+1]\n",
    "    if max_prod<prod:\n",
    "        max_prod=prod\n",
    "print(max_prod)"
   ]
  },
  {
   "cell_type": "code",
   "execution_count": 47,
   "id": "8287adbc",
   "metadata": {},
   "outputs": [
    {
     "name": "stdout",
     "output_type": "stream",
     "text": [
      "Original list:  [1, 2, 3, 4, 5, 6]\n",
      "Largest product of the pair of adjacent elements of the said list: 30\n"
     ]
    }
   ],
   "source": [
    "def adjacent_num_product(list_nums):\n",
    "   return max(a*b for a, b in zip(list_nums, list_nums[1:]))\n",
    "nums = [1,2,3,4,5,6]\n",
    "print(\"Original list: \",nums)\n",
    "print(\"Largest product of the pair of adjacent elements of the said list:\", adjacent_num_product(nums))"
   ]
  },
  {
   "cell_type": "code",
   "execution_count": 49,
   "id": "f913f83c",
   "metadata": {},
   "outputs": [
    {
     "name": "stdout",
     "output_type": "stream",
     "text": [
      "They are not following rule\n"
     ]
    }
   ],
   "source": [
    "#95-check whether every even index contains an even number and every odd index contains odd number of a given list\n",
    "lst= [2, 1, 4, 3, 6, 7, 1, 3]\n",
    "for i in range(len(lst)):\n",
    "    if i%2==0 and lst[i]%2==0:\n",
    "        continue\n",
    "    elif i%2==1 and lst[i]%2==1:\n",
    "        continue\n",
    "    else:\n",
    "        print(\"They are not following rule\")\n",
    "        break"
   ]
  },
  {
   "cell_type": "code",
   "execution_count": 50,
   "id": "8681e2ba",
   "metadata": {},
   "outputs": [
    {
     "name": "stdout",
     "output_type": "stream",
     "text": [
      "Original list of numbers: [2, 1, 4, 3, 6, 7, 6, 3]\n",
      "Check whether every even index contains an even number and every \n",
      "odd index contains odd number of a given list:\n",
      "True\n"
     ]
    }
   ],
   "source": [
    "def odd_even_position(nums):\n",
    "           return all(nums[i]%2==i%2 for i in range(len(nums)))\n",
    "nums = [2, 1, 4, 3, 6, 7, 6, 3]\n",
    "print(\"Original list of numbers:\", nums)\n",
    "print(\"Check whether every even index contains an even number and every \\nodd index contains odd number of a given list:\")\n",
    "print(odd_even_position(nums))"
   ]
  },
  {
   "cell_type": "code",
   "execution_count": 53,
   "id": "8fe6e7bb",
   "metadata": {},
   "outputs": [
    {
     "name": "stdout",
     "output_type": "stream",
     "text": [
      "yes\n"
     ]
    }
   ],
   "source": [
    "# Python 3 program for checking of\n",
    "# Narcissistic number\n",
    " \n",
    "# function to count digits\n",
    "def countDigit(n) :\n",
    "    if (n == 0) :\n",
    "        return 0 \n",
    "    return (1 + countDigit(n // 10))\n",
    "     \n",
    "# Returns true if n is Narcissistic number\n",
    "def check(n) :     \n",
    "    # Count the number of digits\n",
    "    l = countDigit(n)\n",
    "    dup = n; sm = 0\n",
    " \n",
    "    # Calculates the sum of digits\n",
    "    # raised to power\n",
    "    while (dup) :\n",
    "        sm = sm + pow(dup % 10, l)\n",
    "        dup = dup // 10     \n",
    "    return (n == sm)\n",
    "  \n",
    "# Driver code\n",
    "n = 1634\n",
    "if (check(n)) :\n",
    "    print( \"yes\")\n",
    "else :\n",
    "    print( \"no\")"
   ]
  },
  {
   "cell_type": "code",
   "execution_count": 54,
   "id": "cecec288",
   "metadata": {},
   "outputs": [
    {
     "name": "stdout",
     "output_type": "stream",
     "text": [
      "true\n"
     ]
    }
   ],
   "source": [
    "def getResult(st):\n",
    "    sum = 0\n",
    "    length = len(st)\n",
    " \n",
    "    # Traversing through the string\n",
    "    for i in st:\n",
    " \n",
    "        # Converting character to int\n",
    "        sum = sum + int(i) ** length\n",
    " \n",
    "    # Converting string to integer\n",
    "    number = int(st)\n",
    " \n",
    "    # Comparing number and sum\n",
    "    if (number == sum):\n",
    "        return \"true\"\n",
    "    else:\n",
    "        return \"false\"\n",
    "    \n",
    "# Driver Code taking input as string\n",
    "st = \"153\"\n",
    "print(getResult(st))"
   ]
  },
  {
   "cell_type": "code",
   "execution_count": 11,
   "id": "e379b0fc",
   "metadata": {},
   "outputs": [
    {
     "name": "stdout",
     "output_type": "stream",
     "text": [
      "77 0\n"
     ]
    }
   ],
   "source": [
    "#Date 8/27/22\n",
    "#97- find the highest and lowest number from a given string of space separated integers\n",
    "s=\"1 4 5 77 9 0\"\n",
    "#arr=[]\n",
    "num_list = list(map(int, s.split()))\n",
    "print(max(num_list), min(num_list))"
   ]
  },
  {
   "cell_type": "code",
   "execution_count": 19,
   "id": "2314c0a7",
   "metadata": {},
   "outputs": [
    {
     "name": "stdout",
     "output_type": "stream",
     "text": [
      "False\n"
     ]
    }
   ],
   "source": [
    "#98-check whether a sequence of numbers has an increasing trend or not.\n",
    "lst=[1,5,3,4]\n",
    "#print(sorted(lst))\n",
    "if lst==sorted(lst):\n",
    "    print(\"True\")\n",
    "else:\n",
    "    print(\"False\")"
   ]
  },
  {
   "cell_type": "code",
   "execution_count": 27,
   "id": "a91e80b5",
   "metadata": {},
   "outputs": [
    {
     "name": "stdout",
     "output_type": "stream",
     "text": [
      "-1\n"
     ]
    }
   ],
   "source": [
    "#99-find the position of the second occurrence of a given string in another given string. If there is no such string return -1\n",
    "txt=\"the quick brown fox jumps over the lazy dog\"\n",
    "s=\"the\"\n",
    "\n",
    "def find_string(txt,str1):\n",
    "    return txt.find(str1,txt.find(str1)+1)\n",
    "#print(txt.find(s,9,10))\n",
    "print(find_string(\"The quick brown fox jumps over the lazy dog\", \"the\"))"
   ]
  },
  {
   "cell_type": "code",
   "execution_count": 28,
   "id": "4912725c",
   "metadata": {},
   "outputs": [
    {
     "name": "stdout",
     "output_type": "stream",
     "text": [
      "20\n"
     ]
    }
   ],
   "source": [
    "#100-compute the sum of all items of a given array of integers where each integer is multiplied by its index. Return 0 if there is no number\n",
    "lst=[1,2,3,4]\n",
    "sums=0\n",
    "\n",
    "for i in range(len(lst)):\n",
    "    sums+=(i*lst[i])\n",
    "print(sums)"
   ]
  },
  {
   "cell_type": "code",
   "execution_count": 29,
   "id": "8aff63c6",
   "metadata": {},
   "outputs": [
    {
     "name": "stdout",
     "output_type": "stream",
     "text": [
      "20\n",
      "-20\n"
     ]
    }
   ],
   "source": [
    "#using enumerate\n",
    "def sum_index_multiplier(nums):\n",
    "    return sum(j*i for i, j in enumerate(nums))\n",
    "print(sum_index_multiplier([1,2,3,4]))\n",
    "print(sum_index_multiplier([-1,-2,-3,-4]))"
   ]
  },
  {
   "cell_type": "code",
   "execution_count": 31,
   "id": "1e0b7617",
   "metadata": {},
   "outputs": [
    {
     "name": "stdout",
     "output_type": "stream",
     "text": [
      "Nidia Dominique\n"
     ]
    }
   ],
   "source": [
    "#101-find the name of the oldest student from a given dictionary containing the names and ages of a group of students.\n",
    "dct={\"Bernita Ahner\": 12, \"Kristie Marsico\": 11, \"Sara Pardee\": 14, \"Fallon Fabiano\": 11, \"Nidia Dominique\": 15}\n",
    "max_val=0\n",
    "max_key=\"\"\n",
    "for key, val in dct.items():\n",
    "    if val>max_val:\n",
    "        max_val=val\n",
    "        max_key=key\n",
    "print(max_key)"
   ]
  },
  {
   "cell_type": "code",
   "execution_count": 32,
   "id": "e0871c58",
   "metadata": {},
   "outputs": [
    {
     "name": "stdout",
     "output_type": "stream",
     "text": [
      "Becki Saunder\n"
     ]
    }
   ],
   "source": [
    "#using get\n",
    "def oldest_student(students):\n",
    "    return max(students,key=students.get)\n",
    "print(oldest_student({\"Nilda Woodside\": 12, \"Jackelyn Pineda\": 12.2, \n",
    "                      \"Sofia Park\": 12.4, \"Joannie Archibald\": 12.6, \n",
    "                      \"Becki Saunder\": 12.7})) "
   ]
  },
  {
   "cell_type": "code",
   "execution_count": 34,
   "id": "a0bfa154",
   "metadata": {},
   "outputs": [
    {
     "name": "stdout",
     "output_type": "stream",
     "text": [
      "PYTHON\n"
     ]
    }
   ],
   "source": [
    "#102-create a new string with no duplicate consecutive letters from a given string\n",
    "s=(\"PPYYYTTHON\")\n",
    "res=\"\"\n",
    "for i in s:\n",
    "    if i not in res:\n",
    "        res+=i\n",
    "print(res)"
   ]
  },
  {
   "cell_type": "code",
   "execution_count": 36,
   "id": "6598821b",
   "metadata": {},
   "outputs": [
    {
     "name": "stdout",
     "output_type": "stream",
     "text": [
      "PYTHON\n",
      "Python\n"
     ]
    }
   ],
   "source": [
    "def no_consecutive_letters(txt):\n",
    "    return txt[0]+''.join(txt[i] for i in range(1,len(txt)) if txt[i]!=txt[i-1])\n",
    "print(no_consecutive_letters(\"PPYYYTTHON\"))\n",
    "print(no_consecutive_letters(\"PPyyythonnn\"))"
   ]
  },
  {
   "cell_type": "code",
   "execution_count": 37,
   "id": "3b36df49",
   "metadata": {},
   "outputs": [],
   "source": [
    "#103-check whether two given lines are parallel or not\n",
    "def parallel_line(a1, b1, c1, a2, b2, c2):\n",
    "    if a1*b2==a2*b1:\n",
    "        print(\"Yes\")\n",
    "    else:\n",
    "        print(\"No\")"
   ]
  },
  {
   "cell_type": "code",
   "execution_count": 38,
   "id": "8ad792f5",
   "metadata": {},
   "outputs": [
    {
     "name": "stdout",
     "output_type": "stream",
     "text": [
      "True\n"
     ]
    }
   ],
   "source": [
    "def parallel_lines(line1,line2):\n",
    "    return line1[0]/line1[1] == line2[0]/line2[1]  #same as above\n",
    "print(parallel_lines([2,3,4], [2,3,8]))"
   ]
  },
  {
   "cell_type": "code",
   "execution_count": 5,
   "id": "267831da",
   "metadata": {},
   "outputs": [
    {
     "data": {
      "text/plain": [
       "[15]"
      ]
     },
     "execution_count": 5,
     "metadata": {},
     "output_type": "execute_result"
    }
   ],
   "source": [
    "#104-find a number in a given matrix, which is maximum in its column and minimum in its row\n",
    "import sys\n",
    "mtr=[[1, 2], [2, 3]]\n",
    "\n",
    "def minmaxNumbers(matrix,res):\n",
    "    s=set()\n",
    "    \n",
    "    #traverse matrix\n",
    "    for i in range(0,len(matrix),1):#Tracing row\n",
    "        minr=sys.maxsize\n",
    "        for j in range(0,len(matrix[i]),1):#Tracing column\n",
    "            \n",
    "            #update minimum element of currwnt row\n",
    "            minr=min(minr,matrix[i][j])\n",
    "            \n",
    "        #insert minimum element of row\n",
    "        s.add(minr)\n",
    "    \n",
    "    for j in range(0, len(matrix[0]),1):  ##Tracing column\n",
    "        maxc=-sys.maxsize-1\n",
    "        for i in range(0,len(matrix),1):  #tracing rows\n",
    "            \n",
    "            #update maximum element of current column\n",
    "            maxc=max(maxc,matrix[i][j])\n",
    "            \n",
    "        # Checking if it is already present in unordered set\n",
    "        if maxc in s:\n",
    "            res.append(maxc)\n",
    "        \n",
    "    return res\n",
    "mat = [ [ 1, 10, 4 ],\n",
    "            [ 9, 3, 8 ],\n",
    "            [ 15, 16, 17 ] ]\n",
    "ans=[]\n",
    "\n",
    "minmaxNumbers(mat, ans)\n",
    "            "
   ]
  },
  {
   "cell_type": "code",
   "execution_count": 8,
   "id": "ac034e2c",
   "metadata": {},
   "outputs": [
    {
     "name": "stdout",
     "output_type": "stream",
     "text": [
      "Original matrix: [[1, 2], [2, 3]]\n",
      "Number in the said matrix which is maximum in its column and minimum in its row:\n",
      "{2}\n"
     ]
    }
   ],
   "source": [
    "def matrix_number(matrix):\n",
    "    result=set(map(min,matrix)) & set(map(max,zip(*matrix)))\n",
    "    return result\n",
    "\n",
    "m1 = [[1,2], [2,3]]\n",
    "print(\"Original matrix:\",m1)\n",
    "print(\"Number in the said matrix which is maximum in its column and minimum in its row:\")\n",
    "print(matrix_number(m1))"
   ]
  },
  {
   "cell_type": "markdown",
   "id": "a33214d9",
   "metadata": {},
   "source": [
    "#105-check whether a given sequence is linear, quadratic or cubic\n",
    "#naive approch\n",
    "\n",
    "def Seq_Linear_Quadratic_Cubic(seq_nums):\n",
    "    seq_nums = [seq_nums[x] - seq_nums[x-1] for x in range(1, len(seq_nums))]\n",
    "    print(seq_nums)\n",
    "    if len(set(seq_nums)) == 1: return \"Linear Sequence\"\n",
    "    \n",
    "    seq_nums = [seq_nums[x] - seq_nums[x-1] for x in range(1, len(seq_nums))]\n",
    "    print(seq_nums)\n",
    "    if len(set(seq_nums)) == 1: return \"Quadratic Sequence\"\n",
    "    \n",
    "    seq_nums = [seq_nums[x] - seq_nums[x-1] for x in range(1, len(seq_nums))]\n",
    "    print(seq_nums)\n",
    "    if len(set(seq_nums)) == 1: return \"Cubic Sequence\"\n",
    "    \n",
    "nums = [1,4,9,16,25]\n",
    "print(\"Original Sequence:\",nums)\n",
    "print(\"Check the said sequence is Linear, Quadratic or Cubic?\")\n",
    "print(Seq_Linear_Quadratic_Cubic(nums))"
   ]
  },
  {
   "cell_type": "code",
   "execution_count": 16,
   "id": "b94acacd",
   "metadata": {},
   "outputs": [
    {
     "name": "stdout",
     "output_type": "stream",
     "text": [
      "Original Sequence: [0, 2, 4, 6, 8, 10]\n",
      "Check the said sequence is Linear, Quadratic or Cubic?\n",
      "[2, 2, 2, 2, 2]\n",
      "Linear Sequence\n",
      "\n",
      "Original Sequence: [1, 4, 9, 16, 25]\n",
      "Check the said sequence is Linear, Quadratic or Cubic?\n",
      "[3, 5, 7, 9]\n",
      "[3, 5, 7, 9]\n",
      "Quadratic Sequence\n",
      "\n",
      "Original Sequence: [0, 12, 10, 0, -12, -20]\n",
      "Check the said sequence is Linear, Quadratic or Cubic?\n",
      "[12, -2, -10, -12, -8]\n",
      "[12, -2, -10, -12, -8]\n",
      "[6, 6, 6]\n",
      "Cubic Sequence\n"
     ]
    }
   ],
   "source": [
    "def Seq_Linear_Quadratic_Cubic(seq_nums):\n",
    "  seq_nums = [seq_nums[x] - seq_nums[x-1] for x in range(1, len(seq_nums))]\n",
    "  print(seq_nums)\n",
    "  if len(set(seq_nums)) == 1: return \"Linear Sequence\"\n",
    "\n",
    "  print(seq_nums)\n",
    "  seq_nums = [seq_nums[x] - seq_nums[x-1] for x in range(1, len(seq_nums))]\n",
    "  if len(set(seq_nums)) == 1: return \"Quadratic Sequence\"\n",
    "    \n",
    "  seq_nums = [seq_nums[x] - seq_nums[x-1] for x in range(1, len(seq_nums))]\n",
    "  print(seq_nums)\n",
    "  if len(set(seq_nums)) == 1: return \"Cubic Sequence\"\n",
    "\n",
    "nums = [0,2,4,6,8,10]\n",
    "print(\"Original Sequence:\",nums)\n",
    "print(\"Check the said sequence is Linear, Quadratic or Cubic?\")\n",
    "print(Seq_Linear_Quadratic_Cubic(nums))\n",
    "nums = [1,4,9,16,25]\n",
    "print(\"\\nOriginal Sequence:\",nums)\n",
    "print(\"Check the said sequence is Linear, Quadratic or Cubic?\")\n",
    "print(Seq_Linear_Quadratic_Cubic(nums))\n",
    "nums = [0,12,10,0,-12,-20]\n",
    "print(\"\\nOriginal Sequence:\",nums)\n",
    "print(\"Check the said sequence is Linear, Quadratic or Cubic?\")\n",
    "print(Seq_Linear_Quadratic_Cubic(nums))"
   ]
  },
  {
   "cell_type": "code",
   "execution_count": 22,
   "id": "e5becc32",
   "metadata": {},
   "outputs": [
    {
     "name": "stdout",
     "output_type": "stream",
     "text": [
      "[0, 1, 2, 3, 4, 5, 6, 7, 8, 9]\n",
      "Its a Pandigital\n"
     ]
    }
   ],
   "source": [
    "#106-test whether a given integer is Pandigital number or not.\n",
    "dec_arr=[0,1,2,3,4,5,6,7,8,9]\n",
    "\n",
    "num=1023456897\n",
    "i=10\n",
    "arr=[]\n",
    "\n",
    "if len(str(num))!=10:\n",
    "    print(\"Not a Pandigital\")\n",
    "else:\n",
    "    while i>0:\n",
    "        dig=num%10\n",
    "        num=num//10\n",
    "        arr.append(dig)\n",
    "        i-=1\n",
    "    print(sorted(arr))\n",
    "    if sorted(arr)==dec_arr:\n",
    "        print(\"Its a Pandigital\")\n",
    "    else:\n",
    "        print(\"Not a Pandigital\")"
   ]
  },
  {
   "cell_type": "code",
   "execution_count": 23,
   "id": "9886d66b",
   "metadata": {},
   "outputs": [
    {
     "name": "stdout",
     "output_type": "stream",
     "text": [
      "Original number: 1023456897\n",
      "Check the said number is Pandigital number or not?\n",
      "True\n"
     ]
    }
   ],
   "source": [
    "def is_pandigital_num(n):\n",
    "    return len(set(str(n))) == 10\n",
    "\n",
    "n = 1023456897\n",
    "print(\"Original number:\",n)\n",
    "print(\"Check the said number is Pandigital number or not?\")\n",
    "print(is_pandigital_num(n))"
   ]
  },
  {
   "cell_type": "code",
   "execution_count": 29,
   "id": "cf9085f4",
   "metadata": {},
   "outputs": [
    {
     "name": "stdout",
     "output_type": "stream",
     "text": [
      "number is evenish\n"
     ]
    }
   ],
   "source": [
    "#107-check whether a given number is Oddish or Evenish\n",
    "n=321\n",
    "n_len=len(str(n))\n",
    "sums=0\n",
    "\n",
    "while n_len>0:\n",
    "    dig=n%10\n",
    "    n=n//10\n",
    "    sums+=dig\n",
    "    n_len-=1\n",
    "\n",
    "if sums%2==0:\n",
    "    print(\"number is evenish\")\n",
    "else:\n",
    "    print(\"number is oddish\")"
   ]
  },
  {
   "cell_type": "code",
   "execution_count": 31,
   "id": "cb1f2b5d",
   "metadata": {},
   "outputs": [
    {
     "name": "stdout",
     "output_type": "stream",
     "text": [
      "Original Number 120\n",
      "Check whether the sum of all digits of the said number is odd or even!\n",
      "Oddish\n"
     ]
    }
   ],
   "source": [
    "def oddish_evenish_num(n):\n",
    "    return 'Oddish' if sum(map(int,str(n)))%2 else 'Evenish'\n",
    "\n",
    "n = 120\n",
    "print(\"Original Number\",n)\n",
    "print(\"Check whether the sum of all digits of the said number is odd or even!\")\n",
    "print(oddish_evenish_num(120))"
   ]
  },
  {
   "cell_type": "code",
   "execution_count": 32,
   "id": "ebc26eb2",
   "metadata": {},
   "outputs": [
    {
     "name": "stdout",
     "output_type": "stream",
     "text": [
      "True\n",
      "False\n",
      "True\n",
      "False\n",
      "True\n"
     ]
    }
   ],
   "source": [
    "#108-program that takes three integers and check whether the sum of the last digit of first number\n",
    "#and the last digit of second number equal to the last digit of third number\n",
    "tup=(12, 26, 44)\n",
    "def check_last_digit(x,y,z):\n",
    "    return str(x+z)[-1]==str(y)[-1]\n",
    "\n",
    "print(check_last_digit(12, 26, 44))\n",
    "print(check_last_digit(145, 122, 1010))\n",
    "print(check_last_digit(0, 20, 40))\n",
    "print(check_last_digit(1, 22, 40))\n",
    "print(check_last_digit(145, 129, 104))"
   ]
  },
  {
   "cell_type": "code",
   "execution_count": 33,
   "id": "63d8652b",
   "metadata": {},
   "outputs": [
    {
     "name": "stdout",
     "output_type": "stream",
     "text": [
      "[1, 5]\n"
     ]
    }
   ],
   "source": [
    "#109-find the indices of all occurrences of a given item in a given list\n",
    "lst=[1,2,3,4,5,2]\n",
    "n=2\n",
    "\n",
    "def indices_in_list(nums_list,n):\n",
    "    return [idx for idx, i in enumerate(nums_list) if i==n]\n",
    "print(indices_in_list(lst,2))"
   ]
  },
  {
   "cell_type": "code",
   "execution_count": 35,
   "id": "e376d926",
   "metadata": {},
   "outputs": [
    {
     "name": "stdout",
     "output_type": "stream",
     "text": [
      "Original list of numbers: [1, 2, 3, 2, 3, 4, 5]\n",
      "After removing the duplicate numbers from the said list:\n",
      "[1, 4, 5]\n"
     ]
    }
   ],
   "source": [
    "#110-remove the duplicate numbers from a given list of numbers.\n",
    "arr=[1,2,3,2,3,4,5]\n",
    "def unique_nums(nums):\n",
    "    return [i for i in nums if nums.count(i)==1]\n",
    "nums = [1,2,3,2,3,4,5]\n",
    "print(\"Original list of numbers:\",nums)\n",
    "print(\"After removing the duplicate numbers from the said list:\")\n",
    "print(unique_nums(nums))"
   ]
  },
  {
   "cell_type": "code",
   "execution_count": 36,
   "id": "927f9094",
   "metadata": {},
   "outputs": [
    {
     "name": "stdout",
     "output_type": "stream",
     "text": [
      "True\n",
      "False\n"
     ]
    }
   ],
   "source": [
    "#111-check whether two given circles (given center (x,y) and radius) are intersecting\n",
    "def is_circle_collision(circle1,circle2):\n",
    "    x1,y1,r1=circle1\n",
    "    x2,y2,r2=circle2\n",
    "    distance=((x1-x2)**2 +(y1-y2)**2)**0.5\n",
    "    return distance<=r1+r2\n",
    "print(is_circle_collision([1,2, 4], [1,2, 8]))\n",
    "print(is_circle_collision([0,0, 2], [10,10, 5]))"
   ]
  },
  {
   "cell_type": "code",
   "execution_count": 1,
   "id": "170cabe0",
   "metadata": {},
   "outputs": [
    {
     "name": "stdout",
     "output_type": "stream",
     "text": [
      "7\n",
      "6\n",
      "1\n",
      "11\n"
     ]
    }
   ],
   "source": [
    "#112-compute the digit distance between two integers\n",
    "n1=123\n",
    "n2=256\n",
    "\n",
    "def digit_distance_nums(n1,n2):\n",
    "    return sum(map(int,str(abs(n1-n2))))\n",
    "\n",
    "print(digit_distance_nums(123, 256))\n",
    "print(digit_distance_nums(23, 56))\n",
    "print(digit_distance_nums(1, 2))\n",
    "print(digit_distance_nums(24232, 45645))"
   ]
  },
  {
   "cell_type": "code",
   "execution_count": 4,
   "id": "fbeb8a82",
   "metadata": {},
   "outputs": [
    {
     "name": "stdout",
     "output_type": "stream",
     "text": [
      "The quick brown fox jumps revo the yzal dog\n"
     ]
    }
   ],
   "source": [
    "#113-reverse all the words which have even length\n",
    "s=\"The quick brown fox jumps over the lazy dog\"\n",
    "def reverse_len(txt):\n",
    "    return ' '.join(i[::-1] if not len(i)%2 else i for i in txt.split())\n",
    "print(reverse_len(s))"
   ]
  },
  {
   "cell_type": "code",
   "execution_count": 8,
   "id": "bb20d93b",
   "metadata": {},
   "outputs": [
    {
     "name": "stdout",
     "output_type": "stream",
     "text": [
      "alphabet from a-z\n",
      "a b c d e f g h i j k l m n o p q r s t u v w x y z \n",
      "\n",
      "alphabet from A-Z\n",
      "A B C D E F G H I J K L M N O P Q R S T U V W X Y Z "
     ]
    }
   ],
   "source": [
    "#114-print letters from the English alphabet from a-z and A-Z.\n",
    "import string\n",
    "print(\"alphabet from a-z\")\n",
    "for letter in string.ascii_lowercase:\n",
    "    print(letter,end=\" \")\n",
    "print(\"\\n\")\n",
    "print(\"alphabet from A-Z\")\n",
    "for letter in string.ascii_uppercase:\n",
    "    print(letter,end=\" \")"
   ]
  },
  {
   "cell_type": "code",
   "execution_count": 9,
   "id": "cfc858a7",
   "metadata": {},
   "outputs": [
    {
     "name": "stdout",
     "output_type": "stream",
     "text": [
      "[1, 2, 3, 4, 5, 6, 7, 8, 9, 10]\n",
      "['1', '2', '3', '4', '5', '6', '7', '8', '9', '10']\n"
     ]
    }
   ],
   "source": [
    "#115-generate and prints a list of numbers from 1 to 10\n",
    "int_arr=[]\n",
    "str_arr=[]\n",
    "for i in range(1,11):\n",
    "    int_arr.append(i)\n",
    "    str_arr.append(str(i))\n",
    "print(int_arr)\n",
    "print(str_arr)"
   ]
  },
  {
   "cell_type": "code",
   "execution_count": 10,
   "id": "6fb769b0",
   "metadata": {},
   "outputs": [
    {
     "name": "stdout",
     "output_type": "stream",
     "text": [
      "[1, 2, 3, 4, 5, 6, 7, 8, 9]\n",
      "['1', '2', '3', '4', '5', '6', '7', '8', '9']\n"
     ]
    }
   ],
   "source": [
    "nums = range(1,10)\n",
    "print(list(nums))\n",
    "print(list(map(str, nums)))"
   ]
  },
  {
   "cell_type": "code",
   "execution_count": 3,
   "id": "d99b3956",
   "metadata": {},
   "outputs": [
    {
     "name": "stdout",
     "output_type": "stream",
     "text": [
      "[4, 6, 8, 9, 10, 12, 14, 15, 16, 18, 20, 21, 22, 24, 25, 26, 27, 28, 30, 32, 33, 34, 35, 36, 38, 39, 40, 42, 44, 45, 46, 48, 49, 50, 51, 52, 54, 55, 56, 57, 58, 60, 62, 63, 64, 65, 66, 68, 69, 70, 72, 74, 75, 76, 77, 78, 80, 81, 82, 84, 85, 86, 87, 88, 90, 91, 92, 93, 94, 95, 96, 98, 99, 100]\n"
     ]
    }
   ],
   "source": [
    "#116-identify nonprime numbers between 1 to 100 (integers). Print the nonprime numbers\n",
    "non_prime_arr=[]\n",
    "j=2\n",
    "while j<=100:\n",
    "    for i in range(2,11):\n",
    "        if j%i==0 and i!=j:\n",
    "            non_prime_arr.append(j)\n",
    "            break\n",
    "    j+=1\n",
    "print(non_prime_arr)      "
   ]
  },
  {
   "cell_type": "code",
   "execution_count": 12,
   "id": "d7070343",
   "metadata": {},
   "outputs": [
    {
     "name": "stdout",
     "output_type": "stream",
     "text": [
      "Web page status:  <Response [200]>\n",
      "\n",
      "HTML code of the above web page:\n",
      "<!doctype html>\n",
      "<html>\n",
      "<head>\n",
      "    <title>Example Domain</title>\n",
      "\n",
      "    <meta charset=\"utf-8\" />\n",
      "    <meta http-equiv=\"Content-type\" content=\"text/html; charset=utf-8\" />\n",
      "    <meta name=\"viewport\" content=\"width=device-width, initial-scale=1\" />\n",
      "    <style type=\"text/css\">\n",
      "    body {\n",
      "        background-color: #f0f0f2;\n",
      "        margin: 0;\n",
      "        padding: 0;\n",
      "        font-family: -apple-system, system-ui, BlinkMacSystemFont, \"Segoe UI\", \"Open Sans\", \"Helvetica Neue\", Helvetica, Arial, sans-serif;\n",
      "        \n",
      "    }\n",
      "    div {\n",
      "        width: 600px;\n",
      "        margin: 5em auto;\n",
      "        padding: 2em;\n",
      "        background-color: #fdfdff;\n",
      "        border-radius: 0.5em;\n",
      "        box-shadow: 2px 3px 7px 2px rgba(0,0,0,0.02);\n",
      "    }\n",
      "    a:link, a:visited {\n",
      "        color: #38488f;\n",
      "        text-decoration: none;\n",
      "    }\n",
      "    @media (max-width: 700px) {\n",
      "        div {\n",
      "            margin: 0 auto;\n",
      "            width: auto;\n",
      "        }\n",
      "    }\n",
      "    </style>    \n",
      "</head>\n",
      "\n",
      "<body>\n",
      "<div>\n",
      "    <h1>Example Domain</h1>\n",
      "    <p>This domain is for use in illustrative examples in documents. You may use this\n",
      "    domain in literature without prior coordination or asking for permission.</p>\n",
      "    <p><a href=\"https://www.iana.org/domains/example\">More information...</a></p>\n",
      "</div>\n",
      "</body>\n",
      "</html>\n",
      "\n"
     ]
    }
   ],
   "source": [
    "#117-Python program to make a request to a web page, \n",
    "#and test the status code, also display the html code of the specified web page\n",
    "import requests\n",
    "url = 'http://www.example.com/'\n",
    "headers = {'User-Agent': 'Mozilla/5.0 (Macintosh) Gecko/20100101 Firefox/38.0'}\n",
    "request = requests.get(url, headers=headers)\n",
    "print(\"Web page status: \", request)\n",
    "print(\"\\nHTML code of the above web page:\")\n",
    "if request.ok:\n",
    "    print(request.text)"
   ]
  },
  {
   "cell_type": "code",
   "execution_count": 13,
   "id": "839a7182",
   "metadata": {},
   "outputs": [
    {
     "name": "stdout",
     "output_type": "stream",
     "text": [
      "Main line\n",
      "module name: __main__\n",
      "parent process: 11744\n",
      "process id: 15020\n"
     ]
    }
   ],
   "source": [
    "#118-In multiprocessing, processes are spawned by creating a Process object. \n",
    "#Write a Python program to show the individual process IDs (parent process, process id etc.) involved\n",
    "\n",
    "from multiprocessing import Process\n",
    "import os\n",
    "def info(title):\n",
    "    print(title)\n",
    "    print('module name:', __name__)\n",
    "    print('parent process:', os.getppid())\n",
    "    print('process id:', os.getpid())\n",
    "def f(name):\n",
    "    info('function f')\n",
    "    print('hello', name)\n",
    "if __name__ == '__main__':\n",
    "    info('Main line')\n",
    "    p = Process(target=f, args=('bob',))\n",
    "    p.start()\n",
    "    p.join()"
   ]
  },
  {
   "cell_type": "code",
   "execution_count": 13,
   "id": "62af4167",
   "metadata": {},
   "outputs": [
    {
     "name": "stdout",
     "output_type": "stream",
     "text": [
      "{17} {2, 14, 7}\n",
      "True\n"
     ]
    }
   ],
   "source": [
    "#Date-8/28/22\n",
    "#119- check if two given numbers are Co Prime or not\n",
    "import math\n",
    "def co_prime(n1,n2):\n",
    "    n1_factors=set()\n",
    "    n2_factors=set()\n",
    "    i=1\n",
    "    \n",
    "    for j in range(2,n1+1):\n",
    "        if n1%j==0:\n",
    "            #print(i, j)\n",
    "            n1_factors.add(j)\n",
    "            \n",
    "    for j in range(2,n2+1):\n",
    "        if n2%j==0:\n",
    "            #print(i, j)\n",
    "            n2_factors.add(j)\n",
    "    print(n1_factors, n2_factors)\n",
    "    \n",
    "    if len(n1_factors.intersection(n2_factors))>0:\n",
    "        return False\n",
    "    else:\n",
    "        return   True\n",
    "    \n",
    "print(co_prime(17,14))\n",
    "    "
   ]
  },
  {
   "cell_type": "code",
   "execution_count": 16,
   "id": "259d6f4a",
   "metadata": {},
   "outputs": [
    {
     "name": "stdout",
     "output_type": "stream",
     "text": [
      "True\n",
      "True\n"
     ]
    }
   ],
   "source": [
    "def gcd(p,q):\n",
    "    while q!=0:\n",
    "        p,q=q,p%q\n",
    "        #print(p,q)\n",
    "    return p\n",
    "\n",
    "def is_coprime(x,y):\n",
    "    return gcd(x,y)==1\n",
    "\n",
    "print(is_coprime(17, 13))\n",
    "print(is_coprime(17, 21))"
   ]
  },
  {
   "cell_type": "code",
   "execution_count": 21,
   "id": "1bd36418",
   "metadata": {},
   "outputs": [
    {
     "name": "stdout",
     "output_type": "stream",
     "text": [
      "phi( 1 ) = 1\n",
      "phi( 2 ) = 1\n",
      "phi( 3 ) = 2\n",
      "phi( 4 ) = 3\n",
      "phi( 5 ) = 4\n",
      "phi( 6 ) = 2\n",
      "phi( 7 ) = 6\n",
      "phi( 8 ) = 4\n",
      "phi( 9 ) = 8\n",
      "phi( 10 ) = 4\n"
     ]
    }
   ],
   "source": [
    "#120-program to calculate Euclid's totient function of a given integer.(number of coprime <n)\n",
    "def phi(n):\n",
    "    result=n\n",
    "    \n",
    "    # Consider all prime factors of n and subtract their multiples from result\n",
    "    p=2\n",
    "    while(p*p<n):\n",
    "        # Check if p is a prime factor.\n",
    "        if n%p==0:\n",
    "            while (n%p==0):\n",
    "                n=int(n/p)\n",
    "            result-=int(result/p)\n",
    "            #print(n)\n",
    "        p+=1\n",
    "        \n",
    "    if(n>1):\n",
    "        result-=int(result/n)\n",
    "        \n",
    "    return result\n",
    "\n",
    "for n in range(1, 11):\n",
    "    print(\"phi(\",n,\") =\", phi(n))  "
   ]
  },
  {
   "cell_type": "code",
   "execution_count": 23,
   "id": "a898eff9",
   "metadata": {},
   "outputs": [
    {
     "name": "stdout",
     "output_type": "stream",
     "text": [
      "4\n",
      "8\n",
      "20\n"
     ]
    }
   ],
   "source": [
    "def gcd(p,q):\n",
    "    while q!=0:\n",
    "        p,q=q,p%q\n",
    "    return p\n",
    "\n",
    "def is_coprime(x,y):\n",
    "    return gcd(x,y)==1\n",
    "\n",
    "def phi_func(x):\n",
    "    if x==1:\n",
    "        return 1\n",
    "    else:\n",
    "        n=[y for y in range(1,x) if is_coprime(x,y)]\n",
    "        return len(n)\n",
    "\n",
    "print(phi_func(10))\n",
    "print(phi_func(15))\n",
    "print(phi_func(33))"
   ]
  },
  {
   "cell_type": "code",
   "execution_count": 24,
   "id": "c67fe91d",
   "metadata": {},
   "outputs": [
    {
     "name": "stdout",
     "output_type": "stream",
     "text": [
      "Original string:  PHP\n",
      "Coded string:  969\n"
     ]
    }
   ],
   "source": [
    "#121-Python program to create a coded string from a given string, using specified formula\n",
    "def test(str):\n",
    "    return str.translate(str.maketrans('PTSHA','90168'))\n",
    "str = \"PHP\"\n",
    "print(\"Original string: \",str)\n",
    "print(\"Coded string: \",test(str))"
   ]
  },
  {
   "cell_type": "code",
   "execution_count": 27,
   "id": "c47b1d06",
   "metadata": {},
   "outputs": [
    {
     "name": "stdout",
     "output_type": "stream",
     "text": [
      "False\n",
      "True\n"
     ]
    }
   ],
   "source": [
    "#122-check if a given string contains only lowercase or uppercase characters\n",
    "s='PHP'\n",
    "print(s.islower())\n",
    "print(s.isupper())"
   ]
  },
  {
   "cell_type": "code",
   "execution_count": 32,
   "id": "5550f745",
   "metadata": {},
   "outputs": [
    {
     "name": "stdout",
     "output_type": "stream",
     "text": [
      "H\n"
     ]
    }
   ],
   "source": [
    "#123-remove the first and last elements from a given string\n",
    "s='PHP'\n",
    "print(s[1:-1])"
   ]
  },
  {
   "cell_type": "code",
   "execution_count": 35,
   "id": "69f83619",
   "metadata": {},
   "outputs": [
    {
     "name": "stdout",
     "output_type": "stream",
     "text": [
      "Yay\n"
     ]
    }
   ],
   "source": [
    "#124-check if a given string contains two similar consecutive letters\n",
    "s1='PHHP'\n",
    "s2='PHP'\n",
    "\n",
    "for i in range(len(s1)-1):\n",
    "    if s1[i]==s1[i+1]:\n",
    "        print(\"Yay\")\n"
   ]
  },
  {
   "cell_type": "code",
   "execution_count": 36,
   "id": "f8b39de7",
   "metadata": {},
   "outputs": [
    {
     "name": "stdout",
     "output_type": "stream",
     "text": [
      "Original string:  PHP\n",
      "Check for consecutive similar letters!  False\n",
      "\n",
      "Original string:  PHHP\n",
      "Check for consecutive similar letters!  True\n"
     ]
    }
   ],
   "source": [
    "def test(str1):\n",
    "    return any(c1==c2 for c1, c2 in zip(str1,str1[1:]))\n",
    "str = \"PHP\"\n",
    "print(\"Original string: \",str)\n",
    "print(\"Check for consecutive similar letters! \",test(str))\n",
    "str = \"PHHP\"\n",
    "print(\"\\nOriginal string: \",str)\n",
    "print(\"Check for consecutive similar letters! \",test(str))"
   ]
  },
  {
   "cell_type": "code",
   "execution_count": 44,
   "id": "0df7b22d",
   "metadata": {},
   "outputs": [
    {
     "name": "stdout",
     "output_type": "stream",
     "text": [
      "tpircsavaj\n"
     ]
    }
   ],
   "source": [
    "#125-program to reverse a given string in lower case\n",
    "s='JavaScript'\n",
    "print((s[::-1]).lower())"
   ]
  },
  {
   "cell_type": "code",
   "execution_count": 53,
   "id": "1cc8a49a",
   "metadata": {},
   "outputs": [
    {
     "name": "stdout",
     "output_type": "stream",
     "text": [
      "aacijprstv\n"
     ]
    }
   ],
   "source": [
    "#126-convert the letters of a given string (same case-upper/lower) into alphabetical order.\n",
    "s='javascript'\n",
    "print(''.join(sorted(s)))"
   ]
  },
  {
   "cell_type": "code",
   "execution_count": 61,
   "id": "992a9111",
   "metadata": {},
   "outputs": [
    {
     "name": "stdout",
     "output_type": "stream",
     "text": [
      "4\n",
      "Fractional Value\n"
     ]
    }
   ],
   "source": [
    "#127-whether the average value of the elements of a given array of numbers is a whole number or not\n",
    "arr=[1, 3, 5, 7, 9,3]\n",
    "avg_val=sum(arr)%len(arr)\n",
    "print(avg_val)\n",
    "\n",
    "if (avg_val)==0:\n",
    "    print(\"Whole Value\")\n",
    "else:\n",
    "    print(\"Fractional Value\")"
   ]
  },
  {
   "cell_type": "code",
   "execution_count": 62,
   "id": "d3fd91d7",
   "metadata": {},
   "outputs": [
    {
     "name": "stdout",
     "output_type": "stream",
     "text": [
      "JvScrpt\n"
     ]
    }
   ],
   "source": [
    "#128-remove all vowels from a given string\n",
    "vowels_arr=['a','e','i','o','u']\n",
    "res=\"\"\n",
    "s='JavaScript'\n",
    "\n",
    "for i in s:\n",
    "    if i in vowels_arr:\n",
    "        continue\n",
    "    else:\n",
    "        res+=i\n",
    "print(res)"
   ]
  },
  {
   "cell_type": "code",
   "execution_count": 63,
   "id": "79c25198",
   "metadata": {},
   "outputs": [
    {
     "name": "stdout",
     "output_type": "stream",
     "text": [
      "Original string: Python\n",
      "After removing all the vowels from the said string: Pythn\n"
     ]
    }
   ],
   "source": [
    "import re\n",
    "def test(text):\n",
    "    return re.sub(r'[aeiou]+', '', text, flags=re.IGNORECASE)\n",
    "text = \"Python\";\n",
    "print(\"Original string:\",text)\n",
    "print(\"After removing all the vowels from the said string: \" + test(text))"
   ]
  },
  {
   "cell_type": "code",
   "execution_count": 64,
   "id": "c94867cf",
   "metadata": {},
   "outputs": [
    {
     "name": "stdout",
     "output_type": "stream",
     "text": [
      "[1, 2, 3, 5, 6, 7, 8, 9]\n"
     ]
    }
   ],
   "source": [
    "#129-index number of all lower case letters in a given string\n",
    "s='JavaScript'\n",
    "def test(text):\n",
    "    return [x for x in range(len(text)) if text[x].islower()]\n",
    "print(test(s))"
   ]
  },
  {
   "cell_type": "code",
   "execution_count": 68,
   "id": "bb5f3538",
   "metadata": {},
   "outputs": [
    {
     "name": "stdout",
     "output_type": "stream",
     "text": [
      "Month No.:  11  Year:  2022\n"
     ]
    },
    {
     "ename": "TypeError",
     "evalue": "'str' object is not callable",
     "output_type": "error",
     "traceback": [
      "\u001b[1;31m---------------------------------------------------------------------------\u001b[0m",
      "\u001b[1;31mTypeError\u001b[0m                                 Traceback (most recent call last)",
      "\u001b[1;32m~\\AppData\\Local\\Temp/ipykernel_14780/3662364575.py\u001b[0m in \u001b[0;36m<module>\u001b[1;34m\u001b[0m\n\u001b[0;32m      6\u001b[0m \u001b[0myear\u001b[0m \u001b[1;33m=\u001b[0m \u001b[1;36m2022\u001b[0m\u001b[1;33m\u001b[0m\u001b[1;33m\u001b[0m\u001b[0m\n\u001b[0;32m      7\u001b[0m \u001b[0mprint\u001b[0m\u001b[1;33m(\u001b[0m\u001b[1;34m\"Month No.: \"\u001b[0m\u001b[1;33m,\u001b[0m \u001b[0mmonth\u001b[0m\u001b[1;33m,\u001b[0m \u001b[1;34m\" Year: \"\u001b[0m\u001b[1;33m,\u001b[0m \u001b[0myear\u001b[0m\u001b[1;33m)\u001b[0m\u001b[1;33m;\u001b[0m\u001b[1;33m\u001b[0m\u001b[1;33m\u001b[0m\u001b[0m\n\u001b[1;32m----> 8\u001b[1;33m \u001b[0mprint\u001b[0m\u001b[1;33m(\u001b[0m\u001b[1;34m\"Check whether the said month and year contains a Monday 13th.: \"\u001b[0m \u001b[1;33m+\u001b[0m \u001b[0mtest\u001b[0m\u001b[1;33m(\u001b[0m\u001b[0mmonth\u001b[0m\u001b[1;33m,\u001b[0m \u001b[0myear\u001b[0m\u001b[1;33m)\u001b[0m\u001b[1;33m)\u001b[0m\u001b[1;33m\u001b[0m\u001b[1;33m\u001b[0m\u001b[0m\n\u001b[0m\u001b[0;32m      9\u001b[0m \u001b[1;33m\u001b[0m\u001b[0m\n\u001b[0;32m     10\u001b[0m \u001b[0mmonth\u001b[0m \u001b[1;33m=\u001b[0m \u001b[1;36m6\u001b[0m\u001b[1;33m\u001b[0m\u001b[1;33m\u001b[0m\u001b[0m\n",
      "\u001b[1;32m~\\AppData\\Local\\Temp/ipykernel_14780/3662364575.py\u001b[0m in \u001b[0;36mtest\u001b[1;34m(month, year)\u001b[0m\n\u001b[0;32m      2\u001b[0m \u001b[1;32mfrom\u001b[0m \u001b[0mdatetime\u001b[0m \u001b[1;32mimport\u001b[0m \u001b[0mdate\u001b[0m\u001b[1;33m\u001b[0m\u001b[1;33m\u001b[0m\u001b[0m\n\u001b[0;32m      3\u001b[0m \u001b[1;32mdef\u001b[0m \u001b[0mtest\u001b[0m\u001b[1;33m(\u001b[0m\u001b[0mmonth\u001b[0m\u001b[1;33m,\u001b[0m \u001b[0myear\u001b[0m\u001b[1;33m)\u001b[0m\u001b[1;33m:\u001b[0m\u001b[1;33m\u001b[0m\u001b[1;33m\u001b[0m\u001b[0m\n\u001b[1;32m----> 4\u001b[1;33m     \u001b[1;32mreturn\u001b[0m \u001b[0mstr\u001b[0m\u001b[1;33m(\u001b[0m\u001b[0mdate\u001b[0m\u001b[1;33m(\u001b[0m\u001b[0myear\u001b[0m\u001b[1;33m,\u001b[0m\u001b[0mmonth\u001b[0m\u001b[1;33m,\u001b[0m\u001b[1;36m13\u001b[0m\u001b[1;33m)\u001b[0m\u001b[1;33m.\u001b[0m\u001b[0mstrftime\u001b[0m\u001b[1;33m(\u001b[0m\u001b[1;34m\"%A\"\u001b[0m\u001b[1;33m)\u001b[0m\u001b[1;33m==\u001b[0m\u001b[1;34m'Monday'\u001b[0m\u001b[1;33m)\u001b[0m\u001b[1;33m\u001b[0m\u001b[1;33m\u001b[0m\u001b[0m\n\u001b[0m\u001b[0;32m      5\u001b[0m \u001b[0mmonth\u001b[0m \u001b[1;33m=\u001b[0m \u001b[1;36m11\u001b[0m\u001b[1;33m\u001b[0m\u001b[1;33m\u001b[0m\u001b[0m\n\u001b[0;32m      6\u001b[0m \u001b[0myear\u001b[0m \u001b[1;33m=\u001b[0m \u001b[1;36m2022\u001b[0m\u001b[1;33m\u001b[0m\u001b[1;33m\u001b[0m\u001b[0m\n",
      "\u001b[1;31mTypeError\u001b[0m: 'str' object is not callable"
     ]
    }
   ],
   "source": [
    "#130-check whether a given month and year contains a Monday 13th.\n",
    "from datetime import date\n",
    "def test(month, year): \n",
    "    return str(date(year,month,13).strftime(\"%A\")=='Monday')\n",
    "\n",
    "month = 11\n",
    "year = 2022           \n",
    "print(\"Month No.: \", month, \" Year: \", year);\n",
    "print(\"Check whether the said month and year contains a Monday 13th.: \" + test(month, year))\n",
    "\n",
    "month = 6\n",
    "year = 2022            \n",
    "print(\"\\nMonth No.: \", month, \" Year: \", year)\n",
    "print(\"Check whether the said month and year contains a Monday 13th.: \" + test(month, year))"
   ]
  },
  {
   "cell_type": "code",
   "execution_count": 5,
   "id": "f8f20faf",
   "metadata": {},
   "outputs": [
    {
     "name": "stdout",
     "output_type": "stream",
     "text": [
      "100"
     ]
    }
   ],
   "source": [
    "#131-count number of zeros and ones in the binary representation of a given integer\n",
    "def decBin(n):\n",
    "    if n>=1:\n",
    "        decBin(n//2)\n",
    "        print(n%2, end='')\n",
    "        \n",
    "decBin(4)"
   ]
  },
  {
   "cell_type": "code",
   "execution_count": 8,
   "id": "19782d31",
   "metadata": {},
   "outputs": [
    {
     "name": "stdout",
     "output_type": "stream",
     "text": [
      "Original number:  12\n",
      "Number of ones and zeros in the binary representation of the said number:\n",
      "Number of zeros: 2, Number of ones: 2\n"
     ]
    }
   ],
   "source": [
    "def test(num):\n",
    "    ones=bin(num).replace(\"0b\",\"\").count('1')\n",
    "    zeros=bin(num).replace(\"0b\",\"\").count('0')\n",
    "    return \"Number of zeros: \"+str(zeros)+ \", Number of ones: \" + str(ones)    \n",
    "\n",
    "n = 12\n",
    "print(\"Original number: \",n)\n",
    "print(\"Number of ones and zeros in the binary representation of the said number:\")\n",
    "print(test(n))"
   ]
  },
  {
   "cell_type": "code",
   "execution_count": 13,
   "id": "8423232e",
   "metadata": {},
   "outputs": [
    {
     "name": "stdout",
     "output_type": "stream",
     "text": [
      "[1, 2, 4, 5, 10, 20, 25, 50, 100]\n"
     ]
    }
   ],
   "source": [
    "#132-find all the factors of a given natural number.\n",
    "import math\n",
    "factor_arr=[]\n",
    "\n",
    "def factor_num(n):\n",
    "    for i in range(1,n+1):\n",
    "        if n%i==0:\n",
    "            factor_arr.append(i)        \n",
    "    print(factor_arr)   \n",
    "    \n",
    "factor_num(100)"
   ]
  },
  {
   "cell_type": "code",
   "execution_count": 15,
   "id": "94cf3196",
   "metadata": {},
   "outputs": [
    {
     "name": "stdout",
     "output_type": "stream",
     "text": [
      "\n",
      "Original Number: 100\n",
      "Factors of the said number: {1, 2, 4, 100, 5, 10, 50, 20, 25}\n"
     ]
    }
   ],
   "source": [
    "#use reduce\n",
    "from functools import reduce\n",
    "def test(n):\n",
    "    return set(reduce(list.__add__, \n",
    "                ([i, n//i] for i in range(1, int(n**0.5) + 1) if n % i == 0)))\n",
    "n = 100\n",
    "print(\"\\nOriginal Number:\",n)\n",
    "print(\"Factors of the said number:\",test(n))"
   ]
  },
  {
   "cell_type": "code",
   "execution_count": 16,
   "id": "cf308640",
   "metadata": {},
   "outputs": [
    {
     "name": "stdout",
     "output_type": "stream",
     "text": [
      "105\n"
     ]
    }
   ],
   "source": [
    "#133-compute the sum of the negative and positive numbers of an array of integers and display the largest sum\n",
    "arr=[0, 15, 16, 17, -14, -13, -12, -11, -10, 18, 19, 20]\n",
    "pos_sum=0\n",
    "neg_sum=0\n",
    "\n",
    "for i in arr:\n",
    "    if i>0:\n",
    "        pos_sum+=i\n",
    "    else:\n",
    "        neg_sum+=i\n",
    "        \n",
    "if abs(pos_sum)>abs(neg_sum):\n",
    "    print(pos_sum)\n",
    "else:\n",
    "    print(neg_sum)"
   ]
  },
  {
   "cell_type": "code",
   "execution_count": 17,
   "id": "9c597ea6",
   "metadata": {},
   "outputs": [],
   "source": [
    "def test(lst):\n",
    "  pos_sum = 0\n",
    "  neg_sum = 0\n",
    "  for n in lst:\n",
    "    if n > 0:\n",
    "      pos_sum += n\n",
    "    elif n < 0:\n",
    "      neg_sum += n\n",
    "  return max(pos_sum, neg_sum, key=abs)"
   ]
  },
  {
   "cell_type": "code",
   "execution_count": 19,
   "id": "0c90793c",
   "metadata": {},
   "outputs": [
    {
     "name": "stdout",
     "output_type": "stream",
     "text": [
      "pYTHONeXERCISES\n"
     ]
    }
   ],
   "source": [
    "#134-alternate the case of each letter in a given string and the first letter of the said string must be uppercase\n",
    "s='Python Exercises'\n",
    "res=\"\"\n",
    "for i in s:\n",
    "    if i.islower():\n",
    "        res+=i.upper()\n",
    "    elif i.isupper():\n",
    "        res+=i.lower()\n",
    "print(res)"
   ]
  },
  {
   "cell_type": "code",
   "execution_count": 31,
   "id": "4569964e",
   "metadata": {},
   "outputs": [
    {
     "name": "stdout",
     "output_type": "stream",
     "text": [
      "Original string:  PYThon Exercises\n",
      "After alternating the case of each letter of the said string:\n",
      "PyThOn ExErCiSeS\n"
     ]
    }
   ],
   "source": [
    "def test(txt):\n",
    "    result_str = \"\"\n",
    "    s = True\n",
    "    #print(s)\n",
    "    for i in txt:\n",
    "        result_str += i.upper() if s else i.lower()\n",
    "       # print(s,\"out\")\n",
    "        if i.isalpha():  #boolean value manipulation\n",
    "            s = not s\n",
    "            #print(s,\"in\",i)\n",
    "    return result_str\n",
    "str1 = \"PYThon Exercises\";\n",
    "print(\"Original string: \", str1);\n",
    "print(\"After alternating the case of each letter of the said string:\")\n",
    "print(test(str1))"
   ]
  },
  {
   "cell_type": "code",
   "execution_count": 32,
   "id": "9ec09df8",
   "metadata": {},
   "outputs": [
    {
     "name": "stdout",
     "output_type": "stream",
     "text": [
      "\n",
      "Original list elements:\n",
      "[1, 2, 3, 4, 5, 6, 7, 8, 9, 10]\n",
      "LCM of the numbers of the said array of positive integers:  2520\n"
     ]
    }
   ],
   "source": [
    "#135-get the Least Common Multiple (LCM) of more than two numbers. Take the numbers from a given list of positive integers\n",
    "arr=[4,6,8]\n",
    "from functools import reduce\n",
    "def test(nums):\n",
    "    return reduce(lambda x,y:lcm(x,y),nums)\n",
    "\n",
    "def gcd(a,b):\n",
    "    while b:\n",
    "        a,b=b,a%b\n",
    "    return a\n",
    "\n",
    "def lcm(a,b):\n",
    "    return a*b//gcd(a,b)\n",
    "\n",
    "nums = [ 1, 2, 3, 4, 5, 6, 7, 8, 9, 10 ]\n",
    "print(\"\\nOriginal list elements:\")\n",
    "print(nums)\n",
    "print(\"LCM of the numbers of the said array of positive integers: \", test(nums))"
   ]
  },
  {
   "cell_type": "code",
   "execution_count": 2,
   "id": "36920707",
   "metadata": {},
   "outputs": [
    {
     "name": "stdout",
     "output_type": "stream",
     "text": [
      "The quick brown fox jumps revo the yzal dog \n"
     ]
    }
   ],
   "source": [
    "#136-reverse all the words which have odd length\n",
    "s='The quick brown fox jumps over the lazy dog'\n",
    "res_s=\"\"\n",
    "for word in s.split():\n",
    "    res=\"\"\n",
    "    if len(word)%2==0:\n",
    "        res=word[::-1]\n",
    "        res_s+=res+\" \"\n",
    "    else:\n",
    "        res_s+=word+\" \"\n",
    "print(res_s)\n",
    "#even_len_wrd=[word for word in s.split() if len(word)%2==0]\n",
    "#print(even_len_wrd)"
   ]
  },
  {
   "cell_type": "code",
   "execution_count": 8,
   "id": "3fdd752c",
   "metadata": {},
   "outputs": [
    {
     "name": "stdout",
     "output_type": "stream",
     "text": [
      "Length of Longest Common Substring is 10\n"
     ]
    }
   ],
   "source": [
    "#137-find the longest common ending between two given strings.\n",
    "s1='thisisatest'\n",
    "s2='testing123testing'\n",
    "\n",
    "def LCSubStr(X,Y,m,n):\n",
    "    LCSuff=[[0 for k in range(n+1)]for l in range(m+1)]\n",
    "    \n",
    "    result=0\n",
    "    \n",
    "    for i in range(m+1):\n",
    "        for j in range(n+1):\n",
    "            if (i==0 or j==0):\n",
    "                LCSuff[i][j]=0\n",
    "            elif (X[i-1]==Y[j-1]):\n",
    "                LCSuff[i][j]=LCSuff[i-1][j-1]+1\n",
    "                #print(LCSuff)\n",
    "                result=max(result,LCSuff[i][j])\n",
    "                #print(result)\n",
    "            else:\n",
    "                LCSuff[i][j]=0\n",
    "    return result\n",
    "X = 'OldSite:GeeksforGeeks.org'\n",
    "Y = 'NewSite:GeeksQuiz.com'\n",
    " \n",
    "m = len(X)\n",
    "n = len(Y)\n",
    "\n",
    "print('Length of Longest Common Substring is',\n",
    "      LCSubStr(X, Y, m, n))"
   ]
  },
  {
   "cell_type": "code",
   "execution_count": 25,
   "id": "0756b324",
   "metadata": {},
   "outputs": [
    {
     "name": "stdout",
     "output_type": "stream",
     "text": [
      "11\n"
     ]
    }
   ],
   "source": [
    "#138-reverse the binary representation of an given integer and convert the reversed binary number into an integer\n",
    "n=13\n",
    "bin_num=bin(n)[2:]\n",
    "rev_bin_num=bin_num[::-1]\n",
    "\n",
    "dec_num=int(rev_bin_num,2)\n",
    "\n",
    "print(dec_num)"
   ]
  },
  {
   "cell_type": "code",
   "execution_count": 32,
   "id": "692dde17",
   "metadata": {},
   "outputs": [
    {
     "name": "stdout",
     "output_type": "stream",
     "text": [
      "Original number:  1234\n",
      "Closest Palindrome number of the said number:  1221\n"
     ]
    }
   ],
   "source": [
    "#139-closest palindrome number of a given integer\n",
    "def test(n):\n",
    "    x=n\n",
    "    y=n\n",
    "    while True:\n",
    "        #print(\"x\",str(x))\n",
    "        #print(\"y\",str(y))\n",
    "        if str(x)==str(x)[::-1]:            \n",
    "            return x\n",
    "        x-=1\n",
    "        if str(y)==str(y)[::-1]:           \n",
    "            return y\n",
    "        y+=1\n",
    "    return int(bin(n)[::-1][:-2], 2)\n",
    "n = 1234;\n",
    "print(\"Original number: \", n);\n",
    "print(\"Closest Palindrome number of the said number: \",test(n));"
   ]
  },
  {
   "cell_type": "code",
   "execution_count": 37,
   "id": "395bfa93",
   "metadata": {},
   "outputs": [
    {
     "name": "stdout",
     "output_type": "stream",
     "text": [
      "[0.49, 0.54, 0.54, 0.54, 0.54, 0.54, 0.55, 0.54, 0.54, 0.54, 0.55, 0.55, 0.55, 0.54, 0.55, 0.55, 0.54, 0.55, 0.55, 0.54]\n"
     ]
    }
   ],
   "source": [
    "#140-convert all items in a given list to float values\n",
    "arr=['0.49', '0.54', '0.54', '0.54', '0.54', '0.54', '0.55', '0.54', '0.54', '0.54', '0.55', '0.55', '0.55', '0.54', '0.55', '0.55', '0.54', '0.55', '0.55', '0.54']\n",
    "res=[]\n",
    "for i in arr:\n",
    "    res.append(float(i))\n",
    "print(res)"
   ]
  },
  {
   "cell_type": "code",
   "execution_count": 38,
   "id": "a8314683",
   "metadata": {},
   "outputs": [
    {
     "name": "stdout",
     "output_type": "stream",
     "text": [
      "Domain name using PTR DNS:\n",
      "dns.google\n"
     ]
    }
   ],
   "source": [
    "#Date-8/29/22\n",
    "#141- program to get the domain name using PTR DNS records from a given IP address\n",
    "def get_domain_name(ip_address):\n",
    "  import socket\n",
    "  result=socket.gethostbyaddr(ip_address)\n",
    "  return list(result)[0]\n",
    "print(\"Domain name using PTR DNS:\")\n",
    "print(get_domain_name(\"8.8.8.8\"))"
   ]
  },
  {
   "cell_type": "code",
   "execution_count": 44,
   "id": "9394ea11",
   "metadata": {},
   "outputs": [
    {
     "name": "stdout",
     "output_type": "stream",
     "text": [
      "0101 0101\n",
      "Follows rule\n"
     ]
    }
   ],
   "source": [
    "#142-check if every consecutive sequence of zeroes is followed by a consecutive \n",
    "#sequence of ones of same length in a given string.\n",
    "\n",
    "#n='000111'  #does not work for this case\n",
    "\n",
    "n='01010101'\n",
    "len_n=len(n)//2\n",
    "\n",
    "print(n[:len_n],n[len_n:])\n",
    "if (n[:len_n]==n[len_n:]):\n",
    "    print(\"Follows rule\")\n",
    "else:\n",
    "    print(\"Does not Follows rule\")"
   ]
  },
  {
   "cell_type": "code",
   "execution_count": 40,
   "id": "3379d32d",
   "metadata": {},
   "outputs": [
    {
     "name": "stdout",
     "output_type": "stream",
     "text": [
      "Smiling face with heart-eyes:\n",
      "😍\n",
      "Unamused face:\n",
      "😒\n",
      "Beaming face with smiling eyes:\n",
      "😁\n",
      "Grinning face with sweat:\n",
      "😅\n",
      "Face with tears of joy:\n",
      "😂\n",
      "Slightly smiling face:\n",
      "🙂\n",
      "Smiling face with halo:\n",
      "😇\n"
     ]
    }
   ],
   "source": [
    "#143-program to print Emojis using unicode characters or CLDR (Common Locale Data Repository ) short names\n",
    "print(\"Smiling face with heart-eyes:\")\n",
    "print(\"\\U0001F60D\")\n",
    "print(\"Unamused face:\")\n",
    "print(\"\\U0001F612\")\n",
    "print(\"Beaming face with smiling eyes:\")\n",
    "print(\"\\U0001F601\")\n",
    "print(\"Grinning face with sweat:\")\n",
    "print(\"\\U0001F605\")\n",
    "print(\"Face with tears of joy:\")\n",
    "print(\"\\U0001F602\")\n",
    "print(\"Slightly smiling face:\")\n",
    "print(\"\\U0001F642\")\n",
    "print(\"Smiling face with halo:\")\n",
    "print(\"\\U0001F607\")"
   ]
  },
  {
   "cell_type": "code",
   "execution_count": 48,
   "id": "6f9b1eee",
   "metadata": {},
   "outputs": [
    {
     "name": "stdout",
     "output_type": "stream",
     "text": [
      "Language: Python, Version: 3.6\n"
     ]
    }
   ],
   "source": [
    "#144- convert integer to string\n",
    "language = \"Python\"\n",
    "version = 3.6\n",
    "print('Language: ' + language + ',' + ' Version: ' + str(version))"
   ]
  },
  {
   "cell_type": "code",
   "execution_count": 49,
   "id": "7ddf24a2",
   "metadata": {},
   "outputs": [
    {
     "name": "stdout",
     "output_type": "stream",
     "text": [
      "Original Number: 9387422\n",
      "Largest Digit of the said number: 9\n",
      "Smallest Digit of the said number: 2\n"
     ]
    }
   ],
   "source": [
    "#145-largest and smallest digit of a given number\n",
    "def Largest_Smallest_digit(n):\n",
    "   largest_digit = 0\n",
    "   smallest_digit = 9\n",
    "   while (n):\n",
    "       digit = n % 10\n",
    "       # largest digit\n",
    "       largest_digit = max(digit, largest_digit)\n",
    "       # smallest digit\n",
    "       smallest_digit = min(digit, smallest_digit)\n",
    "       n = n // 10\n",
    "   return largest_digit, smallest_digit\n",
    "n = 9387422\n",
    "print(\"Original Number:\", n)\n",
    "result = Largest_Smallest_digit(n)\n",
    "print(\"Largest Digit of the said number:\", result[0])\n",
    "print(\"Smallest Digit of the said number:\", result[1])"
   ]
  },
  {
   "cell_type": "code",
   "execution_count": 46,
   "id": "80764233",
   "metadata": {},
   "outputs": [
    {
     "name": "stdout",
     "output_type": "stream",
     "text": [
      "nope\n"
     ]
    }
   ],
   "source": [
    "#146-Write a Python program to check whether the cube root of the first number is equal to the square root of the second number\n",
    "import math\n",
    "num=[27,4]\n",
    "if (num[0])**(1/3)==math.sqrt(num[1]):\n",
    "    print(\"yaa\")\n",
    "else:\n",
    "    print(\"nope\")"
   ]
  },
  {
   "cell_type": "code",
   "execution_count": 50,
   "id": "a7e64f9d",
   "metadata": {},
   "outputs": [
    {
     "name": "stdout",
     "output_type": "stream",
     "text": [
      "Original list of numbers: [13, 4, 22]\n",
      "Check sum of the digits in each number of the said list is equal or not!\n",
      "True\n"
     ]
    }
   ],
   "source": [
    "#147-A Python list contains three positive integers. \n",
    "#Write a Python program to check whether the sum of the digits in each number is equal or not.\n",
    "def test(nums):\n",
    "    return nums[0] % 9 == nums[1] % 9 == nums[2] % 9 \n",
    "\n",
    "nums = [13, 4, 22]\n",
    "print(\"Original list of numbers:\", nums)\n",
    "print(\"Check sum of the digits in each number of the said list is equal or not!\")\n",
    "print(test(nums))"
   ]
  },
  {
   "cell_type": "code",
   "execution_count": 48,
   "id": "5bd47da4",
   "metadata": {},
   "outputs": [
    {
     "name": "stdout",
     "output_type": "stream",
     "text": [
      "4\n"
     ]
    }
   ],
   "source": [
    "#148- Python program to count the numbers that are greater than the previous number on the list\n",
    "arr=[1, 4, 7, 9, 11, 5]\n",
    "n=4\n",
    "cnt=0\n",
    "for i in arr:\n",
    "    if i>n:\n",
    "        cnt+=1\n",
    "print(cnt)"
   ]
  },
  {
   "cell_type": "code",
   "execution_count": 51,
   "id": "d124e4fe",
   "metadata": {},
   "outputs": [
    {
     "name": "stdout",
     "output_type": "stream",
     "text": [
      "Input an integer : 5\n",
      "[[5, 5, 5, 5, 5], [5, 5, 5, 5, 5], [5, 5, 5, 5, 5], [5, 5, 5, 5, 5], [5, 5, 5, 5, 5]]\n"
     ]
    }
   ],
   "source": [
    "#149-program that takes a positive integer and create an N x N square filled with the integer N. Display the N x N square\n",
    "def test(N):\n",
    "    result = []\n",
    "    for i in range(N):\n",
    "        result.append([N]*N)\n",
    "    return result\n",
    "\n",
    "N = int(input(\"Input an integer : \"))\n",
    "print(test(N))"
   ]
  },
  {
   "cell_type": "code",
   "execution_count": 52,
   "id": "8dda2494",
   "metadata": {},
   "outputs": [
    {
     "name": "stdout",
     "output_type": "stream",
     "text": [
      "Input a positive integer:10000\n",
      "2\n"
     ]
    }
   ],
   "source": [
    "#150-takes a positive integer and calculate the cube root of the number until the number is less than three. Count the number of steps to complete the said process\n",
    "def test(n):\n",
    "\tctr = 0\n",
    "\twhile n >= 3:\n",
    "\t  n =  n ** (1./3.)\n",
    "\t  ctr = ctr + 1\n",
    "\treturn 'Not a positive number!' if n < 0 else ctr\n",
    "\n",
    "n= int(input(\"Input a positive integer:\"))\n",
    "print(test(n))"
   ]
  },
  {
   "cell_type": "code",
   "execution_count": 12,
   "id": "503c09fe",
   "metadata": {},
   "outputs": [
    {
     "name": "stdout",
     "output_type": "stream",
     "text": [
      "Original strings: running  ruminating\n",
      "Common ending between said two strings: ing\n",
      "\n",
      "Original strings: thisisatest  testing123testing\n",
      "Common ending between said two strings: \n"
     ]
    }
   ],
   "source": [
    "#137-find the longest common ending between two given strings.\n",
    "def test(str1,str2):\n",
    "    for i in range(len(str2)):\n",
    "        while str2[i:] in str1: #and str2[-1]==str1[-1]:\n",
    "            return str2[i:]\n",
    "    return \"\"\n",
    "\n",
    "str1 = \"running\";\n",
    "str2 = \"ruminating\";\n",
    "print(\"Original strings: \" + str1 + \"  \" + str2);\n",
    "print(\"Common ending between said two strings: \" + test(str1, str2));\n",
    "str1 = \"thisisatest\";\n",
    "str2 = \"testing123testing\";\n",
    "print(\"\\nOriginal strings: \" + str1 + \"  \" + str2);\n",
    "print(\"Common ending between said two strings: \" + test(str1, str2));"
   ]
  },
  {
   "cell_type": "code",
   "execution_count": 36,
   "id": "c58ea2ec",
   "metadata": {},
   "outputs": [
    {
     "name": "stdout",
     "output_type": "stream",
     "text": [
      "1221\n"
     ]
    }
   ],
   "source": [
    "#139-\n",
    "def isPalindrome(n):   #function to check palindrome\n",
    "    for i in range(len(n)//2):\n",
    "        if(n[i]!=n[-1-i]):\n",
    "            return False\n",
    "    return True\n",
    "\n",
    "def convertNumIntoString(num):\n",
    "    Snum=str(num)\n",
    "    return Snum\n",
    "\n",
    "def closestPalindrome(num):\n",
    "    # Case1 : largest palindrome number which is smaller than given number\n",
    "    RPNum=num-1\n",
    "    while(not isPalindrome(convertNumIntoString(abs(RPNum)))):\n",
    "        RPNum-=1\n",
    "    \n",
    "    # Case2 : smallest palindrome number which is greater than given number\n",
    "    SPNum=num+1\n",
    "    while(not isPalindrome(convertNumIntoString(abs(SPNum)))):\n",
    "        SPNum+=1\n",
    "    \n",
    "    # Check absolute difference\n",
    "    if (abs(num - RPNum) > abs(num - SPNum)):\n",
    "        return SPNum\n",
    "    else:\n",
    "        return RPNum\n",
    "    \n",
    "num=1234\n",
    "print(closestPalindrome(num))"
   ]
  },
  {
   "cell_type": "code",
   "execution_count": 47,
   "id": "5fba3118",
   "metadata": {},
   "outputs": [
    {
     "name": "stdout",
     "output_type": "stream",
     "text": [
      "Original sequence: 000111\n",
      "Check if every consecutive sequence of zeroes is followed by a consecutive sequence of ones in the said string:\n",
      "True\n"
     ]
    }
   ],
   "source": [
    "#142-\n",
    "def test(str1):\n",
    "    while '01' in str1:\n",
    "        str1=str1.replace('01','')\n",
    "    return len(str1)==0\n",
    "str1 = \"000111\"\n",
    "print(\"Original sequence:\",str1)\n",
    "print(\"Check if every consecutive sequence of zeroes is followed by a consecutive sequence of ones in the said string:\")\n",
    "print(test(str1))"
   ]
  },
  {
   "cell_type": "code",
   "execution_count": null,
   "id": "b5068676",
   "metadata": {},
   "outputs": [],
   "source": []
  }
 ],
 "metadata": {
  "kernelspec": {
   "display_name": "Python 3 (ipykernel)",
   "language": "python",
   "name": "python3"
  },
  "language_info": {
   "codemirror_mode": {
    "name": "ipython",
    "version": 3
   },
   "file_extension": ".py",
   "mimetype": "text/x-python",
   "name": "python",
   "nbconvert_exporter": "python",
   "pygments_lexer": "ipython3",
   "version": "3.9.7"
  }
 },
 "nbformat": 4,
 "nbformat_minor": 5
}
