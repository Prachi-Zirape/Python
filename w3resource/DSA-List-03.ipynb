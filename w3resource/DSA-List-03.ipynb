{
 "cells": [
  {
   "cell_type": "code",
   "execution_count": 31,
   "id": "5c6aa11a",
   "metadata": {},
   "outputs": [
    {
     "name": "stdout",
     "output_type": "stream",
     "text": [
      "[('Sum', 'all'), ('all', 'the'), ('the', 'items'), ('items', 'in'), ('in', 'a'), ('a', 'list'), ('Find', 'the'), ('the', 'second'), ('second', 'smallest'), ('smallest', 'number'), ('number', 'in'), ('in', 'a'), ('a', 'list')]\n"
     ]
    }
   ],
   "source": [
    "#Date-7/19/22\n",
    "#184-form Bigrams of words in a given list of strings\n",
    "#access 2 items from list and insert to a tuple\n",
    "l=['Sum all the items in a list', 'Find the second smallest number in a list']\n",
    "res=[(x,i.split()[j+1])for i in l for j,x in enumerate(i.split()) if j < len(i.split()) - 1]\n",
    "#j is tracker for enumeration\n",
    "#x and i are strings in tuple\n",
    "print(res)\n",
    "#%debug"
   ]
  },
  {
   "cell_type": "code",
   "execution_count": 33,
   "id": "3a6b9b3e",
   "metadata": {},
   "outputs": [
    {
     "name": "stdout",
     "output_type": "stream",
     "text": [
      "[('Sum', 'all'), ('all', 'the'), ('the', 'items'), ('items', 'in'), ('in', 'a'), ('a', 'list'), ('Find', 'the'), ('the', 'second'), ('second', 'smallest'), ('smallest', 'number'), ('number', 'in'), ('in', 'a'), ('a', 'list')]\n"
     ]
    }
   ],
   "source": [
    "#zip+split+list comprehension\n",
    "l=['Sum all the items in a list', 'Find the second smallest number in a list']\n",
    "res=[i for j in l for i in zip(j.split(\" \")[:-1],j.split(\" \")[1:])]\n",
    "print(res)"
   ]
  },
  {
   "cell_type": "code",
   "execution_count": 47,
   "id": "996bee53",
   "metadata": {},
   "outputs": [
    {
     "name": "stdout",
     "output_type": "stream",
     "text": [
      "[1, 1, 0, 0, 1, 0, 0]\n"
     ]
    }
   ],
   "source": [
    "#185-convert a given decimal number to binary list.\n",
    "#input-Original Number: 8\n",
    "#output-Decimal number ( 8 ) to binary list:[1, 0, 0, 0]\n",
    "n=100\n",
    "div=0\n",
    "rem=0\n",
    "lst=[]\n",
    "while div>=0:\n",
    "    div=int(n/2)\n",
    "    rem=n%2\n",
    "    n=div    \n",
    "    lst.append(rem)\n",
    "    if(div==0):\n",
    "        break\n",
    "    #print(div,rem,lst)\n",
    "print(lst[::-1])"
   ]
  },
  {
   "cell_type": "code",
   "execution_count": 48,
   "id": "a831d440",
   "metadata": {},
   "outputs": [
    {
     "name": "stdout",
     "output_type": "stream",
     "text": [
      "[1, 0, 0, 0]\n"
     ]
    }
   ],
   "source": [
    "def dec_bin(n):\n",
    "    result=[int(x)for x in list('{0:0b}'.format(n))]\n",
    "    return result\n",
    "n=8\n",
    "print(dec_bin(n))"
   ]
  },
  {
   "cell_type": "code",
   "execution_count": 53,
   "id": "b9fefb64",
   "metadata": {},
   "outputs": [
    {
     "name": "stdout",
     "output_type": "stream",
     "text": [
      "1\n",
      "0\n",
      "0\n",
      "0\n"
     ]
    }
   ],
   "source": [
    "#recursion-\n",
    "def decimalToBinary(num):\n",
    "    if num>=1:\n",
    "        decimalToBinary(num//2)\n",
    "        print(num%2)\n",
    "decimalToBinary(8)"
   ]
  },
  {
   "cell_type": "code",
   "execution_count": 55,
   "id": "891379f3",
   "metadata": {},
   "outputs": [
    {
     "name": "stdout",
     "output_type": "stream",
     "text": [
      "[0, 6, 7, 8, 9, 3, 4, 5, 1, 2, 10, 11, 12, 13, 14, 15]\n"
     ]
    }
   ],
   "source": [
    "#186-swap two sublists in a given list\n",
    "nums = [0, 1, 2, 3, 4, 5, 6, 7, 8, 9, 10, 11, 12, 13, 14, 15]\n",
    "nums[6:10], nums[1:3] = nums[1:3], nums[6:10]\n",
    "print(nums)"
   ]
  },
  {
   "cell_type": "code",
   "execution_count": 63,
   "id": "1f7a1f1a",
   "metadata": {},
   "outputs": [
    {
     "name": "stdout",
     "output_type": "stream",
     "text": [
      "['red green', 'black white', 'orange pink']\n"
     ]
    }
   ],
   "source": [
    "#187-convert a given list of tuples to a list of strings\n",
    "#input-[('red', 'green'), ('black', 'white'), ('orange', 'pink')]\n",
    "#output-['red green', 'black white', 'orange pink']\n",
    "#s1:access elements from tuple and append on list\n",
    "ip=[('red', 'green'), ('black', 'white'), ('orange', 'pink')]\n",
    "op=[]\n",
    "for i in ip:\n",
    "    res=i[0]+\" \"+i[1]\n",
    "    op.append(res)\n",
    "print(op)"
   ]
  },
  {
   "cell_type": "code",
   "execution_count": 67,
   "id": "0ca62437",
   "metadata": {},
   "outputs": [
    {
     "name": "stdout",
     "output_type": "stream",
     "text": [
      "['red green', 'black white', 'orange pink']\n"
     ]
    }
   ],
   "source": [
    "ip=[('red', 'green'), ('black', 'white'), ('orange', 'pink')]\n",
    "op=[]\n",
    "print(list(map(' '.join,ip)))"
   ]
  },
  {
   "cell_type": "code",
   "execution_count": 68,
   "id": "cd0b2baf",
   "metadata": {},
   "outputs": [
    {
     "name": "stdout",
     "output_type": "stream",
     "text": [
      "['red green', 'black white', 'orange pink']\n"
     ]
    }
   ],
   "source": [
    "def tup_lst(lst):\n",
    "    result=[(\"%s \"*len(el)%el).strip()for el in lst]\n",
    "    return result\n",
    "colors = [('red', 'green'), ('black', 'white'), ('orange', 'pink')]\n",
    "print(tup_lst(colors))"
   ]
  },
  {
   "cell_type": "code",
   "execution_count": 73,
   "id": "c2145614",
   "metadata": {},
   "outputs": [
    {
     "name": "stdout",
     "output_type": "stream",
     "text": [
      "[('item1', 11, 24.5), ('item2', 10, 10.12), ('item3', 15, 25.1), ('item4', 12, 22.5)]\n"
     ]
    }
   ],
   "source": [
    "#188-sort a given list of tuples on specified element.\n",
    "lst=[('item2', 10, 10.12), ('item3', 15, 25.1), ('item1', 11, 24.5), ('item4', 12, 22.5)]\n",
    "#output-sort on 1st element\n",
    "n=0\n",
    "print(sorted((lst),key=lambda x:x[n]))#its like sorting with i[0] in terma of for loop\n",
    "#print(lst)"
   ]
  },
  {
   "cell_type": "code",
   "execution_count": 4,
   "id": "b508a955",
   "metadata": {},
   "outputs": [
    {
     "name": "stdout",
     "output_type": "stream",
     "text": [
      "[7, 2, 3, 4, 5, 6, 1]\n"
     ]
    }
   ],
   "source": [
    "#189-shift last element to first position and first element to last position in a given list\n",
    "#inuput-[1, 2, 3, 4, 5, 6, 7]\n",
    "#output-[7, 2, 3, 4, 5, 6, 1]\n",
    "#element swapping\n",
    "lst=[1, 2, 3, 4, 5, 6, 7]\n",
    "temp_f=lst[0]\n",
    "temp_l=lst[6]\n",
    "lst.remove(temp_l)\n",
    "lst.insert(6,temp_f)\n",
    "lst.remove(temp_f)\n",
    "lst.insert(0,temp_l)\n",
    "print(lst)"
   ]
  },
  {
   "cell_type": "code",
   "execution_count": 31,
   "id": "7d0eb368",
   "metadata": {},
   "outputs": [
    {
     "name": "stdout",
     "output_type": "stream",
     "text": [
      "[60, 54, 50]\n"
     ]
    }
   ],
   "source": [
    "#190-find the specified number of largest products from two given list, multiplying an element from each list\n",
    "from itertools import product\n",
    "l1=[1, 2, 3, 4, 5, 6]\n",
    "l2=[3, 6, 8, 9, 10, 6]\n",
    "#res=[i*j for i,j in product(l1,l2)]\n",
    "res=sorted([i*j for i,j in product(l1,l2)],reverse=True)[:3]\n",
    "print(res)"
   ]
  },
  {
   "cell_type": "code",
   "execution_count": 39,
   "id": "56399de0",
   "metadata": {},
   "outputs": [
    {
     "name": "stdout",
     "output_type": "stream",
     "text": [
      "min= 0 max= 9\n"
     ]
    }
   ],
   "source": [
    "#191-find the maximum and minimum value of the three given lists\n",
    "#s1-concat 3 lists and find max and min\n",
    "#s2-find max and min from individual lists and then compare\n",
    "#s3-sort all the list compare first and last element\n",
    "l1=[2, 3, 5, 8, 7, 2, 3]\n",
    "l2=[4, 3, 9, 0, 4, 3, 9]\n",
    "l3=[2, 1, 5, 6, 5, 5, 4]\n",
    "l=l1+l2+l3\n",
    "l_sorted=sorted(l)\n",
    "print(\"min=\",l_sorted[0],\"max=\",l_sorted[-1])"
   ]
  },
  {
   "cell_type": "code",
   "execution_count": 41,
   "id": "1343e9d1",
   "metadata": {},
   "outputs": [
    {
     "name": "stdout",
     "output_type": "stream",
     "text": [
      "[100, 80, 90, 88, 89, 90, 92]\n"
     ]
    }
   ],
   "source": [
    "#192-remove all strings from a given list of tuples\n",
    "lst=[(100, 'Math'), (80, 'Math'), (90, 'Math'), (88, 'Science', 89), (90, 'Science', 92)]\n",
    "res=[]\n",
    "for i in lst:\n",
    "    for j in i:\n",
    "        if type(j) !=str:\n",
    "            res.append(j)\n",
    "print(res)"
   ]
  },
  {
   "cell_type": "code",
   "execution_count": 45,
   "id": "7398e84d",
   "metadata": {},
   "outputs": [
    {
     "name": "stdout",
     "output_type": "stream",
     "text": [
      "[(100,), (80,), (90,), (88, 89), (90, 92)]\n"
     ]
    }
   ],
   "source": [
    "def test(lst):\n",
    "    result=[tuple(v for v in i if not isinstance(v,str)) for i in lst]\n",
    "    return result\n",
    "lst=[(100, 'Math'), (80, 'Math'), (90, 'Math'), (88, 'Science', 89), (90, 'Science', 92)]\n",
    "print(test(lst))"
   ]
  },
  {
   "cell_type": "code",
   "execution_count": 46,
   "id": "89cc0396",
   "metadata": {},
   "outputs": [
    {
     "name": "stdout",
     "output_type": "stream",
     "text": [
      "2 3\n"
     ]
    }
   ],
   "source": [
    "#193-find the dimension of a given matrix\n",
    "#find length of matrix and length of individual array\n",
    "mtr=[[0, 1, 2], [2, 4, 5]]\n",
    "print(len(mtr),len(mtr[0]))    "
   ]
  },
  {
   "cell_type": "code",
   "execution_count": 56,
   "id": "77e57126",
   "metadata": {},
   "outputs": [
    {
     "data": {
      "text/plain": [
       "[4, 8, 8]"
      ]
     },
     "execution_count": 56,
     "metadata": {},
     "output_type": "execute_result"
    }
   ],
   "source": [
    "#194-sum two or more lists, the lengths of the lists may be different\n",
    "import itertools\n",
    "l=[[1, 2, 4], [2, 4, 4], [1, 2]]\n",
    "res=[]\n",
    "[sum(x) for x in itertools.zip_longest(*l,fillvalue=0)]"
   ]
  },
  {
   "cell_type": "code",
   "execution_count": 58,
   "id": "41d28ae9",
   "metadata": {},
   "outputs": [
    {
     "data": {
      "text/plain": [
       "[4, 8, 8]"
      ]
     },
     "execution_count": 58,
     "metadata": {},
     "output_type": "execute_result"
    }
   ],
   "source": [
    "l=[[1, 2, 4], [2, 4, 4], [1, 2]]\n",
    "ml=max(map(len,l))\n",
    "[sum(x) for x in zip(*map(lambda x:x+[0]*ml if len(x)<ml else x,l))]"
   ]
  },
  {
   "cell_type": "code",
   "execution_count": 62,
   "id": "1373c8dc",
   "metadata": {},
   "outputs": [
    {
     "name": "stdout",
     "output_type": "stream",
     "text": [
      "[(3, 'black'), (2, 'white'), (1, 'green'), (0, 'red')]\n"
     ]
    }
   ],
   "source": [
    "#195-program to traverse a given list in reverse order, also print the elements with original index.\n",
    "#s1-enumeration\n",
    "l=['red', 'green', 'white', 'black']\n",
    "l2=list(enumerate(l))\n",
    "print(l2[::-1])"
   ]
  },
  {
   "cell_type": "code",
   "execution_count": 63,
   "id": "eb51f546",
   "metadata": {},
   "outputs": [
    {
     "name": "stdout",
     "output_type": "stream",
     "text": [
      "Original list:\n",
      "['red', 'green', 'white', 'black']\n",
      "\n",
      "Traverse the said list in reverse order:\n",
      "black\n",
      "white\n",
      "green\n",
      "red\n",
      "\n",
      "Traverse the said list in reverse order with original index:\n",
      "3 black\n",
      "2 white\n",
      "1 green\n",
      "0 red\n"
     ]
    }
   ],
   "source": [
    "color = [\"red\", \"green\", \"white\", \"black\"]\n",
    "print(\"Original list:\")\n",
    "print(color)\n",
    "print(\"\\nTraverse the said list in reverse order:\")\n",
    "for i in reversed(color):\n",
    "    print(i)\n",
    "print(\"\\nTraverse the said list in reverse order with original index:\")\n",
    "for i, el in reversed(list(enumerate(color))):\n",
    "    print(i, el) "
   ]
  },
  {
   "cell_type": "code",
   "execution_count": 71,
   "id": "4d9189a3",
   "metadata": {},
   "outputs": [
    {
     "name": "stdout",
     "output_type": "stream",
     "text": [
      "['red', 'green', 'black', 'orange', 'white']\n"
     ]
    }
   ],
   "source": [
    "#196-move a specified element in a given list\n",
    "l=['red', 'green', 'white', 'black', 'orange']\n",
    "#output-Move white at the end of the said list: ['red', 'green', 'black', 'orange', 'white']\n",
    "#s1-list slicing\n",
    "#using temporary variable\n",
    "idx=l.index('white')\n",
    "l_op=l[0:idx]+l[idx+1:]+l[idx:idx+1]\n",
    "print(l_op)"
   ]
  },
  {
   "cell_type": "code",
   "execution_count": 72,
   "id": "86c0181b",
   "metadata": {},
   "outputs": [
    {
     "name": "stdout",
     "output_type": "stream",
     "text": [
      "Original list:\n",
      "['red', 'green', 'white', 'black', 'orange']\n",
      "Move white at the end of the said list:\n",
      "['red', 'green', 'black', 'orange', 'white']\n"
     ]
    }
   ],
   "source": [
    "def group_similar_items(seq,el):\n",
    "    seq.append(seq.pop(seq.index(el)))\n",
    "    return seq \n",
    "\n",
    "colors = ['red','green','white','black','orange']\n",
    "print(\"Original list:\")\n",
    "print(colors)\n",
    "el = \"white\"\n",
    "print(\"Move\",el,\"at the end of the said list:\")\n",
    "print(group_similar_items(colors, el))"
   ]
  },
  {
   "cell_type": "code",
   "execution_count": 10,
   "id": "f2a5062d",
   "metadata": {},
   "outputs": [
    {
     "name": "stdout",
     "output_type": "stream",
     "text": [
      "3.2\n"
     ]
    }
   ],
   "source": [
    "#Date-7/21/22\n",
    "#198-compute the average of nth elements in a given list of lists with different lengths\n",
    "l=[[0, 1, 2], [2, 3, 4], [3, 4, 5, 6], [7, 8, 9, 10, 11], [12, 13, 14]]\n",
    "n=3\n",
    "sums=0\n",
    "avg=0\n",
    "for i in l:\n",
    "    if len(i)-1<n:\n",
    "        continue \n",
    "    else:\n",
    "        sums=sums+i[n]\n",
    "avg=sums/len(l)\n",
    "print(avg)"
   ]
  },
  {
   "cell_type": "code",
   "execution_count": 31,
   "id": "7ee74ee2",
   "metadata": {},
   "outputs": [
    {
     "name": "stdout",
     "output_type": "stream",
     "text": [
      "[(0, 2, 3, 7, 12), (1, 3, 4, 8, 13), (2, 4, 5, 9, 14), (None, None, 6, 10, None), (None, None, None, 11, None)]\n",
      "[4.8, 5.8, 6.8, 8.0, 11.0]\n"
     ]
    }
   ],
   "source": [
    "import itertools as it\n",
    "nums = [[0, 1, 2],\n",
    "       [2, 3, 4],\n",
    "       [3, 4, 5, 6],\n",
    "       [7, 8, 9, 10, 11],\n",
    "       [12, 13, 14]]\n",
    "def get_avg(x):\n",
    "    x=[i for i in x if i is not None]\n",
    "    return sum(x, 0.0) / len(x)\n",
    "result=map(get_avg,it.zip_longest(*nums))\n",
    "print(list(it.zip_longest(*nums)))\n",
    "print(list(result))"
   ]
  },
  {
   "cell_type": "code",
   "execution_count": 15,
   "id": "1b02d9a7",
   "metadata": {},
   "outputs": [
    {
     "name": "stdout",
     "output_type": "stream",
     "text": [
      "[1, 4]\n"
     ]
    }
   ],
   "source": [
    "#198-compare two given lists and find the indices of the values present in both lists.\n",
    "l1=[1, 2, 3, 4, 5, 6]\n",
    "l2=[7, 8, 5, 2, 10, 12]\n",
    "res=[]\n",
    "for i in l1:\n",
    "    if i in l2:\n",
    "        res.append(l1.index(i))\n",
    "print(res)"
   ]
  },
  {
   "cell_type": "code",
   "execution_count": 19,
   "id": "3e99b3d8",
   "metadata": {},
   "outputs": [
    {
     "name": "stdout",
     "output_type": "stream",
     "text": [
      "\n",
      "Original lists:\n",
      "[1, 2, 3, 4, 5, 6]\n",
      "[7, 8, 5, 7, 10, 12]\n",
      "Compare said two lists and get the indices of the values present in both lists:\n",
      "[4]\n"
     ]
    }
   ],
   "source": [
    "def matched_idx(l1,l2):\n",
    "    l2 = set(l2)\n",
    "    return [i for i, el in enumerate(l1) if el in l2]\n",
    "#    return [i for i, el in enumerate(l1) if el in l2]\n",
    "nums1 = [1, 2, 3, 4, 5 ,6]\n",
    "nums2 = [7, 8, 5, 7, 10, 12]\n",
    "print(\"\\nOriginal lists:\")\n",
    "print(nums1)\n",
    "print(nums2)\n",
    "print(\"Compare said two lists and get the indices of the values present in both lists:\")\n",
    "print(matched_idx(nums1, nums2))"
   ]
  },
  {
   "cell_type": "code",
   "execution_count": 33,
   "id": "307f850b",
   "metadata": {},
   "outputs": [
    {
     "name": "stdout",
     "output_type": "stream",
     "text": [
      "Original lists:\n",
      "['S001', 'S002', 'S003', 'S004']\n",
      " Convert the said unicode list to a list contains strings:\n",
      "['S001', 'S002', 'S003', 'S004']\n"
     ]
    }
   ],
   "source": [
    "#199-convert a given unicode list to a list contains strings\n",
    "def unicode_to_str(lst):\n",
    "    result=[str(x) for x in lst]\n",
    "    return result\n",
    "students=[u'S001', u'S002', u'S003', u'S004']\n",
    "print(\"Original lists:\")\n",
    "print(students)\n",
    "print(\" Convert the said unicode list to a list contains strings:\")\n",
    "print(unicode_to_str(students))"
   ]
  },
  {
   "cell_type": "code",
   "execution_count": 37,
   "id": "086ab0f4",
   "metadata": {},
   "outputs": [
    {
     "name": "stdout",
     "output_type": "stream",
     "text": [
      "[[1, 2], [2, 3], [3, 4], [4, 5], [5, 6]]\n"
     ]
    }
   ],
   "source": [
    "#200-pair up the consecutive elements of a given list\n",
    "l=[1, 2, 3, 4, 5, 6]\n",
    "#for loop\n",
    "l_op=[]\n",
    "for i in range(len(l)-1):\n",
    "    res=[]\n",
    "    res=[l[i],l[i+1]]\n",
    "    l_op.append(res)\n",
    "print(l_op)"
   ]
  },
  {
   "cell_type": "code",
   "execution_count": 38,
   "id": "98426b21",
   "metadata": {},
   "outputs": [
    {
     "name": "stdout",
     "output_type": "stream",
     "text": [
      "[(1, 2), (2, 3), (3, 4), (4, 5), (5, 6)]\n"
     ]
    }
   ],
   "source": [
    "#using zip\n",
    "\n",
    "l=[1, 2, 3, 4, 5, 6]\n",
    "res = list(zip(l,l[1:]))\n",
    "print(res)"
   ]
  },
  {
   "cell_type": "code",
   "execution_count": 40,
   "id": "2ec47c63",
   "metadata": {},
   "outputs": [
    {
     "name": "stdout",
     "output_type": "stream",
     "text": [
      "Yeah\n",
      "Naahh\n",
      "Naahh\n"
     ]
    }
   ],
   "source": [
    "#201-check if a given string contains an element, which is present in a list\n",
    "str1=\"https://www.w3resource.com/python-exercises/list/\"\n",
    "l=['.com', '.edu', '.tv']\n",
    "for i in l:\n",
    "    if i in str1:\n",
    "        print(\"Yeah\")\n",
    "    else:\n",
    "        print(\"Naahh\")"
   ]
  },
  {
   "cell_type": "code",
   "execution_count": 47,
   "id": "b4334f74",
   "metadata": {},
   "outputs": [
    {
     "name": "stdout",
     "output_type": "stream",
     "text": [
      "1\n",
      "1\n",
      "1\n",
      "1\n",
      "[1, 1, 1, 1]\n"
     ]
    }
   ],
   "source": [
    "#202-find the indexes of all None items in a given list\n",
    "l=[1, None, 5, 4, None, 0, None, None]\n",
    "res=[]\n",
    "for i in l:\n",
    "    if i== None:\n",
    "        print(l.index(i))\n",
    "        res.append(l.index(i))\n",
    "print(res)"
   ]
  },
  {
   "cell_type": "code",
   "execution_count": 48,
   "id": "1bec1e3d",
   "metadata": {},
   "outputs": [
    {
     "name": "stdout",
     "output_type": "stream",
     "text": [
      "Original list:\n",
      "[1, None, 5, 4, None, 0, None, None]\n",
      "\n",
      "Indexes of all None items of the list:\n",
      "[1, 4, 6, 7]\n"
     ]
    }
   ],
   "source": [
    "def relative_order(lst):\n",
    "    result = [i for i in range(len(lst)) if lst[i] == None]\n",
    "    return result\n",
    "\n",
    "nums = [1, None, 5, 4,None, 0, None, None]\n",
    "print(\"Original list:\")\n",
    "print(nums)\n",
    "print(\"\\nIndexes of all None items of the list:\")\n",
    "print(relative_order(nums))"
   ]
  },
  {
   "cell_type": "code",
   "execution_count": 64,
   "id": "d37070fd",
   "metadata": {},
   "outputs": [
    {
     "name": "stdout",
     "output_type": "stream",
     "text": [
      "['12', '34', '56', '78']\n"
     ]
    }
   ],
   "source": [
    "#203-join adjacent members of a given list\n",
    "l=['1', '2', '3', '4', '5', '6', '7', '8']\n",
    "#op=['12', '34', '56', '78']\n",
    "res=[]\n",
    "for i in range(0,len(l)-1,2):\n",
    "    res.append(l[i]+(l[i+1]))\n",
    "print(list(res))"
   ]
  },
  {
   "cell_type": "code",
   "execution_count": 66,
   "id": "ab71e955",
   "metadata": {},
   "outputs": [
    {
     "name": "stdout",
     "output_type": "stream",
     "text": [
      "['1', '3', '5', '7'] ['2', '4', '6', '8']\n",
      "['12', '34', '56', '78']\n"
     ]
    }
   ],
   "source": [
    "def test(lst):\n",
    "    result=[x+y for x,y in zip(lst[::2],lst[1::2])]\n",
    "    print(lst[::2],lst[1::2])\n",
    "    return result\n",
    "nums = ['1','2','3','4','5','6','7','8']\n",
    "print(test(nums))"
   ]
  },
  {
   "cell_type": "code",
   "execution_count": 73,
   "id": "0a3b6b56",
   "metadata": {},
   "outputs": [
    {
     "name": "stdout",
     "output_type": "stream",
     "text": [
      "Yup\n"
     ]
    }
   ],
   "source": [
    "#204-check if first digit/character of each element in a given list is same or not.\n",
    "l=[1234, 122, 1984, 19372, 100]\n",
    "res=[]\n",
    "for i in l:\n",
    "    res.append(str(i)[0])\n",
    "if len(set(res))==1:\n",
    "    print(\"Yup\")\n",
    "else:\n",
    "    print(\"nope\")"
   ]
  },
  {
   "cell_type": "code",
   "execution_count": 74,
   "id": "df59f2c7",
   "metadata": {},
   "outputs": [
    {
     "name": "stdout",
     "output_type": "stream",
     "text": [
      "\n",
      "Original list:\n",
      "[1234, 122, 1984, 19372, 100]\n",
      "Check if first digit in each element of the said given list is same or not!\n",
      "True\n"
     ]
    }
   ],
   "source": [
    "def test(lst):\n",
    "    result=all(str(x)[0]==str(lst[0])[0] for x in lst)\n",
    "    return result\n",
    "nums = [1234, 122, 1984, 19372, 100]\n",
    "print(\"\\nOriginal list:\")\n",
    "print(nums)\n",
    "print(\"Check if first digit in each element of the said given list is same or not!\")\n",
    "print(test(nums))"
   ]
  },
  {
   "cell_type": "code",
   "execution_count": 75,
   "id": "b54b5d84",
   "metadata": {},
   "outputs": [
    {
     "name": "stdout",
     "output_type": "stream",
     "text": [
      "[3, 6]\n"
     ]
    }
   ],
   "source": [
    "#205-ind the indices of elements of a given list, greater than a specified value\n",
    "l=[1234, 1522, 1984, 19372, 1000, 2342, 7626]\n",
    "res=[]\n",
    "n=3000\n",
    "for i in l:\n",
    "    if i>n:\n",
    "        res.append(l.index(i))\n",
    "print(res)"
   ]
  },
  {
   "cell_type": "code",
   "execution_count": 76,
   "id": "ef4fe306",
   "metadata": {},
   "outputs": [
    {
     "name": "stdout",
     "output_type": "stream",
     "text": [
      "\n",
      "Original list:\n",
      "[1234, 1522, 1984, 19372, 1000, 2342, 7626]\n",
      "Indices of elements of the said list, greater than 3000\n",
      "[3, 6]\n"
     ]
    }
   ],
   "source": [
    "def test(lst, value):\n",
    "    result = [i for i,val in enumerate(lst) if val > value]\n",
    "    return result\n",
    "nums = [1234, 1522, 1984, 19372, 1000, 2342, 7626]\n",
    "print(\"\\nOriginal list:\")\n",
    "print(nums)\n",
    "val = 3000\n",
    "print(\"Indices of elements of the said list, greater than\",val)\n",
    "print(test(nums,val))"
   ]
  },
  {
   "cell_type": "code",
   "execution_count": 78,
   "id": "2ca78730",
   "metadata": {},
   "outputs": [
    {
     "name": "stdout",
     "output_type": "stream",
     "text": [
      "['abc', '', '', 'sdfds', '', '', 'sdfds', 'huy']\n"
     ]
    }
   ],
   "source": [
    "#206-remove additional spaces in a given list\n",
    "l=['abc ', ' ', ' ', 'sdfds ', ' ', ' ', 'sdfds ', 'huy']\n",
    "result=[]\n",
    "for i in l:\n",
    "    j=i.replace(' ','')\n",
    "    result.append(j)\n",
    "print(result)\n"
   ]
  },
  {
   "cell_type": "code",
   "execution_count": 79,
   "id": "be09c78c",
   "metadata": {},
   "outputs": [
    {
     "name": "stdout",
     "output_type": "stream",
     "text": [
      "[('red', 'green'), ('orange', 'pink')]\n"
     ]
    }
   ],
   "source": [
    "#207- find the common tuples between two given lists\n",
    "l1=[('red', 'green'), ('black', 'white'), ('orange', 'pink')]\n",
    "l2=[('red', 'green'), ('orange', 'pink')]\n",
    "res=[]\n",
    "for i in l1:\n",
    "    if i in l2:\n",
    "        res.append(i)\n",
    "print(res)"
   ]
  },
  {
   "cell_type": "code",
   "execution_count": 80,
   "id": "63954da4",
   "metadata": {},
   "outputs": [
    {
     "name": "stdout",
     "output_type": "stream",
     "text": [
      "\n",
      "Original lists:\n",
      "[('red', 'green'), ('black', 'white'), ('orange', 'pink')]\n",
      "[('red', 'green'), ('orange', 'pink')]\n",
      "\n",
      "Common tuples between two said lists\n",
      "[('red', 'green'), ('orange', 'pink')]\n"
     ]
    }
   ],
   "source": [
    "def test(list1, list2):\n",
    "    result =  set(list1).intersection(list2)\n",
    "    return list(result)\n",
    "list1 =  [('red', 'green'), ('black', 'white'), ('orange', 'pink')] \n",
    "list2 =  [('red', 'green'), ('orange', 'pink')] \n",
    "print(\"\\nOriginal lists:\")\n",
    "print(list1)\n",
    "print(list2)\n",
    "print(\"\\nCommon tuples between two said lists\")\n",
    "print(test(list1,list2)) "
   ]
  },
  {
   "cell_type": "code",
   "execution_count": 6,
   "id": "124f15f3",
   "metadata": {},
   "outputs": [
    {
     "name": "stdout",
     "output_type": "stream",
     "text": [
      "[(1, 2), (2, 3), (3, 4), (4, 5), (5, 6), (6, 7)] [1.5, 2.5, 3.5, 4.5, 5.5, 6.5]\n"
     ]
    }
   ],
   "source": [
    "#208-Sum a list of numbers. Write a Python program to sum the first number with \n",
    "#the second and divide it by 2, then sum the second with the third and divide by 2, and so on\n",
    "#op=[1.5, 2.5, 3.5, 4.5, 5.5, 6.5]\n",
    "l=[1, 2, 3, 4, 5, 6, 7]\n",
    "f_Res=[]\n",
    "res=list(zip(l[0:],l[1:]))\n",
    "for i in res:\n",
    "    avg=((i[0]+i[1])/2)\n",
    "    f_Res.append(avg)\n",
    "print(res,f_Res)"
   ]
  },
  {
   "cell_type": "code",
   "execution_count": 8,
   "id": "577a8c81",
   "metadata": {},
   "outputs": [
    {
     "name": "stdout",
     "output_type": "stream",
     "text": [
      "\n",
      "Original list:\n",
      "[1, 2, 3, 4, 5, 6, 7]\n",
      "\n",
      "Sum the said list of numbers:\n",
      "[1.5, 2.5, 3.5, 4.5, 5.5, 6.5]\n"
     ]
    }
   ],
   "source": [
    "def test(lst1):\n",
    "    result=[(x+y)/2.0 for(x,y) in zip(lst1[0:],lst1[1:])]\n",
    "    return result\n",
    "nums =  [1,2,3,4,5,6,7]\n",
    "print(\"\\nOriginal list:\")\n",
    "print(nums)\n",
    "print(\"\\nSum the said list of numbers:\")\n",
    "print(test(nums))"
   ]
  },
  {
   "cell_type": "code",
   "execution_count": 18,
   "id": "1700dac3",
   "metadata": {},
   "outputs": [
    {
     "name": "stdout",
     "output_type": "stream",
     "text": [
      "\n",
      "Original list:\n",
      "[3, 4, 6, 2, 0, 0, 0, 0, 0, 0, 6, 7, 6, 9, 10, 0, 0, 0, 0, 0, 5, 9, 9, 7, 4, 4, 0, 0, 0, 0, 0, 0, 5, 3, 2, 9, 7, 1]\n",
      "\n",
      "Number of groups of non-zero numbers separated by zeros of the said list:\n",
      "4\n"
     ]
    }
   ],
   "source": [
    "#209-count the number of groups of non-zero numbers separated by zeros of a given list of numbers\n",
    "#q1-how many numbers group can have?\n",
    "#s1-for loop\n",
    "def test(lst):\n",
    "    ctr=0\n",
    "    prev_digit=0\n",
    "    for digit in lst:\n",
    "        if prev_digit==0 and digit!=0:\n",
    "            #print(prev_digit,digit)\n",
    "            ctr+=1\n",
    "        prev_digit=digit\n",
    "    return ctr\n",
    "nums=[3, 4, 6, 2, 0, 0, 0, 0, 0, 0, 6, 7, 6, 9, 10, 0, 0, 0, 0, 0, 5, 9, 9, 7, 4, 4, 0, 0, 0, 0, 0, 0, 5, 3, 2, 9, 7, 1]\n",
    "print(\"\\nOriginal list:\")\n",
    "print(nums)\n",
    "print(\"\\nNumber of groups of non-zero numbers separated by zeros of the said list:\")\n",
    "print(test(nums)) "
   ]
  },
  {
   "cell_type": "code",
   "execution_count": 4,
   "id": "cf5cea24",
   "metadata": {},
   "outputs": [
    {
     "name": "stdout",
     "output_type": "stream",
     "text": [
      "[15, 38, 15, 27]\n"
     ]
    }
   ],
   "source": [
    "#date-7/22/22\n",
    "#210-compute the sum of non-zero groups (separated by zeros) of a given list of numbers\n",
    "l=[3, 4, 6, 2, 0, 0, 0, 0, 0, 0, 6, 7, 6, 9, 10, 0, 0, 0, 0, 0, 7, 4, 4, 0, 0, 0, 0, 0, 0, 5, 3, 2, 9, 7, 1, 0, 0, 0]\n",
    "def sum_grp(lst):\n",
    "    prev_num=0\n",
    "    sums=0\n",
    "    res=[]\n",
    "    for i in lst:\n",
    "        if i!=0:\n",
    "            sums=sums+i\n",
    "            prev_num=i\n",
    "        elif i==0 and prev_num!=0:\n",
    "            res.append(sums)\n",
    "            sums=0\n",
    "            prev_num=i\n",
    "    return res\n",
    "print(sum_grp(l))"
   ]
  },
  {
   "cell_type": "code",
   "execution_count": 7,
   "id": "8a372345",
   "metadata": {},
   "outputs": [
    {
     "name": "stdout",
     "output_type": "stream",
     "text": [
      "Original list:\n",
      "[3, 4, 6, 2, 0, 0, 0, 0, 0, 0, 6, 7, 6, 9, 10, 0, 0, 0, 0, 0, 7, 4, 4, 0, 0, 0, 0, 0, 0, 5, 3, 2, 9, 7, 1, 0, 0, 0]\n",
      "\n",
      "Compute the sum of non-zero groups (separated by zeros) of the said list of numbers:\n",
      "[15, 38, 15, 27]\n"
     ]
    }
   ],
   "source": [
    "def test(lst):\n",
    "    result=[]\n",
    "    el_val=0\n",
    "    for digit in lst:\n",
    "        if digit==0:\n",
    "            if el_val!=0:\n",
    "                result.append(el_val)\n",
    "                el_val=0\n",
    "        else:\n",
    "            el_val+=digit\n",
    "    return result\n",
    "nums = [3,4,6,2,0,0,0,0,0,0,6,7,6,9,10,0,0,0,0,0,7,4,4,0,0,0,0,0,0,5,3,2,9,7,1,0,0,0]\n",
    "print(\"Original list:\")\n",
    "print(nums)\n",
    "print(\"\\nCompute the sum of non-zero groups (separated by zeros) of the said list of numbers:\")\n",
    "print(test(nums))"
   ]
  },
  {
   "cell_type": "code",
   "execution_count": 17,
   "id": "a55136b5",
   "metadata": {},
   "outputs": [
    {
     "name": "stdout",
     "output_type": "stream",
     "text": [
      "[98, 'Math', 90, 'Science']\n"
     ]
    }
   ],
   "source": [
    "#211- remove an element from a given lis\n",
    "l=['Ricky Rivera', 98, 'Math', 90, 'Science']\n",
    "val='Ricky Rivera'\n",
    "idx=l.index(val)\n",
    "del(l[idx])\n",
    "print(l)"
   ]
  },
  {
   "cell_type": "code",
   "execution_count": 28,
   "id": "0cae4806",
   "metadata": {},
   "outputs": [
    {
     "name": "stdout",
     "output_type": "stream",
     "text": [
      "Original list: [34.67, 12, -94.89, 'Python', 0, 'C#']\n",
      "After removing all the values except integer values from the said array of mixed values:\n",
      "[12, 0]\n"
     ]
    }
   ],
   "source": [
    "#212-remove all the values except integer values from a given array of mixed values\n",
    "def test(lst):\n",
    "    return [lst for lst in lst if isinstance(lst, int)]\n",
    "mixed_list = [34.67, 12, -94.89, \"Python\", 0, \"C#\"]\n",
    "print(\"Original list:\", mixed_list)\n",
    "print(\"After removing all the values except integer values from the said array of mixed values:\")\n",
    "print(test(mixed_list))"
   ]
  },
  {
   "cell_type": "code",
   "execution_count": 30,
   "id": "4524d8fc",
   "metadata": {},
   "outputs": [
    {
     "name": "stdout",
     "output_type": "stream",
     "text": [
      "[-14, -13, -12, -11, -10, 15, 16, 17, 18, 19, 20] -27\n"
     ]
    }
   ],
   "source": [
    "#213-calculate the sum of two lowest negative numbers of a given array of integers\n",
    "l=[-14, 15, -10, -11, -12, -13, 16, 17, 18, 19, 20]\n",
    "sums=0\n",
    "res=[]\n",
    "res=sorted(l)\n",
    "sums=res[0]+res[1]\n",
    "print(res,sums)"
   ]
  },
  {
   "cell_type": "code",
   "execution_count": 42,
   "id": "1039b434",
   "metadata": {},
   "outputs": [
    {
     "name": "stdout",
     "output_type": "stream",
     "text": [
      "['1', '3', '3', '4', '4', '5'] 133445 544331\n"
     ]
    }
   ],
   "source": [
    "#214-ort a given positive number in descending/ascending order\n",
    "#Descending order of the said number: 544331\n",
    "#Ascending order of the said number: 133445\n",
    "num=134543\n",
    "res=[]\n",
    "asc_num=''\n",
    "desc_num=''\n",
    "for i in str(num):\n",
    "    res.append(i)\n",
    "asc_num=asc_num.join(sorted(res))\n",
    "desc_num=desc_num.join(sorted(res,reverse=True))\n",
    "   # print(asc_num)\n",
    "print(sorted(res),asc_num,desc_num)"
   ]
  },
  {
   "cell_type": "code",
   "execution_count": 46,
   "id": "2bfac119",
   "metadata": {},
   "outputs": [
    {
     "name": "stdout",
     "output_type": "stream",
     "text": [
      "[('a', 1, '@'), ('b', 2, '#')]\n"
     ]
    }
   ],
   "source": [
    "#215-merge two or more lists into a list of lists, c\n",
    "#combining elements from each of the input lists based on their positions\n",
    "l1=['a','b','c']\n",
    "l2=[1,2,3]\n",
    "l3=['@','#']\n",
    "res=list(zip(l1,l2,l3))\n",
    "print(list(res))"
   ]
  },
  {
   "cell_type": "code",
   "execution_count": 48,
   "id": "ea604c52",
   "metadata": {},
   "outputs": [
    {
     "name": "stdout",
     "output_type": "stream",
     "text": [
      "After merging lists into a list of lists:\n",
      "[['a', 1, True], ['b', 2, False]]\n"
     ]
    }
   ],
   "source": [
    "def merge_list(*args,fill_val=None):\n",
    "    max_length=max([len(lst)for lst in args])\n",
    "    result=[]\n",
    "    for i in range(max_length):\n",
    "        result.append([args[k][i]if i<len(args[k]) else fill_val for k in range(len(args))])\n",
    "    return result\n",
    "print(\"After merging lists into a list of lists:\")\n",
    "print(merge_list(['a', 'b'], [1, 2], [True, False]))"
   ]
  },
  {
   "cell_type": "code",
   "execution_count": 49,
   "id": "e91e8760",
   "metadata": {},
   "outputs": [
    {
     "name": "stdout",
     "output_type": "stream",
     "text": [
      "{6: 2, 4: 1}\n",
      "{3: 2, 5: 1}\n"
     ]
    }
   ],
   "source": [
    "#216-group the elements of a list based on the given function and returns the count of elements in each group\n",
    "from collections import defaultdict\n",
    "def count_by(lst,fn=lambda x: x):\n",
    "    count=defaultdict(int)\n",
    "    for val in map(fn,lst):\n",
    "        count[val]+=1\n",
    "    return dict(count)\n",
    "from math import floor\n",
    "print(count_by([6.1, 4.2, 6.3], floor)) \n",
    "print(count_by(['one', 'two', 'three'], len))"
   ]
  },
  {
   "cell_type": "code",
   "execution_count": 51,
   "id": "314b208d",
   "metadata": {},
   "outputs": [
    {
     "name": "stdout",
     "output_type": "stream",
     "text": [
      "[['white'], ['red', 'green', 'black']]\n"
     ]
    }
   ],
   "source": [
    "#217-split values into two groups, based on the result of the given filtering function\n",
    "def bifurcate_by(lst,fn):\n",
    "    return[\n",
    "        [x for x in lst if fn(x)],\n",
    "        [x for x in lst if not fn(x)]\n",
    "    ]\n",
    "l=['red', 'green', 'black', 'white']\n",
    "fctn=lambda x : x[0]=='w'\n",
    "print(bifurcate_by(l,fctn))"
   ]
  },
  {
   "cell_type": "code",
   "execution_count": 3,
   "id": "d8edba4b",
   "metadata": {},
   "outputs": [
    {
     "name": "stdout",
     "output_type": "stream",
     "text": [
      "['oranges', 'milk', 'jam', 'eggs', 'bread', 'apples']\n",
      "['oranges', 'milk', 'jam', 'eggs', 'bread', 'apples']\n"
     ]
    }
   ],
   "source": [
    "#218-sort one list based on another list containing the desired indexes\n",
    "l=['apples', 'bread', 'eggs', 'jam', 'milk', 'oranges']\n",
    "def sort_idx(lst,indexes):\n",
    "    return [val for (_,val) in sorted(zip(indexes,lst),key=lambda x:x[0],reverse=True)]\n",
    "l1 = ['eggs', 'bread', 'oranges', 'jam', 'apples', 'milk']\n",
    "l2 = [3, 2, 6, 4, 1, 5]\n",
    "print(sort_idx(l1, l2))  "
   ]
  },
  {
   "cell_type": "code",
   "execution_count": 16,
   "id": "5f54d2e7",
   "metadata": {},
   "outputs": [
    {
     "name": "stdout",
     "output_type": "stream",
     "text": [
      "[865, 138, 979, 244, 242, 638, 813, 332, 233, 475]\n"
     ]
    }
   ],
   "source": [
    "#219-build a list, using an iterator function and an initial seed value\n",
    "import random\n",
    "res=[]\n",
    "num=0\n",
    "for i in range(10):\n",
    "    num=random.seed(i)\n",
    "    res.append(random.randint(1, 1000))\n",
    "print(res)"
   ]
  },
  {
   "cell_type": "code",
   "execution_count": 17,
   "id": "7e33fc37",
   "metadata": {},
   "outputs": [
    {
     "name": "stdout",
     "output_type": "stream",
     "text": [
      "[-10, -20, -30, -40]\n"
     ]
    }
   ],
   "source": [
    "def unfold(fn,seed):\n",
    "    def fn_generator(val):\n",
    "        while True:\n",
    "            val=fn(val[1])\n",
    "            if val==False:break\n",
    "            yield val[0]\n",
    "    return [i for i in fn_generator([None,seed])]\n",
    "f = lambda n: False if n > 40 else [-n, n + 10]\n",
    "print(unfold(f, 10))"
   ]
  },
  {
   "cell_type": "code",
   "execution_count": 18,
   "id": "1ad8ba7e",
   "metadata": {},
   "outputs": [
    {
     "name": "stdout",
     "output_type": "stream",
     "text": [
      "{1: 1, 2: 4, 3: 9}\n"
     ]
    }
   ],
   "source": [
    "#220-to map the values of a list to a dictionary using a function, \n",
    "#where the key-value pairs consist of the original value as the key and the result of the function as the value.\n",
    "def dict_fn(lst,fn):\n",
    "    return dict(zip(lst,map(fn,lst)))\n",
    "print(dict_fn([1, 2, 3], lambda x: x * x))"
   ]
  },
  {
   "cell_type": "code",
   "execution_count": 24,
   "id": "869257c9",
   "metadata": {},
   "outputs": [
    {
     "name": "stdout",
     "output_type": "stream",
     "text": [
      "[2, 6, 3, 1, 4, 5]\n"
     ]
    }
   ],
   "source": [
    "#221-randomize the order of the values of an list, returning a new list\n",
    "#s1-Fisher–Yates shuffle\n",
    "import random\n",
    "res=[]\n",
    "l=[1, 2, 3, 4, 5, 6]\n",
    "for i in range(len(l)-1,0,-1):\n",
    "    j=random.randint(0,i+1)\n",
    "    l[i],l[j]=l[j],l[i]\n",
    "print(l)"
   ]
  },
  {
   "cell_type": "code",
   "execution_count": 25,
   "id": "1d1bbc1d",
   "metadata": {},
   "outputs": [
    {
     "name": "stdout",
     "output_type": "stream",
     "text": [
      "[3, 5, 1, 4, 2, 6]\n"
     ]
    }
   ],
   "source": [
    "#s2-using random.shuffle\n",
    "import random\n",
    "l=[1, 2, 3, 4, 5, 6]\n",
    "random.shuffle(l)\n",
    "print(l)"
   ]
  },
  {
   "cell_type": "code",
   "execution_count": 26,
   "id": "6b317fc0",
   "metadata": {},
   "outputs": [
    {
     "name": "stdout",
     "output_type": "stream",
     "text": [
      "[2, 4, 3, 6, 1, 5]\n"
     ]
    }
   ],
   "source": [
    "#random.shuffle\n",
    "import random\n",
    "l=[1, 2, 3, 4, 5, 6]\n",
    "res=random.sample(l,len(l))\n",
    "print(res)"
   ]
  },
  {
   "cell_type": "code",
   "execution_count": 30,
   "id": "cddd7fb9",
   "metadata": {},
   "outputs": [
    {
     "name": "stdout",
     "output_type": "stream",
     "text": [
      "[6, 3, 1, 5, 2, 4]\n"
     ]
    }
   ],
   "source": [
    "#select random indexes and append\n",
    "l=[1, 2, 3, 4, 5, 6]\n",
    "n=len(l)\n",
    "for i in range(n):\n",
    "    j=random.randint(0,n-1)\n",
    "    el=l.pop(j)\n",
    "    l.append(el)\n",
    "print(l)"
   ]
  },
  {
   "cell_type": "code",
   "execution_count": 35,
   "id": "08af24d8",
   "metadata": {},
   "outputs": [
    {
     "name": "stdout",
     "output_type": "stream",
     "text": [
      "[1.2]\n",
      "[{'x': 2}]\n"
     ]
    }
   ],
   "source": [
    "#222-get the difference between two given lists, after applying the provided function to each list element of both\n",
    "def list_fn(a,b,fn):\n",
    "    b= set(map(fn,b))\n",
    "    return [item for item in a if fn(item) not in b]\n",
    "from math import floor\n",
    "print(list_fn([2.1, 1.2], [2.3, 3.4], floor)) \n",
    "print(list_fn([{ 'x': 2 }, { 'x': 1 }], [{ 'x': 1 }], lambda v : v['x']))"
   ]
  },
  {
   "cell_type": "code",
   "execution_count": 1,
   "id": "19161576",
   "metadata": {},
   "outputs": [
    {
     "name": "stdout",
     "output_type": "stream",
     "text": [
      "[2, 5, 4]\n"
     ]
    }
   ],
   "source": [
    "#Date-7/23/22\n",
    "#223-create a list with the non-unique values filtered out\n",
    "from collections import Counter\n",
    "l=[1,2,3,1,3,5,4]\n",
    "def unique_val(lst):\n",
    "    return [item for item,count in Counter(lst).items() if count==1]\n",
    "print(unique_val(l))"
   ]
  },
  {
   "cell_type": "code",
   "execution_count": 2,
   "id": "57238467",
   "metadata": {},
   "outputs": [
    {
     "name": "stdout",
     "output_type": "stream",
     "text": [
      "[1, 3]\n"
     ]
    }
   ],
   "source": [
    "#224-list with the unique values filtered out\n",
    "from collections import Counter\n",
    "l=[1,2,3,1,3,5,4]\n",
    "def dupe_val(lst):\n",
    "    return [item for item, count in Counter(lst).items() if count>1]\n",
    "print(dupe_val(l))"
   ]
  },
  {
   "cell_type": "code",
   "execution_count": 5,
   "id": "695b7945",
   "metadata": {},
   "outputs": [
    {
     "name": "stdout",
     "output_type": "stream",
     "text": [
      "Harwood\n",
      "1\n"
     ]
    }
   ],
   "source": [
    "#225-retrieve the value of the nested key indicated by the given selector list from a dictionary or list.\n",
    "from functools import reduce\n",
    "from operator import getitem\n",
    "def get(d,selectors):\n",
    "    return reduce(getitem,selectors,d)\n",
    "users = {\n",
    "  'freddy': {\n",
    "    'name': {\n",
    "      'first': 'Fateh',\n",
    "      'last': 'Harwood' \n",
    "    },\n",
    "    'postIds': [1, 2, 3]\n",
    "  }\n",
    "}\n",
    "print(get(users, ['freddy', 'name', 'last']))\n",
    "print(get(users, ['freddy', 'postIds', 0]))"
   ]
  },
  {
   "cell_type": "code",
   "execution_count": 19,
   "id": "b9a61c29",
   "metadata": {},
   "outputs": [
    {
     "name": "stdout",
     "output_type": "stream",
     "text": [
      "[2.1]\n"
     ]
    }
   ],
   "source": [
    "#226-get a list of elements that exist in both lists, after applying the provided function to each list element of both.\n",
    "def intersection_by(a, b, fn):\n",
    "    b = set(map(fn, b))\n",
    "    return [item for item in a if fn(item) in b]\n",
    "from math import floor\n",
    "print(intersection_by([2.1, 1.2], [2.3, 3.4,2.5,2.1], floor))"
   ]
  },
  {
   "cell_type": "code",
   "execution_count": 21,
   "id": "6c29e620",
   "metadata": {},
   "outputs": [
    {
     "name": "stdout",
     "output_type": "stream",
     "text": [
      "[3, 1]\n"
     ]
    }
   ],
   "source": [
    "#227-get the symmetric difference between two lists, after applying the provided function to each list element of both\n",
    "def sym_diff(a,b,fn):\n",
    "    (a,b)=(set(map(fn,b)),set(map(fn,a)))\n",
    "    return [item for item in a if fn(item) not in b]+[item for item in b if fn(item) not in a]\n",
    "from math import floor\n",
    "print(sym_diff([2.1, 1.2], [2.3, 3.4], floor))"
   ]
  },
  {
   "cell_type": "code",
   "execution_count": 36,
   "id": "63d35606",
   "metadata": {},
   "outputs": [
    {
     "name": "stdout",
     "output_type": "stream",
     "text": [
      "[2.2, 4.1]\n"
     ]
    }
   ],
   "source": [
    "#228-get every element that exists in any of the two given lists once, \n",
    "#after applying the provided function to each element of both\n",
    "def union_by_el(x, y, fn):\n",
    "    _x= set(map(fn, x))\n",
    "    return list(set(x + [item for item in y if fn(item) not in _x])) \n",
    "from math import floor\n",
    "print(union_by_el([4.1], [2.2, 4.3], floor))"
   ]
  },
  {
   "cell_type": "code",
   "execution_count": 45,
   "id": "53a16bbf",
   "metadata": {},
   "outputs": [
    {
     "name": "stdout",
     "output_type": "stream",
     "text": [
      "[0, 2]\n"
     ]
    }
   ],
   "source": [
    "#230- find the indexes of all elements in the given list that satisfy the provided testing function\n",
    "def first_idx(lst,fn):\n",
    "    return [i for i in range(len(lst)) if fn(lst[i])]\n",
    "print(first_idx([1, 2, 3, 4], lambda n: n % 2 == 1))    "
   ]
  },
  {
   "cell_type": "code",
   "execution_count": 48,
   "id": "484d9d33",
   "metadata": {},
   "outputs": [
    {
     "name": "stdout",
     "output_type": "stream",
     "text": [
      "0\n"
     ]
    }
   ],
   "source": [
    "#229-find the index of the first element in the given list that satisfies the provided testing function\n",
    "def find_index(nums,fn):\n",
    "    return next(i for i,x in enumerate(nums)if fn(x))\n",
    "print(find_index([1, 2, 3, 4], lambda n: n % 2 == 1))"
   ]
  },
  {
   "cell_type": "code",
   "execution_count": 51,
   "id": "c87f52fa",
   "metadata": {},
   "outputs": [
    {
     "name": "stdout",
     "output_type": "stream",
     "text": [
      "[['red', 'green', 'pink'], ['blue']]\n"
     ]
    }
   ],
   "source": [
    "#231-split values into two groups, based on the result of the given filter list.\n",
    "def split_val(lst,fn):\n",
    "    return [\n",
    "        [i for i,flag in zip(lst,fn) if flag],\n",
    "        [i for i,flag in zip(lst,fn) if not flag]\n",
    "    ]\n",
    "print(split_val(['red', 'green', 'blue', 'pink'], [True, True, False, True]))"
   ]
  },
  {
   "cell_type": "code",
   "execution_count": 64,
   "id": "269d332e",
   "metadata": {},
   "outputs": [
    {
     "name": "stdout",
     "output_type": "stream",
     "text": [
      "[[1, 2, 3], [4, 5, 6], [7, 8]]\n"
     ]
    }
   ],
   "source": [
    "#232-chunk a given list into smaller lists of a specified size\n",
    "def chunk_lst(lst,n):\n",
    "    result=[]\n",
    "    for i in range(0,len(l),n):\n",
    "        res=[]\n",
    "        res=l[i:i+n]\n",
    "        #print(list(res),i)\n",
    "        result.append(res)\n",
    "    print(result)\n",
    "l=[1,2,3,4,5,6,7,8]\n",
    "n=3\n",
    "(chunk_lst(l,n))"
   ]
  },
  {
   "cell_type": "code",
   "execution_count": 67,
   "id": "092c98d0",
   "metadata": {},
   "outputs": [
    {
     "name": "stdout",
     "output_type": "stream",
     "text": [
      "[[1, 2, 3], [4, 5, 6], [7, 8]]\n"
     ]
    }
   ],
   "source": [
    "from math import ceil\n",
    "def chunk_lst(lst,size):\n",
    "    #return list(map(lambda x: lst[x*size:x*size+size],list(range(ceil(len(lst)/size)))))\n",
    "    return list(map(lambda x: lst[x:x+n]))\n",
    "print(chunk_lst([1, 2, 3, 4, 5, 6, 7, 8], 3))"
   ]
  },
  {
   "cell_type": "code",
   "execution_count": 16,
   "id": "f0610851",
   "metadata": {},
   "outputs": [
    {
     "name": "stdout",
     "output_type": "stream",
     "text": [
      "[[1, 2, 3], [4, 5, 6], [7, 8, 9]]\n"
     ]
    }
   ],
   "source": [
    "#date-7/26/22---Incorrect\n",
    "#233-chunk a given list into n smaller lists--this is incoorect solutions\n",
    "#as int division gives lower integer value than fractional part it would not work correctly\n",
    "\n",
    "l=[1,2,3,4,5,6,7,8,9]\n",
    "n=3\n",
    "#res=[]\n",
    "result=[]\n",
    "l_len=int(len(l)/n)\n",
    "for i in range(0,len(l),l_len):\n",
    "    res=[]\n",
    "    res=l[i:i+l_len]\n",
    "    result.append(res)\n",
    "print(result)  \n",
    "#print(res)"
   ]
  },
  {
   "cell_type": "code",
   "execution_count": 18,
   "id": "c07a8786",
   "metadata": {},
   "outputs": [
    {
     "name": "stdout",
     "output_type": "stream",
     "text": [
      "[[1, 2], [3, 4], [5, 6], [7]]\n"
     ]
    }
   ],
   "source": [
    "from math import ceil\n",
    "def chunk_list_n(nums,n):\n",
    "    size=ceil(len(nums)/n)\n",
    "    #print(size)\n",
    "    return list(map(lambda x : nums[x*size:x*size+size],list(range(n))))\n",
    "nums=[1, 2, 3, 4, 5, 6, 7]\n",
    "n=4\n",
    "print(chunk_list_n(nums,n))"
   ]
  },
  {
   "cell_type": "code",
   "execution_count": 27,
   "id": "7f0d228d",
   "metadata": {},
   "outputs": [
    {
     "name": "stdout",
     "output_type": "stream",
     "text": [
      "[1, 2, 3]\n"
     ]
    }
   ],
   "source": [
    "#234-convert a given number (integer) to a list of digits\n",
    "#s1-map solution \n",
    "num=123\n",
    "l=list(map(int,str(num)))\n",
    "print((l))"
   ]
  },
  {
   "cell_type": "code",
   "execution_count": 29,
   "id": "101519e4",
   "metadata": {},
   "outputs": [
    {
     "name": "stdout",
     "output_type": "stream",
     "text": [
      "[3, 2, 1]\n"
     ]
    }
   ],
   "source": [
    "#s2-divide by 10\n",
    "num=123\n",
    "res=[]\n",
    "while num>0:\n",
    "    rem=num%10\n",
    "    num=num//10\n",
    "    res.append(rem)\n",
    "print(res)"
   ]
  },
  {
   "cell_type": "code",
   "execution_count": 37,
   "id": "23f5622b",
   "metadata": {},
   "outputs": [
    {
     "name": "stdout",
     "output_type": "stream",
     "text": [
      "2\n"
     ]
    }
   ],
   "source": [
    "#235-find the index of the last element in the given list that satisfies the provided testing function.\n",
    "def find_last_idx(lst,fn):\n",
    "    return len(lst)-1-next(i for i, x in enumerate(lst[::-1]) if fn(x))  ###we have to use i,x because enumerate return tuple(index and number)\n",
    "print(find_last_idx([1,2,3,4],lambda n:n%2==1))"
   ]
  },
  {
   "cell_type": "code",
   "execution_count": 38,
   "id": "b226ded4",
   "metadata": {},
   "outputs": [
    {
     "name": "stdout",
     "output_type": "stream",
     "text": [
      "[1, 3]\n",
      "[2, 4, 6]\n"
     ]
    }
   ],
   "source": [
    "#236-find the items that are parity outliers in a given list\n",
    "from collections import Counter\n",
    "def find_parity_outliar(nums):\n",
    "    return[ x for x in nums if x%2!=Counter([n%2 for n in nums]).most_common()[0][0]]\n",
    "print(find_parity_outliar([1, 2, 3, 4, 6]))  \n",
    "print(find_parity_outliar([1, 2, 3, 4, 5, 6, 7]))"
   ]
  },
  {
   "cell_type": "code",
   "execution_count": 54,
   "id": "2f14f497",
   "metadata": {},
   "outputs": [
    {
     "name": "stdout",
     "output_type": "stream",
     "text": [
      "[8, 36, 34, 10]\n"
     ]
    }
   ],
   "source": [
    "#237-convert a given list of dictionaries into a list of values corresponding to the specified key\n",
    "l=simpsons = [\n",
    "  { 'name': 'Areeba', 'age': 8 },\n",
    "  { 'name': 'Zachariah', 'age': 36 },\n",
    "  { 'name': 'Caspar', 'age': 34 }\n",
    "  { 'name': 'Presley', 'age': 10 }\n",
    "]\n",
    "def convert_lstdct_lst(lst,key):\n",
    "    res=[]\n",
    "    for val in l:\n",
    "        res.append(val.get(key))\n",
    "    return res\n",
    "print(convert_lstdct_lst(l,'age'))"
   ]
  },
  {
   "cell_type": "code",
   "execution_count": 4,
   "id": "7e84f0ae",
   "metadata": {},
   "outputs": [
    {
     "name": "stdout",
     "output_type": "stream",
     "text": [
      "5.0\n",
      "15.0\n"
     ]
    }
   ],
   "source": [
    "#238-calculate the average of a given list, after mapping each element to a value using the provided function\n",
    "\n",
    "##https://www.google.com/search?q=how+to+apply+function+to+list+python&rlz=1C1RXQR_enUS983US984&oq=how+to+map+function+to+list+&aqs=chrome.1.69i57j0i22i30l2j0i390l2j69i64.12562j0j7&sourceid=chrome&ie=UTF-8\n",
    "def avg_lst(lst,fn):\n",
    "   # return next((x/len(lst)  for x in lst) if fn(x))\n",
    "     return sum(map(fn,lst),0.0)/len(lst)\n",
    "#next(i for i, x in enumerate(lst[::-1]) if fn(x))\n",
    "print(avg_lst([{ 'n': 4 }, { 'n': 2 }, { 'n': 8 }, { 'n': 6 }], lambda x: x['n']))\n",
    "print(avg_lst([{ 'n': 10 }, { 'n': 20 }, { 'n': -30 }, { 'n': 60 }], lambda x: x['n']))"
   ]
  },
  {
   "cell_type": "code",
   "execution_count": 26,
   "id": "39792636",
   "metadata": {},
   "outputs": [
    {
     "name": "stdout",
     "output_type": "stream",
     "text": [
      "3\n"
     ]
    }
   ],
   "source": [
    "#239-find the value of the first element in the given list that satisfies the provided testing function\n",
    "def first_val(lst,fn):\n",
    "    return next(x for x in (lst[::-1]) if fn(x))\n",
    "    #return next(x for x in lst[0::]  if fn(x))\n",
    "    #len(lst)-1-next(i for i, x in enumerate(lst[::-1]) if fn(x))\n",
    "print(first_val([1,2,3,4],lambda n:n%2==1))"
   ]
  },
  {
   "cell_type": "code",
   "execution_count": 28,
   "id": "7939d715",
   "metadata": {},
   "outputs": [
    {
     "name": "stdout",
     "output_type": "stream",
     "text": [
      "4\n"
     ]
    }
   ],
   "source": [
    "#240-find the value of the last element in the given list that satisfies the provided testing function.\n",
    "def last_val(lst,fn):\n",
    "    return next(x for x in lst[::-1] if fn(x))\n",
    "print(last_val([1,2,3,4],lambda n:n%2==0))"
   ]
  },
  {
   "cell_type": "code",
   "execution_count": 46,
   "id": "b8e0f7b7",
   "metadata": {},
   "outputs": [
    {
     "name": "stdout",
     "output_type": "stream",
     "text": [
      "a 5\n",
      "b 2\n",
      "c 1\n",
      "d 2\n",
      "e 2\n"
     ]
    }
   ],
   "source": [
    "#241-create a dictionary with the unique values of a given list as keys and their frequencies as the values\n",
    "l=['a','b','c','d','e','a','b','d','e','a','a','a']\n",
    "dicts={}\n",
    "res=[]\n",
    "for val in l:\n",
    "    dicts[val]=l.count(val)\n",
    "for key, val in dicts.items():\n",
    "    print(key,val)"
   ]
  },
  {
   "cell_type": "code",
   "execution_count": 52,
   "id": "3bd0dd98",
   "metadata": {},
   "outputs": [
    {
     "name": "stdout",
     "output_type": "stream",
     "text": [
      "{1: 5, 5: 2, 3: 3, 4: 3, 2: 4}\n"
     ]
    }
   ],
   "source": [
    "def cnt_freq(lst):\n",
    "    count={}\n",
    "    for i in [1, 1, 1, 5, 5, 3, 1, 3, 3, 1 ,4, 4, 4, 2, 2, 2, 2]:\n",
    "        count[i]=count.get(i,0)+1\n",
    "    return count\n",
    "if __name__ == \"__main__\":\n",
    "    my_list =[1, 1, 1, 5, 5, 3, 1, 3, 3, 1, 4, 4, 4, 2, 2, 2, 2]\n",
    "    print(cnt_freq(my_list))"
   ]
  },
  {
   "cell_type": "code",
   "execution_count": 53,
   "id": "6cb98d13",
   "metadata": {},
   "outputs": [
    {
     "name": "stdout",
     "output_type": "stream",
     "text": [
      "[30, 40]\n"
     ]
    }
   ],
   "source": [
    "#242- get the symmetric difference between two iterables, without filtering out duplicate values\n",
    "def symmetric_difference(x, y):\n",
    "  (_x, _y) = (set(x), set(y))\n",
    "  return [item for item in x if item not in _y] + [item for item in y\n",
    "          if item not in _x]\n",
    "print(symmetric_difference([10, 20, 30], [10, 20, 40]))"
   ]
  },
  {
   "cell_type": "code",
   "execution_count": 57,
   "id": "111ef25f",
   "metadata": {},
   "outputs": [
    {
     "name": "stdout",
     "output_type": "stream",
     "text": [
      "[True, False, False]\n"
     ]
    }
   ],
   "source": [
    "#243-check if a given function returns True for every element in a list\n",
    "def tru_fls(lst,fn):\n",
    "    return list(True if fn(x) else False for x in lst )\n",
    "print(tru_fls([4, 2, 3], lambda x: x > 3))\n"
   ]
  },
  {
   "cell_type": "code",
   "execution_count": 58,
   "id": "36fcf1c4",
   "metadata": {},
   "outputs": [
    {
     "name": "stdout",
     "output_type": "stream",
     "text": [
      "True\n"
     ]
    }
   ],
   "source": [
    "def every(lst,fn=lambda x:x):\n",
    "     return all(map(fn,lst))\n",
    "print(every([4, 2, 3], lambda x: x > 1))"
   ]
  },
  {
   "cell_type": "code",
   "execution_count": 64,
   "id": "304e29b1",
   "metadata": {},
   "outputs": [
    {
     "name": "stdout",
     "output_type": "stream",
     "text": [
      "[8, 16, 32, 64, 128, 256, 512, 1024, 2048]\n"
     ]
    }
   ],
   "source": [
    "#244-to initialize a list containing the numbers in the specified range where \n",
    "#start and end are inclusive and the ratio between two terms is step. Returns an error if step equals 1\n",
    "def ratio_lst(lst,ratio,n):\n",
    "    for i in range(1,10):\n",
    "        n=n*ratio\n",
    "        lst.append(n*ratio)\n",
    "    return lst\n",
    "lst=[]\n",
    "ratio=2\n",
    "n=2\n",
    "print(ratio_lst(lst,ratio,n))"
   ]
  },
  {
   "cell_type": "code",
   "execution_count": 66,
   "id": "07b9d5e7",
   "metadata": {},
   "outputs": [
    {
     "name": "stdout",
     "output_type": "stream",
     "text": [
      "[1, 2, 4, 8, 16, 32, 64, 128, 256]\n",
      "[3, 6, 12, 24, 48, 96, 192]\n",
      "[1, 4, 16, 64, 256]\n"
     ]
    }
   ],
   "source": [
    "from math import floor, log\n",
    "def geometric_progression(end, start=1, step=2):\n",
    "    return [start * step ** i for i in range(floor(log(end / start)\n",
    "          / log(step)) + 1)] \n",
    "print(geometric_progression(256))\n",
    "print(geometric_progression(256, 3))\n",
    "print(geometric_progression(256, 1, 4))"
   ]
  },
  {
   "cell_type": "code",
   "execution_count": 67,
   "id": "4faa2735",
   "metadata": {},
   "outputs": [
    {
     "name": "stdout",
     "output_type": "stream",
     "text": [
      "Green\n",
      "[1, 2, 3, 4, 5]\n",
      "[1, 2, 3, 4]\n"
     ]
    }
   ],
   "source": [
    "#245-that takes any number of iterable objects or objects with a length property and returns the longest one.\n",
    "def longest_item(*args):\n",
    "    return max(args,key=len)\n",
    "print(longest_item('this', 'is', 'a', 'Green'))  \n",
    "print(longest_item([1, 2, 3], [1, 2], [1, 2, 3, 4, 5])) \n",
    "print(longest_item([1, 2, 3, 4], 'Red'))"
   ]
  },
  {
   "cell_type": "code",
   "execution_count": 70,
   "id": "57b7d67c",
   "metadata": {},
   "outputs": [
    {
     "name": "stdout",
     "output_type": "stream",
     "text": [
      "[False, False, True, False]\n"
     ]
    }
   ],
   "source": [
    "#246-check if a given function returns True for at least one element in the list\n",
    "def tru(lst,fn):\n",
    "    return list(True if fn(x) else False for x in lst)\n",
    "print(tru([0, 1, 2, 0], lambda x: x >= 2 ))"
   ]
  },
  {
   "cell_type": "code",
   "execution_count": 71,
   "id": "1520b8da",
   "metadata": {},
   "outputs": [
    {
     "name": "stdout",
     "output_type": "stream",
     "text": [
      "True\n",
      "False\n"
     ]
    }
   ],
   "source": [
    "def some(lst, fn = lambda x: x):\n",
    "  return any(map(fn, lst))\n",
    "print(some([0, 1, 2, 0], lambda x: x >= 2 ))\n",
    "print(some([5, 10, 20, 10], lambda x: x < 2 ))"
   ]
  },
  {
   "cell_type": "code",
   "execution_count": 72,
   "id": "ab8d03d1",
   "metadata": {},
   "outputs": [
    {
     "name": "stdout",
     "output_type": "stream",
     "text": [
      "[3]\n"
     ]
    }
   ],
   "source": [
    "#247-calculate the difference between two iterables, without filtering duplicate values\n",
    "def difference(x, y):\n",
    "  _y = set(y)\n",
    "  return [item for item in x if item not in _y]\n",
    "print(difference([1, 2, 3], [1, 2, 4]))"
   ]
  },
  {
   "cell_type": "code",
   "execution_count": 81,
   "id": "62bcbfb0",
   "metadata": {},
   "outputs": [
    {
     "name": "stdout",
     "output_type": "stream",
     "text": [
      "8\n"
     ]
    }
   ],
   "source": [
    "#248-get the maximum value of a list, after mapping each element to a value using a given function\n",
    "def max_val(lst,fn):\n",
    "    return max(map(fn, lst))\n",
    "    #return next(max(x) if fn(x) else \" \" for x in lst)\n",
    "print(max_val([{ 'n': 4 }, { 'n': 2 }, { 'n': 8 }, { 'n': 6 }], lambda v : v['n'])) "
   ]
  },
  {
   "cell_type": "code",
   "execution_count": 83,
   "id": "633283d9",
   "metadata": {},
   "outputs": [
    {
     "name": "stdout",
     "output_type": "stream",
     "text": [
      "2\n"
     ]
    }
   ],
   "source": [
    "#249-get the minimum value of a list, after mapping each element to a value using a given function.\n",
    "def min_val(lst,fn):\n",
    "    return min(map(fn,lst))\n",
    "print(min_val([{ 'n': 4 }, { 'n': 2 }, { 'n': 8 }, { 'n': 6 }], lambda v : v['n']))  "
   ]
  },
  {
   "cell_type": "code",
   "execution_count": 85,
   "id": "fdf8104e",
   "metadata": {},
   "outputs": [
    {
     "name": "stdout",
     "output_type": "stream",
     "text": [
      "20\n"
     ]
    }
   ],
   "source": [
    "#250-calculate the sum of a list, after mapping each element to a value using the provided function\n",
    "def sum_val(lst,fn):\n",
    "    return sum(map(fn,lst))\n",
    "print(sum_val([{ 'n': 4 }, { 'n': 2 }, { 'n': 8 }, { 'n': 6 }], lambda v : v['n'])) "
   ]
  },
  {
   "cell_type": "code",
   "execution_count": 86,
   "id": "5e8e5e9d",
   "metadata": {},
   "outputs": [
    {
     "name": "stdout",
     "output_type": "stream",
     "text": [
      "[0, 0, 0, 0, 0, 0, 0]\n",
      "[3, 3, 3, 3, 3, 3, 3, 3]\n",
      "[-2, -2, -2, -2, -2]\n",
      "[3.2, 3.2, 3.2, 3.2, 3.2]\n"
     ]
    }
   ],
   "source": [
    "#251-initialize and fills a list with the specified value\n",
    "def initialize_list_with_values(n, val = 0):\n",
    "    return [val for x in range(n)] \n",
    "print(initialize_list_with_values(7))\n",
    "print(initialize_list_with_values(8,3))\n",
    "print(initialize_list_with_values(5,-2))\n",
    "print(initialize_list_with_values(5, 3.2))"
   ]
  },
  {
   "cell_type": "code",
   "execution_count": 20,
   "id": "f9b6fe86",
   "metadata": {},
   "outputs": [
    {
     "name": "stdout",
     "output_type": "stream",
     "text": [
      "[0, -1, -2, -2, -3, -4, -5]\n",
      "[0, -1, -2]\n"
     ]
    }
   ],
   "source": [
    "#date-7/27/22\n",
    "#252-get the n maximum elements from a given list of numbers\n",
    "l=[-2, -3, -1, -2, -4, 0, -5]\n",
    "n=3\n",
    "res=[]\n",
    "def n_max_val(lst,n):\n",
    "    #print(sorted(lst,reverse=True))\n",
    "    res=sorted(lst,reverse=True)[:n]\n",
    "    print(res)\n",
    "n_max_val(l,n)"
   ]
  },
  {
   "cell_type": "code",
   "execution_count": 7,
   "id": "82b5dfcd",
   "metadata": {},
   "outputs": [
    {
     "name": "stdout",
     "output_type": "stream",
     "text": [
      "Original list elements:\n",
      "[1, 2, 3]\n",
      "Maximum values of the said list: [3]\n"
     ]
    }
   ],
   "source": [
    "def max_n_nums(nums, n = 1):\n",
    "  return sorted(nums, reverse = True)[:n]\n",
    "nums = [1, 2, 3]\n",
    "print(\"Original list elements:\")\n",
    "print(nums)\n",
    "print(\"Maximum values of the said list:\", max_n_nums(nums))"
   ]
  },
  {
   "cell_type": "code",
   "execution_count": 22,
   "id": "454b41e5",
   "metadata": {},
   "outputs": [
    {
     "name": "stdout",
     "output_type": "stream",
     "text": [
      "[-5, -4, -3]\n"
     ]
    }
   ],
   "source": [
    "#253-n minimum elements from a given list of numbers\n",
    "l=[-2, -3, -1, -2, -4, 0, -5]\n",
    "n=3\n",
    "def n_min_val(lst,n):\n",
    "    print(sorted(lst)[:n])\n",
    "    #print(lst)[:n]\n",
    "n_min_val(l,n)"
   ]
  },
  {
   "cell_type": "code",
   "execution_count": 26,
   "id": "6e3dfd06",
   "metadata": {},
   "outputs": [
    {
     "name": "stdout",
     "output_type": "stream",
     "text": [
      "39.0\n"
     ]
    }
   ],
   "source": [
    "#254-get the weighted average of two or more numbers\n",
    "def weighted_avg(num_lst,wegh_lst):\n",
    "    res=0\n",
    "    mult=0\n",
    "    wegh_sum=0\n",
    "    for i in range(len(num_lst)):\n",
    "        mult=mult+(num_lst[i]*wegh_lst[i])\n",
    "        wegh_sum=wegh_sum+wegh_lst[i]\n",
    "    res=mult/wegh_sum\n",
    "    return res\n",
    "l_num=[10, 50, 40]\n",
    "l_wgh=[2, 5, 3]\n",
    "print(weighted_avg(l_num,l_wgh))"
   ]
  },
  {
   "cell_type": "code",
   "execution_count": 29,
   "id": "9f8ab7b6",
   "metadata": {},
   "outputs": [
    {
     "name": "stdout",
     "output_type": "stream",
     "text": [
      "Original list elements:\n",
      "[10, 50, 40]\n",
      "[2, 5, 3]\n",
      "\n",
      "Weighted average of the said two list of numbers:\n",
      "39.0\n"
     ]
    }
   ],
   "source": [
    "#using zip\n",
    "def weighted_average(nums,weights):\n",
    "    return sum(x*y for x,y in zip(nums,weights))/sum(weights)\n",
    "nums1 = [10, 50, 40]\n",
    "nums2 = [2, 5, 3]\n",
    "print(\"Original list elements:\")\n",
    "print(nums1) \n",
    "print(nums2)\n",
    "print(\"\\nWeighted average of the said two list of numbers:\")\n",
    "print(weighted_average(nums1, nums2))"
   ]
  },
  {
   "cell_type": "code",
   "execution_count": 37,
   "id": "c8e5d04a",
   "metadata": {},
   "outputs": [
    {
     "name": "stdout",
     "output_type": "stream",
     "text": [
      "[0, 1, 2, 3, 4, 5, 6, 7, 8]\n"
     ]
    }
   ],
   "source": [
    "#255-perform a deep flattens a list.\n",
    "#s1-using deepflatten method\n",
    "from iteration_utilities import deepflatten\n",
    "multi_depth_lst=[[0,1], [[2, [3, [4, [5, [6 ]]]]]], [7,8]]\n",
    "flatten_lst=list(deepflatten(multi_depth_lst))\n",
    "print(flatten_lst)"
   ]
  },
  {
   "cell_type": "code",
   "execution_count": 50,
   "id": "1ecb6922",
   "metadata": {},
   "outputs": [
    {
     "name": "stdout",
     "output_type": "stream",
     "text": [
      "[0, 1, 2, 3, 4]\n"
     ]
    }
   ],
   "source": [
    "#s2-using recursion\n",
    "def flatten(l):\n",
    "    if len(l)==1:\n",
    "        if type(l[0])==list:\n",
    "            result=flatten(l[0])\n",
    "           # print(result,\"first\")\n",
    "        else:\n",
    "            result=l\n",
    "           # print(result,\"second\")\n",
    "    elif type(l[0])==list:\n",
    "        result=flatten(l[0])+flatten(l[1:])\n",
    "       # print(result,\"third\")\n",
    "    else:\n",
    "        result=[l[0]]+flatten(l[1:])\n",
    "       # print(result,\"last\")\n",
    "    return result\n",
    "l=[[0,1], [2], [3,4]]\n",
    "#print(len(l))\n",
    "print(flatten(l))"
   ]
  },
  {
   "cell_type": "code",
   "execution_count": 51,
   "id": "26e5bcc0",
   "metadata": {},
   "outputs": [],
   "source": [
    "def flatten_without_rec(non_flat):\n",
    "    \n",
    "    flat = []\n",
    "    \n",
    "    while non_flat: #runs until the given list is empty.\n",
    "        \n",
    "            e = non_flat.pop()\n",
    "            \n",
    "            if type(e) == list: #checks the type of the poped item.\n",
    "                \n",
    "                    non_flat.extend(e) #if list extend the item to given list.\n",
    "            else:\n",
    "                \n",
    "                    flat.append(e) #if not list then add it to the flat list.\n",
    "            \n",
    "    flat.sort()\n",
    "    \n",
    "    return flat "
   ]
  },
  {
   "cell_type": "code",
   "execution_count": 52,
   "id": "4f4ccbba",
   "metadata": {},
   "outputs": [
    {
     "name": "stdout",
     "output_type": "stream",
     "text": [
      "Original list elements:\n",
      "[1, [2], [[3], [4], 5], 6]\n",
      "\n",
      "Deep flatten the said list:\n",
      "[1, 2, 3, 4, 5, 6]\n"
     ]
    }
   ],
   "source": [
    "from collections.abc import Iterable\n",
    "def deep_flatten(lst):\n",
    "  return ([a for i in lst for a in\n",
    "          deep_flatten(i)] if isinstance(lst, Iterable) else [lst])\n",
    "nums = [1, [2], [[3], [4], 5], 6]\n",
    "print(\"Original list elements:\")\n",
    "print(nums) \n",
    "print()\n",
    "print(\"Deep flatten the said list:\")\n",
    "print(deep_flatten(nums))"
   ]
  },
  {
   "cell_type": "code",
   "execution_count": 53,
   "id": "2a0901fb",
   "metadata": {},
   "outputs": [],
   "source": [
    "#256-get the powerset of a given iterable.\n",
    "##https://www.geeksforgeeks.org/power-set/"
   ]
  },
  {
   "cell_type": "code",
   "execution_count": 55,
   "id": "3cc57070",
   "metadata": {},
   "outputs": [
    {
     "name": "stdout",
     "output_type": "stream",
     "text": [
      "False\n"
     ]
    }
   ],
   "source": [
    "#257-check if two given lists contain the same elements regardless of order\n",
    "l1=[1, 2, 4]\n",
    "l2=[2, 4, 3]\n",
    "\n",
    "res=next(True if sorted(l1)==sorted(l2) else False for i in l1)\n",
    "print(res)"
   ]
  },
  {
   "cell_type": "code",
   "execution_count": 56,
   "id": "2802a704",
   "metadata": {},
   "outputs": [
    {
     "name": "stdout",
     "output_type": "stream",
     "text": [
      "Original list elements:\n",
      "[1, 2, 4]\n",
      "[2, 4, 1]\n",
      "\n",
      "Check two said lists contain the same elements regardless of order!\n",
      "True\n"
     ]
    }
   ],
   "source": [
    "def check_same_contents(nums1, nums2):\n",
    "    for x in set(nums1 + nums2):\n",
    "        if nums1.count(x) != nums2.count(x):\n",
    "            return False\n",
    "    return True\n",
    "nums1 = [1, 2, 4]\n",
    "nums2 = [2, 4, 1]\n",
    "print(\"Original list elements:\")\n",
    "print(nums1)\n",
    "print(nums2)\n",
    "print(\"\\nCheck two said lists contain the same elements regardless of order!\")\n",
    "print(check_same_contents(nums1, nums2))"
   ]
  },
  {
   "cell_type": "code",
   "execution_count": 76,
   "id": "cdd7fc99",
   "metadata": {},
   "outputs": [
    {
     "name": "stdout",
     "output_type": "stream",
     "text": [
      "[dict_values([10, 11, 9, 10])]\n",
      "['Laura', 'Spencer', 'Bridget', 'Howard '] [10, 11, 9, 10]\n"
     ]
    }
   ],
   "source": [
    "#258-create a given flat list of all the keys in a flat dictionary\n",
    "l={'Laura': 10, 'Spencer': 11, 'Bridget': 9, 'Howard ': 10}\n",
    "res1=[]\n",
    "res2=[]\n",
    "for key in l:\n",
    "    res1.append(key)\n",
    "for val in l.keys():\n",
    "    res2.append(l[val])\n",
    "print(l.values())\n",
    "print(res1, res2)"
   ]
  },
  {
   "cell_type": "code",
   "execution_count": 5,
   "id": "0dcfdc80",
   "metadata": {},
   "outputs": [
    {
     "name": "stdout",
     "output_type": "stream",
     "text": [
      "True\n"
     ]
    }
   ],
   "source": [
    "#259-check if a given function returns True for at least one element in the list\n",
    "def val_check(lst,fn):\n",
    "    return any(map(fn,lst))\n",
    "print(val_check([1, 0, 2, 3], lambda x: x >= 3 ))"
   ]
  },
  {
   "cell_type": "code",
   "execution_count": 4,
   "id": "32480819",
   "metadata": {},
   "outputs": [
    {
     "name": "stdout",
     "output_type": "stream",
     "text": [
      "False\n"
     ]
    }
   ],
   "source": [
    "def test(lst, fn = lambda x: x):\n",
    "  return all(not fn(x) for x in lst)\n",
    "print(test([1, 0, 2, 3], lambda x: x >= 3 ))"
   ]
  },
  {
   "cell_type": "code",
   "execution_count": 9,
   "id": "afc7f16f",
   "metadata": {},
   "outputs": [
    {
     "name": "stdout",
     "output_type": "stream",
     "text": [
      "False\n"
     ]
    }
   ],
   "source": [
    "#260-check if all the elements of a list are included in another given list\n",
    "nums1 = [1, 2, 4]\n",
    "nums2 = [2, 4, 8]\n",
    "\n",
    "for i in nums1:\n",
    "    if i not in nums2:\n",
    "        print(\"False\")\n",
    "    else:\n",
    "        continue"
   ]
  },
  {
   "cell_type": "code",
   "execution_count": 10,
   "id": "79da73cb",
   "metadata": {},
   "outputs": [
    {
     "name": "stdout",
     "output_type": "stream",
     "text": [
      "True\n",
      "False\n"
     ]
    }
   ],
   "source": [
    "def test_includes_all(nums, lsts):\n",
    "  for x in lsts:\n",
    "    if x not in nums:\n",
    "      return False\n",
    "  return True\n",
    "print(test_includes_all([10, 20, 30, 40, 50, 60], [20, 40]))\n",
    "print(test_includes_all([10, 20, 30, 40, 50, 60], [20, 80]))"
   ]
  },
  {
   "cell_type": "code",
   "execution_count": 13,
   "id": "4b30e20d",
   "metadata": {},
   "outputs": [
    {
     "ename": "AttributeError",
     "evalue": "'list' object has no attribute 'items'",
     "output_type": "error",
     "traceback": [
      "\u001b[1;31m---------------------------------------------------------------------------\u001b[0m",
      "\u001b[1;31mAttributeError\u001b[0m                            Traceback (most recent call last)",
      "\u001b[1;32m~\\AppData\\Local\\Temp/ipykernel_2456/4251326418.py\u001b[0m in \u001b[0;36m<module>\u001b[1;34m\u001b[0m\n\u001b[0;32m      3\u001b[0m \u001b[1;32mfrom\u001b[0m \u001b[0mcollections\u001b[0m \u001b[1;32mimport\u001b[0m \u001b[0mCounter\u001b[0m\u001b[1;33m\u001b[0m\u001b[1;33m\u001b[0m\u001b[0m\n\u001b[0;32m      4\u001b[0m \u001b[0ml\u001b[0m\u001b[1;33m=\u001b[0m\u001b[1;33m[\u001b[0m\u001b[1;36m2\u001b[0m\u001b[1;33m,\u001b[0m \u001b[1;36m3\u001b[0m\u001b[1;33m,\u001b[0m \u001b[1;36m8\u001b[0m\u001b[1;33m,\u001b[0m \u001b[1;36m4\u001b[0m\u001b[1;33m,\u001b[0m \u001b[1;36m7\u001b[0m\u001b[1;33m,\u001b[0m \u001b[1;36m9\u001b[0m\u001b[1;33m,\u001b[0m \u001b[1;36m8\u001b[0m\u001b[1;33m,\u001b[0m \u001b[1;36m2\u001b[0m\u001b[1;33m,\u001b[0m \u001b[1;36m6\u001b[0m\u001b[1;33m,\u001b[0m \u001b[1;36m5\u001b[0m\u001b[1;33m,\u001b[0m \u001b[1;36m1\u001b[0m\u001b[1;33m,\u001b[0m \u001b[1;36m6\u001b[0m\u001b[1;33m,\u001b[0m \u001b[1;36m1\u001b[0m\u001b[1;33m,\u001b[0m \u001b[1;36m2\u001b[0m\u001b[1;33m,\u001b[0m \u001b[1;36m3\u001b[0m\u001b[1;33m,\u001b[0m \u001b[1;36m2\u001b[0m\u001b[1;33m,\u001b[0m \u001b[1;36m4\u001b[0m\u001b[1;33m,\u001b[0m \u001b[1;36m6\u001b[0m\u001b[1;33m,\u001b[0m \u001b[1;36m9\u001b[0m\u001b[1;33m,\u001b[0m \u001b[1;36m1\u001b[0m\u001b[1;33m,\u001b[0m \u001b[1;36m2\u001b[0m\u001b[1;33m]\u001b[0m\u001b[1;33m\u001b[0m\u001b[1;33m\u001b[0m\u001b[0m\n\u001b[1;32m----> 5\u001b[1;33m \u001b[0mprint\u001b[0m\u001b[1;33m(\u001b[0m\u001b[0mCounter\u001b[0m\u001b[1;33m.\u001b[0m\u001b[0mmost_common\u001b[0m\u001b[1;33m(\u001b[0m\u001b[0ml\u001b[0m\u001b[1;33m)\u001b[0m\u001b[1;33m)\u001b[0m\u001b[1;33m\u001b[0m\u001b[1;33m\u001b[0m\u001b[0m\n\u001b[0m",
      "\u001b[1;32m~\\anaconda3\\lib\\collections\\__init__.py\u001b[0m in \u001b[0;36mmost_common\u001b[1;34m(self, n)\u001b[0m\n\u001b[0;32m    608\u001b[0m         \u001b[1;31m# Emulate Bag.sortedByCount from Smalltalk\u001b[0m\u001b[1;33m\u001b[0m\u001b[1;33m\u001b[0m\u001b[0m\n\u001b[0;32m    609\u001b[0m         \u001b[1;32mif\u001b[0m \u001b[0mn\u001b[0m \u001b[1;32mis\u001b[0m \u001b[1;32mNone\u001b[0m\u001b[1;33m:\u001b[0m\u001b[1;33m\u001b[0m\u001b[1;33m\u001b[0m\u001b[0m\n\u001b[1;32m--> 610\u001b[1;33m             \u001b[1;32mreturn\u001b[0m \u001b[0msorted\u001b[0m\u001b[1;33m(\u001b[0m\u001b[0mself\u001b[0m\u001b[1;33m.\u001b[0m\u001b[0mitems\u001b[0m\u001b[1;33m(\u001b[0m\u001b[1;33m)\u001b[0m\u001b[1;33m,\u001b[0m \u001b[0mkey\u001b[0m\u001b[1;33m=\u001b[0m\u001b[0m_itemgetter\u001b[0m\u001b[1;33m(\u001b[0m\u001b[1;36m1\u001b[0m\u001b[1;33m)\u001b[0m\u001b[1;33m,\u001b[0m \u001b[0mreverse\u001b[0m\u001b[1;33m=\u001b[0m\u001b[1;32mTrue\u001b[0m\u001b[1;33m)\u001b[0m\u001b[1;33m\u001b[0m\u001b[1;33m\u001b[0m\u001b[0m\n\u001b[0m\u001b[0;32m    611\u001b[0m         \u001b[1;32mreturn\u001b[0m \u001b[0m_heapq\u001b[0m\u001b[1;33m.\u001b[0m\u001b[0mnlargest\u001b[0m\u001b[1;33m(\u001b[0m\u001b[0mn\u001b[0m\u001b[1;33m,\u001b[0m \u001b[0mself\u001b[0m\u001b[1;33m.\u001b[0m\u001b[0mitems\u001b[0m\u001b[1;33m(\u001b[0m\u001b[1;33m)\u001b[0m\u001b[1;33m,\u001b[0m \u001b[0mkey\u001b[0m\u001b[1;33m=\u001b[0m\u001b[0m_itemgetter\u001b[0m\u001b[1;33m(\u001b[0m\u001b[1;36m1\u001b[0m\u001b[1;33m)\u001b[0m\u001b[1;33m)\u001b[0m\u001b[1;33m\u001b[0m\u001b[1;33m\u001b[0m\u001b[0m\n\u001b[0;32m    612\u001b[0m \u001b[1;33m\u001b[0m\u001b[0m\n",
      "\u001b[1;31mAttributeError\u001b[0m: 'list' object has no attribute 'items'"
     ]
    }
   ],
   "source": [
    "#261-get the most frequent element in a given list of numbers\n",
    "#s1-mostcommon method\n",
    "from collections import Counter\n",
    "l=[2, 3, 8, 4, 7, 9, 8, 2, 6, 5, 1, 6, 1, 2, 3, 2, 4, 6, 9, 1, 2]\n",
    "print(Counter.most_common(l))"
   ]
  },
  {
   "cell_type": "code",
   "execution_count": 15,
   "id": "18a61135",
   "metadata": {},
   "outputs": [
    {
     "name": "stdout",
     "output_type": "stream",
     "text": [
      "2\n",
      "Original list:\n",
      "[2, 3, 8, 4, 7, 9, 8, 2, 6, 5, 1, 6, 1, 2, 3, 2, 4, 6, 9, 1, 2]\n",
      "Item with maximum frequency of the said list:\n",
      "2\n"
     ]
    }
   ],
   "source": [
    "def most_frequent(nums):\n",
    "    return max((nums), key = nums.count)\n",
    "  #return max(set(nums), key = nums.count)\n",
    "    \n",
    "print(most_frequent([1, 2, 1, 2, 3, 2, 1, 4, 2]))\n",
    "nums = [2,3,8,4,7,9,8,2,6,5,1,6,1,2,3,2,4,6,9,1,2]\n",
    "print (\"Original list:\")\n",
    "print(nums)\n",
    "print(\"Item with maximum frequency of the said list:\")\n",
    "print(most_frequent(nums))"
   ]
  },
  {
   "cell_type": "code",
   "execution_count": 20,
   "id": "006dcd81",
   "metadata": {},
   "outputs": [
    {
     "name": "stdout",
     "output_type": "stream",
     "text": [
      "[5, 6, 7, 8, 1, 2, 3, 4]\n"
     ]
    }
   ],
   "source": [
    "#262- move the specified number of elements to the end of the given list\n",
    "def move_end(lst,n):\n",
    "    k=0\n",
    "    for i in lst:\n",
    "        if i==n:\n",
    "            k=i\n",
    "            lst.remove(i)\n",
    "    lst.append(k)\n",
    "    print(lst)\n",
    "lst=[4, 5, 6, 7, 8, 1, 2, 3]\n",
    "n=4\n",
    "move_end(lst,n)"
   ]
  },
  {
   "cell_type": "code",
   "execution_count": 21,
   "id": "46f12cc6",
   "metadata": {},
   "outputs": [
    {
     "name": "stdout",
     "output_type": "stream",
     "text": [
      "[4, 5, 6, 7, 8, 1, 2, 3]\n",
      "[6, 7, 8, 1, 2, 3, 4, 5]\n"
     ]
    }
   ],
   "source": [
    "#s2-slicing\n",
    "def move_end(nums, offset):\n",
    "  return nums[offset:] + nums[:offset] \n",
    "print(move_end([1, 2, 3, 4, 5, 6, 7, 8], 3))\n",
    "print(move_end([1, 2, 3, 4, 5, 6, 7, 8], -3))"
   ]
  },
  {
   "cell_type": "code",
   "execution_count": 24,
   "id": "8bf7d21c",
   "metadata": {},
   "outputs": [
    {
     "name": "stdout",
     "output_type": "stream",
     "text": [
      "[6, 7, 8, 1, 2, 3, 4, 5]\n",
      "[4, 5, 6, 7, 8, 1, 2, 3]\n"
     ]
    }
   ],
   "source": [
    "#263-move the specified number of elements to the start of the given list.\n",
    "def move_beg(nums,offset):\n",
    "    return nums[-offset:]+nums[:-offset]\n",
    "print(move_beg([1, 2, 3, 4, 5, 6, 7, 8], 3))\n",
    "print(move_beg([1, 2, 3, 4, 5, 6, 7, 8], -3))"
   ]
  },
  {
   "cell_type": "code",
   "execution_count": 55,
   "id": "18ab092b",
   "metadata": {},
   "outputs": [
    {
     "name": "stdout",
     "output_type": "stream",
     "text": [
      "[(1, 4, 7, 10), (2, 5, 8, 11), (3, 6, 9, 12)]\n",
      "[(1, 4), (2, 5)]\n"
     ]
    }
   ],
   "source": [
    "#264-two-dimensional list from given list of lists\n",
    "def two_dimensional_list(nums):\n",
    "  return list(zip(*nums))\n",
    "print(two_dimensional_list([[1, 2, 3], [4, 5, 6], [7, 8, 9], [10, 11, 12]]))\n",
    "print(two_dimensional_list([[1, 2], [4, 5]]))"
   ]
  },
  {
   "cell_type": "code",
   "execution_count": 26,
   "id": "6f0bee60",
   "metadata": {},
   "outputs": [],
   "source": [
    "#265-generate a list, containing the Fibonacci sequence, up until the nth term"
   ]
  },
  {
   "cell_type": "code",
   "execution_count": 27,
   "id": "9262effe",
   "metadata": {},
   "outputs": [],
   "source": [
    "#266- to cast the provided value as a list if it's not one\n"
   ]
  },
  {
   "cell_type": "code",
   "execution_count": 29,
   "id": "5d50266e",
   "metadata": {},
   "outputs": [
    {
     "name": "stdout",
     "output_type": "stream",
     "text": [
      "[1, 3, 6, 10]\n"
     ]
    }
   ],
   "source": [
    "#267-get the cumulative sum of the elements of a given list\n",
    "l=[1, 2, 3, 4]\n",
    "cum_sum=0\n",
    "l_op=[]\n",
    "for i in l:\n",
    "    cum_sum=cum_sum+i\n",
    "    l_op.append(cum_sum)\n",
    "print(l_op)"
   ]
  },
  {
   "cell_type": "code",
   "execution_count": 30,
   "id": "a59dc2f0",
   "metadata": {},
   "outputs": [
    {
     "name": "stdout",
     "output_type": "stream",
     "text": [
      "Original list elements:\n",
      "[1, 2, 3, 4]\n",
      "Cumulative sum of the elements of the said list:\n",
      "[1, 3, 6, 10]\n"
     ]
    }
   ],
   "source": [
    "from itertools import accumulate\n",
    "def cumsum(lst):\n",
    "  return list(accumulate(lst))\n",
    "nums = [1,2,3,4]\n",
    "print(\"Original list elements:\")\n",
    "print(nums)\n",
    "print(\"Cumulative sum of the elements of the said list:\")\n",
    "print(cumsum(nums)) "
   ]
  },
  {
   "cell_type": "code",
   "execution_count": 54,
   "id": "75d86a68",
   "metadata": {},
   "outputs": [
    {
     "name": "stdout",
     "output_type": "stream",
     "text": [
      "[3, 4]\n",
      "[1, 2]\n"
     ]
    }
   ],
   "source": [
    "#268-list with n elements removed from the left, right.\n",
    "l=[1, 2, 3, 4]\n",
    "n=2\n",
    "print(l[n:])\n",
    "print(l[:n])"
   ]
  },
  {
   "cell_type": "code",
   "execution_count": 41,
   "id": "fabcfab1",
   "metadata": {},
   "outputs": [
    {
     "name": "stdout",
     "output_type": "stream",
     "text": [
      "[3, 6, 9]\n"
     ]
    }
   ],
   "source": [
    "#269-get the every nth element in a given list\n",
    "l=[1, 2, 3, 4, 5, 6, 7, 8, 9, 10]\n",
    "n=3\n",
    "res=[]\n",
    "for i in range(n-1,len(l),n):\n",
    "    res.append(l[i])\n",
    "print(res)"
   ]
  },
  {
   "cell_type": "code",
   "execution_count": 43,
   "id": "866d6516",
   "metadata": {},
   "outputs": [
    {
     "name": "stdout",
     "output_type": "stream",
     "text": [
      "[2, 4, 6, 8, 10]\n"
     ]
    }
   ],
   "source": [
    "def every_nth(nums, nth):\n",
    "  return nums[nth - 1::nth]\n",
    "print(every_nth([1, 2, 3, 4, 5, 6, 7, 8, 9, 10], 2))"
   ]
  },
  {
   "cell_type": "code",
   "execution_count": 44,
   "id": "56b051b0",
   "metadata": {},
   "outputs": [
    {
     "name": "stdout",
     "output_type": "stream",
     "text": [
      "\n",
      "Original List:\n",
      " [1, 2, 3, 4, 5, 6, 7, 8, 9]\n",
      "\n",
      "Sliced Lists: \n",
      "[2, 4, 6, 8]\n"
     ]
    }
   ],
   "source": [
    "List = [1, 2, 3, 4, 5, 6, 7, 8, 9]\n",
    " \n",
    "# Show original list\n",
    "print(\"\\nOriginal List:\\n\", List)\n",
    " \n",
    "print(\"\\nSliced Lists: \")\n",
    " \n",
    "# Changing existing List\n",
    "List = List[1::2]\n",
    " \n",
    "# Display sliced list\n",
    "print(List)"
   ]
  },
  {
   "cell_type": "code",
   "execution_count": 49,
   "id": "222e830e",
   "metadata": {},
   "outputs": [
    {
     "name": "stdout",
     "output_type": "stream",
     "text": [
      "True\n",
      "True\n",
      "False\n",
      "True\n"
     ]
    }
   ],
   "source": [
    "#270-check if the elements of the first list are contained in the second one regardless of order\n",
    "def is_contained_in(l1, l2):\n",
    "  for x in set(l1):\n",
    "    if l1.count(x) > l2.count(x):\n",
    "      return False\n",
    "  return True\n",
    "print(is_contained_in([1, 2], [2, 4, 1]))\n",
    "print(is_contained_in([1], [2, 4, 1]))\n",
    "print(is_contained_in([1, 1], [4, 2, 1]))\n",
    "print(is_contained_in([1, 1], [3, 2, 4, 1, 5, 1]))"
   ]
  },
  {
   "cell_type": "code",
   "execution_count": 48,
   "id": "08f91331",
   "metadata": {},
   "outputs": [
    {
     "name": "stdout",
     "output_type": "stream",
     "text": [
      "[3, 5]\n"
     ]
    }
   ],
   "source": [
    "#271-check if there are duplicate values in a given flat list\n",
    "l=[1, 2, 3, 3, 4, 5, 5, 6, 7]\n",
    "l_op=[]\n",
    "res_dup=[]\n",
    "for i in l:\n",
    "    if i not in l_op:\n",
    "        l_op.append(i)\n",
    "    else:\n",
    "        res_dup.append(i)\n",
    "print(res_dup)"
   ]
  },
  {
   "cell_type": "code",
   "execution_count": null,
   "id": "2bfa8f54",
   "metadata": {},
   "outputs": [],
   "source": [
    "#272- generate a list of numbers in the arithmetic progression starting with the given \n",
    "#positive integer and up to the specified limit."
   ]
  }
 ],
 "metadata": {
  "kernelspec": {
   "display_name": "Python 3 (ipykernel)",
   "language": "python",
   "name": "python3"
  },
  "language_info": {
   "codemirror_mode": {
    "name": "ipython",
    "version": 3
   },
   "file_extension": ".py",
   "mimetype": "text/x-python",
   "name": "python",
   "nbconvert_exporter": "python",
   "pygments_lexer": "ipython3",
   "version": "3.9.7"
  }
 },
 "nbformat": 4,
 "nbformat_minor": 5
}
