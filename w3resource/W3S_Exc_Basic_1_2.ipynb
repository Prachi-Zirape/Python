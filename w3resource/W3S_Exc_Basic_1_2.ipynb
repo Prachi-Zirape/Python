{
 "cells": [
  {
   "cell_type": "code",
   "execution_count": 6,
   "id": "7f1eb0e8",
   "metadata": {},
   "outputs": [
    {
     "name": "stdout",
     "output_type": "stream",
     "text": [
      "6\n"
     ]
    }
   ],
   "source": [
    "#68********\n",
    "number = 123\n",
    "\n",
    "sum_of_digits = 0\n",
    "for digit in str(number):\n",
    "#turn to string to iterate through\n",
    "\n",
    "  sum_of_digits += int(digit)\n",
    "\n",
    "print(sum_of_digits)"
   ]
  },
  {
   "cell_type": "code",
   "execution_count": 9,
   "id": "b746adcf",
   "metadata": {},
   "outputs": [
    {
     "name": "stdout",
     "output_type": "stream",
     "text": [
      "3 integers\n",
      "1\n",
      "3\n",
      "2\n",
      "1 2 3\n"
     ]
    }
   ],
   "source": [
    "#69 *****sorting without loops/condition\n",
    "\n",
    "print(\"3 integers\")\n",
    "x=int(input())\n",
    "y=int(input())\n",
    "z=int(input())\n",
    "\n",
    "a1=min(x,y,z)\n",
    "a3=max(x,y,z)\n",
    "a2=(x+y+z)-a1-a3\n",
    "\n",
    "print(a1,a2,a3)\n"
   ]
  },
  {
   "cell_type": "code",
   "execution_count": 8,
   "id": "a2d47a0a",
   "metadata": {},
   "outputs": [
    {
     "name": "stdout",
     "output_type": "stream",
     "text": [
      "\n"
     ]
    }
   ],
   "source": [
    "#70\n",
    "import glob\n",
    "import os\n",
    "\n",
    "files=glob.glob(\"*.txt\")\n",
    "files.sort(key=os.path.getmtime)\n",
    "print(\"\\n\".join(files))\n"
   ]
  },
  {
   "cell_type": "code",
   "execution_count": 10,
   "id": "4c57ee3d",
   "metadata": {},
   "outputs": [
    {
     "name": "stdout",
     "output_type": "stream",
     "text": [
      "Directory listing, sorted by creation date:\n",
      "Mon Dec  6 15:05:08 2021 Documents\n",
      "Mon Dec  6 15:05:08 2021 Downloads\n",
      "Mon Dec  6 15:05:08 2021 Favorites\n",
      "Mon Dec  6 15:05:08 2021 Links\n",
      "Mon Dec  6 15:05:08 2021 Music\n",
      "Mon Dec  6 15:05:08 2021 My Documents\n",
      "Mon Dec  6 15:05:08 2021 Saved Games\n",
      "Mon Dec  6 15:05:08 2021 Start Menu\n",
      "Mon Dec  6 15:05:08 2021 Videos\n",
      "Mon Dec  6 15:05:08 2021 Recent\n",
      "Mon Dec  6 15:05:08 2021 SendTo\n",
      "Mon Dec  6 15:05:08 2021 Cookies\n",
      "Mon Dec  6 15:06:54 2021 3D Objects\n",
      "Mon Dec  6 15:06:54 2021 Contacts\n",
      "Mon Dec  6 15:06:54 2021 Searches\n",
      "Mon Dec  6 15:09:06 2021 MicrosoftEdgeBackups\n",
      "Mon Dec  6 15:14:11 2021 OneDrive\n",
      "Tue Dec 14 08:19:17 2021 IntelGraphicsProfiles\n",
      "Fri Dec 24 08:40:34 2021 NTUSER.DAT\n",
      "Fri Dec 24 08:40:34 2021 AppData\n",
      "Fri Dec 24 08:40:34 2021 Application Data\n",
      "Fri Dec 24 08:40:34 2021 Templates\n",
      "Fri Dec 24 08:40:34 2021 PrintHood\n",
      "Fri Dec 24 08:40:34 2021 NetHood\n",
      "Fri Dec 24 08:40:34 2021 Local Settings\n",
      "Fri Dec 24 08:40:34 2021 ntuser.dat.LOG1\n",
      "Fri Dec 24 08:40:34 2021 ntuser.dat.LOG2\n",
      "Fri Dec 24 08:40:34 2021 NTUSER.DAT{53b39e88-18c4-11ea-a811-000d3aa4692b}.TM.blf\n",
      "Fri Dec 24 08:40:34 2021 NTUSER.DAT{53b39e88-18c4-11ea-a811-000d3aa4692b}.TMContainer00000000000000000001.regtrans-ms\n",
      "Fri Dec 24 08:40:34 2021 NTUSER.DAT{53b39e88-18c4-11ea-a811-000d3aa4692b}.TMContainer00000000000000000002.regtrans-ms\n",
      "Fri Dec 24 15:10:06 2021 ntuser.ini\n",
      "Mon Apr 18 12:17:47 2022 anaconda3\n",
      "Mon Apr 18 12:26:43 2022 .ipython\n",
      "Mon Apr 18 12:28:25 2022 .continuum\n",
      "Mon Apr 18 12:28:31 2022 .conda\n",
      "Mon Apr 18 12:28:41 2022 .condarc\n",
      "Mon Apr 18 12:28:59 2022 .jupyter\n",
      "Mon Apr 18 12:29:32 2022 Untitled.ipynb\n",
      "Mon Apr 18 12:29:32 2022 .ipynb_checkpoints\n",
      "Mon Apr 18 12:30:19 2022 First_prgm.ipynb\n",
      "Tue Apr 19 10:52:54 2022 Untitled1.ipynb\n",
      "Tue Apr 19 11:04:41 2022 W3S_Exc_Basic_1.ipynb\n",
      "Sat Apr 23 08:48:15 2022 Untitled2.ipynb\n",
      "Sat Apr 23 08:53:41 2022 W3S_Exc_Basic_1_2.ipynb\n"
     ]
    }
   ],
   "source": [
    "#71*****files sorting \n",
    "import os\n",
    "import time\n",
    "paths = [\"%s %s\" % (time.ctime(t),f) for t, f in\n",
    "sorted([(os.path.getctime(x),x) for x in os.listdir(\".\")])]\n",
    "print(\"Directory listing, sorted by creation date:\")\n",
    "for x in range(len(paths)):\n",
    "    print(paths[x],)"
   ]
  },
  {
   "cell_type": "code",
   "execution_count": 12,
   "id": "ef6c59f0",
   "metadata": {},
   "outputs": [
    {
     "name": "stdout",
     "output_type": "stream",
     "text": [
      "Details of math modiles: \n",
      "\n",
      "Help on built-in module math:\n",
      "\n",
      "NAME\n",
      "    math\n",
      "\n",
      "DESCRIPTION\n",
      "    This module provides access to the mathematical functions\n",
      "    defined by the C standard.\n",
      "\n",
      "FUNCTIONS\n",
      "    acos(x, /)\n",
      "        Return the arc cosine (measured in radians) of x.\n",
      "        \n",
      "        The result is between 0 and pi.\n",
      "    \n",
      "    acosh(x, /)\n",
      "        Return the inverse hyperbolic cosine of x.\n",
      "    \n",
      "    asin(x, /)\n",
      "        Return the arc sine (measured in radians) of x.\n",
      "        \n",
      "        The result is between -pi/2 and pi/2.\n",
      "    \n",
      "    asinh(x, /)\n",
      "        Return the inverse hyperbolic sine of x.\n",
      "    \n",
      "    atan(x, /)\n",
      "        Return the arc tangent (measured in radians) of x.\n",
      "        \n",
      "        The result is between -pi/2 and pi/2.\n",
      "    \n",
      "    atan2(y, x, /)\n",
      "        Return the arc tangent (measured in radians) of y/x.\n",
      "        \n",
      "        Unlike atan(y/x), the signs of both x and y are considered.\n",
      "    \n",
      "    atanh(x, /)\n",
      "        Return the inverse hyperbolic tangent of x.\n",
      "    \n",
      "    ceil(x, /)\n",
      "        Return the ceiling of x as an Integral.\n",
      "        \n",
      "        This is the smallest integer >= x.\n",
      "    \n",
      "    comb(n, k, /)\n",
      "        Number of ways to choose k items from n items without repetition and without order.\n",
      "        \n",
      "        Evaluates to n! / (k! * (n - k)!) when k <= n and evaluates\n",
      "        to zero when k > n.\n",
      "        \n",
      "        Also called the binomial coefficient because it is equivalent\n",
      "        to the coefficient of k-th term in polynomial expansion of the\n",
      "        expression (1 + x)**n.\n",
      "        \n",
      "        Raises TypeError if either of the arguments are not integers.\n",
      "        Raises ValueError if either of the arguments are negative.\n",
      "    \n",
      "    copysign(x, y, /)\n",
      "        Return a float with the magnitude (absolute value) of x but the sign of y.\n",
      "        \n",
      "        On platforms that support signed zeros, copysign(1.0, -0.0)\n",
      "        returns -1.0.\n",
      "    \n",
      "    cos(x, /)\n",
      "        Return the cosine of x (measured in radians).\n",
      "    \n",
      "    cosh(x, /)\n",
      "        Return the hyperbolic cosine of x.\n",
      "    \n",
      "    degrees(x, /)\n",
      "        Convert angle x from radians to degrees.\n",
      "    \n",
      "    dist(p, q, /)\n",
      "        Return the Euclidean distance between two points p and q.\n",
      "        \n",
      "        The points should be specified as sequences (or iterables) of\n",
      "        coordinates.  Both inputs must have the same dimension.\n",
      "        \n",
      "        Roughly equivalent to:\n",
      "            sqrt(sum((px - qx) ** 2.0 for px, qx in zip(p, q)))\n",
      "    \n",
      "    erf(x, /)\n",
      "        Error function at x.\n",
      "    \n",
      "    erfc(x, /)\n",
      "        Complementary error function at x.\n",
      "    \n",
      "    exp(x, /)\n",
      "        Return e raised to the power of x.\n",
      "    \n",
      "    expm1(x, /)\n",
      "        Return exp(x)-1.\n",
      "        \n",
      "        This function avoids the loss of precision involved in the direct evaluation of exp(x)-1 for small x.\n",
      "    \n",
      "    fabs(x, /)\n",
      "        Return the absolute value of the float x.\n",
      "    \n",
      "    factorial(x, /)\n",
      "        Find x!.\n",
      "        \n",
      "        Raise a ValueError if x is negative or non-integral.\n",
      "    \n",
      "    floor(x, /)\n",
      "        Return the floor of x as an Integral.\n",
      "        \n",
      "        This is the largest integer <= x.\n",
      "    \n",
      "    fmod(x, y, /)\n",
      "        Return fmod(x, y), according to platform C.\n",
      "        \n",
      "        x % y may differ.\n",
      "    \n",
      "    frexp(x, /)\n",
      "        Return the mantissa and exponent of x, as pair (m, e).\n",
      "        \n",
      "        m is a float and e is an int, such that x = m * 2.**e.\n",
      "        If x is 0, m and e are both 0.  Else 0.5 <= abs(m) < 1.0.\n",
      "    \n",
      "    fsum(seq, /)\n",
      "        Return an accurate floating point sum of values in the iterable seq.\n",
      "        \n",
      "        Assumes IEEE-754 floating point arithmetic.\n",
      "    \n",
      "    gamma(x, /)\n",
      "        Gamma function at x.\n",
      "    \n",
      "    gcd(*integers)\n",
      "        Greatest Common Divisor.\n",
      "    \n",
      "    hypot(...)\n",
      "        hypot(*coordinates) -> value\n",
      "        \n",
      "        Multidimensional Euclidean distance from the origin to a point.\n",
      "        \n",
      "        Roughly equivalent to:\n",
      "            sqrt(sum(x**2 for x in coordinates))\n",
      "        \n",
      "        For a two dimensional point (x, y), gives the hypotenuse\n",
      "        using the Pythagorean theorem:  sqrt(x*x + y*y).\n",
      "        \n",
      "        For example, the hypotenuse of a 3/4/5 right triangle is:\n",
      "        \n",
      "            >>> hypot(3.0, 4.0)\n",
      "            5.0\n",
      "    \n",
      "    isclose(a, b, *, rel_tol=1e-09, abs_tol=0.0)\n",
      "        Determine whether two floating point numbers are close in value.\n",
      "        \n",
      "          rel_tol\n",
      "            maximum difference for being considered \"close\", relative to the\n",
      "            magnitude of the input values\n",
      "          abs_tol\n",
      "            maximum difference for being considered \"close\", regardless of the\n",
      "            magnitude of the input values\n",
      "        \n",
      "        Return True if a is close in value to b, and False otherwise.\n",
      "        \n",
      "        For the values to be considered close, the difference between them\n",
      "        must be smaller than at least one of the tolerances.\n",
      "        \n",
      "        -inf, inf and NaN behave similarly to the IEEE 754 Standard.  That\n",
      "        is, NaN is not close to anything, even itself.  inf and -inf are\n",
      "        only close to themselves.\n",
      "    \n",
      "    isfinite(x, /)\n",
      "        Return True if x is neither an infinity nor a NaN, and False otherwise.\n",
      "    \n",
      "    isinf(x, /)\n",
      "        Return True if x is a positive or negative infinity, and False otherwise.\n",
      "    \n",
      "    isnan(x, /)\n",
      "        Return True if x is a NaN (not a number), and False otherwise.\n",
      "    \n",
      "    isqrt(n, /)\n",
      "        Return the integer part of the square root of the input.\n",
      "    \n",
      "    lcm(*integers)\n",
      "        Least Common Multiple.\n",
      "    \n",
      "    ldexp(x, i, /)\n",
      "        Return x * (2**i).\n",
      "        \n",
      "        This is essentially the inverse of frexp().\n",
      "    \n",
      "    lgamma(x, /)\n",
      "        Natural logarithm of absolute value of Gamma function at x.\n",
      "    \n",
      "    log(...)\n",
      "        log(x, [base=math.e])\n",
      "        Return the logarithm of x to the given base.\n",
      "        \n",
      "        If the base not specified, returns the natural logarithm (base e) of x.\n",
      "    \n",
      "    log10(x, /)\n",
      "        Return the base 10 logarithm of x.\n",
      "    \n",
      "    log1p(x, /)\n",
      "        Return the natural logarithm of 1+x (base e).\n",
      "        \n",
      "        The result is computed in a way which is accurate for x near zero.\n",
      "    \n",
      "    log2(x, /)\n",
      "        Return the base 2 logarithm of x.\n",
      "    \n",
      "    modf(x, /)\n",
      "        Return the fractional and integer parts of x.\n",
      "        \n",
      "        Both results carry the sign of x and are floats.\n",
      "    \n",
      "    nextafter(x, y, /)\n",
      "        Return the next floating-point value after x towards y.\n",
      "    \n",
      "    perm(n, k=None, /)\n",
      "        Number of ways to choose k items from n items without repetition and with order.\n",
      "        \n",
      "        Evaluates to n! / (n - k)! when k <= n and evaluates\n",
      "        to zero when k > n.\n",
      "        \n",
      "        If k is not specified or is None, then k defaults to n\n",
      "        and the function returns n!.\n",
      "        \n",
      "        Raises TypeError if either of the arguments are not integers.\n",
      "        Raises ValueError if either of the arguments are negative.\n",
      "    \n",
      "    pow(x, y, /)\n",
      "        Return x**y (x to the power of y).\n",
      "    \n",
      "    prod(iterable, /, *, start=1)\n",
      "        Calculate the product of all the elements in the input iterable.\n",
      "        \n",
      "        The default start value for the product is 1.\n",
      "        \n",
      "        When the iterable is empty, return the start value.  This function is\n",
      "        intended specifically for use with numeric values and may reject\n",
      "        non-numeric types.\n",
      "    \n",
      "    radians(x, /)\n",
      "        Convert angle x from degrees to radians.\n",
      "    \n",
      "    remainder(x, y, /)\n",
      "        Difference between x and the closest integer multiple of y.\n",
      "        \n",
      "        Return x - n*y where n*y is the closest integer multiple of y.\n",
      "        In the case where x is exactly halfway between two multiples of\n",
      "        y, the nearest even value of n is used. The result is always exact.\n",
      "    \n",
      "    sin(x, /)\n",
      "        Return the sine of x (measured in radians).\n",
      "    \n",
      "    sinh(x, /)\n",
      "        Return the hyperbolic sine of x.\n",
      "    \n",
      "    sqrt(x, /)\n",
      "        Return the square root of x.\n",
      "    \n",
      "    tan(x, /)\n",
      "        Return the tangent of x (measured in radians).\n",
      "    \n",
      "    tanh(x, /)\n",
      "        Return the hyperbolic tangent of x.\n",
      "    \n",
      "    trunc(x, /)\n",
      "        Truncates the Real x to the nearest Integral toward 0.\n",
      "        \n",
      "        Uses the __trunc__ magic method.\n",
      "    \n",
      "    ulp(x, /)\n",
      "        Return the value of the least significant bit of the float x.\n",
      "\n",
      "DATA\n",
      "    e = 2.718281828459045\n",
      "    inf = inf\n",
      "    nan = nan\n",
      "    pi = 3.141592653589793\n",
      "    tau = 6.283185307179586\n",
      "\n",
      "FILE\n",
      "    (built-in)\n",
      "\n",
      "\n"
     ]
    }
   ],
   "source": [
    "#72 math module details\n",
    "\n",
    "import math\n",
    "print(\"Details of math modiles: \\n\")\n",
    "help(math)"
   ]
  },
  {
   "cell_type": "code",
   "execution_count": 13,
   "id": "8fd486a1",
   "metadata": {},
   "outputs": [
    {
     "name": "stdout",
     "output_type": "stream",
     "text": [
      "['__doc__', '__loader__', '__name__', '__package__', '__spec__', 'acos', 'acosh', 'asin', 'asinh', 'atan', 'atan2', 'atanh', 'ceil', 'comb', 'copysign', 'cos', 'cosh', 'degrees', 'dist', 'e', 'erf', 'erfc', 'exp', 'expm1', 'fabs', 'factorial', 'floor', 'fmod', 'frexp', 'fsum', 'gamma', 'gcd', 'hypot', 'inf', 'isclose', 'isfinite', 'isinf', 'isnan', 'isqrt', 'lcm', 'ldexp', 'lgamma', 'log', 'log10', 'log1p', 'log2', 'modf', 'nan', 'nextafter', 'perm', 'pi', 'pow', 'prod', 'radians', 'remainder', 'sin', 'sinh', 'sqrt', 'tan', 'tanh', 'tau', 'trunc', 'ulp']\n"
     ]
    }
   ],
   "source": [
    "#72 math module details\n",
    "import math\n",
    "math_mod=dir(math)\n",
    "print(math_mod)"
   ]
  },
  {
   "cell_type": "code",
   "execution_count": 14,
   "id": "474ae441",
   "metadata": {},
   "outputs": [
    {
     "name": "stdout",
     "output_type": "stream",
     "text": [
      "enter start points of line: \n",
      "4\n",
      "5\n",
      "Enter end points of the line: \n",
      "2\n",
      "1\n",
      "midPoints are: ( 3.0 3.0 )\n"
     ]
    }
   ],
   "source": [
    "#73 \n",
    "print(\"enter start points of line: \")\n",
    "x1=int(input())\n",
    "y1=int(input())\n",
    "\n",
    "print(\"Enter end points of the line: \")\n",
    "x2=int(input())\n",
    "y2=int(input())\n",
    "\n",
    "midPointX=(x1+x2)/2\n",
    "midPoinY=(y1+y2)/2\n",
    "\n",
    "print(\"midPoints are: (\",midPointX,midPoinY,\")\")"
   ]
  },
  {
   "cell_type": "code",
   "execution_count": 15,
   "id": "1f3280d5",
   "metadata": {},
   "outputs": [
    {
     "name": "stdout",
     "output_type": "stream",
     "text": [
      "Input the word to be hashed: Man\n",
      "\n",
      "coded word is:M05\n",
      "\n"
     ]
    }
   ],
   "source": [
    "#74***** hash words \n",
    "soundex=[0,1,2,3,0,1,2,0,0,2,2,4,5,5,0,1,2,6,2,3,0,1,0,2,0,2]\n",
    "\n",
    "word=input(\"Input the word to be hashed: \")\n",
    "word=word.upper()\n",
    "coded=word[0]\n",
    "\n",
    "for a in word[1:len(word)]:\n",
    "    i=65-ord(a)\n",
    "    coded=coded+str(soundex[i])\n",
    "print()\n",
    "print(\"coded word is:\"+coded)\n",
    "print()"
   ]
  },
  {
   "cell_type": "code",
   "execution_count": 17,
   "id": "666e7ceb",
   "metadata": {},
   "outputs": [
    {
     "name": "stdout",
     "output_type": "stream",
     "text": [
      "Original integer value: 112\n",
      "Hash value of the said integer value: 112\n",
      "Original float value: 23.99\n",
      "Hash value of the said float value: 2282784579121553431\n",
      "Original text: Python Exercises\n",
      "Hash value of the said text: -3355991208796899690\n"
     ]
    }
   ],
   "source": [
    "#74***** hash words \n",
    "int_num = 112\n",
    "flt_num = 23.99\n",
    "text_val = 'Python Exercises'\n",
    "print(\"Original integer value:\",int_num)\n",
    "print (\"Hash value of the said integer value: \" + str(hash(int_num)))\n",
    "print(\"Original float value:\",flt_num)\n",
    "print (\"Hash value of the said float value: \" + str(hash(flt_num)))\n",
    "print(\"Original text:\",text_val)\n",
    "print (\"Hash value of the said text: \" + str(hash(text_val)))"
   ]
  },
  {
   "cell_type": "code",
   "execution_count": 19,
   "id": "d193fba2",
   "metadata": {},
   "outputs": [
    {
     "name": "stdout",
     "output_type": "stream",
     "text": [
      "Copyright (c) 2001-2021 Python Software Foundation.\n",
      "All Rights Reserved.\n",
      "\n",
      "Copyright (c) 2000 BeOpen.com.\n",
      "All Rights Reserved.\n",
      "\n",
      "Copyright (c) 1995-2001 Corporation for National Research Initiatives.\n",
      "All Rights Reserved.\n",
      "\n",
      "Copyright (c) 1991-1995 Stichting Mathematisch Centrum, Amsterdam.\n",
      "All Rights Reserved.\n",
      "Copyright (c) 2001-2021 Python Software Foundation.\n",
      "All Rights Reserved.\n",
      "\n",
      "Copyright (c) 2000 BeOpen.com.\n",
      "All Rights Reserved.\n",
      "\n",
      "Copyright (c) 1995-2001 Corporation for National Research Initiatives.\n",
      "All Rights Reserved.\n",
      "\n",
      "Copyright (c) 1991-1995 Stichting Mathematisch Centrum, Amsterdam.\n",
      "All Rights Reserved.\n"
     ]
    }
   ],
   "source": [
    "#75\n",
    "import sys\n",
    "print(copyright)\n",
    "print(sys.copyright)"
   ]
  },
  {
   "cell_type": "code",
   "execution_count": 20,
   "id": "1523fa89",
   "metadata": {},
   "outputs": [
    {
     "name": "stdout",
     "output_type": "stream",
     "text": [
      "This is the name/path of the script:\n",
      "Number of arguments: 3\n",
      "Argument List: ['C:\\\\Users\\\\przir\\\\anaconda3\\\\lib\\\\site-packages\\\\ipykernel_launcher.py', '-f', 'C:\\\\Users\\\\przir\\\\AppData\\\\Roaming\\\\jupyter\\\\runtime\\\\kernel-567d5f02-2556-43c3-80a6-d22c41d4c5cf.json']\n"
     ]
    }
   ],
   "source": [
    "#76\n",
    "import sys\n",
    "print(\"This is the name/path of the script:\"),sys.argv[0]\n",
    "print(\"Number of arguments:\",len(sys.argv))\n",
    "print(\"Argument List:\",str(sys.argv))"
   ]
  },
  {
   "cell_type": "code",
   "execution_count": 21,
   "id": "f589ccb9",
   "metadata": {},
   "outputs": [
    {
     "name": "stdout",
     "output_type": "stream",
     "text": [
      "\n",
      "Little-endian platform.\n",
      "\n"
     ]
    }
   ],
   "source": [
    "#77\n",
    "import sys\n",
    "print()\n",
    "if sys.byteorder == \"little\":\n",
    "    #intel, alpha\n",
    "    print(\"Little-endian platform.\")\n",
    "else:\n",
    "    #motorola, sparc\n",
    "    print(\"Big-endian platform.\")\n",
    "print()"
   ]
  },
  {
   "cell_type": "code",
   "execution_count": 22,
   "id": "2e309bb7",
   "metadata": {},
   "outputs": [
    {
     "name": "stdout",
     "output_type": "stream",
     "text": [
      "\n",
      "Please wait a moment while I gather a list of all available modules...\n",
      "\n"
     ]
    },
    {
     "name": "stderr",
     "output_type": "stream",
     "text": [
      "C:\\Users\\przir\\anaconda3\\lib\\site-packages\\IPython\\kernel\\__init__.py:12: ShimWarning: The `IPython.kernel` package has been deprecated since IPython 4.0.You should import from ipykernel or jupyter_client instead.\n",
      "  warn(\"The `IPython.kernel` package has been deprecated since IPython 4.0.\"\n",
      "WARNING: AstropyDeprecationWarning: The private astropy._erfa module has been made into its own package, pyerfa, which is a dependency of astropy and can be imported directly using \"import erfa\" [astropy._erfa]\n",
      "C:\\Users\\przir\\anaconda3\\lib\\pkgutil.py:93: MatplotlibDeprecationWarning: \n",
      "The matplotlib.compat module was deprecated in Matplotlib 3.3 and will be removed two minor releases later.\n",
      "  __import__(info.name)\n",
      "C:\\Users\\przir\\anaconda3\\lib\\site-packages\\nltk\\twitter\\__init__.py:20: UserWarning: The twython library has not been installed. Some functionality from the twitter package will not be available.\n",
      "  warnings.warn(\n"
     ]
    },
    {
     "name": "stdout",
     "output_type": "stream",
     "text": [
      "Update LANGUAGE_CODES (inside config/base.py) if a new translation has been added to Spyder\n"
     ]
    },
    {
     "name": "stderr",
     "output_type": "stream",
     "text": [
      "QSS file sucessfuly loaded.\n",
      "Found application patches to be applied.\n",
      "No QCoreApplication instance found. Application patches not applied. You have to call load_stylesheet function after instantiation of QApplication to take effect. \n",
      "C:\\Users\\przir\\anaconda3\\lib\\pkgutil.py:108: VisibleDeprecationWarning: zmq.eventloop.minitornado is deprecated in pyzmq 14.0 and will be removed.\n",
      "    Install tornado itself to use zmq with the tornado IOLoop.\n",
      "    \n",
      "  yield from walk_packages(path, info.name+'.', onerror)\n"
     ]
    },
    {
     "name": "stdout",
     "output_type": "stream",
     "text": [
      "Cython              codecs              modulefinder        sortedcontainers\n",
      "IPython             codeop              more_itertools      soupsieve\n",
      "OpenSSL             collections         mpmath              sphinx\n",
      "PIL                 colorama            msgpack             sphinxcontrib\n",
      "PyQt5               colorsys            msilib              spyder\n",
      "TBB                 commctrl            msvcrt              spyder_kernels\n",
      "__future__          compileall          multipledispatch    sqlalchemy\n",
      "_abc                comtypes            multiprocessing     sqlite3\n",
      "_aix_support        concurrent          munkres             sre_compile\n",
      "_ast                conda               mypy_extensions     sre_constants\n",
      "_asyncio            conda_build         nacl                sre_parse\n",
      "_bisect             conda_content_trust navigator_updater   ssl\n",
      "_black_version      conda_env           nbclassic           sspi\n",
      "_blake2             conda_pack          nbclient            sspicon\n",
      "_bootlocale         conda_package_handling nbconvert           stat\n",
      "_bootsubprocess     conda_token         nbformat            statistics\n",
      "_bz2                conda_verify        nest_asyncio        statsmodels\n",
      "_cffi_backend       configparser        netbios             storemagic\n",
      "_codecs             contextlib          netrc               string\n",
      "_codecs_cn          contextlib2         networkx            stringprep\n",
      "_codecs_hk          contextvars         nltk                struct\n",
      "_codecs_iso2022     cookiecutter        nntplib             subprocess\n",
      "_codecs_jp          copy                nose                sunau\n",
      "_codecs_kr          copyreg             notebook            symbol\n",
      "_codecs_tw          crypt               nt                  sympy\n",
      "_collections        cryptography        ntpath              sympyprinting\n",
      "_collections_abc    csv                 ntsecuritycon       symtable\n",
      "_compat_pickle      ctypes              nturl2path          sys\n",
      "_compression        curl                numba               sysconfig\n",
      "_contextvars        curses              numbers             tables\n",
      "_csv                cwp                 numexpr             tabnanny\n",
      "_ctypes             cycler              numpy               tarfile\n",
      "_ctypes_test        cython              numpydoc            tbb\n",
      "_daal4py            cythonmagic         odbc                tblib\n",
      "_datetime           cytoolz             olefile             telnetlib\n",
      "_decimal            daal4py             onedal              tempfile\n",
      "_distutils_hack     dask                opcode              terminado\n",
      "_elementtree        dataclasses         openpyxl            test\n",
      "_functools          datetime            operator            test_data\n",
      "_hashlib            dateutil            optparse            test_pycosat\n",
      "_heapq              dbi                 os                  testpath\n",
      "_imp                dbm                 packaging           tests\n",
      "_io                 dde                 pandas              text_unidecode\n",
      "_json               debugpy             pandocfilters       textdistance\n",
      "_locale             decimal             paramiko            textwrap\n",
      "_lsprof             decorator           parser              this\n",
      "_lzma               defusedxml          parso               threading\n",
      "_markupbase         diff_match_patch    partd               threadpoolctl\n",
      "_md5                difflib             past                three_merge\n",
      "_msi                dis                 path                tifffile\n",
      "_multibytecodec     distributed         pathlib             time\n",
      "_multiprocessing    distutils           pathlib2            timeit\n",
      "_nsis               doctest             pathspec            timer\n",
      "_onedal4py_host     docutils            patsy               tinycss\n",
      "_opcode             email               pdb                 tkinter\n",
      "_operator           encodings           pep8                tlz\n",
      "_osx_support        ensurepip           perfmon             token\n",
      "_overlapped         entrypoints         pexpect             tokenize\n",
      "_peg_parser         enum                pickle              toml\n",
      "_pickle             erfa                pickleshare         toolz\n",
      "_py_abc             errno               pickletools         tornado\n",
      "_pydecimal          et_xmlfile          pip                 tqdm\n",
      "_pyio               fastcache           pipes               trace\n",
      "_pyrsistent_version faulthandler        pkg_resources       traceback\n",
      "_pytest             filecmp             pkginfo             tracemalloc\n",
      "_queue              fileinput           pkgutil             traitlets\n",
      "_random             filelock            platform            tty\n",
      "_sha1               flake8              plistlib            turtle\n",
      "_sha256             flask               pluggy              turtledemo\n",
      "_sha3               fnmatch             ply                 typed_ast\n",
      "_sha512             fontTools           poplib              types\n",
      "_signal             formatter           posixpath           typing\n",
      "_sitebuiltins       fractions           poyo                typing_extensions\n",
      "_socket             fsspec              pprint              ujson\n",
      "_sqlite3            ftplib              profile             unicodecsv\n",
      "_sre                functools           prometheus_client   unicodedata\n",
      "_ssl                future              prompt_toolkit      unidecode\n",
      "_stat               gc                  pstats              unittest\n",
      "_statistics         genericpath         psutil              urllib\n",
      "_string             getopt              pty                 urllib3\n",
      "_strptime           getpass             ptyprocess          uu\n",
      "_struct             gettext             pvectorc            uuid\n",
      "_symtable           gevent              py                  venv\n",
      "_system_path        glob                py_compile          warnings\n",
      "_testbuffer         glob2               pyclbr              watchdog\n",
      "_testcapi           graphlib            pycodestyle         wave\n",
      "_testconsole        greenlet            pycosat             wcwidth\n",
      "_testimportmultiple gzip                pycparser           weakref\n",
      "_testinternalcapi   h5py                pycurl              webbrowser\n",
      "_testmultiphase     hashlib             pydoc               webencodings\n",
      "_thread             heapdict            pydoc_data          werkzeug\n",
      "_threading_local    heapq               pydocstyle          wheel\n",
      "_tkinter            hmac                pyexpat             whichcraft\n",
      "_tracemalloc        html                pyflakes            widgetsnbextension\n",
      "_uuid               html5lib            pygments            win2kras\n",
      "_warnings           http                pylab               win32api\n",
      "_weakref            idlelib             pylint              win32clipboard\n",
      "_weakrefset         idna                pyls_spyder         win32com\n",
      "_win32sysloader     imagecodecs         pylsp               win32con\n",
      "_winapi             imageio             pylsp_black         win32console\n",
      "_winxptheme         imagesize           pylsp_jsonrpc       win32cred\n",
      "_xxsubinterpreters  imaplib             pyodbc              win32crypt\n",
      "_yaml               imghdr              pyparsing           win32cryptcon\n",
      "_zoneinfo           imp                 pyreadline          win32ctypes\n",
      "abc                 importlib           pyrsistent          win32event\n",
      "adodbapi            importlib_metadata  pytest              win32evtlog\n",
      "afxres              inflection          pythoncom           win32evtlogutil\n",
      "aifc                iniconfig           pytz                win32file\n",
      "alabaster           inspect             pywin               win32gui\n",
      "anaconda_navigator  intervaltree        pywin32_bootstrap   win32gui_struct\n",
      "anaconda_project    io                  pywin32_testutil    win32help\n",
      "antigravity         ipaddress           pywintypes          win32inet\n",
      "anyio               ipykernel           pywt                win32inetcon\n",
      "appdirs             ipykernel_launcher  pyximport           win32job\n",
      "argh                ipython_genutils    qdarkstyle          win32lz\n",
      "argon2              ipywidgets          qstylizer           win32net\n",
      "argparse            isapi               qtawesome           win32netcon\n",
      "array               isort               qtconsole           win32pdh\n",
      "arrow               isympy              qtpy                win32pdhquery\n",
      "asn1crypto          itertools           queue               win32pdhutil\n",
      "ast                 itsdangerous        quopri              win32pipe\n",
      "astroid             jdcal               random              win32print\n",
      "astropy             jedi                rasutil             win32process\n",
      "async_generator     jinja2              re                  win32profile\n",
      "asynchat            jinja2_time         readline            win32ras\n",
      "asyncio             joblib              regcheck            win32rcparser\n",
      "asyncore            json                regex               win32security\n",
      "atexit              json5               regutil             win32service\n",
      "atomicwrites        jsonschema          repo_cli            win32serviceutil\n",
      "attr                jupyter             reprlib             win32timezone\n",
      "audioop             jupyter_client      requests            win32trace\n",
      "autopep8            jupyter_console     rlcompleter         win32traceutil\n",
      "autoreload          jupyter_core        rmagic              win32transaction\n",
      "babel               jupyter_server      rope                win32ts\n",
      "backcall            jupyterlab          rtree               win32ui\n",
      "backports           jupyterlab_pygments ruamel_yaml         win32uiole\n",
      "base64              jupyterlab_server   run                 win32verstamp\n",
      "bcrypt              jupyterlab_widgets  runpy               win32wnet\n",
      "bdb                 jwt                 sched               win_inet_pton\n",
      "binaryornot         keyring             scipy               win_unicode_console\n",
      "binascii            keyword             scripts             wincertstore\n",
      "binhex              kiwisolver          seaborn             winerror\n",
      "binstar_client      lazy_object_proxy   secrets             winioctlcon\n",
      "bisect              lib2to3             select              winnt\n",
      "bitarray            libarchive          selectors           winperf\n",
      "bkcharts            libfuturize         send2trash          winpty\n",
      "black               libpasteurize       servicemanager      winreg\n",
      "blackd              lief                setuptools          winsound\n",
      "bleach              linecache           shelve              winxpgui\n",
      "blib2to3            llvmlite            shlex               winxptheme\n",
      "bokeh               locale              shutil              wrapt\n",
      "boto                locket              signal              wsgiref\n",
      "bottleneck          logging             simplegeneric       xdrlib\n",
      "brotli              lxml                singledispatch      xlrd\n",
      "bs4                 lzma                sip                 xlsxwriter\n",
      "builtins            mailbox             sipconfig           xlwings\n",
      "bz2                 mailcap             sipdistutils        xlwt\n",
      "cProfile            markupsafe          site                xml\n",
      "cached_property     marshal             six                 xmlrpc\n",
      "calendar            math                skimage             xmltodict\n",
      "certifi             matplotlib          sklearn             xxsubtype\n",
      "cffi                matplotlib_inline   sklearnex           yaml\n",
      "cgi                 mccabe              slugify             yapf\n",
      "cgitb               menuinst            smtpd               yapftests\n",
      "chardet             mimetypes           smtplib             zict\n",
      "charset_normalizer  mistune             sndhdr              zipapp\n",
      "chunk               mkl                 sniffio             zipfile\n",
      "click               mkl_fft             snowballstemmer     zipimport\n",
      "cloudpickle         mkl_random          socket              zipp\n",
      "clyent              mmap                socketserver        zlib\n",
      "cmath               mmapfile            socks               zmq\n",
      "cmd                 mmsystem            sockshandler        zoneinfo\n",
      "code                mock                sortedcollections   zope\n",
      "\n",
      "Enter any module name to get more help.  Or, type \"modules spam\" to search\n",
      "for modules whose name or summary contain the string \"spam\".\n",
      "\n"
     ]
    }
   ],
   "source": [
    "#78\n",
    "help('modules')"
   ]
  },
  {
   "cell_type": "code",
   "execution_count": 31,
   "id": "a61a48b8",
   "metadata": {},
   "outputs": [
    {
     "name": "stdout",
     "output_type": "stream",
     "text": [
      "Size Of  One = 52 in bytes\n",
      "Size of  2 = 28 in bytes\n",
      "Size of  [1, 2, 'Red', 'White'] = 120 in bytes\n"
     ]
    }
   ],
   "source": [
    "#79****\n",
    "import sys\n",
    "str1=\"One\"\n",
    "x=2\n",
    "L=[1,2,\"Red\",\"White\"]\n",
    "\n",
    "print(\"Size Of \", str1,\"=\",str(sys.getsizeof(str1)),\"in bytes\")\n",
    "print(\"Size of \",x,\"=\",(sys.getsizeof(x)),\"in bytes\")\n",
    "print(\"Size of \",L,\"=\",sys.getsizeof(L),\"in bytes\")"
   ]
  },
  {
   "cell_type": "code",
   "execution_count": 35,
   "id": "e27d3b1f",
   "metadata": {},
   "outputs": [
    {
     "name": "stdout",
     "output_type": "stream",
     "text": [
      "\n",
      "Current value of recursion imit=\n",
      "1000\n",
      "1000\n"
     ]
    }
   ],
   "source": [
    "#80******Recursion Limit\n",
    "import sys\n",
    "print()\n",
    "print(\"Current value of recursion imit=\")\n",
    "print(sys.getrecursionlimit())\n",
    "\n",
    "sys.setrecursionlimit(1000)\n",
    "new_rec_limit=sys.getrecursionlimit()\n",
    "print(new_rec_limit)"
   ]
  },
  {
   "cell_type": "code",
   "execution_count": 49,
   "id": "dda7af67",
   "metadata": {},
   "outputs": [
    {
     "name": "stdout",
     "output_type": "stream",
     "text": [
      "oneTwo\n",
      "oneTwo['Random', 'Stuff']\n",
      "Random_Stuff\n"
     ]
    }
   ],
   "source": [
    "#81***String concatenation\n",
    "x=\"one\"\n",
    "y=\"Two\"\n",
    "list_of_obj=[\"Random\",\"Stuff\"]\n",
    "\n",
    "print(x+y)\n",
    "\n",
    "print(\"%s%s%s\"%(x,y,list_of_obj))\n",
    "\n",
    "v='_'.join(list_of_obj)\n",
    "print(v)"
   ]
  },
  {
   "cell_type": "code",
   "execution_count": 71,
   "id": "0582be4e",
   "metadata": {},
   "outputs": [
    {
     "ename": "TypeError",
     "evalue": "'int' object is not callable",
     "output_type": "error",
     "traceback": [
      "\u001b[1;31m---------------------------------------------------------------------------\u001b[0m",
      "\u001b[1;31mTypeError\u001b[0m                                 Traceback (most recent call last)",
      "\u001b[1;32m~\\AppData\\Local\\Temp/ipykernel_13564/3135846520.py\u001b[0m in \u001b[0;36m<module>\u001b[1;34m\u001b[0m\n\u001b[0;32m      4\u001b[0m \u001b[1;31m#1.container in general\u001b[0m\u001b[1;33m\u001b[0m\u001b[1;33m\u001b[0m\u001b[0m\n\u001b[0;32m      5\u001b[0m \u001b[0mmy_list\u001b[0m \u001b[1;33m=\u001b[0m \u001b[1;33m[\u001b[0m\u001b[1;36m1\u001b[0m\u001b[1;33m,\u001b[0m\u001b[1;36m3\u001b[0m\u001b[1;33m,\u001b[0m\u001b[1;36m5\u001b[0m\u001b[1;33m,\u001b[0m\u001b[1;36m2\u001b[0m\u001b[1;33m,\u001b[0m\u001b[1;36m4\u001b[0m\u001b[1;33m]\u001b[0m\u001b[1;33m\u001b[0m\u001b[1;33m\u001b[0m\u001b[0m\n\u001b[1;32m----> 6\u001b[1;33m \u001b[0mprint\u001b[0m \u001b[1;33m(\u001b[0m\u001b[1;34m\"The sum of my_list is\"\u001b[0m\u001b[1;33m,\u001b[0m \u001b[0msum\u001b[0m\u001b[1;33m(\u001b[0m\u001b[0mmy_list\u001b[0m\u001b[1;33m)\u001b[0m\u001b[1;33m)\u001b[0m\u001b[1;33m\u001b[0m\u001b[1;33m\u001b[0m\u001b[0m\n\u001b[0m",
      "\u001b[1;31mTypeError\u001b[0m: 'int' object is not callable"
     ]
    }
   ],
   "source": [
    "#82 Tuple,List,Set, Dictionary sum of members\n",
    "\n",
    "import math\n",
    "#1.container in general\n",
    "my_list = [1,3,5,2,4]\n",
    "print (\"The sum of my_list is\", sum(my_list))"
   ]
  },
  {
   "cell_type": "code",
   "execution_count": null,
   "id": "5df00e5f",
   "metadata": {},
   "outputs": [],
   "source": [
    "#82\n",
    "def dict_sum(nums):\n",
    "    num_sum=0\n",
    "    "
   ]
  },
  {
   "cell_type": "code",
   "execution_count": 7,
   "id": "6a6a2825",
   "metadata": {},
   "outputs": [
    {
     "name": "stdout",
     "output_type": "stream",
     "text": [
      "0\n"
     ]
    }
   ],
   "source": [
    "#83\n",
    "def numComp(n):\n",
    "    myList=[10,20,30,40]\n",
    "    count=0\n",
    "    for x in myList:\n",
    "        if n < x:\n",
    "            count=0\n",
    "            break\n",
    "        else:\n",
    "            count=count+1\n",
    "    return count\n",
    "\n",
    "print(numComp(25))"
   ]
  },
  {
   "cell_type": "code",
   "execution_count": 9,
   "id": "596ea7fa",
   "metadata": {},
   "outputs": [
    {
     "name": "stdout",
     "output_type": "stream",
     "text": [
      "\n",
      "True\n",
      "False\n"
     ]
    }
   ],
   "source": [
    "#83\n",
    "num=[2,3,4,5]\n",
    "print()\n",
    "print(all(x>1 for x in num))\n",
    "print(all(x>4 for x in num))"
   ]
  },
  {
   "cell_type": "code",
   "execution_count": 17,
   "id": "0080c912",
   "metadata": {},
   "outputs": [
    {
     "name": "stdout",
     "output_type": "stream",
     "text": [
      "6\n"
     ]
    }
   ],
   "source": [
    "#84\n",
    "def charCountStr(str1, chars):\n",
    "    counts=0\n",
    "    for x in str1:\n",
    "        if x ==chars:\n",
    "            counts=counts+1\n",
    "        \n",
    "    return counts\n",
    "\n",
    "print(charCountStr(\"bananasaraa\",\"a\"))"
   ]
  },
  {
   "cell_type": "code",
   "execution_count": 18,
   "id": "37b6b988",
   "metadata": {},
   "outputs": [
    {
     "name": "stdout",
     "output_type": "stream",
     "text": [
      "5\n"
     ]
    }
   ],
   "source": [
    "#84\n",
    "s=\"bananasara\"\n",
    "print(s.count(\"a\"))"
   ]
  },
  {
   "cell_type": "code",
   "execution_count": 19,
   "id": "54dfd15a",
   "metadata": {},
   "outputs": [
    {
     "name": "stdout",
     "output_type": "stream",
     "text": [
      "It is special file(socket, fifo device file)\n",
      "\n"
     ]
    }
   ],
   "source": [
    "#85\n",
    "import os\n",
    "path=\"abx.txt\"\n",
    "\n",
    "if os.path.isdir(path):\n",
    "    print(\"\\n It is a directory\")\n",
    "elif os.path.isfile(path):\n",
    "    print(\"\\n It is just a file\")\n",
    "else:\n",
    "    print(\"It is special file(socket, fifo device file)\")\n",
    "print()"
   ]
  },
  {
   "cell_type": "code",
   "execution_count": 20,
   "id": "f632a235",
   "metadata": {},
   "outputs": [
    {
     "name": "stdout",
     "output_type": "stream",
     "text": [
      "97\n",
      "65\n"
     ]
    }
   ],
   "source": [
    "#86*****Ascii Code please download table from solution\n",
    "print(ord('a'))\n",
    "print(ord('A'))"
   ]
  },
  {
   "cell_type": "code",
   "execution_count": 21,
   "id": "fd560ed9",
   "metadata": {},
   "outputs": [
    {
     "ename": "FileNotFoundError",
     "evalue": "[WinError 2] The system cannot find the file specified: 'abc.txt'",
     "output_type": "error",
     "traceback": [
      "\u001b[1;31m---------------------------------------------------------------------------\u001b[0m",
      "\u001b[1;31mFileNotFoundError\u001b[0m                         Traceback (most recent call last)",
      "\u001b[1;32m~\\AppData\\Local\\Temp/ipykernel_9308/739530283.py\u001b[0m in \u001b[0;36m<module>\u001b[1;34m\u001b[0m\n\u001b[0;32m      2\u001b[0m \u001b[1;32mimport\u001b[0m \u001b[0mos\u001b[0m\u001b[1;33m\u001b[0m\u001b[1;33m\u001b[0m\u001b[0m\n\u001b[0;32m      3\u001b[0m \u001b[1;31m#print(sizeof(abc.txt))\u001b[0m\u001b[1;33m\u001b[0m\u001b[1;33m\u001b[0m\u001b[0m\n\u001b[1;32m----> 4\u001b[1;33m \u001b[0mfile_size\u001b[0m\u001b[1;33m=\u001b[0m\u001b[0mos\u001b[0m\u001b[1;33m.\u001b[0m\u001b[0mpath\u001b[0m\u001b[1;33m.\u001b[0m\u001b[0mgetsize\u001b[0m\u001b[1;33m(\u001b[0m\u001b[1;34m\"abc.txt\"\u001b[0m\u001b[1;33m)\u001b[0m\u001b[1;33m\u001b[0m\u001b[1;33m\u001b[0m\u001b[0m\n\u001b[0m\u001b[0;32m      5\u001b[0m \u001b[1;33m\u001b[0m\u001b[0m\n\u001b[0;32m      6\u001b[0m \u001b[1;31m#Alternate Solution\u001b[0m\u001b[1;33m\u001b[0m\u001b[1;33m\u001b[0m\u001b[0m\n",
      "\u001b[1;32m~\\anaconda3\\lib\\genericpath.py\u001b[0m in \u001b[0;36mgetsize\u001b[1;34m(filename)\u001b[0m\n\u001b[0;32m     48\u001b[0m \u001b[1;32mdef\u001b[0m \u001b[0mgetsize\u001b[0m\u001b[1;33m(\u001b[0m\u001b[0mfilename\u001b[0m\u001b[1;33m)\u001b[0m\u001b[1;33m:\u001b[0m\u001b[1;33m\u001b[0m\u001b[1;33m\u001b[0m\u001b[0m\n\u001b[0;32m     49\u001b[0m     \u001b[1;34m\"\"\"Return the size of a file, reported by os.stat().\"\"\"\u001b[0m\u001b[1;33m\u001b[0m\u001b[1;33m\u001b[0m\u001b[0m\n\u001b[1;32m---> 50\u001b[1;33m     \u001b[1;32mreturn\u001b[0m \u001b[0mos\u001b[0m\u001b[1;33m.\u001b[0m\u001b[0mstat\u001b[0m\u001b[1;33m(\u001b[0m\u001b[0mfilename\u001b[0m\u001b[1;33m)\u001b[0m\u001b[1;33m.\u001b[0m\u001b[0mst_size\u001b[0m\u001b[1;33m\u001b[0m\u001b[1;33m\u001b[0m\u001b[0m\n\u001b[0m\u001b[0;32m     51\u001b[0m \u001b[1;33m\u001b[0m\u001b[0m\n\u001b[0;32m     52\u001b[0m \u001b[1;33m\u001b[0m\u001b[0m\n",
      "\u001b[1;31mFileNotFoundError\u001b[0m: [WinError 2] The system cannot find the file specified: 'abc.txt'"
     ]
    }
   ],
   "source": [
    "#87\n",
    "import os\n",
    "#print(sizeof(abc.txt))\n",
    "file_size=os.path.getsize(\"abc.txt\")\n",
    "\n",
    "#Alternate Solution\n",
    "import os\n",
    "file=open('main.py')\n",
    "file.seek(0,os.SEEK_END)\n",
    "print(\"size of the file is: \",file.tell())\n"
   ]
  },
  {
   "cell_type": "code",
   "execution_count": 35,
   "id": "32d58b78",
   "metadata": {},
   "outputs": [
    {
     "name": "stdout",
     "output_type": "stream",
     "text": [
      "30+20=50\n",
      "30+20=50\n",
      "30+20=50\n"
     ]
    }
   ],
   "source": [
    "#88****** formatting\n",
    "x=30\n",
    "y=20\n",
    "\n",
    "print(\"%d+%d=%d\"%(x,y,x+y))\n",
    "print(\"{0}+{1}={2}\".format(x,y,x+y))\n",
    "print(\"{}+{}={}\".format(x,y,x+y))"
   ]
  },
  {
   "cell_type": "code",
   "execution_count": 37,
   "id": "f76e6410",
   "metadata": {},
   "outputs": [],
   "source": [
    "#89\n",
    "def condTest(var1):\n",
    "    if var1==1:\n",
    "        return \"First Day of Month\"\n",
    "    else:\n",
    "        pass\n",
    "condTest(4)"
   ]
  },
  {
   "cell_type": "code",
   "execution_count": 38,
   "id": "9a11fbf4",
   "metadata": {},
   "outputs": [],
   "source": [
    "#90\n",
    "def file_copy(src, dest):\n",
    "    with open(src) as f, open(dest, 'w') as d:\n",
    "        d.write(f.read())\n",
    "        file_copy(\"untitled0.py\", \"z.py\")\n",
    "        with open('z.py', 'r') as filehandle:\n",
    "            for line in filehandle:\n",
    "                print(line, end = '')"
   ]
  },
  {
   "cell_type": "code",
   "execution_count": 40,
   "id": "8e20c9b3",
   "metadata": {},
   "outputs": [
    {
     "name": "stdout",
     "output_type": "stream",
     "text": [
      "20 30\n"
     ]
    }
   ],
   "source": [
    "#91\n",
    "x=30\n",
    "y=20\n",
    "sumOfNum=x+y\n",
    "\n",
    "x=sumOfNum-x\n",
    "y=sumOfNum-y\n",
    "print(x,y)"
   ]
  },
  {
   "cell_type": "markdown",
   "id": "0bab7b3a",
   "metadata": {},
   "source": [
    "#91\n",
    "x=30\n",
    "y=20\n",
    "\n",
    "x=temp\n",
    "temp=y\n",
    "y=x\n",
    "\n",
    "print(x,y"
   ]
  },
  {
   "cell_type": "code",
   "execution_count": 46,
   "id": "1090052d",
   "metadata": {},
   "outputs": [
    {
     "name": "stdout",
     "output_type": "stream",
     "text": [
      "20 30\n"
     ]
    }
   ],
   "source": [
    "#91\n",
    "x=30 \n",
    "y=20\n",
    "temp=0\n",
    "\n",
    "temp =x\n",
    "x=y\n",
    "y=temp\n",
    "\n",
    "print(x,y)"
   ]
  },
  {
   "cell_type": "code",
   "execution_count": 47,
   "id": "e8c0a0be",
   "metadata": {},
   "outputs": [
    {
     "name": "stdout",
     "output_type": "stream",
     "text": [
      "\n",
      "\\#{'}${\"}@/\n",
      "\\#{'}${\"}@/\n",
      "\\#{'}${\"}@/\n",
      "\\#{'}${\"}@/\n",
      "\\#{'}${\"}@/\n",
      "\\#{'}${\"}@/\n",
      "\n"
     ]
    }
   ],
   "source": [
    "#92\n",
    "print()\n",
    "print(\"\\#{'}${\\\"}@/\")\n",
    "print(\"\\#{'}${\"'\"'\"}@/\")\n",
    "print(r\"\"\"\\#{'}${\"}@/\"\"\")\n",
    "print('\\#{\\'}${\"}@/')\n",
    "print('\\#{'\"'\"'}${\"}@/')\n",
    "print(r'''\\#{'}${\"}@/''')\n",
    "print()"
   ]
  },
  {
   "cell_type": "code",
   "execution_count": 48,
   "id": "da72f5da",
   "metadata": {},
   "outputs": [
    {
     "name": "stdout",
     "output_type": "stream",
     "text": [
      "identity of an object x:  10\n",
      "Type of an object x:  <class 'int'>\n",
      "id of an object x:  2136235862608\n"
     ]
    }
   ],
   "source": [
    "#93***indentity, type, id of an object\n",
    "x=10\n",
    "print(\"identity of an object x: \",x)\n",
    "print(\"Type of an object x: \",type(x))\n",
    "print(\"id of an object x: \",id(x))"
   ]
  },
  {
   "cell_type": "code",
   "execution_count": 52,
   "id": "a552878c",
   "metadata": {},
   "outputs": [
    {
     "name": "stdout",
     "output_type": "stream",
     "text": [
      "\n",
      "convert byte of strings into integer: \n",
      "[97, 98, 99]\n"
     ]
    }
   ],
   "source": [
    "#94****convert byte string to integer list\n",
    "\n",
    "#Solution 1\n",
    "x=b'abc'#b represents BYTES\n",
    "print()\n",
    "print(\"convert byte of strings into integer: \")\n",
    "print(list(x))\n"
   ]
  },
  {
   "cell_type": "code",
   "execution_count": 55,
   "id": "afc0b465",
   "metadata": {},
   "outputs": [
    {
     "name": "stdout",
     "output_type": "stream",
     "text": [
      "Original String \n",
      "The quick brown fox jumped into the wall\n",
      "Convert bytes of string into integers: \n",
      "[84, 104, 101, 32, 113, 117, 105, 99, 107, 32, 98, 114, 111, 119, 110, 32, 102, 111, 120, 32, 106, 117, 109, 112, 101, 100, 32, 105, 110, 116, 111, 32, 116, 104, 101, 32, 119, 97, 108, 108]\n"
     ]
    }
   ],
   "source": [
    "#94****convert byte string to integer list\n",
    "\n",
    "#Solution 2\n",
    "S=\"The quick brown fox jumped into the wall\"\n",
    "print(\"Original String \")\n",
    "print(S)\n",
    "nums=[]\n",
    "print(\"Convert bytes of string into integers: \")\n",
    "for chr in S:\n",
    "    nums.append(ord(chr))#USE of ORD Function\n",
    "print(nums)"
   ]
  },
  {
   "cell_type": "code",
   "execution_count": 59,
   "id": "00944cfa",
   "metadata": {},
   "outputs": [
    {
     "name": "stdout",
     "output_type": "stream",
     "text": [
      "Not Numeric\n",
      "Numeric\n"
     ]
    }
   ],
   "source": [
    "#95 **** Check string is numeric or not\n",
    "#solution-1\n",
    "str1='a123.001'\n",
    "str2='123'\n",
    "\n",
    "try:\n",
    "    i=float(str1)\n",
    "except(ValueError,TypeError):\n",
    "    print(\"Not Numeric\")\n",
    "print(\"\")"
   ]
  },
  {
   "cell_type": "code",
   "execution_count": 61,
   "id": "7ca386ea",
   "metadata": {},
   "outputs": [
    {
     "name": "stdout",
     "output_type": "stream",
     "text": [
      "Input words or numbers: kbc\n",
      "input value is string\n"
     ]
    }
   ],
   "source": [
    "#95 **** Check string is numeric or not\n",
    "#solution-2 doe not work for float\n",
    "text=input(\"Input words or numbers: \")\n",
    "if text.isdigit():\n",
    "    print(\"Input value is numbers\")\n",
    "else:\n",
    "    print(\"input value is string\")"
   ]
  },
  {
   "cell_type": "code",
   "execution_count": 62,
   "id": "0fbbbfdd",
   "metadata": {},
   "outputs": [
    {
     "name": "stdout",
     "output_type": "stream",
     "text": [
      "\n",
      "\n"
     ]
    },
    {
     "name": "stderr",
     "output_type": "stream",
     "text": [
      "  File \"C:\\Users\\przir\\anaconda3\\lib\\runpy.py\", line 197, in _run_module_as_main\n",
      "    return _run_code(code, main_globals, None,\n",
      "  File \"C:\\Users\\przir\\anaconda3\\lib\\runpy.py\", line 87, in _run_code\n",
      "    exec(code, run_globals)\n",
      "  File \"C:\\Users\\przir\\anaconda3\\lib\\site-packages\\ipykernel_launcher.py\", line 16, in <module>\n",
      "    app.launch_new_instance()\n",
      "  File \"C:\\Users\\przir\\anaconda3\\lib\\site-packages\\traitlets\\config\\application.py\", line 846, in launch_instance\n",
      "    app.start()\n",
      "  File \"C:\\Users\\przir\\anaconda3\\lib\\site-packages\\ipykernel\\kernelapp.py\", line 677, in start\n",
      "    self.io_loop.start()\n",
      "  File \"C:\\Users\\przir\\anaconda3\\lib\\site-packages\\tornado\\platform\\asyncio.py\", line 199, in start\n",
      "    self.asyncio_loop.run_forever()\n",
      "  File \"C:\\Users\\przir\\anaconda3\\lib\\asyncio\\base_events.py\", line 596, in run_forever\n",
      "    self._run_once()\n",
      "  File \"C:\\Users\\przir\\anaconda3\\lib\\asyncio\\base_events.py\", line 1890, in _run_once\n",
      "    handle._run()\n",
      "  File \"C:\\Users\\przir\\anaconda3\\lib\\asyncio\\events.py\", line 80, in _run\n",
      "    self._context.run(self._callback, *self._args)\n",
      "  File \"C:\\Users\\przir\\anaconda3\\lib\\site-packages\\ipykernel\\kernelbase.py\", line 457, in dispatch_queue\n",
      "    await self.process_one()\n",
      "  File \"C:\\Users\\przir\\anaconda3\\lib\\site-packages\\ipykernel\\kernelbase.py\", line 446, in process_one\n",
      "    await dispatch(*args)\n",
      "  File \"C:\\Users\\przir\\anaconda3\\lib\\site-packages\\ipykernel\\kernelbase.py\", line 353, in dispatch_shell\n",
      "    await result\n",
      "  File \"C:\\Users\\przir\\anaconda3\\lib\\site-packages\\ipykernel\\kernelbase.py\", line 648, in execute_request\n",
      "    reply_content = await reply_content\n",
      "  File \"C:\\Users\\przir\\anaconda3\\lib\\site-packages\\ipykernel\\ipkernel.py\", line 353, in do_execute\n",
      "    res = shell.run_cell(code, store_history=store_history, silent=silent)\n",
      "  File \"C:\\Users\\przir\\anaconda3\\lib\\site-packages\\ipykernel\\zmqshell.py\", line 533, in run_cell\n",
      "    return super(ZMQInteractiveShell, self).run_cell(*args, **kwargs)\n",
      "  File \"C:\\Users\\przir\\anaconda3\\lib\\site-packages\\IPython\\core\\interactiveshell.py\", line 2901, in run_cell\n",
      "    result = self._run_cell(\n",
      "  File \"C:\\Users\\przir\\anaconda3\\lib\\site-packages\\IPython\\core\\interactiveshell.py\", line 2947, in _run_cell\n",
      "    return runner(coro)\n",
      "  File \"C:\\Users\\przir\\anaconda3\\lib\\site-packages\\IPython\\core\\async_helpers.py\", line 68, in _pseudo_sync_runner\n",
      "    coro.send(None)\n",
      "  File \"C:\\Users\\przir\\anaconda3\\lib\\site-packages\\IPython\\core\\interactiveshell.py\", line 3172, in run_cell_async\n",
      "    has_raised = await self.run_ast_nodes(code_ast.body, cell_name,\n",
      "  File \"C:\\Users\\przir\\anaconda3\\lib\\site-packages\\IPython\\core\\interactiveshell.py\", line 3364, in run_ast_nodes\n",
      "    if (await self.run_code(code, result,  async_=asy)):\n",
      "  File \"C:\\Users\\przir\\anaconda3\\lib\\site-packages\\IPython\\core\\interactiveshell.py\", line 3444, in run_code\n",
      "    exec(code_obj, self.user_global_ns, self.user_ns)\n",
      "  File \"C:\\Users\\przir\\AppData\\Local\\Temp/ipykernel_9308/2708431505.py\", line 8, in <module>\n",
      "    f1()\n",
      "  File \"C:\\Users\\przir\\AppData\\Local\\Temp/ipykernel_9308/2708431505.py\", line 5, in f1\n",
      "    return abc()\n",
      "  File \"C:\\Users\\przir\\AppData\\Local\\Temp/ipykernel_9308/2708431505.py\", line 7, in abc\n",
      "    traceback.print_stack()\n"
     ]
    }
   ],
   "source": [
    "#96\n",
    "import traceback\n",
    "print()\n",
    "def f1():\n",
    "    return abc()\n",
    "def abc():\n",
    "    traceback.print_stack()\n",
    "f1()\n",
    "print()"
   ]
  },
  {
   "cell_type": "code",
   "execution_count": 63,
   "id": "392feae7",
   "metadata": {},
   "outputs": [
    {
     "name": "stdout",
     "output_type": "stream",
     "text": [
      "\n",
      "ArithmeticError AssertionError AttributeError BaseException BlockingIOError BrokenPipeError BufferError BytesWarning\n",
      "ChildProcessError ConnectionAbortedError ConnectionError ConnectionRefusedError ConnectionResetError DeprecationWarning EOFError Ellipsis\n",
      "EnvironmentError Exception False FileExistsError FileNotFoundError FloatingPointError FutureWarning GeneratorExit\n",
      "IOError ImportError ImportWarning In IndentationError IndexError InterruptedError IsADirectoryError\n",
      "KeyError KeyboardInterrupt LookupError MemoryError ModuleNotFoundError NameError None NotADirectoryError\n",
      "NotImplemented NotImplementedError OSError Out OverflowError PendingDeprecationWarning PermissionError ProcessLookupError\n",
      "RecursionError ReferenceError ResourceWarning RuntimeError RuntimeWarning S StopAsyncIteration StopIteration\n",
      "SyntaxError SyntaxWarning SystemError SystemExit TabError TimeoutError True TypeError\n",
      "UnboundLocalError UnicodeDecodeError UnicodeEncodeError UnicodeError UnicodeTranslateError UnicodeWarning UserWarning ValueError\n",
      "Warning WindowsError ZeroDivisionError _36 __ __IPYTHON__ ___ __build_class__\n",
      "__builtin__ __builtins__ __debug__ __doc__ __import__ __loader__ __name__ __package__\n",
      "__spec__ _dh _i _i1 _i10 _i11 _i12 _i13\n",
      "_i14 _i15 _i16 _i17 _i18 _i19 _i2 _i20\n",
      "_i21 _i22 _i23 _i24 _i25 _i26 _i27 _i28\n",
      "_i29 _i3 _i30 _i31 _i32 _i33 _i34 _i35\n",
      "_i36 _i37 _i38 _i39 _i4 _i40 _i41 _i42\n",
      "_i43 _i44 _i45 _i46 _i47 _i48 _i49 _i5\n",
      "_i50 _i51 _i52 _i53 _i54 _i55 _i56 _i57\n",
      "_i58 _i59 _i6 _i60 _i61 _i62 _i63 _i7\n",
      "_i8 _i9 _ih _ii _iii _oh abc abs\n",
      "all any ascii bin bool breakpoint bytearray bytes\n",
      "callable charCountStr chr classmethod compile complex condTest copyright\n",
      "credits delattr dict dir display divmod enumerate eval\n",
      "exec execfile exit f1 file_copy filter float format\n",
      "frozenset get_ipython getattr globals hasattr hash help hex\n",
      "id input int isinstance issubclass iter len license\n",
      "list locals map max memoryview min next num\n",
      "numComp nums object oct open ord os path\n",
      "pow print property quit range repr reversed round\n",
      "runfile s set setattr slice sorted staticmethod str\n",
      "str1 str2 sum sumOfNum super temp text traceback\n",
      "tuple type vars x y zip\n",
      "\n"
     ]
    }
   ],
   "source": [
    "#97\n",
    "\n",
    "s_var_names = sorted((set(globals().keys()) | set(__builtins__.__dict__.keys())) - set('_ names i'.split()))\n",
    "print()\n",
    "print( '\\n'.join(' '.join(s_var_names[i:i+8]) for i in range(0, len(s_var_names), 8)) )\n",
    "print()"
   ]
  },
  {
   "cell_type": "code",
   "execution_count": 64,
   "id": "b903695f",
   "metadata": {},
   "outputs": [
    {
     "name": "stdout",
     "output_type": "stream",
     "text": [
      "\n",
      "Thu May  5 19:56:31 2022\n",
      "\n"
     ]
    }
   ],
   "source": [
    "#98****System time\n",
    "#solution-1\n",
    "import time\n",
    "print()\n",
    "print(time.ctime())\n",
    "print()"
   ]
  },
  {
   "cell_type": "code",
   "execution_count": 65,
   "id": "8fb30319",
   "metadata": {},
   "outputs": [
    {
     "name": "stdout",
     "output_type": "stream",
     "text": [
      "2022-05-05 19:57:27.787800\n"
     ]
    }
   ],
   "source": [
    "#98****System time\n",
    "#solution-2\n",
    "\n",
    "import datetime\n",
    "print(datetime.datetime.now())"
   ]
  },
  {
   "cell_type": "code",
   "execution_count": 66,
   "id": "8e34bd3b",
   "metadata": {},
   "outputs": [
    {
     "name": "stdout",
     "output_type": "stream",
     "text": [
      "HostName:  LAPTOP-SOUD7UOF\n"
     ]
    }
   ],
   "source": [
    "#99\n",
    "#100 Solution-1\n",
    "import socket\n",
    "host_name=socket.gethostname()\n",
    "print(\"HostName: \",host_name)"
   ]
  },
  {
   "cell_type": "code",
   "execution_count": 67,
   "id": "0da29d11",
   "metadata": {},
   "outputs": [
    {
     "name": "stdout",
     "output_type": "stream",
     "text": [
      "b'<!doctype html>\\n<html>\\n<head>\\n    <title>Example Domain</title>\\n\\n    <meta charset=\"utf-8\" />\\n    <meta http-equiv=\"Content-type\" content=\"text/html; charset=utf-8\" />\\n    <meta name=\"viewport\" content=\"width=device-width, initial-scale=1\" />\\n    <style type=\"text/css\">\\n    body {\\n        background-color: #f0f0f2;\\n        margin: 0;\\n        padding: 0;\\n        font-family: -apple-system, system-ui, BlinkMacSystemFont, \"Segoe UI\", \"Open Sans\", \"Helvetica Neue\", Helvetica, Arial, sans-serif;\\n        \\n    }\\n    div {\\n        width: 600px;\\n        margin: 5em auto;\\n        padding: 2em;\\n        background-color: #fdfdff;\\n        border-radius: 0.5em;\\n        box-shadow: 2px 3px 7px 2px rgba(0,0,0,0.02);\\n    }\\n    a:link, a:visited {\\n        color: #38488f;\\n        text-decoration: none;\\n    }\\n    @media (max-width: 700px) {\\n        div {\\n            margin: 0 auto;\\n            width: auto;\\n        }\\n    }\\n    </style>    \\n</head>\\n\\n<body>\\n<div>\\n    <h1>Example Domain</h1>\\n    <p>This domain is for use in illustrative examples in documents. You may use this\\n    domain in literature without prior coordination or asking for permission.</p>\\n    <p><a href=\"https://www.iana.org/domains/example\">More information...</a></p>\\n</div>\\n</body>\\n</html>\\n'\n"
     ]
    }
   ],
   "source": [
    "#101\n",
    "from http.client import HTTPConnection\n",
    "conn = HTTPConnection(\"example.com\")\n",
    "conn.request(\"GET\", \"/\")  \n",
    "result = conn.getresponse()\n",
    "# retrieves the entire contents.  \n",
    "contents = result.read() \n",
    "print(contents)"
   ]
  },
  {
   "cell_type": "code",
   "execution_count": 68,
   "id": "c77b1053",
   "metadata": {},
   "outputs": [
    {
     "name": "stdout",
     "output_type": "stream",
     "text": [
      "<!doctype html><html itemscope=\"\" itemtype=\"http://schema.org/WebPage\" lang=\"en\"><head><meta content=\"Search the world's information, including webpages, images, videos and more. Google has many special features to help you find exactly what you're looking for.\" name=\"description\"><meta content=\"noodp\" name=\"robots\"><meta content=\"text/html; charset=UTF-8\" http-equiv=\"Content-Type\"><meta content=\"/images/branding/googleg/1x/googleg_standard_color_128dp.png\" itemprop=\"image\"><title>Google</title><script nonce=\"sGNfqEQSt7hGzpgEXDh3-g\">(function(){window.google={kEI:'rGZ0YpOCEqKYptQPlNSouAc',kEXPI:'0,1302536,56873,1709,4350,206,2414,2390,926,1390,383,246,5,1354,4013,1238,1122515,1197697,697,380097,16114,19398,9286,17572,4859,1361,9290,3028,17581,4020,978,13228,3847,4192,6430,22741,5081,1593,1279,2742,149,1103,840,1983,4314,3514,606,2023,1777,520,14670,3227,2845,7,5599,11851,7539,4086,4695,1851,6397,8927,432,3,346,1244,1,5444,804,10668,2652,4,1528,2304,923,6116,22023,3050,2658,7356,13659,2980,1457,9358,5993,1435,5791,2566,4094,4052,3,3541,1,11942,2321,448,27443,2,14022,1931,442,342,255,2993,2300,5853,11623,5679,1020,2379,2721,18260,1,8,7753,4568,6253,23424,830,422,5835,14967,4333,2204,2083,1803,1394,445,2,2,1,1385,2064,7341,166,6356,7314,153,1416,1,436,8155,6582,568,231,2,3,7,3030,859,7871,2908,2163,5178,2621,782,1,8,1035,11937,770,265,846,3738,1921,1632,8,11,588,24,880,1391,2829,1764,789,488,1663,3,886,164,431,771,1008,1908,515,3,207,490,4,393,1029,3461,678,569,666,1511,386,1359,2645,643,201,747,2253,192,3,1,2,124,290,241,1184,56,284,40,77,2,3,7,376,608,325,899,1387,883,2441,15,10,557,5423867,2729,497,71,101,60,5994716,2801868,1326,3,1877,1,2562,1,748,141,795,6164,6751,155,17,13,72,139,4,2,20,2,169,13,19,46,5,39,644,29,2,2,1,2,1,2,2,7,4,1,2,2,2,2,2,2,1052,1,1,158,3,2,2,2,2,2,4,2,3,3,2011,1002,312,155,15,343,10,4,88,3,3,3,1,1,1,1,33,3,5,4,9,4,11,6,9,4,9,13,9,16,2,3,43,29,42,1,10,3,4,23650958,299809,2738463,1303679,1964,2935,159,1358,6902,2943,1136,1240,2129,1276',kBL:'R5aA'};google.sn='webhp';google.kHL='en';})();(function(){\n",
      "var f=this||self;var h,k=[];function l(a){for(var b;a&&(!a.getAttribute||!(b=a.getAttribute(\"eid\")));)a=a.parentNode;return b||h}function m(a){for(var b=null;a&&(!a.getAttribute||!(b=a.getAttribute(\"leid\")));)a=a.parentNode;return b}\n",
      "function n(a,b,c,d,g){var e=\"\";c||-1!==b.search(\"&ei=\")||(e=\"&ei=\"+l(d),-1===b.search(\"&lei=\")&&(d=m(d))&&(e+=\"&lei=\"+d));d=\"\";!c&&f._cshid&&-1===b.search(\"&cshid=\")&&\"slh\"!==a&&(d=\"&cshid=\"+f._cshid);c=c||\"/\"+(g||\"gen_204\")+\"?atyp=i&ct=\"+a+\"&cad=\"+b+e+\"&zx=\"+Date.now()+d;/^http:/i.test(c)&&\"https:\"===window.location.protocol&&(google.ml&&google.ml(Error(\"a\"),!1,{src:c,glmm:1}),c=\"\");return c};h=google.kEI;google.getEI=l;google.getLEI=m;google.ml=function(){return null};google.log=function(a,b,c,d,g){if(c=n(a,b,c,d,g)){a=new Image;var e=k.length;k[e]=a;a.onerror=a.onload=a.onabort=function(){delete k[e]};a.src=c}};google.logUrl=n;}).call(this);(function(){\n",
      "google.y={};google.sy=[];google.x=function(a,b){if(a)var c=a.id;else{do c=Math.random();while(google.y[c])}google.y[c]=[a,b];return!1};google.sx=function(a){google.sy.push(a)};google.lm=[];google.plm=function(a){google.lm.push.apply(google.lm,a)};google.lq=[];google.load=function(a,b,c){google.lq.push([[a],b,c])};google.loadAll=function(a,b){google.lq.push([a,b])};google.bx=!1;google.lx=function(){};}).call(this);google.f={};(function(){\n",
      "document.documentElement.addEventListener(\"submit\",function(b){var a;if(a=b.target){var c=a.getAttribute(\"data-submitfalse\");a=\"1\"===c||\"q\"===c&&!a.elements.q.value?!0:!1}else a=!1;a&&(b.preventDefault(),b.stopPropagation())},!0);document.documentElement.addEventListener(\"click\",function(b){var a;a:{for(a=b.target;a&&a!==document.documentElement;a=a.parentElement)if(\"A\"===a.tagName){a=\"1\"===a.getAttribute(\"data-nohref\");break a}a=!1}a&&b.preventDefault()},!0);}).call(this);</script><style>#gbar,#guser{font-size:13px;padding-top:1px !important;}#gbar{height:22px}#guser{padding-bottom:7px !important;text-align:right}.gbh,.gbd{border-top:1px solid #c9d7f1;font-size:1px}.gbh{height:0;position:absolute;top:24px;width:100%}@media all{.gb1{height:22px;margin-right:.5em;vertical-align:top}#gbar{float:left}}a.gb1,a.gb4{text-decoration:underline !important}a.gb1,a.gb4{color:#00c !important}.gbi .gb4{color:#dd8e27 !important}.gbf .gb4{color:#900 !important}\n",
      "</style><style>body,td,a,p,.h{font-family:arial,sans-serif}body{margin:0;overflow-y:scroll}#gog{padding:3px 8px 0}td{line-height:.8em}.gac_m td{line-height:17px}form{margin-bottom:20px}.h{color:#1558d6}em{font-weight:bold;font-style:normal}.lst{height:25px;width:496px}.gsfi,.lst{font:18px arial,sans-serif}.gsfs{font:17px arial,sans-serif}.ds{display:inline-box;display:inline-block;margin:3px 0 4px;margin-left:4px}input{font-family:inherit}body{background:#fff;color:#000}a{color:#4b11a8;text-decoration:none}a:hover,a:active{text-decoration:underline}.fl a{color:#1558d6}a:visited{color:#4b11a8}.sblc{padding-top:5px}.sblc a{display:block;margin:2px 0;margin-left:13px;font-size:11px}.lsbb{background:#f8f9fa;border:solid 1px;border-color:#dadce0 #70757a #70757a #dadce0;height:30px}.lsbb{display:block}#WqQANb a{display:inline-block;margin:0 12px}.lsb{background:url(/images/nav_logo229.png) 0 -261px repeat-x;border:none;color:#000;cursor:pointer;height:30px;margin:0;outline:0;font:15px arial,sans-serif;vertical-align:top}.lsb:active{background:#dadce0}.lst:focus{outline:none}</style><script nonce=\"sGNfqEQSt7hGzpgEXDh3-g\">(function(){window.google.erd={jsr:1,bv:1578,de:true};\n",
      "var f=this||self;var g,h=null!=(g=f.mei)?g:1,m,n=null!=(m=f.sdo)?m:!0,p=0,q,r=google.erd,u=r.jsr;google.ml=function(a,b,d,k,c){c=void 0===c?2:c;b&&(q=a&&a.message);if(google.dl)return google.dl(a,c,d),null;if(0>u){window.console&&console.error(a,d);if(-2===u)throw a;b=!1}else b=!a||!a.message||\"Error loading script\"===a.message||p>=h&&!k?!1:!0;if(!b)return null;p++;d=d||{};var e=c;c=encodeURIComponent;b=\"/gen_204?atyp=i&ei=\"+c(google.kEI);google.kEXPI&&(b+=\"&jexpid=\"+c(google.kEXPI));b+=\"&srcpg=\"+c(google.sn)+\"&jsr=\"+c(r.jsr)+\"&bver=\"+c(r.bv)+(\"&jsel=\"+e);e=a.lineNumber;void 0!==e&&(b+=\"&line=\"+\n",
      "e);var l=a.fileName;l&&(b+=\"&script=\"+c(l),e&&l===window.location.href&&(e=document.documentElement.outerHTML.split(\"\\n\")[e],b+=\"&cad=\"+c(e?e.substring(0,300):\"No script found.\")));for(var t in d)b+=\"&\",b+=c(t),b+=\"=\",b+=c(d[t]);b=b+\"&emsg=\"+c(a.name+\": \"+a.message);b=b+\"&jsst=\"+c(a.stack||\"N/A\");12288<=b.length&&(b=b.substr(0,12288));a=b;k||google.log(0,\"\",a);return a};window.onerror=function(a,b,d,k,c){q!==a&&(a=c instanceof Error?c:Error(a),void 0===d||\"lineNumber\"in a||(a.lineNumber=d),void 0===b||\"fileName\"in a||(a.fileName=b),google.ml(a,!1,void 0,!1,\"SyntaxError\"===a.name||\"SyntaxError\"===a.message.substring(0,11)?2:0));q=null;n&&p>=h&&(window.onerror=null)};})();</script></head><body bgcolor=\"#fff\"><script nonce=\"sGNfqEQSt7hGzpgEXDh3-g\">(function(){var src='/images/nav_logo229.png';var iesg=false;document.body.onload = function(){window.n && window.n();if (document.images){new Image().src=src;}\n",
      "if (!iesg){document.f&&document.f.q.focus();document.gbqf&&document.gbqf.q.focus();}\n",
      "}\n",
      "})();</script><div id=\"mngb\"><div id=gbar><nobr><b class=gb1>Search</b> <a class=gb1 href=\"https://www.google.com/imghp?hl=en&tab=wi\">Images</a> <a class=gb1 href=\"https://maps.google.com/maps?hl=en&tab=wl\">Maps</a> <a class=gb1 href=\"https://play.google.com/?hl=en&tab=w8\">Play</a> <a class=gb1 href=\"https://www.youtube.com/?gl=US&tab=w1\">YouTube</a> <a class=gb1 href=\"https://news.google.com/?tab=wn\">News</a> <a class=gb1 href=\"https://mail.google.com/mail/?tab=wm\">Gmail</a> <a class=gb1 href=\"https://drive.google.com/?tab=wo\">Drive</a> <a class=gb1 style=\"text-decoration:none\" href=\"https://www.google.com/intl/en/about/products?tab=wh\"><u>More</u> &raquo;</a></nobr></div><div id=guser width=100%><nobr><span id=gbn class=gbi></span><span id=gbf class=gbf></span><span id=gbe></span><a href=\"http://www.google.com/history/optout?hl=en\" class=gb4>Web History</a> | <a  href=\"/preferences?hl=en\" class=gb4>Settings</a> | <a target=_top id=gb_70 href=\"https://accounts.google.com/ServiceLogin?hl=en&passive=true&continue=https://www.google.com/&ec=GAZAAQ\" class=gb4>Sign in</a></nobr></div><div class=gbh style=left:0></div><div class=gbh style=right:0></div></div><center><br clear=\"all\" id=\"lgpd\"><div id=\"lga\"><img alt=\"Google\" height=\"92\" src=\"/images/branding/googlelogo/1x/googlelogo_white_background_color_272x92dp.png\" style=\"padding:28px 0 14px\" width=\"272\" id=\"hplogo\"><br><br></div><form action=\"/search\" name=\"f\"><table cellpadding=\"0\" cellspacing=\"0\"><tr valign=\"top\"><td width=\"25%\">&nbsp;</td><td align=\"center\" nowrap=\"\"><input name=\"ie\" value=\"ISO-8859-1\" type=\"hidden\"><input value=\"en\" name=\"hl\" type=\"hidden\"><input name=\"source\" type=\"hidden\" value=\"hp\"><input name=\"biw\" type=\"hidden\"><input name=\"bih\" type=\"hidden\"><div class=\"ds\" style=\"height:32px;margin:4px 0\"><input class=\"lst\" style=\"margin:0;padding:5px 8px 0 6px;vertical-align:top;color:#000\" autocomplete=\"off\" value=\"\" title=\"Google Search\" maxlength=\"2048\" name=\"q\" size=\"57\"></div><br style=\"line-height:0\"><span class=\"ds\"><span class=\"lsbb\"><input class=\"lsb\" value=\"Google Search\" name=\"btnG\" type=\"submit\"></span></span><span class=\"ds\"><span class=\"lsbb\"><input class=\"lsb\" id=\"tsuid1\" value=\"I'm Feeling Lucky\" name=\"btnI\" type=\"submit\"><script nonce=\"sGNfqEQSt7hGzpgEXDh3-g\">(function(){var id='tsuid1';document.getElementById(id).onclick = function(){if (this.form.q.value){this.checked = 1;if (this.form.iflsig)this.form.iflsig.disabled = false;}\n",
      "else top.location='/doodles/';};})();</script><input value=\"AJiK0e8AAAAAYnR0vD5lZ_U-dS9dKEFyfwAseNmoEL9_\" name=\"iflsig\" type=\"hidden\"></span></span></td><td class=\"fl sblc\" align=\"left\" nowrap=\"\" width=\"25%\"><a href=\"/advanced_search?hl=en&amp;authuser=0\">Advanced search</a></td></tr></table><input id=\"gbv\" name=\"gbv\" type=\"hidden\" value=\"1\"><script nonce=\"sGNfqEQSt7hGzpgEXDh3-g\">(function(){\n",
      "var a,b=\"1\";if(document&&document.getElementById)if(\"undefined\"!=typeof XMLHttpRequest)b=\"2\";else if(\"undefined\"!=typeof ActiveXObject){var c,d,e=[\"MSXML2.XMLHTTP.6.0\",\"MSXML2.XMLHTTP.3.0\",\"MSXML2.XMLHTTP\",\"Microsoft.XMLHTTP\"];for(c=0;d=e[c++];)try{new ActiveXObject(d),b=\"2\"}catch(h){}}a=b;if(\"2\"==a&&-1==location.search.indexOf(\"&gbv=2\")){var f=google.gbvu,g=document.getElementById(\"gbv\");g&&(g.value=a);f&&window.setTimeout(function(){location.href=f},0)};}).call(this);</script></form><div id=\"gac_scont\"></div><div style=\"font-size:83%;min-height:3.5em\"><br></div><span id=\"footer\"><div style=\"font-size:10pt\"><div style=\"margin:19px auto;text-align:center\" id=\"WqQANb\"><a href=\"/intl/en/ads/\">Advertising Programs</a><a href=\"/services/\">Business Solutions</a><a href=\"/intl/en/about.html\">About Google</a></div></div><p style=\"font-size:8pt;color:#70757a\">&copy; 2022 - <a href=\"/intl/en/policies/privacy/\">Privacy</a> - <a href=\"/intl/en/policies/terms/\">Terms</a></p></span></center><script nonce=\"sGNfqEQSt7hGzpgEXDh3-g\">(function(){window.google.cdo={height:757,width:1440};(function(){\n",
      "var a=window.innerWidth,b=window.innerHeight;if(!a||!b){var c=window.document,d=\"CSS1Compat\"==c.compatMode?c.documentElement:c.body;a=d.clientWidth;b=d.clientHeight}a&&b&&(a!=google.cdo.width||b!=google.cdo.height)&&google.log(\"\",\"\",\"/client_204?&atyp=i&biw=\"+a+\"&bih=\"+b+\"&ei=\"+google.kEI);}).call(this);})();</script> <script nonce=\"sGNfqEQSt7hGzpgEXDh3-g\">(function(){google.xjs={ck:'',cs:'',excm:[]};})();</script>  <script nonce=\"sGNfqEQSt7hGzpgEXDh3-g\">(function(){var u='/xjs/_/js/k\\x3dxjs.hp.en_US.LZDvaSbOQsg.O/am\\x3dAOAJAEACkA/d\\x3d1/ed\\x3d1/esmo\\x3d1/rs\\x3dACT90oHaBnq7zeEMXHmTj5PobfymvRgwEg/m\\x3dsb_he,d';\n",
      "var d=this||self,e=function(a){return a};var g;var l=function(a,b){this.g=b===h?a:\"\"};l.prototype.toString=function(){return this.g+\"\"};var h={};\n",
      "function n(){var a=u;google.lx=function(){p(a);google.lx=function(){}};google.bx||google.lx()}\n",
      "function p(a){google.timers&&google.timers.load&&google.tick&&google.tick(\"load\",\"xjsls\");var b=document;var c=\"SCRIPT\";\"application/xhtml+xml\"===b.contentType&&(c=c.toLowerCase());c=b.createElement(c);if(void 0===g){b=null;var k=d.trustedTypes;if(k&&k.createPolicy){try{b=k.createPolicy(\"goog#html\",{createHTML:e,createScript:e,createScriptURL:e})}catch(q){d.console&&d.console.error(q.message)}g=b}else g=b}a=(b=g)?b.createScriptURL(a):a;a=new l(a,h);c.src=a instanceof l&&a.constructor===l?a.g:\"type_error:TrustedResourceUrl\";var f,m;(f=(a=null==(m=(f=(c.ownerDocument&&c.ownerDocument.defaultView||window).document).querySelector)?void 0:m.call(f,\"script[nonce]\"))?a.nonce||a.getAttribute(\"nonce\")||\"\":\"\")&&c.setAttribute(\"nonce\",f);document.body.appendChild(c);google.psa=!0};google.xjsu=u;setTimeout(function(){n()},0);})();function _DumpException(e){throw e;}\n",
      "function _F_installCss(c){}\n",
      "(function(){google.jl={attn:false,blt:'none',chnk:0,dw:false,dwu:true,emtn:0,end:0,ine:false,injs:'none',injt:0,lls:'default',pdt:0,rep:0,snet:true,strt:0,ubm:false,uwp:true};})();(function(){var pmc='{\\x22d\\x22:{},\\x22sb_he\\x22:{\\x22agen\\x22:true,\\x22cgen\\x22:true,\\x22client\\x22:\\x22heirloom-hp\\x22,\\x22dh\\x22:true,\\x22dhqt\\x22:true,\\x22ds\\x22:\\x22\\x22,\\x22ffql\\x22:\\x22en\\x22,\\x22fl\\x22:true,\\x22host\\x22:\\x22google.com\\x22,\\x22isbh\\x22:28,\\x22jsonp\\x22:true,\\x22msgs\\x22:{\\x22cibl\\x22:\\x22Clear Search\\x22,\\x22dym\\x22:\\x22Did you mean:\\x22,\\x22lcky\\x22:\\x22I\\\\u0026#39;m Feeling Lucky\\x22,\\x22lml\\x22:\\x22Learn more\\x22,\\x22oskt\\x22:\\x22Input tools\\x22,\\x22psrc\\x22:\\x22This search was removed from your \\\\u003Ca href\\x3d\\\\\\x22/history\\\\\\x22\\\\u003EWeb History\\\\u003C/a\\\\u003E\\x22,\\x22psrl\\x22:\\x22Remove\\x22,\\x22sbit\\x22:\\x22Search by image\\x22,\\x22srch\\x22:\\x22Google Search\\x22},\\x22ovr\\x22:{},\\x22pq\\x22:\\x22\\x22,\\x22refpd\\x22:true,\\x22rfs\\x22:[],\\x22sbas\\x22:\\x220 3px 8px 0 rgba(0,0,0,0.2),0 0 0 1px rgba(0,0,0,0.08)\\x22,\\x22sbpl\\x22:16,\\x22sbpr\\x22:16,\\x22scd\\x22:10,\\x22stok\\x22:\\x22lzSJmWOGKgQ-RhuoWSc8HBL3Zbs\\x22,\\x22uhde\\x22:false}}';google.pmc=JSON.parse(pmc);})();</script>        </body></html>\n"
     ]
    }
   ],
   "source": [
    "#101\n",
    "import requests\n",
    "data = requests.get('https://google.com/')\n",
    "print(data.text)"
   ]
  },
  {
   "cell_type": "code",
   "execution_count": 69,
   "id": "2b8de1bb",
   "metadata": {},
   "outputs": [
    {
     "name": "stdout",
     "output_type": "stream",
     "text": [
      "dir command to list file and directory\n",
      " Volume in drive C is OS\n",
      " Volume Serial Number is 246C-D7CD\n",
      "\n",
      " Directory of C:\\Users\\przir\n",
      "\n",
      "05/05/2022  08:07 PM    <DIR>          .\n",
      "05/05/2022  08:07 PM    <DIR>          ..\n",
      "04/23/2022  02:52 PM    <DIR>          .anaconda\n",
      "04/23/2022  02:52 PM    <DIR>          .astropy\n",
      "05/01/2022  08:09 PM    <DIR>          .conda\n",
      "04/18/2022  12:28 PM                25 .condarc\n",
      "04/18/2022  12:28 PM    <DIR>          .continuum\n",
      "04/23/2022  08:53 AM    <DIR>          .ipynb_checkpoints\n",
      "04/18/2022  12:29 PM    <DIR>          .ipython\n",
      "04/18/2022  12:28 PM    <DIR>          .jupyter\n",
      "04/23/2022  02:52 PM    <DIR>          .matplotlib\n",
      "04/23/2022  02:53 PM    <DIR>          .spyder-py3\n",
      "12/24/2021  04:10 PM    <DIR>          3D Objects\n",
      "04/18/2022  12:23 PM    <DIR>          anaconda3\n",
      "12/24/2021  04:10 PM    <DIR>          Contacts\n",
      "12/06/2021  04:15 PM    <DIR>          Documents\n",
      "05/01/2022  01:19 PM    <DIR>          Downloads\n",
      "12/24/2021  04:10 PM    <DIR>          Favorites\n",
      "04/18/2022  12:36 PM             1,867 First_prgm.ipynb\n",
      "12/24/2021  04:10 PM    <DIR>          Links\n",
      "12/24/2021  04:10 PM    <DIR>          Music\n",
      "04/21/2022  08:34 PM    <DIR>          OneDrive\n",
      "12/24/2021  04:10 PM    <DIR>          Saved Games\n",
      "12/24/2021  04:10 PM    <DIR>          Searches\n",
      "04/18/2022  12:29 PM                72 Untitled.ipynb\n",
      "04/19/2022  11:01 AM             1,029 Untitled1.ipynb\n",
      "04/23/2022  08:52 AM             1,223 Untitled2.ipynb\n",
      "12/24/2021  04:10 PM    <DIR>          Videos\n",
      "04/23/2022  08:49 AM            44,531 W3S_Exc_Basic_1.ipynb\n",
      "05/05/2022  08:07 PM            80,234 W3S_Exc_Basic_1_2.ipynb\n",
      "               7 File(s)        128,981 bytes\n",
      "              23 Dir(s)  14,567,956,480 bytes free\n",
      "\n"
     ]
    }
   ],
   "source": [
    "#102\n",
    "import subprocess\n",
    "# file and directory listing\n",
    "returned_text = subprocess.check_output(\"dir\", shell=True, universal_newlines=True)\n",
    "print(\"dir command to list file and directory\")\n",
    "print(returned_text)"
   ]
  },
  {
   "cell_type": "code",
   "execution_count": 70,
   "id": "ce9346ec",
   "metadata": {},
   "outputs": [
    {
     "name": "stdout",
     "output_type": "stream",
     "text": [
      "\n",
      "Data Science\n"
     ]
    }
   ],
   "source": [
    "#103 **** Exact filename form a given path\n",
    "import os\n",
    "print()\n",
    "print(os.path.basename('/Users/przir/OneDrive/Desktop/Data Science'))"
   ]
  },
  {
   "cell_type": "code",
   "execution_count": 71,
   "id": "27c9630c",
   "metadata": {},
   "outputs": [
    {
     "ename": "AttributeError",
     "evalue": "module 'os' has no attribute 'getegid'",
     "output_type": "error",
     "traceback": [
      "\u001b[1;31m---------------------------------------------------------------------------\u001b[0m",
      "\u001b[1;31mAttributeError\u001b[0m                            Traceback (most recent call last)",
      "\u001b[1;32m~\\AppData\\Local\\Temp/ipykernel_9308/849918924.py\u001b[0m in \u001b[0;36m<module>\u001b[1;34m\u001b[0m\n\u001b[0;32m      1\u001b[0m \u001b[1;31m#104\u001b[0m\u001b[1;33m\u001b[0m\u001b[1;33m\u001b[0m\u001b[0m\n\u001b[0;32m      2\u001b[0m \u001b[1;32mimport\u001b[0m \u001b[0mos\u001b[0m\u001b[1;33m\u001b[0m\u001b[1;33m\u001b[0m\u001b[0m\n\u001b[1;32m----> 3\u001b[1;33m \u001b[0mprint\u001b[0m\u001b[1;33m(\u001b[0m\u001b[1;34m\"\\nEffective group id: \"\u001b[0m\u001b[1;33m,\u001b[0m\u001b[0mos\u001b[0m\u001b[1;33m.\u001b[0m\u001b[0mgetegid\u001b[0m\u001b[1;33m(\u001b[0m\u001b[1;33m)\u001b[0m\u001b[1;33m)\u001b[0m\u001b[1;33m\u001b[0m\u001b[1;33m\u001b[0m\u001b[0m\n\u001b[0m\u001b[0;32m      4\u001b[0m \u001b[0mprint\u001b[0m\u001b[1;33m(\u001b[0m\u001b[1;34m\"Effective user id: \"\u001b[0m\u001b[1;33m,\u001b[0m\u001b[0mos\u001b[0m\u001b[1;33m.\u001b[0m\u001b[0mgeteuid\u001b[0m\u001b[1;33m(\u001b[0m\u001b[1;33m)\u001b[0m\u001b[1;33m)\u001b[0m\u001b[1;33m\u001b[0m\u001b[1;33m\u001b[0m\u001b[0m\n\u001b[0;32m      5\u001b[0m \u001b[0mprint\u001b[0m\u001b[1;33m(\u001b[0m\u001b[1;34m\"Real group id: \"\u001b[0m\u001b[1;33m,\u001b[0m\u001b[0mos\u001b[0m\u001b[1;33m.\u001b[0m\u001b[0mgetgid\u001b[0m\u001b[1;33m(\u001b[0m\u001b[1;33m)\u001b[0m\u001b[1;33m)\u001b[0m\u001b[1;33m\u001b[0m\u001b[1;33m\u001b[0m\u001b[0m\n",
      "\u001b[1;31mAttributeError\u001b[0m: module 'os' has no attribute 'getegid'"
     ]
    }
   ],
   "source": [
    "#104\n",
    "import os\n",
    "print(\"\\nEffective group id: \",os.getegid())\n",
    "print(\"Effective user id: \",os.geteuid())\n",
    "print(\"Real group id: \",os.getgid())\n",
    "print(\"List of supplemental group ids: \",os.getgroups())\n",
    "print()"
   ]
  },
  {
   "cell_type": "code",
   "execution_count": 72,
   "id": "8f034983",
   "metadata": {},
   "outputs": [
    {
     "name": "stdout",
     "output_type": "stream",
     "text": [
      "environ({'ALLUSERSPROFILE': 'C:\\\\ProgramData', 'APPDATA': 'C:\\\\Users\\\\przir\\\\AppData\\\\Roaming', 'COMMONPROGRAMFILES': 'C:\\\\Program Files\\\\Common Files', 'COMMONPROGRAMFILES(X86)': 'C:\\\\Program Files (x86)\\\\Common Files', 'COMMONPROGRAMW6432': 'C:\\\\Program Files\\\\Common Files', 'COMPUTERNAME': 'LAPTOP-SOUD7UOF', 'COMSPEC': 'C:\\\\WINDOWS\\\\system32\\\\cmd.exe', 'CONDA_DEFAULT_ENV': 'base', 'CONDA_EXE': 'C:\\\\Users\\\\przir\\\\anaconda3\\\\Scripts\\\\conda.exe', 'CONDA_PROMPT_MODIFIER': '(base) ', 'CONDA_PYTHON_EXE': 'C:\\\\Users\\\\przir\\\\anaconda3\\\\python.exe', 'CONDA_SHLVL': '1', 'DRIVERDATA': 'C:\\\\Windows\\\\System32\\\\Drivers\\\\DriverData', 'FPS_BROWSER_APP_PROFILE_STRING': 'Internet Explorer', 'FPS_BROWSER_USER_PROFILE_STRING': 'Default', 'HOMEDRIVE': 'C:', 'HOMEPATH': '\\\\Users\\\\przir', 'LOCALAPPDATA': 'C:\\\\Users\\\\przir\\\\AppData\\\\Local', 'LOGONSERVER': '\\\\\\\\LAPTOP-SOUD7UOF', 'NUMBER_OF_PROCESSORS': '2', 'ONEDRIVE': 'C:\\\\Users\\\\przir\\\\OneDrive', 'ONEDRIVECONSUMER': 'C:\\\\Users\\\\przir\\\\OneDrive', 'OS': 'Windows_NT', 'PATH': 'C:\\\\Users\\\\przir\\\\anaconda3;C:\\\\Users\\\\przir\\\\anaconda3\\\\Library\\\\mingw-w64\\\\bin;C:\\\\Users\\\\przir\\\\anaconda3\\\\Library\\\\usr\\\\bin;C:\\\\Users\\\\przir\\\\anaconda3\\\\Library\\\\bin;C:\\\\Users\\\\przir\\\\anaconda3\\\\Scripts;C:\\\\Users\\\\przir\\\\anaconda3\\\\bin;C:\\\\Users\\\\przir\\\\anaconda3\\\\condabin;C:\\\\Users\\\\przir\\\\anaconda3;C:\\\\Users\\\\przir\\\\anaconda3\\\\Library\\\\mingw-w64\\\\bin;C:\\\\Users\\\\przir\\\\anaconda3\\\\Library\\\\usr\\\\bin;C:\\\\Users\\\\przir\\\\anaconda3\\\\Library\\\\bin;C:\\\\Users\\\\przir\\\\anaconda3\\\\Scripts;C:\\\\WINDOWS\\\\system32;C:\\\\WINDOWS;C:\\\\WINDOWS\\\\System32\\\\Wbem;C:\\\\WINDOWS\\\\System32\\\\WindowsPowerShell\\\\v1.0;C:\\\\WINDOWS\\\\System32\\\\OpenSSH;C:\\\\Users\\\\przir\\\\AppData\\\\Local\\\\Programs\\\\Python\\\\Python310\\\\Scripts;C:\\\\Users\\\\przir\\\\AppData\\\\Local\\\\Programs\\\\Python\\\\Python310;C:\\\\Users\\\\przir\\\\AppData\\\\Local\\\\Microsoft\\\\WindowsApps;.', 'PATHEXT': '.COM;.EXE;.BAT;.CMD;.VBS;.VBE;.JS;.JSE;.WSF;.WSH;.MSC', 'PROCESSOR_ARCHITECTURE': 'AMD64', 'PROCESSOR_IDENTIFIER': 'Intel64 Family 6 Model 122 Stepping 1, GenuineIntel', 'PROCESSOR_LEVEL': '6', 'PROCESSOR_REVISION': '7a01', 'PROGRAMDATA': 'C:\\\\ProgramData', 'PROGRAMFILES': 'C:\\\\Program Files', 'PROGRAMFILES(X86)': 'C:\\\\Program Files (x86)', 'PROGRAMW6432': 'C:\\\\Program Files', 'PROMPT': '(base) $P$G', 'PSMODULEPATH': 'C:\\\\Program Files\\\\WindowsPowerShell\\\\Modules;C:\\\\WINDOWS\\\\system32\\\\WindowsPowerShell\\\\v1.0\\\\Modules', 'PUBLIC': 'C:\\\\Users\\\\Public', 'SESSIONNAME': 'Console', 'SYSTEMDRIVE': 'C:', 'SYSTEMROOT': 'C:\\\\WINDOWS', 'TEMP': 'C:\\\\Users\\\\przir\\\\AppData\\\\Local\\\\Temp', 'TMP': 'C:\\\\Users\\\\przir\\\\AppData\\\\Local\\\\Temp', 'USERDOMAIN': 'LAPTOP-SOUD7UOF', 'USERDOMAIN_ROAMINGPROFILE': 'LAPTOP-SOUD7UOF', 'USERNAME': 'przir', 'USERPROFILE': 'C:\\\\Users\\\\przir', 'WINDIR': 'C:\\\\WINDOWS', 'CONDA_PREFIX': 'C:\\\\Users\\\\przir\\\\anaconda3', 'CONDA_ROOT': 'C:\\\\Users\\\\przir\\\\anaconda3', 'PYDEVD_USE_FRAME_EVAL': 'NO', 'JPY_INTERRUPT_EVENT': '2532', 'IPY_INTERRUPT_EVENT': '2532', 'JPY_PARENT_PID': '2620', 'TERM': 'xterm-color', 'CLICOLOR': '1', 'PAGER': 'cat', 'GIT_PAGER': 'cat', 'MPLBACKEND': 'module://matplotlib_inline.backend_inline'})\n"
     ]
    }
   ],
   "source": [
    "#105\n",
    "import os\n",
    "print(os.environ)"
   ]
  },
  {
   "cell_type": "code",
   "execution_count": 73,
   "id": "74db5ccb",
   "metadata": {},
   "outputs": [
    {
     "name": "stdout",
     "output_type": "stream",
     "text": [
      "\"test.txt\" : ('test', '.txt')\n",
      "\"filename\" : ('filename', '')\n",
      "\"/user/system/test.txt\" : ('/user/system/test', '.txt')\n",
      "\"/\" : ('/', '')\n",
      "\"\" : ('', '')\n"
     ]
    }
   ],
   "source": [
    "#106\n",
    "import os.path\n",
    "for path in [ 'test.txt', 'filename', '/user/system/test.txt', '/', '' ]:\n",
    "    print('\"%s\" :' % path, os.path.splitext(path))\n",
    "\t"
   ]
  },
  {
   "cell_type": "code",
   "execution_count": 76,
   "id": "e88b004a",
   "metadata": {},
   "outputs": [
    {
     "ename": "SyntaxError",
     "evalue": "invalid syntax (Temp/ipykernel_9308/818094709.py, line 5)",
     "output_type": "error",
     "traceback": [
      "\u001b[1;36m  File \u001b[1;32m\"C:\\Users\\przir\\AppData\\Local\\Temp/ipykernel_9308/818094709.py\"\u001b[1;36m, line \u001b[1;32m5\u001b[0m\n\u001b[1;33m    print('File         :',/Users/przir/OneDrive/Desktop/Data Science)\u001b[0m\n\u001b[1;37m                           ^\u001b[0m\n\u001b[1;31mSyntaxError\u001b[0m\u001b[1;31m:\u001b[0m invalid syntax\n"
     ]
    }
   ],
   "source": [
    "#107\n",
    "import os.path\n",
    "import time\n",
    "\n",
    "print('File         :'/Users/przir/OneDrive/Desktop/Data Science)\n",
    "print('Access time  :', time.ctime(os.path.getatime(__file__)))\n",
    "print('Modified time:', time.ctime(os.path.getmtime(__file__)))\n",
    "print('Change time  :', time.ctime(os.path.getctime(__file__)))\n",
    "print('Size         :', os.path.getsize(__file__))"
   ]
  },
  {
   "cell_type": "code",
   "execution_count": 77,
   "id": "9d5cfc51",
   "metadata": {},
   "outputs": [
    {
     "ename": "NameError",
     "evalue": "name '__file__' is not defined",
     "output_type": "error",
     "traceback": [
      "\u001b[1;31m---------------------------------------------------------------------------\u001b[0m",
      "\u001b[1;31mNameError\u001b[0m                                 Traceback (most recent call last)",
      "\u001b[1;32m~\\AppData\\Local\\Temp/ipykernel_9308/78028738.py\u001b[0m in \u001b[0;36m<module>\u001b[1;34m\u001b[0m\n\u001b[0;32m      2\u001b[0m \u001b[1;32mimport\u001b[0m \u001b[0mos\u001b[0m\u001b[1;33m.\u001b[0m\u001b[0mpath\u001b[0m\u001b[1;33m\u001b[0m\u001b[1;33m\u001b[0m\u001b[0m\n\u001b[0;32m      3\u001b[0m \u001b[1;33m\u001b[0m\u001b[0m\n\u001b[1;32m----> 4\u001b[1;33m \u001b[1;32mfor\u001b[0m \u001b[0mfile\u001b[0m \u001b[1;32min\u001b[0m \u001b[1;33m[\u001b[0m \u001b[0m__file__\u001b[0m\u001b[1;33m,\u001b[0m \u001b[0mos\u001b[0m\u001b[1;33m.\u001b[0m\u001b[0mpath\u001b[0m\u001b[1;33m.\u001b[0m\u001b[0mdirname\u001b[0m\u001b[1;33m(\u001b[0m\u001b[0m__file__\u001b[0m\u001b[1;33m)\u001b[0m\u001b[1;33m,\u001b[0m \u001b[1;34m'/'\u001b[0m\u001b[1;33m,\u001b[0m \u001b[1;34m'./broken_link'\u001b[0m\u001b[1;33m]\u001b[0m\u001b[1;33m:\u001b[0m\u001b[1;33m\u001b[0m\u001b[1;33m\u001b[0m\u001b[0m\n\u001b[0m\u001b[0;32m      5\u001b[0m     \u001b[0mprint\u001b[0m\u001b[1;33m(\u001b[0m\u001b[1;34m'File        :'\u001b[0m\u001b[1;33m,\u001b[0m \u001b[0mfile\u001b[0m\u001b[1;33m)\u001b[0m\u001b[1;33m\u001b[0m\u001b[1;33m\u001b[0m\u001b[0m\n\u001b[0;32m      6\u001b[0m     \u001b[0mprint\u001b[0m\u001b[1;33m(\u001b[0m\u001b[1;34m'Absolute    :'\u001b[0m\u001b[1;33m,\u001b[0m \u001b[0mos\u001b[0m\u001b[1;33m.\u001b[0m\u001b[0mpath\u001b[0m\u001b[1;33m.\u001b[0m\u001b[0misabs\u001b[0m\u001b[1;33m(\u001b[0m\u001b[0mfile\u001b[0m\u001b[1;33m)\u001b[0m\u001b[1;33m)\u001b[0m\u001b[1;33m\u001b[0m\u001b[1;33m\u001b[0m\u001b[0m\n",
      "\u001b[1;31mNameError\u001b[0m: name '__file__' is not defined"
     ]
    }
   ],
   "source": [
    "#108\n",
    "import os.path\n",
    "\n",
    "for file in [ __file__, os.path.dirname(__file__), '/', './broken_link']:\n",
    "    print('File        :', file)\n",
    "    print('Absolute    :', os.path.isabs(file))\n",
    "    print('Is File?    :', os.path.isfile(file))\n",
    "    print('Is Dir?     :', os.path.isdir(file))\n",
    "    print('Is Link?    :', os.path.islink(file))\n",
    "    print('Exists?     :', os.path.exists(file))\n",
    "    print('Link Exists?:', os.path.lexists(file))"
   ]
  },
  {
   "cell_type": "code",
   "execution_count": 78,
   "id": "ee7ba70e",
   "metadata": {},
   "outputs": [
    {
     "name": "stdout",
     "output_type": "stream",
     "text": [
      "Number is negative\n"
     ]
    }
   ],
   "source": [
    "#109\n",
    "def numCheck(n):\n",
    "    if n==0:\n",
    "        print(\"Number is zero\")\n",
    "    elif n>0:\n",
    "        print(\"Number is positive\")\n",
    "    else:\n",
    "        print(\"Number is negative\")\n",
    "        \n",
    "numCheck(-1)"
   ]
  },
  {
   "cell_type": "code",
   "execution_count": 79,
   "id": "fcf4609c",
   "metadata": {},
   "outputs": [
    {
     "name": "stdout",
     "output_type": "stream",
     "text": [
      "Input a number 3\n",
      "Number is positive \n"
     ]
    }
   ],
   "source": [
    "#109*****short if method\n",
    "#solution 2\n",
    "n=float(input('Input a number '))\n",
    "print('Number is positive ' if n>0 else 'Its zero 'if n==0 else 'number is negative')"
   ]
  },
  {
   "cell_type": "code",
   "execution_count": 89,
   "id": "612b6ef9",
   "metadata": {},
   "outputs": [
    {
     "name": "stdout",
     "output_type": "stream",
     "text": [
      "[25, 45, 5, 10]\n"
     ]
    }
   ],
   "source": [
    "#110*****anonymous function\n",
    "num_list=[25,23,45,12,5,10]\n",
    "\n",
    "result=list(filter(lambda x:(x%5==0),num_list))\n",
    "            \n",
    "print(result)"
   ]
  },
  {
   "cell_type": "code",
   "execution_count": 90,
   "id": "382f4870",
   "metadata": {},
   "outputs": [
    {
     "name": "stdout",
     "output_type": "stream",
     "text": [
      "['First_prgm.ipynb', 'NTUSER.DAT', 'ntuser.dat.LOG1', 'ntuser.dat.LOG2', 'NTUSER.DAT{53b39e88-18c4-11ea-a811-000d3aa4692b}.TM.blf', 'NTUSER.DAT{53b39e88-18c4-11ea-a811-000d3aa4692b}.TMContainer00000000000000000001.regtrans-ms', 'NTUSER.DAT{53b39e88-18c4-11ea-a811-000d3aa4692b}.TMContainer00000000000000000002.regtrans-ms', 'ntuser.ini', 'Untitled.ipynb', 'Untitled1.ipynb', 'Untitled2.ipynb', 'W3S_Exc_Basic_1.ipynb', 'W3S_Exc_Basic_1_2.ipynb']\n",
      "[]\n",
      "[]\n"
     ]
    }
   ],
   "source": [
    "#111\n",
    "import glob\n",
    "file_list = glob.glob('*.*')\n",
    "print(file_list)\n",
    "#Specific files\n",
    "print(glob.glob('*.py'))\n",
    "print(glob.glob('./[0-9].*'))"
   ]
  },
  {
   "cell_type": "code",
   "execution_count": 100,
   "id": "878bc2dd",
   "metadata": {},
   "outputs": [
    {
     "name": "stdout",
     "output_type": "stream",
     "text": [
      "[2, 3, 4, 6, 7, 8]\n",
      "[2, 3, 4, 6, 7]\n",
      "[3, 4, 6, 7]\n",
      "[4, 6, 7]\n"
     ]
    }
   ],
   "source": [
    "#112 ****List remove first item\n",
    "num_list=[2,3,4,6,7,8]\n",
    "print(num_list)\n",
    "num_list.pop()\n",
    "print(num_list)\n",
    "num_list.remove(2)\n",
    "print(num_list)\n",
    "del num_list[0]\n",
    "print(num_list)"
   ]
  },
  {
   "cell_type": "code",
   "execution_count": 111,
   "id": "1c47b3cd",
   "metadata": {},
   "outputs": [
    {
     "name": "stdout",
     "output_type": "stream",
     "text": [
      "Check if x is an integer!\n",
      "False\n"
     ]
    }
   ],
   "source": [
    "#113\n",
    "#Solution-1\n",
    "x = 1.23\n",
    "x_int = x.is_integer()\n",
    "print(\"Check if x is an integer!\")\n",
    "print(x_int)"
   ]
  },
  {
   "cell_type": "code",
   "execution_count": null,
   "id": "1224c705",
   "metadata": {},
   "outputs": [],
   "source": [
    "#113 ***** try catch block\n",
    "#Solution-2\n",
    "while True:\n",
    "    try:\n",
    "        a=int(input(\"input a number: \"))\n",
    "        break\n",
    "    except ValueError:\n",
    "        print(\"This is not a number: \")\n",
    "        print()"
   ]
  },
  {
   "cell_type": "code",
   "execution_count": null,
   "id": "5751039d",
   "metadata": {},
   "outputs": [],
   "source": [
    "#113\n",
    "#Solution-3\n",
    "x=1.0\n",
    "x_int=isinstance(x,int)\n",
    "print(\"Check if x is an integer! \")\n",
    "print(x_int)\n",
    "y=1\n",
    "y_int=isinstance(y,int)\n",
    "print(\"Check if y is an integer! \")\n",
    "print(y_int)\n"
   ]
  },
  {
   "cell_type": "code",
   "execution_count": null,
   "id": "c5a9d4d2",
   "metadata": {},
   "outputs": [],
   "source": []
  }
 ],
 "metadata": {
  "kernelspec": {
   "display_name": "Python 3 (ipykernel)",
   "language": "python",
   "name": "python3"
  },
  "language_info": {
   "codemirror_mode": {
    "name": "ipython",
    "version": 3
   },
   "file_extension": ".py",
   "mimetype": "text/x-python",
   "name": "python",
   "nbconvert_exporter": "python",
   "pygments_lexer": "ipython3",
   "version": "3.9.7"
  }
 },
 "nbformat": 4,
 "nbformat_minor": 5
}
