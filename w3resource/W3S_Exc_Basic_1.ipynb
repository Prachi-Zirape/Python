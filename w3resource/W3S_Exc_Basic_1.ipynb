{
 "cells": [
  {
   "cell_type": "code",
   "execution_count": 11,
   "id": "cbf32086",
   "metadata": {},
   "outputs": [
    {
     "name": "stdout",
     "output_type": "stream",
     "text": [
      "abcabc\n"
     ]
    }
   ],
   "source": [
    "#20*****for loop+range function\n",
    "def mulString(str1,n):\n",
    "    result=\"\"\n",
    "    for i in range(n):\n",
    "        result=result+str1\n",
    "    return result\n",
    "\n",
    "print(mulString(\"abc\",2))"
   ]
  },
  {
   "cell_type": "code",
   "execution_count": null,
   "id": "fba98df9",
   "metadata": {},
   "outputs": [],
   "source": [
    "#19******string index using cant use 0:2 but just :2\n",
    "def strMod(str1):\n",
    "    if str1[:2]==\"IS\":\n",
    "        return str1\n",
    "    else :\n",
    "        return \"IS\"+str1\n",
    "    \n",
    "    \n",
    "print(strMod(\"isswap\"))\n"
   ]
  },
  {
   "cell_type": "code",
   "execution_count": 42,
   "id": "eb992129",
   "metadata": {},
   "outputs": [
    {
     "name": "stdout",
     "output_type": "stream",
     "text": [
      "8\n"
     ]
    }
   ],
   "source": [
    "#18\n",
    "def sumThreeNum(a,b,c):\n",
    "    if a==b and b==c:\n",
    "        return a*3\n",
    "    else:\n",
    "        return a+b+c\n",
    "    \n",
    "print(sumThreeNum(2,2,4))"
   ]
  },
  {
   "cell_type": "code",
   "execution_count": 45,
   "id": "4d2f8db6",
   "metadata": {},
   "outputs": [
    {
     "name": "stdout",
     "output_type": "stream",
     "text": [
      "0\n"
     ]
    }
   ],
   "source": [
    "#17******\n",
    "def numRange(n):\n",
    "    if 1100 >n>900 or 2100>n>1900:\n",
    "        return 0\n",
    "    else:\n",
    "        return 1\n",
    "    \n",
    "print(numRange(1901))"
   ]
  },
  {
   "cell_type": "code",
   "execution_count": 46,
   "id": "b397db05",
   "metadata": {},
   "outputs": [
    {
     "name": "stdout",
     "output_type": "stream",
     "text": [
      "True\n"
     ]
    }
   ],
   "source": [
    "#17 Number could be floating too\n",
    "#use boolean protocol\n",
    "def near_thousand(n):\n",
    "    return((abs(1000-n)<=100) or (abs(2000-n)<=100)) \n",
    "\n",
    "print(near_thousand(900))"
   ]
  },
  {
   "cell_type": "code",
   "execution_count": 49,
   "id": "d3ffc49c",
   "metadata": {},
   "outputs": [
    {
     "name": "stdout",
     "output_type": "stream",
     "text": [
      "0\n"
     ]
    }
   ],
   "source": [
    "#16\n",
    "def diff(n):\n",
    "    sub=17-n\n",
    "    if sub>=0:\n",
    "        return sub\n",
    "    else:\n",
    "        return abs(sub)*2\n",
    "    \n",
    "print(diff(17))"
   ]
  },
  {
   "cell_type": "code",
   "execution_count": 52,
   "id": "d770e5fe",
   "metadata": {},
   "outputs": [
    {
     "name": "stdout",
     "output_type": "stream",
     "text": [
      "904.3199999999999\n"
     ]
    }
   ],
   "source": [
    "#15\n",
    "def vol_sph(r):\n",
    "    return 4/3*3.14*r**3\n",
    "print(vol_sph(6))"
   ]
  },
  {
   "cell_type": "code",
   "execution_count": 65,
   "id": "2649f706",
   "metadata": {},
   "outputs": [
    {
     "name": "stdout",
     "output_type": "stream",
     "text": [
      "10\n"
     ]
    }
   ],
   "source": [
    "#14*****date function\n",
    "from datetime import date \n",
    "delta= date(2014, 7, 11)-date(2014, 7, 1)\n",
    "print(delta.days)"
   ]
  },
  {
   "cell_type": "code",
   "execution_count": 66,
   "id": "20a5f16c",
   "metadata": {},
   "outputs": [
    {
     "name": "stdout",
     "output_type": "stream",
     "text": [
      "a string that you \"don't\" have to escape \n",
      "This \n",
      "is a ....multi-line \n",
      "heterodoc string\n"
     ]
    }
   ],
   "source": [
    "#13\n",
    "print(\"a string that you \\\"don\\'t\\\" have to escape \\nThis \\nis a ....multi-line \\nheterodoc string\")"
   ]
  },
  {
   "cell_type": "code",
   "execution_count": 76,
   "id": "67af103e",
   "metadata": {},
   "outputs": [
    {
     "name": "stdout",
     "output_type": "stream",
     "text": [
      "            April 2025\n",
      "\n",
      "Mon  Tue  Wed  Thu  Fri  Sat  Sun\n",
      "\n",
      "       1    2    3    4    5    6\n",
      "\n",
      "  7    8    9   10   11   12   13\n",
      "\n",
      " 14   15   16   17   18   19   20\n",
      "\n",
      " 21   22   23   24   25   26   27\n",
      "\n",
      " 28   29   30\n",
      "\n",
      "\n"
     ]
    }
   ],
   "source": [
    "#12****calendar function\n",
    "import calendar\n",
    "print(calendar.month(2025,4,4,2))\n"
   ]
  },
  {
   "cell_type": "code",
   "execution_count": 78,
   "id": "ca4b6fcd",
   "metadata": {},
   "outputs": [
    {
     "name": "stdout",
     "output_type": "stream",
     "text": [
      "Enter a number: 3\n",
      "1\n"
     ]
    }
   ],
   "source": [
    "#21****if loop\n",
    "def eveOdd(n):\n",
    "    if n%2==0:\n",
    "        return 0\n",
    "    else:\n",
    "        return 1\n",
    "    \n",
    "print(eveOdd(int(input(\"Enter a number: \"))))\n"
   ]
  },
  {
   "cell_type": "code",
   "execution_count": 82,
   "id": "ac53c50a",
   "metadata": {},
   "outputs": [
    {
     "name": "stdout",
     "output_type": "stream",
     "text": [
      "2\n"
     ]
    }
   ],
   "source": [
    "#22*****for loop\n",
    "def cntFour(list):\n",
    "    cnt=0\n",
    "    for n in (list):\n",
    "        if n==4:\n",
    "            cnt= cnt+1\n",
    "    return cnt\n",
    "        \n",
    "print(cntFour([1,2,4,5,6,4] ))"
   ]
  },
  {
   "cell_type": "code",
   "execution_count": 88,
   "id": "a28f4e16",
   "metadata": {},
   "outputs": [
    {
     "name": "stdout",
     "output_type": "stream",
     "text": [
      "ch\n",
      "ch\n",
      "ch\n"
     ]
    }
   ],
   "source": [
    "#23\n",
    "def strCopies(str1,n):\n",
    "    for i in range(n):\n",
    "        if len(str1)>2:\n",
    "            print(str1[:2])\n",
    "        else:\n",
    "            print(str1)\n",
    "            \n",
    "strCopies(\"chi\",3)"
   ]
  },
  {
   "cell_type": "code",
   "execution_count": 91,
   "id": "2fa56b0a",
   "metadata": {},
   "outputs": [
    {
     "name": "stdout",
     "output_type": "stream",
     "text": [
      "True\n"
     ]
    }
   ],
   "source": [
    "#24\n",
    "def vowel(char1):\n",
    "    if char1=='a' or char1=='e' or char1=='i' or char1=='o' or char1=='u':\n",
    "        return True\n",
    "    else:\n",
    "        return False\n",
    "print(vowel('a'))\n",
    "    "
   ]
  },
  {
   "cell_type": "code",
   "execution_count": 92,
   "id": "a84e7b4f",
   "metadata": {},
   "outputs": [
    {
     "name": "stdout",
     "output_type": "stream",
     "text": [
      "False\n",
      "True\n"
     ]
    }
   ],
   "source": [
    "#24*******\n",
    "def vowel1(char):\n",
    "    all_wovel='aeiou'\n",
    "    return char in all_wovel\n",
    "\n",
    "print(vowel1('d'))\n",
    "print(vowel1('a'))"
   ]
  },
  {
   "cell_type": "code",
   "execution_count": 97,
   "id": "98a5767c",
   "metadata": {},
   "outputs": [
    {
     "name": "stdout",
     "output_type": "stream",
     "text": [
      "False\n"
     ]
    }
   ],
   "source": [
    "#25\n",
    "def membership(n,lists):\n",
    "    if n in lists:\n",
    "        return True\n",
    "    else:\n",
    "        return False\n",
    "    \n",
    "print(membership(0,[1,5,8,3,6]))"
   ]
  },
  {
   "cell_type": "code",
   "execution_count": 110,
   "id": "c36983fc",
   "metadata": {},
   "outputs": [
    {
     "name": "stdout",
     "output_type": "stream",
     "text": [
      " @\n",
      " @@@@@\n",
      " @@@@\n",
      " @@@\n"
     ]
    }
   ],
   "source": [
    "#26************ while loop in for to print the character for number of times indexes of list\n",
    "def histo(ch,lists):\n",
    "    for i in lists:\n",
    "        output=\" \"\n",
    "        n=i\n",
    "        while (n>0):\n",
    "            output+=ch\n",
    "            n=n-1\n",
    "        print(output) \n",
    "    \n",
    "histo('@',[1,5,4,3])"
   ]
  },
  {
   "cell_type": "code",
   "execution_count": 122,
   "id": "a9b92956",
   "metadata": {},
   "outputs": [
    {
     "name": "stdout",
     "output_type": "stream",
     "text": [
      "1a2\n"
     ]
    }
   ],
   "source": [
    "#27************you cant directly prinnt from list need to use str function\n",
    "def concString(lists):\n",
    "    str1=''\n",
    "    for i in lists:\n",
    "        str1=str1+str(i)\n",
    "    return str1\n",
    "        \n",
    "print(concString([\"1a\",'2']))\n"
   ]
  },
  {
   "cell_type": "code",
   "execution_count": 128,
   "id": "8b0884e7",
   "metadata": {},
   "outputs": [
    {
     "name": "stdout",
     "output_type": "stream",
     "text": [
      "386\n",
      "462\n",
      "418\n",
      "344\n",
      "236\n",
      "566\n",
      "978\n",
      "328\n",
      "162\n",
      "758\n",
      "918\n",
      "237\n"
     ]
    }
   ],
   "source": [
    "#28*********Break statement used to spot given number and stop there also see how numbers in lists are printed not list[i] but \n",
    "#just an i\n",
    "\n",
    "def printList(lists):\n",
    "    for i in lists:\n",
    "       # while (lists[i]!=237):\n",
    "           # if lists[i]%2==0:\n",
    "            #    print(lists[i])\n",
    "        if i==237:\n",
    "            print(i)\n",
    "            break\n",
    "        elif i%2==0:\n",
    "            print(i)\n",
    "\n",
    "printList([386, 462, 47, 418, 907, 344, 236, 375, 823, 566, 597, 978, 328, 615, 953, 345, \n",
    "    399, 162, 758, 219, 918, 237, 412, 566, 826, 248, 866, 950, 626, 949, 687, 217, \n",
    "    815, 67, 104, 58, 512, 24, 892, 894, 767, 553, 81, 379, 843, 831, 445, 742, 717, \n",
    "    958,743, 527])\n",
    "    "
   ]
  },
  {
   "cell_type": "code",
   "execution_count": 131,
   "id": "422f8f5a",
   "metadata": {},
   "outputs": [
    {
     "name": "stdout",
     "output_type": "stream",
     "text": [
      "White\n",
      "Black\n"
     ]
    }
   ],
   "source": [
    "#29\n",
    "def listprinting(list1, list2):\n",
    "    for i in list1:\n",
    "        if i not in list2:\n",
    "            print(i)\n",
    "listprinting([\"White\", \"Black\", \"Red\"] ,[\"Red\", \"Green\"] )\n",
    "    "
   ]
  },
  {
   "cell_type": "code",
   "execution_count": 135,
   "id": "b5fbc7cf",
   "metadata": {},
   "outputs": [
    {
     "name": "stdout",
     "output_type": "stream",
     "text": [
      "White\n",
      "Fire\n"
     ]
    }
   ],
   "source": [
    "#29**********difference() function also it work in sequence only\n",
    "def listprinting1(list1, list2):\n",
    "    print(list1.difference(list2))\n",
    "    print(list2.difference(list1))\n",
    "    \n",
    "listprinting([\"White\", \"Fire\", \"Red\"] ,[\"Red\", \"Green\"] )"
   ]
  },
  {
   "cell_type": "code",
   "execution_count": 137,
   "id": "7b6e200c",
   "metadata": {},
   "outputs": [
    {
     "name": "stdout",
     "output_type": "stream",
     "text": [
      "please enter height of triangle \n",
      "12\n",
      "Please enter base of triangle \n",
      "6\n",
      "36.0\n"
     ]
    }
   ],
   "source": [
    "#30*********program accept input\n",
    "def areatri():\n",
    "    print(\"please enter height of triangle \")\n",
    "    h=int(input())\n",
    "    \n",
    "    print(\"Please enter base of triangle \")\n",
    "    b=int(input())\n",
    "    area=1/2 * h*b\n",
    "    \n",
    "    return area\n",
    "    \n",
    "print(areatri())"
   ]
  },
  {
   "cell_type": "code",
   "execution_count": 143,
   "id": "3fbabd1f",
   "metadata": {},
   "outputs": [
    {
     "name": "stdout",
     "output_type": "stream",
     "text": [
      "1\n"
     ]
    }
   ],
   "source": [
    "#31*****very very interesting case check all 3 solutions in W3Source\n",
    "#range function, euclidean method just for 2 and gcd function called\n",
    "def gcd(x,y):\n",
    "    if x%y==0:\n",
    "        return y\n",
    "    for k in range(y,0,-1):\n",
    "        if y%k==0 and x%k==0:\n",
    "            return k\n",
    "print(gcd(12,17))\n",
    "\n",
    "            "
   ]
  },
  {
   "cell_type": "code",
   "execution_count": 146,
   "id": "5e52f6e5",
   "metadata": {},
   "outputs": [
    {
     "name": "stdout",
     "output_type": "stream",
     "text": [
      "84\n"
     ]
    }
   ],
   "source": [
    "#32#### interesting solution formula for LCM here--https://www.mathportal.org/calculators/numbers-calculators/lcm-calculator.php\n",
    "#also check lambda and other W3 Solutions\n",
    "from functools import reduce\n",
    "from math import gcd\n",
    "\n",
    "def lcm(numbers):\n",
    "    return reduce((lambda x,y:int(x*y/gcd(x,y))),numbers)\n",
    "\n",
    "print(lcm([12,7]))\n",
    "   \n",
    "    "
   ]
  },
  {
   "cell_type": "code",
   "execution_count": 149,
   "id": "e1fe7955",
   "metadata": {},
   "outputs": [
    {
     "name": "stdout",
     "output_type": "stream",
     "text": [
      "0\n"
     ]
    }
   ],
   "source": [
    "#33\n",
    "def intSum(n1,n2,n3):\n",
    "    if n1!=n2 and n2!=n3 and n3!=n1:\n",
    "        return n1+n2+n3\n",
    "    elif n1==n2 or n2==n3 or n3==n1:\n",
    "        return 0\n",
    "print(intSum(1,2,2))"
   ]
  },
  {
   "cell_type": "code",
   "execution_count": 165,
   "id": "d7154e2b",
   "metadata": {},
   "outputs": [
    {
     "name": "stdout",
     "output_type": "stream",
     "text": [
      "0\n"
     ]
    }
   ],
   "source": [
    "#34\n",
    "def intervalSum(n1,n2):\n",
    "    if n1+n2 >=15 and n1+n2<=20:\n",
    "        return 0\n",
    "    else:\n",
    "        return n1+n2\n",
    "   \n",
    "    \n",
    "print(intervalSum(12,8))\n",
    "    \n",
    "#print(intervalSum([12,8]))"
   ]
  },
  {
   "cell_type": "code",
   "execution_count": 168,
   "id": "88f3d45b",
   "metadata": {},
   "outputs": [
    {
     "name": "stdout",
     "output_type": "stream",
     "text": [
      "True\n"
     ]
    }
   ],
   "source": [
    "#35\n",
    "def boolsTest(n1,n2):\n",
    "    if n1==n2 or n1+n2==5 or abs(n1-n2)==5:\n",
    "        return False\n",
    "    else:\n",
    "        return True\n",
    "\n",
    "print(boolsTest(12,8))"
   ]
  },
  {
   "cell_type": "code",
   "execution_count": 2,
   "id": "3797fb0f",
   "metadata": {},
   "outputs": [
    {
     "name": "stdout",
     "output_type": "stream",
     "text": [
      "Inputs must be integers\n",
      "11\n"
     ]
    }
   ],
   "source": [
    "#36*********object concept\n",
    "def objSum(a,b):\n",
    "    if not(isinstance(a,int) and isinstance(b,int)):\n",
    "        return \"Inputs must be integers\"\n",
    "    return a+b\n",
    "\n",
    "print(objSum('5',6))\n",
    "print(objSum(5,6))\n"
   ]
  },
  {
   "cell_type": "code",
   "execution_count": 10,
   "id": "cfac98a3",
   "metadata": {},
   "outputs": [
    {
     "name": "stdout",
     "output_type": "stream",
     "text": [
      "My name is Prachi \n",
      "My Age is 25\n"
     ]
    }
   ],
   "source": [
    "#37********.format and input placeholder\n",
    "name, age=\"Prachi\",25\n",
    "Address=\"Mumbai\"\n",
    "\n",
    "print(\"My name is {} \\nMy Age is {}\".format(name,age))\n"
   ]
  },
  {
   "cell_type": "code",
   "execution_count": 16,
   "id": "2c8c2754",
   "metadata": {},
   "outputs": [
    {
     "name": "stdout",
     "output_type": "stream",
     "text": [
      "Enter first number \n",
      "12\n",
      "Enter second number \n",
      "12\n",
      "576\n"
     ]
    }
   ],
   "source": [
    "#38\n",
    "print(\"Enter first number \")\n",
    "x=int(input())\n",
    "print(\"Enter second number \")\n",
    "y=int(input())\n",
    "\n",
    "result=(x+y)**2\n",
    "print(result)"
   ]
  },
  {
   "cell_type": "code",
   "execution_count": 20,
   "id": "85a08b03",
   "metadata": {},
   "outputs": [
    {
     "name": "stdout",
     "output_type": "stream",
     "text": [
      "Please enter principal amount \n",
      "10000\n",
      "Please enter number of years \n",
      "7\n",
      "Please enter rate \n",
      "3.5\n",
      "12722.792627665729\n"
     ]
    }
   ],
   "source": [
    "#39 FV = P(1 + r/n)^nt.\n",
    "print(\"Please enter principal amount \")\n",
    "amt=int(input())\n",
    "print(\"Please enter number of years \")\n",
    "yr=int(input())\n",
    "print(\"Please enter rate \")\n",
    "rate=float(input())\n",
    "\n",
    "#result=(amt(1+rate/1))**(1*yr)\n",
    "result=amt*((1+(0.01*rate)) ** yr)\n",
    "\n",
    "print(result)"
   ]
  },
  {
   "cell_type": "code",
   "execution_count": 27,
   "id": "e34c40d2",
   "metadata": {},
   "outputs": [
    {
     "name": "stdout",
     "output_type": "stream",
     "text": [
      "7.615773105863909\n"
     ]
    }
   ],
   "source": [
    "#40\n",
    "import math\n",
    "def distCoord(x1,y1,x2,y2):\n",
    "    distance=math.sqrt(((x2-x1)**2)+((y2-y1)**2))\n",
    "    return distance\n",
    "print(distCoord(1,2,8,5))"
   ]
  },
  {
   "cell_type": "code",
   "execution_count": 32,
   "id": "a7ae048b",
   "metadata": {},
   "outputs": [
    {
     "name": "stdout",
     "output_type": "stream",
     "text": [
      "False\n",
      "False\n"
     ]
    }
   ],
   "source": [
    "#41***** file concept-1\n",
    "\n",
    "import os.path\n",
    "print(os.path.exists('Python_Stages.txt'))\n",
    "print(os.path.isfile('main.py'))"
   ]
  },
  {
   "cell_type": "code",
   "execution_count": 33,
   "id": "053038f2",
   "metadata": {},
   "outputs": [
    {
     "name": "stdout",
     "output_type": "stream",
     "text": [
      "64\n"
     ]
    }
   ],
   "source": [
    "#42******OS concept 32 or 64 bits\n",
    "import struct\n",
    "print(struct.calcsize(\"P\")*8)"
   ]
  },
  {
   "cell_type": "code",
   "execution_count": 34,
   "id": "804ab59b",
   "metadata": {},
   "outputs": [
    {
     "name": "stdout",
     "output_type": "stream",
     "text": [
      "Name of the OS:  nt\n",
      "Name of the OS system:  Windows\n",
      "Version of the OS:  10\n"
     ]
    }
   ],
   "source": [
    "#43\n",
    "import platform\n",
    "import os\n",
    "print(\"Name of the OS: \",os.name)\n",
    "print(\"Name of the OS system: \",platform.system())\n",
    "print(\"Version of the OS: \",platform.release())"
   ]
  },
  {
   "cell_type": "code",
   "execution_count": 35,
   "id": "134c7bff",
   "metadata": {},
   "outputs": [
    {
     "name": "stdout",
     "output_type": "stream",
     "text": [
      "['C:\\\\Users\\\\przir\\\\anaconda3', 'C:\\\\Users\\\\przir\\\\anaconda3\\\\lib\\\\site-packages']\n"
     ]
    }
   ],
   "source": [
    "#44\n",
    "import site\n",
    "print(site.getsitepackages())"
   ]
  },
  {
   "cell_type": "code",
   "execution_count": 42,
   "id": "8f7271c8",
   "metadata": {},
   "outputs": [
    {
     "name": "stdout",
     "output_type": "stream",
     "text": [
      "Current File Name:  C:\\Users\\przir\\W3S_Exc_Basic_1.py\n"
     ]
    }
   ],
   "source": [
    "#45******* file path\n",
    "#from subprocess import call\n",
    "#call([\"ls\", \"-l\"])\n",
    "\n",
    "#46*************File Path\n",
    "import os\n",
    "print(\"Current File Name: \", os.path.realpath(\"W3S_Exc_Basic_1.py\"))"
   ]
  },
  {
   "cell_type": "code",
   "execution_count": 43,
   "id": "686fbd8a",
   "metadata": {},
   "outputs": [
    {
     "name": "stdout",
     "output_type": "stream",
     "text": [
      "2\n"
     ]
    }
   ],
   "source": [
    "#47\n",
    "import multiprocessing\n",
    "print(multiprocessing.cpu_count())"
   ]
  },
  {
   "cell_type": "code",
   "execution_count": 44,
   "id": "49b4e1ed",
   "metadata": {},
   "outputs": [
    {
     "name": "stdout",
     "output_type": "stream",
     "text": [
      "246.2458\n",
      "246\n"
     ]
    }
   ],
   "source": [
    "#48******Parsing data type\n",
    "n=246.2458\n",
    "print(float(n))\n",
    "print(int(float(n)))\n"
   ]
  },
  {
   "cell_type": "code",
   "execution_count": 47,
   "id": "7ee096f7",
   "metadata": {},
   "outputs": [
    {
     "name": "stdout",
     "output_type": "stream",
     "text": [
      "12\n",
      "233.12\n"
     ]
    }
   ],
   "source": [
    "#48******Parsing data type\n",
    "def test(s):\n",
    "   try:\n",
    "       return int(s)\n",
    "   except ValueError:\n",
    "       return float(s)\n",
    "print(test('12'))\n",
    "print(test('233.12'))"
   ]
  },
  {
   "cell_type": "code",
   "execution_count": 50,
   "id": "43912617",
   "metadata": {},
   "outputs": [
    {
     "name": "stdout",
     "output_type": "stream",
     "text": [
      "['Cre.txt', 'Image-01.jpg', 'Styled.jpg']\n"
     ]
    }
   ],
   "source": [
    "#49*******list of directories in a file\n",
    "\n",
    "from os import listdir\n",
    "from os.path import isfile, join\n",
    "files_list=[f for f in listdir ('C:/Users/przir/OneDrive/Desktop/Personal Care/Dress Care/RL-floral') if isfile(join('C:/Users/przir/OneDrive/Desktop/Personal Care/Dress Care/RL-floral',f))]\n",
    "print(files_list)"
   ]
  },
  {
   "cell_type": "code",
   "execution_count": 54,
   "id": "c1d82605",
   "metadata": {},
   "outputs": [
    {
     "name": "stdout",
     "output_type": "stream",
     "text": [
      "**********\n",
      "\n"
     ]
    }
   ],
   "source": [
    "#50******print without newline or space\n",
    "\n",
    "for i in range(10):\n",
    "    print(\"*\",end=\"\")\n",
    "print(\"\\n\")"
   ]
  },
  {
   "cell_type": "code",
   "execution_count": 57,
   "id": "9778de85",
   "metadata": {},
   "outputs": [
    {
     "name": "stdout",
     "output_type": "stream",
     "text": [
      "3\n",
      "         41 function calls in 0.001 seconds\n",
      "\n",
      "   Ordered by: standard name\n",
      "\n",
      "   ncalls  tottime  percall  cumtime  percall filename:lineno(function)\n",
      "        1    0.000    0.000    0.001    0.001 3806822997.py:3(sum)\n",
      "        1    0.000    0.000    0.001    0.001 <string>:1(<module>)\n",
      "        3    0.000    0.000    0.000    0.000 iostream.py:206(schedule)\n",
      "        2    0.000    0.000    0.000    0.000 iostream.py:418(_is_master_process)\n",
      "        2    0.000    0.000    0.000    0.000 iostream.py:437(_schedule_flush)\n",
      "        2    0.000    0.000    0.001    0.000 iostream.py:500(write)\n",
      "        3    0.000    0.000    0.000    0.000 iostream.py:96(_event_pipe)\n",
      "        3    0.000    0.000    0.000    0.000 socket.py:474(send)\n",
      "        3    0.000    0.000    0.000    0.000 threading.py:1059(_wait_for_tstate_lock)\n",
      "        3    0.000    0.000    0.000    0.000 threading.py:1113(is_alive)\n",
      "        3    0.000    0.000    0.000    0.000 threading.py:529(is_set)\n",
      "        1    0.000    0.000    0.001    0.001 {built-in method builtins.exec}\n",
      "        2    0.000    0.000    0.000    0.000 {built-in method builtins.isinstance}\n",
      "        2    0.000    0.000    0.000    0.000 {built-in method builtins.len}\n",
      "        1    0.000    0.000    0.001    0.001 {built-in method builtins.print}\n",
      "        2    0.000    0.000    0.000    0.000 {built-in method nt.getpid}\n",
      "        3    0.000    0.000    0.000    0.000 {method 'acquire' of '_thread.lock' objects}\n",
      "        3    0.000    0.000    0.000    0.000 {method 'append' of 'collections.deque' objects}\n",
      "        1    0.000    0.000    0.000    0.000 {method 'disable' of '_lsprof.Profiler' objects}\n",
      "\n",
      "\n"
     ]
    }
   ],
   "source": [
    "#51\n",
    "import cProfile\n",
    "def sum():\n",
    "    print(1+2)\n",
    "cProfile.run('sum()')"
   ]
  },
  {
   "cell_type": "code",
   "execution_count": 59,
   "id": "ceca1827",
   "metadata": {},
   "outputs": [
    {
     "name": "stderr",
     "output_type": "stream",
     "text": [
      "abc--efg--xyz\n"
     ]
    }
   ],
   "source": [
    "#52\n",
    "from __future__ import print_function\n",
    "import sys\n",
    "\n",
    "def eprint(*args, **kwargs):\n",
    "    print(*args, file=sys.stderr, ** kwargs)\n",
    "    \n",
    "eprint(\"abc\",\"efg\", \"xyz\",sep=\"--\")"
   ]
  },
  {
   "cell_type": "code",
   "execution_count": 61,
   "id": "28fd78fe",
   "metadata": {},
   "outputs": [
    {
     "name": "stdout",
     "output_type": "stream",
     "text": [
      "*____________________*\n",
      "environ({'ALLUSERSPROFILE': 'C:\\\\ProgramData', 'APPDATA': 'C:\\\\Users\\\\przir\\\\AppData\\\\Roaming', 'COMMONPROGRAMFILES': 'C:\\\\Program Files\\\\Common Files', 'COMMONPROGRAMFILES(X86)': 'C:\\\\Program Files (x86)\\\\Common Files', 'COMMONPROGRAMW6432': 'C:\\\\Program Files\\\\Common Files', 'COMPUTERNAME': 'LAPTOP-SOUD7UOF', 'COMSPEC': 'C:\\\\WINDOWS\\\\system32\\\\cmd.exe', 'CONDA_DEFAULT_ENV': 'base', 'CONDA_EXE': 'C:\\\\Users\\\\przir\\\\anaconda3\\\\Scripts\\\\conda.exe', 'CONDA_PROMPT_MODIFIER': '(base) ', 'CONDA_PYTHON_EXE': 'C:\\\\Users\\\\przir\\\\anaconda3\\\\python.exe', 'CONDA_SHLVL': '1', 'DRIVERDATA': 'C:\\\\Windows\\\\System32\\\\Drivers\\\\DriverData', 'HOMEDRIVE': 'C:', 'HOMEPATH': '\\\\Users\\\\przir', 'LOCALAPPDATA': 'C:\\\\Users\\\\przir\\\\AppData\\\\Local', 'LOGONSERVER': '\\\\\\\\LAPTOP-SOUD7UOF', 'NUMBER_OF_PROCESSORS': '2', 'ONEDRIVE': 'C:\\\\Users\\\\przir\\\\OneDrive', 'ONEDRIVECONSUMER': 'C:\\\\Users\\\\przir\\\\OneDrive', 'OS': 'Windows_NT', 'PATH': 'C:\\\\Users\\\\przir\\\\anaconda3;C:\\\\Users\\\\przir\\\\anaconda3\\\\Library\\\\mingw-w64\\\\bin;C:\\\\Users\\\\przir\\\\anaconda3\\\\Library\\\\usr\\\\bin;C:\\\\Users\\\\przir\\\\anaconda3\\\\Library\\\\bin;C:\\\\Users\\\\przir\\\\anaconda3\\\\Scripts;C:\\\\Users\\\\przir\\\\anaconda3\\\\bin;C:\\\\Users\\\\przir\\\\anaconda3\\\\condabin;C:\\\\Users\\\\przir\\\\anaconda3;C:\\\\Users\\\\przir\\\\anaconda3\\\\Library\\\\mingw-w64\\\\bin;C:\\\\Users\\\\przir\\\\anaconda3\\\\Library\\\\usr\\\\bin;C:\\\\Users\\\\przir\\\\anaconda3\\\\Library\\\\bin;C:\\\\Users\\\\przir\\\\anaconda3\\\\Scripts;C:\\\\WINDOWS\\\\system32;C:\\\\WINDOWS;C:\\\\WINDOWS\\\\System32\\\\Wbem;C:\\\\WINDOWS\\\\System32\\\\WindowsPowerShell\\\\v1.0;C:\\\\WINDOWS\\\\System32\\\\OpenSSH;C:\\\\Users\\\\przir\\\\AppData\\\\Local\\\\Programs\\\\Python\\\\Python310\\\\Scripts;C:\\\\Users\\\\przir\\\\AppData\\\\Local\\\\Programs\\\\Python\\\\Python310;C:\\\\Users\\\\przir\\\\AppData\\\\Local\\\\Microsoft\\\\WindowsApps;.', 'PATHEXT': '.COM;.EXE;.BAT;.CMD;.VBS;.VBE;.JS;.JSE;.WSF;.WSH;.MSC', 'PROCESSOR_ARCHITECTURE': 'AMD64', 'PROCESSOR_IDENTIFIER': 'Intel64 Family 6 Model 122 Stepping 1, GenuineIntel', 'PROCESSOR_LEVEL': '6', 'PROCESSOR_REVISION': '7a01', 'PROGRAMDATA': 'C:\\\\ProgramData', 'PROGRAMFILES': 'C:\\\\Program Files', 'PROGRAMFILES(X86)': 'C:\\\\Program Files (x86)', 'PROGRAMW6432': 'C:\\\\Program Files', 'PROMPT': '(base) $P$G', 'PSMODULEPATH': 'C:\\\\Program Files\\\\WindowsPowerShell\\\\Modules;C:\\\\WINDOWS\\\\system32\\\\WindowsPowerShell\\\\v1.0\\\\Modules', 'PUBLIC': 'C:\\\\Users\\\\Public', 'SESSIONNAME': 'Console', 'SYSTEMDRIVE': 'C:', 'SYSTEMROOT': 'C:\\\\WINDOWS', 'TEMP': 'C:\\\\Users\\\\przir\\\\AppData\\\\Local\\\\Temp', 'TMP': 'C:\\\\Users\\\\przir\\\\AppData\\\\Local\\\\Temp', 'USERDOMAIN': 'LAPTOP-SOUD7UOF', 'USERDOMAIN_ROAMINGPROFILE': 'LAPTOP-SOUD7UOF', 'USERNAME': 'przir', 'USERPROFILE': 'C:\\\\Users\\\\przir', 'WINDIR': 'C:\\\\WINDOWS', 'CONDA_PREFIX': 'C:\\\\Users\\\\przir\\\\anaconda3', 'CONDA_ROOT': 'C:\\\\Users\\\\przir\\\\anaconda3', 'PYDEVD_USE_FRAME_EVAL': 'NO', 'JPY_INTERRUPT_EVENT': '2288', 'IPY_INTERRUPT_EVENT': '2288', 'JPY_PARENT_PID': '2332', 'TERM': 'xterm-color', 'CLICOLOR': '1', 'PAGER': 'cat', 'GIT_PAGER': 'cat', 'MPLBACKEND': 'module://matplotlib_inline.backend_inline'})\n",
      "*____________________*\n"
     ]
    },
    {
     "ename": "KeyError",
     "evalue": "'HOME'",
     "output_type": "error",
     "traceback": [
      "\u001b[1;31m---------------------------------------------------------------------------\u001b[0m",
      "\u001b[1;31mKeyError\u001b[0m                                  Traceback (most recent call last)",
      "\u001b[1;32m~\\AppData\\Local\\Temp/ipykernel_7916/2888234496.py\u001b[0m in \u001b[0;36m<module>\u001b[1;34m\u001b[0m\n\u001b[0;32m      4\u001b[0m \u001b[0mprint\u001b[0m\u001b[1;33m(\u001b[0m\u001b[0mos\u001b[0m\u001b[1;33m.\u001b[0m\u001b[0menviron\u001b[0m\u001b[1;33m)\u001b[0m\u001b[1;33m\u001b[0m\u001b[1;33m\u001b[0m\u001b[0m\n\u001b[0;32m      5\u001b[0m \u001b[0mprint\u001b[0m\u001b[1;33m(\u001b[0m\u001b[1;34m\"*____________________*\"\u001b[0m\u001b[1;33m)\u001b[0m\u001b[1;33m\u001b[0m\u001b[1;33m\u001b[0m\u001b[0m\n\u001b[1;32m----> 6\u001b[1;33m \u001b[0mprint\u001b[0m\u001b[1;33m(\u001b[0m\u001b[0mos\u001b[0m\u001b[1;33m.\u001b[0m\u001b[0menviron\u001b[0m\u001b[1;33m[\u001b[0m\u001b[1;34m'HOME'\u001b[0m\u001b[1;33m]\u001b[0m\u001b[1;33m)\u001b[0m\u001b[1;33m\u001b[0m\u001b[1;33m\u001b[0m\u001b[0m\n\u001b[0m\u001b[0;32m      7\u001b[0m \u001b[0mprint\u001b[0m\u001b[1;33m(\u001b[0m\u001b[1;34m\"*____________________*\"\u001b[0m\u001b[1;33m)\u001b[0m\u001b[1;33m\u001b[0m\u001b[1;33m\u001b[0m\u001b[0m\n\u001b[0;32m      8\u001b[0m \u001b[0mprint\u001b[0m\u001b[1;33m(\u001b[0m\u001b[0mos\u001b[0m\u001b[1;33m.\u001b[0m\u001b[0menviron\u001b[0m\u001b[1;33m[\u001b[0m\u001b[1;34m'PATH'\u001b[0m\u001b[1;33m]\u001b[0m\u001b[1;33m)\u001b[0m\u001b[1;33m\u001b[0m\u001b[1;33m\u001b[0m\u001b[0m\n",
      "\u001b[1;32m~\\anaconda3\\lib\\os.py\u001b[0m in \u001b[0;36m__getitem__\u001b[1;34m(self, key)\u001b[0m\n\u001b[0;32m    677\u001b[0m         \u001b[1;32mexcept\u001b[0m \u001b[0mKeyError\u001b[0m\u001b[1;33m:\u001b[0m\u001b[1;33m\u001b[0m\u001b[1;33m\u001b[0m\u001b[0m\n\u001b[0;32m    678\u001b[0m             \u001b[1;31m# raise KeyError with the original key value\u001b[0m\u001b[1;33m\u001b[0m\u001b[1;33m\u001b[0m\u001b[0m\n\u001b[1;32m--> 679\u001b[1;33m             \u001b[1;32mraise\u001b[0m \u001b[0mKeyError\u001b[0m\u001b[1;33m(\u001b[0m\u001b[0mkey\u001b[0m\u001b[1;33m)\u001b[0m \u001b[1;32mfrom\u001b[0m \u001b[1;32mNone\u001b[0m\u001b[1;33m\u001b[0m\u001b[1;33m\u001b[0m\u001b[0m\n\u001b[0m\u001b[0;32m    680\u001b[0m         \u001b[1;32mreturn\u001b[0m \u001b[0mself\u001b[0m\u001b[1;33m.\u001b[0m\u001b[0mdecodevalue\u001b[0m\u001b[1;33m(\u001b[0m\u001b[0mvalue\u001b[0m\u001b[1;33m)\u001b[0m\u001b[1;33m\u001b[0m\u001b[1;33m\u001b[0m\u001b[0m\n\u001b[0;32m    681\u001b[0m \u001b[1;33m\u001b[0m\u001b[0m\n",
      "\u001b[1;31mKeyError\u001b[0m: 'HOME'"
     ]
    }
   ],
   "source": [
    "#53\n",
    "import os\n",
    "print(\"*____________________*\")\n",
    "print(os.environ)\n",
    "print(\"*____________________*\")\n",
    "print(os.environ['HOME'])\n",
    "print(\"*____________________*\")\n",
    "print(os.environ['PATH'])\n"
   ]
  },
  {
   "cell_type": "code",
   "execution_count": 62,
   "id": "161ccec3",
   "metadata": {},
   "outputs": [
    {
     "name": "stdout",
     "output_type": "stream",
     "text": [
      "przir\n"
     ]
    }
   ],
   "source": [
    "#54\n",
    "import getpass\n",
    "print(getpass.getuser())"
   ]
  },
  {
   "cell_type": "code",
   "execution_count": 63,
   "id": "b676ad6c",
   "metadata": {},
   "outputs": [
    {
     "name": "stdout",
     "output_type": "stream",
     "text": [
      "192.168.0.102\n"
     ]
    }
   ],
   "source": [
    "#55\n",
    "import socket\n",
    "print([l for l in ([ip for ip in socket.gethostbyname_ex(socket.gethostname())[2] \n",
    "if not ip.startswith(\"127.\")][:1], [[(s.connect(('8.8.8.8', 53)), \n",
    "s.getsockname()[0], s.close()) for s in [socket.socket(socket.AF_INET, \n",
    "socket.SOCK_DGRAM)]][0][1]]) if l][0][0])"
   ]
  },
  {
   "cell_type": "code",
   "execution_count": 68,
   "id": "9c1473ba",
   "metadata": {},
   "outputs": [
    {
     "ename": "ModuleNotFoundError",
     "evalue": "No module named 'termios'",
     "output_type": "error",
     "traceback": [
      "\u001b[1;31m---------------------------------------------------------------------------\u001b[0m",
      "\u001b[1;31mModuleNotFoundError\u001b[0m                       Traceback (most recent call last)",
      "\u001b[1;32m~\\AppData\\Local\\Temp/ipykernel_7916/3154261879.py\u001b[0m in \u001b[0;36m<module>\u001b[1;34m\u001b[0m\n\u001b[0;32m      1\u001b[0m \u001b[1;31m#56\u001b[0m\u001b[1;33m\u001b[0m\u001b[1;33m\u001b[0m\u001b[0m\n\u001b[1;32m----> 2\u001b[1;33m \u001b[1;32mimport\u001b[0m \u001b[0mtermios\u001b[0m\u001b[1;33m,\u001b[0m \u001b[0mstruct\u001b[0m\u001b[1;33m\u001b[0m\u001b[1;33m\u001b[0m\u001b[0m\n\u001b[0m\u001b[0;32m      3\u001b[0m \u001b[1;32mdef\u001b[0m \u001b[0mterminal_size\u001b[0m\u001b[1;33m(\u001b[0m\u001b[1;33m)\u001b[0m\u001b[1;33m:\u001b[0m\u001b[1;33m\u001b[0m\u001b[1;33m\u001b[0m\u001b[0m\n\u001b[0;32m      4\u001b[0m     th, tw, hp, wp = struct.unpack('HHHH',\n\u001b[0;32m      5\u001b[0m         fcntl.ioctl(0, termios.TIOCGWINSZ,\n",
      "\u001b[1;31mModuleNotFoundError\u001b[0m: No module named 'termios'"
     ]
    }
   ],
   "source": [
    "#56\n",
    "import fcntl, termios, struct\n",
    "def terminal_size():    \n",
    "    th, tw, hp, wp = struct.unpack('HHHH',\n",
    "        fcntl.ioctl(0, termios.TIOCGWINSZ,\n",
    "        struct.pack('HHHH', 0, 0, 0, 0)))\n",
    "    return tw, th\n",
    "\n",
    "print('Number of columns and Rows: ',terminal_size())"
   ]
  },
  {
   "cell_type": "code",
   "execution_count": 70,
   "id": "c5d31602",
   "metadata": {},
   "outputs": [
    {
     "name": "stdout",
     "output_type": "stream",
     "text": [
      "\n",
      "Time to sum of 1 to  5  and required time to calculate is : (15, 1650629851.382311, 1650629851.382311)\n"
     ]
    }
   ],
   "source": [
    "#57******time function\n",
    "import time\n",
    "def sum_of_numbers(n):\n",
    "    start_time=time.time()\n",
    "    s=0\n",
    "    for i in range(1,1+n):\n",
    "        s=s+i\n",
    "    end_time=time.time()\n",
    "    return s, end_time,start_time\n",
    "\n",
    "n=5\n",
    "print(\"\\nTime to sum of 1 to \",n,\" and required time to calculate is :\",sum_of_numbers(n))"
   ]
  },
  {
   "cell_type": "code",
   "execution_count": 72,
   "id": "a09259eb",
   "metadata": {},
   "outputs": [
    {
     "name": "stdout",
     "output_type": "stream",
     "text": [
      "21.0\n"
     ]
    }
   ],
   "source": [
    "#58\n",
    "def sumOfInt(n):\n",
    "    sum=n*(n+1)/2\n",
    "    return sum\n",
    "\n",
    "print(sumOfInt(6))"
   ]
  },
  {
   "cell_type": "code",
   "execution_count": 77,
   "id": "d5ba7694",
   "metadata": {},
   "outputs": [
    {
     "name": "stdout",
     "output_type": "stream",
     "text": [
      "Please enter inches and feet \n",
      "3\n",
      "5\n",
      "result= 160.02\n"
     ]
    }
   ],
   "source": [
    "#59\n",
    "def inchToCM():\n",
    "    print(\"Please enter inches and feet \")\n",
    "    ic=int(input())\n",
    "    ft=int(input())\n",
    "    \n",
    "    result=((ft*12)+ic)*2.54\n",
    "    print(\"result=\",result)\n",
    "    \n",
    "inchToCM()\n",
    "    "
   ]
  },
  {
   "cell_type": "code",
   "execution_count": 78,
   "id": "5a0423e8",
   "metadata": {},
   "outputs": [
    {
     "name": "stdout",
     "output_type": "stream",
     "text": [
      "Please enter height of the triangle :\n",
      "3\n",
      "Please enter base of the triangle: \n",
      "4\n",
      "Hypotenuse of the triangle is  5.0\n"
     ]
    }
   ],
   "source": [
    "#60\n",
    "import math\n",
    "def hypotenuse():\n",
    "    print(\"Please enter height of the triangle :\")\n",
    "    ht=int(input())\n",
    "    print(\"Please enter base of the triangle: \")\n",
    "    bs=int(input())\n",
    "    \n",
    "    hypotns=math.sqrt(ht**2+bs**2)\n",
    "    print(\"Hypotenuse of the triangle is \",hypotns)\n",
    "    \n",
    "hypotenuse()"
   ]
  },
  {
   "cell_type": "code",
   "execution_count": 81,
   "id": "6c8af095",
   "metadata": {},
   "outputs": [
    {
     "name": "stdout",
     "output_type": "stream",
     "text": [
      "Feet to Inches conversion=  12\n",
      "Feet to Yards conversion=  0.333\n",
      "Feet to Miles conversion=  0.0002\n"
     ]
    }
   ],
   "source": [
    "#61\n",
    "def distanceConv(ft):\n",
    "    inc=ft*12\n",
    "    yrd=ft*0.333\n",
    "    miles=ft*0.0002\n",
    "    print(\"Feet to Inches conversion= \",inc)\n",
    "    \n",
    "    print(\"Feet to Yards conversion= \",yrd)\n",
    "    \n",
    "    print(\"Feet to Miles conversion= \",miles)\n",
    "    \n",
    "    \n",
    "distanceConv(1)"
   ]
  },
  {
   "cell_type": "code",
   "execution_count": 82,
   "id": "25aaf746",
   "metadata": {},
   "outputs": [
    {
     "name": "stdout",
     "output_type": "stream",
     "text": [
      "Enter hour \n",
      "1\n",
      "Enter Minutes \n",
      "1\n",
      "Total Seconds= 3660\n"
     ]
    }
   ],
   "source": [
    "#62\n",
    "def timeConversion():\n",
    "    print(\"Enter hour \")\n",
    "    hrs=int(input())\n",
    "    print(\"Enter Minutes \")\n",
    "    mins=int(input())\n",
    "    \n",
    "    secs=hrs*60*60+mins*60\n",
    "    print(\"Total Seconds=\",secs)\n",
    "    \n",
    "timeConversion()"
   ]
  },
  {
   "cell_type": "code",
   "execution_count": 84,
   "id": "3792026e",
   "metadata": {},
   "outputs": [
    {
     "name": "stdout",
     "output_type": "stream",
     "text": [
      "Absolute file path  C:\\Users\\przir\\Clear-Color-Palette-Me\n"
     ]
    }
   ],
   "source": [
    "#63*********file path \n",
    "def absFilePath(file_name):\n",
    "    import os\n",
    "    return os.path.abspath('Clear-Color-Palette-Me')\n",
    "print(\"Absolute file path \",absFilePath(\"Clear-Color-Palette-Me\") )"
   ]
  },
  {
   "cell_type": "code",
   "execution_count": 88,
   "id": "b9aa8ccb",
   "metadata": {},
   "outputs": [
    {
     "ename": "FileNotFoundError",
     "evalue": "[WinError 2] The system cannot find the file specified: 'Test.txt'",
     "output_type": "error",
     "traceback": [
      "\u001b[1;31m---------------------------------------------------------------------------\u001b[0m",
      "\u001b[1;31mFileNotFoundError\u001b[0m                         Traceback (most recent call last)",
      "\u001b[1;32m~\\AppData\\Local\\Temp/ipykernel_7916/1835394260.py\u001b[0m in \u001b[0;36m<module>\u001b[1;34m\u001b[0m\n\u001b[0;32m      1\u001b[0m \u001b[1;31m#64\u001b[0m\u001b[1;33m\u001b[0m\u001b[1;33m\u001b[0m\u001b[0m\n\u001b[0;32m      2\u001b[0m \u001b[1;32mimport\u001b[0m \u001b[0mos\u001b[0m\u001b[1;33m.\u001b[0m\u001b[0mpath\u001b[0m\u001b[1;33m,\u001b[0m \u001b[0mtime\u001b[0m\u001b[1;33m\u001b[0m\u001b[1;33m\u001b[0m\u001b[0m\n\u001b[1;32m----> 3\u001b[1;33m \u001b[0mprint\u001b[0m\u001b[1;33m(\u001b[0m\u001b[1;34m\"Last modified: %s\"\u001b[0m \u001b[1;33m%\u001b[0m\u001b[0mtime\u001b[0m\u001b[1;33m.\u001b[0m\u001b[0mctime\u001b[0m\u001b[1;33m(\u001b[0m\u001b[0mos\u001b[0m\u001b[1;33m.\u001b[0m\u001b[0mpath\u001b[0m\u001b[1;33m.\u001b[0m\u001b[0mgetmtime\u001b[0m\u001b[1;33m(\u001b[0m\u001b[1;34m\"Test.txt\"\u001b[0m\u001b[1;33m)\u001b[0m\u001b[1;33m)\u001b[0m\u001b[1;33m)\u001b[0m\u001b[1;33m\u001b[0m\u001b[1;33m\u001b[0m\u001b[0m\n\u001b[0m\u001b[0;32m      4\u001b[0m \u001b[0mprint\u001b[0m\u001b[1;33m(\u001b[0m\u001b[1;34m\"created:%s\"\u001b[0m \u001b[1;33m%\u001b[0m\u001b[0mtime\u001b[0m\u001b[1;33m.\u001b[0m\u001b[0mctime\u001b[0m\u001b[1;33m(\u001b[0m\u001b[0mos\u001b[0m\u001b[1;33m.\u001b[0m\u001b[0mpath\u001b[0m\u001b[1;33m.\u001b[0m\u001b[0mgetctime\u001b[0m\u001b[1;33m(\u001b[0m\u001b[1;34m\"Test.txt\"\u001b[0m\u001b[1;33m)\u001b[0m\u001b[1;33m)\u001b[0m\u001b[1;33m)\u001b[0m\u001b[1;33m\u001b[0m\u001b[1;33m\u001b[0m\u001b[0m\n",
      "\u001b[1;32m~\\anaconda3\\lib\\genericpath.py\u001b[0m in \u001b[0;36mgetmtime\u001b[1;34m(filename)\u001b[0m\n\u001b[0;32m     53\u001b[0m \u001b[1;32mdef\u001b[0m \u001b[0mgetmtime\u001b[0m\u001b[1;33m(\u001b[0m\u001b[0mfilename\u001b[0m\u001b[1;33m)\u001b[0m\u001b[1;33m:\u001b[0m\u001b[1;33m\u001b[0m\u001b[1;33m\u001b[0m\u001b[0m\n\u001b[0;32m     54\u001b[0m     \u001b[1;34m\"\"\"Return the last modification time of a file, reported by os.stat().\"\"\"\u001b[0m\u001b[1;33m\u001b[0m\u001b[1;33m\u001b[0m\u001b[0m\n\u001b[1;32m---> 55\u001b[1;33m     \u001b[1;32mreturn\u001b[0m \u001b[0mos\u001b[0m\u001b[1;33m.\u001b[0m\u001b[0mstat\u001b[0m\u001b[1;33m(\u001b[0m\u001b[0mfilename\u001b[0m\u001b[1;33m)\u001b[0m\u001b[1;33m.\u001b[0m\u001b[0mst_mtime\u001b[0m\u001b[1;33m\u001b[0m\u001b[1;33m\u001b[0m\u001b[0m\n\u001b[0m\u001b[0;32m     56\u001b[0m \u001b[1;33m\u001b[0m\u001b[0m\n\u001b[0;32m     57\u001b[0m \u001b[1;33m\u001b[0m\u001b[0m\n",
      "\u001b[1;31mFileNotFoundError\u001b[0m: [WinError 2] The system cannot find the file specified: 'Test.txt'"
     ]
    }
   ],
   "source": [
    "#64\n",
    "import os.path, time\n",
    "print(\"Last modified: %s\" %time.ctime(os.path.getmtime(\"Test.txt\")))\n",
    "print(\"created:%s\" %time.ctime(os.path.getctime(\"Test.txt\")))"
   ]
  },
  {
   "cell_type": "code",
   "execution_count": 102,
   "id": "f2b9b004",
   "metadata": {},
   "outputs": [
    {
     "name": "stdout",
     "output_type": "stream",
     "text": [
      "Input time in seconds: 90000\n",
      "d:h:m:s-> 1:1:0:0\n"
     ]
    }
   ],
   "source": [
    "#65******time conversion and formatting with %d\n",
    "time = float(input(\"Input time in seconds: \"))\n",
    "day = time // (24 * 3600)\n",
    "time = time % (24 * 3600)\n",
    "hour = time // 3600\n",
    "time %= 3600\n",
    "minutes = time // 60\n",
    "time %= 60\n",
    "seconds = time\n",
    "print(\"d:h:m:s-> %d:%d:%d:%d\" % (day, hour, minutes, seconds))"
   ]
  },
  {
   "cell_type": "code",
   "execution_count": 103,
   "id": "807f923f",
   "metadata": {},
   "outputs": [
    {
     "name": "stdout",
     "output_type": "stream",
     "text": [
      "Please enter height of the person in meter :\n",
      "5.5\n",
      "Please enter weight of the person in KG :\n",
      "10\n",
      "Persons body mass index is:  0.055\n"
     ]
    }
   ],
   "source": [
    "#66\n",
    "print(\"Please enter height of the person in meter :\")\n",
    "ht=float(input())\n",
    "print(\"Please enter weight of the person in KG :\")\n",
    "m=float(input())\n",
    "bmi=ht/(m**2)\n",
    "print(\"Persons body mass index is: \",bmi)"
   ]
  },
  {
   "cell_type": "code",
   "execution_count": 109,
   "id": "ab003a9e",
   "metadata": {},
   "outputs": [
    {
     "name": "stdout",
     "output_type": "stream",
     "text": [
      "Input pressure in in kilopascals> 10\n",
      "The pressure in pounds per square inch: 1.45 psi\n",
      "The pressure in millimeter of mercury: 75.01 mmHg\n",
      "Atmosphere pressure: 0.10 atm.\n"
     ]
    }
   ],
   "source": [
    "#67\n",
    "kpa = float(input(\"Input pressure in in kilopascals> \"))\n",
    "psi = kpa / 6.89475729\n",
    "mmhg = kpa * 760 / 101.325\n",
    "atm = kpa / 101.325\n",
    "print(\"The pressure in pounds per square inch: %.2f psi\"  % (psi))\n",
    "print(\"The pressure in millimeter of mercury: %.2f mmHg\" % (mmhg))\n",
    "print(\"Atmosphere pressure: %.2f atm.\" % (atm))\n",
    "    \n"
   ]
  },
  {
   "cell_type": "code",
   "execution_count": null,
   "id": "9fc39ca8",
   "metadata": {},
   "outputs": [],
   "source": [
    "#68********\n",
    "sum=0\n",
    "for digit in str(num):\n",
    "    sum=sum+num\n",
    "\n",
    "print(sum)\n"
   ]
  },
  {
   "cell_type": "code",
   "execution_count": null,
   "id": "2f451476",
   "metadata": {},
   "outputs": [],
   "source": []
  },
  {
   "cell_type": "code",
   "execution_count": null,
   "id": "d558d5ad",
   "metadata": {},
   "outputs": [],
   "source": []
  }
 ],
 "metadata": {
  "kernelspec": {
   "display_name": "Python 3 (ipykernel)",
   "language": "python",
   "name": "python3"
  },
  "language_info": {
   "codemirror_mode": {
    "name": "ipython",
    "version": 3
   },
   "file_extension": ".py",
   "mimetype": "text/x-python",
   "name": "python",
   "nbconvert_exporter": "python",
   "pygments_lexer": "ipython3",
   "version": "3.9.7"
  }
 },
 "nbformat": 4,
 "nbformat_minor": 5
}
