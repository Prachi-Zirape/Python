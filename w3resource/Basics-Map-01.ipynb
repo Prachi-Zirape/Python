{
 "cells": [
  {
   "cell_type": "code",
   "execution_count": 2,
   "id": "6655726e",
   "metadata": {},
   "outputs": [
    {
     "name": "stdout",
     "output_type": "stream",
     "text": [
      "[3, 6, 9, 12, 15, 18]\n"
     ]
    }
   ],
   "source": [
    "#Date-8/3/22\n",
    "#1-triple all numbers of a given list of integers. Use Python map\n",
    "l=[1,2,3,4,5,6]\n",
    "result=list(map(lambda x:x*3,l))\n",
    "print(result)"
   ]
  },
  {
   "cell_type": "code",
   "execution_count": 4,
   "id": "e7bc8728",
   "metadata": {},
   "outputs": [
    {
     "name": "stdout",
     "output_type": "stream",
     "text": [
      "[3, 6, 9, 12, 15, 18]\n"
     ]
    }
   ],
   "source": [
    "#2-add three given lists using Python map and lambda\n",
    "l1=[1,2,3,4,5,6]\n",
    "l2=[1,2,3,4,5,6]\n",
    "l3=[1,2,3,4,5,6]\n",
    "result=list(map(lambda x:sum(x),(zip(l1,l2,l3))))\n",
    "print(result)"
   ]
  },
  {
   "cell_type": "code",
   "execution_count": 7,
   "id": "94ed87e5",
   "metadata": {},
   "outputs": [
    {
     "name": "stdout",
     "output_type": "stream",
     "text": [
      "[3, 6, 9, 12, 15, 18]\n"
     ]
    }
   ],
   "source": [
    "l1=[1,2,3,4,5,6]\n",
    "l2=[1,2,3,4,5,6]\n",
    "l3=[1,2,3,4,5,6]\n",
    "result=list(map(lambda x,y,z:x+y+z,l1,l2,l3))\n",
    "print(result)"
   ]
  },
  {
   "cell_type": "code",
   "execution_count": 2,
   "id": "1f780723",
   "metadata": {},
   "outputs": [
    {
     "name": "stdout",
     "output_type": "stream",
     "text": [
      "[['R', 'e', 'd'], ['B', 'l', 'u', 'e'], ['B', 'l', 'a', 'c', 'k'], ['W', 'h', 'i', 't', 'e'], ['P', 'i', 'n', 'k']]\n"
     ]
    }
   ],
   "source": [
    "#Date 8/4/22\n",
    "#3-listify the list of given strings individually using Python map\n",
    "l=['Red', 'Blue', 'Black', 'White', 'Pink']\n",
    "result=list(map(list,l))\n",
    "print(result)"
   ]
  },
  {
   "cell_type": "code",
   "execution_count": 6,
   "id": "7433b553",
   "metadata": {},
   "outputs": [
    {
     "name": "stdout",
     "output_type": "stream",
     "text": [
      "[1, 16, 729, 65536, 9765625]\n"
     ]
    }
   ],
   "source": [
    "#4-create a list containing the power of said number in bases raised \n",
    "#to the corresponding number in the index using Python map\n",
    "l=[1,2,3,4,5]\n",
    "idx=[2,4,6,8,10]\n",
    "result=list(map(pow,l,idx))\n",
    "print(result)"
   ]
  },
  {
   "cell_type": "code",
   "execution_count": 7,
   "id": "3134e074",
   "metadata": {},
   "outputs": [
    {
     "name": "stdout",
     "output_type": "stream",
     "text": [
      "[1, 4, 9, 16, 25]\n"
     ]
    }
   ],
   "source": [
    "#5-square the elements of a list using map() function\n",
    "l=[1,2,3,4,5]\n",
    "n=2\n",
    "result=list(map(lambda x:x**n,l))\n",
    "print(result)"
   ]
  },
  {
   "cell_type": "code",
   "execution_count": 9,
   "id": "2683bd75",
   "metadata": {},
   "outputs": [
    {
     "name": "stdout",
     "output_type": "stream",
     "text": [
      "Original List:  [4, 5, 2, 9]\n",
      "Square the elements of the said list using map():\n",
      "[16, 25, 4, 81]\n"
     ]
    }
   ],
   "source": [
    "def square_num(n):\n",
    "  return n * n\n",
    "nums = [4, 5, 2, 9]\n",
    "print(\"Original List: \",nums)\n",
    "result = map(square_num, nums)\n",
    "print(\"Square the elements of the said list using map():\")\n",
    "print(list(result))"
   ]
  },
  {
   "cell_type": "code",
   "execution_count": 22,
   "id": "f330a30a",
   "metadata": {},
   "outputs": [
    {
     "name": "stdout",
     "output_type": "stream",
     "text": [
      "{('D', 'd'), ('S', 's'), ('L', 'l'), ('N', 'n'), ('K', 'k'), ('M', 'm'), ('R', 'r')}\n"
     ]
    }
   ],
   "source": [
    "#6-convert all the characters in uppercase and lowercase and eliminate duplicate letters from a given sequence.\n",
    "def remove_dup(s):    \n",
    "    return str(s).upper(), str(s).lower()\n",
    "result=set(map(remove_dup,'klmnsdlrn'))\n",
    "print(result)"
   ]
  },
  {
   "cell_type": "code",
   "execution_count": 33,
   "id": "d4fd5861",
   "metadata": {},
   "outputs": [
    {
     "name": "stdout",
     "output_type": "stream",
     "text": [
      "[20, 30, 6, 90]\n"
     ]
    }
   ],
   "source": [
    "#7-add two given lists and find the difference between lists. Use map() function\n",
    "l1=[4, 5, 2, 9]\n",
    "l2=[16, 25, 4, 81]\n",
    "result_add=list(map(lambda x:sum(x),(zip(l1,l2))))\n",
    "#result_sub=list(map(lambda x:sub(x),(zip(l1,l2))))\n",
    "print(result_add)"
   ]
  },
  {
   "cell_type": "code",
   "execution_count": 32,
   "id": "cd3f5cbe",
   "metadata": {},
   "outputs": [
    {
     "name": "stdout",
     "output_type": "stream",
     "text": [
      "Original lists:\n",
      "[6, 5, 3, 9]\n",
      "[0, 1, 7, 7]\n",
      "\n",
      "Result:\n",
      "[(6, 6), (6, 4), (10, -4), (16, 2)]\n"
     ]
    }
   ],
   "source": [
    "def addition_subtrction(x, y):\n",
    "    return x + y, x - y\n",
    " \n",
    "nums1 = [6, 5, 3, 9]\n",
    "nums2 = [0, 1, 7, 7]\n",
    "print(\"Original lists:\")\n",
    "print(nums1)\n",
    "print(nums2)\n",
    "result = map(addition_subtrction, nums1, nums2)\n",
    "print(\"\\nResult:\")\n",
    "print(list(result))"
   ]
  },
  {
   "cell_type": "code",
   "execution_count": 36,
   "id": "ce06c699",
   "metadata": {},
   "outputs": [
    {
     "name": "stdout",
     "output_type": "stream",
     "text": [
      "['6', '5', '3', '9']\n",
      "('0', '2', '1', '3')\n"
     ]
    }
   ],
   "source": [
    "#8-convert a given list of integers and a tuple of integers in a list of strings\n",
    "lst=[6, 5, 3, 9]\n",
    "tup=(0,2,1,3)\n",
    "lst_res=list(map(str,lst))\n",
    "tup_res=tuple(map(str,tup))\n",
    "print(lst_res)\n",
    "print(tup_res)"
   ]
  },
  {
   "cell_type": "code",
   "execution_count": 38,
   "id": "588f98a1",
   "metadata": {},
   "outputs": [
    {
     "name": "stdout",
     "output_type": "stream",
     "text": [
      "[0, 2, 1, ' ', 3]\n"
     ]
    }
   ],
   "source": [
    "#9-create a new list taking specific elements from a tuple and convert a string value to integer.\n",
    "tup=('0', '2', '1', 'e','3')\n",
    "res_int=list(map(lambda x:int(x) if x.isdigit() else ' ',tup))\n",
    "print(res_int)"
   ]
  },
  {
   "cell_type": "code",
   "execution_count": 39,
   "id": "68f317d2",
   "metadata": {},
   "outputs": [
    {
     "name": "stdout",
     "output_type": "stream",
     "text": [
      "Original data:\n",
      "[('Alberto Franco', '15/05/2002', '35kg'), ('Gino Mcneill', '17/05/2002', '37kg'), ('Ryan Parkes', '16/02/1999', '39kg'), ('Eesha Hinton', '25/09/1998', '35kg')]\n",
      "\n",
      "Student name:\n",
      "['Alberto Franco', 'Gino Mcneill', 'Ryan Parkes', 'Eesha Hinton']\n",
      "Student name:\n",
      "['15/05/2002', '17/05/2002', '16/02/1999', '25/09/1998']\n",
      "Student weight:\n",
      "[35, 37, 39, 35]\n"
     ]
    }
   ],
   "source": [
    "student_data  = [('Alberto Franco','15/05/2002','35kg'), ('Gino Mcneill','17/05/2002','37kg'), ('Ryan Parkes','16/02/1999', '39kg'), ('Eesha Hinton','25/09/1998', '35kg')]\n",
    "print(\"Original data:\")\n",
    "print(student_data)\n",
    "students_data_name = list(map(lambda x:x[0], student_data))\n",
    "students_data_dob = list(map(lambda x:x[1], student_data))\n",
    "students_data_weight = list(map(lambda x:int(x[2][:-2]), student_data))\n",
    "print(\"\\nStudent name:\")\n",
    "print(students_data_name)\n",
    "print(\"Student name:\")\n",
    "print(students_data_dob)\n",
    "print(\"Student weight:\")\n",
    "print(students_data_weight)"
   ]
  },
  {
   "cell_type": "code",
   "execution_count": 59,
   "id": "e629e365",
   "metadata": {},
   "outputs": [
    {
     "name": "stdout",
     "output_type": "stream",
     "text": [
      "[0, 1, 1, 2, 3, 5, 8, 13, 21, 34]\n"
     ]
    }
   ],
   "source": [
    "#10-compute the square of first N Fibonacci numbers, using map function and generate a list of the numbers.\n",
    "def fib_cnt(n):\n",
    "    fib_lst=[0,1]\n",
    "    fib_res=any(map(lambda _:fib_lst.append(sum(fib_lst[-2:])),range(2,n))) ##gives sum of last 2 nums in list\n",
    "    \n",
    "    return fib_lst[:n] #lst[:n] gives back elements from index 0-n\n",
    "\n",
    "print(fib_cnt(10))"
   ]
  },
  {
   "cell_type": "code",
   "execution_count": 66,
   "id": "ec0c285d",
   "metadata": {},
   "outputs": [
    {
     "name": "stdout",
     "output_type": "stream",
     "text": [
      "6\n"
     ]
    }
   ],
   "source": [
    "#11- compute the sum of elements of a given array of integers, use map() function.\n",
    "from array import array \n",
    "def array_sum(num_arr):\n",
    "    sum_n=0\n",
    "    for n in num_arr:\n",
    "        sum_n+=n\n",
    "    return sum_n\n",
    "\n",
    "a=array('i',[1,2,3])\n",
    "result=list(map(int,a))\n",
    "result = array_sum(a)\n",
    "print(result)"
   ]
  },
  {
   "cell_type": "code",
   "execution_count": 74,
   "id": "4e3154af",
   "metadata": {},
   "outputs": [
    {
     "name": "stdout",
     "output_type": "stream",
     "text": [
      "Original array: array('i', [0, 1, 2, -1, -5, 6, 0, -3, -2, 3, 4, 6, 8])\n",
      "Ratio of positive numbers, negative numbers and zeroes:\n",
      "(0.54, 0.31, 0.15)\n",
      "\n",
      "Original array: array('i', [2, 1, 2, -1, -5, 6, 4, -3, -2, 3, 4, 6, 8])\n",
      "Ratio of positive numbers, negative numbers and zeroes:\n",
      "(0.69, 0.31, 0.0)\n"
     ]
    }
   ],
   "source": [
    "#12-find the ratio of positive numbers, negative numbers and zeroes in an array of integers\n",
    "from array import array\n",
    "\n",
    "def plusMinus(nums):\n",
    "    n = len(nums)\n",
    "    n1 = n2 = n3 = 0\n",
    "    \n",
    "    for x in nums:\n",
    "        if x > 0:\n",
    "            n1 += 1\n",
    "        elif x < 0:\n",
    "            n2 += 1\n",
    "        else:\n",
    "            n3 += 1\n",
    "            \n",
    "    return round(n1/n,2), round(n2/n,2), round(n3/n,2)\n",
    "\n",
    "nums = array('i', [0, 1, 2, -1, -5, 6, 0, -3, -2, 3, 4, 6, 8])\n",
    "print(\"Original array:\",nums)\n",
    "nums_arr = list(map(int, nums))\n",
    "result = plusMinus(nums_arr)\n",
    "print(\"Ratio of positive numbers, negative numbers and zeroes:\")\n",
    "print(result)\n",
    "nums = array('i', [2, 1, 2, -1, -5, 6, 4, -3, -2, 3, 4, 6, 8])\n",
    "print(\"\\nOriginal array:\",nums)\n",
    "nums_arr = list(map(int, nums))\n",
    "result = plusMinus(nums_arr)\n",
    "print(\"Ratio of positive numbers, negative numbers and zeroes:\")\n",
    "print(result)"
   ]
  },
  {
   "cell_type": "code",
   "execution_count": 68,
   "id": "e141fb21",
   "metadata": {},
   "outputs": [],
   "source": [
    "#13-count the same pair in two given lists. use map() function\n"
   ]
  },
  {
   "cell_type": "code",
   "execution_count": 69,
   "id": "319d792c",
   "metadata": {},
   "outputs": [],
   "source": [
    "#14-interleave two given list into another list randomly using map() function"
   ]
  },
  {
   "cell_type": "code",
   "execution_count": 70,
   "id": "47cd958a",
   "metadata": {},
   "outputs": [],
   "source": [
    "#15-split a given dictionary of lists into list of dictionaries using map function\n"
   ]
  },
  {
   "cell_type": "code",
   "execution_count": 73,
   "id": "ef32ca34",
   "metadata": {},
   "outputs": [
    {
     "name": "stdout",
     "output_type": "stream",
     "text": [
      "[['a', 'b', 'c'], ['e', 'r', 't'], ['w', 'e', 'r'], ['k', 't', 'e']]\n"
     ]
    }
   ],
   "source": [
    "#16-convert a given list of strings into list of lists using map function\n",
    "l=['abc','ert','wer','kte']\n",
    "result=list(map(list,l))\n",
    "print(result)"
   ]
  },
  {
   "cell_type": "code",
   "execution_count": null,
   "id": "120b94c9",
   "metadata": {},
   "outputs": [],
   "source": [
    "#17-convert a given list of tuples to a list of strings using map function.\n"
   ]
  }
 ],
 "metadata": {
  "kernelspec": {
   "display_name": "Python 3 (ipykernel)",
   "language": "python",
   "name": "python3"
  },
  "language_info": {
   "codemirror_mode": {
    "name": "ipython",
    "version": 3
   },
   "file_extension": ".py",
   "mimetype": "text/x-python",
   "name": "python",
   "nbconvert_exporter": "python",
   "pygments_lexer": "ipython3",
   "version": "3.9.7"
  }
 },
 "nbformat": 4,
 "nbformat_minor": 5
}
