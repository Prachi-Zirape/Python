{
 "cells": [
  {
   "cell_type": "code",
   "execution_count": 5,
   "id": "4acaaec4",
   "metadata": {},
   "outputs": [
    {
     "name": "stdout",
     "output_type": "stream",
     "text": [
      "[(0, 0), (2, 1), (1, 2), (4, 3), (3, 4)]\n"
     ]
    }
   ],
   "source": [
    "#Date-8/5/22\n",
    "#https://www.geeksforgeeks.org/python-dictionary/\n",
    "#https://www.w3schools.com/python/python_dictionaries.asp\n",
    "\n",
    "#1-sort (ascending and descending) a dictionary by value\n",
    "from operator import itemgetter\n",
    "dicts={1: 2, 3: 4, 4: 3, 2: 1, 0: 0}\n",
    "#sorted_dicts=sorted(dicts,key=dicts.values())\n",
    "sorted_dicts=sorted(dicts.items(),key=itemgetter(1))\n",
    "print(sorted_dicts)"
   ]
  },
  {
   "cell_type": "code",
   "execution_count": 4,
   "id": "0607b099",
   "metadata": {},
   "outputs": [
    {
     "name": "stdout",
     "output_type": "stream",
     "text": [
      "[{'name': 'Nikhil', 'age': 19}, {'name': 'Nandini', 'age': 20}, {'name': 'Manjeet', 'age': 20}]\n"
     ]
    }
   ],
   "source": [
    "lis = [{\"name\": \"Nandini\", \"age\": 20},\n",
    "       {\"name\": \"Manjeet\", \"age\": 20},\n",
    "       {\"name\": \"Nikhil\", \"age\": 19}]\n",
    "print(sorted(lis, key=lambda i: i['age']))"
   ]
  },
  {
   "cell_type": "code",
   "execution_count": 6,
   "id": "e7487aed",
   "metadata": {},
   "outputs": [
    {
     "name": "stdout",
     "output_type": "stream",
     "text": [
      "{0: 10, 1: 20, 2: 30}\n"
     ]
    }
   ],
   "source": [
    "#2- add a key to a dictionary\n",
    "dct= {0: 10, 1: 20}\n",
    "dct.update({2:30})\n",
    "print(dct)"
   ]
  },
  {
   "cell_type": "code",
   "execution_count": 7,
   "id": "aa555ac0",
   "metadata": {},
   "outputs": [
    {
     "name": "stdout",
     "output_type": "stream",
     "text": [
      "{0: 10, 1: 20, 2: 30}\n"
     ]
    }
   ],
   "source": [
    "#s2-\n",
    "dct= {0: 10, 1: 20}\n",
    "dct[2]=30\n",
    "print(dct)"
   ]
  },
  {
   "cell_type": "code",
   "execution_count": 12,
   "id": "deb8866d",
   "metadata": {},
   "outputs": [
    {
     "ename": "TypeError",
     "evalue": "unsupported operand type(s) for +: 'dict_items' and 'dict_items'",
     "output_type": "error",
     "traceback": [
      "\u001b[1;31m---------------------------------------------------------------------------\u001b[0m",
      "\u001b[1;31mTypeError\u001b[0m                                 Traceback (most recent call last)",
      "\u001b[1;32m~\\AppData\\Local\\Temp/ipykernel_12460/2742887401.py\u001b[0m in \u001b[0;36m<module>\u001b[1;34m\u001b[0m\n\u001b[0;32m      3\u001b[0m \u001b[0mdic2\u001b[0m\u001b[1;33m=\u001b[0m\u001b[1;33m{\u001b[0m\u001b[1;36m3\u001b[0m\u001b[1;33m:\u001b[0m\u001b[1;36m30\u001b[0m\u001b[1;33m,\u001b[0m \u001b[1;36m4\u001b[0m\u001b[1;33m:\u001b[0m\u001b[1;36m40\u001b[0m\u001b[1;33m}\u001b[0m\u001b[1;33m\u001b[0m\u001b[1;33m\u001b[0m\u001b[0m\n\u001b[0;32m      4\u001b[0m \u001b[0mdic3\u001b[0m\u001b[1;33m=\u001b[0m\u001b[1;33m{\u001b[0m\u001b[1;36m5\u001b[0m\u001b[1;33m:\u001b[0m\u001b[1;36m50\u001b[0m\u001b[1;33m,\u001b[0m\u001b[1;36m6\u001b[0m\u001b[1;33m:\u001b[0m\u001b[1;36m60\u001b[0m\u001b[1;33m}\u001b[0m\u001b[1;33m\u001b[0m\u001b[1;33m\u001b[0m\u001b[0m\n\u001b[1;32m----> 5\u001b[1;33m \u001b[0mmaster_dct\u001b[0m\u001b[1;33m=\u001b[0m\u001b[0mdict\u001b[0m\u001b[1;33m(\u001b[0m\u001b[0mdic1\u001b[0m\u001b[1;33m.\u001b[0m\u001b[0mitems\u001b[0m\u001b[1;33m(\u001b[0m\u001b[1;33m)\u001b[0m\u001b[1;33m+\u001b[0m\u001b[0mdic2\u001b[0m\u001b[1;33m.\u001b[0m\u001b[0mitems\u001b[0m\u001b[1;33m(\u001b[0m\u001b[1;33m)\u001b[0m\u001b[1;33m+\u001b[0m\u001b[0mdic3\u001b[0m\u001b[1;33m.\u001b[0m\u001b[0mitems\u001b[0m\u001b[1;33m(\u001b[0m\u001b[1;33m)\u001b[0m\u001b[1;33m)\u001b[0m\u001b[1;33m\u001b[0m\u001b[1;33m\u001b[0m\u001b[0m\n\u001b[0m\u001b[0;32m      6\u001b[0m \u001b[0mprint\u001b[0m\u001b[1;33m(\u001b[0m\u001b[0mmaster_dct\u001b[0m\u001b[1;33m)\u001b[0m\u001b[1;33m\u001b[0m\u001b[1;33m\u001b[0m\u001b[0m\n",
      "\u001b[1;31mTypeError\u001b[0m: unsupported operand type(s) for +: 'dict_items' and 'dict_items'"
     ]
    }
   ],
   "source": [
    "#3-concatenate following dictionaries to create a new one\n",
    "#s1-does not supported by python3\n",
    "dic1={1:10, 2:20}\n",
    "dic2={3:30, 4:40}\n",
    "dic3={5:50,6:60}\n",
    "master_dct=dict(dic1.items()+dic2.items()+dic3.items())\n",
    "print(master_dct)"
   ]
  },
  {
   "cell_type": "code",
   "execution_count": 20,
   "id": "300612eb",
   "metadata": {},
   "outputs": [
    {
     "name": "stdout",
     "output_type": "stream",
     "text": [
      "{1: 10, 2: 20, 3: 30, 4: 40, 5: 50, 6: 60}\n"
     ]
    }
   ],
   "source": [
    "#s2-using update() method\n",
    "dic1={1:10, 2:20}\n",
    "dic2={3:30, 4:40}\n",
    "dic3={5:50,6:60}\n",
    "dic2.update(dic3)\n",
    "dic1.update(dic2)\n",
    "print(dic1)"
   ]
  },
  {
   "cell_type": "code",
   "execution_count": 22,
   "id": "d48eadd7",
   "metadata": {},
   "outputs": [
    {
     "name": "stdout",
     "output_type": "stream",
     "text": [
      "{1: 10, 2: 20, 3: 30, 4: 40, 5: 50, 6: 60}\n"
     ]
    }
   ],
   "source": [
    "#s3-**args method\n",
    "dic1={1:10, 2:20}\n",
    "dic2={3:30, 4:40}\n",
    "dic3={5:50,6:60}\n",
    "res={**dic1,**dic2,**dic3}\n",
    "print(res)"
   ]
  },
  {
   "cell_type": "code",
   "execution_count": 24,
   "id": "0c029719",
   "metadata": {},
   "outputs": [
    {
     "name": "stdout",
     "output_type": "stream",
     "text": [
      "{1: 10, 2: 20, 3: 30, 4: 40, 5: 50, 6: 60}\n"
     ]
    }
   ],
   "source": [
    "#s4-concatenation\n",
    "dic1={1:10, 2:20}\n",
    "dic2={3:30, 4:40}\n",
    "dic3={5:50,6:60}\n",
    "res=dic1|dic2|dic3\n",
    "print(res)"
   ]
  },
  {
   "cell_type": "code",
   "execution_count": 25,
   "id": "85200c0e",
   "metadata": {},
   "outputs": [
    {
     "name": "stdout",
     "output_type": "stream",
     "text": [
      "{1: 10, 2: 20, 3: 30, 4: 40, 5: 50, 6: 60}\n"
     ]
    }
   ],
   "source": [
    "#s4-for loop with update()\n",
    "dic1={1:10, 2:20}\n",
    "dic2={3:30, 4:40}\n",
    "dic3={5:50,6:60}\n",
    "dic4 = {}\n",
    "for d in (dic1,dic2,dic3):\n",
    "    dic4.update(d)\n",
    "print(dic4)    "
   ]
  },
  {
   "cell_type": "code",
   "execution_count": 2,
   "id": "3226ab26",
   "metadata": {},
   "outputs": [
    {
     "name": "stdout",
     "output_type": "stream",
     "text": [
      "key does not exist\n"
     ]
    }
   ],
   "source": [
    "#Date-8/6/22\n",
    "#4-check whether a given key already exists in a dictionary.\n",
    "dct = {1: 10, 2: 20, 3: 30, 4: 40, 5: 50, 6: 60}\n",
    "d=50\n",
    "if d in dct:\n",
    "    print(\"Key exist\")\n",
    "else:\n",
    "    print(\"key does not exist\")\n"
   ]
  },
  {
   "cell_type": "code",
   "execution_count": 10,
   "id": "925a5b8b",
   "metadata": {},
   "outputs": [
    {
     "name": "stdout",
     "output_type": "stream",
     "text": [
      "dict_items([(1, 10), (2, 20), (3, 30), (4, 40), (5, 50), (6, 60)])\n",
      "dict_values([10, 20, 30, 40, 50, 60])\n",
      "dict_items([(1, 10), (2, 20), (3, 30), (4, 40), (5, 50), (6, 60)])\n",
      "dict_values([10, 20, 30, 40, 50, 60])\n",
      "dict_items([(1, 10), (2, 20), (3, 30), (4, 40), (5, 50), (6, 60)])\n",
      "dict_values([10, 20, 30, 40, 50, 60])\n",
      "dict_items([(1, 10), (2, 20), (3, 30), (4, 40), (5, 50), (6, 60)])\n",
      "dict_values([10, 20, 30, 40, 50, 60])\n",
      "dict_items([(1, 10), (2, 20), (3, 30), (4, 40), (5, 50), (6, 60)])\n",
      "dict_values([10, 20, 30, 40, 50, 60])\n",
      "dict_items([(1, 10), (2, 20), (3, 30), (4, 40), (5, 50), (6, 60)])\n",
      "dict_values([10, 20, 30, 40, 50, 60])\n"
     ]
    }
   ],
   "source": [
    "#5-iterate over dictionaries using for loops\n",
    "dct = {1: 10, 2: 20, 3: 30, 4: 40, 5: 50, 6: 60}\n",
    "for d in dct:\n",
    "    print(dct.items())\n",
    "    print(dct.values())"
   ]
  },
  {
   "cell_type": "code",
   "execution_count": 11,
   "id": "a6eb03ad",
   "metadata": {},
   "outputs": [
    {
     "name": "stdout",
     "output_type": "stream",
     "text": [
      "x -> 10\n",
      "y -> 20\n",
      "z -> 30\n"
     ]
    }
   ],
   "source": [
    "d = {'x': 10, 'y': 20, 'z': 30} \n",
    "for dict_key, dict_value in d.items():\n",
    "    print(dict_key,'->',dict_value)"
   ]
  },
  {
   "cell_type": "code",
   "execution_count": 23,
   "id": "8a0525b8",
   "metadata": {},
   "outputs": [
    {
     "name": "stdout",
     "output_type": "stream",
     "text": [
      "25\n"
     ]
    }
   ],
   "source": [
    "#6- generate and print a dictionary that contains a number (between 1 and n) in the form (x, x*x)\n",
    "# Sample Dictionary ( n = 5) : Expected Output : {1: 1, 2: 4, 3: 9, 4: 16, 5: 25}\n",
    "n=5\n",
    "dct={}\n",
    "for i in range(n+1):\n",
    "    dct[i]=i*i\n",
    "    #dct[val]=n*n\n",
    "print(dct)"
   ]
  },
  {
   "cell_type": "code",
   "execution_count": 25,
   "id": "a5127efe",
   "metadata": {},
   "outputs": [
    {
     "name": "stdout",
     "output_type": "stream",
     "text": [
      "{1: 1, 2: 4, 3: 9, 4: 16, 5: 25, 6: 36, 7: 49, 8: 64, 9: 81, 10: 100}\n"
     ]
    }
   ],
   "source": [
    "#7-keys are numbers between 1 and 15 (both included) and the values are square of keys\n",
    "dct={}\n",
    "n=10\n",
    "for i in range(1,n+1):\n",
    "    dct[i]=i*i\n",
    "print(dct)"
   ]
  },
  {
   "cell_type": "code",
   "execution_count": 26,
   "id": "6dc9659d",
   "metadata": {},
   "outputs": [
    {
     "name": "stdout",
     "output_type": "stream",
     "text": [
      "{1: 1, 2: 4, 3: 9, 4: 16, 5: 25, 6: 36, 7: 49, 8: 64, 9: 81, 10: 100}\n"
     ]
    }
   ],
   "source": [
    "#8-merge two Python dictionaries.\n",
    "#s1-update method\n",
    "#s2-concatenate\n",
    "#s3-update with for loop\n",
    "\n",
    "dct1={1: 1, 2: 4, 3: 9, 4: 16, 5: 25}\n",
    "dct2={6: 36, 7: 49, 8: 64, 9: 81, 10: 100}\n",
    "dct=dct1|dct2\n",
    "print(dct)"
   ]
  },
  {
   "cell_type": "code",
   "execution_count": 27,
   "id": "2b053cbe",
   "metadata": {},
   "outputs": [
    {
     "name": "stdout",
     "output_type": "stream",
     "text": [
      "{1: 1, 2: 4, 3: 9, 4: 16, 5: 25, 6: 36, 7: 49, 8: 64, 9: 81, 10: 100}\n"
     ]
    }
   ],
   "source": [
    "dct1={1: 1, 2: 4, 3: 9, 4: 16, 5: 25}\n",
    "dct2={6: 36, 7: 49, 8: 64, 9: 81, 10: 100}\n",
    "dct1.update(dct2)\n",
    "print(dct1)"
   ]
  },
  {
   "cell_type": "code",
   "execution_count": 28,
   "id": "970dc339",
   "metadata": {},
   "outputs": [
    {
     "name": "stdout",
     "output_type": "stream",
     "text": [
      "{1: 1, 2: 4, 3: 9, 4: 16, 5: 25, 6: 36, 7: 49, 8: 64, 9: 81, 10: 100}\n"
     ]
    }
   ],
   "source": [
    "dct1={1: 1, 2: 4, 3: 9, 4: 16, 5: 25}\n",
    "dct2={6: 36, 7: 49, 8: 64, 9: 81, 10: 100}\n",
    "dct={}\n",
    "for d in (dct1,dct2):\n",
    "    dct.update(d)\n",
    "print(dct)"
   ]
  },
  {
   "cell_type": "code",
   "execution_count": 30,
   "id": "7f49b684",
   "metadata": {},
   "outputs": [
    {
     "name": "stdout",
     "output_type": "stream",
     "text": [
      "{1: 1, 2: 4, 3: 9, 4: 16, 5: 25, 6: 36, 7: 49, 8: 64, 9: 81, 10: 100}\n"
     ]
    }
   ],
   "source": [
    "dct1={1: 1, 2: 4, 3: 9, 4: 16, 5: 25}\n",
    "dct2={6: 36, 7: 49, 8: 64, 9: 81, 10: 100}\n",
    "res={**dct1,**dct2}\n",
    "print(res)"
   ]
  },
  {
   "cell_type": "code",
   "execution_count": 31,
   "id": "7e2922ff",
   "metadata": {},
   "outputs": [
    {
     "name": "stdout",
     "output_type": "stream",
     "text": [
      "{'a': 100, 'b': 200, 'x': 300, 'y': 200}\n"
     ]
    }
   ],
   "source": [
    "d1 = {'a': 100, 'b': 200}\n",
    "d2 = {'x': 300, 'y': 200}\n",
    "d = d1.copy()\n",
    "d.update(d2)\n",
    "print(d)"
   ]
  },
  {
   "cell_type": "code",
   "execution_count": 33,
   "id": "a7e0219f",
   "metadata": {},
   "outputs": [
    {
     "name": "stdout",
     "output_type": "stream",
     "text": [
      "1 : 1\n",
      "2 : 4\n",
      "3 : 9\n",
      "4 : 16\n",
      "5 : 25\n"
     ]
    }
   ],
   "source": [
    "#9- iterate over dictionaries using for loops\n",
    "d={1: 1, 2: 4, 3: 9, 4: 16, 5: 25}\n",
    "for k,v in d.items():\n",
    "    print(k,':',v)"
   ]
  },
  {
   "cell_type": "code",
   "execution_count": 34,
   "id": "aeb80efe",
   "metadata": {},
   "outputs": [
    {
     "name": "stdout",
     "output_type": "stream",
     "text": [
      "Red -->  1\n",
      "Green -->  2\n",
      "Blue -->  3\n"
     ]
    }
   ],
   "source": [
    "d = {'Red': 1, 'Green': 2, 'Blue': 3} \n",
    "for color_key, value in d.items():\n",
    "     print(color_key, '--> ', d[color_key]) "
   ]
  },
  {
   "cell_type": "code",
   "execution_count": 35,
   "id": "b49b8651",
   "metadata": {},
   "outputs": [
    {
     "name": "stdout",
     "output_type": "stream",
     "text": [
      "55\n"
     ]
    }
   ],
   "source": [
    "#10-sum all the items in a dictionary.\n",
    "d={1: 1, 2: 4, 3: 9, 4: 16, 5: 25}\n",
    "add=0\n",
    "for k,v in d.items():\n",
    "    add+=v\n",
    "print(add)"
   ]
  },
  {
   "cell_type": "code",
   "execution_count": 36,
   "id": "5521ee89",
   "metadata": {},
   "outputs": [
    {
     "name": "stdout",
     "output_type": "stream",
     "text": [
      "55\n"
     ]
    }
   ],
   "source": [
    "#s2-\n",
    "d={1: 1, 2: 4, 3: 9, 4: 16, 5: 25}\n",
    "print(sum(d.values()))"
   ]
  },
  {
   "cell_type": "code",
   "execution_count": 37,
   "id": "868f4000",
   "metadata": {},
   "outputs": [
    {
     "name": "stdout",
     "output_type": "stream",
     "text": [
      "14400\n"
     ]
    }
   ],
   "source": [
    "#11-multiply all the items in a dictionary\n",
    "d={1: 1, 2: 4, 3: 9, 4: 16, 5: 25}\n",
    "mul=1\n",
    "for k,v in d.items():\n",
    "    mul*=v\n",
    "print(mul)"
   ]
  },
  {
   "cell_type": "code",
   "execution_count": 38,
   "id": "a5c32a14",
   "metadata": {},
   "outputs": [
    {
     "name": "stdout",
     "output_type": "stream",
     "text": [
      "-1333800\n"
     ]
    }
   ],
   "source": [
    "#s2-\n",
    "my_dict = {'data1':100,'data2':-54,'data3':247}\n",
    "result=1\n",
    "for key in my_dict:    \n",
    "    result=result * my_dict[key]\n",
    "\n",
    "print(result)"
   ]
  },
  {
   "cell_type": "code",
   "execution_count": 44,
   "id": "5fa2d425",
   "metadata": {},
   "outputs": [
    {
     "name": "stdout",
     "output_type": "stream",
     "text": [
      "Key not found\n",
      "{'Red': 1, 'Green': 2, 'Blue': 3}\n"
     ]
    }
   ],
   "source": [
    "#12-remove a key from a dictionary\n",
    "d = {'Red': 1, 'Green': 2, 'Blue': 3} \n",
    "k='Fine'\n",
    "if k in d:\n",
    "    del(d[k])\n",
    "else:\n",
    "    print(\"Key not found\")\n",
    "#del(d[1])\n",
    "print(d)"
   ]
  },
  {
   "cell_type": "code",
   "execution_count": 53,
   "id": "312fb909",
   "metadata": {},
   "outputs": [
    {
     "name": "stdout",
     "output_type": "stream",
     "text": [
      "{1: 1, 2: 4, 3: 9, 4: 16, 5: 25}\n"
     ]
    }
   ],
   "source": [
    "#13- map two lists into a dictionary\n",
    "#q1-are those both map as values or one value other being keys\n",
    "\n",
    "#s1-Naive method\n",
    "l_keys=[1,2,3,4,5]\n",
    "l_values=[1,4,9,16,25]\n",
    "result={}\n",
    "for key in l_keys:\n",
    "    for value in l_values:\n",
    "        result[key]=value\n",
    "        #print(key,value)\n",
    "        l_values.remove(value)\n",
    "        break\n",
    "print(result)"
   ]
  },
  {
   "cell_type": "code",
   "execution_count": 56,
   "id": "c180aa08",
   "metadata": {},
   "outputs": [
    {
     "name": "stdout",
     "output_type": "stream",
     "text": [
      "{1: 1, 2: 4, 3: 9, 4: 16, 5: 25}\n"
     ]
    }
   ],
   "source": [
    "#s2-dictionary comprehension--Only when key and value lists are of same length\n",
    "l_keys=[1,2,3,4,5]\n",
    "l_values=[1,4,9,16,25]\n",
    "result={l_keys[i]:l_values[i] for i in range(len(l_keys))}\n",
    "print(result)"
   ]
  },
  {
   "cell_type": "code",
   "execution_count": 57,
   "id": "95cd0b7b",
   "metadata": {},
   "outputs": [
    {
     "name": "stdout",
     "output_type": "stream",
     "text": [
      "{1: 1, 2: 4, 3: 9, 4: 16, 5: 25}\n"
     ]
    }
   ],
   "source": [
    "#s3-zip method\n",
    "l_keys=[1,2,3,4,5]\n",
    "l_values=[1,4,9,16,25]\n",
    "result=dict(zip(l_keys,l_values))\n",
    "print(result)"
   ]
  },
  {
   "cell_type": "code",
   "execution_count": 62,
   "id": "2fb5a57c",
   "metadata": {},
   "outputs": [
    {
     "name": "stdout",
     "output_type": "stream",
     "text": [
      "2 4\n",
      "3 9\n",
      "5 25\n",
      "8 1\n",
      "14 16\n"
     ]
    }
   ],
   "source": [
    "#14-sort a given dictionary by key\n",
    "dct={8: 1, 2: 4, 3: 9, 14: 16, 5: 25}\n",
    "#sorted_dct=sorted(dct.items(),key=lambda x:x for x in dct)\n",
    "for key in sorted(dct):\n",
    "    print(key,dct[key])"
   ]
  },
  {
   "cell_type": "code",
   "execution_count": 68,
   "id": "33ffcc74",
   "metadata": {},
   "outputs": [
    {
     "name": "stdout",
     "output_type": "stream",
     "text": [
      "[(2, 4), (3, 9), (5, 25), (8, 1), (14, 16)]\n"
     ]
    }
   ],
   "source": [
    "#s2-\n",
    "dct={8: 1, 2: 4, 3: 9, 14: 16, 5: 25}\n",
    "print(sorted(dct.items(), key=lambda i: i))"
   ]
  },
  {
   "cell_type": "code",
   "execution_count": 70,
   "id": "c2112ff9",
   "metadata": {},
   "outputs": [
    {
     "name": "stdout",
     "output_type": "stream",
     "text": [
      "1\n",
      "25\n"
     ]
    }
   ],
   "source": [
    "#15-maximum and minimum value in a dictionary\n",
    "dct={8: 1, 2: 4, 3: 9, 14: 16, 5: 25}\n",
    "print(min(dct.values()))\n",
    "print(max(dct.values()))"
   ]
  },
  {
   "cell_type": "code",
   "execution_count": 9,
   "id": "3eefe61c",
   "metadata": {},
   "outputs": [
    {
     "name": "stdout",
     "output_type": "stream",
     "text": [
      "Maximum Value:  5874\n",
      "Minimum Value:  500\n"
     ]
    }
   ],
   "source": [
    "#s2-lambda\n",
    "my_dict = {'x':500, 'y':5874, 'z': 560}\n",
    "\n",
    "key_max = max(my_dict.keys(), key=(lambda k: my_dict[k]))\n",
    "key_min = min(my_dict.keys(), key=(lambda k: my_dict[k]))\n",
    "\n",
    "print('Maximum Value: ',my_dict[key_max])\n",
    "print('Minimum Value: ',my_dict[key_min])"
   ]
  },
  {
   "cell_type": "code",
   "execution_count": 72,
   "id": "14c5307d",
   "metadata": {},
   "outputs": [
    {
     "name": "stdout",
     "output_type": "stream",
     "text": [
      "{'x': 'red', 'y': 'Yellow', 'z': 'Green'}\n"
     ]
    }
   ],
   "source": [
    "#16-get a dictionary from an object's fields\n",
    "class dictObj(object):\n",
    "     def __init__(self):\n",
    "         self.x = 'red'\n",
    "         self.y = 'Yellow'\n",
    "         self.z = 'Green'\n",
    "     def do_nothing(self):\n",
    "         pass\n",
    "test = dictObj()\n",
    "print(test.__dict__)"
   ]
  },
  {
   "cell_type": "code",
   "execution_count": 75,
   "id": "eec13501",
   "metadata": {},
   "outputs": [
    {
     "name": "stdout",
     "output_type": "stream",
     "text": [
      "{'a': 100, 'b': 200, 'c': 300, 'l': 500}\n"
     ]
    }
   ],
   "source": [
    "#17-remove duplicates from Dictionary.\n",
    "#does not make any sense as dictionaries do not have duplicate key values\n",
    "d = {'a': 100, 'b': 200, 'c':300, 'd':100,'l':500}\n",
    "res={}\n",
    "for k,v in d.items():\n",
    "    if v not in res.values():\n",
    "        res[k]=v\n",
    "print(res)"
   ]
  },
  {
   "cell_type": "code",
   "execution_count": 76,
   "id": "ff70a509",
   "metadata": {},
   "outputs": [
    {
     "name": "stdout",
     "output_type": "stream",
     "text": [
      "Not empty\n"
     ]
    }
   ],
   "source": [
    "#18-check a dictionary is empty or not\n",
    "d = {'a': 100, 'b': 200, 'c':300, 'd':100,'l':500}\n",
    "if len(d)==0:\n",
    "    print(\"dictionary is empty\")\n",
    "else:\n",
    "    print(\"Not empty\")"
   ]
  },
  {
   "cell_type": "code",
   "execution_count": 77,
   "id": "cf299a1b",
   "metadata": {},
   "outputs": [
    {
     "name": "stdout",
     "output_type": "stream",
     "text": [
      "Dictionary is empty\n"
     ]
    }
   ],
   "source": [
    "#s2-boolean method\n",
    "my_dict = {}\n",
    "\n",
    "if not bool(my_dict):\n",
    "    print(\"Dictionary is empty\")"
   ]
  },
  {
   "cell_type": "code",
   "execution_count": 1,
   "id": "2dcd5b38",
   "metadata": {},
   "outputs": [
    {
     "name": "stdout",
     "output_type": "stream",
     "text": [
      "{'a': 300, 'b': 200, 'd': 400}\n"
     ]
    }
   ],
   "source": [
    "#19-combine two dictionary adding values for common keys\n",
    "#s1-for loops\n",
    "d1 = {'a': 100, 'b': 200, 'c':300}\n",
    "d2 = {'a': 300, 'b': 200, 'd':400}\n",
    "for key in d1:\n",
    "    if key in d2:\n",
    "        d1[key]=d1[key]+d2[key]\n",
    "    else:\n",
    "        pass\n",
    "print(d2)"
   ]
  },
  {
   "cell_type": "code",
   "execution_count": 3,
   "id": "5c992495",
   "metadata": {},
   "outputs": [
    {
     "name": "stdout",
     "output_type": "stream",
     "text": [
      "{'c': 3, 'b': 122, 'a': 11}\n"
     ]
    }
   ],
   "source": [
    "#s2-reduce method\n",
    "from functools import reduce\n",
    "dict_seq = [\n",
    "  {'a': 1, 'b': 2, 'c': 3},\n",
    "  {'a':10, 'b': 20},\n",
    "  {'b': 100},]\n",
    "print(reduce(lambda d1,d2:{k:d1.get(k,0)+d2.get(k,0)\n",
    "            for k in set(d1)|set(d2)},dict_seq))  ##get return key,value pair. set return the commpn keys from all dictionaries"
   ]
  },
  {
   "cell_type": "code",
   "execution_count": 8,
   "id": "323c0d8c",
   "metadata": {},
   "outputs": [
    {
     "name": "stdout",
     "output_type": "stream",
     "text": [
      "defaultdict(<class 'int'>, {'a': 12, 'for': 325, 'c': 9, 'Geeks': 100, 'geek': 200})\n"
     ]
    }
   ],
   "source": [
    "#s3-itertools-chain method\n",
    "import itertools\n",
    "import collections\n",
    "\n",
    "dict1 = {'a': 12, 'for': 25, 'c': 9}\n",
    "dict2 = {'Geeks': 100, 'geek': 200, 'for': 300}\n",
    "cdict=collections.defaultdict(int)\n",
    "for key,val in itertools.chain(dict1.items(),dict2.items()): #chain both dictionaries together\n",
    "    #print(itertools.chain(dict1.items(),dict2.items()))\n",
    "    cdict[key]+=val\n",
    "print(cdict)"
   ]
  },
  {
   "cell_type": "code",
   "execution_count": 9,
   "id": "8891bf0e",
   "metadata": {},
   "outputs": [
    {
     "name": "stdout",
     "output_type": "stream",
     "text": [
      "Counter({'for': 325, 'geek': 200, 'Geeks': 100, 'a': 12, 'c': 9})\n"
     ]
    }
   ],
   "source": [
    "#Counter method\n",
    "from collections import Counter\n",
    " \n",
    "# initializing two dictionaries\n",
    "dict1 = {'a': 12, 'for': 25, 'c': 9}\n",
    "dict2 = {'Geeks': 100, 'geek': 200, 'for': 300} \n",
    "# adding the values with common key         \n",
    "Cdict = Counter(dict1) + Counter(dict2)\n",
    "print(Cdict)"
   ]
  },
  {
   "cell_type": "code",
   "execution_count": 24,
   "id": "f3dc0993",
   "metadata": {},
   "outputs": [
    {
     "name": "stdout",
     "output_type": "stream",
     "text": [
      "{'V': 'S009', 'VI': 'S005', 'VIII': 'S007'}\n"
     ]
    }
   ],
   "source": [
    "#20-print all unique values in a dictionary.\n",
    "d= [{\"V\":\"S001\"}, {\"V\": \"S002\"}, {\"VI\": \"S001\"}, {\"VI\": \"S005\"}, {\"VII\":\"S005\"}, {\"V\":\"S009\"},{\"VIII\":\"S007\"}]\n",
    "res={}\n",
    "for idx in d:\n",
    "    for k,v in idx.items():\n",
    "        if v not in res.values():\n",
    "            res[k]=v\n",
    "print(res)"
   ]
  },
  {
   "cell_type": "code",
   "execution_count": 25,
   "id": "47d58c4b",
   "metadata": {
    "scrolled": true
   },
   "outputs": [
    {
     "name": "stdout",
     "output_type": "stream",
     "text": [
      "Unique Values:  {'S001', 'S002', 'S005', 'S007', 'S009'}\n"
     ]
    }
   ],
   "source": [
    "d= [{\"V\":\"S001\"}, {\"V\": \"S002\"}, {\"VI\": \"S001\"}, {\"VI\": \"S005\"}, {\"VII\":\"S005\"}, {\"V\":\"S009\"},{\"VIII\":\"S007\"}]\n",
    "u_value=set(val for dic in d for val in dic.values())\n",
    "print(\"Unique Values: \",u_value)"
   ]
  },
  {
   "cell_type": "code",
   "execution_count": 36,
   "id": "183495fa",
   "metadata": {},
   "outputs": [
    {
     "name": "stdout",
     "output_type": "stream",
     "text": [
      "ac\n",
      "ad\n",
      "bc\n",
      "bd\n"
     ]
    }
   ],
   "source": [
    "#21-create and display all combinations of letters, selecting each letter from a different key in a dictionary\n",
    "import itertools\n",
    "d= {'1':['a','b'], '2':['c','d']}\n",
    "for combo in itertools.product(*[d[k] for k in (d.keys())]): #list all values in a list and cross product\n",
    "    print(''.join(combo))"
   ]
  },
  {
   "cell_type": "code",
   "execution_count": 31,
   "id": "0b4788d7",
   "metadata": {},
   "outputs": [
    {
     "name": "stdout",
     "output_type": "stream",
     "text": [
      "[['q', 'b'], ['c', 'd']]\n"
     ]
    }
   ],
   "source": [
    "d= {'1':['q','b'], '2':['c','d']}\n",
    "comb=[d[k] for k in (d.keys())]\n",
    "print(comb)"
   ]
  },
  {
   "cell_type": "code",
   "execution_count": 48,
   "id": "56aa5dc2",
   "metadata": {},
   "outputs": [
    {
     "name": "stdout",
     "output_type": "stream",
     "text": [
      "[('c', 560), ('b', 5874), ('e', 5874)]\n"
     ]
    }
   ],
   "source": [
    "#22- find the highest 3 values of corresponding keys in a dictionary.\n",
    "from operator import itemgetter\n",
    "my_dict = {'a':500, 'b':5874, 'c': 560,'d':400, 'e':5874, 'f': 20} \n",
    "sorted_dict=sorted(my_dict.items(),key=itemgetter(1))\n",
    "print(sorted_dict[-3:])"
   ]
  },
  {
   "cell_type": "code",
   "execution_count": 44,
   "id": "6c73df1e",
   "metadata": {},
   "outputs": [
    {
     "name": "stdout",
     "output_type": "stream",
     "text": [
      "['b', 'e', 'c']\n"
     ]
    }
   ],
   "source": [
    "#s2-nlargest method\n",
    "from heapq import nlargest\n",
    "my_dict = {'a':500, 'b':5874, 'c': 560,'d':400, 'e':5874, 'f': 20}\n",
    "three_largest=nlargest(3,my_dict,key=my_dict.get)\n",
    "print(three_largest)"
   ]
  },
  {
   "cell_type": "code",
   "execution_count": 69,
   "id": "a770880b",
   "metadata": {},
   "outputs": [
    {
     "name": "stdout",
     "output_type": "stream",
     "text": [
      "Counter({'item1': 1150, 'item2': 300})\n"
     ]
    }
   ],
   "source": [
    "#Date-8/9/22\n",
    "#23-combine values in python list of dictionaries\n",
    "#s1-for loops\n",
    "from collections import Counter\n",
    "l_dic=[{'item': 'item1', 'amount': 400}, {'item': 'item2', 'amount': 300}, {'item': 'item1', 'amount': 750}]\n",
    "res_lst=Counter()\n",
    "#res_lst=[]\n",
    "for idx in l_dic:\n",
    "    res_lst[idx['item']]+=idx['amount']\n",
    "print(res_lst)"
   ]
  },
  {
   "cell_type": "code",
   "execution_count": 74,
   "id": "f8da0146",
   "metadata": {},
   "outputs": [
    {
     "name": "stdout",
     "output_type": "stream",
     "text": [
      "{'w': 1, '3': 1, 'r': 2, 'e': 2, 's': 1, 'o': 1, 'u': 1, 'c': 1}\n"
     ]
    }
   ],
   "source": [
    "#24-create a dictionary from a string\n",
    "#Sample string : 'w3resource'\n",
    "#Expected output: {'w': 1, '3': 1, 'r': 2, 'e': 2, 's': 1, 'o': 1, 'u': 1, 'c': 1}\n",
    "strng='w3resource'\n",
    "#from collections import Counter\n",
    "res_cnt={}\n",
    "for i in strng:\n",
    "    res_cnt[i]=strng.count(i)\n",
    "print(res_cnt)"
   ]
  },
  {
   "cell_type": "code",
   "execution_count": 75,
   "id": "fb97acfc",
   "metadata": {},
   "outputs": [
    {
     "name": "stdout",
     "output_type": "stream",
     "text": [
      "{'w': 1, '3': 1, 'r': 2, 'e': 2, 's': 1, 'o': 1, 'u': 1, 'c': 1}\n"
     ]
    }
   ],
   "source": [
    "#s2-get method\n",
    "from collections import defaultdict,Counter\n",
    "strng='w3resource'\n",
    "my_dct={}\n",
    "for letter in strng:\n",
    "    my_dct[letter]=my_dct.get(letter,0)+1\n",
    "print(my_dct)"
   ]
  },
  {
   "cell_type": "code",
   "execution_count": 79,
   "id": "ed499670",
   "metadata": {},
   "outputs": [
    {
     "name": "stdout",
     "output_type": "stream",
     "text": [
      "w --> 1\n",
      "3 --> 1\n",
      "r --> 2\n",
      "e --> 2\n"
     ]
    }
   ],
   "source": [
    "#25-print a dictionary in table format\n",
    "d={'w': 1, '3': 1, 'r': 2, 'e': 2}\n",
    "for key,val in d.items():\n",
    "    print(key,'-->',val)"
   ]
  },
  {
   "cell_type": "code",
   "execution_count": 80,
   "id": "1c15c380",
   "metadata": {},
   "outputs": [
    {
     "name": "stdout",
     "output_type": "stream",
     "text": [
      "C1 C2 C3\n",
      "1 5 9\n",
      "2 6 10\n",
      "3 7 11\n"
     ]
    }
   ],
   "source": [
    "#s2-\n",
    "my_dict = {'C1':[1,2,3],'C2':[5,6,7],'C3':[9,10,11]}\n",
    "for row in zip(*([key]+value for key,value in sorted(my_dict.items()))):\n",
    "    print(*row)"
   ]
  },
  {
   "cell_type": "code",
   "execution_count": 94,
   "id": "cf221860",
   "metadata": {},
   "outputs": [
    {
     "name": "stdout",
     "output_type": "stream",
     "text": [
      "3\n"
     ]
    }
   ],
   "source": [
    "#26- count the values associated with key in a dictionary\n",
    "student = [{'id': 1, 'success': True, 'name': 'Lary'},\n",
    " {'id': 2, 'success': False, 'name': 'Rabi'},\n",
    " {'id': 3, 'success': True, 'name': 'Alex'}]\n",
    "ip_key='id'\n",
    "cnt=0\n",
    "for dct in student:\n",
    "    for key,val in dct.items():\n",
    "        #print(key)\n",
    "        if key==ip_key:\n",
    "            cnt=dct.get(key)+1\n",
    "           # print(cnt)\n",
    "print(cnt-1)            "
   ]
  },
  {
   "cell_type": "code",
   "execution_count": 95,
   "id": "9bf2c89e",
   "metadata": {},
   "outputs": [
    {
     "name": "stdout",
     "output_type": "stream",
     "text": [
      "6\n"
     ]
    }
   ],
   "source": [
    "student = [{'id': 1, 'success': True, 'name': 'Lary'},\n",
    " {'id': 2, 'success': False, 'name': 'Rabi'},\n",
    " {'id': 3, 'success': True, 'name': 'Alex'}]\n",
    "print(sum(d['id'] for d in student))"
   ]
  },
  {
   "cell_type": "code",
   "execution_count": 97,
   "id": "331c3f69",
   "metadata": {},
   "outputs": [
    {
     "name": "stdout",
     "output_type": "stream",
     "text": [
      "{1: {2: {3: {4: {}}}}}\n",
      "{}\n"
     ]
    }
   ],
   "source": [
    "#27-convert a list into a nested dictionary of keys. \n",
    "num_lst=[1,2,3,4]\n",
    "new_dct=current={}\n",
    "for name in num_lst:\n",
    "    current[name]={}\n",
    "    current=current[name]\n",
    "print(new_dct)\n",
    "print(current)"
   ]
  },
  {
   "cell_type": "code",
   "execution_count": 106,
   "id": "d7541739",
   "metadata": {},
   "outputs": [
    {
     "name": "stdout",
     "output_type": "stream",
     "text": [
      "[('a', 1), ('b', 1), ('e', 1), ('f', 1), ('h', 1)]\n"
     ]
    }
   ],
   "source": [
    "#28-sort a list alphabetically in a dictionary\n",
    "from operator import itemgetter\n",
    "l=['b','f','a','e','h']\n",
    "dct={}\n",
    "for i in l:\n",
    "    dct[i]=l.count(i)\n",
    "print(sorted(dct.items(),key=itemgetter(0)))"
   ]
  },
  {
   "cell_type": "code",
   "execution_count": 107,
   "id": "87966e0a",
   "metadata": {},
   "outputs": [
    {
     "name": "stdout",
     "output_type": "stream",
     "text": [
      "{'n1': [1, 2, 3], 'n2': [1, 2, 5], 'n3': [2, 3, 4]}\n"
     ]
    }
   ],
   "source": [
    "num = {'n1': [2, 3, 1], 'n2': [5, 1, 2], 'n3': [3, 2, 4]}\n",
    "sorted_dct={x:sorted(y) for x,y in num.items()}\n",
    "print(sorted_dct)"
   ]
  },
  {
   "cell_type": "code",
   "execution_count": 17,
   "id": "cf2935ba",
   "metadata": {},
   "outputs": [
    {
     "name": "stdout",
     "output_type": "stream",
     "text": [
      "{'item1': 45.5, 'item2': 35, 'item3': 41.3, 'item4': 55, 'item5': 24}\n"
     ]
    }
   ],
   "source": [
    "#29-remove spaces from dictionary keys\n",
    "d= {'ite m1 ': 45.50, 'it em2':35, 'i  tem3': 41.30, ' item4':55, 'item   5': 24}\n",
    "d_new={}\n",
    "for key,val in d.items():\n",
    "    new_key=key.replace(\" \",\"\")\n",
    "    d_new[new_key]=val\n",
    "    \n",
    "print(d_new)    "
   ]
  },
  {
   "cell_type": "code",
   "execution_count": 19,
   "id": "a217146a",
   "metadata": {},
   "outputs": [
    {
     "name": "stdout",
     "output_type": "stream",
     "text": [
      "New dictionary:  {'S001': ['Math', 'Science'], 'S002': ['Math', 'English']}\n"
     ]
    }
   ],
   "source": [
    "#translate method\n",
    "student_list = {'S  001': ['Math', 'Science'], 'S    002': ['Math', 'English']}\n",
    "stud_dct={x.translate({32:None}):y for x ,y in student_list.items()}  ##32 is ascii value for space\n",
    "print(\"New dictionary: \",stud_dct)"
   ]
  },
  {
   "cell_type": "code",
   "execution_count": 25,
   "id": "1be43d87",
   "metadata": {},
   "outputs": [
    {
     "name": "stdout",
     "output_type": "stream",
     "text": [
      "[('item3', 41.3), ('item1', 45.5), ('item4', 55)]\n"
     ]
    }
   ],
   "source": [
    "#30- get the top three items in a shop\n",
    "from operator import itemgetter\n",
    "d={'item1': 45.50, 'item2':35, 'item3': 41.30, 'item4':55, 'item5': 24}\n",
    "d_sorted=sorted(d.items(),key=itemgetter(1))\n",
    "print(d_sorted[-3:])"
   ]
  },
  {
   "cell_type": "code",
   "execution_count": 26,
   "id": "bf8deab9",
   "metadata": {},
   "outputs": [
    {
     "name": "stdout",
     "output_type": "stream",
     "text": [
      "item4 55\n",
      "item1 45.5\n",
      "item3 41.3\n"
     ]
    }
   ],
   "source": [
    "#n_largest method\n",
    "from heapq import nlargest\n",
    "items={'item1': 45.50, 'item2':35, 'item3': 41.30, 'item4':55, 'item5': 24}\n",
    "for name,value in nlargest(3,items.items(),key=itemgetter(1)):\n",
    "    print(name,value)"
   ]
  },
  {
   "cell_type": "code",
   "execution_count": 28,
   "id": "4426b953",
   "metadata": {},
   "outputs": [
    {
     "name": "stdout",
     "output_type": "stream",
     "text": [
      "1   10   1\n",
      "2   20   2\n",
      "3   30   3\n",
      "4   40   4\n",
      "5   50   5\n",
      "6   60   6\n"
     ]
    }
   ],
   "source": [
    "#31-get the key, value and item in a dictionary\n",
    "dict_num = {1: 10, 2: 20, 3: 30, 4: 40, 5: 50, 6: 60}\n",
    "for count,(key,value) in enumerate(dict_num.items(),1):\n",
    "    print(key,' ',value,' ',count)"
   ]
  },
  {
   "cell_type": "code",
   "execution_count": 29,
   "id": "8854126d",
   "metadata": {},
   "outputs": [
    {
     "name": "stdout",
     "output_type": "stream",
     "text": [
      "Aex\n",
      "class : V\n",
      "rolld_id : 2\n",
      "Puja\n",
      "class : V\n",
      "roll_id : 3\n"
     ]
    }
   ],
   "source": [
    "#32-print a dictionary line by line\n",
    "students = {'Aex':{'class':'V',\n",
    "        'rolld_id':2},\n",
    "        'Puja':{'class':'V',\n",
    "        'roll_id':3}}\n",
    "for a in students:\n",
    "    print(a)\n",
    "    for b in students[a]:\n",
    "        print (b,':',students[a][b])"
   ]
  },
  {
   "cell_type": "code",
   "execution_count": 38,
   "id": "a7a151f7",
   "metadata": {},
   "outputs": [
    {
     "name": "stdout",
     "output_type": "stream",
     "text": [
      "multiple keys exist in dictionary\n"
     ]
    }
   ],
   "source": [
    "#33-check multiple keys exists in a dictionary\n",
    "lst=[]\n",
    "d=[{'id': 1, 'success': True, 'name': 'Lary'},\n",
    " {'id': 2, 'success': False, 'name': 'Rabi'},\n",
    " {'id': 3, 'success': True, 'name': 'Alex'}]\n",
    "for idx in d:\n",
    "    if len(idx.keys())>1:\n",
    "        print(\"multiple keys exist in dictionary\")\n",
    "        break\n",
    "    "
   ]
  },
  {
   "cell_type": "code",
   "execution_count": 40,
   "id": "e6d361b1",
   "metadata": {},
   "outputs": [
    {
     "name": "stdout",
     "output_type": "stream",
     "text": [
      "count of values= 5\n"
     ]
    }
   ],
   "source": [
    "#34-count number of items in a dictionary value that is a list\n",
    "dict =  {'Alex': ['subj1', 'subj2', 'subj3'], 'David': ['subj1', 'subj2']}\n",
    "ctr=sum(map(len,dict.values()))\n",
    "print(\"count of values=\",ctr)"
   ]
  },
  {
   "cell_type": "code",
   "execution_count": 48,
   "id": "59d71cf5",
   "metadata": {},
   "outputs": [
    {
     "name": "stdout",
     "output_type": "stream",
     "text": [
      "[('Chemistry', 87), ('Physics', 83), ('Math', 81)]\n",
      "[(2, 3), (1, 1), (3, 1), (4, 1), (5, 1)]\n"
     ]
    }
   ],
   "source": [
    "#35-sort Counter by value\n",
    "from collections import Counter\n",
    "d={'Math':81, 'Physics':83, 'Chemistry':87}\n",
    "lst=[1,2,3,4,2,5,2]\n",
    "#sorted_d=sorted(d,key=Counter(d))\n",
    "x=Counter(d)\n",
    "y=Counter(lst)\n",
    "print(x.most_common())\n",
    "print(y.most_common())"
   ]
  },
  {
   "cell_type": "code",
   "execution_count": 52,
   "id": "e637842e",
   "metadata": {},
   "outputs": [
    {
     "name": "stdout",
     "output_type": "stream",
     "text": [
      "{'Class-V': 1, 'Class-VI': 3, 'Class-VII': 2, 'Class-VIII': 3}\n"
     ]
    }
   ],
   "source": [
    "#36-create a dictionary from two lists without losing duplicate values\n",
    "#Sample lists: ['Class-V', 'Class-VI', 'Class-VII', 'Class-VIII'], [1, 2, 2, 3]\n",
    "#Expected Output: defaultdict(<class 'set'>, {'Class-V': {1}, 'Class-VI': {2}, 'Class-VII': {2}, 'Class-VIII': {3}})\n",
    "l1=['Class-V', 'Class-VI', 'Class-VII', 'Class-VIII']\n",
    "l2=[1, 3, 2, 3]\n",
    "dct={}\n",
    "for i,j in zip(l1,l2):\n",
    "    dct[i]=j\n",
    "print(dct)"
   ]
  },
  {
   "cell_type": "code",
   "execution_count": 51,
   "id": "37db2f39",
   "metadata": {},
   "outputs": [
    {
     "name": "stdout",
     "output_type": "stream",
     "text": [
      "defaultdict(<class 'set'>, {'Class-V': {1}, 'Class-VI': {2}, 'Class-VII': {2}, 'Class-VIII': {3}})\n"
     ]
    }
   ],
   "source": [
    "#s2-defaultdict\n",
    "from collections import defaultdict\n",
    "class_list = ['Class-V', 'Class-VI', 'Class-VII', 'Class-VIII']\n",
    "id_list = [1, 2, 2, 3]\n",
    "temp=defaultdict(set)\n",
    "for c,i in zip(class_list,id_list):\n",
    "    temp[c].add(i)\n",
    "print(temp)"
   ]
  },
  {
   "cell_type": "code",
   "execution_count": 64,
   "id": "54c10224",
   "metadata": {},
   "outputs": [
    {
     "name": "stdout",
     "output_type": "stream",
     "text": [
      "[{'id': 1, 'subject': 'math', 'V+VI': 76.0}, {'id': 2, 'subject': 'math', 'V+VI': 73.5}, {'id': 3, 'subject': 'math', 'V+VI': 80.5}]\n"
     ]
    }
   ],
   "source": [
    "#37-replace dictionary values with their average\n",
    "details= [\n",
    "  {'id' : 1, 'subject' : 'math', 'V' : 70, 'VI' : 82},\n",
    "  {'id' : 2, 'subject' : 'math', 'V' : 73, 'VI' : 74},\n",
    "  {'id' : 3, 'subject' : 'math', 'V' : 75, 'VI' : 86}\n",
    "]\n",
    "for idx in details:\n",
    "    #print(idx['V'])\n",
    "    idx['V+VI']=(idx['V']+idx['VI'])/2\n",
    "    del idx['VI']\n",
    "    del idx['V']\n",
    "print(details)   "
   ]
  },
  {
   "cell_type": "code",
   "execution_count": 60,
   "id": "19c5983e",
   "metadata": {},
   "outputs": [
    {
     "name": "stdout",
     "output_type": "stream",
     "text": [
      "[{'id': 1, 'subject': 'math', 'V+VI': 76.0}, {'id': 2, 'subject': 'math', 'V+VI': 73.5}, {'id': 3, 'subject': 'math', 'V+VI': 80.5}]\n"
     ]
    }
   ],
   "source": [
    "def sum_math_v_vi_average(list_of_dicts):\n",
    "    for d in list_of_dicts:\n",
    "        n1 = d.pop('V')\n",
    "        n2 = d.pop('VI')\n",
    "        d['V+VI'] = (n1 + n2)/2\n",
    "    return list_of_dicts \n",
    "student_details= [\n",
    "  {'id' : 1, 'subject' : 'math', 'V' : 70, 'VI' : 82},\n",
    "  {'id' : 2, 'subject' : 'math', 'V' : 73, 'VI' : 74},\n",
    "  {'id' : 3, 'subject' : 'math', 'V' : 75, 'VI' : 86}\n",
    "]\n",
    "print(sum_math_v_vi_average(student_details))"
   ]
  },
  {
   "cell_type": "code",
   "execution_count": 66,
   "id": "d4df178c",
   "metadata": {},
   "outputs": [
    {
     "name": "stdout",
     "output_type": "stream",
     "text": [
      "{'key1': 1}\n"
     ]
    }
   ],
   "source": [
    "#38-match key values in two dictionaries\n",
    "d1={'key1': 1, 'key2': 3, 'key3': 2}\n",
    "d2={'key1': 1, 'key2': 2}\n",
    "d3={}\n",
    "for key,val in d1.items():\n",
    "    if (key,val) in d2.items():\n",
    "        d3[key]=val\n",
    "print(d3)"
   ]
  },
  {
   "cell_type": "code",
   "execution_count": 67,
   "id": "8d19420d",
   "metadata": {},
   "outputs": [
    {
     "name": "stdout",
     "output_type": "stream",
     "text": [
      "key1: 1 is present in both x and y\n"
     ]
    }
   ],
   "source": [
    "#set method\n",
    "x = {'key1': 1, 'key2': 3, 'key3': 2}\n",
    "y = {'key1': 1, 'key2': 2}\n",
    "for (key,value) in set(x.items()) &set(y.items()):\n",
    "    print('%s: %s is present in both x and y' % (key, value))"
   ]
  },
  {
   "cell_type": "code",
   "execution_count": 69,
   "id": "6e12dfef",
   "metadata": {},
   "outputs": [
    {
     "name": "stdout",
     "output_type": "stream",
     "text": [
      "<class 'dict'>\n",
      "\n",
      "Json file to dictionary:\n",
      "{'students': [{'firstName': 'Nikki', 'lastName': 'Roysden'}, {'firstName': 'Mervin', 'lastName': 'Friedland'}, {'firstName': 'Aron ', 'lastName': 'Wilkins'}], 'teachers': [{'firstName': 'Amberly', 'lastName': 'Calico'}, {'firstName': 'Regine', 'lastName': 'Agtarap'}]}\n"
     ]
    }
   ],
   "source": [
    "#39-store a given dictionary in a json file\n",
    "d={'students': [{'firstName': 'Nikki', 'lastName': 'Roysden'}, {'firstName': 'Mervin', 'lastName': 'Friedland'}, \n",
    "                {'firstName': 'Aron ', 'lastName': 'Wilkins'}], 'teachers': [{'firstName': 'Amberly', 'lastName': 'Calico'},\n",
    "                                                                             {'firstName': 'Regine', 'lastName': 'Agtarap'}]}\n",
    "print(type(d))\n",
    "import json\n",
    "with open(\"dicitionary\",\"w\") as f:\n",
    "    json.dump(d,f,indent=4,sort_keys=True)\n",
    "    \n",
    "print(\"\\nJson file to dictionary:\")\n",
    "with open('dicitionary') as f:\n",
    "    data=json.load(f)\n",
    "print(data)"
   ]
  },
  {
   "cell_type": "code",
   "execution_count": 83,
   "id": "614eadc1",
   "metadata": {},
   "outputs": [
    {
     "name": "stdout",
     "output_type": "stream",
     "text": [
      "15\n",
      "25\n",
      "35\n",
      "{'x': [11, 12, 13, 14, 15, 16, 17, 18, 19], 'y': [21, 22, 23, 24, 25, 26, 27, 28, 29], 'z': [31, 32, 33, 34, 35, 36, 37, 38, 39]}\n"
     ]
    }
   ],
   "source": [
    "#40-create a dictionary of keys x, y, and z where each key has as value a list from 11-20, 21-30, and 31-40 respectively. \n",
    "#Access the fifth value of each key from the dictionary\n",
    "#{'x': [11, 12, 13, 14, 15, 16, 17, 18, 19],\n",
    "#'y': [21, 22, 23, 24, 25, 26, 27, 28, 29],\n",
    "#'z': [31, 32, 33, 34, 35, 36, 37, 38, 39]}\n",
    "\n",
    "d={}\n",
    "lst_num=[]\n",
    "lst_alphabet=['x','y','z']\n",
    "cnt=0\n",
    "for i in range(11,41,1):\n",
    "    if i%10>0:\n",
    "        lst_num.append(i)\n",
    "    if i%10==0:\n",
    "       # print(lst_alphabet[cnt])\n",
    "        d[lst_alphabet[cnt]]=lst_num\n",
    "        print(d[lst_alphabet[cnt]][4])\n",
    "        lst_num=[]\n",
    "        cnt+=1\n",
    "print(d)\n",
    "#print(d.values()[4])"
   ]
  },
  {
   "cell_type": "code",
   "execution_count": 86,
   "id": "5c2e275c",
   "metadata": {},
   "outputs": [
    {
     "ename": "TypeError",
     "evalue": "'dict' object is not callable",
     "output_type": "error",
     "traceback": [
      "\u001b[1;31m---------------------------------------------------------------------------\u001b[0m",
      "\u001b[1;31mTypeError\u001b[0m                                 Traceback (most recent call last)",
      "\u001b[1;32m~\\AppData\\Local\\Temp/ipykernel_16656/3861396890.py\u001b[0m in \u001b[0;36m<module>\u001b[1;34m\u001b[0m\n\u001b[0;32m      1\u001b[0m \u001b[1;32mfrom\u001b[0m \u001b[0mpprint\u001b[0m \u001b[1;32mimport\u001b[0m \u001b[0mpprint\u001b[0m\u001b[1;33m\u001b[0m\u001b[1;33m\u001b[0m\u001b[0m\n\u001b[1;32m----> 2\u001b[1;33m \u001b[0mdict_nums\u001b[0m \u001b[1;33m=\u001b[0m \u001b[0mdict\u001b[0m\u001b[1;33m(\u001b[0m\u001b[0mx\u001b[0m\u001b[1;33m=\u001b[0m\u001b[0mlist\u001b[0m\u001b[1;33m(\u001b[0m\u001b[0mrange\u001b[0m\u001b[1;33m(\u001b[0m\u001b[1;36m11\u001b[0m\u001b[1;33m,\u001b[0m \u001b[1;36m20\u001b[0m\u001b[1;33m)\u001b[0m\u001b[1;33m)\u001b[0m\u001b[1;33m,\u001b[0m \u001b[0my\u001b[0m\u001b[1;33m=\u001b[0m\u001b[0mlist\u001b[0m\u001b[1;33m(\u001b[0m\u001b[0mrange\u001b[0m\u001b[1;33m(\u001b[0m\u001b[1;36m21\u001b[0m\u001b[1;33m,\u001b[0m \u001b[1;36m30\u001b[0m\u001b[1;33m)\u001b[0m\u001b[1;33m)\u001b[0m\u001b[1;33m,\u001b[0m \u001b[0mz\u001b[0m\u001b[1;33m=\u001b[0m\u001b[0mlist\u001b[0m\u001b[1;33m(\u001b[0m\u001b[0mrange\u001b[0m\u001b[1;33m(\u001b[0m\u001b[1;36m31\u001b[0m\u001b[1;33m,\u001b[0m \u001b[1;36m40\u001b[0m\u001b[1;33m)\u001b[0m\u001b[1;33m)\u001b[0m\u001b[1;33m)\u001b[0m\u001b[1;33m\u001b[0m\u001b[1;33m\u001b[0m\u001b[0m\n\u001b[0m\u001b[0;32m      3\u001b[0m \u001b[0mpprint\u001b[0m\u001b[1;33m(\u001b[0m\u001b[0mdict_nums\u001b[0m\u001b[1;33m)\u001b[0m\u001b[1;33m\u001b[0m\u001b[1;33m\u001b[0m\u001b[0m\n\u001b[0;32m      4\u001b[0m \u001b[0mprint\u001b[0m\u001b[1;33m(\u001b[0m\u001b[0mdict_nums\u001b[0m\u001b[1;33m[\u001b[0m\u001b[1;34m\"x\"\u001b[0m\u001b[1;33m]\u001b[0m\u001b[1;33m[\u001b[0m\u001b[1;36m4\u001b[0m\u001b[1;33m]\u001b[0m\u001b[1;33m)\u001b[0m\u001b[1;33m\u001b[0m\u001b[1;33m\u001b[0m\u001b[0m\n\u001b[0;32m      5\u001b[0m \u001b[0mprint\u001b[0m\u001b[1;33m(\u001b[0m\u001b[0mdict_nums\u001b[0m\u001b[1;33m[\u001b[0m\u001b[1;34m\"y\"\u001b[0m\u001b[1;33m]\u001b[0m\u001b[1;33m[\u001b[0m\u001b[1;36m4\u001b[0m\u001b[1;33m]\u001b[0m\u001b[1;33m)\u001b[0m\u001b[1;33m\u001b[0m\u001b[1;33m\u001b[0m\u001b[0m\n",
      "\u001b[1;31mTypeError\u001b[0m: 'dict' object is not callable"
     ]
    }
   ],
   "source": [
    "from pprint import pprint\n",
    "dict_nums = dict(x=list(range(11, 20)), y=list(range(21, 30)), z=list(range(31, 40)))\n",
    "pprint(dict_nums)\n",
    "print(dict_nums[\"x\"][4])\n",
    "print(dict_nums[\"y\"][4])\n",
    "print(dict_nums[\"z\"][4])\n",
    "for k,v in dict_nums.items():\n",
    "   print(k, \"has value\", v)"
   ]
  },
  {
   "cell_type": "code",
   "execution_count": 2,
   "id": "4f33563b",
   "metadata": {},
   "outputs": [
    {
     "name": "stdout",
     "output_type": "stream",
     "text": [
      "{'c1': 'Red', 'c2': 'Green'}\n"
     ]
    }
   ],
   "source": [
    "#Date -8/10/22\n",
    "#41-drop empty Items from a given Dictionary.\n",
    "d={'c1': 'Red', 'c2': 'Green', 'c3': None}\n",
    "d_new={}\n",
    "for key,val in d.items():\n",
    "    if val==None:\n",
    "        continue\n",
    "    else:\n",
    "        d_new[key]=val\n",
    "print(d_new)"
   ]
  },
  {
   "cell_type": "code",
   "execution_count": 3,
   "id": "6d6acd0c",
   "metadata": {},
   "outputs": [
    {
     "name": "stdout",
     "output_type": "stream",
     "text": [
      "Original Dictionary:\n",
      "{'c1': 'Red', 'c2': 'Green', 'c3': None}\n",
      "New Dictionary after dropping empty items:\n",
      "{'c1': 'Red', 'c2': 'Green'}\n"
     ]
    }
   ],
   "source": [
    "dict1 = {'c1': 'Red', 'c2': 'Green', 'c3':None}\n",
    "print(\"Original Dictionary:\")\n",
    "print(dict1)\n",
    "print(\"New Dictionary after dropping empty items:\")\n",
    "dict1 = {key:value for (key, value) in dict1.items() if value is not None}\n",
    "print(dict1)"
   ]
  },
  {
   "cell_type": "code",
   "execution_count": 5,
   "id": "4c855251",
   "metadata": {},
   "outputs": [
    {
     "name": "stdout",
     "output_type": "stream",
     "text": [
      "{'Cierra Vega': 175, 'Alden Cantrell': 180, 'Pierre Cox': 190}\n"
     ]
    }
   ],
   "source": [
    "#42-filter a dictionary based on values\n",
    "d_stud={'Cierra Vega': 175, 'Alden Cantrell': 180, 'Kierra Gentry': 165, 'Pierre Cox': 190}\n",
    "marks=170\n",
    "d_stud_new={}\n",
    "for key, val in d_stud.items():\n",
    "    if val>marks:\n",
    "        d_stud_new[key]=val\n",
    "print(d_stud_new)"
   ]
  },
  {
   "cell_type": "code",
   "execution_count": 6,
   "id": "13a0e363",
   "metadata": {},
   "outputs": [
    {
     "name": "stdout",
     "output_type": "stream",
     "text": [
      "Original Dictionary:\n",
      "{'Cierra Vega': 175, 'Alden Cantrell': 180, 'Kierra Gentry': 165, 'Pierre Cox': 190}\n",
      "Marks greater than 170:\n",
      "{'Cierra Vega': 175, 'Alden Cantrell': 180, 'Pierre Cox': 190}\n"
     ]
    }
   ],
   "source": [
    "marks = {'Cierra Vega': 175, 'Alden Cantrell': 180, 'Kierra Gentry': 165, 'Pierre Cox': 190}\n",
    "print(\"Original Dictionary:\")\n",
    "print(marks)\n",
    "print(\"Marks greater than 170:\")\n",
    "result = {key:value for (key, value) in marks.items() if value >= 170}\n",
    "print(result)"
   ]
  },
  {
   "cell_type": "code",
   "execution_count": 18,
   "id": "feaccfbd",
   "metadata": {},
   "outputs": [
    {
     "name": "stdout",
     "output_type": "stream",
     "text": [
      "{'S001': {'Adina Park': 85}, 'S002': {'Leyton Marsh': 98}, 'S003': {'Duncan Boyle': 89}, 'S004': {'Saim Richards': 92}}\n"
     ]
    }
   ],
   "source": [
    "#43-convert more than one list to nested dictionary\n",
    "l1=['S001', 'S002', 'S003', 'S004']\n",
    "l2=['Adina Park', 'Leyton Marsh', 'Duncan Boyle', 'Saim Richards']\n",
    "l3=[85, 98, 89, 92]\n",
    "l4=[]\n",
    "d_nested={}\n",
    "#d_inner={}\n",
    "for i,j in zip(l2,l3):\n",
    "    d_inner={}\n",
    "    d_inner[i]=j\n",
    "    l4.append(d_inner)\n",
    "    \n",
    "for key,val in zip(l1,l4):\n",
    "    d_nested[key]=val\n",
    "#print(l4)\n",
    "print(d_nested)"
   ]
  },
  {
   "cell_type": "code",
   "execution_count": 20,
   "id": "223e72dc",
   "metadata": {},
   "outputs": [
    {
     "name": "stdout",
     "output_type": "stream",
     "text": [
      "[{'S001': {'Adina Park': 85}}, {'S002': {'Leyton Marsh': 98}}, {'S003': {'Duncan Boyle': 89}}, {'S004': {'Saim Richards': 92}}]\n"
     ]
    }
   ],
   "source": [
    "#s2-much optimized\n",
    "def nested_dictionary(l1,l2,l3):\n",
    "    result=[{x:{y:z}} for (x,y,z) in zip(l1,l2,l3)]\n",
    "    return result\n",
    "student_id = [\"S001\", \"S002\", \"S003\", \"S004\"] \n",
    "student_name = [\"Adina Park\", \"Leyton Marsh\", \"Duncan Boyle\", \"Saim Richards\"] \n",
    "student_grade = [85, 98, 89, 92]\n",
    "print(nested_dictionary(student_id, student_name, student_grade))"
   ]
  },
  {
   "cell_type": "code",
   "execution_count": 24,
   "id": "32bfb34d",
   "metadata": {},
   "outputs": [
    {
     "name": "stdout",
     "output_type": "stream",
     "text": [
      "{'Cierra Vega': (6.2, 70)}\n"
     ]
    }
   ],
   "source": [
    "#44-filter the height and width of students, which are stored in a dictionary.\n",
    "d_dim={'Cierra Vega': (6.2, 70), 'Alden Cantrell': (5.9, 65), 'Kierra Gentry': (6.0, 68), 'Pierre Cox': (5.8, 66)}\n",
    "ht=6\n",
    "wt=70\n",
    "d_dim_new={}\n",
    "for key,val in d_dim.items():\n",
    "    if val[0]>=ht and val[1]>=wt:\n",
    "        d_dim_new[key]=val\n",
    "print(d_dim_new)"
   ]
  },
  {
   "cell_type": "code",
   "execution_count": 26,
   "id": "4aca19ed",
   "metadata": {},
   "outputs": [
    {
     "name": "stdout",
     "output_type": "stream",
     "text": [
      "Original Dictionary:\n",
      "{'Cierra Vega': (6.2, 70), 'Alden Cantrell': (5.9, 65), 'Kierra Gentry': (6.0, 68), 'Pierre Cox': (5.8, 66)}\n",
      "\n",
      "Height > 6ft and Weight> 70kg:\n",
      "{'Cierra Vega': (6.2, 70)}\n"
     ]
    }
   ],
   "source": [
    "def filter_data(students):\n",
    "    result={k:s for k,s in students.items() if s[0]>=6.0 and s[1]>=70}\n",
    "    return result\n",
    "students = {'Cierra Vega': (6.2, 70), 'Alden Cantrell': (5.9, 65), 'Kierra Gentry': (6.0, 68), 'Pierre Cox': (5.8, 66)}\n",
    "print(\"Original Dictionary:\")\n",
    "print(students)\n",
    "print(\"\\nHeight > 6ft and Weight> 70kg:\")\n",
    "print(filter_data(students))"
   ]
  },
  {
   "cell_type": "code",
   "execution_count": 30,
   "id": "6951d94e",
   "metadata": {},
   "outputs": [
    {
     "name": "stdout",
     "output_type": "stream",
     "text": [
      "True\n"
     ]
    }
   ],
   "source": [
    "#45-check all values are same in a dictionary\n",
    "d_stud={'Cierra Vega': 12, 'Alden Cantrell': 12, 'Kierra Gentry': 12, 'Pierre Cox': 12}\n",
    "grade=12\n",
    "\n",
    "def same_val_chk(dct,grd):\n",
    "    if all(x==grd for x in dct.values()):\n",
    "        return True\n",
    "    return False\n",
    "print(same_val_chk(d_stud,grade))"
   ]
  },
  {
   "cell_type": "code",
   "execution_count": 48,
   "id": "69588d8a",
   "metadata": {},
   "outputs": [
    {
     "name": "stdout",
     "output_type": "stream",
     "text": [
      "Original list:\n",
      "[('yellow', 1), ('blue', 2), ('yellow', 3), ('blue', 4), ('red', 1)]\n",
      "\n",
      "Grouping a sequence of key-value pairs into a dictionary of lists:\n",
      "{'yellow': [1, 3], 'blue': [2, 4], 'red': [1]}\n"
     ]
    }
   ],
   "source": [
    "#46-create a dictionary grouping a sequence of key-value pairs into a dictionary of lists\n",
    "def grouping_dct(lst):\n",
    "    result={}\n",
    "    for k,v in l:\n",
    "        result.setdefault(k,[]).append(v)\n",
    "    return result\n",
    "colors = [('yellow', 1), ('blue', 2), ('yellow', 3), ('blue', 4), ('red', 1)]\n",
    "print(\"Original list:\")\n",
    "print(colors)\n",
    "print(\"\\nGrouping a sequence of key-value pairs into a dictionary of lists:\")\n",
    "print(grouping_dct(colors))"
   ]
  },
  {
   "cell_type": "code",
   "execution_count": 52,
   "id": "8b27f78d",
   "metadata": {},
   "outputs": [
    {
     "name": "stdout",
     "output_type": "stream",
     "text": [
      "Original dictionary of lists:\n",
      "{'Science': [88, 89, 62, 95], 'Language': [77, 78, 84, 80]}\n",
      "\n",
      "Split said dictionary of lists into list of dictionaries:\n",
      "[{'Science': 88, 'Language': 77}, {'Science': 89, 'Language': 78}, {'Science': 62, 'Language': 84}, {'Science': 95, 'Language': 80}]\n"
     ]
    }
   ],
   "source": [
    "#47-split a given dictionary of lists into list of dictionaries.\n",
    "d_stud={'Science': [88, 89, 62, 95], 'Language': [77, 78, 84, 80]}\n",
    "def list_of_dicts(marks):\n",
    "    keys=marks.keys()\n",
    "    vals=zip(*[marks[k] for k in keys])\n",
    "    result=[dict(zip(keys,v)) for v in vals]\n",
    "    return result\n",
    "marks = {'Science': [88, 89, 62, 95], 'Language': [77, 78, 84, 80]}\n",
    "print(\"Original dictionary of lists:\")\n",
    "print(marks)\n",
    "print(\"\\nSplit said dictionary of lists into list of dictionaries:\")\n",
    "print(list_of_dicts(marks))"
   ]
  },
  {
   "cell_type": "code",
   "execution_count": 1,
   "id": "765047ae",
   "metadata": {},
   "outputs": [
    {
     "name": "stdout",
     "output_type": "stream",
     "text": [
      "Original list of dictionary:\n",
      "[{'id': '#FF0000', 'color': 'Red'}, {'id': '#800000', 'color': 'Maroon'}, {'id': '#FFFF00', 'color': 'Yellow'}, {'id': '#808000', 'color': 'Olive'}]\n",
      "\n",
      "Remove id #FF0000 from the said list of dictionary:\n",
      "[{'id': '#800000', 'color': 'Maroon'}, {'id': '#FFFF00', 'color': 'Yellow'}, {'id': '#808000', 'color': 'Olive'}]\n"
     ]
    }
   ],
   "source": [
    "#48-remove a specified dictionary from a given list\n",
    "def remove_dictionary(colors, r_id):\n",
    "    colors[:] = [d for d in colors if d.get('id') != r_id]\n",
    "    return colors\n",
    "\n",
    "colors = [{\"id\" : \"#FF0000\", \"color\" : \"Red\"}, \n",
    "          {\"id\" : \"#800000\", \"color\" : \"Maroon\"}, \n",
    "          {\"id\" : \"#FFFF00\", \"color\" : \"Yellow\"}, \n",
    "          {\"id\" : \"#808000\", \"color\" : \"Olive\"}] \n",
    "print('Original list of dictionary:')\n",
    "print(colors)\n",
    "r_id = \"#FF0000\"\n",
    "print(\"\\nRemove id\",r_id,\"from the said list of dictionary:\")\n",
    "print(remove_dictionary(colors, r_id))\n"
   ]
  },
  {
   "cell_type": "code",
   "execution_count": 2,
   "id": "11ac4350",
   "metadata": {},
   "outputs": [
    {
     "name": "stdout",
     "output_type": "stream",
     "text": [
      "[{'x': 10, 'y': 20, 'z': 30}, {'p': 40, 'q': 50, 'r': 60}]\n"
     ]
    }
   ],
   "source": [
    "#49-convert string values of a given dictionary, into integer/float datatypes\n",
    "#expected Output-[{'x': 10, 'y': 20, 'z': 30}, {'p': 40, 'q': 50, 'r': 60}]\n",
    "\n",
    "l=[{'x': '10', 'y': '20', 'z': '30'}, {'p': '40', 'q': '50', 'r': '60'}]\n",
    "for i in l:\n",
    "    for key,val in i.items():\n",
    "        val=int(val)\n",
    "        i[key]=val\n",
    "print(l)"
   ]
  },
  {
   "cell_type": "code",
   "execution_count": 3,
   "id": "45928f2c",
   "metadata": {},
   "outputs": [
    {
     "name": "stdout",
     "output_type": "stream",
     "text": [
      "Original list:\n",
      "[{'x': '10', 'y': '20', 'z': '30'}, {'p': '40', 'q': '50', 'r': '60'}]\n",
      "\n",
      "String values of a given dictionary, into integer types:\n",
      "[{'x': 10, 'y': 20, 'z': 30}, {'p': 40, 'q': 50, 'r': 60}]\n",
      "\n",
      "Original list:\n",
      "[{'x': '10.12', 'y': '20.23', 'z': '30'}, {'p': '40.00', 'q': '50.19', 'r': '60.99'}]\n",
      "\n",
      "String values of a given dictionary, into float types:\n",
      "[{'x': 10.12, 'y': 20.23, 'z': 30.0}, {'p': 40.0, 'q': 50.19, 'r': 60.99}]\n"
     ]
    }
   ],
   "source": [
    "def convert_to_int(lst):\n",
    "    result=[dict([a,int(x)] for a,x in b.items()) for b in lst]\n",
    "    return result\n",
    "def convert_to_float(lst):\n",
    "    result = [dict([a, float(x)] for a, x in b.items()) for b in lst]\n",
    "    return result\n",
    "\n",
    "nums =[{ 'x':'10' , 'y':'20' , 'z':'30' }, { 'p':'40', 'q':'50', 'r':'60'}]\n",
    "print(\"Original list:\")\n",
    "print(nums)\n",
    "print(\"\\nString values of a given dictionary, into integer types:\")\n",
    "print(convert_to_int(nums))\n",
    "nums =[{ 'x':'10.12', 'y':'20.23', 'z':'30'}, { 'p':'40.00', 'q':'50.19', 'r':'60.99'}]\n",
    "print(\"\\nOriginal list:\")\n",
    "print(nums)\n",
    "print(\"\\nString values of a given dictionary, into float types:\")\n",
    "print(convert_to_float(nums))"
   ]
  },
  {
   "cell_type": "code",
   "execution_count": 4,
   "id": "f11b60b6",
   "metadata": {},
   "outputs": [
    {
     "name": "stdout",
     "output_type": "stream",
     "text": [
      "{'C1': [], 'C2': [], 'C3': []}\n"
     ]
    }
   ],
   "source": [
    "#50-Python Dictionary contains List as value. Write a Python program to clear the list values in the said dictionary. \n",
    "d={'C1': [10, 20, 30], 'C2': [20, 30, 40], 'C3': [12, 34]}\n",
    "for key,val in d.items():\n",
    "    val=[]\n",
    "    d[key]=val\n",
    "print(d)"
   ]
  },
  {
   "cell_type": "code",
   "execution_count": 8,
   "id": "86a2c6d7",
   "metadata": {},
   "outputs": [
    {
     "name": "stdout",
     "output_type": "stream",
     "text": [
      "\n",
      "Original Dictionary:\n",
      "{'C1': [10, 20, 30], 'C2': [20, 30, 40], 'C3': [12, 34]}\n",
      "\n",
      "Clear the list values in the said dictionary:\n",
      "{'C1': [], 'C2': [], 'C3': []}\n"
     ]
    }
   ],
   "source": [
    "def test(dct):\n",
    "    for key in dct:\n",
    "        dct[key].clear()\n",
    "    return dct\n",
    "dictionary={'C1': [10, 20, 30], 'C2': [20, 30, 40], 'C3': [12, 34]}\n",
    "print(\"\\nOriginal Dictionary:\")\n",
    "print(dictionary)\n",
    "print(\"\\nClear the list values in the said dictionary:\")\n",
    "print(test(dictionary))"
   ]
  },
  {
   "cell_type": "code",
   "execution_count": 9,
   "id": "97a338f0",
   "metadata": {},
   "outputs": [
    {
     "name": "stdout",
     "output_type": "stream",
     "text": [
      "{'Math': [89, 90, 91], 'Physics': [92, 94, 89], 'Chemistry': [90, 87, 93]}\n"
     ]
    }
   ],
   "source": [
    "#51-Dictionary contains List as value. Write a Python program to update the list values in the said dictionary\n",
    "#{'Math': [89, 90, 91], 'Physics': [90, 92, 87], 'Chemistry': [90, 87, 93]}\n",
    "\n",
    "d_ip={'Math': [88, 89, 90], 'Physics': [92, 94, 89], 'Chemistry': [90, 87, 93]}\n",
    "ip_key='Math'\n",
    "ip_val=[89, 90, 91]\n",
    "\n",
    "def update_dct(dct,key_ip,val_ip):\n",
    "    for key,val in dct.items():\n",
    "        if key==key_ip:\n",
    "            val=val_ip\n",
    "            dct[key]=val\n",
    "    return dct\n",
    "print(update_dct(d_ip,ip_key,ip_val))"
   ]
  },
  {
   "cell_type": "code",
   "execution_count": 10,
   "id": "e732f488",
   "metadata": {},
   "outputs": [
    {
     "name": "stdout",
     "output_type": "stream",
     "text": [
      "\n",
      "Original Dictionary:\n",
      "{'Math': [88, 89, 90], 'Physics': [92, 94, 89], 'Chemistry': [90, 87, 93]}\n",
      "\n",
      "Update the list values of the said dictionary:\n",
      "{'Math': [89, 90, 91], 'Physics': [90, 92, 87], 'Chemistry': [90, 87, 93]}\n"
     ]
    }
   ],
   "source": [
    "def test(dictionary):\n",
    "    dictionary['Math'] = [x+1 for x in dictionary['Math']]\n",
    "    dictionary['Physics'] = [x-2 for x in dictionary['Physics']]\n",
    "    return dictionary\n",
    "\n",
    "dictionary = { \n",
    "               'Math' : [88, 89, 90], \n",
    "               'Physics' : [92, 94, 89],\n",
    "               'Chemistry' : [90, 87, 93]\n",
    "             }\n",
    "print(\"\\nOriginal Dictionary:\")\n",
    "print(dictionary)\n",
    "print(\"\\nUpdate the list values of the said dictionary:\")\n",
    "print(test(dictionary))"
   ]
  },
  {
   "cell_type": "code",
   "execution_count": 17,
   "id": "e936dd73",
   "metadata": {},
   "outputs": [
    {
     "name": "stdout",
     "output_type": "stream",
     "text": [
      "[92, 94, 88]\n"
     ]
    }
   ],
   "source": [
    "#52-extract a list of values from a given list of dictionarie\n",
    "d_ip=[{'Math': 90, 'Science': 92}, {'Math': 89, 'Science': 94}, {'Math': 92, 'Science': 88}]\n",
    "key_ip='Science'\n",
    "def val_extract(dct,sub):\n",
    "    lst=[]\n",
    "    for i in dct:\n",
    "        for key,val in i.items():\n",
    "            if key==sub:\n",
    "                lst.append(val)\n",
    "    return lst\n",
    "    #return \"No subject found\"\n",
    "print(val_extract(d_ip,key_ip))"
   ]
  },
  {
   "cell_type": "code",
   "execution_count": 19,
   "id": "c09a7f2a",
   "metadata": {},
   "outputs": [
    {
     "name": "stdout",
     "output_type": "stream",
     "text": [
      "\n",
      "Original Dictionary:\n",
      "[{'Math': 90, 'Science': 92}, {'Math': 89, 'Science': 94}, {'Math': 92, 'Science': 88}]\n",
      "\n",
      "Extract a list of values from said list of dictionaries where subject = Science\n",
      "[92, 94, 88]\n"
     ]
    }
   ],
   "source": [
    "def test(lst,marks):\n",
    "    result=[d[marks]for d in lst if marks in d]\n",
    "    return result\n",
    "marks = [{'Math': 90, 'Science': 92}, \n",
    "         {'Math': 89, 'Science': 94}, \n",
    "         {'Math': 92, 'Science': 88}]\n",
    "\n",
    "print(\"\\nOriginal Dictionary:\")\n",
    "print(marks)\n",
    "subj = \"Science\"\n",
    "print(\"\\nExtract a list of values from said list of dictionaries where subject =\",subj)\n",
    "print(test(marks, subj))"
   ]
  },
  {
   "cell_type": "code",
   "execution_count": 20,
   "id": "9c2a47ad",
   "metadata": {},
   "outputs": [
    {
     "name": "stdout",
     "output_type": "stream",
     "text": [
      "{'red': 3, 'green': 5, 'black': 5, 'white': 5}\n"
     ]
    }
   ],
   "source": [
    "#53-find the length of a given dictionary values\n",
    "dct={1: 'red', 2: 'green', 3: 'black', 4: 'white', 5: 'black'}\n",
    "dct_len={}\n",
    "for key, val in dct.items():\n",
    "    dct_len[val]=len(val)\n",
    "print(dct_len)"
   ]
  },
  {
   "cell_type": "code",
   "execution_count": 21,
   "id": "1f336000",
   "metadata": {},
   "outputs": [
    {
     "name": "stdout",
     "output_type": "stream",
     "text": [
      "4\n"
     ]
    }
   ],
   "source": [
    "#54- get the depth of a dictionary.\n",
    "#s1-recursion+map\n",
    "def dict_depth(d):\n",
    "    if isinstance(d,dict):\n",
    "        return 1+(max(map(dict_depth,d.values()))if d else 0)\n",
    "    return 0\n",
    "dic = {'a':1, 'b': {'c': {'d': {}}}}\n",
    "print(dict_depth(dic))"
   ]
  },
  {
   "cell_type": "code",
   "execution_count": 26,
   "id": "512ebcec",
   "metadata": {},
   "outputs": [
    {
     "name": "stdout",
     "output_type": "stream",
     "text": [
      "4\n"
     ]
    }
   ],
   "source": [
    "#s2-recursion\n",
    "def dict_depth(dic,level=1):\n",
    "    if not isinstance(dic,dict) or not dic:\n",
    "        return level\n",
    "    return max(dict_depth(dic[key],level+1)for key in dic)\n",
    "dic = {1:'a', 2: {3: {4: {}}}} \n",
    "print(dict_depth(dic))"
   ]
  },
  {
   "cell_type": "code",
   "execution_count": 28,
   "id": "a37c096c",
   "metadata": {},
   "outputs": [
    {
     "name": "stdout",
     "output_type": "stream",
     "text": [
      "4\n"
     ]
    }
   ],
   "source": [
    "#s3-popping values of dictionary while traversing levels\n",
    "def dict_depth(myDict):\n",
    "    depth=1\n",
    "    obj=[(k,depth+1)for k in myDict.values() if isinstance(k,dict)]\n",
    "    max_depth=0\n",
    "    while(obj):\n",
    "        n,depth=obj.pop()\n",
    "        max_depth=max(max_depth,depth)\n",
    "        obj=obj+[(k, depth + 1) for k in n.values()\n",
    "                                 if isinstance(k, dict)]         \n",
    "    return max_depth\n",
    "myDict = {1:'a', 2: {3: {4:{}}}}\n",
    "print(dict_depth(myDict))"
   ]
  },
  {
   "cell_type": "code",
   "execution_count": 30,
   "id": "59ea339e",
   "metadata": {},
   "outputs": [
    {
     "name": "stdout",
     "output_type": "stream",
     "text": [
      "4\n"
     ]
    }
   ],
   "source": [
    "#s4-counting curly brackets{}\n",
    "def dict_depth(dic, level = 1):\n",
    "      \n",
    "    str_dic = str(dic)\n",
    "    counter = 0\n",
    "    for i in str_dic:\n",
    "        if i == \"{\":\n",
    "            counter += 1\n",
    "    return(counter)\n",
    "  \n",
    "# Driver code\n",
    "dic = {1:'Geek', 2: {3: {4: {}}}}\n",
    "print(dict_depth(dic))"
   ]
  },
  {
   "cell_type": "code",
   "execution_count": 32,
   "id": "bb7ed5f5",
   "metadata": {},
   "outputs": [
    {
     "name": "stdout",
     "output_type": "stream",
     "text": [
      "4\n"
     ]
    }
   ],
   "source": [
    "#55- access dictionary key's element by index\n",
    "#s1-enumeration\n",
    "d={1: 'red', 2: 'green', 3: 'black', 4: 'white', 5: 'black'}\n",
    "def get_nth_key(dct,n=0):\n",
    "    if n<0:\n",
    "        n+=len(dct)\n",
    "    for i,key in enumerate(dct.keys()):\n",
    "        if i==n:\n",
    "            return key\n",
    "    raise IndexError(\"dictionary index out of range\") \n",
    "print(get_nth_key(d,3))"
   ]
  },
  {
   "cell_type": "code",
   "execution_count": 34,
   "id": "2780569d",
   "metadata": {},
   "outputs": [
    {
     "name": "stdout",
     "output_type": "stream",
     "text": [
      "Index of search key is : 2\n"
     ]
    }
   ],
   "source": [
    "#list+index method\n",
    "test_dict = {'all' : 1, 'food' : 2, 'good' : 3, 'have' : 4}\n",
    "search_key = 'good'\n",
    "res=list(test_dict.keys()).index(search_key)\n",
    "print(\"Index of search key is : \" + str(res))"
   ]
  },
  {
   "cell_type": "code",
   "execution_count": 35,
   "id": "9435cdc0",
   "metadata": {},
   "outputs": [
    {
     "name": "stdout",
     "output_type": "stream",
     "text": [
      "physics\n"
     ]
    }
   ],
   "source": [
    "#s3-list method\n",
    "num = {'physics': 80, 'math': 90, 'chemistry': 86}\n",
    "print(list(num)[0])"
   ]
  },
  {
   "cell_type": "code",
   "execution_count": 38,
   "id": "fd6a176e",
   "metadata": {},
   "outputs": [
    {
     "name": "stdout",
     "output_type": "stream",
     "text": [
      "[[1, 'red'], [2, 'green'], [3, 'black'], [4, 'white'], [5, 'black']]\n"
     ]
    }
   ],
   "source": [
    "#56-convert a given dictionary into a list of lists\n",
    "d={1: 'red', 2: 'green', 3: 'black', 4: 'white', 5: 'black'}\n",
    "master_last=[]\n",
    "for key,val in d.items():\n",
    "    lst=[]\n",
    "    lst.append(key)\n",
    "    lst.append(val)\n",
    "    master_last.append(lst)\n",
    "print(master_last)"
   ]
  },
  {
   "cell_type": "code",
   "execution_count": 41,
   "id": "059383fa",
   "metadata": {},
   "outputs": [
    {
     "name": "stdout",
     "output_type": "stream",
     "text": [
      "Original Dictionary:\n",
      "{1: 'red', 2: 'green', 3: 'black', 4: 'white', 5: 'black'}\n",
      "Convert the said dictionary into a list of lists:\n",
      "[[1, 'red'], [2, 'green'], [3, 'black'], [4, 'white'], [5, 'black']]\n"
     ]
    }
   ],
   "source": [
    "#map method\n",
    "def test(dct):\n",
    "    result=list(map(list,dct.items()))\n",
    "    return result\n",
    "color_dict = {1 : 'red', 2 : 'green', 3 : 'black', 4 : 'white', 5 : 'black'}\n",
    "print(\"Original Dictionary:\")\n",
    "print(color_dict)\n",
    "print(\"Convert the said dictionary into a list of lists:\")\n",
    "print(test(color_dict))"
   ]
  },
  {
   "cell_type": "code",
   "execution_count": 46,
   "id": "5c1df87d",
   "metadata": {},
   "outputs": [
    {
     "name": "stdout",
     "output_type": "stream",
     "text": [
      "[8]\n",
      "{'V': [4, 6, 10], 'VI': [4, 12], 'VII': [8]}\n"
     ]
    }
   ],
   "source": [
    "#57-filter even numbers from a given dictionary values.\n",
    "d={'V': [1, 4, 6, 10], 'VI': [1, 4, 12], 'VII': [1, 3, 8]}\n",
    "for key,val in d.items():\n",
    "    lst_even=[]\n",
    "    for i in val:\n",
    "        if i%2==0:\n",
    "            lst_even.append(i)\n",
    "            val=lst_even\n",
    "            d[key]=val\n",
    "print(lst_even)\n",
    "print(d)"
   ]
  },
  {
   "cell_type": "code",
   "execution_count": 44,
   "id": "e99c72f1",
   "metadata": {},
   "outputs": [
    {
     "name": "stdout",
     "output_type": "stream",
     "text": [
      "\n",
      "Original Dictionary:\n",
      "{'V': [1, 4, 6, 10], 'VI': [1, 4, 12], 'VII': [1, 3, 8]}\n",
      "Filter even numbers from said dictionary values:\n",
      "{'V': [4, 6, 10], 'VI': [4, 12], 'VII': [8]}\n"
     ]
    }
   ],
   "source": [
    "def test(dct):\n",
    "    result={key:[idx for idx in val if not idx%2]\n",
    "           for key,val in dct.items()}\n",
    "    return result\n",
    "students = {'V' : [1, 4, 6, 10], 'VI' : [1, 4, 12], 'VII' : [1, 3, 8]} \n",
    "print(\"\\nOriginal Dictionary:\")\n",
    "print(students)\n",
    "print(\"Filter even numbers from said dictionary values:\")\n",
    "print(test(students))   "
   ]
  },
  {
   "cell_type": "code",
   "execution_count": 7,
   "id": "4508fa67",
   "metadata": {},
   "outputs": [
    {
     "name": "stdout",
     "output_type": "stream",
     "text": [
      "['f', 'i', 'g']\n"
     ]
    }
   ],
   "source": [
    "#Date-8/11/22\n",
    "#59-find the specified number of maximum values in a given dictionary\n",
    "d={'a': 5, 'b': 14, 'c': 32, 'd': 35, 'e': 24, 'f': 100, 'g': 57, 'h': 8, 'i': 100}\n",
    "N=3\n",
    "#result=list(max(lambda y: y for x,y in d.items()))\n",
    "result=sorted(d,key=d.get,reverse=True)[:N]\n",
    "print(result)"
   ]
  },
  {
   "cell_type": "code",
   "execution_count": 13,
   "id": "96ded7e9",
   "metadata": {},
   "outputs": [
    {
     "name": "stdout",
     "output_type": "stream",
     "text": [
      "i\n"
     ]
    }
   ],
   "source": [
    "#using max method\n",
    "d={'a': 5, 'b': 14, 'c': 32, 'd': 35, 'e': 24, 'f': 100, 'g': 57, 'h': 8, 'i': 100}\n",
    "keymax=max(zip(d.values(),d.keys()))[1]\n",
    "print(keymax)"
   ]
  },
  {
   "cell_type": "code",
   "execution_count": 15,
   "id": "03cb8f1f",
   "metadata": {},
   "outputs": [
    {
     "name": "stdout",
     "output_type": "stream",
     "text": [
      "f\n"
     ]
    }
   ],
   "source": [
    "#usong lambda\n",
    "d={'a': 5, 'b': 14, 'c': 32, 'd': 35, 'e': 24, 'f': 100, 'g': 57, 'h': 8, 'i': 100}\n",
    "keymax=max(d,key=lambda x:d[x])\n",
    "print(keymax)"
   ]
  },
  {
   "cell_type": "code",
   "execution_count": 29,
   "id": "051e934a",
   "metadata": {},
   "outputs": [
    {
     "name": "stdout",
     "output_type": "stream",
     "text": [
      "['VI', 'VIII', 'X']\n"
     ]
    }
   ],
   "source": [
    "#60-find shortest list of values with the keys in a given dictionary\n",
    "dct= {'V': [10, 12], 'VI': [10], 'VII': [10, 20, 30, 40], 'VIII': [20], 'IX': [10, 30, 50, 70], 'X': [80]} \n",
    "min_val=min([len(dct[x])for x in dct])\n",
    "result=[]\n",
    "for i in dct:\n",
    "    if len(dct[i])==min_val:\n",
    "        result.append(i)\n",
    "print(result)"
   ]
  },
  {
   "cell_type": "code",
   "execution_count": 33,
   "id": "9f9d17ef",
   "metadata": {},
   "outputs": [
    {
     "data": {
      "text/plain": [
       "Counter({10: 2, 40: 2, 20: 2, 70: 1, 80: 1})"
      ]
     },
     "execution_count": 33,
     "metadata": {},
     "output_type": "execute_result"
    }
   ],
   "source": [
    "#61-count the frequency in a given dictionary\n",
    "from collections import Counter\n",
    "dct={'V': 10, 'VI': 10, 'VII': 40, 'VIII': 20, 'IX': 70, 'X': 80, 'XI': 40, 'XII': 20}\n",
    "op_dct={}\n",
    "Counter(dct.values())\n",
    "#for k,v in dct.items():\n",
    "    #print(dct.count(str(v)))"
   ]
  },
  {
   "cell_type": "code",
   "execution_count": 35,
   "id": "e654327d",
   "metadata": {},
   "outputs": [
    {
     "name": "stdout",
     "output_type": "stream",
     "text": [
      "<bound method Counter.most_common of Counter({'X': 80, 'IX': 70, 'VII': 40, 'XI': 40, 'VIII': 20, 'XII': 20, 'V': 10, 'VI': 10})>\n"
     ]
    }
   ],
   "source": [
    "#s2-most commmon\n",
    "from collections import Counter\n",
    "dct={'V': 10, 'VI': 10, 'VII': 40, 'VIII': 20, 'IX': 70, 'X': 80, 'XI': 40, 'XII': 20}\n",
    "my_counter=Counter(dct)\n",
    "print(my_counter.most_common)"
   ]
  },
  {
   "cell_type": "code",
   "execution_count": 38,
   "id": "58afa90d",
   "metadata": {},
   "outputs": [
    {
     "name": "stdout",
     "output_type": "stream",
     "text": [
      "{10: 2, 40: 2, 20: 2, 70: 1, 80: 1}\n"
     ]
    }
   ],
   "source": [
    "dct={'V': 10, 'VI': 10, 'VII': 40, 'VIII': 20, 'IX': 70, 'X': 80, 'XI': 40, 'XII': 20}\n",
    "op_dct={}\n",
    "for k,v in dct.items():\n",
    "    op_dct[v]=op_dct.get(v,0)+1\n",
    "print(op_dct)"
   ]
  },
  {
   "cell_type": "code",
   "execution_count": 43,
   "id": "528447e3",
   "metadata": {},
   "outputs": [
    {
     "name": "stdout",
     "output_type": "stream",
     "text": [
      "[1, 'Jean Castro', 'V']\n",
      "[2, 'Lula Powell', 'V']\n",
      "[3, 'Brian Howell', 'VI']\n",
      "[4, 'Lynne Foster', 'VI']\n",
      "[5, 'Zachary Simon', 'VII']\n"
     ]
    }
   ],
   "source": [
    "#62-extract values from a given dictionaries and create a list of lists from those values\n",
    "dct_stud=[{'student_id': 1, 'name': 'Jean Castro', 'class': 'V'}, {'student_id': 2, 'name': 'Lula Powell', \n",
    "            'class': 'V'}, {'student_id': 3, 'name': 'Brian Howell', 'class': 'VI'}, \n",
    "          {'student_id': 4, 'name': 'Lynne Foster', 'class': 'VI'}, {'student_id': 5, 'name': 'Zachary Simon', 'class': 'VII'}]\n",
    "for i in dct_stud:\n",
    "    print(list(i.values()))"
   ]
  },
  {
   "cell_type": "code",
   "execution_count": 46,
   "id": "8d01575a",
   "metadata": {},
   "outputs": [
    {
     "name": "stdout",
     "output_type": "stream",
     "text": [
      "\n",
      "Original Dictionary:\n",
      "[{'student_id': 1, 'name': 'Jean Castro', 'class': 'V'}, {'student_id': 2, 'name': 'Lula Powell', 'class': 'V'}, {'student_id': 3, 'name': 'Brian Howell', 'class': 'VI'}, {'student_id': 4, 'name': 'Lynne Foster', 'class': 'VI'}, {'student_id': 5, 'name': 'Zachary Simon', 'class': 'VII'}]\n",
      "\n",
      "Extract values from the said dictionarie and create a list of lists using those values:\n",
      "[[1, 'Jean Castro', 'V'], [2, 'Lula Powell', 'V'], [3, 'Brian Howell', 'VI'], [4, 'Lynne Foster', 'VI'], [5, 'Zachary Simon', 'VII']]\n",
      "[[1, 'Jean Castro'], [2, 'Lula Powell'], [3, 'Brian Howell'], [4, 'Lynne Foster'], [5, 'Zachary Simon']]\n",
      "[['Jean Castro', 'V'], ['Lula Powell', 'V'], ['Brian Howell', 'VI'], ['Lynne Foster', 'VI'], ['Zachary Simon', 'VII']]\n"
     ]
    }
   ],
   "source": [
    "def test(dictt,keys):\n",
    "    return [list(d[k] for k in keys) for d in dictt] \n",
    "\n",
    "students = [\n",
    "        {'student_id': 1, 'name': 'Jean Castro', 'class': 'V'}, \n",
    "        {'student_id': 2, 'name': 'Lula Powell', 'class': 'V'},\n",
    "        {'student_id': 3, 'name': 'Brian Howell', 'class': 'VI'}, \n",
    "        {'student_id': 4, 'name': 'Lynne Foster', 'class': 'VI'}, \n",
    "        {'student_id': 5, 'name': 'Zachary Simon', 'class': 'VII'}\n",
    "        ]\n",
    "\n",
    "print(\"\\nOriginal Dictionary:\")\n",
    "print(students)\n",
    "print(\"\\nExtract values from the said dictionarie and create a list of lists using those values:\")\n",
    "print(test(students,('student_id', 'name', 'class')))\n",
    "print(test(students,('student_id', 'name')))\n",
    "print(test(students,('name', 'class')))"
   ]
  },
  {
   "cell_type": "code",
   "execution_count": 58,
   "id": "c9724987",
   "metadata": {},
   "outputs": [
    {
     "name": "stdout",
     "output_type": "stream",
     "text": [
      "{1: ['Jean Castro', 'V'], 2: ['Lula Powell', 'V'], 3: ['Brian Howell', 'VI'], 4: ['Lynne Foster', 'VI'], 5: ['Zachary Simon', 'VII']}\n"
     ]
    }
   ],
   "source": [
    "#63- program to convert a given list of lists to a dictionary\n",
    "lst=[[1, 'Jean Castro', 'V'], [2, 'Lula Powell', 'V'], [3, 'Brian Howell', 'VI'],\n",
    "     [4, 'Lynne Foster', 'VI'], [5, 'Zachary Simon', 'VII']]\n",
    "dct={}\n",
    "for i in lst:\n",
    "    dct[i[0]]=i[1:]\n",
    "print(dct)"
   ]
  },
  {
   "cell_type": "code",
   "execution_count": 60,
   "id": "ad70a741",
   "metadata": {},
   "outputs": [
    {
     "name": "stdout",
     "output_type": "stream",
     "text": [
      "{1: 'Jean Castro', 2: 'Lula Powell', 3: 'Brian Howell', 4: 'Lynne Foster', 5: 'Zachary Simon'}\n"
     ]
    }
   ],
   "source": [
    "#64-create a key-value list pairings in a given dictionary\n",
    "dct={1: ['Jean Castro'], 2: ['Lula Powell'], 3: ['Brian Howell'], 4: ['Lynne Foster'], 5: ['Zachary Simon']}\n",
    "dct_new={}\n",
    "for key,val in dct.items():\n",
    "    dct_new[key]=val[0]\n",
    "print(dct_new)"
   ]
  },
  {
   "cell_type": "code",
   "execution_count": 61,
   "id": "e31529b2",
   "metadata": {},
   "outputs": [
    {
     "name": "stdout",
     "output_type": "stream",
     "text": [
      "\n",
      "Original dictionary:\n",
      "{1: ['Jean Castro'], 2: ['Lula Powell'], 3: ['Brian Howell'], 4: ['Lynne Foster'], 5: ['Zachary Simon']}\n",
      "\n",
      "A key-value list pairings of the said dictionary:\n",
      "[{1: 'Jean Castro', 2: 'Lula Powell', 3: 'Brian Howell', 4: 'Lynne Foster', 5: 'Zachary Simon'}]\n"
     ]
    }
   ],
   "source": [
    "#s2-\n",
    "from itertools import product\n",
    "def test(dictt):\n",
    "    result=[dict(zip(dictt,sub)) for sub in product(*dictt.values())]\n",
    "    return result\n",
    "students = {1: ['Jean Castro'], 2: ['Lula Powell'], 3: ['Brian Howell'], 4: ['Lynne Foster'], 5: ['Zachary Simon']}\n",
    "\n",
    "print(\"\\nOriginal dictionary:\")\n",
    "print(students)\n",
    "print(\"\\nA key-value list pairings of the said dictionary:\")\n",
    "print(test(students))"
   ]
  },
  {
   "cell_type": "code",
   "execution_count": 62,
   "id": "3941f9d0",
   "metadata": {},
   "outputs": [
    {
     "name": "stdout",
     "output_type": "stream",
     "text": [
      "20\n"
     ]
    }
   ],
   "source": [
    "#65-get the total length of all values of a given dictionary with string values\n",
    "dct={'#FF0000': 'Red', '#800000': 'Maroon', '#FFFF00': 'Yellow', '#808000': 'Olive'}\n",
    "length=0\n",
    "for key,val in dct.items():\n",
    "    length+=len(val)\n",
    "print(length)"
   ]
  },
  {
   "cell_type": "code",
   "execution_count": 63,
   "id": "d8a87148",
   "metadata": {},
   "outputs": [
    {
     "name": "stdout",
     "output_type": "stream",
     "text": [
      "20\n"
     ]
    }
   ],
   "source": [
    "result=sum((len(values) for values in dct.values()))\n",
    "print(result)"
   ]
  },
  {
   "cell_type": "code",
   "execution_count": 71,
   "id": "53bb5a92",
   "metadata": {},
   "outputs": [
    {
     "name": "stdout",
     "output_type": "stream",
     "text": [
      "True\n"
     ]
    }
   ],
   "source": [
    "#66-check if a specific Key and a value exist in a dictionary\n",
    "stud_lst=[{'student_id': 1, 'name': 'Jean Castro', 'class': 'V'}, {'student_id': 2, 'name': 'Lula Powell', 'class': 'V'}, \n",
    "          {'student_id': 3, 'name': 'Brian Howell', 'class': 'VI'}, {'student_id': 4, 'name': 'Lynne Foster', 'class': 'VI'}, \n",
    "          {'student_id': 5, 'name': 'Zachary Simon', 'class': 'VII'}]\n",
    "key='name'\n",
    "val='Brian Howell'\n",
    "for i in stud_lst:\n",
    "    if (key,val) in i.items():\n",
    "        print(\"True\")\n",
    "        #break\n",
    "    else:\n",
    "        continue\n",
    "#print(\"Key not found\")"
   ]
  },
  {
   "cell_type": "code",
   "execution_count": 74,
   "id": "33b245ca",
   "metadata": {},
   "outputs": [
    {
     "name": "stdout",
     "output_type": "stream",
     "text": [
      "\n",
      "Original dictionary:\n",
      "[{'student_id': 1, 'name': 'Jean Castro', 'class': 'V'}, {'student_id': 2, 'name': 'Lula Powell', 'class': 'V'}, {'student_id': 3, 'name': 'Brian Howell', 'class': 'VI'}, {'student_id': 4, 'name': 'Lynne Foster', 'class': 'VI'}, {'student_id': 5, 'name': 'Zachary Simon', 'class': 'VII'}]\n",
      "\n",
      "Check if a specific Key and a value exist in the said dictionary:\n",
      "True\n",
      "False\n"
     ]
    }
   ],
   "source": [
    "def test(dictt,key,val):##works only when key exst in dct\n",
    "    if any(sub[key]==val for sub in dictt):\n",
    "        return True\n",
    "    return False\n",
    "students = [\n",
    "        {'student_id': 1, 'name': 'Jean Castro', 'class': 'V'}, \n",
    "        {'student_id': 2, 'name': 'Lula Powell', 'class': 'V'},\n",
    "        {'student_id': 3, 'name': 'Brian Howell', 'class': 'VI'}, \n",
    "        {'student_id': 4, 'name': 'Lynne Foster', 'class': 'VI'}, \n",
    "        {'student_id': 5, 'name': 'Zachary Simon', 'class': 'VII'}\n",
    "        ]\n",
    "\n",
    "print(\"\\nOriginal dictionary:\")\n",
    "print(students)\n",
    "print(\"\\nCheck if a specific Key and a value exist in the said dictionary:\")\n",
    "print(test(students,'student_id', 1))\n",
    "print(test(students,'name', 'sBrian Howell'))"
   ]
  },
  {
   "cell_type": "code",
   "execution_count": 80,
   "id": "c42159f7",
   "metadata": {},
   "outputs": [
    {
     "name": "stdout",
     "output_type": "stream",
     "text": [
      "Dictionary after swapping is :  \n",
      "keys: values\n",
      "67  : ['A', 'G']\n",
      "23  : ['B', 'H']\n",
      "45  : ['C']\n",
      "12  : ['E']\n",
      "69  : ['F']\n"
     ]
    }
   ],
   "source": [
    "#67- invert a given dictionary with non-unique hashable values\n",
    "old_dict = {'A': 67, 'B': 23, 'C': 45, 'E': 12, 'F': 69, 'G': 67, 'H': 23}\n",
    "new_dct={}\n",
    "for key,val in old_dict.items():\n",
    "    if val in new_dct:\n",
    "        new_dct[val].append(key)\n",
    "        #continue\n",
    "    else:\n",
    "        new_dct[val]=[key]\n",
    "        \n",
    "# Printing new dictionary after swapping\n",
    "# keys and values\n",
    "print (\"Dictionary after swapping is :  \")\n",
    "print(\"keys: values\")\n",
    "for i in new_dct:\n",
    "    print(i, \" :\", new_dct[i])"
   ]
  },
  {
   "cell_type": "code",
   "execution_count": 42,
   "id": "fcf3e0ce",
   "metadata": {},
   "outputs": [
    {
     "name": "stdout",
     "output_type": "stream",
     "text": [
      "{'w': [50], 'x': [100, 300], 'y': ['Green', 'Red'], 'z': [600]}\n"
     ]
    }
   ],
   "source": [
    "#Date-8/12/22\n",
    "#68-combines two or more dictionaries, creating a list of values for each key\n",
    "from collections import defaultdict\n",
    "d1={'w': 50, 'x': 100, 'y': 'Green', 'z': 400}\n",
    "d2={'x': 300, 'y': 'Red', 'z': 600}\n",
    "d3=defaultdict(list)\n",
    "#d3={}\n",
    "for d in (d1,d2):\n",
    "    for key,val in d.items():\n",
    "        d3[key].append(val)\n",
    "    else:\n",
    "        d3[key]=[val]\n",
    "print(dict(d3))"
   ]
  },
  {
   "cell_type": "code",
   "execution_count": 34,
   "id": "56877cba",
   "metadata": {},
   "outputs": [
    {
     "name": "stdout",
     "output_type": "stream",
     "text": [
      "{'a': [1, 5], 'e': [None, 4], 'b': [2, 6], 'd': [9, None], 'c': [3, 7]}\n"
     ]
    }
   ],
   "source": [
    "#s2-\n",
    "d1 = {'a': 1, 'b': 2, 'c':3, 'd': 9}\n",
    "d2 = {'a': 5, 'b': 6, 'c':7, 'e': 4} \n",
    "\n",
    "# get keys from one of the dictionary\n",
    "d1_ks = [k for k in d1.keys()]\n",
    "d2_ks = [k for k in d2.keys()]\n",
    "\n",
    "all_ks = set(d1_ks + d2_ks)\n",
    "\n",
    "# call values from each dictionary on available keys\n",
    "d_merged = {k: [d1.get(k), d2.get(k)] for k in all_ks}\n",
    "\n",
    "print(d_merged)"
   ]
  },
  {
   "cell_type": "code",
   "execution_count": 39,
   "id": "2345ea68",
   "metadata": {},
   "outputs": [
    {
     "name": "stdout",
     "output_type": "stream",
     "text": [
      "{3: ['Red'], 5: ['Green', 'Black', 'White'], 4: ['Pink']}\n"
     ]
    }
   ],
   "source": [
    "#69- group the elements of a given list based on the given function\n",
    "lst=['Red', 'Green', 'Black', 'White', 'Pink'] \n",
    "#Function name: len\n",
    "d={}\n",
    "for i in lst:\n",
    "    if (len(i)) in d:\n",
    "        d[len(i)].append(i)\n",
    "    else:\n",
    "        d[len(i)]=[i]\n",
    "print(d)\n",
    "        "
   ]
  },
  {
   "cell_type": "code",
   "execution_count": 43,
   "id": "5b09d2a5",
   "metadata": {},
   "outputs": [
    {
     "name": "stdout",
     "output_type": "stream",
     "text": [
      "Original list & function:\n",
      "[7, 23, 3.2, 3.3, 8.4]  Function name: floor:\n",
      "Group the elements of the said list based on the given function:\n",
      "{7: [7], 23: [23], 3: [3.2, 3.3], 8: [8.4]}\n",
      "Original list & function:\n",
      "['Red', 'Green', 'Black', 'White', 'Pink']  Function name: len:\n",
      "Group the elements of the said list based on the given function:\n",
      "{3: ['Red'], 5: ['Green', 'Black', 'White'], 4: ['Pink']}\n"
     ]
    }
   ],
   "source": [
    "from collections import defaultdict\n",
    "from math import floor\n",
    "def test(lst, fn):\n",
    "  d = defaultdict(list)\n",
    "  for el in lst:\n",
    "    d[fn(el)].append(el)\n",
    "  return dict(d)\n",
    "nums = [7,23, 3.2, 3.3, 8.4]\n",
    "print(\"Original list & function:\")\n",
    "print(nums,\" Function name: floor:\")\n",
    "print(\"Group the elements of the said list based on the given function:\")\n",
    "print(test(nums, floor))\n",
    "\n",
    "print(\"Original list & function:\")\n",
    "colors = ['Red', 'Green', 'Black', 'White', 'Pink']\n",
    "print(colors,\" Function name: len:\")\n",
    "print(\"Group the elements of the said list based on the given function:\")\n",
    "print(test(colors, len))"
   ]
  },
  {
   "cell_type": "code",
   "execution_count": 44,
   "id": "ab0bf380",
   "metadata": {},
   "outputs": [
    {
     "name": "stdout",
     "output_type": "stream",
     "text": [
      "{1: 1, 2: 4, 3: 9, 4: 16}\n"
     ]
    }
   ],
   "source": [
    "#70-Python program to map the values of a given list to a dictionary using a function, \n",
    "#where the key-value pairs consist of the original value as the key and the result of the function as the value.\n",
    "#{1: 1, 2: 4, 3: 9, 4: 16}\n",
    "l=[1,2,3,4]\n",
    "def dct_fn(lst,fn):\n",
    "    d={}\n",
    "    for i in lst:\n",
    "        d[i]=fn(i)\n",
    "    return d\n",
    "print(dct_fn(l,lambda x: x * x))"
   ]
  },
  {
   "cell_type": "code",
   "execution_count": 48,
   "id": "5cbb9886",
   "metadata": {},
   "outputs": [
    {
     "name": "stdout",
     "output_type": "stream",
     "text": [
      "{1: 1, 2: 4, 3: 9, 4: 16}\n"
     ]
    }
   ],
   "source": [
    "#s2=\n",
    "def test(itr,fn):\n",
    "    return dict(zip(itr,map(fn,itr)))\n",
    "print(test([1, 2, 3, 4], lambda x: x * x))"
   ]
  },
  {
   "cell_type": "code",
   "execution_count": 1,
   "id": "4bf4fdcb",
   "metadata": {
    "scrolled": true
   },
   "outputs": [
    {
     "name": "stdout",
     "output_type": "stream",
     "text": [
      "Russell\n",
      "2\n"
     ]
    }
   ],
   "source": [
    "#71-retrieve the value of the nested key indicated by the given selector list from a dictionary or list\n",
    "from functools import reduce\n",
    "from operator import getitem\n",
    "def test(d,selectors):\n",
    "    return reduce(getitem,selectors,d)\n",
    "users = {\n",
    "  'Carla ': {\n",
    "    'name': {\n",
    "      'first': 'Carla ',\n",
    "      'last': 'Russell' \n",
    "    },\n",
    "    'postIds': [1, 2, 3, 4, 5]\n",
    "  }\n",
    "}\n",
    "print(test(users, ['Carla ', 'name', 'last']))\n",
    "print(test(users, ['Carla ', 'postIds', 1]))"
   ]
  },
  {
   "cell_type": "code",
   "execution_count": 2,
   "id": "56033659",
   "metadata": {},
   "outputs": [
    {
     "name": "stdout",
     "output_type": "stream",
     "text": [
      "{10: 'Theodore', 11: 'Mathew', 9: 'Roxanne'}\n"
     ]
    }
   ],
   "source": [
    "#72- invert a dictionary with unique hashable values\n",
    "def test(dct):\n",
    "    return {value:key for key,value in dct.items()}\n",
    "students = {\n",
    "  'Theodore': 10,\n",
    "  'Mathew': 11,\n",
    "  'Roxanne': 9,\n",
    "}\n",
    "print(test(students))"
   ]
  },
  {
   "cell_type": "code",
   "execution_count": 4,
   "id": "e751f6fc",
   "metadata": {},
   "outputs": [
    {
     "name": "stdout",
     "output_type": "stream",
     "text": [
      "[18, 22, 20, 18]\n"
     ]
    }
   ],
   "source": [
    "#73-convert a list of dictionaries into a list of values corresponding to the specified key.\n",
    "lst=[{'name': 'Theodore', 'age': 18}, {'name': 'Mathew', 'age': 22}, {'name': 'Roxanne', 'age': 20}, {'name': 'David', 'age': 18}]\n",
    "op_key='age'\n",
    "op_lst=[]\n",
    "for i in lst:\n",
    "    for key,val in i.items():\n",
    "        if key==op_key:\n",
    "            op_lst.append(val)\n",
    "print(op_lst)"
   ]
  },
  {
   "cell_type": "code",
   "execution_count": 5,
   "id": "133d7ee0",
   "metadata": {},
   "outputs": [
    {
     "name": "stdout",
     "output_type": "stream",
     "text": [
      "Original list of dictionaries:\n",
      "[{'name': 'Theodore', 'age': 18}, {'name': 'Mathew', 'age': 22}, {'name': 'Roxanne', 'age': 20}, {'name': 'David', 'age': 18}]\n"
     ]
    }
   ],
   "source": [
    "#s2-\n",
    "def test(lsts,key):\n",
    "    return [x.get(key)for x in lsts]\n",
    "students = [\n",
    "  { 'name': 'Theodore', 'age': 18 },\n",
    "  { 'name': 'Mathew', 'age': 22 },\n",
    "  { 'name': 'Roxanne', 'age': 20 },\n",
    "  { 'name': 'David', 'age': 18 }\n",
    "]\n",
    "\n",
    "print(\"Original list of dictionaries:\")\n",
    "print(students)"
   ]
  },
  {
   "cell_type": "code",
   "execution_count": 12,
   "id": "d9ba35cc",
   "metadata": {},
   "outputs": [
    {
     "name": "stdout",
     "output_type": "stream",
     "text": [
      "Original dictionary elements:\n",
      "{'Theodore': {'user': 'Theodore', 'age': 45}, 'Roxanne': {'user': 'Roxanne', 'age': 15}, 'Mathew': {'user': 'Mathew', 'age': 21}}\n",
      "\n",
      "Dictionary with the same keys:\n",
      "{('Roxanne', 15), ('Mathew', 21), ('Theodore', 45)}\n"
     ]
    }
   ],
   "source": [
    "#74- create a dictionary with the same keys as the given dictionary and values \n",
    "#generated by running the given function for each value\n",
    "\n",
    "dct={'Theodore': {'user': 'Theodore', 'age': 45}, 'Roxanne': {'user': 'Roxanne', 'age': 15}, \n",
    "   'Mathew': {'user': 'Mathew', 'age': 21}}\n",
    "def test(d,fn):\n",
    "    return {(key,fn(val)) for key,val in d.items()}\n",
    "users = {\n",
    "  'Theodore': { 'user': 'Theodore', 'age': 45 },\n",
    "  'Roxanne': { 'user': 'Roxanne', 'age': 15 },\n",
    "  'Mathew': { 'user': 'Mathew', 'age': 21 },\n",
    "}\n",
    "print(\"Original dictionary elements:\")\n",
    "print(users)\n",
    "print(\"\\nDictionary with the same keys:\")\n",
    "print(test(users, lambda u : u['age']))"
   ]
  },
  {
   "cell_type": "code",
   "execution_count": 11,
   "id": "11ddcacf",
   "metadata": {},
   "outputs": [
    {
     "name": "stdout",
     "output_type": "stream",
     "text": [
      "['Roxanne', 'Betty']\n"
     ]
    }
   ],
   "source": [
    "#75-find all keys in the provided dictionary that have the given value\n",
    "dct={'Theodore': 19, 'Roxanne': 20, 'Mathew': 21, 'Betty': 20}\n",
    "val_op=20\n",
    "result=(key for key,val in dct.items() if val==val_op)\n",
    "print(list(result))"
   ]
  },
  {
   "cell_type": "code",
   "execution_count": 13,
   "id": "48ed1f34",
   "metadata": {},
   "outputs": [
    {
     "name": "stdout",
     "output_type": "stream",
     "text": [
      "{'a': 1, 'b': 2, 'c': 3, 'd': 4, 'e': 5}\n"
     ]
    }
   ],
   "source": [
    "#76- combine two lists into a dictionary, where the elements of the first one serve as the keys and \n",
    "#the elements of the second one serve as the values.The values of the first list need to be unique and hashable\n",
    "l1=['a', 'b', 'c', 'd', 'e', 'f']\n",
    "l2=[1, 2, 3, 4, 5]\n",
    "\n",
    "def test(lst1,lst2):\n",
    "    return dict(zip(lst1,lst2))\n",
    "print(test(l1,l2))"
   ]
  },
  {
   "cell_type": "code",
   "execution_count": 20,
   "id": "af5fd05c",
   "metadata": {},
   "outputs": [
    {
     "name": "stdout",
     "output_type": "stream",
     "text": [
      "[('Red', 1), ('Green', 3), ('White', 5), ('Black', 2), ('Pink', 4)]\n"
     ]
    }
   ],
   "source": [
    "#77-convert given a dictionary to a list of tuples\n",
    "dct={'Red': 1, 'Green': 3, 'White': 5, 'Black': 2, 'Pink': 4}\n",
    "lst=(dct.items())\n",
    "print(list(lst))"
   ]
  },
  {
   "cell_type": "code",
   "execution_count": 21,
   "id": "ac09ac24",
   "metadata": {},
   "outputs": [
    {
     "name": "stdout",
     "output_type": "stream",
     "text": [
      "['Theodore', 'Roxanne', 'Mathew', 'Betty']\n"
     ]
    }
   ],
   "source": [
    "#78-create a flat list of all the keys in a flat dictionary.\n",
    "dct={'Theodore': 19, 'Roxanne': 20, 'Mathew': 21, 'Betty': 20}\n",
    "lst=(key for key,val in dct.items())\n",
    "print(list(lst))"
   ]
  },
  {
   "cell_type": "code",
   "execution_count": 23,
   "id": "8ed5d9b0",
   "metadata": {},
   "outputs": [
    {
     "name": "stdout",
     "output_type": "stream",
     "text": [
      "\n",
      "Original dictionary elements:\n",
      "{'Theodore': 19, 'Roxanne': 20, 'Mathew': 21, 'Betty': 20}\n",
      "\n",
      "Create a flat list of all the keys of the said flat dictionary:\n",
      "['Theodore', 'Roxanne', 'Mathew', 'Betty']\n"
     ]
    }
   ],
   "source": [
    "#s2-\n",
    "def test(flat_dict):\n",
    "  return list(flat_dict.keys())\n",
    "students = {\n",
    "  'Theodore': 19,\n",
    "  'Roxanne': 20,\n",
    "  'Mathew': 21,\n",
    "  'Betty': 20\n",
    "}\n",
    "\n",
    "print(\"\\nOriginal dictionary elements:\")\n",
    "print(students)\n",
    "print(\"\\nCreate a flat list of all the keys of the said flat dictionary:\")\n",
    "print(test(students))"
   ]
  },
  {
   "cell_type": "code",
   "execution_count": 28,
   "id": "ea52aaa5",
   "metadata": {},
   "outputs": [
    {
     "name": "stdout",
     "output_type": "stream",
     "text": [
      "[19, 20, 21, 20]\n"
     ]
    }
   ],
   "source": [
    "#79-create a flat list of all the values in a flat dictionary.\n",
    "dct = {\n",
    "  'Theodore': 19,\n",
    "  'Roxanne': 20,\n",
    "  'Mathew': 21,\n",
    "  'Betty': 20\n",
    "}\n",
    "result=(dct.values())\n",
    "print(list(result))"
   ]
  },
  {
   "cell_type": "code",
   "execution_count": 39,
   "id": "2bf4a9b0",
   "metadata": {},
   "outputs": [
    {
     "name": "stdout",
     "output_type": "stream",
     "text": [
      "Betty\n"
     ]
    }
   ],
   "source": [
    "#80-find the key of the maximum and minimum value in a dictionary\n",
    "dct={'Theodore': 19, 'Roxanne': 22, 'Mathew': 21, 'Betty': 28}\n",
    "max_key= (max(dct,key=lambda x:dct[x]))\n",
    "print(max_key)"
   ]
  },
  {
   "cell_type": "code",
   "execution_count": 44,
   "id": "11a156a9",
   "metadata": {},
   "outputs": [
    {
     "name": "stdout",
     "output_type": "stream",
     "text": [
      "[5, 8, 2, 8]\n"
     ]
    }
   ],
   "source": [
    "#map max works together\n",
    "a = [0,1,2,6]\n",
    "b = [5,1,0,7]\n",
    "c = [3,8,0,8]\n",
    "map(max,a,b,c)\n",
    "# [5,8,2,8]\n",
    "d = [a,b,c]\n",
    "print ([(max(itm) )for itm in zip(a, b, c)])"
   ]
  },
  {
   "cell_type": "code",
   "execution_count": null,
   "id": "5272c9d5",
   "metadata": {},
   "outputs": [],
   "source": []
  }
 ],
 "metadata": {
  "kernelspec": {
   "display_name": "Python 3 (ipykernel)",
   "language": "python",
   "name": "python3"
  },
  "language_info": {
   "codemirror_mode": {
    "name": "ipython",
    "version": 3
   },
   "file_extension": ".py",
   "mimetype": "text/x-python",
   "name": "python",
   "nbconvert_exporter": "python",
   "pygments_lexer": "ipython3",
   "version": "3.9.7"
  }
 },
 "nbformat": 4,
 "nbformat_minor": 5
}
