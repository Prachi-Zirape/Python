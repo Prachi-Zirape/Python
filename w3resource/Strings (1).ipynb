{
 "cells": [
  {
   "cell_type": "code",
   "execution_count": 4,
   "id": "94bf8ad9",
   "metadata": {},
   "outputs": [
    {
     "name": "stdout",
     "output_type": "stream",
     "text": [
      "14\n"
     ]
    }
   ],
   "source": [
    "#date-9/5/22\n",
    "#1-calculate the length of a string\n",
    "s=\"w3resource.com\"\n",
    "print(len(s))"
   ]
  },
  {
   "cell_type": "code",
   "execution_count": 3,
   "id": "b0ff2608",
   "metadata": {},
   "outputs": [
    {
     "name": "stdout",
     "output_type": "stream",
     "text": [
      "14\n"
     ]
    }
   ],
   "source": [
    "def string_length(str1):\n",
    "    count = 0\n",
    "    for char in str1:\n",
    "        count += 1\n",
    "    return count\n",
    "print(string_length('w3resource.com'))"
   ]
  },
  {
   "cell_type": "code",
   "execution_count": 5,
   "id": "6ff96352",
   "metadata": {},
   "outputs": [
    {
     "name": "stdout",
     "output_type": "stream",
     "text": [
      "{'g': 2, 'o': 3, 'l': 1, 'e': 1, '.': 1, 'c': 1, 'm': 1}\n"
     ]
    }
   ],
   "source": [
    "#2-count the number of characters (character frequency) in a string\n",
    "s='google.com'\n",
    "dct={}\n",
    "\n",
    "for ch in s:\n",
    "    dct[ch]=s.count(ch)\n",
    "print(dct)"
   ]
  },
  {
   "cell_type": "code",
   "execution_count": 6,
   "id": "318be94b",
   "metadata": {},
   "outputs": [
    {
     "name": "stdout",
     "output_type": "stream",
     "text": [
      "{'g': 2, 'o': 3, 'l': 1, 'e': 1, '.': 1, 'c': 1, 'm': 1}\n"
     ]
    }
   ],
   "source": [
    "def char_freq(str1):\n",
    "    dict={}\n",
    "    for n in str1:\n",
    "        keys=dict.keys()\n",
    "        if n in keys:\n",
    "            dict[n]+=1\n",
    "        else:\n",
    "            dict[n]=1\n",
    "    return dict\n",
    "print(char_freq('google.com'))"
   ]
  },
  {
   "cell_type": "code",
   "execution_count": 8,
   "id": "2bc1a966",
   "metadata": {},
   "outputs": [
    {
     "name": "stdout",
     "output_type": "stream",
     "text": [
      "w3ce\n"
     ]
    }
   ],
   "source": [
    "#3-get a string made of the first 2 and the last 2 chars from a given a string. If the string length is less than 2, return instead of the empty string\n",
    "s=\"w3resource\"\n",
    "res=\"\"\n",
    "if len(s)<2:\n",
    "    print(\" \")\n",
    "else:\n",
    "    res=s[:2]+s[-2:]\n",
    "print(res)"
   ]
  },
  {
   "cell_type": "code",
   "execution_count": 9,
   "id": "31245413",
   "metadata": {},
   "outputs": [
    {
     "name": "stdout",
     "output_type": "stream",
     "text": [
      "w3ce\n",
      "w3w3\n",
      "\n"
     ]
    }
   ],
   "source": [
    "def string_both_ends(str):\n",
    "  if len(str) < 2:\n",
    "    return ''\n",
    "\n",
    "  return str[0:2] + str[-2:]\n",
    "\n",
    "print(string_both_ends('w3resource'))\n",
    "print(string_both_ends('w3'))\n",
    "print(string_both_ends('w'))"
   ]
  },
  {
   "cell_type": "code",
   "execution_count": 14,
   "id": "d2431c95",
   "metadata": {},
   "outputs": [
    {
     "name": "stdout",
     "output_type": "stream",
     "text": [
      "$esta$t\n"
     ]
    }
   ],
   "source": [
    "#4-get a string from a given string where all occurrences of its first char have been changed to '$', except the first char itself\n",
    "s=\"restart\"\n",
    "temp=0\n",
    "for i in s:\n",
    "    if s[0] in s[1:]:\n",
    "        temp=s.index(i)+2\n",
    "        \n",
    "print(s.replace(s[temp],\"$\"))"
   ]
  },
  {
   "cell_type": "code",
   "execution_count": 15,
   "id": "2b9bf5a3",
   "metadata": {},
   "outputs": [
    {
     "name": "stdout",
     "output_type": "stream",
     "text": [
      "resta$t\n"
     ]
    }
   ],
   "source": [
    "str1='restart'\n",
    "char=str1[0]\n",
    "str1=str1.replace(char,'$')\n",
    "str1=char+str1[1:]\n",
    "\n",
    "print(str1)"
   ]
  },
  {
   "cell_type": "code",
   "execution_count": 16,
   "id": "ae5879a0",
   "metadata": {},
   "outputs": [
    {
     "name": "stdout",
     "output_type": "stream",
     "text": [
      "xyc abz\n"
     ]
    }
   ],
   "source": [
    "#5- get a single string from two given strings, separated by a space and swap the first two characters of each string\n",
    "s1='abc'\n",
    "s2='xyz'\n",
    "\n",
    "temp=s1[:2]\n",
    "s1=s1.replace(s1[:2],s2[:2])\n",
    "s2=s2.replace(s2[:2],temp)\n",
    "\n",
    "print(s1,s2)"
   ]
  },
  {
   "cell_type": "code",
   "execution_count": 18,
   "id": "58ea8910",
   "metadata": {},
   "outputs": [
    {
     "name": "stdout",
     "output_type": "stream",
     "text": [
      "xyc abz\n"
     ]
    }
   ],
   "source": [
    "def chars_mix_up(a, b):\n",
    "  new_a = b[:2] + a[2:]\n",
    "  new_b = a[:2] + b[2:]\n",
    "\n",
    "  return new_a + ' ' + new_b\n",
    "print(chars_mix_up('abc', 'xyz'))"
   ]
  },
  {
   "cell_type": "code",
   "execution_count": 22,
   "id": "d2d1ea67",
   "metadata": {},
   "outputs": [
    {
     "name": "stdout",
     "output_type": "stream",
     "text": [
      "stringly\n"
     ]
    }
   ],
   "source": [
    "#6-program to add 'ing' at the end of a given string (length should be at least 3). \n",
    "#If the given string already ends with 'ing' then add 'ly' instead. If the string \n",
    "#length of the given string is less than 3, leave it unchanged\n",
    "\n",
    "s=\"string\"\n",
    "\n",
    "if len(s)<3:\n",
    "    print(\"s\")\n",
    "elif s[-3:]==\"ing\":\n",
    "    s=s+\"ly\"\n",
    "else:\n",
    "    s=s+\"ing\"\n",
    "print(s)    \n"
   ]
  },
  {
   "cell_type": "code",
   "execution_count": 2,
   "id": "325e5bf9",
   "metadata": {},
   "outputs": [
    {
     "name": "stdout",
     "output_type": "stream",
     "text": [
      "The lyrics is good!\n",
      "The lyrics is poor!\n"
     ]
    }
   ],
   "source": [
    "#7-Python program to find the first appearance of the substring 'not' and 'poor' \n",
    "#from a given string, if 'not' follows the 'poor', replace the whole 'not'...'poor' \n",
    "#substring with 'good'. Return the resulting string. \n",
    "\n",
    "def not_poor(str1):\n",
    "  snot = str1.find('not')\n",
    "  spoor = str1.find('poor')\n",
    "    \n",
    "  if spoor > snot and snot>0 and spoor>0:\n",
    "    str1 = str1.replace(str1[snot:(spoor+4)], 'good')\n",
    "    return str1\n",
    "  else:\n",
    "    return str1\n",
    "print(not_poor('The lyrics is not that poor!'))\n",
    "print(not_poor('The lyrics is poor!'))"
   ]
  },
  {
   "cell_type": "code",
   "execution_count": 26,
   "id": "2f3258d8",
   "metadata": {},
   "outputs": [
    {
     "name": "stdout",
     "output_type": "stream",
     "text": [
      "lyrics\n"
     ]
    }
   ],
   "source": [
    "#8- function that takes a list of words and return the longest word and the length of the longest one\n",
    "l=\"The lyrics is good!\"\n",
    "print(max(l.split(),key=len))"
   ]
  },
  {
   "cell_type": "code",
   "execution_count": 28,
   "id": "35613429",
   "metadata": {},
   "outputs": [
    {
     "name": "stdout",
     "output_type": "stream",
     "text": [
      "Longest word:  Exercises\n",
      "Length of the longest word:  9\n"
     ]
    }
   ],
   "source": [
    "#sort method\n",
    "def find_longest_word(words_list):\n",
    "    word_len = []\n",
    "    for n in words_list:\n",
    "        word_len.append((len(n), n))\n",
    "    word_len.sort()\n",
    "    return word_len[-1][0], word_len[-1][1]\n",
    "result = find_longest_word([\"PHP\", \"Exercises\", \"Backend\"])\n",
    "print(\"Longest word: \",result[1])\n",
    "print(\"Length of the longest word: \",result[0])"
   ]
  },
  {
   "cell_type": "code",
   "execution_count": 4,
   "id": "cf9c7e00",
   "metadata": {},
   "outputs": [
    {
     "name": "stdout",
     "output_type": "stream",
     "text": [
      "logest\n"
     ]
    }
   ],
   "source": [
    "#9-remove the nth index character from a nonempty string.\n",
    "s=\"longest\"\n",
    "n=2\n",
    "for i in range(len(s)):\n",
    "    if i==n:\n",
    "        s=s.replace(s[i],\"\")\n",
    "print(s)"
   ]
  },
  {
   "cell_type": "code",
   "execution_count": 5,
   "id": "13c2aba5",
   "metadata": {},
   "outputs": [
    {
     "name": "stdout",
     "output_type": "stream",
     "text": [
      "ython\n",
      "Pyton\n",
      "Pytho\n"
     ]
    }
   ],
   "source": [
    "def remove_char(str, n):\n",
    "      first_part = str[:n] \n",
    "      last_part = str[n+1:]\n",
    "      return first_part + last_part\n",
    "print(remove_char('Python', 0))\n",
    "print(remove_char('Python', 3))\n",
    "print(remove_char('Python', 5))"
   ]
  },
  {
   "cell_type": "code",
   "execution_count": 6,
   "id": "132ad418",
   "metadata": {},
   "outputs": [
    {
     "name": "stdout",
     "output_type": "stream",
     "text": [
      "nythoP\n"
     ]
    }
   ],
   "source": [
    "#10-change a given string to a new string where the first and last chars have been exchanged\n",
    "s='Python'\n",
    "res=s[-1]+s[1:-1]+s[0]\n",
    "print(res)"
   ]
  },
  {
   "cell_type": "code",
   "execution_count": 7,
   "id": "c397a2df",
   "metadata": {},
   "outputs": [
    {
     "name": "stdout",
     "output_type": "stream",
     "text": [
      "dbca\n",
      "52341\n"
     ]
    }
   ],
   "source": [
    "def change_sring(str1):\n",
    "      return str1[-1:] + str1[1:-1] + str1[:1]\n",
    "\t  \n",
    "print(change_sring('abcd'))\n",
    "print(change_sring('12345'))"
   ]
  },
  {
   "cell_type": "code",
   "execution_count": 8,
   "id": "eba545ea",
   "metadata": {},
   "outputs": [
    {
     "name": "stdout",
     "output_type": "stream",
     "text": [
      "Pto\n"
     ]
    }
   ],
   "source": [
    "#11- remove the characters which have odd index values of a given string\n",
    "s='Python'\n",
    "res=''\n",
    "for idx,ch in enumerate(s):\n",
    "    if idx%2==1:\n",
    "        continue\n",
    "    else:\n",
    "        res+=ch\n",
    "print(res)"
   ]
  },
  {
   "cell_type": "code",
   "execution_count": 9,
   "id": "0c10b0ab",
   "metadata": {},
   "outputs": [
    {
     "name": "stdout",
     "output_type": "stream",
     "text": [
      "ace\n",
      "pto\n"
     ]
    }
   ],
   "source": [
    "def odd_values_string(str):\n",
    "  result = \"\" \n",
    "  for i in range(len(str)):\n",
    "    if i % 2 == 0:\n",
    "      result = result + str[i]\n",
    "  return result\n",
    "\n",
    "print(odd_values_string('abcdef'))\n",
    "print(odd_values_string('python'))"
   ]
  },
  {
   "cell_type": "code",
   "execution_count": 10,
   "id": "cd424423",
   "metadata": {},
   "outputs": [
    {
     "name": "stdout",
     "output_type": "stream",
     "text": [
      "{'Python': 1, 'to': 2, 'program': 1, 'the': 2, 'count': 1, 'occurrences': 1, 'python': 1}\n"
     ]
    }
   ],
   "source": [
    "#12-count the occurrences of each word in a given sentence\n",
    "s='Python to program to the count the occurrences python'\n",
    "dct={}\n",
    "for i in s.split():\n",
    "    if i in dct:\n",
    "        dct[i]+=1\n",
    "    else:\n",
    "        dct[i]=1\n",
    "print(dct)"
   ]
  },
  {
   "cell_type": "code",
   "execution_count": 13,
   "id": "27b09010",
   "metadata": {},
   "outputs": [
    {
     "name": "stdout",
     "output_type": "stream",
     "text": [
      "please enter sentence\"please enter sentence\",\n",
      "\"PLEASE ENTER SENTENCE\",\n"
     ]
    }
   ],
   "source": [
    "#13-Python script that takes input from the user and displays that input back in upper and lower cases\n",
    "s=str(input(\"please enter sentence\"))\n",
    "print(s.swapcase())"
   ]
  },
  {
   "cell_type": "code",
   "execution_count": 15,
   "id": "5db37e72",
   "metadata": {},
   "outputs": [
    {
     "name": "stdout",
     "output_type": "stream",
     "text": [
      "What's your favourite language? adcna ldkncklad kdqkd[oqkd 2121\n",
      "My favourite language is  ADCNA LDKNCKLAD KDQKD[OQKD 2121\n",
      "My favourite language is  adcna ldkncklad kdqkd[oqkd 2121\n"
     ]
    }
   ],
   "source": [
    "user_input = input(\"What's your favourite language? \")\n",
    "print(\"My favourite language is \", user_input.upper())\n",
    "print(\"My favourite language is \", user_input.lower())"
   ]
  },
  {
   "cell_type": "code",
   "execution_count": 18,
   "id": "5d697a29",
   "metadata": {},
   "outputs": [
    {
     "name": "stdout",
     "output_type": "stream",
     "text": [
      "print comma separated wordsred, white, black, red, green, black\n",
      "[' black', ' black', ' green', ' red', ' white', 'red']\n"
     ]
    }
   ],
   "source": [
    "#14-accepts a comma separated sequence of words as input and prints the unique words in sorted form (alphanumerically).\n",
    "l=input(\"print comma separated words\")\n",
    "print(sorted(l.split(\",\")))"
   ]
  },
  {
   "cell_type": "code",
   "execution_count": 19,
   "id": "cd71f237",
   "metadata": {},
   "outputs": [
    {
     "name": "stdout",
     "output_type": "stream",
     "text": [
      "Input comma separated sequence of wordsred, white, black, red, green, black\n",
      " black, green, red, white,red\n"
     ]
    }
   ],
   "source": [
    "items = input(\"Input comma separated sequence of words\")\n",
    "words = [word for word in items.split(\",\")]\n",
    "print(\",\".join(sorted(list(set(words)))))"
   ]
  },
  {
   "cell_type": "code",
   "execution_count": 20,
   "id": "ffd2d4fc",
   "metadata": {},
   "outputs": [
    {
     "name": "stdout",
     "output_type": "stream",
     "text": [
      "<i>Python</i>\n",
      "<b>Python Tutorial</b>\n"
     ]
    }
   ],
   "source": [
    "#15-function to create the HTML string with tags around the word(s)\n",
    "def add_tags(tag, word):\n",
    "\treturn \"<%s>%s</%s>\" % (tag, word, tag)\n",
    "print(add_tags('i', 'Python'))\n",
    "print(add_tags('b', 'Python Tutorial'))"
   ]
  },
  {
   "cell_type": "code",
   "execution_count": 32,
   "id": "4741f8d7",
   "metadata": {},
   "outputs": [
    {
     "name": "stdout",
     "output_type": "stream",
     "text": [
      "2\n",
      "[[Python]]\n"
     ]
    }
   ],
   "source": [
    "#16-insert a string in the middle of a string.\n",
    "brct='[[]]'\n",
    "s='Python'\n",
    "res=\"\"\n",
    "for i in range(len(brct)):\n",
    "    if i==(len(brct)/2):\n",
    "        print(i)\n",
    "        (res)=brct[:i]+s+brct[i:]\n",
    "        #list(res)=list(brct).insert(i,s)\n",
    "print(res)"
   ]
  },
  {
   "cell_type": "code",
   "execution_count": 33,
   "id": "02b43274",
   "metadata": {},
   "outputs": [
    {
     "name": "stdout",
     "output_type": "stream",
     "text": [
      "onononon\n"
     ]
    }
   ],
   "source": [
    "#17-get a string made of 4 copies of the last two characters of a specified string (length must be at least 2).\n",
    "s='Python'\n",
    "print(s[-2:]*4)"
   ]
  },
  {
   "cell_type": "code",
   "execution_count": 34,
   "id": "a96c7ea0",
   "metadata": {},
   "outputs": [
    {
     "name": "stdout",
     "output_type": "stream",
     "text": [
      "onononon\n",
      "eseseses\n"
     ]
    }
   ],
   "source": [
    "def insert_end(str):\n",
    "\tsub_str = str[-2:]\n",
    "\treturn sub_str * 4\n",
    "\n",
    "print(insert_end('Python'))\n",
    "print(insert_end('Exercises'))\n"
   ]
  },
  {
   "cell_type": "code",
   "execution_count": 35,
   "id": "9ec35724",
   "metadata": {},
   "outputs": [
    {
     "name": "stdout",
     "output_type": "stream",
     "text": [
      "pyt\n"
     ]
    }
   ],
   "source": [
    "#18-get a string made of its first three characters of a specified string. \n",
    "#If the length of the string is less than 3 then return the original string\n",
    "\n",
    "s='python'\n",
    "if len(s)>3:\n",
    "    print(s[:3])\n",
    "else:\n",
    "    print(s)"
   ]
  },
  {
   "cell_type": "code",
   "execution_count": 38,
   "id": "2dc7fcf5",
   "metadata": {},
   "outputs": [
    {
     "name": "stdout",
     "output_type": "stream",
     "text": [
      "https://www.w3resource.com/python-exercises\n",
      "https://www.w3resource.com/python\n"
     ]
    }
   ],
   "source": [
    "#19-get the last part of a string before a specified character.\n",
    "s='https://www.w3resource.com/python-exercises'\n",
    "str1 = 'https://www.w3resource.com/python-exercises/string'\n",
    "print(str1.rsplit('/', 1)[0])  ##0 left side of / and 1 right side of /\n",
    "print(str1.rsplit('-', 1)[0])"
   ]
  },
  {
   "cell_type": "code",
   "execution_count": 39,
   "id": "82e365dc",
   "metadata": {},
   "outputs": [
    {
     "name": "stdout",
     "output_type": "stream",
     "text": [
      "trwe\n"
     ]
    }
   ],
   "source": [
    "#20- reverses a string if it's length is a multiple of 4\n",
    "s='ewrt'\n",
    "if len(s)%4==0:\n",
    "    print(s[::-1])"
   ]
  },
  {
   "cell_type": "code",
   "execution_count": 40,
   "id": "07480793",
   "metadata": {},
   "outputs": [
    {
     "name": "stdout",
     "output_type": "stream",
     "text": [
      "dcba\n",
      "python\n"
     ]
    }
   ],
   "source": [
    "def reverse_string(str1):\n",
    "    if len(str1) % 4 == 0:\n",
    "       return ''.join(reversed(str1))\n",
    "    return str1\n",
    "\n",
    "print(reverse_string('abcd'))\n",
    "print(reverse_string('python'))"
   ]
  },
  {
   "cell_type": "code",
   "execution_count": 43,
   "id": "e0c14308",
   "metadata": {},
   "outputs": [
    {
     "name": "stdout",
     "output_type": "stream",
     "text": [
      "PYTHON\n"
     ]
    }
   ],
   "source": [
    "#21-function to convert a given string to all uppercase if it contains at least 2 uppercase characters in the first 4 characters\n",
    "s=\"PyThon\"\n",
    "cnt=0\n",
    "for i in s[:4]:\n",
    "    if i.isupper():\n",
    "        cnt+=1\n",
    "if cnt>=2:\n",
    "    print(s.upper())"
   ]
  },
  {
   "cell_type": "code",
   "execution_count": 44,
   "id": "b6364f66",
   "metadata": {},
   "outputs": [
    {
     "name": "stdout",
     "output_type": "stream",
     "text": [
      "Python\n",
      "PYTHON\n"
     ]
    }
   ],
   "source": [
    "def to_uppercase(str1):\n",
    "    num_upper = 0\n",
    "    for letter in str1[:4]: \n",
    "        if letter.upper() == letter:\n",
    "            num_upper += 1\n",
    "    if num_upper >= 2:\n",
    "        return str1.upper()\n",
    "    return str1\n",
    "\n",
    "print(to_uppercase('Python'))\n",
    "print(to_uppercase('PyThon'))"
   ]
  },
  {
   "cell_type": "code",
   "execution_count": 47,
   "id": "e8468e81",
   "metadata": {},
   "outputs": [
    {
     "name": "stdout",
     "output_type": "stream",
     "text": [
      "hnopty\n"
     ]
    }
   ],
   "source": [
    "#22-sort a string lexicographically\n",
    "s='python'\n",
    "print(''.join(sorted(s)))"
   ]
  },
  {
   "cell_type": "code",
   "execution_count": 48,
   "id": "34b05f94",
   "metadata": {},
   "outputs": [
    {
     "name": "stdout",
     "output_type": "stream",
     "text": [
      "['3', 'c', 'e', 'e', 'o', 'r', 'r', 's', 'u', 'w']\n",
      "['b', 'c', 'i', 'k', 'n', 'o', 'q', 'r', 'u', 'w']\n"
     ]
    }
   ],
   "source": [
    "def lexicographi_sort(s):\n",
    "    return sorted(sorted(s), key=str.upper)\n",
    "\n",
    "print(lexicographi_sort('w3resource'))\n",
    "print(lexicographi_sort('quickbrown'))"
   ]
  },
  {
   "cell_type": "code",
   "execution_count": 50,
   "id": "41195276",
   "metadata": {},
   "outputs": [
    {
     "name": "stdout",
     "output_type": "stream",
     "text": [
      "Python Exercises\n",
      "\n",
      "Python Exercises\n"
     ]
    }
   ],
   "source": [
    "#23- remove a newline in Python\n",
    "str1='Python Exercises\\n'\n",
    "print(str1)\n",
    "print(str1.rstrip())"
   ]
  },
  {
   "cell_type": "code",
   "execution_count": 52,
   "id": "d432d9b4",
   "metadata": {},
   "outputs": [
    {
     "name": "stdout",
     "output_type": "stream",
     "text": [
      "True\n"
     ]
    }
   ],
   "source": [
    "#24- program to check whether a string starts with specified characters\n",
    "string = \"w3resource.com\"\n",
    "print(string.startswith(\"w3r\"))"
   ]
  },
  {
   "cell_type": "code",
   "execution_count": 53,
   "id": "8b20c10c",
   "metadata": {},
   "outputs": [],
   "source": [
    "#Date-9/7/22\n",
    "#25- create a Caesar encryption\n",
    "#https://www.geeksforgeeks.org/caesar-cipher-in-cryptography/\n"
   ]
  },
  {
   "cell_type": "code",
   "execution_count": 1,
   "id": "089828b7",
   "metadata": {},
   "outputs": [
    {
     "name": "stdout",
     "output_type": "stream",
     "text": [
      "   Python is a widely used high-level, general-\n",
      "purpose, interpreted,   dynamic programming\n",
      "language. Its design philosophy emphasizes   code\n",
      "readability, and its syntax allows programmers to\n",
      "express   concepts in fewer lines of code than\n",
      "possible in languages such   as C++ or Java.\n"
     ]
    }
   ],
   "source": [
    "#26-display formatted text (width=50) as output\n",
    "import textwrap\n",
    "sample_text='''\n",
    "  Python is a widely used high-level, general-purpose, interpreted,\n",
    "  dynamic programming language. Its design philosophy emphasizes\n",
    "  code readability, and its syntax allows programmers to express\n",
    "  concepts in fewer lines of code than possible in languages such\n",
    "  as C++ or Java.\n",
    "  '''\n",
    "print(textwrap.fill(sample_text,width=50))"
   ]
  },
  {
   "cell_type": "code",
   "execution_count": 2,
   "id": "d43ffe1b",
   "metadata": {},
   "outputs": [
    {
     "name": "stdout",
     "output_type": "stream",
     "text": [
      "\n",
      "Python is a widely used high-level, general-purpose, interpreted,\n",
      "dynamic programming language. Its design philosophy emphasizes\n",
      "code readability, and its syntax allows programmers to express\n",
      "concepts in fewer lines of code than possible in languages such\n",
      "as C++ or Java.\n",
      "\n"
     ]
    }
   ],
   "source": [
    "#27-remove existing indentation from all of the lines in a given text.\n",
    "import textwrap\n",
    "sample_text='''\n",
    "  Python is a widely used high-level, general-purpose, interpreted,\n",
    "  dynamic programming language. Its design philosophy emphasizes\n",
    "  code readability, and its syntax allows programmers to express\n",
    "  concepts in fewer lines of code than possible in languages such\n",
    "  as C++ or Java.\n",
    "  '''\n",
    "text_without_indent=textwrap.dedent(sample_text)\n",
    "print(text_without_indent)"
   ]
  },
  {
   "cell_type": "code",
   "execution_count": 5,
   "id": "20f48651",
   "metadata": {},
   "outputs": [
    {
     "name": "stdout",
     "output_type": "stream",
     "text": [
      "> Python is a widely used high-level, general-\n",
      ">purpose, interpreted, dynamic programming\n",
      ">language. Its design philosophy emphasizes code\n",
      ">readability, and its syntax allows programmers to\n",
      ">express concepts in fewer lines of code than\n",
      ">possible in languages such as C++ or Java.\n"
     ]
    }
   ],
   "source": [
    "#28-add a prefix text to all of the lines in a string\n",
    "import textwrap\n",
    "sample_text='''\n",
    "  Python is a widely used high-level, general-purpose, interpreted,\n",
    "  dynamic programming language. Its design philosophy emphasizes\n",
    "  code readability, and its syntax allows programmers to express\n",
    "  concepts in fewer lines of code than possible in languages such\n",
    "  as C++ or Java.\n",
    "  '''\n",
    "text_without_indent=textwrap.dedent(sample_text)\n",
    "wrapped=textwrap.fill(text_without_indent,width=50)\n",
    "result=textwrap.indent(wrapped,'>')\n",
    "print(result)"
   ]
  },
  {
   "cell_type": "code",
   "execution_count": 14,
   "id": "51447f16",
   "metadata": {
    "scrolled": true
   },
   "outputs": [
    {
     "name": "stdout",
     "output_type": "stream",
     "text": [
      "Python is a widely used high-level, general-purpose, interpreted,\n",
      "dynamic programming language. Its design philosophy emphasizes\n",
      "code readability, and its syntax allows programmers to express\n",
      "concepts in fewer lines of code than possible in languages such\n",
      "as C++ or Java.\n",
      "\n",
      " Python is a widely used high-level,\n",
      "    general-purpose, interpreted,\n",
      "    dynamic programming language. Its\n",
      "    design philosophy emphasizes code\n",
      "    readability, and its syntax allows\n",
      "    programmers to express concepts in\n",
      "    fewer lines of code than possible in\n",
      "    languages such as C++ or Java.\n"
     ]
    }
   ],
   "source": [
    "#29- set the indentation of the first line\n",
    "import textwrap\n",
    "sample_text='''\n",
    "  Python is a widely used high-level, general-purpose, interpreted,\n",
    "  dynamic programming language. Its design philosophy emphasizes\n",
    "  code readability, and its syntax allows programmers to express\n",
    "  concepts in fewer lines of code than possible in languages such\n",
    "  as C++ or Java.\n",
    "  '''\n",
    "text1=textwrap.dedent(sample_text).strip()\n",
    "print(text1)\n",
    "\n",
    "print('\\n',textwrap.fill(text1,initial_indent='',\n",
    "                   subsequent_indent=' '*4,\n",
    "                   width=40))"
   ]
  },
  {
   "cell_type": "code",
   "execution_count": 26,
   "id": "920a314b",
   "metadata": {},
   "outputs": [
    {
     "name": "stdout",
     "output_type": "stream",
     "text": [
      "Formatted Number: 13.00\n"
     ]
    }
   ],
   "source": [
    "#30-print the following floating numbers upto 2 decimal places\n",
    "x=12.9999\n",
    "#print(\"{:.2f}\".format(dcm))\n",
    "print(\"Formatted Number: \"+\"{:.2f}\".format(x));"
   ]
  },
  {
   "cell_type": "code",
   "execution_count": 25,
   "id": "2d468e0c",
   "metadata": {},
   "outputs": [
    {
     "name": "stdout",
     "output_type": "stream",
     "text": [
      "formatted number with sign: +3.14\n"
     ]
    }
   ],
   "source": [
    "#31- print the following floating numbers upto 2 decimal places with a sign.\n",
    "x = 3.1415926\n",
    "y = -12.9999\n",
    "\n",
    "print(\"formatted number with sign: {:+.2f}\".format(x))"
   ]
  },
  {
   "cell_type": "code",
   "execution_count": 30,
   "id": "123ed6e4",
   "metadata": {},
   "outputs": [
    {
     "name": "stdout",
     "output_type": "stream",
     "text": [
      "3\n",
      "-13\n"
     ]
    }
   ],
   "source": [
    "#32- print the following floating numbers with no decimal places.\n",
    "x = 3.1415926\n",
    "y = -12.9999\n",
    "print(\"{:.0f}\".format(x))\n",
    "print(\"{:.0f}\".format(y))"
   ]
  },
  {
   "cell_type": "code",
   "execution_count": 32,
   "id": "79a817fa",
   "metadata": {},
   "outputs": [
    {
     "name": "stdout",
     "output_type": "stream",
     "text": [
      "03\n",
      "000123\n"
     ]
    }
   ],
   "source": [
    "#33-print the following integers with zeros on the left of specified width\n",
    "x=3\n",
    "y=123\n",
    "print(\"{:0>2d}\".format(x))\n",
    "print(\"{:0>6d}\".format(y))"
   ]
  },
  {
   "cell_type": "code",
   "execution_count": 33,
   "id": "38ee83ce",
   "metadata": {},
   "outputs": [
    {
     "name": "stdout",
     "output_type": "stream",
     "text": [
      "3**\n"
     ]
    }
   ],
   "source": [
    "#34- print the following integers with '*' on the right of specified width\n",
    "x=3\n",
    "y=123\n",
    "print(\"{:*<3d}\".format(x))"
   ]
  },
  {
   "cell_type": "code",
   "execution_count": 34,
   "id": "376278fe",
   "metadata": {},
   "outputs": [
    {
     "name": "stdout",
     "output_type": "stream",
     "text": [
      "3,000,000\n"
     ]
    }
   ],
   "source": [
    "#35-display a number with a comma separator\n",
    "x=3000000\n",
    "y=30000000\n",
    "\n",
    "print(\"{:,}\".format(x))"
   ]
  },
  {
   "cell_type": "code",
   "execution_count": 38,
   "id": "08dfd2de",
   "metadata": {},
   "outputs": [
    {
     "name": "stdout",
     "output_type": "stream",
     "text": [
      "25%\n"
     ]
    }
   ],
   "source": [
    "#36-format a number with a percentage.\n",
    "x=0.25\n",
    "y=-0.25\n",
    "print(\"{:.0%}\".format(x))"
   ]
  },
  {
   "cell_type": "code",
   "execution_count": 46,
   "id": "9acec194",
   "metadata": {},
   "outputs": [
    {
     "name": "stdout",
     "output_type": "stream",
     "text": [
      "\n",
      "Original Number:  22\n",
      "Left aligned (width 10)   :22        \n",
      "Right aligned (width 10)  :        22\n",
      "Center aligned (width 10) :    22    \n",
      "\n"
     ]
    }
   ],
   "source": [
    "#37-display a number in left, right and center aligned of width 10.\n",
    "x = 22\n",
    "print(\"\\nOriginal Number: \", x)\n",
    "print(\"Left aligned (width 10)   :\"+\"{:<10d}\".format(x));\n",
    "print(\"Right aligned (width 10)  :\"+\"{:10d}\".format(x));\n",
    "print(\"Center aligned (width 10) :\"+\"{:^10d}\".format(x));\n",
    "print()"
   ]
  },
  {
   "cell_type": "code",
   "execution_count": 1,
   "id": "46c8f2b4",
   "metadata": {},
   "outputs": [
    {
     "name": "stdout",
     "output_type": "stream",
     "text": [
      "3\n"
     ]
    }
   ],
   "source": [
    "#Date-9/8/22\n",
    "#38- count occurrences of a substring in a string\n",
    "s='rightasrightsdfgright'\n",
    "sub='right'\n",
    "print(s.count(sub))"
   ]
  },
  {
   "cell_type": "code",
   "execution_count": 2,
   "id": "6da38506",
   "metadata": {},
   "outputs": [
    {
     "name": "stdout",
     "output_type": "stream",
     "text": [
      "thgir\n"
     ]
    }
   ],
   "source": [
    "#39- reverse a string\n",
    "s='right'\n",
    "print(s[::-1])"
   ]
  },
  {
   "cell_type": "code",
   "execution_count": 3,
   "id": "5cae5895",
   "metadata": {},
   "outputs": [
    {
     "name": "stdout",
     "output_type": "stream",
     "text": [
      ".sesicrexE nohtyP\n"
     ]
    }
   ],
   "source": [
    "s=\"Python Exercises.\"\n",
    "rev_s=''.join(reversed(s))\n",
    "print(rev_s)"
   ]
  },
  {
   "cell_type": "code",
   "execution_count": 10,
   "id": "c3a9fcb6",
   "metadata": {},
   "outputs": [
    {
     "name": "stdout",
     "output_type": "stream",
     "text": [
      "fox brown quick The\n"
     ]
    }
   ],
   "source": [
    "#40-reverse words in a string\n",
    "s=\"The quick brown fox\"\n",
    "res=' '.join(s.split()[::-1])\n",
    "print(res)"
   ]
  },
  {
   "cell_type": "code",
   "execution_count": 11,
   "id": "7026a0af",
   "metadata": {},
   "outputs": [
    {
     "name": "stdout",
     "output_type": "stream",
     "text": [
      "Th qck brwn fx jmps vr th lzy dg.\n"
     ]
    }
   ],
   "source": [
    "#41-strip a set of characters from a string\n",
    "chars=['a','e','i','o','u']\n",
    "str=\"The quick brown fox jumps over the lazy dog.\"\n",
    "res=''.join(c for c in str if c not in chars)\n",
    "print(res)"
   ]
  },
  {
   "cell_type": "code",
   "execution_count": 14,
   "id": "d62ed356",
   "metadata": {},
   "outputs": [
    {
     "name": "stdout",
     "output_type": "stream",
     "text": [
      "{'w': 3, 'e': 4, 'r': 1, 'j': 2, 'n': 2, 'f': 1, 'a': 2}\n"
     ]
    }
   ],
   "source": [
    "#42-count repeated characters in a string\n",
    "s=\"wewewrjnjnfaeae\"\n",
    "dct={}\n",
    "for i in s:\n",
    "    dct[i]=s.count(i)\n",
    "print(dct)"
   ]
  },
  {
   "cell_type": "code",
   "execution_count": 15,
   "id": "27dc22a2",
   "metadata": {},
   "outputs": [
    {
     "name": "stdout",
     "output_type": "stream",
     "text": [
      "o 4\n",
      "e 3\n",
      "t 2\n",
      "h 2\n",
      "u 2\n",
      "r 2\n"
     ]
    }
   ],
   "source": [
    "import collections\n",
    "str1='thequickbrownfoxjumpsoverthelazydog'\n",
    "d=collections.defaultdict(int)\n",
    "for c in str1:\n",
    "    d[c]+=1\n",
    "for c in sorted(d,key=d.get,reverse=True):\n",
    "    if d[c]>1:\n",
    "        print('%s %d' % (c, d[c]))"
   ]
  },
  {
   "cell_type": "code",
   "execution_count": 22,
   "id": "64e5e6f2",
   "metadata": {},
   "outputs": [
    {
     "name": "stdout",
     "output_type": "stream",
     "text": [
      "area= 1256.66cm²\n"
     ]
    }
   ],
   "source": [
    "#43-print the square and cube symbol in the area of a rectangle and volume of a cylinder\n",
    "area = 1256.6621\n",
    "volume = 1254.725\n",
    "decimals = 2\n",
    "\n",
    "print(\"area= {0:.{1}f}cm\\u00b2\".format(area,decimals))"
   ]
  },
  {
   "cell_type": "code",
   "execution_count": 23,
   "id": "d7d1e351",
   "metadata": {},
   "outputs": [
    {
     "name": "stdout",
     "output_type": "stream",
     "text": [
      "Current character w position at 0\n",
      "Current character 3 position at 1\n",
      "Current character r position at 2\n",
      "Current character e position at 3\n",
      "Current character s position at 4\n",
      "Current character o position at 5\n",
      "Current character u position at 6\n",
      "Current character r position at 7\n",
      "Current character c position at 8\n",
      "Current character e position at 9\n"
     ]
    }
   ],
   "source": [
    "#44-print the index of the character in a string\n",
    "#s1-formatting\n",
    "#s2-enumerate\n",
    "#s3-for loop\n",
    "#s4-dictionary\n",
    "s='w3resource'\n",
    "for i in range(len(s)):\n",
    "    print(\"Current character {} position at {}\".format(s[i],i))"
   ]
  },
  {
   "cell_type": "code",
   "execution_count": 24,
   "id": "0281287f",
   "metadata": {},
   "outputs": [
    {
     "name": "stdout",
     "output_type": "stream",
     "text": [
      "Current character w position at 0\n",
      "Current character 3 position at 1\n",
      "Current character r position at 2\n",
      "Current character e position at 3\n",
      "Current character s position at 4\n",
      "Current character o position at 5\n",
      "Current character u position at 6\n",
      "Current character r position at 7\n",
      "Current character c position at 8\n",
      "Current character e position at 9\n"
     ]
    }
   ],
   "source": [
    "str1 = \"w3resource\"\n",
    "for index, char in enumerate(str1):\n",
    "    print(\"Current character\", char, \"position at\", index )"
   ]
  },
  {
   "cell_type": "code",
   "execution_count": 26,
   "id": "c780aa2b",
   "metadata": {},
   "outputs": [
    {
     "name": "stdout",
     "output_type": "stream",
     "text": [
      "True\n"
     ]
    }
   ],
   "source": [
    "#45-check whether a string contains all letters of the alphabet\n",
    "import string\n",
    "alphabet = set(string.ascii_lowercase)  #actual set of individual letters\n",
    "#alphabet_all = (string.ascii_lowercase) --continuous string without spaces\n",
    "\n",
    "input_string = 'The quick brown fox jumps over the lazy dog'\n",
    "print(set(input_string.lower())>=alphabet)"
   ]
  },
  {
   "cell_type": "code",
   "execution_count": 28,
   "id": "2ec62daa",
   "metadata": {},
   "outputs": [
    {
     "name": "stdout",
     "output_type": "stream",
     "text": [
      "['The', 'quick', 'brown', 'fox', 'jumps', 'over', 'the', 'lazy', 'dog']\n"
     ]
    }
   ],
   "source": [
    "#46- convert a given string into a list of words\n",
    "s='The quick brown fox jumps over the lazy dog'\n",
    "print(list(s.split()))"
   ]
  },
  {
   "cell_type": "code",
   "execution_count": 29,
   "id": "8ce29bad",
   "metadata": {},
   "outputs": [
    {
     "name": "stdout",
     "output_type": "stream",
     "text": [
      "['The', 'quick', 'brown', 'fox', 'jumps', 'over', 'the', 'lazy', 'dog.']\n",
      "['The', 'quick', 'brown', 'fox', 'jumps', 'over', 'the', 'lazy', 'dog.']\n"
     ]
    }
   ],
   "source": [
    "str1 = \"The quick brown fox jumps over the lazy dog.\"\n",
    "print(str1.split(' '))\n",
    "str1 = \"The-quick-brown-fox-jumps-over-the-lazy-dog.\"\n",
    "print(str1.split('-'))"
   ]
  },
  {
   "cell_type": "code",
   "execution_count": 35,
   "id": "e085878f",
   "metadata": {},
   "outputs": [
    {
     "name": "stdout",
     "output_type": "stream",
     "text": [
      "the qUICK BROWN FOX JUMPS OVER LAZY DOG\n"
     ]
    }
   ],
   "source": [
    "#47-lowercase first n characters in a string\n",
    "s='THE QUICK BROWN FOX JUMPS OVER LAZY DOG'\n",
    "n=5\n",
    "res=s[:n].lower()+s[n:]\n",
    "#res=s.split()[:n].lower()+s.split()[n:]\n",
    "print(res)"
   ]
  },
  {
   "cell_type": "code",
   "execution_count": 41,
   "id": "5d193f87",
   "metadata": {},
   "outputs": [
    {
     "name": "stdout",
     "output_type": "stream",
     "text": [
      "32,054.23\n"
     ]
    }
   ],
   "source": [
    "#48-swap comma and dot in a string\n",
    "st='32.054,23'\n",
    "k=st.maketrans\n",
    "res=st.translate(k('.,',',.'))\n",
    "print(res)"
   ]
  },
  {
   "cell_type": "code",
   "execution_count": 47,
   "id": "c9bc67d3",
   "metadata": {},
   "outputs": [
    {
     "name": "stdout",
     "output_type": "stream",
     "text": [
      "{'E': 2, 'U': 2, 'I': 1, 'O': 4, 'A': 1}\n"
     ]
    }
   ],
   "source": [
    "#49-count and display the vowels of a given text\n",
    "s='THE QUICK BROWN FOX JUMPS OVER LAZY DOG'\n",
    "vowel=['A','E','I','O','U']\n",
    "d={}\n",
    "for i in s:\n",
    "    if i.upper() in vowel:\n",
    "        d[i]=s.count(i)\n",
    "print(d)"
   ]
  },
  {
   "cell_type": "code",
   "execution_count": 46,
   "id": "4d22e607",
   "metadata": {},
   "outputs": [
    {
     "name": "stdout",
     "output_type": "stream",
     "text": [
      "4\n",
      "['e', 'o', 'u', 'e']\n"
     ]
    }
   ],
   "source": [
    "def vowel(text):\n",
    "    vowels = \"aeiuoAEIOU\"\n",
    "    print(len([letter for letter in text if letter in vowels]))\n",
    "    print([letter for letter in text if letter in vowels])\n",
    "vowel('w3resource');"
   ]
  },
  {
   "cell_type": "code",
   "execution_count": 51,
   "id": "c7a8ad27",
   "metadata": {},
   "outputs": [
    {
     "name": "stdout",
     "output_type": "stream",
     "text": [
      "['w,3,r,e,s,o,u,r,c', 'e']\n",
      "['w,3,r,e,s,o,u,r', 'c', 'e']\n",
      "['w,3,r,e,s', 'o', 'u', 'r', 'c', 'e']\n"
     ]
    }
   ],
   "source": [
    "#50-split a string on the last occurrence of the delimiter.\n",
    "str1 = \"w,3,r,e,s,o,u,r,c,e\"\n",
    "print(str1.rsplit(',', 1))\n",
    "print(str1.rsplit(',', 2))\n",
    "print(str1.rsplit(',', 5))"
   ]
  },
  {
   "cell_type": "code",
   "execution_count": 4,
   "id": "496c9242",
   "metadata": {},
   "outputs": [
    {
     "name": "stdout",
     "output_type": "stream",
     "text": [
      "h 1\n"
     ]
    }
   ],
   "source": [
    "#51- find the first non-repeating character in given string. \n",
    "from collections import OrderedDict\n",
    "s='character'\n",
    "d=OrderedDict()\n",
    "\n",
    "for i in s:\n",
    "    d[i]=s.count(i)\n",
    "\n",
    "for key,val in d.items():\n",
    "    if val==1:\n",
    "        print(key,val)  \n",
    "        break"
   ]
  },
  {
   "cell_type": "code",
   "execution_count": 5,
   "id": "c4cd8b42",
   "metadata": {},
   "outputs": [
    {
     "name": "stdout",
     "output_type": "stream",
     "text": [
      "a\n",
      "d\n",
      "None\n"
     ]
    }
   ],
   "source": [
    "def first_non_repeating_character(str1):\n",
    "  char_order = []\n",
    "  ctr = {}\n",
    "  for c in str1:\n",
    "    if c in ctr:\n",
    "      ctr[c] += 1\n",
    "    else:\n",
    "      ctr[c] = 1 \n",
    "      char_order.append(c)\n",
    "  for c in char_order:\n",
    "    if ctr[c] == 1:\n",
    "      return c\n",
    "  return None\n",
    "\n",
    "print(first_non_repeating_character('abcdef'))\n",
    "print(first_non_repeating_character('abcabcdef'))\n",
    "print(first_non_repeating_character('aabbcc'))\n"
   ]
  },
  {
   "cell_type": "code",
   "execution_count": 13,
   "id": "5917e09b",
   "metadata": {},
   "outputs": [
    {
     "name": "stdout",
     "output_type": "stream",
     "text": [
      "All permutations with repetition of AB are:\n",
      "AA\n",
      "AB\n",
      "BA\n",
      "BB\n"
     ]
    }
   ],
   "source": [
    "#52-print all permutations with given repetition number of characters of a given string\n",
    "#Recursive Approach\n",
    "\n",
    "def toString(lst):\n",
    "    return ''.join(lst)\n",
    "\n",
    "def lexRec(string,data,last,index):\n",
    "    length=len(string)\n",
    "    \n",
    "    for i in range(length):\n",
    "        data[index]=string[i]\n",
    "       # print(data[index],string[i])\n",
    "        \n",
    "        if index==last:\n",
    "            print(toString(data))\n",
    "        else:\n",
    "            lexRec(string,data,last,index+1)\n",
    "    #print(data) \n",
    "    \n",
    "def lexPrint(string):\n",
    "    length=len(string)\n",
    "    \n",
    "    data=[\"\"]*(length+1)\n",
    "    #print(data,length)\n",
    "    \n",
    "    string=sorted(string)\n",
    "    \n",
    "    lexRec(string,data,length-1,0)\n",
    "    \n",
    "string='AB'\n",
    "print (\"All permutations with repetition of \" + string + \" are:\")\n",
    "lexPrint(string)"
   ]
  },
  {
   "cell_type": "code",
   "execution_count": 7,
   "id": "f8a38c7f",
   "metadata": {},
   "outputs": [
    {
     "name": "stdout",
     "output_type": "stream",
     "text": [
      "['e', '-->', 3]\n"
     ]
    }
   ],
   "source": [
    "#53- find the first repeated character in a given string\n",
    "from collections import OrderedDict\n",
    "s='repeated'\n",
    "d=OrderedDict()\n",
    "for i in s:\n",
    "    d[i]=s.count(i)\n",
    "    \n",
    "for k, v in d.items():\n",
    "    if v>1:\n",
    "        print([k,\"-->\",v])\n",
    "        break"
   ]
  },
  {
   "cell_type": "code",
   "execution_count": 9,
   "id": "8fdfff69",
   "metadata": {},
   "outputs": [
    {
     "name": "stdout",
     "output_type": "stream",
     "text": [
      "a\n",
      "None\n"
     ]
    }
   ],
   "source": [
    "def first_repeated_char(str1):\n",
    "  for index,c in enumerate(str1):\n",
    "    if str1[:index+1].count(c) > 1:\n",
    "      return c \n",
    "  return \"None\"\n",
    "\n",
    "print(first_repeated_char(\"abcdabcd\"))\n",
    "print(first_repeated_char(\"abcd\"))"
   ]
  },
  {
   "cell_type": "code",
   "execution_count": 14,
   "id": "8e6ad982",
   "metadata": {},
   "outputs": [
    {
     "name": "stdout",
     "output_type": "stream",
     "text": [
      "[('x', 'x'), ('x', 'y'), ('x', 'z'), ('y', 'x'), ('y', 'y'), ('y', 'z'), ('z', 'x'), ('z', 'y'), ('z', 'z')]\n"
     ]
    }
   ],
   "source": [
    "#Date-9/9/22\n",
    "#52-print all permutations with given repetition number of characters of a given string\n",
    "from itertools import product\n",
    "def all_repeat(str1,rno):\n",
    "    chars=list(str1)\n",
    "    result=[]\n",
    "    for c in product(chars,repeat=rno):\n",
    "        result.append(c)\n",
    "    return result\n",
    "print(all_repeat('xyz', 2))"
   ]
  },
  {
   "cell_type": "code",
   "execution_count": 15,
   "id": "471db883",
   "metadata": {},
   "outputs": [
    {
     "name": "stdout",
     "output_type": "stream",
     "text": [
      "('a', 0)\n"
     ]
    }
   ],
   "source": [
    "#54-find the first repeated character of a given string where the index of first occurrence is smallest\n",
    "def first_repeated_char_smallest_distance(str1):\n",
    "  temp = {}\n",
    "  for ch in str1:\n",
    "    if ch in temp:\n",
    "      return ch, str1.index(ch);\n",
    "    else:\n",
    "      temp[ch] = 0\n",
    "  return 'None'\n",
    "print(first_repeated_char_smallest_distance(\"abcabc\"))"
   ]
  },
  {
   "cell_type": "code",
   "execution_count": 16,
   "id": "aa371752",
   "metadata": {},
   "outputs": [
    {
     "name": "stdout",
     "output_type": "stream",
     "text": [
      "e 1\n"
     ]
    }
   ],
   "source": [
    "from collections import OrderedDict\n",
    "s='repeat'\n",
    "d=OrderedDict()\n",
    "\n",
    "for i in s:\n",
    "    if i in d:\n",
    "        print(i,s.index(i))\n",
    "        break\n",
    "    else:\n",
    "        d[i]=1"
   ]
  },
  {
   "cell_type": "code",
   "execution_count": 20,
   "id": "c1988af5",
   "metadata": {},
   "outputs": [
    {
     "name": "stdout",
     "output_type": "stream",
     "text": [
      "a 0\n"
     ]
    }
   ],
   "source": [
    "#55-find the first repeated word in a given string.\n",
    "s='a Python program to find a first repeated word in a given string.'\n",
    "d={}\n",
    "\n",
    "for i in s.split():\n",
    "    if i in d:\n",
    "        print(i, s.index(i))\n",
    "        break\n",
    "    else:\n",
    "        d[i]=1\n",
    "#print(d)"
   ]
  },
  {
   "cell_type": "code",
   "execution_count": 41,
   "id": "c8882941",
   "metadata": {},
   "outputs": [
    {
     "name": "stdout",
     "output_type": "stream",
     "text": [
      "('program', 2)\n"
     ]
    }
   ],
   "source": [
    "#56-find the second most repeated word in a given string\n",
    "#import Counter\n",
    "from operator import itemgetter\n",
    "s='an Python program top find an program repeated word into an string.'\n",
    "d={}\n",
    "for i in s.split():\n",
    "    #print(i)\n",
    "    d[i]=s.count(i)\n",
    "#print((d))\n",
    "\n",
    "sorted_dict=sorted(d.items(),key=itemgetter(1),reverse=True)[1]\n",
    "print(sorted_dict)"
   ]
  },
  {
   "cell_type": "code",
   "execution_count": 46,
   "id": "81592c0e",
   "metadata": {},
   "outputs": [
    {
     "name": "stdout",
     "output_type": "stream",
     "text": [
      "('of', 4)\n"
     ]
    }
   ],
   "source": [
    "def word_cnt(str):\n",
    "    count=dict()\n",
    "    words=str.split()\n",
    "    \n",
    "    for word in words:\n",
    "        if word in count:\n",
    "            count[word] += 1\n",
    "        else:\n",
    "            count[word] = 1            \n",
    "    count_x=sorted(count.items(),key=lambda kv:kv[1])\n",
    "    \n",
    "    return count_x[-2]\n",
    "\n",
    "print(word_cnt(\"Both of these issues are fixed by postponing the evaluation of annotations. \\\n",
    "                 Instead of compiling code which executes expressions in annotations at their \\\n",
    "                 definition time, the compiler stores the annotation in a string form equivalent \\\n",
    "                 to the AST of the expression in question. If needed, annotations can be resolved \\\n",
    "                 at runtime using typing.get_type_hints(). In the common case where this is not required, \\\n",
    "                 the annotations are cheaper to store (since short strings are interned by the interpreter) \\\n",
    "                 and make startup time faster.\"))"
   ]
  },
  {
   "cell_type": "markdown",
   "id": "9a8e770e",
   "metadata": {},
   "source": []
  },
  {
   "cell_type": "code",
   "execution_count": 47,
   "id": "560965e8",
   "metadata": {},
   "outputs": [
    {
     "name": "stdout",
     "output_type": "stream",
     "text": [
      "w3resource\n"
     ]
    }
   ],
   "source": [
    "#57-remove spaces from a given string.\n",
    "#use replace\n",
    "def remove_spaces(str1):\n",
    "    str1=str1.replace(' ','')\n",
    "    return str1\n",
    "print(remove_spaces(\"w 3 res ou r ce\"))"
   ]
  },
  {
   "cell_type": "code",
   "execution_count": 49,
   "id": "4a9a0f72",
   "metadata": {},
   "outputs": [
    {
     "name": "stdout",
     "output_type": "stream",
     "text": [
      "\"     w3resource.com\"\n"
     ]
    }
   ],
   "source": [
    "#58-move spaces to the front of a given string.\n",
    "def move_Spaces_front(str1):\n",
    "  noSpaces_char = [ch for ch in str1 if ch!=' ']\n",
    "  spaces_char = len(str1) - len(noSpaces_char)\n",
    "  result = ' '*spaces_char\n",
    "  result = '\"'+result + ''.join(noSpaces_char)+'\"'\n",
    "  return(result)\n",
    "\n",
    "print(move_Spaces_front(\"w3resource .  com  \"))"
   ]
  },
  {
   "cell_type": "code",
   "execution_count": 50,
   "id": "704e1b53",
   "metadata": {},
   "outputs": [
    {
     "name": "stdout",
     "output_type": "stream",
     "text": [
      "('r', 3)\n"
     ]
    }
   ],
   "source": [
    "#59- find the maximum occurring character in a given string\n",
    "s='occurrring'\n",
    "d={}\n",
    "for i in s:\n",
    "    d[i]=s.count(i)\n",
    "sorted_d=sorted(d.items(),key=lambda kv:kv[1])\n",
    "print(sorted_d[-1])"
   ]
  },
  {
   "cell_type": "code",
   "execution_count": 52,
   "id": "49282337",
   "metadata": {},
   "outputs": [
    {
     "name": "stdout",
     "output_type": "stream",
     "text": [
      "t\n",
      "f\n"
     ]
    }
   ],
   "source": [
    "def get_max_occuring_char(str1):\n",
    "  ASCII_SIZE = 256\n",
    "  ctr = [0] * ASCII_SIZE\n",
    "  max = -1\n",
    "  ch = ''\n",
    "  for i in str1:\n",
    "    ctr[ord(i)]+=1;\n",
    " \n",
    "  for i in str1:\n",
    "    if max < ctr[ord(i)]:\n",
    "      max = ctr[ord(i)]\n",
    "      ch = i\n",
    "  return ch\n",
    "\n",
    "print(get_max_occuring_char(\"Python: Get file creation and modification date/times\"))\n",
    "print(get_max_occuring_char(\"abcdeffffghijkb\"))"
   ]
  },
  {
   "cell_type": "code",
   "execution_count": 60,
   "id": "9a724b1d",
   "metadata": {},
   "outputs": [
    {
     "name": "stdout",
     "output_type": "stream",
     "text": [
      "PrograM TO CapitalizE FirsT AnD LasT LetterS OF EacH WorD OF GiveN StrinG \n"
     ]
    }
   ],
   "source": [
    "#60-capitalize first and last letters of each word of given string.\n",
    "import string\n",
    "res=\"\"\n",
    "txt='program to capitalize first and last letters of each word of given string'\n",
    "for i in txt.split():\n",
    "    res+=i[0].upper()+i[1:-1]+i[-1].upper()+\" \"\n",
    "print(res)"
   ]
  },
  {
   "cell_type": "code",
   "execution_count": 61,
   "id": "f8fadee0",
   "metadata": {},
   "outputs": [
    {
     "name": "stdout",
     "output_type": "stream",
     "text": [
      "PythoN ExerciseS PracticE SolutioN\n",
      "W3ResourcE\n"
     ]
    }
   ],
   "source": [
    "def capitalize_first_last_letters(str1):\n",
    "     str1 = result = str1.title()\n",
    "     result =  \"\"\n",
    "     for word in str1.split():\n",
    "        result += word[:-1] + word[-1].upper() + \" \"\n",
    "     return result[:-1]  \n",
    "     \n",
    "print(capitalize_first_last_letters(\"python exercises practice solution\"))\n",
    "print(capitalize_first_last_letters(\"w3resource\"))"
   ]
  },
  {
   "cell_type": "code",
   "execution_count": 62,
   "id": "87e3df94",
   "metadata": {},
   "outputs": [
    {
     "name": "stdout",
     "output_type": "stream",
     "text": [
      "pogam\n"
     ]
    }
   ],
   "source": [
    "#61-remove duplicate characters of a given string\n",
    "s='program'\n",
    "res=\"\"\n",
    "for i in s:\n",
    "    if s.count(i)==1:\n",
    "        res+=i\n",
    "print(res)"
   ]
  },
  {
   "cell_type": "code",
   "execution_count": 66,
   "id": "4e5f222f",
   "metadata": {},
   "outputs": [
    {
     "name": "stdout",
     "output_type": "stream",
     "text": [
      "progam\n"
     ]
    }
   ],
   "source": [
    "from collections import OrderedDict\n",
    "def remove_dupe(str1):\n",
    "    return \"\".join(OrderedDict.fromkeys(str1))\n",
    "print(remove_dupe(\"program\"))"
   ]
  },
  {
   "cell_type": "code",
   "execution_count": 2,
   "id": "b6eec48a",
   "metadata": {},
   "outputs": [
    {
     "name": "stdout",
     "output_type": "stream",
     "text": [
      "18\n"
     ]
    }
   ],
   "source": [
    "#62-compute sum of digits of a given string\n",
    "sums=0\n",
    "s=\"w32reso4rce9\"\n",
    "for i in s:\n",
    "    if i.isdigit():\n",
    "        sums+=int(i)\n",
    "print(sums)"
   ]
  },
  {
   "cell_type": "code",
   "execution_count": 3,
   "id": "c6bf93fb",
   "metadata": {},
   "outputs": [
    {
     "name": "stdout",
     "output_type": "stream",
     "text": [
      "255.24.1.1\n",
      "127.0.0.1\n"
     ]
    }
   ],
   "source": [
    "#63-remove leading zeros from an IP address\n",
    "def remove_zeros_from_ip(ip_add):\n",
    "  new_ip_add = \".\".join([str(int(i)) for i in ip_add.split(\".\")])  \n",
    "  return new_ip_add ;\n",
    "\n",
    "print(remove_zeros_from_ip(\"255.024.01.01\"))\n",
    "print(remove_zeros_from_ip(\"127.0.0.01 \"))"
   ]
  },
  {
   "cell_type": "code",
   "execution_count": 9,
   "id": "ed28191d",
   "metadata": {},
   "outputs": [
    {
     "name": "stdout",
     "output_type": "stream",
     "text": [
      "Original string:111000010000110\n",
      "Maximum length of consecutive 0’s:\n",
      "4\n"
     ]
    }
   ],
   "source": [
    "#64-find maximum length of consecutive 0's in a given binary string\n",
    "def max_cons_0(input_str):\n",
    "    #print(map(len,input_str.split('1')))\n",
    "    return max(map(len,input_str.split('1')))\n",
    "str1 = '111000010000110'\n",
    "print(\"Original string:\" + str1)\n",
    "print(\"Maximum length of consecutive 0’s:\")\n",
    "print(max_cons_0(str1))"
   ]
  },
  {
   "cell_type": "code",
   "execution_count": 13,
   "id": "ea06407a",
   "metadata": {},
   "outputs": [
    {
     "data": {
      "text/plain": [
       "4"
      ]
     },
     "execution_count": 13,
     "metadata": {},
     "output_type": "execute_result"
    }
   ],
   "source": [
    "#using regex\n",
    "binstr='111000010000110'\n",
    "import re\n",
    "zeros=re.compile(r'0+')\n",
    "#print(zeros)\n",
    "max(len(m)for m in zeros.findall(binstr))"
   ]
  },
  {
   "cell_type": "code",
   "execution_count": 16,
   "id": "b6053d66",
   "metadata": {},
   "outputs": [
    {
     "name": "stdout",
     "output_type": "stream",
     "text": [
      "4\n"
     ]
    }
   ],
   "source": [
    "def longRunZeros(s):\n",
    "    big = 0\n",
    "    curr = 0\n",
    "    for c in s:\n",
    "        if c == '0':\n",
    "            curr += 1\n",
    "        else:\n",
    "            if curr > big:\n",
    "                big = curr\n",
    "            curr = 0\n",
    "    if curr > big:\n",
    "        big = curr\n",
    "    return big\n",
    "\n",
    "print (longRunZeros('0010011010000'))"
   ]
  },
  {
   "cell_type": "code",
   "execution_count": 18,
   "id": "fecc57e6",
   "metadata": {},
   "outputs": [
    {
     "name": "stdout",
     "output_type": "stream",
     "text": [
      "['c', 'r']\n"
     ]
    }
   ],
   "source": [
    "#65-find all the common characters in lexicographical order from two given lower case strings. \n",
    "#If there are no common letters print \"No common characters\".\n",
    "s1='characters'\n",
    "s2='rcommon'\n",
    "char_set=set()\n",
    "\n",
    "for i in s1:\n",
    "    if i in s2:\n",
    "        char_set.add(i)\n",
    "print(sorted(char_set))"
   ]
  },
  {
   "cell_type": "code",
   "execution_count": 27,
   "id": "7be79649",
   "metadata": {},
   "outputs": [
    {
     "name": "stdout",
     "output_type": "stream",
     "text": [
      "Two strings: Python : PHP\n",
      "P\n"
     ]
    }
   ],
   "source": [
    "#using counter\n",
    "from collections import Counter \n",
    "def common_chars(str1,str2): \t\n",
    "\td1 = Counter(str1) \n",
    "\td2 = Counter(str2) \n",
    "    \n",
    "\tcommon_dict = d1 & d2 \n",
    "\tif len(common_dict) == 0: \n",
    "\t\treturn \"No common characters.\"\n",
    "\n",
    "\t# list of common elements \n",
    "\tcommon_chars = list(common_dict.elements()) \n",
    "\tcommon_chars = sorted(common_chars) \n",
    "\n",
    "\treturn ''.join(common_chars) \n",
    "\n",
    "str1 = 'Python'\n",
    "str2 = 'PHP'\n",
    "print(\"Two strings: \"+str1+' : '+str2)\n",
    "print(common_chars(str1, str2))"
   ]
  },
  {
   "cell_type": "code",
   "execution_count": 29,
   "id": "9dd4d2fb",
   "metadata": {},
   "outputs": [
    {
     "name": "stdout",
     "output_type": "stream",
     "text": [
      "Input string1: were the champion\n",
      "Input string2: are the champion\n",
      "3\n"
     ]
    }
   ],
   "source": [
    "#66-make two given strings (lower case, may or may not be of the same length)\n",
    "#anagrams removing any characters from any of the strings\n",
    "def make_map(s):\n",
    "    temp_map = {}\n",
    "    for char in s:\n",
    "        if char not in temp_map:\n",
    "            temp_map[char] = 1\n",
    "        else:\n",
    "            temp_map[char] +=1 \n",
    "    return temp_map        \n",
    "def make_anagram(str1, str2):\n",
    "    str1_map1 = make_map(str1)\n",
    "    str2_map2 = make_map(str2)\n",
    " \n",
    "    ctr = 0\n",
    "    for key in str2_map2.keys():\n",
    "        if key not in str1_map1:\n",
    "            ctr += str2_map2[key]\n",
    "        else:\n",
    "            ctr += max(0, str2_map2[key]-str1_map1[key])\n",
    " \n",
    "    for key in str1_map1.keys():\n",
    "        if key not in str2_map2:\n",
    "            ctr += str1_map1[key]\n",
    "        else:\n",
    "            ctr += max(0, str1_map1[key]-str2_map2[key]) \n",
    "    return ctr \n",
    "str1 = input(\"Input string1: \")\n",
    "str2 = input(\"Input string2: \")\n",
    "print(make_anagram(str1, str2))"
   ]
  },
  {
   "cell_type": "code",
   "execution_count": 31,
   "id": "a8cec150",
   "metadata": {},
   "outputs": [
    {
     "name": "stdout",
     "output_type": "stream",
     "text": [
      "abwasder\n"
     ]
    }
   ],
   "source": [
    "#67-program to remove all consecutive duplicates of a given string\n",
    "from itertools import groupby\n",
    "s='abbwassderrr'\n",
    "res=[]\n",
    "for key,group in groupby(s):\n",
    "    res.append(key)\n",
    "print(''.join(res))"
   ]
  },
  {
   "cell_type": "code",
   "execution_count": 34,
   "id": "c4476ab5",
   "metadata": {},
   "outputs": [
    {
     "name": "stdout",
     "output_type": "stream",
     "text": [
      "absr\n",
      "wde\n"
     ]
    }
   ],
   "source": [
    "#68-create two strings from a given string. \n",
    "#Create the first string using those character which occurs only once and \n",
    "#create the second string which consists of multi-time occurring characters in the said string. \n",
    "from itertools import groupby\n",
    "s='abbwassderrr'\n",
    "mul_s=\"\"\n",
    "one_s=\"\"\n",
    "d={}\n",
    "\n",
    "for i in (s):\n",
    "    d[i]=s.count(i)\n",
    "    \n",
    "for key,val in d.items():\n",
    "    if val>1:\n",
    "        mul_s+=key\n",
    "    else:\n",
    "        one_s+=key\n",
    "print(mul_s)\n",
    "print(one_s)"
   ]
  },
  {
   "cell_type": "code",
   "execution_count": 35,
   "id": "ab5e9aed",
   "metadata": {},
   "outputs": [
    {
     "name": "stdout",
     "output_type": "stream",
     "text": [
      "egh\n",
      "abcf\n"
     ]
    }
   ],
   "source": [
    "from collections import Counter  \n",
    "def generateStrings(input): \n",
    "     str_char_ctr = Counter(input) \n",
    "     part1 = [ key for (key,count) in str_char_ctr.items() if count==1] \n",
    "     part2 = [ key for (key,count) in str_char_ctr.items() if count>1] \n",
    "     part1.sort() \n",
    "     part2.sort()\n",
    "     return part1,part2\n",
    "input = \"aabbcceffgh\"\n",
    "s1, s2 = generateStrings(input)\n",
    "print(''.join(s1))   \n",
    "print(''.join(s2))"
   ]
  },
  {
   "cell_type": "code",
   "execution_count": 45,
   "id": "c344030b",
   "metadata": {},
   "outputs": [
    {
     "name": "stdout",
     "output_type": "stream",
     "text": [
      "Site:Geeks\n"
     ]
    }
   ],
   "source": [
    "#69-find the longest common sub-string from two given strings\n",
    "def printLCSSubStr(x,y,m,n):  # X[0..m-1] and Y[0..n-1]\n",
    "    # Create a table to store lengths of longest common suffixes of substrings.\n",
    "    # Note that LCSuff[i][j] contains length of longest common suffix of X[0..i-1] and\n",
    "    # Y[0..j-1]. The first row and first column entries have no logical meaning,\n",
    "    # they are used only for simplicity of program\n",
    "    LCSuff=[[0 for i in range(n+1)]\n",
    "               for j in range(m+1)]\n",
    "    #print(LCSuff)\n",
    "    # To store length of the longest common substring\n",
    "    length=0\n",
    "    \n",
    "    # To store the index of the cell which contains the maximum value.\n",
    "    # This cell's index helps in building up the longest common substring\n",
    "    # from right to left.\n",
    "    row, col = 0, 0\n",
    "    \n",
    "    # Following steps build LCSuff[m+1][n+1] in bottom up fashion.\n",
    "    for i in range(m+1):\n",
    "        for j in range(n+1):\n",
    "            if i==0 or j==0:\n",
    "                LCSuff[i][j]=0\n",
    "            elif x[i-1]==y[j-1]:\n",
    "                LCSuff[i][j]=LCSuff[i-1][j-1]+1\n",
    "                if length<LCSuff[i][j]:\n",
    "                    length=LCSuff[i][j]\n",
    "                    row=i\n",
    "                    col=j\n",
    "            else:\n",
    "                LCSuff[i][j]=0\n",
    "            #print(LCSuff)\n",
    "    # if true, then no common substring exists\n",
    "    if length == 0:\n",
    "        print(\"No Common Substring\")\n",
    "        return \n",
    "    \n",
    "    # allocate space for the longest common substring\n",
    "    resultStr=['0']*length\n",
    "    \n",
    "    # traverse up diagonally form the\n",
    "    # (row, col) cell until LCSuff[row][col] != 0\n",
    "    while LCSuff[row][col] != 0:\n",
    "        length -= 1\n",
    "        resultStr[length] = X[row - 1] # or Y[col-1]\n",
    " \n",
    "        # move diagonally up to previous cell\n",
    "        row -= 1\n",
    "        col -= 1\n",
    " \n",
    "    # required longest common substring\n",
    "    print(''.join(resultStr))\n",
    " \n",
    "# Driver Code\n",
    "if __name__ == \"__main__\":\n",
    "    X = \"OldSite:GeeksforGeeks.org\"\n",
    "    Y = \"NewSite:GeeksQuiz.com\"\n",
    "    m = len(X)\n",
    "    n = len(Y)\n",
    " \n",
    "    printLCSSubStr(X, Y, m, n)    "
   ]
  },
  {
   "cell_type": "code",
   "execution_count": null,
   "id": "4b7f3a76",
   "metadata": {},
   "outputs": [],
   "source": [
    "#space optimaized approach\n",
    "def LCSubStr(x,y):\n",
    "    # Find length of both the strings\n",
    "    m=len(x)\n",
    "    n=len(y)\n",
    "    \n",
    "    # Variable to store length of longest common substring\n",
    "    result=0\n",
    "    \n",
    "    # Variable to store ending point of longest common substring in X.\n",
    "    end=0\n",
    "    \n",
    "    # Matrix to store result of two consecutive rows at a time\n",
    "    length=[[0 for j in range(m)]\n",
    "               for i in range(2)]\n",
    "    \n",
    "    # Variable to represent which row of matrix is current row.\n",
    "    currRow=0\n",
    "    \n",
    "    # For a particular value of i and j,length[currRow][j] stores length\n",
    "    # of longest common substring in string X[0..i] and Y[0..j].\n",
    "    for i in range(0,m+1):\n",
    "        for j in range(0,n+1):\n",
    "            if i==0 and j==0:\n",
    "                length[currRow][j]=0\n",
    "            elif(x[i-1]==y[j-1]):\n",
    "                length[currRow][j]==length[1-currRow][j-1]+1\n",
    "                \n",
    "                if \n",
    "    \n",
    "    "
   ]
  },
  {
   "cell_type": "code",
   "execution_count": 51,
   "id": "dd779b7a",
   "metadata": {},
   "outputs": [
    {
     "name": "stdout",
     "output_type": "stream",
     "text": [
      "Geeks\n"
     ]
    }
   ],
   "source": [
    "#using sequencemathcer\n",
    "from difflib import SequenceMatcher\n",
    "\n",
    "def lngestSubString(str1,str2):\n",
    "    seqMatch=SequenceMatcher(None, str1,str2)\n",
    "    \n",
    "    match=seqMatch.find_longest_match(0,len(str1),0,len(str2))\n",
    "    \n",
    "    if (match.size!=0):\n",
    "        print(str1[match.b:match.b+match.size])\n",
    "    else:\n",
    "        print(\"No longest common string has found\")\n",
    "    \n",
    "str1 = 'GeeksforGeeks'\n",
    "str2 = 'GeeksQuiz'\n",
    "lngestSubString(str1,str2)"
   ]
  },
  {
   "cell_type": "code",
   "execution_count": 54,
   "id": "5b8f3d1e",
   "metadata": {},
   "outputs": [
    {
     "name": "stdout",
     "output_type": "stream",
     "text": [
      "cctetigMdy\n"
     ]
    }
   ],
   "source": [
    "#70-create a string from two given strings concatenating uncommon characters of the said strings\n",
    "s1='concatenating'\n",
    "s2='Monday'\n",
    "res=''\n",
    "for i in s1:\n",
    "    if i not in s2:\n",
    "        res+=i\n",
    "for i in s2:\n",
    "    if i not in s1:\n",
    "        res+=i\n",
    "        \n",
    "print(res)"
   ]
  },
  {
   "cell_type": "code",
   "execution_count": 53,
   "id": "134b4212",
   "metadata": {},
   "outputs": [
    {
     "name": "stdout",
     "output_type": "stream",
     "text": [
      "Original Substrings:\n",
      " concatenating\n",
      " Monday\n",
      "\n",
      "After concatenating uncommon characters:\n",
      "cctetigMdy\n"
     ]
    }
   ],
   "source": [
    "def uncommon_chars_concat(s1, s2):   \n",
    "     \n",
    "     set1 = set(s1) \n",
    "     set2 = set(s2) \n",
    "  \n",
    "     common_chars = list(set1 & set2) \n",
    "     result = [ch for ch in s1 if ch not in common_chars] + [ch for ch in s2 if ch not in common_chars] \n",
    "     return(''.join(result))\n",
    "\n",
    "s1 = 'concatenating'\n",
    "s2 = 'Monday'\n",
    "print(\"Original Substrings:\\n\",s1+\"\\n\",s2)\n",
    "print(\"\\nAfter concatenating uncommon characters:\")\n",
    "print(uncommon_chars_concat(s1, s2))"
   ]
  },
  {
   "cell_type": "code",
   "execution_count": 58,
   "id": "3262dc75",
   "metadata": {},
   "outputs": [
    {
     "name": "stdout",
     "output_type": "stream",
     "text": [
      "P\n"
     ]
    }
   ],
   "source": [
    "#72-remove all characters except a specified character in a given string\n",
    "txt='Python Exercises'\n",
    "s='P'\n",
    "\n",
    "for i in txt:\n",
    "    if i not in s:\n",
    "        txt=txt.replace(i,'')\n",
    "print(txt)"
   ]
  },
  {
   "cell_type": "code",
   "execution_count": 59,
   "id": "3d713ba7",
   "metadata": {},
   "outputs": [
    {
     "name": "stdout",
     "output_type": "stream",
     "text": [
      "Original string\n",
      "Python Exercises\n",
      "Remove all characters except P in the said string:\n",
      "P\n"
     ]
    }
   ],
   "source": [
    "def remove_characters(str1,c):\n",
    "    return ''.join([el for el in str1 if el == c])\n",
    "text = \"Python Exercises\"\n",
    "print(\"Original string\")\n",
    "print(text)\n",
    "except_char = \"P\"\n",
    "print(\"Remove all characters except\",except_char,\"in the said string:\")\n",
    "print(remove_characters(text,except_char))"
   ]
  },
  {
   "cell_type": "code",
   "execution_count": 7,
   "id": "cc7ccf38",
   "metadata": {},
   "outputs": [
    {
     "name": "stdout",
     "output_type": "stream",
     "text": [
      "['P', 'W', 'S', 'E', 'R', 'U', 'S', 'F'] ['o', 'k'] ['@', '%'] ['1', '1', '2']\n"
     ]
    }
   ],
   "source": [
    "#Date-9/10/22\n",
    "#73-count Uppercase, Lowercase, special character and numeric values in a given string\n",
    "s='P@WSoE1R%U12SFk'\n",
    "upper_res=[]\n",
    "lower_res=[]\n",
    "spec_res=[]\n",
    "num_res=[]\n",
    "for i in s:\n",
    "    if i.isupper():\n",
    "        upper_res.append(i)\n",
    "    elif i.islower():\n",
    "        lower_res.append(i)\n",
    "    elif i.isdigit():\n",
    "        num_res.append(i)\n",
    "    else:\n",
    "        spec_res.append(i)\n",
    "print(upper_res,lower_res,spec_res,num_res)"
   ]
  },
  {
   "cell_type": "code",
   "execution_count": 9,
   "id": "9050637f",
   "metadata": {},
   "outputs": [
    {
     "name": "stdout",
     "output_type": "stream",
     "text": [
      "Original Substrings: @W3Resource.Com\n",
      "\n",
      "Upper case characters:  3\n",
      "Lower case characters:  9\n",
      "Number case:  1\n",
      "Special case characters:  2\n"
     ]
    }
   ],
   "source": [
    "def count_chars(str):\n",
    "     upper_ctr, lower_ctr, number_ctr, special_ctr = 0, 0, 0, 0\n",
    "     for i in range(len(str)):\n",
    "          if str[i] >= 'A' and str[i] <= 'Z': upper_ctr += 1\n",
    "          elif str[i] >= 'a' and str[i] <= 'z': lower_ctr += 1\n",
    "          elif str[i] >= '0' and str[i] <= '9': number_ctr += 1\n",
    "          else: special_ctr += 1\n",
    "     return upper_ctr, lower_ctr, number_ctr, special_ctr\n",
    "           \n",
    "str = \"@W3Resource.Com\"\n",
    "print(\"Original Substrings:\",str)\n",
    "u, l, n, s = count_chars(str)\n",
    "print('\\nUpper case characters: ',u)\n",
    "print('Lower case characters: ',l)\n",
    "print('Number case: ',n)\n",
    "print('Special case characters: ',s)"
   ]
  },
  {
   "cell_type": "code",
   "execution_count": 17,
   "id": "41ad411a",
   "metadata": {},
   "outputs": [
    {
     "name": "stdout",
     "output_type": "stream",
     "text": [
      "SOERIU\n"
     ]
    }
   ],
   "source": [
    "#74-find the minimum window in a given string which will contain all the characters of another given string\n",
    "s1='PRWSOERIUSFK'\n",
    "s2='OSU'\n",
    "#end_idx=[]\n",
    "minm=len(s1)\n",
    "maxm=0\n",
    "\n",
    "for i in range(len(s1)):\n",
    "    for j in range(len(s2)):\n",
    "        if s2[j] in s1[i]:\n",
    "            if i<minm:\n",
    "                minm=i\n",
    "            elif i>maxm:\n",
    "                maxm=i\n",
    "            else:\n",
    "                continue           \n",
    "#end_idx.append([minm,maxm])   \n",
    "#print(end_idx)\n",
    "print(s1[minm:maxm])"
   ]
  },
  {
   "cell_type": "code",
   "execution_count": 18,
   "id": "cd0f8e13",
   "metadata": {},
   "outputs": [
    {
     "name": "stdout",
     "output_type": "stream",
     "text": [
      "Original Strings:\n",
      " PRWSOERIUSFK \n",
      " OSU\n",
      "Minimum window:\n",
      "OERIUS\n"
     ]
    }
   ],
   "source": [
    "import collections \n",
    "def min_window(str1,str2):\n",
    "    result_char,missing_char=collections.Counter(str2), len(str2)\n",
    "    i=p=q=0\n",
    "    for j,c in enumerate(str1,1):\n",
    "        missing_char-=result_char[c]>0\n",
    "        result_char[c]-=1\n",
    "        if not missing_char:\n",
    "            while i<q and result_char[str1[i]]<0:\n",
    "                result_char[str1[i]]+=1\n",
    "                i+=1\n",
    "            if not q or j-i<q-p:\n",
    "                p,q=i,j\n",
    "    return str1[p:q]\n",
    "\n",
    "str1 = \"PRWSOERIUSFK\"\n",
    "str2 = \"OSU\"\n",
    "print(\"Original Strings:\\n\",str1,\"\\n\",str2)\n",
    "print(\"Minimum window:\")\n",
    "print(min_window(str1,str2))"
   ]
  },
  {
   "cell_type": "code",
   "execution_count": 31,
   "id": "ad5b42d5",
   "metadata": {},
   "outputs": [
    {
     "name": "stdout",
     "output_type": "stream",
     "text": [
      "-->Smallest window that contain all character : BANC\n"
     ]
    }
   ],
   "source": [
    "#75-find smallest window that contains all characters of a given string\n",
    "def smallestWindow(s, p):\n",
    "    n = len(s)\n",
    "    if n < len(p):\n",
    "        return -1\n",
    "    mp = [0]*256\n",
    "     \n",
    "    # Starting index of ans\n",
    "    start = 0\n",
    "     \n",
    "    # Answer\n",
    "    # Length of ans\n",
    "    ans = n + 1\n",
    "    cnt = 0\n",
    "     \n",
    "    # creating map\n",
    "    for i in p:\n",
    "        mp[ord(i)] += 1\n",
    "        if mp[ord(i)] == 1:\n",
    "            cnt += 1\n",
    "             \n",
    "     # References of Window       \n",
    "    j = 0\n",
    "    i = 0\n",
    "    #print(mp)\n",
    "    # Traversing the window\n",
    "    while(j < n):\n",
    "       \n",
    "      # Calculating\n",
    "        mp[ord(s[j])] -= 1\n",
    "        if mp[ord(s[j])] == 0:\n",
    "            cnt -= 1\n",
    "             \n",
    "            # Condition matching\n",
    "            while cnt == 0:\n",
    "                if ans > j - i + 1:\n",
    "                   \n",
    "                  # calculating answer.\n",
    "                    ans = j - i + 1\n",
    "                    start = i\n",
    "                     \n",
    "                 # Sliding I\n",
    "                # Calculation for removing I\n",
    "                mp[ord(s[i])] += 1\n",
    "                #print(mp[ord(s[i])],[(s[i])],ans)\n",
    "                if mp[ord(s[i])] > 0:\n",
    "                    cnt += 1\n",
    "                i += 1\n",
    "        j += 1\n",
    "        #print(s)\n",
    "    if ans > n:\n",
    "        return \"-1\"\n",
    "    return s[start:start+ans]\n",
    " \n",
    "# Driver code\n",
    "if __name__ == \"__main__\":\n",
    "    s = \"ADOBECODEBANC\"\n",
    "    p = \"ABC\"\n",
    "    result = smallestWindow(s, p)\n",
    "    print(\"-->Smallest window that contain all character :\", result)"
   ]
  },
  {
   "cell_type": "code",
   "execution_count": 38,
   "id": "3d8189de",
   "metadata": {},
   "outputs": [
    {
     "name": "stdout",
     "output_type": "stream",
     "text": [
      "Original Strings:\n",
      " asdaewsqgtwwsa\n",
      "\n",
      "Smallest window that contains all characters of the said string:\n",
      "daewsqgt\n"
     ]
    }
   ],
   "source": [
    "from collections import defaultdict\n",
    "def find_sub_str(str):\n",
    "    str_len=len(str)\n",
    "    \n",
    "    #count all distinct characters\n",
    "    dist_cnt_char=len(set([x for x in str]))\n",
    "    \n",
    "    ctr,start_pos,start_pos_idx,min_len=0,0,-1,9999999\n",
    "    curr_cnt=defaultdict(lambda:0)\n",
    "    #print(curr_cnt)\n",
    "    for i in range(str_len):\n",
    "        curr_cnt[str[i]]+=1\n",
    "        \n",
    "        if curr_cnt[str[i]]==1:\n",
    "            ctr+=1\n",
    "            \n",
    "        if ctr==dist_cnt_char:\n",
    "            #print(curr_cnt)\n",
    "            \n",
    "            while curr_cnt[str[start_pos]]>1:\n",
    "                if curr_cnt[str[start_pos]]>1:\n",
    "                    curr_cnt[str[start_pos]]-=1\n",
    "                start_pos+=1\n",
    "                \n",
    "            len_window=i-start_pos+1\n",
    "            if min_len>len_window:\n",
    "                min_len=len_window\n",
    "                start_pos_idx=start_pos\n",
    "    return str[start_pos_idx:start_pos_idx+min_len]\n",
    "\n",
    "str1 = \"asdaewsqgtwwsa\"\n",
    "print(\"Original Strings:\\n\",str1)\n",
    "print(\"\\nSmallest window that contains all characters of the said string:\")\n",
    "print(find_sub_str(str1)) "
   ]
  },
  {
   "cell_type": "code",
   "execution_count": 49,
   "id": "28ddd90c",
   "metadata": {},
   "outputs": [
    {
     "name": "stdout",
     "output_type": "stream",
     "text": [
      "Total substrings with exactly 3 distinct characters : 8\n"
     ]
    }
   ],
   "source": [
    "#76- program to count number of substrings from a given string of \n",
    "#lowercase alphabets with exactly k distinct (given) characters\n",
    "def countkDist(str1,k):\n",
    "    n=len(str1)\n",
    "    \n",
    "    res=0\n",
    "    \n",
    "    # To store count of characters from 'a' to 'z'\n",
    "    cnt=[0]*27\n",
    "    \n",
    "    # Consider all substrings beginning with str[i]\n",
    "    for i in range(0,n):\n",
    "        dist_cnt=0\n",
    "        \n",
    "        # Initializing array with 0\n",
    "        cnt=[0]*27\n",
    "        \n",
    "        # Consider all substrings between str[i..j]\n",
    "        for j in range(i,n):\n",
    "            # If this is a new character for this\n",
    "            # substring, increment dist_count.\n",
    "            #print(j, str1[j],ord(str1[j]),cnt[ord(str1[j])-97],dist_cnt)\n",
    "            if(cnt[ord(str1[j])-97]==0):\n",
    "                dist_cnt+=1\n",
    "            # Increment count of current character\n",
    "            cnt[ord(str1[j]) - 97] += 1\n",
    "            \n",
    "            # If distinct character count becomes k,\n",
    "            # then increment result.\n",
    "            if(dist_cnt == k):\n",
    "                res += 1\n",
    "            if(dist_cnt > k):\n",
    "                break\n",
    "                \n",
    "    return res\n",
    "# Driver Code\n",
    "if __name__ == \"__main__\":\n",
    "    str1 = \"abcbaa\"\n",
    "    k = 3\n",
    "    print(\"Total substrings with exactly\", k,\n",
    "           \"distinct characters : \", end = \"\")\n",
    "    print(countkDist(str1, k))"
   ]
  },
  {
   "cell_type": "code",
   "execution_count": 52,
   "id": "6f85fec4",
   "metadata": {},
   "outputs": [
    {
     "name": "stdout",
     "output_type": "stream",
     "text": [
      "Input a string: a\n",
      "Number of substrings:\n",
      "1\n"
     ]
    }
   ],
   "source": [
    "#77-count number of non-empty substrings of a given string.\n",
    "def number_of_substrings(str): \n",
    "\tstr_len = len(str); \n",
    "\treturn int(str_len * (str_len + 1) / 2); \n",
    "\n",
    "str1 = input(\"Input a string: \")\n",
    "print(\"Number of substrings:\") \n",
    "print(number_of_substrings(str1))"
   ]
  },
  {
   "cell_type": "code",
   "execution_count": 57,
   "id": "a4f1a445",
   "metadata": {},
   "outputs": [
    {
     "name": "stdout",
     "output_type": "stream",
     "text": [
      "Input a string: xbcefg\n",
      "Number of characters of the said string at same position as in English alphabet:\n",
      "2\n"
     ]
    }
   ],
   "source": [
    "#78-program to count characters at same position in a given string (lower and uppercase characters) as in English alphabet\n",
    "def count_char_position(str1):\n",
    "    count_chars=0\n",
    "    for i in range(len(str1)):\n",
    "        if ((i==ord(str1[i])-ord('A')) or\n",
    "           (i==ord(str1[i])-ord('a'))):\n",
    "            count_chars+=1\n",
    "    return count_chars\n",
    "str1 = input(\"Input a string: \")\n",
    "print(\"Number of characters of the said string at same position as in English alphabet:\")\n",
    "print(count_char_position(str1))"
   ]
  },
  {
   "cell_type": "code",
   "execution_count": 62,
   "id": "79a65cf2",
   "metadata": {},
   "outputs": [
    {
     "name": "stdout",
     "output_type": "stream",
     "text": [
      "Original Strings:\n",
      " Write a Java program to sort an array of given integers using Quick sort Algorithm.\n",
      "Smallest word: a\n",
      "Largest word: Algorithm.\n"
     ]
    }
   ],
   "source": [
    "#79-program to find smallest and largest word in a given string\n",
    "def smallest_largest_words(str1):\n",
    "    word = \"\";\n",
    "    all_words = [];\n",
    "    str1 = str1 + \" \";\n",
    "    for i in range(0, len(str1)):\n",
    "        if(str1[i] != ' '):\n",
    "            word = word + str1[i];  \n",
    "        else:\n",
    "            all_words.append(word);  \n",
    "            word = \"\";  \n",
    "          \n",
    "    small = large = all_words[0];  \n",
    "   \n",
    "#Find smallest and largest word in the str1  \n",
    "    for k in range(0, len(all_words)):\n",
    "        if(len(small) > len(all_words[k])):\n",
    "            small = all_words[k];\n",
    "        if(len(large) < len(all_words[k])):\n",
    "            large = all_words[k];\n",
    "    return small,large;\n",
    "\n",
    "str1 = \"Write a Java program to sort an array of given integers using Quick sort Algorithm.\";  \n",
    "print(\"Original Strings:\\n\",str1)\n",
    "small, large = smallest_largest_words(str1)  \n",
    "print(\"Smallest word: \" + small);  \n",
    "print(\"Largest word: \" + large); "
   ]
  },
  {
   "cell_type": "code",
   "execution_count": 64,
   "id": "ef491686",
   "metadata": {},
   "outputs": [
    {
     "name": "stdout",
     "output_type": "stream",
     "text": [
      "Input a string: aasdfa\n",
      "9\n"
     ]
    }
   ],
   "source": [
    "#80- count number of substrings with same first and last characters of a given string\n",
    "def no_of_substring_with_equalEnds(str1): \n",
    "\tresult = 0; \n",
    "\tn = len(str1); \n",
    "\tfor i in range(n): \n",
    "\t\tfor j in range(i, n): \n",
    "\t\t\tif (str1[i] == str1[j]): \n",
    "\t\t\t\tresult = result + 1\n",
    "\treturn result \n",
    "str1 = input(\"Input a string: \")\n",
    "print(no_of_substring_with_equalEnds(str1))"
   ]
  },
  {
   "cell_type": "code",
   "execution_count": 68,
   "id": "1cbfd278",
   "metadata": {},
   "outputs": [
    {
     "name": "stdout",
     "output_type": "stream",
     "text": [
      "7\n"
     ]
    }
   ],
   "source": [
    "#81-find the index of a given string at which a given substring starts. \n",
    "#If the substring is not found in the given string return 'Not found'\n",
    "s='Python Exercises'\n",
    "sub='Ex'\n",
    "\n",
    "if sub in s:\n",
    "    print(s.index(sub))\n",
    "else:\n",
    "    print('Not Found')"
   ]
  },
  {
   "cell_type": "code",
   "execution_count": 67,
   "id": "32211e31",
   "metadata": {},
   "outputs": [
    {
     "name": "stdout",
     "output_type": "stream",
     "text": [
      "7\n",
      "1\n",
      "Not found\n"
     ]
    }
   ],
   "source": [
    "def find_Index(str1, pos):\n",
    "    if len(pos) > len(str1):\n",
    "        return 'Not found'\n",
    "\n",
    "    for i in range(len(str1)):\n",
    "\n",
    "        for j in range(len(pos)):\n",
    "\n",
    "            if str1[i + j] == pos[j] and j == len(pos) - 1:\n",
    "                return i\n",
    "                \n",
    "            elif str1[i + j] != pos[j]:\n",
    "                break\n",
    "\n",
    "    return 'Not found'\n",
    "print(find_Index(\"Python Exercises\", \"Ex\"))\n",
    "print(find_Index(\"Python Exercises\", \"yt\"))\n",
    "print(find_Index(\"Python Exercises\", \"PY\"))"
   ]
  },
  {
   "cell_type": "code",
   "execution_count": 74,
   "id": "405c560f",
   "metadata": {},
   "outputs": [
    {
     "name": "stdout",
     "output_type": "stream",
     "text": [
      "The quick brown fox\n",
      "The quick brown fox\n",
      "9\n"
     ]
    }
   ],
   "source": [
    "#82-wrap a given string into a paragraph of given width\n",
    "txt='The quick brown fox'\n",
    "widt=10\n",
    "\n",
    "for i in range(0,len(txt),widt):\n",
    "    print(txt)\n",
    "    \n",
    "print(res_wid)"
   ]
  },
  {
   "cell_type": "code",
   "execution_count": 4,
   "id": "69fc41b3",
   "metadata": {},
   "outputs": [
    {
     "name": "stdout",
     "output_type": "stream",
     "text": [
      "25 0o31 0b11001 0x19\n"
     ]
    }
   ],
   "source": [
    "#Date-9/11/22\n",
    "#83- print four values decimal, octal, hexadecimal (capitalized), binary in a single line of a given integer\n",
    "intg=25\n",
    "\n",
    "dec=intg\n",
    "\n",
    "octl=oct(intg)\n",
    "\n",
    "bins=bin(intg)\n",
    "\n",
    "hexs=hex(intg)\n",
    "\n",
    "print(dec,octl,bins,hexs)\n"
   ]
  },
  {
   "cell_type": "code",
   "execution_count": 12,
   "id": "10ee51be",
   "metadata": {},
   "outputs": [
    {
     "name": "stdout",
     "output_type": "stream",
     "text": [
      "Input an integer: 12\n"
     ]
    },
    {
     "ename": "TypeError",
     "evalue": "'str' object is not callable",
     "output_type": "error",
     "traceback": [
      "\u001b[1;31m---------------------------------------------------------------------------\u001b[0m",
      "\u001b[1;31mTypeError\u001b[0m                                 Traceback (most recent call last)",
      "\u001b[1;32m~\\AppData\\Local\\Temp/ipykernel_13092/1232070497.py\u001b[0m in \u001b[0;36m<module>\u001b[1;34m\u001b[0m\n\u001b[0;32m      3\u001b[0m \u001b[0mh\u001b[0m \u001b[1;33m=\u001b[0m \u001b[0mstr\u001b[0m\u001b[1;33m(\u001b[0m\u001b[0mhex\u001b[0m\u001b[1;33m(\u001b[0m\u001b[0mi\u001b[0m\u001b[1;33m)\u001b[0m\u001b[1;33m)\u001b[0m\u001b[1;33m[\u001b[0m\u001b[1;36m2\u001b[0m\u001b[1;33m:\u001b[0m\u001b[1;33m]\u001b[0m\u001b[1;33m\u001b[0m\u001b[1;33m\u001b[0m\u001b[0m\n\u001b[0;32m      4\u001b[0m \u001b[0mh\u001b[0m \u001b[1;33m=\u001b[0m \u001b[0mh\u001b[0m\u001b[1;33m.\u001b[0m\u001b[0mupper\u001b[0m\u001b[1;33m(\u001b[0m\u001b[1;33m)\u001b[0m\u001b[1;33m\u001b[0m\u001b[1;33m\u001b[0m\u001b[0m\n\u001b[1;32m----> 5\u001b[1;33m \u001b[0mb\u001b[0m \u001b[1;33m=\u001b[0m \u001b[0mbin\u001b[0m\u001b[1;33m(\u001b[0m\u001b[0mi\u001b[0m\u001b[1;33m)\u001b[0m\u001b[1;33m\u001b[0m\u001b[1;33m\u001b[0m\u001b[0m\n\u001b[0m\u001b[0;32m      6\u001b[0m \u001b[0md\u001b[0m \u001b[1;33m=\u001b[0m \u001b[1;33m(\u001b[0m\u001b[0mi\u001b[0m\u001b[1;33m)\u001b[0m\u001b[1;33m\u001b[0m\u001b[1;33m\u001b[0m\u001b[0m\n\u001b[0;32m      7\u001b[0m \u001b[1;33m\u001b[0m\u001b[0m\n",
      "\u001b[1;31mTypeError\u001b[0m: 'str' object is not callable"
     ]
    }
   ],
   "source": [
    "i = int(input(\"Input an integer: \"))\n",
    "o = str(oct(i))[2:]\n",
    "h = str(hex(i))[2:]\n",
    "h = h.upper()\n",
    "b = bin(i)\n",
    "d = (i)\n",
    "\n",
    "print(\"Decimal Octal Hexadecimal (capitalized), Binary\")\n",
    "print(d,'  ',o,' ',h,'                   ',b)"
   ]
  },
  {
   "cell_type": "code",
   "execution_count": 14,
   "id": "d9ad0466",
   "metadata": {},
   "outputs": [
    {
     "name": "stdout",
     "output_type": "stream",
     "text": [
      "python exercises\n"
     ]
    }
   ],
   "source": [
    "#84- swap cases of a given string\n",
    "import string\n",
    "s='pYTHON eXERCISES'\n",
    "print(s.casefold())"
   ]
  },
  {
   "cell_type": "code",
   "execution_count": 15,
   "id": "1431b0db",
   "metadata": {},
   "outputs": [
    {
     "name": "stdout",
     "output_type": "stream",
     "text": [
      "pYTHON eXERCISES\n",
      "jAVA\n",
      "nUMpY\n"
     ]
    }
   ],
   "source": [
    "def swap_case_string(str1):\n",
    "   result_str = \"\"   \n",
    "   for item in str1:\n",
    "       if item.isupper():\n",
    "           result_str += item.lower()\n",
    "       else:\n",
    "           result_str += item.upper()           \n",
    "   return result_str\n",
    "print(swap_case_string(\"Python Exercises\"))\n",
    "print(swap_case_string(\"Java\"))\n",
    "print(swap_case_string(\"NumPy\"))"
   ]
  },
  {
   "cell_type": "code",
   "execution_count": 18,
   "id": "104ac049",
   "metadata": {},
   "outputs": [
    {
     "name": "stdout",
     "output_type": "stream",
     "text": [
      "The original string is: [124, 67, 45, 11]\n",
      "The string after conversion : 7c432d0b\n"
     ]
    }
   ],
   "source": [
    "#85-convert a given Bytearray to Hexadecimal string\n",
    "test_list = [124, 67, 45, 11]\n",
    "print(\"The original string is: \"+str(test_list))\n",
    "\n",
    "#using join+format\n",
    "res=''.join(format(x,'02x')for x in test_list)\n",
    "print(\"The string after conversion : \" +res)"
   ]
  },
  {
   "cell_type": "code",
   "execution_count": 21,
   "id": "ef21e856",
   "metadata": {},
   "outputs": [
    {
     "name": "stdout",
     "output_type": "stream",
     "text": [
      "The original string is: [124, 67, 45, 11]\n",
      "The string after conversion : b'7c432d0b'\n"
     ]
    }
   ],
   "source": [
    "#using binascci.hexlify\n",
    "import binascii\n",
    "test_list = [124, 67, 45, 11]\n",
    "print(\"The original string is: \"+str(test_list))\n",
    "\n",
    "res=binascii.hexlify(bytearray(test_list))\n",
    "print(\"The string after conversion : \" +str(res))"
   ]
  },
  {
   "cell_type": "code",
   "execution_count": 22,
   "id": "8b866a8a",
   "metadata": {},
   "outputs": [
    {
     "name": "stdout",
     "output_type": "stream",
     "text": [
      "Delete ll occurrences of  specified chrcter in  given string\n"
     ]
    }
   ],
   "source": [
    "#86-delete all occurrences of a specified character in a given string\n",
    "s='Delete all occurrences of a specified character in a given string'\n",
    "del_s='a'\n",
    "res=''\n",
    "\n",
    "for i in s:\n",
    "    if i==del_s:\n",
    "        continue\n",
    "    else:\n",
    "        res+=i\n",
    "print(res)"
   ]
  },
  {
   "cell_type": "code",
   "execution_count": 23,
   "id": "a643f6fe",
   "metadata": {},
   "outputs": [
    {
     "name": "stdout",
     "output_type": "stream",
     "text": [
      "Original string:\n",
      "Delete all occurrences of a specified character in a given string\n",
      "\n",
      "Modified string:\n",
      "Delete ll occurrences of  specified chrcter in  given string\n"
     ]
    }
   ],
   "source": [
    "def delete_all_occurrences(str1, ch):\n",
    "     result = str1.replace(ch, \"\")\n",
    "     return(result)\n",
    "\n",
    "str_text = \"Delete all occurrences of a specified character in a given string\"\n",
    "print(\"Original string:\")\n",
    "print(str_text)\n",
    "print(\"\\nModified string:\")\n",
    "ch='a'\n",
    "print(delete_all_occurrences(str_text, ch))"
   ]
  },
  {
   "cell_type": "code",
   "execution_count": 26,
   "id": "c6ca94bf",
   "metadata": {},
   "outputs": [
    {
     "name": "stdout",
     "output_type": "stream",
     "text": [
      "Python\n"
     ]
    }
   ],
   "source": [
    "#87-find the common values that appear in two given strings\n",
    "s1='Python3'\n",
    "s2='Python2.7'\n",
    "res=''\n",
    "for i in s1:\n",
    "    if i in s2:\n",
    "        res+=i\n",
    "print(res)"
   ]
  },
  {
   "cell_type": "code",
   "execution_count": 27,
   "id": "94384593",
   "metadata": {},
   "outputs": [
    {
     "name": "stdout",
     "output_type": "stream",
     "text": [
      "Original strings:\n",
      "Python3\n",
      "Python2.7\n",
      "\n",
      "Intersection of two said String:\n",
      "Python\n"
     ]
    }
   ],
   "source": [
    "def intersection_of_two_string(str1, str2):\n",
    "    result = \"\"\n",
    "    for ch in str1:\n",
    "        if ch in str2 and not ch in result:\n",
    "            result += ch\n",
    "    return result\n",
    "\n",
    "str1 = 'Python3'\n",
    "str2 = 'Python2.7'\n",
    "print(\"Original strings:\")\n",
    "print(str1)\n",
    "print(str2)\n",
    "print(\"\\nIntersection of two said String:\") \n",
    "print(intersection_of_two_string(str1, str2))"
   ]
  },
  {
   "cell_type": "code",
   "execution_count": 33,
   "id": "19facbf9",
   "metadata": {},
   "outputs": [
    {
     "name": "stdout",
     "output_type": "stream",
     "text": [
      "1 1 1 1\n",
      "String is valid\n"
     ]
    }
   ],
   "source": [
    "#88-check whether a given string contains a capital letter, a lower case letter, a number and a minimum length.\n",
    "cap_flag=0\n",
    "low_flag=0\n",
    "num_flag=0\n",
    "min_len=0\n",
    "\n",
    "s='W3resource'\n",
    "\n",
    "for i in s:\n",
    "    if i.isupper():\n",
    "        cap_flag=1\n",
    "       # print(cap_flag)\n",
    "    elif i.islower():\n",
    "        low_flag=1\n",
    "       # print(low_flag)\n",
    "    elif i.isdigit():\n",
    "        num_flag=1\n",
    "        #print(num_flag)\n",
    "if len(s)>3:\n",
    "    min_len=1\n",
    "    #print(min_len)\n",
    "        \n",
    "print(min_len,num_flag,low_flag,cap_flag)\n",
    "if cap_flag==1 and low_flag==1 and num_flag==1 and min_len==1:\n",
    "    print(\"String is valid\")\n",
    "else:\n",
    "    print(\"String is invalid\")"
   ]
  },
  {
   "cell_type": "code",
   "execution_count": 34,
   "id": "89535851",
   "metadata": {},
   "outputs": [
    {
     "name": "stdout",
     "output_type": "stream",
     "text": [
      "Input the string: w3reSource\n",
      "['Valid string.']\n"
     ]
    }
   ],
   "source": [
    "#using any\n",
    "def check_string(s):\n",
    "    messg = []\n",
    "    if not any(x.isupper() for x in s):\n",
    "        messg.append('String must have 1 upper case character.')\n",
    "    if not any(x.islower() for x in s):\n",
    "        messg.append('String must have 1 lower case character.')\n",
    "    if not any(x.isdigit() for x in s):\n",
    "        messg.append('String must have 1 number.')\n",
    "    if len(s) < 8:\n",
    "        messg.append('String length should be atleast 8.')    \n",
    "    if not messg:\n",
    "        messg.append('Valid string.')\n",
    "    return messg\n",
    "    \n",
    "s = input(\"Input the string: \")\n",
    "print(check_string(s))"
   ]
  },
  {
   "cell_type": "code",
   "execution_count": 39,
   "id": "532ce34c",
   "metadata": {},
   "outputs": [
    {
     "name": "stdout",
     "output_type": "stream",
     "text": [
      "PythonExercises\n"
     ]
    }
   ],
   "source": [
    "#89-remove unwanted characters from a given string\n",
    "s='Pyth*^on Exercis^es'\n",
    "res=''\n",
    "for i in s:\n",
    "    if i.isalpha() or i.isdigit():\n",
    "        res+=i\n",
    "    else:\n",
    "        continue\n",
    "print(res)"
   ]
  },
  {
   "cell_type": "code",
   "execution_count": 40,
   "id": "a51bf131",
   "metadata": {},
   "outputs": [
    {
     "name": "stdout",
     "output_type": "stream",
     "text": [
      "Original String : Pyth*^on Exercis^es\n",
      "After removing unwanted characters:\n",
      "Python Exercises\n",
      "\n",
      "Original String : A%^!B#*CD\n",
      "After removing unwanted characters:\n",
      "ABCD\n"
     ]
    }
   ],
   "source": [
    "def remove_chars(str1, unwanted_chars):\n",
    "    for i in unwanted_chars:\n",
    "        str1 = str1.replace(i, '')\n",
    "    return str1\n",
    "\n",
    "str1 = \"Pyth*^on Exercis^es\"\n",
    "str2 = \"A%^!B#*CD\"\n",
    "\n",
    "unwanted_chars = [\"#\", \"*\", \"!\", \"^\", \"%\"]\n",
    "print (\"Original String : \" + str1)\n",
    "print(\"After removing unwanted characters:\")\n",
    "print(remove_chars(str1, unwanted_chars))\n",
    "print (\"\\nOriginal String : \" + str2)\n",
    "print(\"After removing unwanted characters:\")\n",
    "print(remove_chars(str2, unwanted_chars))"
   ]
  },
  {
   "cell_type": "code",
   "execution_count": 44,
   "id": "b40247fc",
   "metadata": {},
   "outputs": [
    {
     "name": "stdout",
     "output_type": "stream",
     "text": [
      "Practice Exercises Solution Python\n"
     ]
    }
   ],
   "source": [
    "#90-remove duplicate words from a given string\n",
    "s='Python Exercises Practice Solution Exercises'\n",
    "print(' '.join(set(s.split())))"
   ]
  },
  {
   "cell_type": "code",
   "execution_count": 45,
   "id": "d6c0400e",
   "metadata": {},
   "outputs": [
    {
     "name": "stdout",
     "output_type": "stream",
     "text": [
      "Original String:\n",
      "Python Exercises Practice Solution Exercises\n",
      "\n",
      "After removing duplicate words from the said string:\n",
      "Python Exercises Practice Solution\n"
     ]
    }
   ],
   "source": [
    "def unique_list(text_str):\n",
    "    l = text_str.split()\n",
    "    temp = []\n",
    "    for x in l:\n",
    "        if x not in temp:\n",
    "            temp.append(x)\n",
    "    return ' '.join(temp)\n",
    "\n",
    "text_str = \"Python Exercises Practice Solution Exercises\"\n",
    "print(\"Original String:\")\n",
    "print(text_str)\n",
    "print(\"\\nAfter removing duplicate words from the said string:\")\n",
    "print(unique_list(text_str))"
   ]
  },
  {
   "cell_type": "code",
   "execution_count": 48,
   "id": "8ce24b56",
   "metadata": {},
   "outputs": [
    {
     "name": "stdout",
     "output_type": "stream",
     "text": [
      "['Red', 100, -50, 'green', 'w,3,r', 12.12, False]\n"
     ]
    }
   ],
   "source": [
    "#91-convert a given heterogeneous list of scalars into a string\n",
    "l=['Red', 100, -50, 'green', 'w,3,r', 12.12, False]\n",
    "print(str(l))"
   ]
  },
  {
   "cell_type": "code",
   "execution_count": 49,
   "id": "b0b7f170",
   "metadata": {},
   "outputs": [
    {
     "name": "stdout",
     "output_type": "stream",
     "text": [
      "Original list:\n",
      "['Red', 100, -50, 'green', 'w,3,r', 12.12, False]\n",
      "\n",
      "Convert the heterogeneous list of scalars into a string:\n",
      "Red,100,-50,green,w,3,r,12.12,False\n"
     ]
    }
   ],
   "source": [
    "def heterogeneous_list_to_str(lst):\n",
    "    result = ','.join(str(x) for x in lst)\n",
    "    return result\n",
    "h_data = [\"Red\", 100, -50, \"green\", \"w,3,r\", 12.12, False]\n",
    "print(\"Original list:\")\n",
    "print(h_data)\n",
    "print(\"\\nConvert the heterogeneous list of scalars into a string:\")\n",
    "print(heterogeneous_list_to_str(h_data))"
   ]
  },
  {
   "cell_type": "code",
   "execution_count": 51,
   "id": "3ac79685",
   "metadata": {},
   "outputs": [
    {
     "name": "stdout",
     "output_type": "stream",
     "text": [
      "0.9375\n"
     ]
    }
   ],
   "source": [
    "#92-find the string similarity between two given strings.\n",
    "import difflib\n",
    "def string_similiarity(str1,str2):\n",
    "    result=difflib.SequenceMatcher(a=str1,b=str2)\n",
    "    return result.ratio()\n",
    "\n",
    "s1='python Exercises'\n",
    "s2='Python Exercises'\n",
    "\n",
    "print(string_similiarity(s1,s2))"
   ]
  },
  {
   "cell_type": "code",
   "execution_count": 56,
   "id": "2df25245",
   "metadata": {},
   "outputs": [
    {
     "name": "stdout",
     "output_type": "stream",
     "text": [
      "12\n",
      "45\n"
     ]
    }
   ],
   "source": [
    "#93-extract numbers from a given string.\n",
    "s='red 12 black 45 green'\n",
    "for i in s.split():\n",
    "    if i.isdigit():\n",
    "        print(i)"
   ]
  },
  {
   "cell_type": "code",
   "execution_count": 57,
   "id": "67a74598",
   "metadata": {},
   "outputs": [
    {
     "name": "stdout",
     "output_type": "stream",
     "text": [
      "Original string: red 12 black 45 green\n",
      "Extract numbers from the said string:\n",
      "[12, 45]\n"
     ]
    }
   ],
   "source": [
    "def test(str1):\n",
    "    result = [int(str1) for str1 in str1.split() if str1.isdigit()]\n",
    "    return result\n",
    "str1 = \"red 12 black 45 green\" \n",
    "print(\"Original string:\", str1) \n",
    "print(\"Extract numbers from the said string:\")\n",
    "print(test(str1))"
   ]
  },
  {
   "cell_type": "code",
   "execution_count": 59,
   "id": "354d446f",
   "metadata": {},
   "outputs": [
    {
     "name": "stdout",
     "output_type": "stream",
     "text": [
      "(255, 165, 1)\n",
      "(255, 255, 255)\n",
      "(0, 0, 0)\n",
      "(255, 0, 0)\n",
      "(0, 0, 128)\n",
      "(192, 192, 192)\n"
     ]
    }
   ],
   "source": [
    "#94-convert a hexadecimal color code to a tuple of integers corresponding to its RGB components.\n",
    "def hex_to_rgb(hex):\n",
    "    return tuple(int(hex[i:i+2],16) for i in (0,2,4))\n",
    "print(hex_to_rgb('FFA501'))\n",
    "print(hex_to_rgb('FFFFFF'))\n",
    "print(hex_to_rgb('000000'))\n",
    "print(hex_to_rgb('FF0000'))\n",
    "print(hex_to_rgb('000080'))\n",
    "print(hex_to_rgb('C0C0C0'))"
   ]
  },
  {
   "cell_type": "code",
   "execution_count": 60,
   "id": "e9142a0a",
   "metadata": {},
   "outputs": [
    {
     "name": "stdout",
     "output_type": "stream",
     "text": [
      "FFA501\n",
      "FFFFFF\n",
      "000000\n",
      "000080\n",
      "C0C0C0\n"
     ]
    }
   ],
   "source": [
    "#95- convert the values of RGB components to a hexadecimal color code\n",
    "def rgb_to_hex(r, g, b):\n",
    "  return ('{:02X}' * 3).format(r, g, b)\n",
    " \n",
    "print(rgb_to_hex(255, 165, 1))\n",
    "print(rgb_to_hex(255, 255, 255))\n",
    "print(rgb_to_hex(0, 0, 0))\n",
    "print(rgb_to_hex(0, 0, 128))\n",
    "print(rgb_to_hex(192, 192, 192))"
   ]
  },
  {
   "cell_type": "code",
   "execution_count": 63,
   "id": "fc8146d6",
   "metadata": {},
   "outputs": [
    {
     "name": "stdout",
     "output_type": "stream",
     "text": [
      "javascript\n",
      "fooBar\n",
      "fooBar\n",
      "foo.Bar\n",
      "fooBar\n",
      "foobar\n",
      "fooBar\n"
     ]
    }
   ],
   "source": [
    "#96-convert a given string to camelcase\n",
    "from re import sub\n",
    "\n",
    "def camel_case(s):\n",
    "  s = sub(r\"(_|-)+\", \" \", s).title().replace(\" \", \"\")\n",
    "  return ''.join([s[0].lower(), s[1:]])\n",
    "print(camel_case('JavaScript'))\n",
    "print(camel_case('Foo-Bar'))\n",
    "print(camel_case('foo_bar'))\n",
    "print(camel_case('--foo.bar'))\n",
    "print(camel_case('Foo-BAR'))\n",
    "print(camel_case('fooBAR'))\n",
    "print(camel_case('foo bar'))"
   ]
  },
  {
   "cell_type": "code",
   "execution_count": 65,
   "id": "6cb7261b",
   "metadata": {},
   "outputs": [
    {
     "name": "stdout",
     "output_type": "stream",
     "text": [
      "javascript\n",
      "fooBar\n",
      "fooBar\n",
      "foo.Bar\n",
      "fooBar\n",
      "foobar\n",
      "fooBar\n"
     ]
    }
   ],
   "source": [
    "#97-convert a given string to snake case\n",
    "from re import sub\n",
    "\n",
    "def camel_case(s):\n",
    "  s = sub(r\"(_|-)+\", \" \", s).title().replace(\" \", \"\")\n",
    "  return ''.join([s[0].lower(), s[1:]])\n",
    "print(camel_case('JavaScript'))\n",
    "print(camel_case('Foo-Bar'))\n",
    "print(camel_case('foo_bar'))\n",
    "print(camel_case('--foo.bar'))\n",
    "print(camel_case('Foo-BAR'))\n",
    "print(camel_case('fooBAR'))\n",
    "print(camel_case('foo bar'))"
   ]
  },
  {
   "cell_type": "code",
   "execution_count": 66,
   "id": "2415b967",
   "metadata": {},
   "outputs": [
    {
     "name": "stdout",
     "output_type": "stream",
     "text": [
      "java Script\n"
     ]
    }
   ],
   "source": [
    "#98- decapitalize the first letter of a given string\n",
    "s='Java Script'\n",
    "res=s[0].lower()+s[1:]\n",
    "print(res)"
   ]
  },
  {
   "cell_type": "code",
   "execution_count": 67,
   "id": "cf95a9d1",
   "metadata": {},
   "outputs": [
    {
     "name": "stdout",
     "output_type": "stream",
     "text": [
      "java Script\n",
      "python\n"
     ]
    }
   ],
   "source": [
    "def decapitalize_first_letter(s, upper_rest = False):\n",
    "  return ''.join([s[:1].lower(), (s[1:].upper() if upper_rest else s[1:])]) \n",
    "print(decapitalize_first_letter('Java Script'))\n",
    "print(decapitalize_first_letter('Python'))"
   ]
  },
  {
   "cell_type": "code",
   "execution_count": 68,
   "id": "9e825d39",
   "metadata": {},
   "outputs": [
    {
     "name": "stdout",
     "output_type": "stream",
     "text": [
      "['This', 'is a', 'multiline', 'string.', ' ']\n"
     ]
    }
   ],
   "source": [
    "#99- split a given multiline string into a list of lines\n",
    "s='''This\n",
    "is a\n",
    "multiline\n",
    "string.\n",
    " '''\n",
    "res=[]\n",
    "\n",
    "for i in s.split('\\n'):\n",
    "    res.append(i)\n",
    "print(res)"
   ]
  },
  {
   "cell_type": "code",
   "execution_count": 69,
   "id": "8cf8674f",
   "metadata": {},
   "outputs": [
    {
     "name": "stdout",
     "output_type": "stream",
     "text": [
      "Original text:\n",
      "Filter out the factorials of the said list.\n",
      "Check whether any word in the said sting contains duplicate characrters or not!\n",
      "False\n"
     ]
    }
   ],
   "source": [
    "#100-check whether any word in a given sting contains duplicate characrters or not. Return True or False\n",
    "def duplicate_letters(text):\n",
    "\tword_list = text.split()\n",
    "\tfor word in word_list:\n",
    "\t\tif len(word) > len(set(word)):\n",
    "\t\t\treturn False\n",
    "\treturn True\n",
    "text = \"Filter out the factorials of the said list.\"\n",
    "print(\"Original text:\")\n",
    "print(text)\n",
    "print(\"Check whether any word in the said sting contains duplicate characrters or not!\")\n",
    "print(duplicate_letters(text))"
   ]
  },
  {
   "cell_type": "code",
   "execution_count": 1,
   "id": "99e3bb41",
   "metadata": {},
   "outputs": [
    {
     "name": "stdout",
     "output_type": "stream",
     "text": [
      "42\n",
      "Error in input!\n",
      "Error in input!\n"
     ]
    }
   ],
   "source": [
    "#101- add two strings as they are numbers (Positive integer values). Return a message if the numbers are string.\n",
    "def test(n1, n2):\n",
    "    n1, n2 = '0' + n1, '0' + n2\n",
    "    if (n1.isnumeric() and n2.isnumeric()):\n",
    "        return str(int(n1) + int(n2))\n",
    "    else:\n",
    "        return 'Error in input!'\n",
    "print(test(\"10\", \"32\"))\n",
    "print(test(\"10\", \"22.6\"))\n",
    "print(test(\"100\", \"-200\")) "
   ]
  },
  {
   "cell_type": "code",
   "execution_count": 3,
   "id": "0a3abf0a",
   "metadata": {},
   "outputs": [
    {
     "name": "stdout",
     "output_type": "stream",
     "text": [
      "Original text:\n",
      "String! With. Punctuation?\n",
      "After removing Punctuations from the said string:\n",
      "String With Punctuation\n"
     ]
    }
   ],
   "source": [
    "#102-remove punctuations from a given string\n",
    "import string\n",
    "def remove_punctuations(text):\n",
    "    for c in string.punctuation:\n",
    "        text = text.replace(c,\"\")\n",
    "    return text\n",
    "\n",
    "text = \"String! With. Punctuation?\"\n",
    "print(\"Original text:\")\n",
    "print(text)\n",
    "result = remove_punctuations(text)\n",
    "print(\"After removing Punctuations from the said string:\")\n",
    "print(result)"
   ]
  },
  {
   "cell_type": "code",
   "execution_count": 6,
   "id": "6ddc18f0",
   "metadata": {},
   "outputs": [
    {
     "name": "stdout",
     "output_type": "stream",
     "text": [
      "####### ##### ####### five or ##### with hash ########## in the said #######\n"
     ]
    }
   ],
   "source": [
    "#103-replace each character of a word of length five and more with hash character (#)\n",
    "s='Replace words (length five or more) with hash characters in the said string:'\n",
    "for i in s.split():\n",
    "    if len(i)>=5:\n",
    "        s=s.replace(i,\"#\" * len(i))\n",
    "print(s)"
   ]
  },
  {
   "cell_type": "code",
   "execution_count": 7,
   "id": "f3a8b3a9",
   "metadata": {},
   "outputs": [
    {
     "name": "stdout",
     "output_type": "stream",
     "text": [
      "Red Green White "
     ]
    }
   ],
   "source": [
    "#104-capitalizes the first letter and lowercases the remaining letters of a given string\n",
    "s=\"Red Green WHITE\"\n",
    "for i in s.split():\n",
    "    print(i.title(),end=\" \")"
   ]
  },
  {
   "cell_type": "code",
   "execution_count": 12,
   "id": "156c2a37",
   "metadata": {},
   "outputs": [
    {
     "name": "stdout",
     "output_type": "stream",
     "text": [
      "john\n",
      "johnsmith\n"
     ]
    }
   ],
   "source": [
    "#105-extract and display the name from a given email address\n",
    "s=\"john@example.com\"\n",
    "print(s.split('@')[0])\n",
    "\n",
    "email_address = \"john.smith@example.com\"\n",
    "r = email_address.index(\"@\")\n",
    "print(\"\".join(l for l in email_address[:r] if l.isalpha()))"
   ]
  },
  {
   "cell_type": "code",
   "execution_count": 5,
   "id": "6faebc94",
   "metadata": {},
   "outputs": [
    {
     "name": "stdout",
     "output_type": "stream",
     "text": [
      "geksforgeks\n"
     ]
    }
   ],
   "source": [
    "#106-remove repeated consecutive characters and replace with the single letters and print new updated string\n",
    "def cons_char_rep(str1):\n",
    "    if len(str1)<2:\n",
    "        return str1\n",
    "    elif str1[0]!=str1[1]:\n",
    "        return str1[0]+cons_char_rep(str1[1:])\n",
    "    return cons_char_rep(str1[1:])\n",
    "s1='geeksforgeeks'\n",
    "print(cons_char_rep(s1)) #geksforgeks"
   ]
  },
  {
   "cell_type": "code",
   "execution_count": 10,
   "id": "2d8c4346",
   "metadata": {},
   "outputs": [
    {
     "name": "stdout",
     "output_type": "stream",
     "text": [
      "Original strings: Red RedGreen\n",
      "Check said two strings contain three letters at the same index:\n",
      "1\n"
     ]
    }
   ],
   "source": [
    "#107- that takes two strings. Count the number of times each string contains the same three letters at the same index\n",
    "def test(text1, text2):\n",
    "           ctr = 0\n",
    "           for i in range(len(text1) - 1):\n",
    "                       if text1[i:i+3] == text2[i:i+3]:\n",
    "                                   ctr += 1\n",
    "           return ctr\n",
    "text1 =\"Red\"\n",
    "text2 =\"RedGreen\"\n",
    "print(\"Original strings:\", text1,text2)\n",
    "print(\"Check said two strings contain three letters at the same index:\")\n",
    "print(test(text1, text2))"
   ]
  },
  {
   "cell_type": "code",
   "execution_count": 11,
   "id": "ecb12ad0",
   "metadata": {},
   "outputs": [
    {
     "name": "stdout",
     "output_type": "stream",
     "text": [
      "-G--r-ee-n-\n"
     ]
    }
   ],
   "source": [
    "#108-program to that takes a string and returns # on both sides each element, which are not vowels\n",
    "vowel=['a','e','i','o','u']\n",
    "s='Green'\n",
    "for i in s:\n",
    "    if i not in vowel:\n",
    "        s=s.replace(i,'-'+i+'-')\n",
    "print(s)"
   ]
  },
  {
   "cell_type": "code",
   "execution_count": 13,
   "id": "aeac1bd4",
   "metadata": {},
   "outputs": [
    {
     "name": "stdout",
     "output_type": "stream",
     "text": [
      "Range of years: 1981-1991\n",
      "Count  the number of leap years within the said range:\n",
      "2\n"
     ]
    }
   ],
   "source": [
    "#109-program that counts the number of leap years within the range of years. The range of years should be accepted as a string\n",
    "def test(r_years):\n",
    "\tstart_year, end_year = map(int, r_years.split('-'))\n",
    "\treturn sum(is_leap_year(year) for year in range(start_year, end_year+1))\n",
    "def is_leap_year(y):\n",
    "    if y % 400 == 0:\n",
    "        return True\n",
    "    if y % 100 == 0:\n",
    "        return False\n",
    "    if y % 4 == 0:\n",
    "        return True\n",
    "    else:\n",
    "        return False\n",
    "\n",
    "text =\"1981-1991\"\n",
    "print(\"Range of years:\", text)\n",
    "print(\"Count  the number of leap years within the said range:\")\n",
    "print(test(text))"
   ]
  },
  {
   "cell_type": "code",
   "execution_count": 97,
   "id": "e910b486",
   "metadata": {},
   "outputs": [
    {
     "name": "stdout",
     "output_type": "stream",
     "text": [
      " Python Exercises\n"
     ]
    }
   ],
   "source": [
    "#110-insert space before every capital letter appears in a given word.\n",
    "s='PythonExercises'\n",
    "res=''\n",
    "for i in s:\n",
    "    if i.isupper():\n",
    "        i=i.replace(i,\" \"+i)\n",
    "    res+=i\n",
    "print(res)"
   ]
  },
  {
   "cell_type": "code",
   "execution_count": 95,
   "id": "9f8529c5",
   "metadata": {},
   "outputs": [
    {
     "name": "stdout",
     "output_type": "stream",
     "text": [
      "['16', '25', '20', '8', '15', '14']\n"
     ]
    }
   ],
   "source": [
    "#111-program that takes a string and replaces all the characters with their respective numbers\n",
    "s='Python'\n",
    "res=[]\n",
    "for i in s.lower():\n",
    "    res.append(str(ord(i)-96))\n",
    "print(res)"
   ]
  },
  {
   "cell_type": "code",
   "execution_count": 91,
   "id": "3a1b4282",
   "metadata": {},
   "outputs": [
    {
     "name": "stdout",
     "output_type": "stream",
     "text": [
      "236674684683\n"
     ]
    }
   ],
   "source": [
    "#112-calculate the sum of two numbers given as strings. Return the result in the same string representation.\n",
    "s1= \"234242342341\"\n",
    "s2=\"2432342342\"\n",
    "print(str(int(s1)+int(s2)))"
   ]
  },
  {
   "cell_type": "code",
   "execution_count": 90,
   "id": "4a433b7f",
   "metadata": {},
   "outputs": [
    {
     "name": "stdout",
     "output_type": "stream",
     "text": [
      "['Black', 'Green', 'Pink', 'Red', 'White']\n"
     ]
    }
   ],
   "source": [
    "#113- program that returns a string sorted alphabetically by the first character of a given string of words\n",
    "s=\"Red Green Black White Pink\"\n",
    "\n",
    "sorted_s=sorted(s.split(),key=lambda x:x[0])\n",
    "print(sorted_s)"
   ]
  },
  {
   "cell_type": "code",
   "execution_count": 12,
   "id": "e85a8264",
   "metadata": {},
   "outputs": [
    {
     "name": "stdout",
     "output_type": "stream",
     "text": [
      "Original string: Green\n",
      "Insert Hash elements on both side of each element, which are not vowels:\n",
      "-G--r-ee-n-\n"
     ]
    }
   ],
   "source": [
    "#108\n",
    "def test(text):\n",
    "    return \"\".join([el, '-' + el + '-'][el not in \"AEIOUaeiou\"] for el in text)\n",
    "text =\"Green\"\n",
    "print(\"Original string:\", text)\n",
    "print(\"Insert Hash elements on both side of each element, which are not vowels:\")\n",
    "print(test(text))"
   ]
  },
  {
   "cell_type": "code",
   "execution_count": null,
   "id": "a1e86c2b",
   "metadata": {},
   "outputs": [],
   "source": []
  }
 ],
 "metadata": {
  "kernelspec": {
   "display_name": "Python 3 (ipykernel)",
   "language": "python",
   "name": "python3"
  },
  "language_info": {
   "codemirror_mode": {
    "name": "ipython",
    "version": 3
   },
   "file_extension": ".py",
   "mimetype": "text/x-python",
   "name": "python",
   "nbconvert_exporter": "python",
   "pygments_lexer": "ipython3",
   "version": "3.9.7"
  }
 },
 "nbformat": 4,
 "nbformat_minor": 5
}
