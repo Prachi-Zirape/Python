{
 "cells": [
  {
   "cell_type": "code",
   "execution_count": 8,
   "id": "18cb218b",
   "metadata": {},
   "outputs": [
    {
     "ename": "SyntaxError",
     "evalue": "cannot assign to operator (Temp/ipykernel_4864/4218212042.py, line 10)",
     "output_type": "error",
     "traceback": [
      "\u001b[1;36m  File \u001b[1;32m\"C:\\Users\\przir\\AppData\\Local\\Temp/ipykernel_4864/4218212042.py\"\u001b[1;36m, line \u001b[1;32m10\u001b[0m\n\u001b[1;33m    for i+1 in range num:\u001b[0m\n\u001b[1;37m        ^\u001b[0m\n\u001b[1;31mSyntaxError\u001b[0m\u001b[1;31m:\u001b[0m cannot assign to operator\n"
     ]
    }
   ],
   "source": [
    "#1-Find out if sequence of numbers is different\n",
    "#convert to set and see if length is same\n",
    "#subtract a number>0 from all members and see if the result is same---Analyze this more\n",
    "\n",
    "def distNumCheck(num):\n",
    "    x=1\n",
    "    temp1=0\n",
    "    temp=num[0]-x\n",
    "    for i+1 in range num:\n",
    "        temp1= i-x\n",
    "        if temp1==temp:\n",
    "            return 0\n",
    "            break\n",
    "        else:\n",
    "            return 1\n",
    "        \n",
    "print(distNumCheck([3,4,5,2]))\n",
    "            \n",
    "        "
   ]
  },
  {
   "cell_type": "code",
   "execution_count": null,
   "id": "b7e87e4f",
   "metadata": {},
   "outputs": [],
   "source": [
    "#1-Use of Set\n",
    "def distict_test(data):\n",
    "    if len(data)==len(set(data)):\n",
    "        return True\n",
    "    else:\n",
    "        return False\n",
    "    "
   ]
  },
  {
   "cell_type": "code",
   "execution_count": 15,
   "id": "00736320",
   "metadata": {},
   "outputs": [
    {
     "name": "stdout",
     "output_type": "stream",
     "text": [
      "oiuea\n"
     ]
    }
   ],
   "source": [
    "#2 all possible strings by using 'a', 'e', 'i', 'o', 'u'. ---need more analysiss\n",
    "#--use of random keyword\n",
    "import random\n",
    "char_list=['a','e','i','o','u']\n",
    "random.shuffle(char_list)\n",
    "print(''.join(char_list))\n",
    "#print(char_list)"
   ]
  },
  {
   "cell_type": "code",
   "execution_count": 23,
   "id": "d4419d42",
   "metadata": {},
   "outputs": [
    {
     "name": "stdout",
     "output_type": "stream",
     "text": [
      "0\n",
      "[6, 7, 3, 2, 1, 0, 55, 43, 21]\n",
      "1\n",
      "2\n",
      "[6, 7, 2, 1, 0, 55, 43, 21]\n",
      "3\n",
      "4\n",
      "[6, 7, 2, 1, 55, 43, 21]\n",
      "5\n",
      "6\n",
      "[6, 7, 2, 1, 55, 43]\n",
      "7\n",
      "8\n"
     ]
    },
    {
     "ename": "IndexError",
     "evalue": "pop index out of range",
     "output_type": "error",
     "traceback": [
      "\u001b[1;31m---------------------------------------------------------------------------\u001b[0m",
      "\u001b[1;31mIndexError\u001b[0m                                Traceback (most recent call last)",
      "\u001b[1;32m~\\AppData\\Local\\Temp/ipykernel_4864/852643597.py\u001b[0m in \u001b[0;36m<module>\u001b[1;34m\u001b[0m\n\u001b[0;32m      9\u001b[0m             \u001b[0mprint\u001b[0m\u001b[1;33m(\u001b[0m\u001b[0mnum\u001b[0m\u001b[1;33m)\u001b[0m\u001b[1;33m\u001b[0m\u001b[1;33m\u001b[0m\u001b[0m\n\u001b[0;32m     10\u001b[0m \u001b[1;33m\u001b[0m\u001b[0m\n\u001b[1;32m---> 11\u001b[1;33m \u001b[0mprint\u001b[0m\u001b[1;33m(\u001b[0m\u001b[0mlist_print\u001b[0m\u001b[1;33m(\u001b[0m\u001b[1;33m)\u001b[0m\u001b[1;33m)\u001b[0m\u001b[1;33m\u001b[0m\u001b[1;33m\u001b[0m\u001b[0m\n\u001b[0m",
      "\u001b[1;32m~\\AppData\\Local\\Temp/ipykernel_4864/852643597.py\u001b[0m in \u001b[0;36mlist_print\u001b[1;34m()\u001b[0m\n\u001b[0;32m      5\u001b[0m         \u001b[0mprint\u001b[0m \u001b[1;33m(\u001b[0m\u001b[0mi\u001b[0m\u001b[1;33m)\u001b[0m\u001b[1;33m\u001b[0m\u001b[1;33m\u001b[0m\u001b[0m\n\u001b[0;32m      6\u001b[0m         \u001b[1;32mif\u001b[0m \u001b[0mi\u001b[0m\u001b[1;33m%\u001b[0m\u001b[1;36m2\u001b[0m\u001b[1;33m==\u001b[0m\u001b[1;36m0\u001b[0m\u001b[1;33m:\u001b[0m\u001b[1;33m\u001b[0m\u001b[1;33m\u001b[0m\u001b[0m\n\u001b[1;32m----> 7\u001b[1;33m             \u001b[0mnum\u001b[0m\u001b[1;33m.\u001b[0m\u001b[0mpop\u001b[0m\u001b[1;33m(\u001b[0m\u001b[0mi\u001b[0m\u001b[1;33m)\u001b[0m\u001b[1;33m\u001b[0m\u001b[1;33m\u001b[0m\u001b[0m\n\u001b[0m\u001b[0;32m      8\u001b[0m             \u001b[0mi\u001b[0m\u001b[1;33m=\u001b[0m\u001b[0mi\u001b[0m\u001b[1;33m-\u001b[0m\u001b[1;36m1\u001b[0m\u001b[1;33m\u001b[0m\u001b[1;33m\u001b[0m\u001b[0m\n\u001b[0;32m      9\u001b[0m             \u001b[0mprint\u001b[0m\u001b[1;33m(\u001b[0m\u001b[0mnum\u001b[0m\u001b[1;33m)\u001b[0m\u001b[1;33m\u001b[0m\u001b[1;33m\u001b[0m\u001b[0m\n",
      "\u001b[1;31mIndexError\u001b[0m: pop index out of range"
     ]
    }
   ],
   "source": [
    "#3 remove and print every third number from a list of numbers until the list becomes empty\n",
    "#We cannot use for loop as we have to re-point the index to 0 every time\n",
    "def list_print():\n",
    "    num=[5,6,7,3,2,1,0,55,43,21]\n",
    "    for i in range(len(num)):\n",
    "        print (i)\n",
    "        if i%2==0:\n",
    "            num.pop(i)\n",
    "            i=i-1\n",
    "            print(num)\n",
    "\n",
    "print(list_print())\n"
   ]
  },
  {
   "cell_type": "code",
   "execution_count": 29,
   "id": "5ec0f962",
   "metadata": {},
   "outputs": [
    {
     "name": "stdout",
     "output_type": "stream",
     "text": [
      "[5, 6, 3, 2, 1, 0, 55, 43, 21] 9\n",
      "[5, 6, 3, 2, 0, 55, 43, 21] 8\n",
      "[5, 6, 3, 2, 0, 55, 21] 7\n",
      "[5, 3, 2, 0, 55, 21] 6\n",
      "[5, 3, 2, 55, 21] 5\n",
      "[3, 2, 55, 21] 4\n",
      "[3, 2, 21] 3\n",
      "[3, 21] 2\n",
      "[3] 1\n",
      "[] 0\n",
      "None\n"
     ]
    }
   ],
   "source": [
    "##3 remove and print every third number from a list of numbers until the list becomes empty\n",
    "#while loop\n",
    "def remove_list():\n",
    "    num=[5,6,7,3,2,1,0,55,43,21]\n",
    "    idx=0\n",
    "    position=2\n",
    "    list_len=len(num)\n",
    "    \n",
    "    while(list_len>0):\n",
    "        idx=(idx+position)%list_len\n",
    "        num.pop(idx)\n",
    "        list_len=list_len-1\n",
    "        print(num,list_len)\n",
    "\n",
    "print(remove_list())"
   ]
  },
  {
   "cell_type": "code",
   "execution_count": null,
   "id": "587f5231",
   "metadata": {},
   "outputs": [],
   "source": [
    "#4 find unique triplets whose three elements gives the sum of zero from an array of n integers.\n",
    "#solution-1:convert list to set and add three numbers \n",
    "\n",
    "def three_sum(nums):\n",
    "  result = []\n",
    "  nums.sort()\n",
    "  for i in range(len(nums)-2):\n",
    "    if i> 0 and nums[i] == nums[i-1]:\n",
    "      continue\n",
    "    l, r = i+1, len(nums)-1\n",
    "    while l < r:\n",
    "      s = nums[i] + nums[l] + nums[r]\n",
    "      if s > 0:\n",
    "        r -= 1\n",
    "      elif s < 0:\n",
    "          l += 1\n",
    "      else:\n",
    "        # found three sum\n",
    "        result.append((nums[i], nums[l], nums[r]))\n",
    "        # remove duplicates\n",
    "        while l < r and nums[l] == nums[l+1]:\n",
    "          l+=1\n",
    "          while l < r and nums[r] == nums[r-1]:\n",
    "            r -= 1\n",
    "            l += 1\n",
    "            r -= 1\n",
    "          return result\n",
    "\n",
    "x = [1, -6,-7, 2, -1,8, 2, 0, -2 ]\n",
    "print(three_sum(x))"
   ]
  },
  {
   "cell_type": "code",
   "execution_count": 6,
   "id": "1bb0b301",
   "metadata": {},
   "outputs": [
    {
     "name": "stdout",
     "output_type": "stream",
     "text": [
      "123\n"
     ]
    }
   ],
   "source": [
    "#5-create the combinations of 3 digit combo.\n",
    "#solution-1:append the numbers/concat them\n",
    "#solution-2:multiply by 100,10 and 1 and add them\n",
    "#solution-3:\n",
    "#olution-1:append the numbers/concat them\n",
    "x,y,z=1,2,3\n",
    "new_number=x*100+y*10+z\n",
    "print(new_number)"
   ]
  },
  {
   "cell_type": "code",
   "execution_count": 10,
   "id": "ca0f672b",
   "metadata": {},
   "outputs": [
    {
     "name": "stdout",
     "output_type": "stream",
     "text": [
      "123\n",
      "12\n",
      "12\n"
     ]
    }
   ],
   "source": [
    "#solution-1:append the numbers/concat them\n",
    "x,y,z=1,2,3\n",
    "new_num=int(str(x) + str(y)+str(z))\n",
    "print(new_num)\n",
    "\n",
    "new_num_2=int(f\"{x}{y}\")\n",
    "print(new_num_2)\n",
    "\n",
    "new_num_3=eval(f\"{x}{y}\")\n",
    "print(new_num_3)"
   ]
  },
  {
   "cell_type": "code",
   "execution_count": 13,
   "id": "f4dd5be2",
   "metadata": {},
   "outputs": [
    {
     "name": "stdout",
     "output_type": "stream",
     "text": [
      "['s', 'a', 'k', 'j', 'j', 'i', 'j', 'd', 'e', 'i', 'n', 'j', 'n', 'c']\n",
      "[1, 1, 1, 4, 4, 2, 4, 1, 1, 2, 2, 4, 2, 1]\n",
      "Pairs (Words and Frequencies:\n",
      " [('s', 1), ('a', 1), ('k', 1), ('j', 4), ('j', 4), ('i', 2), ('j', 4), ('d', 1), ('e', 1), ('i', 2), ('n', 2), ('j', 4), ('n', 2), ('c', 1)]\n"
     ]
    }
   ],
   "source": [
    "#6 print a long text, convert the string to a list and print all the words and their frequencies\n",
    "#solution-1: convert string to list then add char and frequencies to dictionary:::analyze more \n",
    "#solution-2: convert string to list then use frequenncy method to count characters\n",
    "\n",
    "#solution-2:convert string to list then use frequenncy method to count characters\n",
    "def word_freq(text):\n",
    "    list1=[]\n",
    "    list1[:]=text\n",
    "    \n",
    "    word_freq=[list1.count(n) for n in list1]\n",
    "    \n",
    "    print(list1)\n",
    "    print(word_freq)\n",
    "    print(\"Pairs (Words and Frequencies:\\n {}\".format(str(list(zip(list1, word_freq)))))\n",
    "    \n",
    "word_freq('sakjjijdeinjnc')\n"
   ]
  },
  {
   "cell_type": "code",
   "execution_count": 14,
   "id": "87244ad7",
   "metadata": {},
   "outputs": [],
   "source": [
    "#7-count the number of each character of a given text of a text file\n",
    "#8 program to get the top stories from Google news\n",
    "#-------------Later after learning "
   ]
  },
  {
   "cell_type": "code",
   "execution_count": 15,
   "id": "01c83006",
   "metadata": {},
   "outputs": [
    {
     "name": "stdout",
     "output_type": "stream",
     "text": [
      "alabaster==0.7.12\n",
      "anaconda-client==1.9.0\n",
      "anaconda-navigator==2.1.1\n",
      "anaconda-project==0.10.1\n",
      "anyio==2.2.0\n",
      "appdirs==1.4.4\n",
      "argh==0.26.2\n",
      "argon2-cffi==20.1.0\n",
      "arrow==0.13.1\n",
      "asn1crypto==1.4.0\n",
      "astroid==2.6.6\n",
      "astropy==4.3.1\n",
      "async-generator==1.10\n",
      "atomicwrites==1.4.0\n",
      "attrs==21.2.0\n",
      "autopep8==1.5.7\n",
      "babel==2.9.1\n",
      "backcall==0.2.0\n",
      "backports.functools-lru-cache==1.6.4\n",
      "backports.shutil-get-terminal-size==1.0.0\n",
      "backports.tempfile==1.0\n",
      "backports.weakref==1.0.post1\n",
      "bcrypt==3.2.0\n",
      "beautifulsoup4==4.10.0\n",
      "binaryornot==0.4.4\n",
      "bitarray==2.3.0\n",
      "bkcharts==0.2\n",
      "black==19.10b0\n",
      "bleach==4.0.0\n",
      "bokeh==2.4.1\n",
      "boto==2.49.0\n",
      "bottleneck==1.3.2\n",
      "brotlipy==0.7.0\n",
      "cached-property==1.5.2\n",
      "certifi==2021.10.8\n",
      "cffi==1.14.6\n",
      "chardet==4.0.0\n",
      "charset-normalizer==2.0.4\n",
      "click==8.0.3\n",
      "cloudpickle==2.0.0\n",
      "clyent==1.2.2\n",
      "colorama==0.4.4\n",
      "comtypes==1.1.10\n",
      "conda-build==3.21.6\n",
      "conda-content-trust==0+unknown\n",
      "conda-pack==0.6.0\n",
      "conda-package-handling==1.7.3\n",
      "conda-repo-cli==1.0.4\n",
      "conda-token==0.3.0\n",
      "conda-verify==3.4.2\n",
      "conda==4.10.3\n",
      "contextlib2==0.6.0.post1\n",
      "cookiecutter==1.7.2\n",
      "cryptography==3.4.8\n",
      "cycler==0.10.0\n",
      "cython==0.29.24\n",
      "cytoolz==0.11.0\n",
      "daal4py==2021.3.0\n",
      "dask==2021.10.0\n",
      "debugpy==1.4.1\n",
      "decorator==5.1.0\n",
      "defusedxml==0.7.1\n",
      "diff-match-patch==20200713\n",
      "distributed==2021.10.0\n",
      "docutils==0.17.1\n",
      "entrypoints==0.3\n",
      "et-xmlfile==1.1.0\n",
      "fastcache==1.1.0\n",
      "filelock==3.3.1\n",
      "flake8==3.9.2\n",
      "flask==1.1.2\n",
      "fonttools==4.25.0\n",
      "fsspec==2021.10.1\n",
      "future==0.18.2\n",
      "gevent==21.8.0\n",
      "glob2==0.7\n",
      "greenlet==1.1.1\n",
      "h5py==3.2.1\n",
      "heapdict==1.0.1\n",
      "html5lib==1.1\n",
      "idna==3.2\n",
      "imagecodecs==2021.8.26\n",
      "imageio==2.9.0\n",
      "imagesize==1.2.0\n",
      "importlib-metadata==4.8.1\n",
      "inflection==0.5.1\n",
      "iniconfig==1.1.1\n",
      "intervaltree==3.1.0\n",
      "ipykernel==6.4.1\n",
      "ipython-genutils==0.2.0\n",
      "ipython==7.29.0\n",
      "ipywidgets==7.6.5\n",
      "isort==5.9.3\n",
      "itsdangerous==2.0.1\n",
      "jdcal==1.4.1\n",
      "jedi==0.18.0\n",
      "jinja2-time==0.2.0\n",
      "jinja2==2.11.3\n",
      "joblib==1.1.0\n",
      "json5==0.9.6\n",
      "jsonschema==3.2.0\n",
      "jupyter-client==6.1.12\n",
      "jupyter-console==6.4.0\n",
      "jupyter-core==4.8.1\n",
      "jupyter-server==1.4.1\n",
      "jupyter==1.0.0\n",
      "jupyterlab-pygments==0.1.2\n",
      "jupyterlab-server==2.8.2\n",
      "jupyterlab-widgets==1.0.0\n",
      "jupyterlab==3.2.1\n",
      "keyring==23.1.0\n",
      "kiwisolver==1.3.1\n",
      "lazy-object-proxy==1.6.0\n",
      "libarchive-c==2.9\n",
      "llvmlite==0.37.0\n",
      "locket==0.2.1\n",
      "lxml==4.6.3\n",
      "markupsafe==1.1.1\n",
      "matplotlib-inline==0.1.2\n",
      "matplotlib==3.4.3\n",
      "mccabe==0.6.1\n",
      "menuinst==1.4.18\n",
      "mistune==0.8.4\n",
      "mkl-fft==1.3.1\n",
      "mkl-random==1.2.2\n",
      "mkl-service==2.4.0\n",
      "mock==4.0.3\n",
      "more-itertools==8.10.0\n",
      "mpmath==1.2.1\n",
      "msgpack==1.0.2\n",
      "multipledispatch==0.6.0\n",
      "munkres==1.1.4\n",
      "mypy-extensions==0.4.3\n",
      "navigator-updater==0.2.1\n",
      "nbclassic==0.2.6\n",
      "nbclient==0.5.3\n",
      "nbconvert==6.1.0\n",
      "nbformat==5.1.3\n",
      "nest-asyncio==1.5.1\n",
      "networkx==2.6.3\n",
      "nltk==3.6.5\n",
      "nose==1.3.7\n",
      "notebook==6.4.5\n",
      "numba==0.54.1\n",
      "numexpr==2.7.3\n",
      "numpy==1.20.3\n",
      "numpydoc==1.1.0\n",
      "olefile==0.46\n",
      "openpyxl==3.0.9\n",
      "packaging==21.0\n",
      "pandas==1.3.4\n",
      "pandocfilters==1.4.3\n",
      "paramiko==2.7.2\n",
      "parso==0.8.2\n",
      "partd==1.2.0\n",
      "path==16.0.0\n",
      "pathlib2==2.3.6\n",
      "pathspec==0.7.0\n",
      "patsy==0.5.2\n",
      "pep8==1.7.1\n",
      "pexpect==4.8.0\n",
      "pickleshare==0.7.5\n",
      "pillow==8.4.0\n",
      "pip==21.2.4\n",
      "pkginfo==1.7.1\n",
      "pluggy==0.13.1\n",
      "ply==3.11\n",
      "poyo==0.5.0\n",
      "prometheus-client==0.11.0\n",
      "prompt-toolkit==3.0.20\n",
      "psutil==5.8.0\n",
      "ptyprocess==0.7.0\n",
      "py==1.10.0\n",
      "pycodestyle==2.7.0\n",
      "pycosat==0.6.3\n",
      "pycparser==2.20\n",
      "pycurl==7.44.1\n",
      "pydocstyle==6.1.1\n",
      "pyerfa==2.0.0\n",
      "pyflakes==2.3.1\n",
      "pygments==2.10.0\n",
      "pyjwt==2.1.0\n",
      "pylint==2.9.6\n",
      "pyls-spyder==0.4.0\n",
      "pynacl==1.4.0\n",
      "pyodbc==4.0.0-unsupported\n",
      "pyopenssl==21.0.0\n",
      "pyparsing==3.0.4\n",
      "pyreadline==2.1\n",
      "pyrsistent==0.18.0\n",
      "pysocks==1.7.1\n",
      "pytest==6.2.4\n",
      "python-dateutil==2.8.2\n",
      "python-lsp-black==1.0.0\n",
      "python-lsp-jsonrpc==1.0.0\n",
      "python-lsp-server==1.2.4\n",
      "python-slugify==5.0.2\n",
      "pytz==2021.3\n",
      "pywavelets==1.1.1\n",
      "pywin32-ctypes==0.2.0\n",
      "pywin32==228\n",
      "pywinpty==0.5.7\n",
      "pyyaml==6.0\n",
      "pyzmq==22.2.1\n",
      "qdarkstyle==3.0.2\n",
      "qstylizer==0.1.10\n",
      "qtawesome==1.0.2\n",
      "qtconsole==5.1.1\n",
      "qtpy==1.10.0\n",
      "regex==2021.8.3\n",
      "requests==2.26.0\n",
      "rope==0.19.0\n",
      "rtree==0.9.7\n",
      "ruamel-yaml-conda==0.15.100\n",
      "scikit-image==0.18.3\n",
      "scikit-learn-intelex==2021.20210714.120553\n",
      "scikit-learn==0.24.2\n",
      "scipy==1.7.1\n",
      "seaborn==0.11.2\n",
      "send2trash==1.8.0\n",
      "setuptools==58.0.4\n",
      "simplegeneric==0.8.1\n",
      "singledispatch==3.7.0\n",
      "sip==4.19.13\n",
      "six==1.16.0\n",
      "sniffio==1.2.0\n",
      "snowballstemmer==2.1.0\n",
      "sortedcollections==2.1.0\n",
      "sortedcontainers==2.4.0\n",
      "soupsieve==2.2.1\n",
      "sphinx==4.2.0\n",
      "sphinxcontrib-applehelp==1.0.2\n",
      "sphinxcontrib-devhelp==1.0.2\n",
      "sphinxcontrib-htmlhelp==2.0.0\n",
      "sphinxcontrib-jsmath==1.0.1\n",
      "sphinxcontrib-qthelp==1.0.3\n",
      "sphinxcontrib-serializinghtml==1.1.5\n",
      "sphinxcontrib-websupport==1.2.4\n",
      "spyder-kernels==2.1.3\n",
      "spyder==5.1.5\n",
      "sqlalchemy==1.4.22\n",
      "statsmodels==0.12.2\n",
      "sympy==1.9\n",
      "tables==3.6.1\n",
      "tbb==0.2\n",
      "tblib==1.7.0\n",
      "terminado==0.9.4\n",
      "testpath==0.5.0\n",
      "text-unidecode==1.3\n",
      "textdistance==4.2.1\n",
      "threadpoolctl==2.2.0\n",
      "three-merge==0.1.1\n",
      "tifffile==2021.7.2\n",
      "tinycss==0.4\n",
      "toml==0.10.2\n",
      "toolz==0.11.1\n",
      "tornado==6.1\n",
      "tqdm==4.62.3\n",
      "traitlets==5.1.0\n",
      "typed-ast==1.4.3\n",
      "typing-extensions==3.10.0.2\n",
      "ujson==4.0.2\n",
      "unicodecsv==0.14.1\n",
      "unidecode==1.2.0\n",
      "urllib3==1.26.7\n",
      "watchdog==2.1.3\n",
      "wcwidth==0.2.5\n",
      "webencodings==0.5.1\n",
      "werkzeug==2.0.2\n",
      "wheel==0.37.0\n",
      "whichcraft==0.6.1\n",
      "widgetsnbextension==3.5.1\n",
      "win-inet-pton==1.1.0\n",
      "win-unicode-console==0.5\n",
      "wincertstore==0.2\n",
      "wrapt==1.12.1\n",
      "xlrd==2.0.1\n",
      "xlsxwriter==3.0.1\n",
      "xlwings==0.24.9\n",
      "xlwt==1.3.0\n",
      "xmltodict==0.12.0\n",
      "yapf==0.31.0\n",
      "zict==2.0.0\n",
      "zipp==3.6.0\n",
      "zope.event==4.5.0\n",
      "zope.interface==5.4.0\n"
     ]
    }
   ],
   "source": [
    "#9 installed packages\n",
    "import pkg_resources\n",
    "installed_packages = pkg_resources.working_set\n",
    "installed_packages_list = sorted([\"%s==%s\" % (i.key, i.version)\n",
    "     for i in installed_packages])\n",
    "for m in installed_packages_list:\n",
    "    print(m)"
   ]
  },
  {
   "cell_type": "code",
   "execution_count": 16,
   "id": "733c3e3b",
   "metadata": {},
   "outputs": [
    {
     "name": "stdout",
     "output_type": "stream",
     "text": [
      "architecture: ('64bit', 'WindowsPE')\n",
      "mac_ver: ('', ('', '', ''), '')\n",
      "machine: AMD64\n",
      "node: LAPTOP-SOUD7UOF\n",
      "platform: Windows-10-10.0.19044-SP0\n",
      "processor: Intel64 Family 6 Model 122 Stepping 1, GenuineIntel\n",
      "python_build: ('default', 'Sep 16 2021 16:59:28')\n",
      "python_compiler: MSC v.1916 64 bit (AMD64)\n",
      "python_version: 3.9.7\n",
      "release: 10\n",
      "system: Windows\n",
      "uname: uname_result(system='Windows', node='LAPTOP-SOUD7UOF', release='10', version='10.0.19044', machine='AMD64')\n",
      "version: 10.0.19044\n"
     ]
    }
   ],
   "source": [
    "#10 display some information about the OS where the script is running\n",
    "import platform as pl\n",
    "\n",
    "os_profile = [\n",
    "        'architecture',\n",
    "        'linux_distribution',\n",
    "        'mac_ver',\n",
    "        'machine',\n",
    "        'node',\n",
    "        'platform',\n",
    "        'processor',\n",
    "        'python_build',\n",
    "        'python_compiler',\n",
    "        'python_version',\n",
    "        'release',\n",
    "        'system',\n",
    "        'uname',\n",
    "        'version',\n",
    "    ]\n",
    "for key in os_profile:\n",
    "  if hasattr(pl, key):\n",
    "    print(key +  \": \" + str(getattr(pl, key)()))"
   ]
  },
  {
   "cell_type": "code",
   "execution_count": 20,
   "id": "1bea3364",
   "metadata": {},
   "outputs": [
    {
     "name": "stdout",
     "output_type": "stream",
     "text": [
      "sums= [(False, (10, 10, 10)), (False, (10, 10, 30)), (False, (10, 10, 40)), (False, (10, 10, 20)), (False, (10, 20, 10)), (False, (10, 20, 30)), (True, (10, 20, 40)), (False, (10, 20, 20)), (False, (10, 30, 10)), (True, (10, 30, 30)), (False, (10, 30, 40)), (False, (10, 30, 20)), (False, (10, 40, 10)), (False, (10, 40, 30)), (False, (10, 40, 40)), (True, (10, 40, 20)), (False, (20, 10, 10)), (False, (20, 10, 30)), (True, (20, 10, 40)), (False, (20, 10, 20)), (False, (20, 20, 10)), (True, (20, 20, 30)), (False, (20, 20, 40)), (False, (20, 20, 20)), (False, (20, 30, 10)), (False, (20, 30, 30)), (False, (20, 30, 40)), (True, (20, 30, 20)), (True, (20, 40, 10)), (False, (20, 40, 30)), (False, (20, 40, 40)), (False, (20, 40, 20)), (False, (20, 10, 10)), (False, (20, 10, 30)), (True, (20, 10, 40)), (False, (20, 10, 20)), (False, (20, 20, 10)), (True, (20, 20, 30)), (False, (20, 20, 40)), (False, (20, 20, 20)), (False, (20, 30, 10)), (False, (20, 30, 30)), (False, (20, 30, 40)), (True, (20, 30, 20)), (True, (20, 40, 10)), (False, (20, 40, 30)), (False, (20, 40, 40)), (False, (20, 40, 20)), (False, (20, 10, 10)), (False, (20, 10, 30)), (True, (20, 10, 40)), (False, (20, 10, 20)), (False, (20, 20, 10)), (True, (20, 20, 30)), (False, (20, 20, 40)), (False, (20, 20, 20)), (False, (20, 30, 10)), (False, (20, 30, 30)), (False, (20, 30, 40)), (True, (20, 30, 20)), (True, (20, 40, 10)), (False, (20, 40, 30)), (False, (20, 40, 40)), (False, (20, 40, 20))]\n",
      "{(10, 20, 40)}\n",
      "{(10, 30, 30), (10, 20, 40)}\n",
      "{(10, 30, 30), (10, 20, 40), (10, 40, 20)}\n",
      "{(10, 30, 30), (20, 10, 40), (10, 20, 40), (10, 40, 20)}\n",
      "{(10, 20, 40), (20, 20, 30), (20, 10, 40), (10, 40, 20), (10, 30, 30)}\n",
      "{(10, 20, 40), (20, 20, 30), (20, 10, 40), (10, 40, 20), (20, 30, 20), (10, 30, 30)}\n",
      "{(10, 20, 40), (20, 40, 10), (20, 20, 30), (20, 10, 40), (10, 40, 20), (20, 30, 20), (10, 30, 30)}\n"
     ]
    }
   ],
   "source": [
    "#11-to check the sum of three elements (each from an array) from three arrays \n",
    "#is equal to a target value. Print all those three-element combinations\n",
    "###########Need to be go through over and over again##################\n",
    "\n",
    "import itertools\n",
    "from functools import partial\n",
    "X = [10, 20, 20, 20]\n",
    "Y = [10, 20, 30, 40]\n",
    "Z = [10, 30, 40, 20]\n",
    "T = 70\n",
    "\n",
    "def check_sum_array(N, *nums):\n",
    "    if sum(x for x in nums) == N:\n",
    "        return (True, nums)\n",
    "    else:\n",
    "        return (False, nums)\n",
    "\n",
    "pro = itertools.product(X,Y,Z)\n",
    "func = partial(check_sum_array, T)\n",
    "sums = list(itertools.starmap(func, pro))\n",
    "print(\"sums=\",sums)\n",
    "\n",
    "result = set()\n",
    "for s in sums:\n",
    "    if s[0] == True and s[1] not in result:\n",
    "        result.add(s[1])\n",
    "        print(result)"
   ]
  },
  {
   "cell_type": "code",
   "execution_count": 3,
   "id": "e1f4ea75",
   "metadata": {},
   "outputs": [
    {
     "name": "stdout",
     "output_type": "stream",
     "text": [
      "Original Cofllection:  [2, 3, 4]\n",
      "Collection of distinct numbers:\n",
      " [[4, 3, 2], [3, 4, 2], [3, 2, 4], [3, 2, 4], [4, 2, 3], [2, 4, 3], [2, 3, 4], [2, 3, 4], [4, 2, 3], [2, 4, 3], [2, 3, 4], [2, 3, 4], [4, 2, 3], [2, 4, 3], [2, 3, 4], [2, 3, 4], [4, 3, 2], [3, 4, 2], [3, 2, 4], [3, 2, 4], [4, 2, 3], [2, 4, 3], [2, 3, 4], [2, 3, 4], [4, 2, 3], [2, 4, 3], [2, 3, 4], [2, 3, 4], [4, 2, 3], [2, 4, 3], [2, 3, 4], [2, 3, 4], [4, 3, 2], [3, 4, 2], [3, 2, 4], [3, 2, 4], [4, 2, 3], [2, 4, 3], [2, 3, 4], [2, 3, 4], [4, 2, 3], [2, 4, 3], [2, 3, 4], [2, 3, 4], [4, 2, 3], [2, 4, 3], [2, 3, 4], [2, 3, 4], [4, 3, 2], [3, 4, 2], [3, 2, 4], [3, 2, 4], [4, 2, 3], [2, 4, 3], [2, 3, 4], [2, 3, 4], [4, 2, 3], [2, 4, 3], [2, 3, 4], [2, 3, 4], [4, 2, 3], [2, 4, 3], [2, 3, 4], [2, 3, 4]]\n"
     ]
    }
   ],
   "source": [
    "#12 create all possible permutations from a given collection of distinct numbers\n",
    "#solution-1:2 for loops and create new list if lst[i]<>lst[begin_index]==>might not give all permutations\n",
    "#itertools.permutations\n",
    "\n",
    "import itertools\n",
    "def distCombo(lst):    \n",
    "    result_perm=[[]]\n",
    "    for n in lst:\n",
    "        new_perm=[]\n",
    "        for perm in result_perm:\n",
    "            for i in range(len(lst)+1):\n",
    "                new_perm.append(perm[:i]+[n]+perm[i:])\n",
    "                result_perm=new_perm\n",
    "    return result_perm\n",
    "\n",
    "list1=[2,3,4]\n",
    "print(\"Original Cofllection: \",list1)\n",
    "print(\"Collection of distinct numbers:\\n\",distCombo(list1))     "
   ]
  },
  {
   "cell_type": "code",
   "execution_count": 9,
   "id": "3e63ad70",
   "metadata": {},
   "outputs": [
    {
     "name": "stdout",
     "output_type": "stream",
     "text": [
      "['jt', 'ju', 'jv', 'kt', 'ku', 'kv', 'lt', 'lu', 'lv']\n"
     ]
    }
   ],
   "source": [
    "#13--for loop through dictionary\n",
    "#get all possible two digit letter combinations from a digit\n",
    "def letter_combo(digits):\n",
    "    if digits==\"\":\n",
    "        return []\n",
    "    string_maps={    #disctionary{key:values}\n",
    "        \"1\": \"abc\",\n",
    "        \"2\": \"def\",\n",
    "        \"3\": \"ghi\",\n",
    "        \"4\": \"jkl\",\n",
    "        \"5\": \"mno\",\n",
    "        \"6\": \"pqrs\",\n",
    "        \"7\": \"tuv\",\n",
    "        \"8\": \"wxy\",\n",
    "        \"9\": \"z\"\n",
    "    }\n",
    "    result=['']#cause we want to return chars\n",
    "    for num in digits:\n",
    "        temp=[]\n",
    "        for an in result:\n",
    "            for char in string_maps[num]:#Print all values in the dictionary\n",
    "                temp.append(an+char)\n",
    "                result=temp\n",
    "    return temp\n",
    "digit_str=\"47\"\n",
    "print(letter_combo(digit_str))       "
   ]
  },
  {
   "cell_type": "code",
   "execution_count": 15,
   "id": "622e55b1",
   "metadata": {},
   "outputs": [
    {
     "name": "stdout",
     "output_type": "stream",
     "text": [
      "12\n",
      "-10\n",
      "-30\n"
     ]
    }
   ],
   "source": [
    "#14-add two positive integers without using the '+' operator\n",
    "def add_without_plus_operator(a,b):\n",
    "    while b!=0:\n",
    "        data=a&b\n",
    "        a=a^b\n",
    "        b=data<<1\n",
    "    return a\n",
    "print(add_without_plus_operator(2, 10))\n",
    "print(add_without_plus_operator(-20, 10))\n",
    "print(add_without_plus_operator(-10, -20))\n",
    "    "
   ]
  },
  {
   "cell_type": "code",
   "execution_count": 23,
   "id": "2d4cd641",
   "metadata": {},
   "outputs": [
    {
     "name": "stdout",
     "output_type": "stream",
     "text": [
      "True\n",
      "False\n"
     ]
    }
   ],
   "source": [
    "#15-check the priority of the four operators\n",
    "#need to dig more did not understand meaning of _____xyz____\n",
    "\n",
    "__operators__ = \"+-/*\"\n",
    "__parenthesis__ = \"()\"\n",
    "__priority__ = {\n",
    "    '+': 0,\n",
    "    '-': 0,\n",
    "    '*': 1,\n",
    "    '/': 1,\n",
    "}\n",
    "\n",
    "def test_higher_priority(operator1, operator2):\n",
    "    return __priority__[operator1] >= __priority__[operator2]\n",
    "print(test_higher_priority('*','-'))\n",
    "print(test_higher_priority('+','/'))"
   ]
  },
  {
   "cell_type": "code",
   "execution_count": 21,
   "id": "32ec6b43",
   "metadata": {},
   "outputs": [
    {
     "name": "stdout",
     "output_type": "stream",
     "text": [
      "5.0\n"
     ]
    }
   ],
   "source": [
    "#16\n",
    "import math\n",
    "def pythagor(a,b):\n",
    "    sqr_c=a*a+b*b\n",
    "    c=math.sqrt(sqr_c)\n",
    "    return c\n",
    "\n",
    "print(pythagor(3,4))"
   ]
  },
  {
   "cell_type": "code",
   "execution_count": 27,
   "id": "11796b34",
   "metadata": {},
   "outputs": [
    {
     "name": "stdout",
     "output_type": "stream",
     "text": [
      "n = 2: \n",
      " ['88', '11', '96', '69']\n",
      "n = 3: \n",
      " ['818', '111', '916', '619', '808', '101', '906', '609', '888', '181', '986', '689']\n",
      "n = 4: \n",
      " ['8008', '1001', '9006', '6009', '8888', '1881', '9886', '6889', '8118', '1111', '9116', '6119', '8968', '1961', '9966', '6969', '8698', '1691', '9696', '6699']\n"
     ]
    }
   ],
   "source": [
    "#17 get all strobogrammatic numbers that are of length n\n",
    "#strobogrammatic numbers are : 0,1,6,8,9-180 degree filp mirrors themselve\n",
    "\n",
    "def gen_strobogrammatic(n):\n",
    "    result=helper(n,n)\n",
    "    return result\n",
    "\n",
    "def helper(n,length):\n",
    "    if n==0:\n",
    "        return [\"\"]###these are middle numbers\n",
    "    if n==1:\n",
    "        return [\"1\",\"0\",\"8\"]###these are middle numbers we cannot have 6 and 9 cause they change the number after flipping\n",
    "    middles=helper(n-2,length)\n",
    "    result=[]\n",
    "    for middle in middles:\n",
    "        if n!=length:\n",
    "            result.append(\"0\"+middle+\"0\")\n",
    "        result.append(\"8\"+middle+\"8\")\n",
    "        result.append(\"1\"+middle+\"1\")\n",
    "        result.append(\"9\"+middle+\"6\")\n",
    "        result.append(\"6\"+middle+\"9\")\n",
    "    return result\n",
    "\n",
    "print(\"n = 2: \\n\",gen_strobogrammatic(2))\n",
    "print(\"n = 3: \\n\",gen_strobogrammatic(3))\n",
    "print(\"n = 4: \\n\",gen_strobogrammatic(4))"
   ]
  },
  {
   "cell_type": "code",
   "execution_count": 33,
   "id": "9452631e",
   "metadata": {},
   "outputs": [
    {
     "name": "stdout",
     "output_type": "stream",
     "text": [
      "2\n"
     ]
    }
   ],
   "source": [
    "#18 \n",
    "def cal_med(a,b,c):\n",
    "    if a<b and b<c:\n",
    "        return b\n",
    "    elif b<a and a<c:\n",
    "        return a\n",
    "    else:\n",
    "        return c\n",
    "    \n",
    "print(cal_med(2,4,2))"
   ]
  },
  {
   "cell_type": "code",
   "execution_count": null,
   "id": "ef01de97",
   "metadata": {},
   "outputs": [],
   "source": [
    "#19 "
   ]
  },
  {
   "cell_type": "code",
   "execution_count": null,
   "id": "7d8c2a4e",
   "metadata": {},
   "outputs": [],
   "source": [
    "#20\n",
    "def factorial(n):\n",
    "    num = 1\n",
    "    while n >= 1:\n",
    "        num = num * n\n",
    "        n = n - 1\n",
    "    return num\n",
    "\n",
    "f= factorial(5)\n",
    "print(f)"
   ]
  },
  {
   "cell_type": "code",
   "execution_count": null,
   "id": "2bd35754",
   "metadata": {},
   "outputs": [],
   "source": []
  },
  {
   "cell_type": "code",
   "execution_count": null,
   "id": "bb6f198d",
   "metadata": {},
   "outputs": [],
   "source": []
  }
 ],
 "metadata": {
  "kernelspec": {
   "display_name": "Python 3 (ipykernel)",
   "language": "python",
   "name": "python3"
  },
  "language_info": {
   "codemirror_mode": {
    "name": "ipython",
    "version": 3
   },
   "file_extension": ".py",
   "mimetype": "text/x-python",
   "name": "python",
   "nbconvert_exporter": "python",
   "pygments_lexer": "ipython3",
   "version": "3.9.7"
  }
 },
 "nbformat": 4,
 "nbformat_minor": 5
}
