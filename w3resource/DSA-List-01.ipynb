{
 "cells": [
  {
   "cell_type": "code",
   "execution_count": 1,
   "id": "46bf5a63",
   "metadata": {},
   "outputs": [
    {
     "name": "stdout",
     "output_type": "stream",
     "text": [
      "39\n"
     ]
    }
   ],
   "source": [
    "#DATE-06/07/2022\n",
    "#01-sum all the items in a list\n",
    "lst_num=[2,5,7,12,4,9]\n",
    "sum=0\n",
    "for i in lst_num:\n",
    "    sum+=i\n",
    "print(sum)"
   ]
  },
  {
   "cell_type": "code",
   "execution_count": 3,
   "id": "f3f7fecb",
   "metadata": {},
   "outputs": [
    {
     "name": "stdout",
     "output_type": "stream",
     "text": [
      "30240\n"
     ]
    }
   ],
   "source": [
    "#2-multiply all the items in a list\n",
    "lst_num=[2,5,7,12,4,9]\n",
    "prod=1\n",
    "for i in lst_num:\n",
    "    prod*=i\n",
    "print(prod)"
   ]
  },
  {
   "cell_type": "code",
   "execution_count": 4,
   "id": "3399653c",
   "metadata": {},
   "outputs": [
    {
     "name": "stdout",
     "output_type": "stream",
     "text": [
      "12\n"
     ]
    }
   ],
   "source": [
    "#3-get the largest number from a list.\n",
    "#s1-sort them and print last num\n",
    "#s2-use max method\n",
    "lst_num=[2,5,7,12,4,9]\n",
    "max_num=max(lst_num)\n",
    "print(max_num)"
   ]
  },
  {
   "cell_type": "code",
   "execution_count": 5,
   "id": "74c230e0",
   "metadata": {},
   "outputs": [
    {
     "name": "stdout",
     "output_type": "stream",
     "text": [
      "2\n"
     ]
    }
   ],
   "source": [
    "#4-smallest number from a list\n",
    "lst_num=[2,5,7,12,4,9]\n",
    "min_num=min(lst_num)\n",
    "print(min_num)"
   ]
  },
  {
   "cell_type": "code",
   "execution_count": 27,
   "id": "f241b111",
   "metadata": {},
   "outputs": [
    {
     "name": "stdout",
     "output_type": "stream",
     "text": [
      "3\n"
     ]
    }
   ],
   "source": [
    "#5-count the number of strings where the string length is 2 or more and the \n",
    "#first and last character are same from a given list of strings.\n",
    "#Sample List : ['abc', 'xyz', 'aba', '1221']\n",
    "#Expected Result : 2\n",
    "\n",
    "#logic-split strings by spaces. trace first and last character of individual string to check if they are same\n",
    "#s1-check strings and counter increment\n",
    "\n",
    "def str_cnt():\n",
    "    str_lst=['abc','rnr', 'xyz', 'aba', '1221']\n",
    "    count=0\n",
    "    for i in str_lst:\n",
    "        if i[0]==i[len(i)-1]:\n",
    "            #print(j,i[0],i[len(i)-1])\n",
    "            count+=1\n",
    "            #break\n",
    "    print(count)\n",
    "str_cnt()"
   ]
  },
  {
   "cell_type": "code",
   "execution_count": 45,
   "id": "d6c056dd",
   "metadata": {},
   "outputs": [
    {
     "name": "stdout",
     "output_type": "stream",
     "text": [
      "List of Tuple before sorting :  [(5, 7), (12, 4), (20, 13), (45, 2)]\n",
      "List of Tuple after sorting : [(45, 2), (12, 4), (5, 7), (20, 13)]\n"
     ]
    }
   ],
   "source": [
    "#6-get a list, sorted in increasing order by the last element in each tuple from a given list of non-empty tuples\n",
    "#Sample List : [(2, 5), (1, 2), (4, 4), (2, 3), (2, 1)]\n",
    "#Expected Result : [(2, 1), (1, 2), (2, 3), (4, 4), (2, 5)]\n",
    "\n",
    "#logic-trace each tuple and compare last element of it add it in dictionary\n",
    "#s1-for loop\n",
    "#s2-list comprehension\n",
    "#s3-lambda function\n",
    "\n",
    "#s2-list comprehension\n",
    "def reorder_lst():\n",
    "    tup_lst=[(2, 5), (1, 2), (4, 4), (2, 3), (2, 1)]\n",
    "    sorted_lst=[]\n",
    "   # swap=[]\n",
    "    tupList =[(5, 7), (12, 4), (20, 13), (45, 2)]\n",
    "    print(\"List of Tuple before sorting : \" ,str(tupList))\n",
    "\n",
    "# Bubble Sorting List of Tuples in Increasing order by last element \n",
    "    listLen = len(tupList); \n",
    "    for i in range(0, listLen):\n",
    "        for j in range(0, listLen - i - 1):\n",
    "            #print(tupList[j][-1],tupList[j + 1][-1])\n",
    "           # print(tupList[j][1],tupList[j + 1][1])\n",
    "           # print('x',tupList[j])\n",
    "            if(tupList[j][-1] > tupList[j + 1][-1]):   #[j][-1] ==     [j][1]        \n",
    "                swap = tupList[j]\n",
    "                tupList[j] = tupList[j + 1]\n",
    "                tupList[j + 1] = swap\n",
    "               # print(tupList)\n",
    "    print(\"List of Tuple after sorting : \" + str(tupList))            \n",
    "    \n",
    "reorder_lst()"
   ]
  },
  {
   "cell_type": "code",
   "execution_count": 48,
   "id": "8e294dfe",
   "metadata": {},
   "outputs": [
    {
     "name": "stdout",
     "output_type": "stream",
     "text": [
      "[(2, 1), (1, 2), (2, 3), (4, 4), (2, 5)]\n"
     ]
    }
   ],
   "source": [
    "#Recursion\n",
    "def last(n):\n",
    "    #print(n[-1])\n",
    "    return n[-1] #second number in tuples-5,2,4,3,1\n",
    "\n",
    "def sort_list_last(tuples):\n",
    "    #print(sorted(tuples,key=last))\n",
    "    return sorted(tuples,key=last)  #sorted based on second number of tuples \n",
    "\n",
    "print(sort_list_last([(2, 5), (1, 2), (4, 4), (2, 3), (2, 1)]))"
   ]
  },
  {
   "cell_type": "code",
   "execution_count": 51,
   "id": "d630718c",
   "metadata": {},
   "outputs": [
    {
     "name": "stdout",
     "output_type": "stream",
     "text": [
      "List of Tuple after sorting : [(45, 2), (12, 4), (5, 7), (20, 13)]\n"
     ]
    }
   ],
   "source": [
    "#lambda\n",
    "tupList =[(5, 7), (12, 4), (20, 13), (45, 2)]\n",
    "\n",
    "tupList.sort(key=lambda n:n[-1])\n",
    "print(\"List of Tuple after sorting : \" + str(tupList))"
   ]
  },
  {
   "cell_type": "code",
   "execution_count": 52,
   "id": "89a2db3e",
   "metadata": {},
   "outputs": [
    {
     "name": "stdout",
     "output_type": "stream",
     "text": [
      "[4, 5, 2, 1, 6, 3]\n"
     ]
    }
   ],
   "source": [
    "#7-remove duplicates from a list\n",
    "#create set and convert back to list\n",
    "#move items in new list if not exist\n",
    "#distinct method\n",
    "lst=[4,5,2,1,6,5,3,1,2]\n",
    "result=[]\n",
    "for i in lst:\n",
    "    if i not in result:\n",
    "        result.append(i)\n",
    "print(result)"
   ]
  },
  {
   "cell_type": "code",
   "execution_count": 54,
   "id": "0a4fd0d0",
   "metadata": {},
   "outputs": [
    {
     "name": "stdout",
     "output_type": "stream",
     "text": [
      "list has items in it\n"
     ]
    }
   ],
   "source": [
    "#8-check a list is empty or not\n",
    "lst=[4,5,2,1,6,5,3,1,2]\n",
    "result=[4]\n",
    "if len(result)==0:\n",
    "    print(\"list is empty\")\n",
    "else:\n",
    "    print(\"list has items in it\")"
   ]
  },
  {
   "cell_type": "code",
   "execution_count": 58,
   "id": "180c6dfc",
   "metadata": {},
   "outputs": [
    {
     "name": "stdout",
     "output_type": "stream",
     "text": [
      "list is empty\n"
     ]
    }
   ],
   "source": [
    "#8-check a list is empty or not\n",
    "lst=[4,5,2,1,6,5,3,1,2]\n",
    "result=[]\n",
    "if not result:\n",
    "    print(\"list is empty\")\n",
    "else:\n",
    "    print(\"list has items in it\")"
   ]
  },
  {
   "cell_type": "code",
   "execution_count": 60,
   "id": "0f799527",
   "metadata": {},
   "outputs": [
    {
     "name": "stdout",
     "output_type": "stream",
     "text": [
      "[4, 5, 2, 1, 6, 5, 3, 1, 2]\n",
      "[4, 5, 2, 1, 6, 5, 3, 1, 2]\n"
     ]
    }
   ],
   "source": [
    "#9-clone or copy a list.\n",
    "lst=[4,5,2,1,6,5,3,1,2]\n",
    "\n",
    "result=lst.copy()\n",
    "new_list = list(lst)\n",
    "\n",
    "print(result)\n",
    "print(new_list)"
   ]
  },
  {
   "cell_type": "code",
   "execution_count": 63,
   "id": "5421dd0d",
   "metadata": {},
   "outputs": [
    {
     "name": "stdout",
     "output_type": "stream",
     "text": [
      "['dferth', 'dsde', 'wqwkdskfs']\n"
     ]
    }
   ],
   "source": [
    "#10-find the list of words that are longer than n from a given list of words\n",
    "#q1:is long word part of list or given input\n",
    "\n",
    "def find_longer_wrd():\n",
    "    long_word=\"abc\"\n",
    "    word_lst=[\"dferth\",\"dsde\",\"as\",\"wqwkdskfs\",\"d\",\"lkj\"]\n",
    "    result_lst=[]\n",
    "    for i in word_lst:\n",
    "        if len(long_word)<len(i):\n",
    "            result_lst.append(i)\n",
    "    print(result_lst)\n",
    "find_longer_wrd()"
   ]
  },
  {
   "cell_type": "code",
   "execution_count": 68,
   "id": "a3e5b338",
   "metadata": {},
   "outputs": [
    {
     "data": {
      "text/plain": [
       "[5, 8]"
      ]
     },
     "execution_count": 68,
     "metadata": {},
     "output_type": "execute_result"
    }
   ],
   "source": [
    "#11-takes two lists and returns True if they have at least one common member\n",
    "#s1-lambda\n",
    "#s2-and logical and\n",
    "#s3-for loop\n",
    "\n",
    "#s1-lambda\n",
    "lst1=[1,2,3,4,5,6,7,8]\n",
    "lst2=[11,22,33,44,5,66,77,8]\n",
    "list(filter(lambda x:x in lst1,lst2))"
   ]
  },
  {
   "cell_type": "code",
   "execution_count": 73,
   "id": "5fb8fb0b",
   "metadata": {},
   "outputs": [
    {
     "name": "stdout",
     "output_type": "stream",
     "text": [
      "[8, 5]\n"
     ]
    }
   ],
   "source": [
    "#s2-logical and\n",
    "lst1=[1,2,3,4,5,6,7,8]\n",
    "lst2=[11,22,33,44,5,66,77,8]\n",
    "lst=list(set(lst1) & set(lst2))\n",
    "#lst=(lst1 & lst2)\n",
    "print(lst)"
   ]
  },
  {
   "cell_type": "code",
   "execution_count": 14,
   "id": "b0c8cc25",
   "metadata": {},
   "outputs": [
    {
     "name": "stdout",
     "output_type": "stream",
     "text": [
      "['Green', 'White', 'Black']\n"
     ]
    }
   ],
   "source": [
    "#12-print a specified list after removing the 0th, 4th and 5th elements\n",
    "lst=['Red', 'Green', 'White', 'Black', 'Pink', 'Yellow']\n",
    "lst=[x for (i,x) in enumerate(lst) if i not in(0,4,5)]\n",
    "print(lst)"
   ]
  },
  {
   "cell_type": "code",
   "execution_count": 22,
   "id": "5e3f15a4",
   "metadata": {},
   "outputs": [
    {
     "name": "stdout",
     "output_type": "stream",
     "text": [
      "[[['*', '*', '*', '*', '*', '*'], ['*', '*', '*', '*', '*', '*'], ['*', '*', '*', '*', '*', '*'], ['*', '*', '*', '*', '*', '*']], [['*', '*', '*', '*', '*', '*'], ['*', '*', '*', '*', '*', '*'], ['*', '*', '*', '*', '*', '*'], ['*', '*', '*', '*', '*', '*']], [['*', '*', '*', '*', '*', '*'], ['*', '*', '*', '*', '*', '*'], ['*', '*', '*', '*', '*', '*'], ['*', '*', '*', '*', '*', '*']]]\n"
     ]
    }
   ],
   "source": [
    "#13-generate a 3*4*6 3D array whose each element is *\n",
    "#s1-3 for loops with i,j and k in range of 3*4*6 and print *\n",
    "\n",
    "def print_pattern():\n",
    "    array=[[['*' for col in range(6)] for col in range(4)] for row in range(3)]\n",
    "    print(array)\n",
    "\n",
    "print_pattern()"
   ]
  },
  {
   "cell_type": "code",
   "execution_count": 39,
   "id": "366ca2fa",
   "metadata": {},
   "outputs": [
    {
     "name": "stdout",
     "output_type": "stream",
     "text": [
      "[5, 1, 9]\n"
     ]
    }
   ],
   "source": [
    "#14-print the numbers of a specified list after removing even numbers from it.\n",
    "#s1-for loop\n",
    "#s2-lambda\n",
    "\n",
    "lst=[5,4,2,1,6,8,9,0]\n",
    "new_lst=list(filter(lambda x:(x%2!=0), lst))\n",
    "print(new_lst)"
   ]
  },
  {
   "cell_type": "code",
   "execution_count": 52,
   "id": "273649a9",
   "metadata": {},
   "outputs": [
    {
     "name": "stdout",
     "output_type": "stream",
     "text": [
      "[8, 5, 1, 9, 4, 0, 2, 6]\n"
     ]
    }
   ],
   "source": [
    "#15-shuffle and print a specified list\n",
    "#s1-use random method\n",
    "#s2-use shuffle method\n",
    "from random import shuffle\n",
    "def shuffle_lst():\n",
    "    s=[5,4,2,1,6,8,9,0]\n",
    "    random.shuffle(s) # << shuffle before print or assignment\n",
    "    print(s)\n",
    "shuffle_lst()"
   ]
  },
  {
   "cell_type": "code",
   "execution_count": 54,
   "id": "b41f5a97",
   "metadata": {},
   "outputs": [
    {
     "data": {
      "text/plain": [
       "[7, 9, 6, 1, 4, 5, 3, 0, 8, 2]"
      ]
     },
     "execution_count": 54,
     "metadata": {},
     "output_type": "execute_result"
    }
   ],
   "source": [
    "import random\n",
    "random.sample(list(range(10)), 10)"
   ]
  },
  {
   "cell_type": "code",
   "execution_count": 68,
   "id": "9dfd5936",
   "metadata": {},
   "outputs": [
    {
     "name": "stdout",
     "output_type": "stream",
     "text": [
      "[0, 1, 4, 9, 16, 25]\n",
      "[0, 1, 4, 9, 16, 25]\n"
     ]
    }
   ],
   "source": [
    "#16-generate and print a list of first and last 5 elements where the values are\n",
    "#square of numbers between 1 and 30 (both included).\n",
    "\n",
    "#s1-lambda\n",
    "#s2-enumerate\n",
    "#s3-for loop\n",
    "l=[]\n",
    "for i in range(6):\n",
    "    l.append(i**2)\n",
    "print(l)\n",
    "\n",
    "new_lst=[(lambda x:x*x)(x) for x in range(6)]\n",
    "print(new_lst)"
   ]
  },
  {
   "cell_type": "code",
   "execution_count": 69,
   "id": "52f97b49",
   "metadata": {},
   "outputs": [
    {
     "name": "stdout",
     "output_type": "stream",
     "text": [
      "[36, 49, 64, 81, 100, 121, 144, 169, 196, 225, 256, 289, 324, 361, 400, 441, 484, 529, 576, 625, 676, 729, 784, 841, 900]\n"
     ]
    }
   ],
   "source": [
    "#17-generate and print a list except for the first 5 elements,\n",
    "#where the values are square of numbers between 1 and 30 (both included)\n",
    "def printValues():\n",
    "\tl = list()\n",
    "\tfor i in range(1,31):\n",
    "\t\tl.append(i**2)\n",
    "\tprint(l[5:])\n",
    "printValues()"
   ]
  },
  {
   "cell_type": "code",
   "execution_count": 73,
   "id": "13d7e039",
   "metadata": {},
   "outputs": [
    {
     "name": "stdout",
     "output_type": "stream",
     "text": [
      "(5, 4, 2)\n",
      "(5, 2, 4)\n",
      "(4, 5, 2)\n",
      "(4, 2, 5)\n",
      "(2, 5, 4)\n",
      "(2, 4, 5)\n"
     ]
    }
   ],
   "source": [
    "#18-generate all permutations of a list in Python.\n",
    "#s1-permutation method \n",
    "\n",
    "from itertools import permutations\n",
    "perm=permutations([5,4,2])\n",
    "for  i in list(perm):\n",
    "    print(i)"
   ]
  },
  {
   "cell_type": "code",
   "execution_count": 3,
   "id": "e4b887bd",
   "metadata": {},
   "outputs": [
    {
     "data": {
      "text/plain": [
       "<generator object permutations_logic at 0x0000014CA328F040>"
      ]
     },
     "execution_count": 3,
     "metadata": {},
     "output_type": "execute_result"
    }
   ],
   "source": [
    "#18-\n",
    "def permutations_logic(elements):\n",
    "    if len(elements)<=1:\n",
    "        yield elements\n",
    "        return\n",
    "    for perm in permutations_logic(elements[1:]):\n",
    "        for i in range(len(elements)):\n",
    "            yield perm[:i]+elements[0:1]+perm[i:]\n",
    "permutations_logic([5,4,2])"
   ]
  },
  {
   "cell_type": "code",
   "execution_count": 6,
   "id": "f3c4bb3e",
   "metadata": {},
   "outputs": [],
   "source": [
    "def permutations(iterable, r=None):\n",
    "    # permutations('ABCD', 2) --> AB AC AD BA BC BD CA CB CD DA DB DC\n",
    "    # permutations(range(3)) --> 012 021 102 120 201 210\n",
    "    pool = tuple(iterable)\n",
    "    n = len(pool)\n",
    "    r = n if r is None else r\n",
    "    if r > n:\n",
    "        return\n",
    "    indices = range(n)\n",
    "    cycles = range(n, n-r, -1)\n",
    "    yield tuple(pool[i] for i in indices[:r])\n",
    "    while n:\n",
    "        for i in reversed(range(r)):\n",
    "            cycles[i] -= 1\n",
    "            if cycles[i] == 0:\n",
    "                indices[i:] = indices[i+1:] + indices[i:i+1]\n",
    "                cycles[i] = n - i\n",
    "            else:\n",
    "                j = cycles[i]\n",
    "                indices[i], indices[-j] = indices[-j], indices[i]\n",
    "                yield tuple(pool[i] for i in indices[:r])\n",
    "                break\n",
    "        else:\n",
    "            return"
   ]
  },
  {
   "cell_type": "code",
   "execution_count": 11,
   "id": "f257599a",
   "metadata": {},
   "outputs": [
    {
     "name": "stdout",
     "output_type": "stream",
     "text": [
      "[0, 1, 4, 9, 25]\n",
      "[16]\n"
     ]
    }
   ],
   "source": [
    "#19-difference between the two lists\n",
    "#& method\n",
    "#subtract method\n",
    "lst1=[0, 1, 4, 9, 16, 25]\n",
    "lst2=[0, 1, 4, 9, 26, 25]\n",
    "\n",
    "lst=list(set(lst1)& set(lst2))\n",
    "#new_lst=lst1-lst2\n",
    "\n",
    "new_lst=[x for x in lst1 if x not in lst2]\n",
    "\n",
    "print(lst)\n",
    "print(new_lst)"
   ]
  },
  {
   "cell_type": "code",
   "execution_count": 13,
   "id": "5c0420d5",
   "metadata": {},
   "outputs": [
    {
     "name": "stdout",
     "output_type": "stream",
     "text": [
      "[(0, 0), (1, 1), (2, 4), (3, 9), (4, 16), (5, 25)]\n"
     ]
    }
   ],
   "source": [
    "#20-access the index of a list\n",
    "#enumerate\n",
    "#range in length\n",
    "lst=[0, 1, 4, 9, 16, 25]\n",
    "print(list(enumerate(lst,0)))"
   ]
  },
  {
   "cell_type": "code",
   "execution_count": 16,
   "id": "b0400e7d",
   "metadata": {},
   "outputs": [
    {
     "name": "stdout",
     "output_type": "stream",
     "text": [
      "<class 'str'> <class 'list'>\n"
     ]
    }
   ],
   "source": [
    "#21-convert a list of characters into a string\n",
    "#q1-is it type conversion or conversion of list to string\n",
    "\n",
    "lst=['a','s','d','f']\n",
    "new_lst=str(lst)\n",
    "print(type(new_lst), type(lst))"
   ]
  },
  {
   "cell_type": "code",
   "execution_count": 19,
   "id": "c78f6280",
   "metadata": {},
   "outputs": [
    {
     "name": "stdout",
     "output_type": "stream",
     "text": [
      "asdf\n"
     ]
    }
   ],
   "source": [
    "lst=['a','s','d','f']\n",
    "str1=\" \"\n",
    "for i in lst:\n",
    "    #str1=str1+i  or \n",
    "    str1=''.join(lst)\n",
    "print(str1)"
   ]
  },
  {
   "cell_type": "code",
   "execution_count": 22,
   "id": "51fb93ba",
   "metadata": {},
   "outputs": [
    {
     "name": "stdout",
     "output_type": "stream",
     "text": [
      "2\n",
      "1\n"
     ]
    }
   ],
   "source": [
    "#22-find the index of an item in a specified list\n",
    "#enumerate\n",
    "#for loop\n",
    "lst=['a','s','d','f']\n",
    "for i in range(len(lst)):\n",
    "    if lst[i]=='d':\n",
    "        print(i)  \n",
    "print(lst.index('s'))"
   ]
  },
  {
   "cell_type": "code",
   "execution_count": 28,
   "id": "a3e55615",
   "metadata": {},
   "outputs": [
    {
     "name": "stdout",
     "output_type": "stream",
     "text": [
      "[10, 20, 30, 40, 50, 60, 70, 80, 90, 100, 110, 120]\n"
     ]
    }
   ],
   "source": [
    "#23-flatten a shallow list\n",
    "#s1-use deepcopy() method--doe not flatten list just deep copied\n",
    "#s2-use 2 for loops\n",
    "#s3-use chain function\n",
    "import copy\n",
    "#s2-use 2 for loops\n",
    "lst1 = [[10, 20, 30, 40], [50, 60, 70, 80], [90, 100, 110, 120]]\n",
    "new_lst=[]\n",
    "for i in lst1:\n",
    "    for j in i:\n",
    "        new_lst.append(j)\n",
    "print(new_lst)"
   ]
  },
  {
   "cell_type": "code",
   "execution_count": 34,
   "id": "9de3a58a",
   "metadata": {},
   "outputs": [
    {
     "name": "stdout",
     "output_type": "stream",
     "text": [
      "[10, 20, 30, 40, 50, 60, 70, 80, 90, 100, 110, 120]\n"
     ]
    }
   ],
   "source": [
    "lst1 = [[10, 20, 30, 40], [50, 60, 70, 80], [90, 100, 110, 120]]\n",
    "import itertools\n",
    "#new_lst=[]\n",
    "new_lst=list(itertools.chain(*lst1))\n",
    "print(new_lst)"
   ]
  },
  {
   "cell_type": "code",
   "execution_count": 38,
   "id": "142113d4",
   "metadata": {},
   "outputs": [
    {
     "name": "stdout",
     "output_type": "stream",
     "text": [
      "[10, 20, 30, 40, 50, 60, 70, 80]\n"
     ]
    }
   ],
   "source": [
    "#24-append a list to the second list\n",
    "#s1-use of extend method\n",
    "#s2-append method\n",
    "\n",
    "lst1=[10, 20, 30, 40]\n",
    "lst2=[50, 60, 70, 80]\n",
    "lst1.extend(lst2)\n",
    "print(lst1)"
   ]
  },
  {
   "cell_type": "code",
   "execution_count": 3,
   "id": "79b2e202",
   "metadata": {},
   "outputs": [
    {
     "name": "stdout",
     "output_type": "stream",
     "text": [
      "10\n"
     ]
    }
   ],
   "source": [
    "#25-select an item randomly from a list\n",
    "#s1-random method on i\n",
    "import random\n",
    "lst=[10, 20, 30, 40]\n",
    "print(random.choice(lst))"
   ]
  },
  {
   "cell_type": "code",
   "execution_count": 6,
   "id": "217098ca",
   "metadata": {},
   "outputs": [
    {
     "name": "stdout",
     "output_type": "stream",
     "text": [
      "[10, 10, 10, 0, 0] 4\n",
      "Yes\n",
      "No\n"
     ]
    }
   ],
   "source": [
    "#26-check whether two lists are circularly identical\n",
    "#s1-by merging 2 lists\n",
    "#s2-#list slicing\n",
    "#s3-map method\n",
    "\n",
    "#s1-list slicing\n",
    "def circularly_identical(list1,list2):\n",
    "    list1.extend(list1)\n",
    "    for i in range(len(list1)):\n",
    "        if list2==list1[i:i+len(list2)]:\n",
    "           # print(list1[i:i+len(list2)],i)\n",
    "            return True\n",
    "    return False\n",
    "# driver code\n",
    "list1 = [10, 10, 0, 0, 10]\n",
    "list2 = [10, 10, 10, 0, 0]\n",
    "list3 = [1, 10, 10, 0, 0] \n",
    " \n",
    "# check for list 1 and list 2\n",
    "if(circularly_identical(list1, list2)):\n",
    "    print(\"Yes\")\n",
    "else:\n",
    "    print(\"No\")\n",
    " \n",
    "# check for list 2 and list 3\n",
    "if(circularly_identical(list2, list3)):\n",
    "    print (\"Yes\")\n",
    "else:\n",
    "    print (\"No\")   "
   ]
  },
  {
   "cell_type": "code",
   "execution_count": 9,
   "id": "7248a1f2",
   "metadata": {},
   "outputs": [
    {
     "name": "stdout",
     "output_type": "stream",
     "text": [
      "Yes\n",
      "No\n"
     ]
    }
   ],
   "source": [
    "#s1-by merging 2 lists\n",
    "def circularly_identical1(list1,list2):\n",
    "    list3=list1*2 #list3=[10, 10, 0, 0, (10,10, 10, 0, 0,) 10]\n",
    "    for x in range(0,len(list1)):\n",
    "        z=0\n",
    "        for y in range(x,x+len(list1)):#start from 2nd last item in first list until end of length of first list\n",
    "            if list2[z]==list3[y]:\n",
    "                z+=1\n",
    "            else:\n",
    "                break\n",
    "        if z==len(list1):\n",
    "            return True\n",
    "    return False\n",
    "# driver code\n",
    "list1 = [10, 10, 0, 0, 10]\n",
    "list2 = [10, 10, 10, 0, 0]\n",
    "list3 = [1, 10, 10, 0, 0] \n",
    " \n",
    "# check for list 1 and list 2\n",
    "if(circularly_identical1(list1, list2)):\n",
    "    print(\"Yes\")\n",
    "else:\n",
    "    print(\"No\")\n",
    " \n",
    "# check for list 2 and list 3\n",
    "if(circularly_identical1(list2, list3)):\n",
    "    print (\"Yes\")\n",
    "else:\n",
    "    print (\"No\")"
   ]
  },
  {
   "cell_type": "code",
   "execution_count": 13,
   "id": "684bcc78",
   "metadata": {},
   "outputs": [
    {
     "name": "stdout",
     "output_type": "stream",
     "text": [
      "Yes\n",
      "No\n"
     ]
    }
   ],
   "source": [
    "#s3-map method\n",
    "def circularly_identical2(list1,list2):\n",
    "    #print(' '.join(map(str, list2)) )\n",
    "    return(' '.join(map(str,list2)) in ' '.join(map(str, list1*2))) #checking list2 is in extended list1 or not\n",
    "# driver code\n",
    "list1 = [10, 10, 0, 0, 10]\n",
    "list2 = [10, 10, 10, 0, 0]\n",
    "list3 = [1, 10, 10, 0, 0] \n",
    " \n",
    "# check for list 1 and list 2\n",
    "if(circularly_identical2(list1, list2)):\n",
    "    print(\"Yes\")\n",
    "else:\n",
    "    print(\"No\")\n",
    "    \n",
    "# check for list 2 and list 3\n",
    "if(circularly_identical2(list2, list3)):\n",
    "    print (\"Yes\")\n",
    "else:\n",
    "    print (\"No\")"
   ]
  },
  {
   "cell_type": "code",
   "execution_count": 33,
   "id": "f9cc53b5",
   "metadata": {},
   "outputs": [
    {
     "name": "stdout",
     "output_type": "stream",
     "text": [
      "-80 10\n"
     ]
    }
   ],
   "source": [
    "#27-second smallest number in a list\n",
    "#s1-temp1= smallest number and temp2=2nd smallest and not equal to smallest\n",
    "#s2-sort list and pick 2nd item\n",
    "def second_small_num():\n",
    "    lst=[90, 120, 20, 40, 110, 60, 70, -80, 10, 100, 30, 50]\n",
    "    smallest_num=lst[0]\n",
    "    sec_smallest_num=lst[0]\n",
    "    \n",
    "    for i in lst:\n",
    "        if i < smallest_num:\n",
    "            smallest_num=i\n",
    "            #lst.remove(i)\n",
    "            \n",
    "    for j in range(len(lst)):\n",
    "       # print(lst[j])\n",
    "        if lst[j]<sec_smallest_num and lst[j]>smallest_num:\n",
    "            sec_smallest_num=lst[j]\n",
    "            #print(sec_smallest_num,j)\n",
    "    print(smallest_num,sec_smallest_num)\n",
    "second_small_num()    "
   ]
  },
  {
   "cell_type": "code",
   "execution_count": 35,
   "id": "4c029999",
   "metadata": {},
   "outputs": [
    {
     "name": "stdout",
     "output_type": "stream",
     "text": [
      "Largest element is: 120\n",
      "second largest element is: 110\n"
     ]
    }
   ],
   "source": [
    "#28-second largest number in a list\n",
    "#s1-sort and pick second but last number\n",
    "#s2-temp1= largest number and temp2=2nd largest and not equal to largest\n",
    "def second_large_num():\n",
    "    lst=[90, 120, 20, 40, 110, 60, 70, -80, 10, 100, 30, 50]\n",
    "    largest=lst[0]\n",
    "    largest2=None\n",
    "    for item in lst[1:]:\n",
    "        if item>largest:\n",
    "            largest2=largest\n",
    "            largest=item\n",
    "        elif largest2==None or largest2<item:\n",
    "            largest2=item\n",
    "    print(\"Largest element is:\", largest)\n",
    "    print(\"second largest element is:\", largest2)\n",
    "second_large_num()"
   ]
  },
  {
   "cell_type": "code",
   "execution_count": 10,
   "id": "6b8bd241",
   "metadata": {},
   "outputs": [
    {
     "name": "stdout",
     "output_type": "stream",
     "text": [
      "[110, -80]\n"
     ]
    }
   ],
   "source": [
    "#29-get unique values from a list\n",
    "#s1-count frequency and uniqs are numbers with frequency 1\n",
    "#s2-sort list and see if lst[i]==lst[i+1]\n",
    "#s3-use dictionary with key=list item and values=frequency\n",
    "def find_uniques():\n",
    "    lst=[90, 120, 120, 90, 110, 50, 70, -80, 70, 70, 50]\n",
    "    #my_dict={lst[i]:lst[i+1] for i in range(0,len(lst),2)}\n",
    "    #res_dct = {lst[i]: lst[i + 1] for i in range(0, len(lst)-1, 2)}\n",
    "   # return res_dct\n",
    "   # d1=dict(enumerate(lst))\n",
    "    res=[]\n",
    "    \n",
    "    for i in lst:\n",
    "        count=0\n",
    "        for j in lst:\n",
    "            if i==j:\n",
    "                count+=1\n",
    "        if count==1:\n",
    "            res.append(i)\n",
    "    print(res)\n",
    "    \n",
    "find_uniques()  \n"
   ]
  },
  {
   "cell_type": "code",
   "execution_count": 15,
   "id": "861b09e6",
   "metadata": {},
   "outputs": [
    {
     "name": "stdout",
     "output_type": "stream",
     "text": [
      "90:2\n",
      "120:2\n",
      "110:1\n",
      "50:2\n",
      "70:3\n",
      "-80:1\n",
      "{90: 2, 120: 2, 110: 1, 50: 2, 70: 3, -80: 1}\n"
     ]
    }
   ],
   "source": [
    "#30-Python program to get the frequency of the elements in a list\n",
    "#s1-count method\n",
    "#s2-2 for loops\n",
    "#s3-dictionary method\n",
    "def freq_cnt():\n",
    "    lst=[90, 120, 120, 90, 110, 50, 70, -80, 70, 70, 50]\n",
    "    res={}\n",
    "    \n",
    "    for i in lst:\n",
    "        if (i in res):\n",
    "            res[i]+=1\n",
    "        else:\n",
    "            res[i]=1\n",
    "            \n",
    "    for key,value in res.items():\n",
    "        print(\"%d:%d\"%(key,value))\n",
    "        \n",
    "    print(res)\n",
    "        \n",
    "freq_cnt()"
   ]
  },
  {
   "cell_type": "code",
   "execution_count": 16,
   "id": "5e3b01e5",
   "metadata": {},
   "outputs": [
    {
     "name": "stdout",
     "output_type": "stream",
     "text": [
      "original list= [90, 120, 120, 90, 110, 50, 70, -80, 70, 70, 50]\n",
      "Frequency of the elements in the List :  Counter({70: 3, 90: 2, 120: 2, 50: 2, 110: 1, -80: 1})\n"
     ]
    }
   ],
   "source": [
    "#counter method\n",
    "import collections\n",
    "my_lst=[90, 120, 120, 90, 110, 50, 70, -80, 70, 70, 50]\n",
    "print(\"original list=\",my_lst)\n",
    "ctr=collections.Counter(my_lst)\n",
    "print(\"Frequency of the elements in the List : \",ctr)"
   ]
  },
  {
   "cell_type": "code",
   "execution_count": 21,
   "id": "f38bf961",
   "metadata": {},
   "outputs": [
    {
     "data": {
      "text/plain": [
       "5"
      ]
     },
     "execution_count": 21,
     "metadata": {},
     "output_type": "execute_result"
    }
   ],
   "source": [
    "#31-count the number of elements in a list within a specified range\n",
    "def count_range_lst(lst,min,max):\n",
    "    ctr=0\n",
    "    for x in lst:\n",
    "        if min<=x<=max:\n",
    "            ctr+=1\n",
    "    return ctr\n",
    "lst=['a','b','k','d','e','b']\n",
    "count_range_lst(lst,'a','e')"
   ]
  },
  {
   "cell_type": "code",
   "execution_count": 3,
   "id": "2c0e9d5b",
   "metadata": {},
   "outputs": [
    {
     "data": {
      "text/plain": [
       "True"
      ]
     },
     "execution_count": 3,
     "metadata": {},
     "output_type": "execute_result"
    }
   ],
   "source": [
    "#32-program to check whether a list contains a sublist\n",
    "#q1-is it nested list or series of inputs given by user\n",
    "#s1-if its nested then use isinstance method\n",
    "#s2-if its input given by users then need to check sequence present in list\n",
    "#s1-\n",
    "sam_lst=[90, 120, 120, 90, 110, 50, 70, [-80, 70, 70], 50]\n",
    "any(isinstance(i,list)for i in sam_lst)"
   ]
  },
  {
   "cell_type": "code",
   "execution_count": 7,
   "id": "75c38ffb",
   "metadata": {},
   "outputs": [
    {
     "name": "stdout",
     "output_type": "stream",
     "text": [
      "Is sublist present in list ? : False\n"
     ]
    }
   ],
   "source": [
    "#s2-\n",
    "sam_lst=[90, 120, 90, 110, 50, 70, -80]\n",
    "sub_lst=[90,110,520]\n",
    "res=False\n",
    "for i in range(len(sam_lst)-len(sub_lst)+1):\n",
    "    if sam_lst[i:i+len(sub_lst)]==sub_lst:\n",
    "        res=True\n",
    "        break\n",
    "print(\"Is sublist present in list ? : \" + str(res))"
   ]
  },
  {
   "cell_type": "code",
   "execution_count": 11,
   "id": "b24c0a6b",
   "metadata": {},
   "outputs": [
    {
     "name": "stdout",
     "output_type": "stream",
     "text": [
      "Is sublist present in list ? : True\n"
     ]
    }
   ],
   "source": [
    "#s3-list slicing\n",
    "sam_lst=[90, 120, 90, 110, 50, 70, -80]\n",
    "sub_lst=[90,110,50]\n",
    "res=any(sam_lst[i:i+len(sub_lst)]==sub_lst\n",
    "       for i in range(len(sam_lst)-len(sub_lst)+1))\n",
    "print(\"Is sublist present in list ? : \" + str(res))"
   ]
  },
  {
   "cell_type": "code",
   "execution_count": 35,
   "id": "01ca801d",
   "metadata": {},
   "outputs": [
    {
     "name": "stdout",
     "output_type": "stream",
     "text": [
      "[1]\n",
      "[1, 2]\n",
      "[1, 2, 3]\n",
      "[2]\n",
      "[2, 3]\n",
      "[3]\n"
     ]
    }
   ],
   "source": [
    "#33-generate all sublists of a list\n",
    "#s1-permutations?-nope they dont create sublist. its just permutation of numbers\n",
    "#s2-2 for loops\n",
    "#s3-combinations\n",
    "\n",
    "#Input  :list = [1, 2, 3] \n",
    "#Output :[[], [1], [1, 2], [1, 2, 3], [2], [2, 3], [3]]\n",
    "\n",
    "#s2\n",
    "lst = [1, 2, 3]\n",
    "res_lst=[]\n",
    "counter=0\n",
    "counter2=0\n",
    "\n",
    "while counter!=len(lst):\n",
    "    counter2=counter\n",
    "    res_lst=[]\n",
    "    while counter2!=len(lst):\n",
    "        res_lst.append(lst[counter2])\n",
    "        counter2+=1\n",
    "        print(res_lst)\n",
    "    counter+=1"
   ]
  },
  {
   "cell_type": "code",
   "execution_count": 40,
   "id": "6d472852",
   "metadata": {},
   "outputs": [
    {
     "name": "stdout",
     "output_type": "stream",
     "text": [
      "[[], [1], [1, 2], [2], [1, 2, 3], [2, 3], [3], [1, 2, 3, 4], [2, 3, 4], [3, 4], [4]]\n"
     ]
    }
   ],
   "source": [
    "def sub_lists(l):\n",
    "    lists=[[]]\n",
    "    for i in range(len(l)+1):\n",
    "        for j in range(i):\n",
    "            lists.append(l[j:i])\n",
    "    return lists\n",
    "l1=[1,2,3,4]\n",
    "print(sub_lists(l1))"
   ]
  },
  {
   "cell_type": "code",
   "execution_count": 41,
   "id": "267ab9e7",
   "metadata": {},
   "outputs": [
    {
     "data": {
      "text/plain": [
       "[[],\n",
       " [10],\n",
       " [20],\n",
       " [30],\n",
       " [40],\n",
       " [10, 20],\n",
       " [10, 30],\n",
       " [10, 40],\n",
       " [20, 30],\n",
       " [20, 40],\n",
       " [30, 40],\n",
       " [10, 20, 30],\n",
       " [10, 20, 40],\n",
       " [10, 30, 40],\n",
       " [20, 30, 40],\n",
       " [10, 20, 30, 40]]"
      ]
     },
     "execution_count": 41,
     "metadata": {},
     "output_type": "execute_result"
    }
   ],
   "source": [
    "from itertools import combinations\n",
    "def sub_lists(my_list):\n",
    "    subs=[]\n",
    "    for i in range(0,len(my_list)+1):\n",
    "        temp=[list(x) for x in combinations(my_list,i)]\n",
    "        #print(temp)\n",
    "        if len(temp)>0:\n",
    "            subs.extend(temp)\n",
    "    return subs\n",
    "l1 = [10, 20, 30, 40]\n",
    "sub_lists(l1)"
   ]
  },
  {
   "cell_type": "code",
   "execution_count": 50,
   "id": "b8cb82b0",
   "metadata": {},
   "outputs": [
    {
     "name": "stdout",
     "output_type": "stream",
     "text": [
      "2\n",
      "3\n",
      "5\n",
      "7\n",
      "11\n",
      "13\n",
      "17\n",
      "19\n",
      "23\n",
      "29\n"
     ]
    }
   ],
   "source": [
    "#34- Sieve of Eratosthenes method for computing primes upto a specified number\n",
    "def SieveOfEratosthenes(num):\n",
    "    prime=[True for i in range(num+1)]\n",
    "    #boolean array\n",
    "    p=2\n",
    "    while(p*p<=num):\n",
    "        if (prime[p]==True):\n",
    "            for i in range(p*p,num+1,p): #start=4. stop=31,step=2\n",
    "                #print(\"prime[i]=\",i,p)\n",
    "                prime[i]=False\n",
    "        p+=1\n",
    "    for p in range(2,num+1):\n",
    "        if prime[p]:\n",
    "            print(p)\n",
    "SieveOfEratosthenes(30)"
   ]
  },
  {
   "cell_type": "code",
   "execution_count": 77,
   "id": "9ff2ff43",
   "metadata": {},
   "outputs": [
    {
     "name": "stdout",
     "output_type": "stream",
     "text": [
      "['p1', 'q1', 'p2', 'q2', 'p3', 'q3', 'p4', 'q4', 'p5', 'q5']\n"
     ]
    }
   ],
   "source": [
    "#35-create a list by concatenating a given list which range goes from 1 to n.\n",
    "#Sample list : ['p', 'q'] and n =5\n",
    "#Sample Output : ['p1', 'q1', 'p2', 'q2', 'p3', 'q3', 'p4', 'q4', 'p5', 'q5']\n",
    "#s1-for loop from 0-n and concat i to lst[i]\n",
    "\n",
    "def concat_lst():\n",
    "    lst=['p', 'q']\n",
    "    n=5\n",
    "    res_lst=[]\n",
    "    for i in range(1,n+1):\n",
    "        #print(n)\n",
    "        for j in lst:\n",
    "            #print(i)\n",
    "            res_lst.append(j+(str(i)))\n",
    "    print(res_lst)\n",
    "    \n",
    "concat_lst()\n",
    "    "
   ]
  },
  {
   "cell_type": "code",
   "execution_count": 79,
   "id": "785d74fd",
   "metadata": {},
   "outputs": [
    {
     "name": "stdout",
     "output_type": "stream",
     "text": [
      "['p1', 'q1', 'p2', 'q2', 'p3', 'q3', 'p4', 'q4']\n"
     ]
    }
   ],
   "source": [
    "#s2-using format method\n",
    "lst=['p','q']\n",
    "n=4\n",
    "new_lst=['{}{}'.format(x,y) for y in range(1,n+1) for x in lst]\n",
    "print(new_lst)"
   ]
  },
  {
   "cell_type": "code",
   "execution_count": 15,
   "id": "9eaf4f73",
   "metadata": {},
   "outputs": [
    {
     "name": "stdout",
     "output_type": "stream",
     "text": [
      "0x201af6d6a50\n",
      "2206263230576\n"
     ]
    }
   ],
   "source": [
    "#36-Python program to get variable unique identification number or string\n",
    "#q1-is alphanumeric consider as string?\n",
    "\n",
    "#s1-auto increament as number\n",
    "#s2-combination of alphabet and number\n",
    "\n",
    "#s1-\n",
    "a='c'\n",
    "print(hex(id(10)))\n",
    "print(format(id(a),'d'))  "
   ]
  },
  {
   "cell_type": "code",
   "execution_count": 27,
   "id": "9fde6b4e",
   "metadata": {},
   "outputs": [
    {
     "name": "stdout",
     "output_type": "stream",
     "text": [
      "[4, 2, 1, 88, 21, 7]\n"
     ]
    }
   ],
   "source": [
    "#37-common items from two lists\n",
    "#s1-in method with for loop\n",
    "#s2-& with set\n",
    "#s3-intersection\n",
    "#s1-\n",
    "lst1=[4,2,1,6,7,21,51,88]\n",
    "lst2=[5,4,2,1,88,21,99,0,100,7]\n",
    "lst=[]\n",
    "for i in lst2:  #i for i in lst1 if i in lst2\n",
    "    if i in lst1:\n",
    "        lst.append(i)\n",
    "print(lst)"
   ]
  },
  {
   "cell_type": "code",
   "execution_count": 28,
   "id": "25155d24",
   "metadata": {},
   "outputs": [
    {
     "name": "stdout",
     "output_type": "stream",
     "text": [
      "{1, 2, 4, 7, 21, 88}\n"
     ]
    }
   ],
   "source": [
    "lst1=[4,2,1,6,7,21,51,88]\n",
    "lst2=[5,4,2,1,88,21,99,0,100,7]\n",
    "print(set(lst1) & set(lst2))"
   ]
  },
  {
   "cell_type": "code",
   "execution_count": 50,
   "id": "865f0b49",
   "metadata": {},
   "outputs": [
    {
     "name": "stdout",
     "output_type": "stream",
     "text": [
      "[1, 0, 3, 2, 5, 4]\n"
     ]
    }
   ],
   "source": [
    "#38-Python program to change the position of every n-th value with the (n+1)th in a list.\n",
    "#Sample list: [0,1,2,3,4,5]\n",
    "#Expected Output: [1, 0, 3, 2, 5, 4]\n",
    "\n",
    "#q1-what if value is higher position than n+1 already does it move back\n",
    "#q2-what if number's resu;ted location is out of range\n",
    "#q3-after shuffling few numbers could be out of place i.e. not at (n+1) position\n",
    "#q4-what if I have two or more identical numbers\n",
    "\n",
    "#s1-for loops with swapping\n",
    "def pos_chnage():\n",
    "    lst1=[0,1,2,3,4,5]\n",
    "    lst=[]\n",
    "    for i in range(len(lst1)-1):    \n",
    "       # print(lst[i],i)\n",
    "        if lst1[i]==i:\n",
    "            temp=lst1[i]\n",
    "            lst1[i]=lst1[i+1]\n",
    "            lst1[i+1]=temp\n",
    "            lst.append(lst1[i])\n",
    "            lst.append(lst1[i+1])\n",
    "    print(lst)\n",
    "pos_chnage()"
   ]
  },
  {
   "cell_type": "code",
   "execution_count": 48,
   "id": "3dfde754",
   "metadata": {},
   "outputs": [
    {
     "data": {
      "text/plain": [
       "[1, 0, 3, 2, 5, 40]"
      ]
     },
     "execution_count": 48,
     "metadata": {},
     "output_type": "execute_result"
    }
   ],
   "source": [
    "#s2-itertools tee method\n",
    "from itertools import zip_longest,chain,tee\n",
    "def replace_copy(lst):\n",
    "    lst1,lst2=tee(iter(lst),2)\n",
    "    return list(chain.from_iterable(zip_longest(lst[1::2],lst[::2])))\n",
    "n=[0,1,2,3,40,5]\n",
    "replace_copy(n)"
   ]
  },
  {
   "cell_type": "code",
   "execution_count": 4,
   "id": "b50c5671",
   "metadata": {},
   "outputs": [
    {
     "name": "stdout",
     "output_type": "stream",
     "text": [
      " 113350\n"
     ]
    }
   ],
   "source": [
    "#39-program to convert a list of multiple integers into a single integer\n",
    "#Sample list: [11, 33, 50]\n",
    "#Expected Output: 113350\n",
    "#s1-+operator\n",
    "#s2-concat\n",
    "#s3-join method\n",
    "\n",
    "def list_conv():\n",
    "    num=' '\n",
    "    lst=[11, 33, 50]\n",
    "    for i in lst:\n",
    "        num=num+str(i)\n",
    "    print(num)\n",
    "list_conv()"
   ]
  },
  {
   "cell_type": "code",
   "execution_count": 5,
   "id": "0283f79d",
   "metadata": {},
   "outputs": [
    {
     "name": "stdout",
     "output_type": "stream",
     "text": [
      "113350\n"
     ]
    }
   ],
   "source": [
    "#3-join method\n",
    "lst=[11, 33, 50]\n",
    "x=\"\".join(map(str,lst))\n",
    "print(x)"
   ]
  },
  {
   "cell_type": "code",
   "execution_count": 9,
   "id": "e4851b4d",
   "metadata": {},
   "outputs": [
    {
     "name": "stdout",
     "output_type": "stream",
     "text": [
      "{'b': ['be'], 'h': ['have'], 'd': ['do'], 's': ['say', 'see', 'seem'], 'g': ['get', 'go', 'give'], 'm': ['make'], 'k': ['know'], 't': ['take', 'think', 'tell'], 'c': ['come', 'call'], 'l': ['look', 'leave'], 'w': ['want', 'work'], 'u': ['use'], 'f': ['find', 'feel'], 'a': ['ask']}\n"
     ]
    }
   ],
   "source": [
    "#40-split a list based on first character of word\n",
    "#check what is the first letter and move the word to resulted list\n",
    "#l1-strings are iterable themselves\n",
    "#S1-create dictionaries with keys as first char and append the words if match found\n",
    "#s2-itemgettor and groupby import\n",
    "\n",
    "def list_split():\n",
    "    dictionary=dict()\n",
    "    word_list = ['be','have','do','say','get','make','go','know','take','see','come','think',\n",
    "     'look','want','give','use','find','tell','ask','work','seem','feel','leave','call']\n",
    "    for i in word_list:\n",
    "        f=i[0]\n",
    "        if f in dictionary.keys():\n",
    "            dictionary[f].append(i)\n",
    "        else:\n",
    "            dictionary[f]=[i]\n",
    "    return dictionary\n",
    "print(list_split())"
   ]
  },
  {
   "cell_type": "code",
   "execution_count": 13,
   "id": "4760ffb0",
   "metadata": {},
   "outputs": [
    {
     "name": "stdout",
     "output_type": "stream",
     "text": [
      "b\n",
      "be\n",
      "c\n",
      "come\n",
      "d\n",
      "do\n",
      "g\n",
      "get\n",
      "go\n",
      "h\n",
      "have\n",
      "k\n",
      "know\n",
      "m\n",
      "make\n",
      "s\n",
      "say\n",
      "see\n",
      "t\n",
      "take\n",
      "think\n"
     ]
    }
   ],
   "source": [
    "#s2-itemgettor and groupby import\n",
    "from itertools import groupby\n",
    "from operator import itemgetter\n",
    "\n",
    "word_list = ['be','have','do','say','get','make','go','know','take','see','come','think']\n",
    "\n",
    "for letter, words in groupby (sorted(word_list),key=itemgetter(0)):\n",
    "    print (letter)\n",
    "    for word in words:\n",
    "        print (word)    "
   ]
  },
  {
   "cell_type": "code",
   "execution_count": 16,
   "id": "d47053fd",
   "metadata": {},
   "outputs": [
    {
     "name": "stdout",
     "output_type": "stream",
     "text": [
      "{'0': [], '1': [], '2': [], '3': [], '4': [], '5': [], '6': [], '7': [], '8': [], '9': []}\n"
     ]
    }
   ],
   "source": [
    "#41-program to create multiple lists\n",
    "objectiv={}\n",
    "for i in range(10):\n",
    "    objectiv[str(i)]=[]\n",
    "print(objectiv)"
   ]
  },
  {
   "cell_type": "code",
   "execution_count": 19,
   "id": "06e70f08",
   "metadata": {},
   "outputs": [
    {
     "name": "stdout",
     "output_type": "stream",
     "text": [
      "['a', 'b', 'c'] []\n"
     ]
    }
   ],
   "source": [
    "#42-find missing and additional values in two lists\n",
    "#Sample data : Missing values in second list: b,a,c\n",
    "#Additional values in second list: g,h\n",
    "list1 = ['a','b','c','d','e','f']\n",
    "list2 = ['d','e','f','g','h']\n",
    "missing=[]\n",
    "additional=[]\n",
    "for i in list1:\n",
    "    if i not in list2:\n",
    "        missing.append(i)\n",
    "    if i not in list1:#did not work as we are tracing list 1 not list2 with for loop\n",
    "        additional.append(i)\n",
    "print(missing,additional)"
   ]
  },
  {
   "cell_type": "code",
   "execution_count": 21,
   "id": "d1a30131",
   "metadata": {},
   "outputs": [
    {
     "name": "stdout",
     "output_type": "stream",
     "text": [
      "missing values in second list:  {'a', 'c', 'b'}\n",
      "missing values in second list:  {'h', 'g'}\n"
     ]
    }
   ],
   "source": [
    "#difference method\n",
    "list1 = ['a','b','c','d','e','f']\n",
    "list2 = ['d','e','f','g','h']\n",
    "print('missing values in second list: ', set(list1).difference(set(list2)))\n",
    "print('missing values in second list: ', set(list2).difference(set(list1)))"
   ]
  },
  {
   "cell_type": "code",
   "execution_count": 27,
   "id": "352a8c2d",
   "metadata": {},
   "outputs": [
    {
     "name": "stdout",
     "output_type": "stream",
     "text": [
      "5\n"
     ]
    }
   ],
   "source": [
    "#43-program to split a list into different variables\n",
    "#q1-what is the base condition to assign value to variable?\n",
    "#q2-new list would be the part of original lists or two separate lists\n",
    "#s1-create two empty lists and apeend values based on condition--Not expected\n",
    "#s2-if they are nested list/child lists of original list then append two sublists inside and cut paste the values to sublists\n",
    "#--not expected\n",
    "\n",
    "#expected outcome\n",
    "lst=[5,4,2]\n",
    "var1,var2,var3=lst\n",
    "print(var1)"
   ]
  },
  {
   "cell_type": "code",
   "execution_count": 49,
   "id": "a795453e",
   "metadata": {},
   "outputs": [
    {
     "data": {
      "text/plain": [
       "[[1, 2, 3, 4, 5, 6, 7, 8, 9, 10],\n",
       " [11, 12, 13, 14, 15, 16, 17, 18, 19, 20],\n",
       " [21, 22, 23, 24, 25, 26, 27, 28, 29, 30],\n",
       " [31, 32, 33, 34, 35, 36, 37, 38, 39, 40],\n",
       " [41, 42, 43, 44, 45, 46, 47, 48, 49, 50],\n",
       " [51, 52, 53, 54, 55, 56, 57, 58, 59, 60],\n",
       " [61, 62, 63, 64, 65, 66, 67, 68, 69, 70],\n",
       " [71, 72, 73, 74, 75, 76, 77, 78, 79, 80],\n",
       " [81, 82, 83, 84, 85, 86, 87, 88, 89, 90],\n",
       " [91, 92, 93, 94, 95, 96, 97, 98, 99, 100]]"
      ]
     },
     "execution_count": 49,
     "metadata": {},
     "output_type": "execute_result"
    }
   ],
   "source": [
    "#44-generate groups of five consecutive numbers in a list\n",
    "#q1-what will be outcomel list or just printed numbers?\n",
    "#q2-what if I foud 2 different groups having few but not all numbers in common?\n",
    "\n",
    "#s1-sort list and look for consecutive numbers --complexity will go up due to 2 for loops\n",
    "#s2-list comprehension\n",
    "#s3-grouper method\n",
    "[[10*i + j for j in range(1,11)] for i in range(10)]"
   ]
  },
  {
   "cell_type": "code",
   "execution_count": 51,
   "id": "54c9e144",
   "metadata": {},
   "outputs": [
    {
     "name": "stdout",
     "output_type": "stream",
     "text": [
      "[(1, 2, 3, 4, 5, 6, 7, 8, 9, 10), (11, 12, 13, 14, 15, 16, 17, 18, 19, 20), (21, 22, 23, 24, 25, 26, 27, 28, 29, 30), (31, 32, 33, 34, 35, 36, 37, 38, 39, 40), (41, 42, 43, 44, 45, 46, 47, 48, 49, 50), (51, 52, 53, 54, 55, 56, 57, 58, 59, 60), (61, 62, 63, 64, 65, 66, 67, 68, 69, 70), (71, 72, 73, 74, 75, 76, 77, 78, 79, 80), (81, 82, 83, 84, 85, 86, 87, 88, 89, 90), (91, 92, 93, 94, 95, 96, 97, 98, 99, 100)]\n"
     ]
    }
   ],
   "source": [
    "def grouper(iterable,n):\n",
    "    return zip(*[iter(iterable)]*n)#used * cause we dont know exact number of srgument passed\n",
    "full_range=range(1,101)  #we could use range without for loop\n",
    "grouped_list=list(grouper(full_range,10))\n",
    "print(grouped_list)"
   ]
  },
  {
   "cell_type": "code",
   "execution_count": 56,
   "id": "b5b0281e",
   "metadata": {},
   "outputs": [
    {
     "name": "stdout",
     "output_type": "stream",
     "text": [
      "Original List:  [(1, 2), (3, 4), (1, 2), (5, 6), (7, 8), (1, 2), (3, 4), (3, 4), (7, 8), (9, 10)]\n",
      "Sorted Unique Data: {1, 2, 3, 4, 5, 6, 7, 8, 9, 10}\n"
     ]
    }
   ],
   "source": [
    "#Date-6/23/2022\n",
    "#45-Python program to convert a pair of values into a sorted unique array.\n",
    "#s1-convert list to set\n",
    "L = [(1, 2), (3, 4), (1, 2), (5, 6), (7, 8), (1, 2), (3, 4), (3, 4),\n",
    " (7, 8), (9, 10)]\n",
    "print(\"Original List: \", L)\n",
    "print(\"Sorted Unique Data:\",(set().union(*L)))"
   ]
  },
  {
   "cell_type": "code",
   "execution_count": 57,
   "id": "e5252a3d",
   "metadata": {},
   "outputs": [
    {
     "data": {
      "text/plain": [
       "[True, False, True, False, True, False, True, False, True, False]"
      ]
     },
     "execution_count": 57,
     "metadata": {},
     "output_type": "execute_result"
    }
   ],
   "source": [
    "#46-Python program to select the odd items of a list\n",
    "l=[1, 2, 3, 4, 5, 6, 7, 8, 9, 10]\n",
    "[i%2==1 for i in l]"
   ]
  },
  {
   "cell_type": "code",
   "execution_count": 67,
   "id": "2a3240ae",
   "metadata": {},
   "outputs": [
    {
     "name": "stdout",
     "output_type": "stream",
     "text": [
      "['c', 'Green', 'c', 'Red', 'c', 'Blue']\n"
     ]
    }
   ],
   "source": [
    "#46-program to insert an element before each element of a list\n",
    "#input-[\"Green\",\"Red\",\"Blue\"] and var='c'\n",
    "#output-['c',\"Green\",'c',\"Red\",'c',\"Blue\"]\n",
    "\n",
    "#s1-insert character at every even position\n",
    "lst=[\"Green\",\"Red\",\"Blue\"]\n",
    "var='c'\n",
    "lst=[v for i in lst for v in (var,i)] #inserted tuple \n",
    "print(lst)"
   ]
  },
  {
   "cell_type": "code",
   "execution_count": 76,
   "id": "52f9fbd8",
   "metadata": {},
   "outputs": [
    {
     "name": "stdout",
     "output_type": "stream",
     "text": [
      "['c', 'Green', 'c', 'Red', 'c', 'Blue']\n"
     ]
    }
   ],
   "source": [
    "lst=[\"Green\",\"Red\",\"Blue\"]\n",
    "var='c'\n",
    "for i in range(len(lst)*2):\n",
    "    if i%2==0:\n",
    "        lst.insert(i,var)\n",
    "print(lst)"
   ]
  },
  {
   "cell_type": "code",
   "execution_count": 85,
   "id": "1b0fcff9",
   "metadata": {},
   "outputs": [
    {
     "name": "stdout",
     "output_type": "stream",
     "text": [
      "[[]]\n",
      "[[]]\n",
      "[[]]\n",
      "[[]]\n",
      "[[]]\n"
     ]
    }
   ],
   "source": [
    "#48-Python program to print a nested lists (each list on a new line) using the print() function\n",
    "#q1-are they empty lists? or has contents\n",
    "\n",
    "l=[]\n",
    "for i in range(5):\n",
    "     print([l])"
   ]
  },
  {
   "cell_type": "code",
   "execution_count": 3,
   "id": "15c8a4a7",
   "metadata": {},
   "outputs": [
    {
     "name": "stdout",
     "output_type": "stream",
     "text": [
      "['green']\n",
      "['Red']\n",
      "['white']\n"
     ]
    }
   ],
   "source": [
    "colors=[[\"green\"],[\"Red\"],[\"white\"]]\n",
    "print('\\n'.join(str(lst) for lst in colors))"
   ]
  },
  {
   "cell_type": "code",
   "execution_count": 10,
   "id": "7f2cd3ce",
   "metadata": {},
   "outputs": [
    {
     "name": "stdout",
     "output_type": "stream",
     "text": [
      "[{'color_name': 'Black', 'color_code': '#000000'}, {'color_name': 'Red', 'color_code': '#FF0000'}, {'color_name': 'Maroon', 'color_code': '#800000'}, {'color_name': 'Yellow', 'color_code': '#FFFF00'}]\n"
     ]
    }
   ],
   "source": [
    "#49-Python program to convert list to list of dictionaries\n",
    "#Expected Output: [{'color_name': 'Black', 'color_code': '#000000'}, \n",
    "#{'color_name': 'Red', 'color_code': '#FF0000'}, {'color_name': 'Maroon', 'color_code': '#800000'}, \n",
    "#{'color_name': 'Yellow', 'color_code': '#FFFF00'}]\n",
    "#s1-loop+dictionnary comprehension\n",
    "#s2-list and dictionary comprehension\n",
    "def lsttodict():\n",
    "    val_lst1=[\"Black\", \"Red\", \"Maroon\", \"Yellow\"]\n",
    "    val_lst2=[\"#000000\", \"#FF0000\", \"#800000\", \"#FFFF00\"]\n",
    "    key_lst=['color_name','color_code']\n",
    "    res=[]\n",
    "    \n",
    "    for i in range(len(val_lst1)):\n",
    "        res.append({key_lst[0]:val_lst1[i],key_lst[1]:val_lst2[i]})\n",
    "    print(str(res))\n",
    "lsttodict()"
   ]
  },
  {
   "cell_type": "code",
   "execution_count": 13,
   "id": "d9916203",
   "metadata": {},
   "outputs": [
    {
     "name": "stdout",
     "output_type": "stream",
     "text": [
      "[{'color_name': 'Black', 'color_code': '#000000'}, {'color_name': 'Red', 'color_code': '#FF0000'}, {'color_name': 'Maroon', 'color_code': '#800000'}, {'color_name': 'Yellow', 'color_code': '#FFFF00'}]\n"
     ]
    }
   ],
   "source": [
    "#s2-list and dictionary comprehension\n",
    "val_lst1=[\"Black\", \"Red\", \"Maroon\", \"Yellow\"]\n",
    "val_lst2=[\"#000000\", \"#FF0000\", \"#800000\", \"#FFFF00\"]\n",
    "key_lst=['color_name','color_code']\n",
    "res=[]\n",
    "\n",
    "res= [{key_lst[0]:val_lst1[i],key_lst[1]:val_lst2[i]} for i in range(len(val_lst1))]\n",
    "print(str(res))"
   ]
  },
  {
   "cell_type": "code",
   "execution_count": 25,
   "id": "86443e44",
   "metadata": {},
   "outputs": [
    {
     "name": "stdout",
     "output_type": "stream",
     "text": [
      "OrderedDict([('Akash', {'roll': 12, 'marks': 15}), ('Nikhil', {'roll': 24, 'marks': 17}), ('Akshat', {'roll': 54, 'marks': 12})]) [('Akash', {'roll': 12, 'marks': 15}), ('Nikhil', {'roll': 24, 'marks': 17}), ('Akshat', {'roll': 54, 'marks': 12})]\n"
     ]
    }
   ],
   "source": [
    "#50-sort a list of nested dictionaries\n",
    "#s1-ordereddict()+sorted() method\n",
    "#s2-sorted\n",
    "from collections import OrderedDict\n",
    "from operator import getitem\n",
    "test_dict={'Nikhil':{'roll':24,'marks':17},\n",
    "          'Akshat':{'roll':54,'marks':12},\n",
    "          'Akash':{'roll':12,'marks':15}}\n",
    "res=OrderedDict(sorted(test_dict.items(),key=lambda x:getitem(x[1],'roll')))\n",
    "res1=(sorted(test_dict.items(),key=lambda x:getitem(x[1],'roll')))\n",
    "print(res,res1)"
   ]
  },
  {
   "cell_type": "code",
   "execution_count": 26,
   "id": "75576301",
   "metadata": {},
   "outputs": [
    {
     "name": "stdout",
     "output_type": "stream",
     "text": [
      "Original List: \n",
      "[{'key': {'subkey': 1}}, {'key': {'subkey': 10}}, {'key': {'subkey': 5}}]\n",
      "Sorted List: \n",
      "[{'key': {'subkey': 10}}, {'key': {'subkey': 5}}, {'key': {'subkey': 1}}]\n"
     ]
    }
   ],
   "source": [
    "my_list = [{'key': {'subkey': 1}}, {'key': {'subkey': 10}}, {'key': {'subkey': 5}}]\n",
    "print(\"Original List: \")\n",
    "print(my_list)\n",
    "my_list.sort(key=lambda e: e['key']['subkey'], reverse=True)\n",
    "print(\"Sorted List: \")\n",
    "print(my_list)"
   ]
  },
  {
   "cell_type": "code",
   "execution_count": 5,
   "id": "ade21ed0",
   "metadata": {},
   "outputs": [
    {
     "name": "stdout",
     "output_type": "stream",
     "text": [
      "[['a', 'd', 'g', 'j', 'm'], ['b', 'e', 'h', 'k', 'n'], ['c', 'f', 'i', 'l']]\n"
     ]
    }
   ],
   "source": [
    "#Date-6/24/22\n",
    "#51-Python program to split a list every Nth element\n",
    "#input-['a', 'b', 'c', 'd', 'e', 'f', 'g', 'h', 'i', 'j', 'k', 'l', 'm', 'n']\n",
    "#output-[['a', 'd', 'g', 'j', 'm'], ['b', 'e', 'h', 'k', 'n'], ['c', 'f', 'i', 'l']]\n",
    "\n",
    "#s1-for loop with len%n==0 logic\n",
    "#s2-lst.append[::n]\n",
    "def lstSplit():\n",
    "    lst=['a', 'b', 'c', 'd', 'e', 'f', 'g', 'h', 'i', 'j', 'k', 'l', 'm', 'n']\n",
    "    n=3\n",
    "    return [lst[i::3] for i in range(3)]\n",
    "print(lstSplit())"
   ]
  },
  {
   "cell_type": "code",
   "execution_count": 8,
   "id": "f28c5908",
   "metadata": {},
   "outputs": [
    {
     "name": "stdout",
     "output_type": "stream",
     "text": [
      "{'orange', 'white', 'red'} {'yellow', 'black'}\n"
     ]
    }
   ],
   "source": [
    "#52-compute the difference between two lists\n",
    "#s1-in operator\n",
    "#s2-difference method \n",
    "#s3-counter method\n",
    "def lstDiffer():\n",
    "    lst1= [\"red\", \"orange\", \"green\", \"blue\", \"white\"]\n",
    "    lst2=[\"black\", \"yellow\", \"green\", \"blue\"]\n",
    "    lst1_lst2=set(lst1).difference(set(lst2))\n",
    "    lst2_lst1=set(lst2).difference(set(lst1))\n",
    "    print(lst1_lst2, lst2_lst1)\n",
    "lstDiffer()"
   ]
  },
  {
   "cell_type": "code",
   "execution_count": 10,
   "id": "ff79b64a",
   "metadata": {},
   "outputs": [
    {
     "name": "stdout",
     "output_type": "stream",
     "text": [
      "color1-color2= ['red', 'orange', 'white']\n",
      "color2-color1= ['black', 'yellow']\n"
     ]
    }
   ],
   "source": [
    "#s3-counnter method\n",
    "from collections import Counter\n",
    "color1=[\"red\", \"orange\", \"green\", \"blue\", \"white\"]\n",
    "color2=[\"black\", \"yellow\", \"green\", \"blue\"]\n",
    "counter1=Counter(color1)\n",
    "counter2=Counter(color2)\n",
    "print(\"color1-color2=\",list(counter1-counter2))\n",
    "print(\"color2-color1=\",list(counter2-counter1))"
   ]
  },
  {
   "cell_type": "code",
   "execution_count": 11,
   "id": "83cba1c4",
   "metadata": {},
   "outputs": [
    {
     "name": "stdout",
     "output_type": "stream",
     "text": [
      "0\n",
      "1\n",
      "2\n",
      "3\n",
      "4\n"
     ]
    }
   ],
   "source": [
    "#53-Python program to create a list with infinite elements.\n",
    "import itertools\n",
    "c = itertools.count()\n",
    "print(next(c))\n",
    "print(next(c))\n",
    "print(next(c))\n",
    "print(next(c))\n",
    "print(next(c))"
   ]
  },
  {
   "cell_type": "code",
   "execution_count": 22,
   "id": "3deeaf46",
   "metadata": {},
   "outputs": [
    {
     "name": "stdout",
     "output_type": "stream",
     "text": [
      " redorangegreenbluewhite\n"
     ]
    }
   ],
   "source": [
    "#54-concatenate elements of a list\n",
    "#q1-is output in list format?\n",
    "#s1-assign variables to list value and concatenate-we dont know how many element list would have in advance\n",
    "#s2-join method\n",
    "#s3-for loop\n",
    "concEle=\" \"\n",
    "lst= [\"red\", \"orange\", \"green\", \"blue\", \"white\"]\n",
    "for i in lst:\n",
    "    concEle=(concEle+i) \n",
    "    \n",
    "#concEle=(concEle+i) for i in lst\n",
    "print(concEle)"
   ]
  },
  {
   "cell_type": "code",
   "execution_count": 27,
   "id": "e5e72dfe",
   "metadata": {},
   "outputs": [
    {
     "name": "stdout",
     "output_type": "stream",
     "text": [
      "redorangegreenbluewhite\n",
      "redorangegreenbluewhite\n"
     ]
    }
   ],
   "source": [
    "#s2-join method\n",
    "lst= [\"red\", \"orange\", \"green\", \"blue\", \"white\"]\n",
    "print(''.join(map(str,lst)))  #or\n",
    "print(''.join(lst))"
   ]
  },
  {
   "cell_type": "code",
   "execution_count": 7,
   "id": "66c6f161",
   "metadata": {},
   "outputs": [
    {
     "name": "stdout",
     "output_type": "stream",
     "text": [
      "['color_name1', 'Black']\n",
      "['color_name2', 'Red']\n",
      "['color_name3', 'Maroon']\n",
      "['color_name4', 'Yellow']\n",
      "['color_name1', 'color_name2', 'color_name3', 'color_name4']\n"
     ]
    }
   ],
   "source": [
    "#55-remove key values pairs from a list of dictionaries\n",
    "#s1-tye converstion from dictionary to list\n",
    "#s2-access key and values then append to list as plain values\n",
    "lst={'color_name1': 'Black', 'color_name2': 'Red', 'color_name3': 'Maroon', 'color_name4': 'Yellow'}\n",
    "for i in (lst):\n",
    "    print([i,lst[i]])\n",
    "    \n",
    "print(list(lst))"
   ]
  },
  {
   "cell_type": "code",
   "execution_count": 54,
   "id": "0dd374ca",
   "metadata": {},
   "outputs": [
    {
     "name": "stdout",
     "output_type": "stream",
     "text": [
      "[{'key2': 'value2'}, {'key2': 'value4'}]\n"
     ]
    }
   ],
   "source": [
    "original_list = [{'key1':'value1', 'key2':'value2'}, {'key1':'value3', 'key2':'value4'}]\n",
    "new_list=[{k:v for k,v in d.items() if k!='key1'} for d in original_list]\n",
    "print(new_list)"
   ]
  },
  {
   "cell_type": "code",
   "execution_count": 55,
   "id": "3a2bd864",
   "metadata": {},
   "outputs": [
    {
     "name": "stdout",
     "output_type": "stream",
     "text": [
      "['r', 'e', 'd', 'o', 'r', 'a', 'n', 'g', 'e', 'g', 'r', 'e', 'e', 'n', 'b', 'l', 'u', 'e', 'w', 'h', 'i', 't', 'e']\n"
     ]
    }
   ],
   "source": [
    "#56-convert a string to a list\n",
    "#s1-trace string by character and append to list\n",
    "str1='redorangegreenbluewhite'\n",
    "lst=[]\n",
    "for i in str1:\n",
    "    lst.append(i)\n",
    "print(lst)"
   ]
  },
  {
   "cell_type": "code",
   "execution_count": 59,
   "id": "a3100ec1",
   "metadata": {},
   "outputs": [
    {
     "name": "stdout",
     "output_type": "stream",
     "text": [
      "('r', 'e', 'd', 'o')\n"
     ]
    }
   ],
   "source": [
    "#s2-ast method\n",
    "import ast\n",
    "str1=\"('r', 'e', 'd', 'o')\"\n",
    "print(ast.literal_eval(str1))"
   ]
  },
  {
   "cell_type": "code",
   "execution_count": 60,
   "id": "a631f3a6",
   "metadata": {},
   "outputs": [
    {
     "name": "stdout",
     "output_type": "stream",
     "text": [
      "True\n"
     ]
    }
   ],
   "source": [
    "#57-check if all items of a given list of strings is equal to a given string.\n",
    "#q1-are these items in same sequence as given string characters?\n",
    "#s1-all method\n",
    "var='green'\n",
    "lst=[\"green\", \"green\", \"green\", \"green\"]\n",
    "print(all(i==var for i in lst))"
   ]
  },
  {
   "cell_type": "code",
   "execution_count": 3,
   "id": "57ffebc4",
   "metadata": {},
   "outputs": [
    {
     "name": "stdout",
     "output_type": "stream",
     "text": [
      "[1, 3, 5, 7, 9]\n",
      "[1, 3, 5, 7, 9, 2, 4, 6, 8]\n"
     ]
    }
   ],
   "source": [
    "#58-replace the last element in a list with another list\n",
    "#input-[1, 3, 5, 7, 9, 10], [2, 4, 6, 8]\n",
    "#output-[1, 3, 5, 7, 9, 2, 4, 6, 8]\n",
    "#s1-remove last element and append elements from second list\n",
    "#s2=list slicing\n",
    "def eleRepl():\n",
    "    lst1=[1, 3, 5, 7, 9, 10]\n",
    "    lst2=[2, 4, 6, 8]\n",
    "    #for i in range(len(lst1)):\n",
    "    lst1.remove(lst1[len(lst1)-1])\n",
    "    print(lst1)\n",
    "    for i in lst2:\n",
    "        lst1.append(i)\n",
    "    print(lst1)\n",
    "eleRepl()"
   ]
  },
  {
   "cell_type": "code",
   "execution_count": 4,
   "id": "9687477f",
   "metadata": {},
   "outputs": [
    {
     "name": "stdout",
     "output_type": "stream",
     "text": [
      "[1, 3, 5, 7, 9, 2, 4, 6, 8]\n"
     ]
    }
   ],
   "source": [
    "#s2=list slicing\n",
    "lst1=[1, 3, 5, 7, 9, 10]\n",
    "lst2=[2, 4, 6, 8]\n",
    "lst1[-1:]=lst2\n",
    "print(lst1)"
   ]
  },
  {
   "cell_type": "code",
   "execution_count": 6,
   "id": "c0f3dcd2",
   "metadata": {},
   "outputs": [
    {
     "name": "stdout",
     "output_type": "stream",
     "text": [
      "nth element does not exist\n"
     ]
    }
   ],
   "source": [
    "#59-check whether the n-th element exists in a given list\n",
    "#q1-are we looking for index or actual element?\n",
    "#s1-check length of the list.  if len>n then its true otherwise false\n",
    "lst1=[1, 3, 5, 7, 9, 10]\n",
    "n=30\n",
    "if len(lst1)>n:\n",
    "    print(\"nth element exist\")\n",
    "else:\n",
    "    print(\"nth element does not exist\")"
   ]
  },
  {
   "cell_type": "code",
   "execution_count": 13,
   "id": "1b6c35ca",
   "metadata": {},
   "outputs": [
    {
     "name": "stdout",
     "output_type": "stream",
     "text": [
      "(6, 0)\n"
     ]
    }
   ],
   "source": [
    "#60-Python program to find a tuple, the smallest second index value from a list of tuples\n",
    "x=[(4, 1), (1, 2), (6, 0)]\n",
    "print(min(x,key=lambda n:(-n[0])))"
   ]
  },
  {
   "cell_type": "code",
   "execution_count": 15,
   "id": "72ebf394",
   "metadata": {},
   "outputs": [
    {
     "name": "stdout",
     "output_type": "stream",
     "text": [
      "[{}, {}, {}, {}, {}, {}, {}, {}, {}, {}]\n"
     ]
    }
   ],
   "source": [
    "#61-Python program to create a list of empty dictionaries\n",
    "dct={}\n",
    "lst=[]\n",
    "for i in range(10):\n",
    "    lst.append(dct)\n",
    "print(lst)"
   ]
  },
  {
   "cell_type": "code",
   "execution_count": 16,
   "id": "bd6ed2b6",
   "metadata": {},
   "outputs": [
    {
     "name": "stdout",
     "output_type": "stream",
     "text": [
      "[{}, {}, {}, {}, {}]\n"
     ]
    }
   ],
   "source": [
    "#list comprehension\n",
    "n=5\n",
    "l=[{} for _ in range(n)]\n",
    "print(l)"
   ]
  },
  {
   "cell_type": "code",
   "execution_count": 17,
   "id": "d5483a8c",
   "metadata": {},
   "outputs": [
    {
     "name": "stdout",
     "output_type": "stream",
     "text": [
      "1 2 3 4 5\n"
     ]
    }
   ],
   "source": [
    "#62-print a list of space-separated elements\n",
    "#s1-join method replacing with spaces\n",
    "#s2-concat all elements with space and insert to a list as single element\n",
    "num=[1,2,3,4,5]\n",
    "print(*num)"
   ]
  },
  {
   "cell_type": "code",
   "execution_count": null,
   "id": "3ca1f4c0",
   "metadata": {},
   "outputs": [],
   "source": [
    "num=[1,2,3,4,5]\n",
    "val1=num[0]\n",
    "val2=num[1]\n",
    "print(val1, val2)"
   ]
  },
  {
   "cell_type": "code",
   "execution_count": null,
   "id": "49dda9dd",
   "metadata": {},
   "outputs": [],
   "source": [
    "#63- insert a given string at the beginning of all items in a list\n",
    "#input-Sample list : [1,2,3,4], string : emp\n",
    "#output-['emp1', 'emp2', 'emp3', 'emp4']\n",
    "def lstReplStr():\n",
    "    lst=[1,2,3,4]\n",
    "    str1='emp'\n",
    "    str2=''\n",
    "    for i in lst:\n",
    "        str2=str1+(str(i))\n",
    "        print(str2)\n",
    "        lst.append(str1)\n",
    "    print(lst)\n",
    "print('n')\n",
    "lstReplStr()"
   ]
  },
  {
   "cell_type": "code",
   "execution_count": null,
   "id": "75ea80ec",
   "metadata": {},
   "outputs": [],
   "source": []
  },
  {
   "cell_type": "code",
   "execution_count": null,
   "id": "4df34cc4",
   "metadata": {},
   "outputs": [],
   "source": []
  }
 ],
 "metadata": {
  "kernelspec": {
   "display_name": "Python 3 (ipykernel)",
   "language": "python",
   "name": "python3"
  },
  "language_info": {
   "codemirror_mode": {
    "name": "ipython",
    "version": 3
   },
   "file_extension": ".py",
   "mimetype": "text/x-python",
   "name": "python",
   "nbconvert_exporter": "python",
   "pygments_lexer": "ipython3",
   "version": "3.9.7"
  }
 },
 "nbformat": 4,
 "nbformat_minor": 5
}
