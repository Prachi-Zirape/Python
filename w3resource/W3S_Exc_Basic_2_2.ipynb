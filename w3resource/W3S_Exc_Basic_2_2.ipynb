{
 "cells": [
  {
   "cell_type": "code",
   "execution_count": 20,
   "id": "0a70c9f7",
   "metadata": {},
   "outputs": [
    {
     "name": "stdout",
     "output_type": "stream",
     "text": [
      "2\n"
     ]
    }
   ],
   "source": [
    "#20 find the number of zeros at the end of a factorial of a given positive number.\n",
    "#solution-1: divide by 10 and get reminder and count 0s \n",
    "#solution-2: convert to string and count ascii values of 0s from rear end\n",
    "\n",
    "def factorial(n):\n",
    "    result = 1\n",
    "    while n >= 1:\n",
    "        result = result * n\n",
    "        n = n - 1\n",
    "    return result\n",
    "\n",
    "#print(factorial(5))\n",
    "\n",
    "def countZeros(num):\n",
    "    result_rem=0\n",
    "    count=0    \n",
    "    while result_rem==0:           \n",
    "        result_rem=num%10  \n",
    "       # print(\"result_rem=\",result_rem)\n",
    "        if result_rem==0:\n",
    "            count+=1\n",
    "       # print(\"count=\",count)\n",
    "        num=num/10\n",
    "    return count\n",
    "\n",
    "num=factorial(10)\n",
    "print(countZeros(num))"
   ]
  },
  {
   "cell_type": "code",
   "execution_count": 20,
   "id": "50c33e3b",
   "metadata": {},
   "outputs": [
    {
     "name": "stdout",
     "output_type": "stream",
     "text": [
      "amount= 110\n",
      "rem-amount= 3\n",
      "amount= 110\n",
      "rem-amount= 0\n",
      "amount= 10\n",
      "rem-amount= 1\n",
      "amount= 10\n",
      "rem-amount= 0\n",
      "amount= 10\n",
      "rem-amount= 0\n",
      "amount= 0\n",
      "rem-amount= 1\n",
      "([500, 100, 10], 5)\n"
     ]
    }
   ],
   "source": [
    "#21-find the number of currency notes (Sample of notes: 1, 10, 20, 50, 100, 200 and 500 ) against a given amount\n",
    "\n",
    "def numOfNotes(amt):\n",
    "    note_lst=[10, 20, 50, 100, 200, 500]\n",
    "    result_note_lst=[]\n",
    "    num_notes=0\n",
    "    for i in reversed(note_lst):\n",
    "        #q=note_list[i]        \n",
    "        num_notes+=int(amt/i)\n",
    "        amt_rem=int(amt/i)\n",
    "        amt=int(amt%i)\n",
    "        \n",
    "        print(\"amount=\",amt)\n",
    "        print(\"rem-amount=\",amt_rem)\n",
    "        if amt_rem>0:\n",
    "            result_note_lst.append(i)\n",
    "            \n",
    "           # print(\"i=\",i)\n",
    "           # if amt>i:\n",
    "            #    amt=amt-i\n",
    "            #    print(\"amount=\",amt)\n",
    "             #   result_note_lst.append(i)\n",
    "              #  print(\"result_note_lst=\",result_note_lst)\n",
    "    return result_note_lst,num_notes\n",
    "\n",
    "print(numOfNotes(1610))"
   ]
  },
  {
   "cell_type": "code",
   "execution_count": 30,
   "id": "6220a375",
   "metadata": {},
   "outputs": [
    {
     "name": "stdout",
     "output_type": "stream",
     "text": [
      "4\n"
     ]
    }
   ],
   "source": [
    "#22-irst four members of the sequence are equal to one, and each successive \n",
    "#term of the sequence is equal to the sum of the four previous ones. Find the \n",
    "#Nth member of the sequenceirst four members of the sequence are equal to one, \n",
    "#and each successive term of the sequence is equal to the sum of the four \n",
    "#previous ones. Find the Nth member of the sequence\n",
    "\n",
    "def seqGen(n):\n",
    "    lst_seq=[]\n",
    "    #for i in range(n):\n",
    "    #   while i<4:\n",
    "    #      i=1\n",
    "    #     i=4*i-6\n",
    "    #return lst_seq\n",
    "    \n",
    "    if n==1 or n==2 or n==3 or n==4:\n",
    "        return 1\n",
    "    return seqGen(n-1)+seqGen(n-2)+seqGen(n-3)+seqGen(n-4)\n",
    "\n",
    "print(seqGen(5))"
   ]
  },
  {
   "cell_type": "code",
   "execution_count": 24,
   "id": "aea2eafa",
   "metadata": {},
   "outputs": [
    {
     "name": "stdout",
     "output_type": "stream",
     "text": [
      "[1224, 1214, 1204, 1194, 1184, 1174, 1164, 1154, 1144, 1134, 1124, 1114, 1104, 1094, 1084, 1074, 1064, 1054, 1044, 1034, 1024, 1014, 1004, 994, 984, 974, 964, 954, 944, 934, 924, 914, 904, 894, 884, 874, 864, 854, 844, 834, 824, 814, 804, 794, 784, 774, 764, 754, 744, 734, 724, 714, 704, 694, 684, 674, 664, 654, 644, 634, 624, 614, 604, 594, 584, 574, 564, 554, 544, 534, 524, 514, 504, 494, 484, 474, 464, 454, 444, 434, 424, 414, 404, 394, 384, 374, 364, 354, 344, 334, 324, 314, 304, 294, 284, 274, 264, 254, 244, 234, 224, 214, 204, 194, 184, 174, 164, 154, 144, 134, 124, 114, 104, 94, 84, 74, 64, 54, 44, 34, 24, 14, 4, -6]\n"
     ]
    }
   ],
   "source": [
    "#23- accept a positive number and subtract from this number the sum of its digits \n",
    "#and so on. Continues this operation until the number is positive.\n",
    "\n",
    "def sum_dig(n):\n",
    "    sums=0\n",
    "        \n",
    "    while n!=0:        \n",
    "        sums+=n%10\n",
    "        n=n//10   #int division\n",
    "    return sums\n",
    "#print(sum_dig(1236))\n",
    "\n",
    "def sub_sum(n):\n",
    "    lst_num=[]\n",
    "    result=sum_dig(n)\n",
    "    #return n-result\n",
    "    \n",
    "    #if n<0:\n",
    "    #    return lst_num\n",
    "    \n",
    "    while n>0:\n",
    "        n-=result\n",
    "        lst_num.append(n)\n",
    "        #print(lst_num)\n",
    "    return lst_num\n",
    "    \n",
    "print(sub_sum(1234))"
   ]
  },
  {
   "cell_type": "code",
   "execution_count": 39,
   "id": "a9b5080d",
   "metadata": {},
   "outputs": [
    {
     "name": "stdout",
     "output_type": "stream",
     "text": [
      "number of divisore are even\n"
     ]
    }
   ],
   "source": [
    "#24-number of divisors of a given integer is even or odd\n",
    "#solution-1:find divisors-linear way(divided by2), count them, see if counnt is even or odd\n",
    "#solution-2:find divisors-sqrt way, count them, see if counnt is even or odd\n",
    "\n",
    "#questions could be-1. should I consider distinct divisors or all of them\n",
    "#questions could be-2. does 1 and number itself should beincluded or not\n",
    "#questions could be-3. is it about prime divisors or all the divisors\n",
    "\n",
    "import math \n",
    "\n",
    "def find_divisor(n):\n",
    "    lst_div=[]\n",
    "    i=1\n",
    "    while i<=n/2:\n",
    "        if n%i==0:\n",
    "            lst_div.append(i) \n",
    "            #print(i)\n",
    "        i=i+1\n",
    "       # print(i)\n",
    "    count_div=len(lst_div)\n",
    "    \n",
    "    if count_div%2==0:\n",
    "        print(\"number of divisore are even\")\n",
    "    else:\n",
    "        print(\"number of divisore are odd\")\n",
    "   # return lst_div,len(lst_div)\n",
    "\n",
    "\n",
    "\n",
    "find_divisor(121)"
   ]
  },
  {
   "cell_type": "code",
   "execution_count": 44,
   "id": "ab431f13",
   "metadata": {},
   "outputs": [
    {
     "name": "stdout",
     "output_type": "stream",
     "text": [
      "[1, 100, 2, 50, 4, 25, 5, 20, 10, 10]\n"
     ]
    }
   ],
   "source": [
    "#solution-2:find divisors-sqrt way, count them, see if counnt is even or odd\n",
    "import math\n",
    "def find_divisors(n):\n",
    "        lst_div=[]\n",
    "        i=1\n",
    "        \n",
    "        while i<=math.sqrt(n):\n",
    "            if n%i==0:\n",
    "                lst_div.append(i)\n",
    "                lst_div.append(int(n/i))\n",
    "            i=i+1\n",
    "            \n",
    "        return lst_div\n",
    "    \n",
    "print(find_divisors(100))            \n",
    "        "
   ]
  },
  {
   "cell_type": "code",
   "execution_count": 65,
   "id": "ef1b5bb2",
   "metadata": {},
   "outputs": [
    {
     "name": "stdout",
     "output_type": "stream",
     "text": [
      "{'7', '2', '5', '9', '0', '8'}\n",
      "4  \n",
      "3  \n",
      "1  \n",
      "6  \n"
     ]
    }
   ],
   "source": [
    "#25-program to find the digits which are absent in a given mobile number\n",
    "\n",
    "#q1-is it sequence of numbers or contain special chars *, (+1) and -\n",
    "#q2-is it of fixed lenght or varies eg. emergency numbers 100 0r 999 or regulars like 9708899522\n",
    "\n",
    "#solutions1- isdigit method\n",
    "#solutions2- trace number digit by digit. Store these digits in set. \n",
    "#            compare this set with standard 10 digit set and see whats missing\n",
    "\n",
    "def miss_num(ph_num):\n",
    "    std_set={'0','1','2','3','4','5','6','7','8','9'}\n",
    "    ph_num_digit_set=set()\n",
    "    \n",
    "    for i in str(ph_num):\n",
    "       # print(i)\n",
    "        ph_num_digit_set.add(i)\n",
    "    \n",
    "    print(ph_num_digit_set)\n",
    "    \n",
    "    for i in std_set:\n",
    "        if i not in ph_num_digit_set:\n",
    "            print(i,\" \")\n",
    "    \n",
    "    #return ph_num_digit_set    \n",
    "\n",
    "miss_num(9708899522)"
   ]
  },
  {
   "cell_type": "code",
   "execution_count": 17,
   "id": "e6e83912",
   "metadata": {},
   "outputs": [
    {
     "name": "stdout",
     "output_type": "stream",
     "text": [
      "[('1', '1'), ('1', '2'), ('1', '3'), ('2', '1'), ('2', '2'), ('2', '3'), ('3', '1'), ('3', '2'), ('3', '3')]\n"
     ]
    }
   ],
   "source": [
    "#26-Python program to compute the summation of the absolute difference \n",
    "#  of all distinct pairs in a given array (non-decreasing order).\n",
    "\n",
    "#q1-does array include duplicates?\n",
    "\n",
    "#s1-get list of cartetian product and convert to set\n",
    "#s2-trace array convert to set. get all the pair by using 2 for loops\n",
    "\n",
    "#s1-get list of cartetian product and convert to set\n",
    "\n",
    "#issue-could not figure out how to add these numbers in tuple\n",
    "\n",
    "import itertools\n",
    "def dist_pair_sum(lst_num):\n",
    "    lst_result=[]\n",
    "    set_result=set()\n",
    "    for members in itertools.product(lst_num,repeat=2):\n",
    "        lst_result.append(members)\n",
    "      #  print(type(members))\n",
    "    print(lst_result)\n",
    "   # set_result=lst_result\n",
    "   # print(set_result)\n",
    "    \n",
    "dist_pair_sum(['1','2','3'])"
   ]
  },
  {
   "cell_type": "code",
   "execution_count": 31,
   "id": "bba00929",
   "metadata": {},
   "outputs": [
    {
     "name": "stdout",
     "output_type": "stream",
     "text": [
      "i= 2\n",
      "arr[i]= 8\n",
      "n= 3\n",
      "result= 16\n",
      "i= 1\n",
      "arr[i]= 4\n",
      "n= 3\n",
      "result= 16\n",
      "i= 0\n",
      "arr[i]= 4\n",
      "n= 3\n",
      "result= 8\n",
      "8\n"
     ]
    }
   ],
   "source": [
    "#26-Python program to compute the summation of the absolute difference \n",
    "#  of all distinct pairs in a given array (non-decreasing order).\n",
    "\n",
    "#observation-https://www.geeksforgeeks.org/sum-absolute-differences-pairs-given-array/\n",
    "\n",
    "def sum_dist_pair(arr,n):\n",
    "    result=0\n",
    "    #sum = 0\n",
    "    for i in range(n - 1, -1, -1):\n",
    "        result += i*arr[i] - (n-1-i) * arr[i]\n",
    "        print(\"i=\",i)\n",
    "        print(\"arr[i]=\",arr[i])\n",
    "        print(\"n=\",n)\n",
    "        print(\"result=\",result)\n",
    "    return result\n",
    "\n",
    "arr=[1,2,3]\n",
    "n=len(arr)\n",
    "print(sum_dist_pair(arr,n))"
   ]
  },
  {
   "cell_type": "code",
   "execution_count": 10,
   "id": "8caee182",
   "metadata": {},
   "outputs": [
    {
     "name": "stdout",
     "output_type": "stream",
     "text": [
      "It is neither AP nor GP\n"
     ]
    }
   ],
   "source": [
    "#27-Write a Python program to find the type of the progression \n",
    "#(arithmetic progression/geometric progression) and the next successive member of a \n",
    "#given three successive members of a sequence.\n",
    "\n",
    "#Q1-is oth position certain number or can I have my own?\n",
    "#Q2-are these series always positive numbers?\n",
    "#Q3-How many numbers we have in series\n",
    "\n",
    "#s1-check for difference in first 3 numbers and common divisors for the same. Whichever condition is true go for it\n",
    "def apgpDetection(num_lst):\n",
    "    diff=0\n",
    "    div=0\n",
    "    ap_lst=[]\n",
    "    gp_lst=[]\n",
    "    for i in range (len(num_lst)-1):\n",
    "        diff=num_lst[i+1]-num_lst[i]\n",
    "        ap_lst.append(diff)\n",
    "        \n",
    "        div=num_lst[i+1]/num_lst[i]\n",
    "        gp_lst.append(div)\n",
    "        \n",
    "    if len(set(ap_lst))==1:\n",
    "        print(\"it is a Aritmetic Progression\")\n",
    "    elif len(set(gp_lst))==1:\n",
    "        print(\"it is a Geometric Progression\")\n",
    "    else:\n",
    "        print(\"It is neither AP nor GP\")\n",
    "    \n",
    "    \n",
    "apgpDetection([2,4,6,8,9])"
   ]
  },
  {
   "cell_type": "code",
   "execution_count": 11,
   "id": "a416905c",
   "metadata": {},
   "outputs": [
    {
     "name": "stdout",
     "output_type": "stream",
     "text": [
      "True\n"
     ]
    }
   ],
   "source": [
    "#27 s2-calculate ratio and difference and check in for loop if that matches with every member of list\n",
    "def is_geometric(li):\n",
    "    if len(li) <= 1:\n",
    "        return True\n",
    "         \n",
    "    # Calculate ratio\n",
    "    ratio = li[1]/float(li[0])\n",
    "     \n",
    "    # Check the ratio of the remaining\n",
    "    for i in range(1, len(li)):\n",
    "        if li[i]/float(li[i-1]) != ratio:\n",
    "            return False\n",
    "    return True\n",
    " \n",
    "print(is_geometric([2, 6, 18, 54]))"
   ]
  },
  {
   "cell_type": "code",
   "execution_count": 12,
   "id": "730e8e06",
   "metadata": {},
   "outputs": [
    {
     "ename": "SyntaxError",
     "evalue": "cannot assign to operator (Temp/ipykernel_3160/625379201.py, line 22)",
     "output_type": "error",
     "traceback": [
      "\u001b[1;36m  File \u001b[1;32m\"C:\\Users\\przir\\AppData\\Local\\Temp/ipykernel_3160/625379201.py\"\u001b[1;36m, line \u001b[1;32m22\u001b[0m\n\u001b[1;33m    third_num+third_last_num=2*a-d+len_ser*d\u001b[0m\n\u001b[1;37m    ^\u001b[0m\n\u001b[1;31mSyntaxError\u001b[0m\u001b[1;31m:\u001b[0m cannot assign to operator\n"
     ]
    }
   ],
   "source": [
    "#28-Write a Python program to print the length of the series and the series from the\n",
    "#given 3rd term, 3rd last term and the sum of a series\n",
    "\n",
    "#q1: is it AP/GP or HP or any other kind of series\n",
    "#q2:are the numbers always positive?\n",
    "#q3:is it incremental or decremental series\n",
    "\n",
    "#assumption:its incremental AP series\n",
    "#s1-AP=a+(n-1)*d\n",
    "\n",
    "def nthNumSearch(third_num,third_last_num,sum_ser,len_ser):\n",
    "    \n",
    "   # nth term of an AP=a+(n-1)*d\n",
    "   #sum_of_AP=0.5 n (first term + last term) = 0.5 n [ 2a + (n-1) d ]\n",
    "    \n",
    "   ### Calculate these numbers in terms of d and a####\n",
    "\n",
    "    third_num=a+2*d                 #third_num=a+(3-1)*d\n",
    "    third_last_num=a+(len_ser-3)*d  #third_last_num=a+(n-3)*d\n",
    "    \n",
    "   # third_num+third_last_num=a+2*d+a+(len_ser-3)*d\n",
    "   # third_num+third_last_num=2*a+2*d+len_ser*d-3*d\n",
    "    \n",
    "    third_num+third_last_num=2*a-d+len_ser*d\n",
    "    \n",
    "   # sum_of_AP=0.5*len_ser*(2*a+(len_ser-1)*d)\n",
    "   # sum_of_AP=0.5*len_ser*(2*a+len_ser*d-d)\n",
    "    sum_of_AP=1*len_ser*a+0.5*d*(len_ser**2)-0.5*len_ser*d\n",
    "    \n",
    "    #AP series\n",
    "    AP=0\n",
    "    for n in range(len_ser):\n",
    "        AP=a+(n-1)*d\n",
    "        print(AP+\" \")  \n",
    "    "
   ]
  },
  {
   "cell_type": "code",
   "execution_count": 30,
   "id": "54e16132",
   "metadata": {},
   "outputs": [
    {
     "name": "stdout",
     "output_type": "stream",
     "text": [
      "1 20.0 4.47213595499958\n",
      "2 10.0 4.47213595499958\n",
      "4 5.0 4.47213595499958\n",
      "{1, 2, 4, 5.0, 10.0, 20.0}\n",
      "{1, 5.0}\n",
      "{1, 5.0}\n"
     ]
    }
   ],
   "source": [
    "#29-find common divisors between two numbers in a given pair\n",
    "#q1-are these positives?\n",
    "\n",
    "#s1-sqrt method to find divisors. add them to set. compare sets\n",
    "#s2-half the number method to find divisors. add them to set. compare sets\n",
    "#s3-plain for loop method to find divisors. add them to set. compare sets\n",
    "#s4-for loop with comparing common divisors \n",
    "\n",
    "import math\n",
    "def find_div(n1,n2):\n",
    "    set_n1=set()\n",
    "    set_n2=set()\n",
    "    i=1\n",
    "    while i<=math.sqrt(n1):\n",
    "        if n1%i==0:\n",
    "            set_n1.add(i)\n",
    "            set_n1.add(n1/i)             \n",
    "            print(i,n1/i,math.sqrt(n1))          \n",
    "       \n",
    "        i=i+1\n",
    "        \n",
    "    i=1        \n",
    "    while i< math.sqrt(n2):\n",
    "        if n2%i==0:\n",
    "            set_n2.add(i)\n",
    "            set_n2.add(n2/i)       \n",
    "        \n",
    "        i=i+1\n",
    "            \n",
    "    print(set_n1)\n",
    "    print(set_n2)\n",
    "    print(set_n1 and set_n2)\n",
    "        \n",
    "find_div(20,5)   "
   ]
  },
  {
   "cell_type": "code",
   "execution_count": 33,
   "id": "409d394f",
   "metadata": {},
   "outputs": [
    {
     "name": "stdout",
     "output_type": "stream",
     "text": [
      "1\n",
      "2\n",
      "4\n"
     ]
    }
   ],
   "source": [
    "#s4-for loop with comparing common divisors \n",
    "def find_div(n1,n2):\n",
    "    for i in range(1,min(n1,n2)+1):\n",
    "        if n1%i==n2%i==0:\n",
    "            print(i)\n",
    "\n",
    "find_div(4,8)"
   ]
  },
  {
   "cell_type": "code",
   "execution_count": 60,
   "id": "5db8c931",
   "metadata": {},
   "outputs": [
    {
     "name": "stdout",
     "output_type": "stream",
     "text": [
      "Nope its not a palindrome 105   501\n"
     ]
    }
   ],
   "source": [
    "#30-to reverse the digits of a given number and add it to the original, If the sum is not a palindrome repeat this procedure\n",
    "\n",
    "#q1-is there upper limit to this procedure? otherwise it would be infinite \n",
    "#q2-what are the odds to get palindrome each time?\n",
    "\n",
    "#Logic-reverse proceduere-divide by 10 and get remainder. then multiply by length times 10 store it. \n",
    "#add to the new_num_reversed. repeat procedure until remainder 0\n",
    "#palindrom check-check new_num_reversed=old number\n",
    "\n",
    "#s1-use numbers as number\n",
    "#s2-use numbers as string. reverse it with array and compare\n",
    "\n",
    "def rev_num(n):\n",
    "    num_len=len(str(n))\n",
    "    new_rev=0\n",
    "    num=n\n",
    "    for i in range(num_len):\n",
    "        new_rev+=(n%10)*10**(num_len-i-1)\n",
    "        n=int(n/10)\n",
    "        #print(n,num_len)\n",
    "    \n",
    "    if new_rev==num:\n",
    "        print(\"it is palindrome\",num, \" \", new_rev)\n",
    "    else:\n",
    "        print(\"Nope its not a palindrome\",num,\" \", new_rev)\n",
    "    #return new_rev\n",
    "        \n",
    "\n",
    "rev_num(105)"
   ]
  },
  {
   "cell_type": "code",
   "execution_count": 8,
   "id": "a5a9d89b",
   "metadata": {},
   "outputs": [
    {
     "name": "stdout",
     "output_type": "stream",
     "text": [
      "3\n"
     ]
    }
   ],
   "source": [
    "#31-count the number of carry operations for each of a set of addition problems\n",
    "\n",
    "#Logic-addition from right to left. if leftmost digits in 2 numbers have sum>10 then carry_count+=1\n",
    "#to go from right to left we have to divide numbers by 10*distance from rightmost digit and consider their respective reminders\n",
    "\n",
    "#q1-how many numbers are we adding?\n",
    "#q2-are they all positive numbers?\n",
    "\n",
    "#s1: usual while/for loop\n",
    "\n",
    "def carry_count(n1,n2):\n",
    "    car_fwd=0\n",
    "    car_cnt=0\n",
    "    max_n=max(len(str(n1)),len(str(n2)))\n",
    "    #print(max_n)\n",
    "    \n",
    "    while max_n>=0:\n",
    "        dig1=n1%10\n",
    "        dig2=n2%10\n",
    "        \n",
    "        n1=int(n1/10)\n",
    "        n2=int(n2/10)\n",
    "        \n",
    "        sum_dig=dig1+dig2+car_fwd\n",
    "        if sum_dig>9:\n",
    "            car_cnt+=1\n",
    "            car_fwd+=1\n",
    "            \n",
    "        max_n-=1\n",
    "        \n",
    "    return car_cnt\n",
    "\n",
    "print(carry_count(999,9))"
   ]
  },
  {
   "cell_type": "code",
   "execution_count": 11,
   "id": "827eec18",
   "metadata": {},
   "outputs": [
    {
     "name": "stdout",
     "output_type": "stream",
     "text": [
      "55   45   39\n"
     ]
    }
   ],
   "source": [
    "#32-python program to find heights of the top three building in descending order from eight given building\n",
    "\n",
    "#s1-create list of heights of buildings. sort descending order. print top three\n",
    "#s2-create 3 var-max1,max2, max3. trace single for loop for finding them. if tallest-max1 taller-max2 and tall max3 keep pushing to up \n",
    "#down as per size while tracing for loop\n",
    "\n",
    "#q1-are those 8 heights comes in list or any other datatype?\n",
    "\n",
    "def tall_build(buil_lst):\n",
    "    height_order_lst=[]\n",
    "    tallest=buil_lst[0]\n",
    "    taller=0\n",
    "    tall=0\n",
    "    \n",
    "    for i in range(len(buil_lst)):\n",
    "        if buil_lst[i]>tallest:\n",
    "            taller=tallest\n",
    "            tallest=buil_lst[i]\n",
    "            \n",
    "        elif buil_lst[i]<tallest and buil_lst[i]>taller:\n",
    "            tall=taller\n",
    "            taller=buil_lst[i]\n",
    "            \n",
    "        elif buil_lst[i]<taller and buil_lst[i]>tall:\n",
    "            tall=buil_lst[i]\n",
    "            \n",
    "    print(tallest,\" \",taller,\" \",tall)\n",
    "            \n",
    "    \n",
    "tall_build([25,35,55,16,30,45,37,39])"
   ]
  },
  {
   "cell_type": "code",
   "execution_count": 13,
   "id": "3db65e50",
   "metadata": {},
   "outputs": [
    {
     "name": "stdout",
     "output_type": "stream",
     "text": [
      "3\n"
     ]
    }
   ],
   "source": [
    "#33-Python program to compute the digit number of sum of two given integers\n",
    "\n",
    "#input 5,7 sum=12, number of digits of sum=2\n",
    "\n",
    "#q1-how many numbers would be the input\n",
    "#q2-is there upper and lower limits to the input\n",
    "\n",
    "#logic-add given integers. use len function to measure length\n",
    "\n",
    "def sum_dig(n1,n2):\n",
    "    sum_num=n1+n2\n",
    "    \n",
    "    print(len(str(sum_num)))\n",
    "    \n",
    "sum_dig(5,117)"
   ]
  },
  {
   "cell_type": "code",
   "execution_count": 15,
   "id": "b05708db",
   "metadata": {},
   "outputs": [
    {
     "data": {
      "text/plain": [
       "False"
      ]
     },
     "execution_count": 15,
     "metadata": {},
     "output_type": "execute_result"
    }
   ],
   "source": [
    "#34-Python program to check whether three given lengths (integers) of three sides form a right triangle\n",
    "\n",
    "#logic-use pythogorus theorem\n",
    "\n",
    "def right_angle_check(a,b,c):\n",
    "    max_side=max(a,b,c)\n",
    "    min_side=min(a,b,c)\n",
    "    mid_side=a+b+c-(max_side+min_side)\n",
    "    \n",
    "    if max_side**2==min_side**2+mid_side**2:\n",
    "        return True\n",
    "    else:\n",
    "        return False\n",
    "    \n",
    "right_angle_check(3,4,6)\n"
   ]
  },
  {
   "cell_type": "code",
   "execution_count": 5,
   "id": "5622cd74",
   "metadata": {},
   "outputs": [
    {
     "name": "stdout",
     "output_type": "stream",
     "text": [
      "(-4.181818181818183, 6.363636363636364)\n"
     ]
    }
   ],
   "source": [
    "#35 Write a Python program which solve the equation: Print the values of x, y where a, b, c, d, e and f are given.\n",
    "#ax+by=c and dx+ey=f\n",
    "\n",
    "#s1-rewrite the equation in terms of x and y. i.e. x= and y=\n",
    "#s2-lambda or map functions?\n",
    "#s3-(ae-bd)=n rule  x = (c*e - b*f) / n and y = (a*f - c*d) / n\n",
    "\n",
    "def eqn_solver(a,b,c,d,e,f):\n",
    "    \n",
    "    y=(c-f)/(b/a-e/d)\n",
    "    \n",
    "    x=c-b*y/a\n",
    "    #x=f-e*y/d\n",
    "    \n",
    "    #c-b*y/a=f-e*y/d\n",
    "    #c-f=b*y/a-e*y/d\n",
    "    #(c-f)=(b/a-e/d)*y\n",
    "    #(c-f)/(b/a-e/d)=y\n",
    "    #y=(c-f)/(b/a-e/d)\n",
    "    return x,y\n",
    "\n",
    "print(eqn_solver(5,8,6,7,9,4))"
   ]
  },
  {
   "cell_type": "code",
   "execution_count": 6,
   "id": "844a9081",
   "metadata": {},
   "outputs": [
    {
     "name": "stdout",
     "output_type": "stream",
     "text": [
      "Input number of months:\n",
      "5\n",
      "Amount of debt:  $130000\n"
     ]
    }
   ],
   "source": [
    "#36-compute the amount of the debt in n months.\n",
    "#s1-use prncipal debt formula\n",
    "\n",
    "def round_n(n):\n",
    "    if n%1000:\n",
    "        return (1+n//1000)*1000\n",
    "    else:\n",
    "        return n\n",
    "     \n",
    "def compute_debt(n):\n",
    "    if n==0: return 100000\n",
    "    return int(round_n(compute_debt(n-1)*1.05))  ###1.05 ==>interest rate =5%\n",
    "\n",
    "print(\"Input number of months:\")\n",
    "result = compute_debt(int(input()))\n",
    "print(\"Amount of debt: \",\"$\"+str(result).strip())\n",
    "    \n",
    "    "
   ]
  },
  {
   "cell_type": "code",
   "execution_count": 2,
   "id": "212f00e2",
   "metadata": {},
   "outputs": [
    {
     "name": "stdout",
     "output_type": "stream",
     "text": [
      "print numbers :\n",
      "15\n",
      "number of combinations:  592\n"
     ]
    }
   ],
   "source": [
    "#37-eads an integer n and find the number of combinations of a,b,c and d\n",
    "#(0 <= a,b,c,d <= 9) where (a + b + c + d) = n.\n",
    "\n",
    "#q1-can we repeat number\n",
    "#q2-can we take any number of combinations? including 1 or 2 or 3 numbers\n",
    "#q3-can we repepat same set of numbers with different orders\n",
    "#bruteforce method-\n",
    "\n",
    "#s1-bruteforce method-for loop with combinations\n",
    "#s2-itertools.combinations with if condition\n",
    "\n",
    "#s1-bruteforce method-for loop with combinations\n",
    "import itertools\n",
    "print(\"print numbers :\")\n",
    "n=int(input())\n",
    "result=0\n",
    "for (i,j,k) in itertools.product(range(10),range(10),range(10)):\n",
    "    result+=(0<=n-(i+j+k)<=9)\n",
    "print(\"number of combinations: \",result)\n"
   ]
  },
  {
   "cell_type": "code",
   "execution_count": 14,
   "id": "f0da9502",
   "metadata": {},
   "outputs": [
    {
     "name": "stdout",
     "output_type": "stream",
     "text": [
      "[[-2, -3, 4, 5], [-5, 0, 4, 5]]\n"
     ]
    }
   ],
   "source": [
    "#s2-itertools.combinations with if condition\n",
    "class Solution:\n",
    "    def fourSum(self,nums,target):\n",
    "        from itertools import combinations\n",
    "        res=set()\n",
    "        \n",
    "        for i in combinations(nums,4):\n",
    "            if sum(i)==target:\n",
    "                res.add(\" \".join(sorted(list([str(x) for x in i]))))\n",
    "                #res.add(sorted(list([str(x) for x in i])))\n",
    "        #return list([[int(z) for z in x.split()]for x in res])\n",
    "        return list([[int(z) for z in x.split()]for x in res])\n",
    "    \n",
    "res = Solution().fourSum([-5,5,4,-3,0,0,4,-2],4)\n",
    "print(res)\n",
    "#print(time.time() - start)\n",
    "    "
   ]
  },
  {
   "cell_type": "code",
   "execution_count": 48,
   "id": "acbab232",
   "metadata": {},
   "outputs": [
    {
     "name": "stdout",
     "output_type": "stream",
     "text": [
      "[2, 3, 5, 7, 11, 13, 17, 19, 23, 29, 31] 11\n"
     ]
    }
   ],
   "source": [
    "#38-print the number of prime numbers which are less than or equal to a given integer. \n",
    "\n",
    "#q1-just number of prime numbers or actual prime numbers\n",
    "#s1-brute force-for loop until given number to find prime numbers and count them\n",
    "#s2-find the factors for each numbers and if those are only 1 and itself add to prime numbers list\n",
    "\n",
    "import math\n",
    "\n",
    "def findPrime(num):\n",
    "    prime_lst=[]\n",
    "    cnt=0\n",
    "    for i in range(2,num):\n",
    "        if findDiv(i)==False:\n",
    "            #print(findDiv(i))\n",
    "            prime_lst.append(i)\n",
    "            cnt+=1\n",
    "    print(prime_lst,cnt)\n",
    "            \n",
    "def findDiv(n):\n",
    "    i=2\n",
    "    while i<=int(math.sqrt(n)):\n",
    "        if n%i==0:                          \n",
    "            return True\n",
    "        i+=1\n",
    "    return False        \n",
    "        \n",
    "findPrime(35)"
   ]
  },
  {
   "cell_type": "code",
   "execution_count": 3,
   "id": "b1a60f80",
   "metadata": {},
   "outputs": [
    {
     "name": "stdout",
     "output_type": "stream",
     "text": [
      "Centre = ( 3 ,  2 )\n",
      "Radius =  2.23607\n"
     ]
    }
   ],
   "source": [
    "#39-Write a program to compute the radius and the central coordinate (x, y) of a circle which is \n",
    "#constructed by three given points on the plane surface.\n",
    "\n",
    "#input given-3 coordinates of the circle\n",
    "#output-radius of the circle, center of the circle\n",
    "\n",
    "from math import sqrt\n",
    "def findCircle(x1,y1,x2,y2,x3,y3):\n",
    "    x12=x1-x2\n",
    "    x13=x1-x3\n",
    "    \n",
    "    y12=y1-y2\n",
    "    y13=y1-y3\n",
    "    \n",
    "    y31=y3-y1\n",
    "    y21=y2-y1\n",
    "    \n",
    "    x31=x3-x1\n",
    "    x21=x2-x1\n",
    "    \n",
    "    #x1^2-x3^2\n",
    "    sx13=pow(x1,2)-pow(x3,2)\n",
    "    \n",
    "    #y1^2-y3^2\n",
    "    sy13=pow(y1,2)-pow(y3,2)\n",
    "    \n",
    "    sx21=pow(x2,2)-pow(x1,2)\n",
    "    sy21=pow(y2,2)-pow(y1,2)\n",
    "    \n",
    "    f=(((sx13) * (x12) + (sy13) *(x12) + (sx21) * (x13) +(sy21) * (x13)) // (2 *((y31) * (x12) - (y21) * (x13))))\n",
    "       \n",
    "    g=(((sx13) * (y12) + (sy13) * (y12) +(sx21) * (y13) + (sy21) * (y13)) //(2 * ((x31) * (y12) - (x21) * (y13))))\n",
    "    \n",
    "    c = (-pow(x1, 2) - pow(y1, 2) -2 * g * x1 - 2 * f * y1)\n",
    "    \n",
    "    h=-g\n",
    "    k=-f\n",
    "    sqr_of_r=h*h+k*k-c\n",
    "    \n",
    "    r=round(sqrt(sqr_of_r),5)\n",
    "    \n",
    "    print(\"Centre = (\", h, \", \", k, \")\")\n",
    "    print(\"Radius = \", r)\n",
    "    \n",
    "if __name__==\"__main__\":\n",
    "    x1=1\n",
    "    y1=1\n",
    "    x2=2\n",
    "    y2=4\n",
    "    x3=5\n",
    "    y3=3\n",
    "    \n",
    "    findCircle(x1,y1,x2,y2,x3,y3)\n",
    "    "
   ]
  },
  {
   "cell_type": "code",
   "execution_count": 12,
   "id": "63dca106",
   "metadata": {},
   "outputs": [
    {
     "name": "stdout",
     "output_type": "stream",
     "text": [
      "input x1,y1,x2,y2,x3,y3,xp,yp\n",
      "2 3 4 5 6 8 7 1\n",
      "point is outside triangle\n"
     ]
    }
   ],
   "source": [
    "#40- program to check whether a point (x,y) is in a triangle or not\n",
    "\n",
    "#logic-1-Half plane formula-works for 2D planes\n",
    "print(\"input x1,y1,x2,y2,x3,y3,xp,yp\")\n",
    "x1,y1,x2,y2,x3,y3,xp,yp=map(float,input().split())\n",
    "\n",
    "c1=(x2-x1)*(yp-y1)-(y2-y1)*(xp-x1)\n",
    "c2=(x3-x2)*(yp-y2)-(y3-y2)*(xp-x2)\n",
    "c3=(x1-x3)*(yp-y3)-(y1-y3)*(xp-x3)\n",
    "\n",
    "if(c1<0 and c2<0 and c3<0) or (c1>0 and c2>0 and c3>0):\n",
    "    print(\"Point is inside the triangle\")\n",
    "else:\n",
    "    print(\"point is outside triangle\")"
   ]
  },
  {
   "cell_type": "code",
   "execution_count": 13,
   "id": "b769f3b8",
   "metadata": {},
   "outputs": [
    {
     "name": "stdout",
     "output_type": "stream",
     "text": [
      "Point is inside the triangle\n"
     ]
    }
   ],
   "source": [
    "#40- program to check whether a point (x,y) is in a triangle or not\n",
    "#logic-2 -Calculate areas of triangle and subtriangles that includes point(x,y) and compare them\n",
    "\n",
    "def areaOfTriangle(x1,y1,x2,y2,x3,y3):\n",
    "    return abs((x1*(y2-y3)+x2*(y3-y1)+x3*(y1-y2))/2)\n",
    "\n",
    "def isInside(x1,y1,x2,y2,x3,y3,x,y):\n",
    "    A=areaOfTriangle(x1,y1,x2,y2,x3,y3)\n",
    "    \n",
    "    A1=areaOfTriangle(x,y,x2,y2,x3,y3)\n",
    "    \n",
    "    A2=areaOfTriangle(x1,y1,x,y,x3,y3)\n",
    "    \n",
    "    A3=areaOfTriangle(x1,y1,x2,y2,x,y)\n",
    "    \n",
    "    if(A==A1+A2+A3):\n",
    "        print(\"Point is inside the triangle\")\n",
    "    else:\n",
    "        print(\"Point is not inside the triangle\")\n",
    "        \n",
    "isInside(0, 0, 20, 0, 10, 30, 10, 15)"
   ]
  },
  {
   "cell_type": "code",
   "execution_count": 14,
   "id": "2b8c2d96",
   "metadata": {},
   "outputs": [
    {
     "name": "stdout",
     "output_type": "stream",
     "text": [
      "sum of numbers= 140\n"
     ]
    }
   ],
   "source": [
    "#41-Python program to compute and print sum of two given integers (more than or equal to zero). \n",
    "#If given integers or the sum have more than 80 digits, print \"overflow\".\n",
    "\n",
    "#logic-calculate sum. convert sum to string and measure length to see if it is >80 or <80\n",
    "def sumDigitCheck(n1,n2):\n",
    "    sum_of_int=n1+n2\n",
    "    \n",
    "    if len(str(sum_of_int))>=80:\n",
    "        print(\"Overflow\")\n",
    "    else:\n",
    "        print(\"sum of numbers=\",sum_of_int)\n",
    "        \n",
    "sumDigitCheck(40,100)"
   ]
  },
  {
   "cell_type": "code",
   "execution_count": 17,
   "id": "9219d1ba",
   "metadata": {},
   "outputs": [
    {
     "name": "stdout",
     "output_type": "stream",
     "text": [
      "Input first integer:\n",
      "10\n",
      "Input second integer:\n",
      "30\n",
      "Sum of the two integers:  40\n"
     ]
    }
   ],
   "source": [
    "print(\"Input first integer:\")\n",
    "x = int(input())\n",
    "print(\"Input second integer:\")\n",
    "y = int(input())\n",
    "if x >= 10 ** 80 or y >= 10 ** 80 or x + y >= 10 ** 80:\n",
    "    print(\"Overflow!\")\n",
    "else:\n",
    "    print(\"Sum of the two integers: \",x + y)"
   ]
  },
  {
   "cell_type": "code",
   "execution_count": 4,
   "id": "350d4578",
   "metadata": {},
   "outputs": [
    {
     "name": "stdout",
     "output_type": "stream",
     "text": [
      "[2, 6, 11, 19, 27, 31, 45, 121]\n"
     ]
    }
   ],
   "source": [
    "#42-accepts six numbers as input and sorts them in descending order\n",
    "#logic1-Accept six numbers add them to list or set and sort them\n",
    "#logic2-use sorting algorithm\n",
    "#logic3-use if else\n",
    "\n",
    "#logic2-use sorting algorithm\n",
    "#q1-what are different types of sorting algos\n",
    "#q2-which is most efficient sorting algo(Bubble, insertion,selection,merge and shell)\n",
    "#q3-what are other methods to sort numbers\n",
    "\n",
    "#s1-Bubble Sort\n",
    "def bubble_sort(num_list):\n",
    "    for idx_i in range(len(num_list)-1,0,-1):\n",
    "        for idx_j in range(idx_i):\n",
    "            if num_list[idx_j]>num_list[idx_j+1]:\n",
    "                temp=num_list[idx_j]\n",
    "                num_list[idx_j]=num_list[idx_j+1]\n",
    "                num_list[idx_j+1]=temp\n",
    "                #print(num_list_inp)\n",
    "                \n",
    "num_list_inp=[19,2,31,45,6,11,121,27]\n",
    "bubble_sort(num_list_inp)\n",
    "print(num_list_inp)\n",
    "        "
   ]
  },
  {
   "cell_type": "code",
   "execution_count": 5,
   "id": "bd4827b3",
   "metadata": {},
   "outputs": [
    {
     "name": "stdout",
     "output_type": "stream",
     "text": [
      "Lines are not parallel\n"
     ]
    }
   ],
   "source": [
    "#43-Python program to test whether two lines PQ and RS are parallel\n",
    "#input-he four points are P(x1, y1), Q(x2, y2), R(x3, y3), S(x4, y4)\n",
    "\n",
    "#logic-see if distance(PR)==distance(QS) if true then parallel otherwise not\n",
    "#distance formula -->√[(x₂ - x₁)² + (y₂ - y₁)²]\n",
    "\n",
    "import math\n",
    "def prl_lin(x1,y1,x2,y2,x3,y3,x4,y4):\n",
    "    \n",
    "    dist_PR=math.sqrt((x3-x1)**2+(y3-y1)**2)\n",
    "    dist_QS=math.sqrt((x4-x2)**2+(y4-y2)**2)\n",
    "    \n",
    "    if dist_PR==dist_QS:\n",
    "        print(\"Lines are parallel\")\n",
    "    else:\n",
    "        print(\"Lines are not parallel\")\n",
    "        \n",
    "prl_lin(2,5,6,4,8,3,9,7)"
   ]
  },
  {
   "cell_type": "code",
   "execution_count": 6,
   "id": "b410afbb",
   "metadata": {},
   "outputs": [
    {
     "name": "stdout",
     "output_type": "stream",
     "text": [
      "Input x1,y1,x2,y2,x3,y3,xp,yp:\n",
      "2 5 6 4 8 3 9 7\n",
      "PQ and RS are not parallel\n"
     ]
    }
   ],
   "source": [
    "print(\"Input x1,y1,x2,y2,x3,y3,xp,yp:\")\n",
    "x1, y1,x2, y2, x3, y3, x4, y4 = map(float, input().split())\n",
    "print('PQ and RS are parallel.' if abs((x2 - x1)*(y4 - y3) - (x4 - x3)*(y2 - y1)) < 1e-10 else 'PQ and RS are not parallel')"
   ]
  },
  {
   "cell_type": "code",
   "execution_count": 36,
   "id": "8549cf52",
   "metadata": {},
   "outputs": [
    {
     "name": "stdout",
     "output_type": "stream",
     "text": [
      "0 2 13 13\n",
      "1 3 15 15\n",
      "2 4 45 45\n",
      "3 5 47 47\n",
      "7 9 114 114\n",
      "114\n"
     ]
    }
   ],
   "source": [
    "#44-program to find the maximum sum of a contiguous subsequence from a given sequence of numbers a1, a2, a3, ... an. \n",
    "#A subsequence of one element is also a continuous subsequence\n",
    "\n",
    "#q1-is size of sub array defined or not\n",
    "\n",
    "#Translation - if we have given 10 random numbers. input n=3 then we have to find 3 contiguous numbers having maximum sum\n",
    "#logic1-brut force -2 for loops. 1 to trace all numbers and other to trace batch of contiguous numbers\n",
    "\n",
    "def max_sum_seq(num_list,seq_len):\n",
    "    cur_sum=0\n",
    "    max_sum=0\n",
    "    for i in range(len(num_list)-seq_len+1):\n",
    "        cur_sum=0\n",
    "        for j in range(i,len(num_list)):\n",
    "            cur_sum+=num_list[j]\n",
    "            if j==seq_len+i-1:\n",
    "                if cur_sum>=max_sum:\n",
    "                    max_sum=cur_sum\n",
    "                    print(i,j,cur_sum,max_sum)\n",
    "                break\n",
    "            #print(i,j,cur_sum,max_sum)\n",
    "        \n",
    "    print(max_sum)    \n",
    "    \n",
    "max_sum_seq([2,5,6,4,35,8,3,9,7,98],3)         \n",
    "            "
   ]
  },
  {
   "cell_type": "code",
   "execution_count": 2,
   "id": "b7106d1f",
   "metadata": {},
   "outputs": [
    {
     "name": "stdout",
     "output_type": "stream",
     "text": [
      "The smaller does not lies inside the bigger circle completely.\n"
     ]
    }
   ],
   "source": [
    "#45-two circles C1 with radius r1, central coordinate (x1, y1) and C2 with radius r2 and central coordinate (x2, y2)\n",
    "#\"C2 is in C1\" if C2 is in C1\n",
    "#\"C1 is in C2\" if C1 is in C2\n",
    "#\"Circumference of C1 and C2 intersect\" if circumference of C1 and C2 intersect\n",
    "#\"C1 and C2 do not overlap\" if C1 and C2 do not overlap and\n",
    "#\"Circumference of C1 and C2 will touch\" if C1 and C2 touch\n",
    "\n",
    "#logic-aplly distance formula on centers of two circles. Compare it with the radius of bigger circle\n",
    "\n",
    "import math\n",
    "def circle(x1,y1,r1,x2,y2,r2):\n",
    "    dist_cen=math.sqrt((x2-x1)**2+(y2-y1)**2)\n",
    "    \n",
    "    if dist_cen+r1==r2:\n",
    "        print(\"The smaller circle lies completely\"\n",
    "            \" inside the bigger circle with \"\n",
    "            \"touching each other \"\n",
    "            \"at a point of circumference. \")\n",
    "    elif dist_cen+r1<r2:\n",
    "        print(\"The smaller circle lies completely\"\n",
    "            \" inside the bigger circle without\"\n",
    "            \" touching each other \"\n",
    "            \"at a point of circumference. \")\n",
    "    else:        \n",
    "        print(\"The smaller does not lies inside\"\n",
    "            \" the bigger circle completely.\")\n",
    "        \n",
    "x1,y1=10,8\n",
    "x2,y2=1,2\n",
    "r1,r2=30,10\n",
    "circle(x1,y1,r1,x2,y2,r2)"
   ]
  },
  {
   "cell_type": "code",
   "execution_count": 9,
   "id": "a0e1de4f",
   "metadata": {},
   "outputs": [
    {
     "name": "stdout",
     "output_type": "stream",
     "text": [
      "input month and day separated by space\n",
      "5 15\n",
      "Name of the date:  Sunday\n"
     ]
    }
   ],
   "source": [
    "#46-Python program to that reads a date (from 2016/1/1 to 2016/12/31) and prints the day of the date. Jan. 1, 2016, is Friday\n",
    "from datetime import date\n",
    "print(\"input month and day separated by space\")\n",
    "m,d=map(int,input().split())\n",
    "weeks={1:'Monday',2:'Tuesday',3:'Wednesday',4:'Thursday',5:'Friday',6:'Saturday',7:'Sunday'}\n",
    "w=date.isoweekday(date(2016,m,d))\n",
    "print(\"Name of the date: \",weeks[w])"
   ]
  },
  {
   "cell_type": "code",
   "execution_count": 45,
   "id": "6ef2bb76",
   "metadata": {},
   "outputs": [
    {
     "name": "stdout",
     "output_type": "stream",
     "text": [
      "['Thank', 'you', 'for', 'your', 'comment', 'and', 'your', 'participation'] 13 participation\n",
      "your 2\n"
     ]
    }
   ],
   "source": [
    "#47- Write a Python program which reads a text (only alphabetical characters and spaces.) \n",
    "#and prints two words. The first one is the word which is arise most frequently in the text. \n",
    "#The second one is the word which has the maximum number of letters\n",
    "\n",
    "#word which is arise most frequently in the text-count words separated by space. find that occurs maximum times\n",
    "#word which has the maximum number of letters-count the length of word and find that is longest in length\n",
    "\n",
    "#q1-what if there are multiple words occurs max time or longest lenth \n",
    "#q2-does dash between two words count as single word or 2 different words\n",
    "\n",
    "#method-1:using 2 for loops\n",
    "#method-2:using counter iterator\n",
    "#method-3:using dictionary\n",
    "\n",
    "def count_Words(texts):\n",
    "    #treat text as string. separate words by space and store them to list\n",
    "    lst_text=[]\n",
    "    count=1\n",
    "    max_len=0\n",
    "    max_count=0\n",
    "    \n",
    "    lst_text=texts.split()\n",
    "    \n",
    "    #len_words\n",
    "    for i in lst_text:\n",
    "        for j in i:\n",
    "            len_word=len(i)\n",
    "        if max_len<len_word:\n",
    "            max_len=len_word\n",
    "            max_len_word=i\n",
    "        #print(len_word,max_len)  \n",
    "        \n",
    "    print(lst_text,max_len,i)  \n",
    "    \n",
    "    #max_occur_word\n",
    "    for i in lst_text:\n",
    "        count=0\n",
    "        for j in lst_text:\n",
    "            if i==j:\n",
    "                count+=1\n",
    "                #print(i,count)\n",
    "        if count>max_count:\n",
    "            max_count=count\n",
    "            max_count_word=i\n",
    "    \n",
    "    #print(\"Longest word in the text is {max_len} and the length of the word is {i}\".format(str(max_len),i))\n",
    "    print(max_count_word,max_count)\n",
    "\n",
    "texts=\"Thank you for your comment and your participation\"\n",
    "count_Words(texts)"
   ]
  },
  {
   "cell_type": "code",
   "execution_count": 53,
   "id": "b40ac633",
   "metadata": {},
   "outputs": [
    {
     "name": "stdout",
     "output_type": "stream",
     "text": [
      "original list is  ['gfg is best for geeks', 'geeks love gfg', 'gfg is best']\n",
      "Word with maximum frequency : gfg\n"
     ]
    }
   ],
   "source": [
    "#method-3 using dictionary\n",
    "from collections import defaultdict\n",
    "\n",
    "test_list=[\"gfg is best for geeks\", \"geeks love gfg\", \"gfg is best\"]\n",
    "print(\"original list is \",test_list)\n",
    "\n",
    "temp=defaultdict(int) #dictionary declaration with key integer\n",
    "\n",
    "for sub in test_list:\n",
    "    for wrd in sub.split():\n",
    "        temp[wrd]+=1\n",
    "        \n",
    "res=max(temp,key=temp.get)\n",
    "\n",
    "print(\"Word with maximum frequency : \" + str(res))"
   ]
  },
  {
   "cell_type": "code",
   "execution_count": 56,
   "id": "c4164a15",
   "metadata": {},
   "outputs": [
    {
     "name": "stdout",
     "output_type": "stream",
     "text": [
      "Input number of combinations and sum, input 0 0 to exit:\n",
      "5 6 \n",
      "0 0\n",
      "0\n"
     ]
    }
   ],
   "source": [
    "#48-Write a Python program that reads n digits (given) chosen from 0 to 9 \n",
    "#and prints the number of combinations where the sum of the digits equals to another given number (s). \n",
    "#Do not use the same digits in a combination.\n",
    "\n",
    "import itertools\n",
    "print(\"Input number of combinations and sum, input 0 0 to exit:\")\n",
    "while True:\n",
    "  x, y = map(int, input(). split())\n",
    "  if x == 0 and y == 0:\n",
    "    break\n",
    "  s = list(itertools.combinations(range(10), x))\n",
    "  ctr = 0\n",
    "  for i in s:\n",
    "    if sum(i) == y:\n",
    "            ctr += 1\n",
    " \n",
    "print(ctr)\n"
   ]
  },
  {
   "cell_type": "code",
   "execution_count": 1,
   "id": "27574f6c",
   "metadata": {},
   "outputs": [
    {
     "name": "stdout",
     "output_type": "stream",
     "text": [
      "input two adjoined sides and diagonals of parallelogram: \n",
      "3,4,5\n",
      "This is rectangle\n"
     ]
    }
   ],
   "source": [
    "#49-Write a Python program which reads the two adjoined sides and the diagonal of a parallelogram and\n",
    "#check whether the parallelogram is a rectangle or a rhombus.\n",
    "#logic-rectangle==>diagonals and sides follow pythagorus theorem\n",
    "#Logic-rhombus-It has sides of eaqual length\n",
    "print(\"input two adjoined sides and diagonals of parallelogram: \")\n",
    "a,b,c=map(int,input().split(\",\"))\n",
    "if c**2==a**2+b**2:\n",
    "    print(\"This is rectangle\")\n",
    "if a==b:\n",
    "    print(\"This is rhombus\")    "
   ]
  },
  {
   "cell_type": "markdown",
   "id": "0e25c760",
   "metadata": {},
   "source": []
  },
  {
   "cell_type": "code",
   "execution_count": 17,
   "id": "166a9052",
   "metadata": {},
   "outputs": [
    {
     "name": "stdout",
     "output_type": "stream",
     "text": [
      "Python\n",
      "is\n",
      "popular\n",
      "than\n",
      "Java\n",
      "Java is popular than Java\n"
     ]
    }
   ],
   "source": [
    "#50-Write a Python program to replace a string \"Python\" with \"Java\" and \"Java\" with \"Python\" in a given string\n",
    "#solution-1:treat string as array and use split() method. find words python and java and replace them\n",
    "#solution-2:use replace() method\n",
    "def replaceSTR():\n",
    "    a=\"Python\"\n",
    "    b=\"Java\"\n",
    "    c=\"Python is popular than Java\"\n",
    "    lst=c.split(\" \")\n",
    "    k=[]\n",
    "    op_c=\" \"\n",
    "    #print(i)\n",
    "    for i in lst:\n",
    "        print(i)\n",
    "        if i==a:\n",
    "            #print(0)\n",
    "            k.append(i.replace(a,b))\n",
    "            #print(k)\n",
    "        else:\n",
    "            k.append(i)\n",
    "        op_c=' '.join([str(item) for item in k])\n",
    "\n",
    "    print(op_c)\n",
    "replaceSTR()"
   ]
  },
  {
   "cell_type": "code",
   "execution_count": 19,
   "id": "d1b3b130",
   "metadata": {},
   "outputs": [
    {
     "name": "stdout",
     "output_type": "stream",
     "text": [
      "Java is popular than Java\n"
     ]
    }
   ],
   "source": [
    "#solution-2:use replace() method\n",
    "text=\"Python is popular than Java\"\n",
    "new_text=text.replace(\"Python\",\"Java\")\n",
    "print(new_text)"
   ]
  },
  {
   "cell_type": "code",
   "execution_count": 37,
   "id": "4b698338",
   "metadata": {},
   "outputs": [
    {
     "name": "stdout",
     "output_type": "stream",
     "text": [
      "5432\n",
      "2345\n",
      "difference= 3087\n"
     ]
    }
   ],
   "source": [
    "#51-Write a Python program to find the difference between the largest integer and the \n",
    "#smallest integer which are created by 8 numbers from 0 to 9\n",
    "#q1-how many digits would be input\n",
    "#q2-can we repeat them and how many times\n",
    "#q3-would there be signed integers or whole numbers\n",
    "\n",
    "#Logic-\n",
    "#max num-look at the digits. largest digit goes to leftmost side and other will be rearranged as per their value\n",
    "#mim num-max number will be reversed\n",
    "#subtract min from max\n",
    "\n",
    "#solution-\n",
    "def max_min_diff():\n",
    "    #print(\"please input 4 digits \")\n",
    "    nums=[5,3,2,4]\n",
    "    max_digit=0\n",
    "    max_num=0\n",
    "    min_num=0\n",
    "    nums.sort()\n",
    "    for i in range(len(nums)):\n",
    "        max_num+=nums[i]*(10**i)\n",
    "    nums.sort(reverse=True)\n",
    "    for i in range(len(nums)):\n",
    "        min_num+=nums[i]*(10**i)\n",
    "    print(max_num) \n",
    "    print(min_num)\n",
    "    difference=max_num-min_num\n",
    "    print(\"difference=\",difference)\n",
    "max_min_diff()        \n"
   ]
  },
  {
   "cell_type": "code",
   "execution_count": 38,
   "id": "f942be7e",
   "metadata": {},
   "outputs": [
    {
     "name": "stdout",
     "output_type": "stream",
     "text": [
      "Input an integer created by 8 numbers from 0 to 9.:\n",
      "4 5 3 2\n",
      "Difference between the largest and the smallest integer from the given integer:\n",
      "3087\n"
     ]
    }
   ],
   "source": [
    "print(\"Input an integer created by 8 numbers from 0 to 9.:\")\n",
    "num = list(input())\n",
    "print(\"Difference between the largest and the smallest integer from the given integer:\")\n",
    "print(int(\"\".join(sorted(num,reverse=True))) - int(\"\".join(sorted(num))))"
   ]
  },
  {
   "cell_type": "code",
   "execution_count": 35,
   "id": "a08e0033",
   "metadata": {},
   "outputs": [
    {
     "name": "stdout",
     "output_type": "stream",
     "text": [
      "2\n",
      "9.848857801796104\n"
     ]
    }
   ],
   "source": [
    "#52-Write a Python program to compute the sum of first n given prime numbers\n",
    "#solution-find prime numbers add them up\n",
    "#logic-to find n prime numbers length of list should be ni\n",
    "import math\n",
    "def prime_num_sum():\n",
    "    primeNum_lst=[]\n",
    "    prime_sum=0\n",
    "    num=97\n",
    "    lst=[]\n",
    "    count=0\n",
    "    i=2\n",
    "    x=10000\n",
    "    print(i)\n",
    "    print(math.sqrt(num))\n",
    "    \n",
    "    while i<math.sqrt(num):\n",
    "        if num%i==0 :\n",
    "            print(\"number is not prime\",num,i)\n",
    "            break\n",
    "        elif num==i :\n",
    "            print(\"number is prime\",num)\n",
    "        i+=1\n",
    "\n",
    "prime_num_sum()            "
   ]
  },
  {
   "cell_type": "code",
   "execution_count": 8,
   "id": "470bb888",
   "metadata": {},
   "outputs": [
    {
     "name": "stdout",
     "output_type": "stream",
     "text": [
      "2 + 2 = 4\n",
      "7 + 31 = 38\n",
      "3 + 97 = 100\n"
     ]
    }
   ],
   "source": [
    "#Date-8/22/22\n",
    "#53- accept an even number (>=4, Goldbach number) from the user and create a combinations that express the given\n",
    "#number as a sum of two prime numbers. Print the number of combinations\n",
    "import math \n",
    "MAX=10000\n",
    "primes=[]\n",
    "\n",
    "def sieveSundaram():\n",
    "    marked=[False]*(int(MAX/2)+100)\n",
    "    \n",
    "    for i in range(1,int((math.sqrt(MAX)-1)/2)+1):    #These are non primes\n",
    "        for j in range((i*(i+1))<<1, int(MAX/2)+1, 2*i+1):\n",
    "            marked[j]=True\n",
    "           # print(i,j,marked[j])\n",
    "            \n",
    "    primes.append(2)  #as 2 is a prime number\n",
    "    \n",
    "    for i in range(1,int(MAX/2)+1):\n",
    "        if marked[i]==False:\n",
    "            primes.append(2*i+1)\n",
    "    \n",
    "def findPrimes(n):\n",
    "    if n<=2 or n%2!=0:\n",
    "        print(\"Invalid Output\")\n",
    "        return\n",
    "    i=0\n",
    "    while (primes[i]<=n//2):\n",
    "        diff=n-primes[i]\n",
    "            \n",
    "        if diff in primes:\n",
    "            print(primes[i],\"+\",diff,\"=\",n)\n",
    "            return\n",
    "        i+=1\n",
    "\n",
    "sieveSundaram();\n",
    "findPrimes(4);\n",
    "findPrimes(38);\n",
    "findPrimes(100);"
   ]
  },
  {
   "cell_type": "code",
   "execution_count": 9,
   "id": "cbcd5994",
   "metadata": {},
   "outputs": [
    {
     "name": "stdout",
     "output_type": "stream",
     "text": [
      "56\n"
     ]
    }
   ],
   "source": [
    "#54-Python program to create maximum number of regions obtained by drawing n given straight lines\n",
    "def maxRegions(n):\n",
    "    num = n * (n + 1) // 2 + 1 \n",
    "    print(num)\n",
    " \n",
    "# Driver code\n",
    "n = 10 \n",
    "maxRegions(n)"
   ]
  },
  {
   "cell_type": "code",
   "execution_count": 11,
   "id": "766ff1e8",
   "metadata": {},
   "outputs": [
    {
     "name": "stdout",
     "output_type": "stream",
     "text": [
      "Yes\n"
     ]
    }
   ],
   "source": [
    "#55- There are four different points on a plane, P(xp,yp), Q(xq, yq), R(xr, yr) and S(xs, ys). \n",
    "#Write a Python program to test AB and CD are orthogonal or not\n",
    "def checkOrtho(x1, y1, x2, y2, x3, y3, x4, y4):\n",
    "    # Both lines have infinite slope\n",
    "    if (x2 - x1 == 0 and x4 - x3 == 0):\n",
    "        return False\n",
    "    \n",
    "    # Only line 1 has infinite slope\n",
    "    elif (x2 - x1 == 0):\n",
    "        m2 = (y4 - y3) / (x4 - x3)\n",
    " \n",
    "        if (m2 == 0):\n",
    "            return True\n",
    "        else:\n",
    "            return False\n",
    "        \n",
    "    # Only line 2 has infinite slope\n",
    "    elif (x4 - x3 == 0):\n",
    "        m1 = (y2 - y1) / (x2 - x1);\n",
    " \n",
    "        if (m1 == 0):\n",
    "            return True\n",
    "        else:\n",
    "            return False\n",
    "        \n",
    "    else:        \n",
    "        # Find slopes of the lines\n",
    "        m1 = (y2 - y1) / (x2 - x1)\n",
    "        m2 = (y4 - y3) / (x4 - x3)\n",
    " \n",
    "        # Check if their product is -1\n",
    "        if (m1 * m2 == -1):\n",
    "            return True\n",
    "        else:\n",
    "            return False\n",
    "        \n",
    "if __name__ == '__main__':\n",
    "    x1 = 0\n",
    "    y1 = 4\n",
    "    x2 = 0\n",
    "    y2 = -9\n",
    "    x3 = 2\n",
    "    y3 = 0\n",
    "    x4 = -1\n",
    "    y4 = 0\n",
    "     \n",
    "    if(checkOrtho(x1, y1, x2, y2,\n",
    "                  x3, y3, x4, y4)):\n",
    "        print(\"Yes\")\n",
    "    else:\n",
    "        print(\"No\")"
   ]
  },
  {
   "cell_type": "code",
   "execution_count": 12,
   "id": "d8fbef0c",
   "metadata": {},
   "outputs": [
    {
     "name": "stdout",
     "output_type": "stream",
     "text": [
      "Input xp, yp, xq, yq, xr, yr, xs, ys:\n",
      "0\n"
     ]
    }
   ],
   "source": [
    "while True:\n",
    "    try:\n",
    "        print(\"Input xp, yp, xq, yq, xr, yr, xs, ys:\")\n",
    "        x_p, y_p, x_q, y_q, x_r, y_r, x_s, y_s = map(float, input().split())\n",
    "        pq_x, pq_y = x_q - x_p, y_q - y_p\n",
    "        rs_x, rs_y = x_s - x_r, y_s - y_r\n",
    "        rs = pq_x*rs_x + pq_y*rs_y\n",
    "        if abs(rs) > 1e-10:\n",
    "            print(\"AB and CD are not orthogonal!\")\n",
    "        else:\n",
    "            print(\"AB and CD are orthogonal!\")\n",
    "    except:\n",
    "        break"
   ]
  },
  {
   "cell_type": "code",
   "execution_count": 16,
   "id": "efa31f20",
   "metadata": {},
   "outputs": [
    {
     "name": "stdout",
     "output_type": "stream",
     "text": [
      "Sum of the numeric values:  80\n",
      "Sum of the numeric values:  17\n",
      "Sum of the numeric values:  10\n"
     ]
    }
   ],
   "source": [
    "#56-sum of all numerical values (positive integers) embedded in a sentence\n",
    "import sys, re\n",
    "def test(stri):\n",
    "    print(\"Sum of the numeric values: \",sum([sum(map(int,re.findall(r\"[0-9]{1,5}\",stri)))]))\n",
    "    \n",
    "(test(\"sd1fdsfs23 dssd56\"))\n",
    "(test(\"15apple2banana\"))\n",
    "(test(\"flowers5fruit5\"))"
   ]
  },
  {
   "cell_type": "code",
   "execution_count": 17,
   "id": "2a0e7873",
   "metadata": {},
   "outputs": [],
   "source": [
    "#57\n",
    "#https://www.google.com/search?q=Write+a+Python+program+to+read+the+mass+data+and+find+the+number+of+islands.&rlz=1C1RXQR_enUS983US984&oq=Write+a+Python+program+to+read+the+mass+data+and+find+the+number+of+islands.&aqs=chrome..69i57.391j0j7&sourceid=chrome&ie=UTF-8\n",
    "\n",
    "#Graph or DFS algorithm"
   ]
  },
  {
   "cell_type": "code",
   "execution_count": 7,
   "id": "5a44e6ba",
   "metadata": {},
   "outputs": [
    {
     "name": "stdout",
     "output_type": "stream",
     "text": [
      "XYZZZZZZ6Z1ZZZZZZ00004023\n"
     ]
    }
   ],
   "source": [
    "#58-restore the original string by entering the compressed string with this rule.\n",
    "#However, the # character does not appear in the restored character string\n",
    "#input-XY#6Z1#4023\n",
    "#output-XYZZZZZZ1000023\n",
    "\n",
    "s=\"XY#6Z1#4023\"\n",
    "res=\"\"\n",
    "rep_str=\"\"\n",
    "\n",
    "for i in range(len(s)):\n",
    "    if s[i]==\"#\":\n",
    "        cnt=0\n",
    "        cnt=int(s[i+1])\n",
    "        #print(cnt)\n",
    "        for j in range(cnt):\n",
    "            rep_str+=s[i+2]\n",
    "            #print(rep_str)\n",
    "        res=res+rep_str\n",
    "        #print(res)\n",
    "        i=i+2\n",
    "    else:\n",
    "        res=res+s[i]\n",
    "        #print(res)\n",
    "print(res)\n"
   ]
  },
  {
   "cell_type": "code",
   "execution_count": 8,
   "id": "35a76e3d",
   "metadata": {},
   "outputs": [
    {
     "name": "stdout",
     "output_type": "stream",
     "text": [
      "XYZZZZZZ1000023\n"
     ]
    }
   ],
   "source": [
    "def restore_original_str(a1):\n",
    "    result=\"\"\n",
    "    ind=0\n",
    "    end=len(a1)\n",
    "    while ind<end:\n",
    "        if a1[ind]==\"#\":\n",
    "            result+=a1[ind+2]*int(a1[ind+1])\n",
    "            ind+=3\n",
    "        else:\n",
    "            result+=a1[ind]\n",
    "            ind+=1\n",
    "    return result\n",
    "print(restore_original_str(\"XY#6Z1#4023\"))"
   ]
  },
  {
   "cell_type": "code",
   "execution_count": 9,
   "id": "6d2bf88b",
   "metadata": {},
   "outputs": [
    {
     "name": "stdout",
     "output_type": "stream",
     "text": [
      "2\n"
     ]
    }
   ],
   "source": [
    "#59-compute the area of the polygon . \n",
    "#The vertices have the names vertex 1, vertex 2, vertex 3, ... vertex n according to the order of edge connections\n",
    "\n",
    "#shoelace formula\n",
    "def polygonArea(X,Y,n):\n",
    "    area=0.0\n",
    "    \n",
    "    j=n-1\n",
    "    for i in range(0,n):\n",
    "        area+=(X[j]+X[i])*(Y[j]-Y[i])\n",
    "        j=i        \n",
    "    return int(abs(area/2.0))\n",
    "\n",
    "X = [0, 2, 4]\n",
    "Y = [1, 3, 7]\n",
    "n = len(X)\n",
    "print(polygonArea(X, Y, n))  "
   ]
  },
  {
   "cell_type": "code",
   "execution_count": 11,
   "id": "27d6f4e7",
   "metadata": {},
   "outputs": [
    {
     "name": "stdout",
     "output_type": "stream",
     "text": [
      "Input a sentence (1024 characters. max.)\n",
      "The quick brown fox\n",
      "3 to 6 characters length of words:\n",
      "The quick brown fox\n"
     ]
    }
   ],
   "source": [
    "#60-cut out words of 3 to 6 characters length from a given sentence not more than 1024 characters\n",
    "print(\"Input a sentence (1024 characters. max.)\")\n",
    "yy = input()\n",
    "yy = yy.replace(\",\", \" \")\n",
    "yy = yy.replace(\".\", \" \")\n",
    "print(\"3 to 6 characters length of words:\")\n",
    "print(*[y for y in yy.split() if 3 <= len(y) <= 6])"
   ]
  },
  {
   "cell_type": "code",
   "execution_count": null,
   "id": "3cd4aa94",
   "metadata": {},
   "outputs": [],
   "source": [
    "#61-The maximum value of the sum of integers passing according to the rule on one line.\n",
    "#Dynamic Programming\n",
    "#https://www.geeksforgeeks.org/maximum-path-sum-starting-cell-0-th-row-ending-cell-n-1-th-row/"
   ]
  },
  {
   "cell_type": "code",
   "execution_count": 14,
   "id": "10d8048c",
   "metadata": {},
   "outputs": [
    {
     "name": "stdout",
     "output_type": "stream",
     "text": [
      "Input positive integer: \n",
      "0   1\n",
      "1   2\n",
      "2   3\n",
      "3   4\n",
      "4   3\n",
      "2\n",
      "1 3\n",
      "2 2\n",
      "3 1\n",
      "Number of combinations of a,b,c,d:  10\n"
     ]
    },
    {
     "ename": "KeyboardInterrupt",
     "evalue": "Interrupted by user",
     "output_type": "error",
     "traceback": [
      "\u001b[1;31m---------------------------------------------------------------------------\u001b[0m",
      "\u001b[1;31mKeyboardInterrupt\u001b[0m                         Traceback (most recent call last)",
      "\u001b[1;32m~\\AppData\\Local\\Temp/ipykernel_12348/4219759435.py\u001b[0m in \u001b[0;36m<module>\u001b[1;34m\u001b[0m\n\u001b[0;32m     10\u001b[0m \u001b[1;32mwhile\u001b[0m \u001b[1;32mTrue\u001b[0m\u001b[1;33m:\u001b[0m\u001b[1;33m\u001b[0m\u001b[1;33m\u001b[0m\u001b[0m\n\u001b[0;32m     11\u001b[0m     \u001b[1;32mtry\u001b[0m\u001b[1;33m:\u001b[0m\u001b[1;33m\u001b[0m\u001b[1;33m\u001b[0m\u001b[0m\n\u001b[1;32m---> 12\u001b[1;33m         \u001b[0mn\u001b[0m\u001b[1;33m=\u001b[0m\u001b[0mint\u001b[0m\u001b[1;33m(\u001b[0m\u001b[0minput\u001b[0m\u001b[1;33m(\u001b[0m\u001b[1;33m)\u001b[0m\u001b[1;33m)\u001b[0m\u001b[1;33m\u001b[0m\u001b[1;33m\u001b[0m\u001b[0m\n\u001b[0m\u001b[0;32m     13\u001b[0m         \u001b[0mans\u001b[0m\u001b[1;33m=\u001b[0m\u001b[1;36m0\u001b[0m\u001b[1;33m\u001b[0m\u001b[1;33m\u001b[0m\u001b[0m\n\u001b[0;32m     14\u001b[0m         \u001b[1;32mfor\u001b[0m \u001b[0mi\u001b[0m \u001b[1;32min\u001b[0m \u001b[0mrange\u001b[0m\u001b[1;33m(\u001b[0m\u001b[0mn\u001b[0m\u001b[1;33m+\u001b[0m\u001b[1;36m1\u001b[0m\u001b[1;33m)\u001b[0m\u001b[1;33m:\u001b[0m\u001b[1;33m\u001b[0m\u001b[1;33m\u001b[0m\u001b[0m\n",
      "\u001b[1;32m~\\anaconda3\\lib\\site-packages\\ipykernel\\kernelbase.py\u001b[0m in \u001b[0;36mraw_input\u001b[1;34m(self, prompt)\u001b[0m\n\u001b[0;32m   1004\u001b[0m                 \u001b[1;34m\"raw_input was called, but this frontend does not support input requests.\"\u001b[0m\u001b[1;33m\u001b[0m\u001b[1;33m\u001b[0m\u001b[0m\n\u001b[0;32m   1005\u001b[0m             )\n\u001b[1;32m-> 1006\u001b[1;33m         return self._input_request(\n\u001b[0m\u001b[0;32m   1007\u001b[0m             \u001b[0mstr\u001b[0m\u001b[1;33m(\u001b[0m\u001b[0mprompt\u001b[0m\u001b[1;33m)\u001b[0m\u001b[1;33m,\u001b[0m\u001b[1;33m\u001b[0m\u001b[1;33m\u001b[0m\u001b[0m\n\u001b[0;32m   1008\u001b[0m             \u001b[0mself\u001b[0m\u001b[1;33m.\u001b[0m\u001b[0m_parent_ident\u001b[0m\u001b[1;33m[\u001b[0m\u001b[1;34m\"shell\"\u001b[0m\u001b[1;33m]\u001b[0m\u001b[1;33m,\u001b[0m\u001b[1;33m\u001b[0m\u001b[1;33m\u001b[0m\u001b[0m\n",
      "\u001b[1;32m~\\anaconda3\\lib\\site-packages\\ipykernel\\kernelbase.py\u001b[0m in \u001b[0;36m_input_request\u001b[1;34m(self, prompt, ident, parent, password)\u001b[0m\n\u001b[0;32m   1049\u001b[0m             \u001b[1;32mexcept\u001b[0m \u001b[0mKeyboardInterrupt\u001b[0m\u001b[1;33m:\u001b[0m\u001b[1;33m\u001b[0m\u001b[1;33m\u001b[0m\u001b[0m\n\u001b[0;32m   1050\u001b[0m                 \u001b[1;31m# re-raise KeyboardInterrupt, to truncate traceback\u001b[0m\u001b[1;33m\u001b[0m\u001b[1;33m\u001b[0m\u001b[0m\n\u001b[1;32m-> 1051\u001b[1;33m                 \u001b[1;32mraise\u001b[0m \u001b[0mKeyboardInterrupt\u001b[0m\u001b[1;33m(\u001b[0m\u001b[1;34m\"Interrupted by user\"\u001b[0m\u001b[1;33m)\u001b[0m \u001b[1;32mfrom\u001b[0m \u001b[1;32mNone\u001b[0m\u001b[1;33m\u001b[0m\u001b[1;33m\u001b[0m\u001b[0m\n\u001b[0m\u001b[0;32m   1052\u001b[0m             \u001b[1;32mexcept\u001b[0m \u001b[0mException\u001b[0m\u001b[1;33m:\u001b[0m\u001b[1;33m\u001b[0m\u001b[1;33m\u001b[0m\u001b[0m\n\u001b[0;32m   1053\u001b[0m                 \u001b[0mself\u001b[0m\u001b[1;33m.\u001b[0m\u001b[0mlog\u001b[0m\u001b[1;33m.\u001b[0m\u001b[0mwarning\u001b[0m\u001b[1;33m(\u001b[0m\u001b[1;34m\"Invalid Message:\"\u001b[0m\u001b[1;33m,\u001b[0m \u001b[0mexc_info\u001b[0m\u001b[1;33m=\u001b[0m\u001b[1;32mTrue\u001b[0m\u001b[1;33m)\u001b[0m\u001b[1;33m\u001b[0m\u001b[1;33m\u001b[0m\u001b[0m\n",
      "\u001b[1;31mKeyboardInterrupt\u001b[0m: Interrupted by user"
     ]
    }
   ],
   "source": [
    "#62-find the number of combinations that satisfy p + q + r + s = n\n",
    "#where n is a given number <= 4000 and p, q, r, s in the range of 0 to 1000\n",
    "from collections import Counter\n",
    "\n",
    "print(\"Input positive integer: \")\n",
    "pair_dict=Counter()\n",
    "for i in range(2000):  #2000=2n\n",
    "    pair_dict[i]=min(i,2001-i)+1  #2001=2n+1\n",
    "    #print(i,\" \",pair_dict[i])\n",
    "while True:\n",
    "    try:\n",
    "        n=int(input())\n",
    "        ans=0\n",
    "        for i in range(n+1):\n",
    "            print(pair_dict[i],pair_dict[n-i])\n",
    "            ans+=pair_dict[i]*pair_dict[n-i]\n",
    "        print(\"Number of combinations of a,b,c,d: \",ans)\n",
    "    except EOFError:\n",
    "        break"
   ]
  },
  {
   "cell_type": "code",
   "execution_count": 16,
   "id": "8dbe54d6",
   "metadata": {},
   "outputs": [
    {
     "name": "stdout",
     "output_type": "stream",
     "text": [
      "Input number of rows/columns:\n",
      "2\n",
      "Input Cell Value:\n",
      "1 2\n",
      "2 3\n",
      "result:\n",
      "    1    2    3    2    3    5    3    5    8Input number of rows/columns:\n",
      "1\n",
      "Input Cell Value:\n",
      "1\n",
      "result:\n",
      "    1    1    1    1Input number of rows/columns:\n",
      "0\n"
     ]
    }
   ],
   "source": [
    "#63-program which adds up columns and rows of given table as shown in the specified figure\n",
    "while True:\n",
    "    print(\"Input number of rows/columns:\")\n",
    "    n=int(input())\n",
    "    if n==0:\n",
    "        break\n",
    "    print(\"Input Cell Value:\")\n",
    "    x=[]\n",
    "    for i in range(n):\n",
    "        x.append([int(num) for num in input().split()])\n",
    "    \n",
    "    for i in range(n):\n",
    "        sum=0\n",
    "        for j in range(n):\n",
    "            sum+=x[i][j]\n",
    "        x[i].append(sum)\n",
    "    \n",
    "    x.append([])\n",
    "    for i in range(n+1):\n",
    "        sum=0\n",
    "        for j in range(n):\n",
    "            sum+=x[j][i]\n",
    "        x[n].append(sum)\n",
    "    print(\"result:\")\n",
    "    \n",
    "    for i in range(n+1):\n",
    "        for j in range(n+1):\n",
    "            print('{0:>5}'.format(x[i][j]),end=\"\")\n",
    "            "
   ]
  },
  {
   "cell_type": "code",
   "execution_count": 20,
   "id": "85db3554",
   "metadata": {},
   "outputs": [
    {
     "name": "stdout",
     "output_type": "stream",
     "text": [
      "True\n"
     ]
    }
   ],
   "source": [
    "#64-Given a list of numbers and a number k, \n",
    "#write a Python program to check whether the sum of any two numbers from the list is equal to k or not\n",
    "\n",
    "#test case-[1, 5, 11, 5] and k = 16, return true since 11 + 5 is 16\n",
    "\n",
    "arr=[1, 5, 11, 5]\n",
    "k=16\n",
    "\n",
    "for i in arr:\n",
    "    if (k-i) in arr:\n",
    "        print(\"True\")\n",
    "        break\n",
    "    else:\n",
    "        continue"
   ]
  },
  {
   "cell_type": "code",
   "execution_count": 21,
   "id": "61125d25",
   "metadata": {},
   "outputs": [
    {
     "name": "stdout",
     "output_type": "stream",
     "text": [
      "True\n"
     ]
    }
   ],
   "source": [
    "def check_sum(nums, k):   \n",
    "    for i in range(len(nums)):\n",
    "        for j in range(i+1, len(nums)):\n",
    "            if nums[i] + nums[j] == k:\n",
    "                return True\n",
    "    return False\n",
    "print(check_sum([12, 5, 0, 5], 10))"
   ]
  },
  {
   "cell_type": "code",
   "execution_count": 23,
   "id": "07f92134",
   "metadata": {},
   "outputs": [
    {
     "name": "stdout",
     "output_type": "stream",
     "text": [
      "Gren\n"
     ]
    }
   ],
   "source": [
    "#65-find the longest word in set of words which is a subsequence of a given string\n",
    "#solution: find the indexes of subsequence in an array. sort array. see if the original array and sorted rray are same\n",
    "\n",
    "s=\"Green\" \n",
    "sub={\"Gn\", \"Gren\", \"ree\", \"en\"}\n",
    "#sub=\"ree\"\n",
    "\n",
    "def longest_word_seq(s,d):\n",
    "    long_wrd=\"\"\n",
    "    \n",
    "    for word in d:\n",
    "        temp_wrd=''\n",
    "        j=0\n",
    "        for letter in word:\n",
    "            for i in range(j,len(s)):\n",
    "                if letter==s[i]:\n",
    "                    temp_wrd+=letter\n",
    "                    j=i  #when reach end of len of s\n",
    "                    break\n",
    "                else:\n",
    "                    continue\n",
    "                    \n",
    "        if (temp_wrd)==word and len(long_wrd)<len(temp_wrd):\n",
    "            long_wrd=temp_wrd\n",
    "        else:\n",
    "            continue\n",
    "    return long_wrd\n",
    "print(longest_word_seq(s,sub))"
   ]
  },
  {
   "cell_type": "code",
   "execution_count": null,
   "id": "05972755",
   "metadata": {},
   "outputs": [],
   "source": [
    "#66-check whether a number is \"happy\" or not\n",
    "#solution-recursion\n",
    "n=2\n",
    "\n",
    "def happy_num(n):\n",
    "    arr_visited=[]\n",
    "    new_n=0  \n",
    "    #base case\n",
    "    if n==1:\n",
    "        #print(\"hola\")\n",
    "        return True\n",
    "    #elif new_n in arr_visited:\n",
    "        #return False\n",
    "    else:\n",
    "        length=len(str(n))\n",
    "        for i in range(length):\n",
    "            dig=str(n)[i]\n",
    "            new_n+=int(dig)**2\n",
    "        n=new_n\n",
    "        if new_n in arr_visited:\n",
    "            return False\n",
    "        else:\n",
    "            arr_visited.append(new_n)\n",
    "            return happy_num(n)\n",
    "            \n",
    "        print(n)\n",
    "        \n",
    "happy_num(n)"
   ]
  },
  {
   "cell_type": "code",
   "execution_count": null,
   "id": "333a9680",
   "metadata": {},
   "outputs": [],
   "source": []
  },
  {
   "cell_type": "code",
   "execution_count": null,
   "id": "6f3ed4c9",
   "metadata": {},
   "outputs": [],
   "source": []
  }
 ],
 "metadata": {
  "kernelspec": {
   "display_name": "Python 3 (ipykernel)",
   "language": "python",
   "name": "python3"
  },
  "language_info": {
   "codemirror_mode": {
    "name": "ipython",
    "version": 3
   },
   "file_extension": ".py",
   "mimetype": "text/x-python",
   "name": "python",
   "nbconvert_exporter": "python",
   "pygments_lexer": "ipython3",
   "version": "3.9.7"
  }
 },
 "nbformat": 4,
 "nbformat_minor": 5
}
