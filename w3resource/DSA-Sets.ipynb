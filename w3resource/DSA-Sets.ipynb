{
 "cells": [
  {
   "cell_type": "code",
   "execution_count": 13,
   "id": "4f1a915d",
   "metadata": {},
   "outputs": [
    {
     "name": "stdout",
     "output_type": "stream",
     "text": [
      "set() {1, 2, 3, 4} {1, 2, 'bar', 3, 'foo'}\n"
     ]
    }
   ],
   "source": [
    "#Date 8/13/22\n",
    "#https://www.w3resource.com/python/python-sets.php\n",
    "#https://www.geeksforgeeks.org/python-sets/\n",
    "#https://www.geeksforgeeks.org/frozenset-in-python/#:~:text=Python%20frozenset()%20Method%20creates,a%20built%2Din%20Python%20function.&text=Parameter%20%3A,iterable%20object%20as%20input%20parameter.\n",
    "\n",
    "#1-create a set\n",
    "set_a=set()\n",
    "\n",
    "set_b=set([1,2,3,4])\n",
    "\n",
    "set_c= {1,2,3,'foo','bar'}\n",
    "\n",
    "print(set_a,set_b,set_c)"
   ]
  },
  {
   "cell_type": "code",
   "execution_count": 15,
   "id": "2629083e",
   "metadata": {},
   "outputs": [
    {
     "name": "stdout",
     "output_type": "stream",
     "text": [
      "1 2 3 4 "
     ]
    }
   ],
   "source": [
    "#2-iteration over sets\n",
    "set_b=set([1,2,3,4])\n",
    "for i in set_b:\n",
    "    print(i,end=\" \")"
   ]
  },
  {
   "cell_type": "code",
   "execution_count": 20,
   "id": "ce0883ca",
   "metadata": {},
   "outputs": [
    {
     "name": "stdout",
     "output_type": "stream",
     "text": [
      "{1, 2, 3, 4, 5}\n",
      "{1, 2, 3, 4, 5, 6}\n"
     ]
    }
   ],
   "source": [
    "#3-add member(s) in a set\n",
    "set_b=set([1,2,3,4])\n",
    "set_b.add(5)\n",
    "print(set_b)\n",
    "\n",
    "set_b.update([6])\n",
    "print(set_b)"
   ]
  },
  {
   "cell_type": "code",
   "execution_count": 23,
   "id": "5c756010",
   "metadata": {},
   "outputs": [
    {
     "name": "stdout",
     "output_type": "stream",
     "text": [
      "{1, 2, 4, 6, 7}\n",
      "{2, 4, 6, 7}\n",
      "{4, 6, 7}\n"
     ]
    }
   ],
   "source": [
    "#4-remove item(s) from a given set\n",
    "set_b=set([1,2,3,4,6,7])\n",
    "set_b.remove(3)\n",
    "print(set_b)\n",
    "\n",
    "set_b.discard(1)\n",
    "print(set_b)\n",
    "\n",
    "set_b.pop()\n",
    "print(set_b)"
   ]
  },
  {
   "cell_type": "code",
   "execution_count": 24,
   "id": "5fe6043b",
   "metadata": {},
   "outputs": [
    {
     "name": "stdout",
     "output_type": "stream",
     "text": [
      "number not present in set\n"
     ]
    }
   ],
   "source": [
    "#5-remove an item from a set if it is present in the set\n",
    "set_b=set([1,2,3,4,6,7])\n",
    "n=0\n",
    "if n in set_b:\n",
    "    set_b.remove(n)\n",
    "else:\n",
    "    print(\"number not present in set\")"
   ]
  },
  {
   "cell_type": "code",
   "execution_count": 28,
   "id": "102a0077",
   "metadata": {},
   "outputs": [
    {
     "name": "stdout",
     "output_type": "stream",
     "text": [
      "{2, 3}\n",
      "{2, 3}\n"
     ]
    }
   ],
   "source": [
    "#6-create an intersection of sets\n",
    "set_b=set([1,2,3,4,6,7])\n",
    "set_a=set([3,5,9,0,2,8])\n",
    "\n",
    "print(set_a & set_b)\n",
    "print(set_a.intersection(set_b))"
   ]
  },
  {
   "cell_type": "code",
   "execution_count": 32,
   "id": "ec3f0d89",
   "metadata": {},
   "outputs": [
    {
     "name": "stdout",
     "output_type": "stream",
     "text": [
      "{0, 1, 2, 3, 4, 5, 6, 7, 8, 9}\n",
      "{0, 1, 2, 3, 4, 5, 6, 7, 8, 9}\n"
     ]
    }
   ],
   "source": [
    "#7-create a union of sets\n",
    "set_b=set([1,2,3,4,6,7])\n",
    "set_a=set([3,5,9,0,2,8])\n",
    "\n",
    "print(set_a|set_b)\n",
    "print(set_a.union(set_b))"
   ]
  },
  {
   "cell_type": "code",
   "execution_count": 35,
   "id": "f0da14e1",
   "metadata": {},
   "outputs": [
    {
     "name": "stdout",
     "output_type": "stream",
     "text": [
      "{0, 8, 5, 9}\n",
      "{0, 8, 5, 9}\n"
     ]
    }
   ],
   "source": [
    "#8-create set difference\n",
    "set_b=set([1,2,3,4,6,7])\n",
    "set_a=set([3,5,9,0,2,8])\n",
    "\n",
    "print(set_a-set_b)\n",
    "print(set_a.difference(set_b))"
   ]
  },
  {
   "cell_type": "code",
   "execution_count": 37,
   "id": "41680efe",
   "metadata": {},
   "outputs": [
    {
     "name": "stdout",
     "output_type": "stream",
     "text": [
      "{0, 1, 4, 5, 6, 7, 8, 9}\n"
     ]
    }
   ],
   "source": [
    "#9-create a symmetric difference\n",
    "set_b=set([1,2,3,4,6,7])\n",
    "set_a=set([3,5,9,0,2,8])\n",
    "\n",
    "print(set_a.symmetric_difference(set_b))"
   ]
  },
  {
   "cell_type": "code",
   "execution_count": 39,
   "id": "6ffd4ff0",
   "metadata": {},
   "outputs": [
    {
     "name": "stdout",
     "output_type": "stream",
     "text": [
      "False\n",
      "False\n"
     ]
    }
   ],
   "source": [
    "#10-check if a set is a subset of another set\n",
    "set_b=set([1,2,3,4,6,7])\n",
    "set_a=set([3,5,9,0,2,8])\n",
    "print(set_a>=set_b)\n",
    "print(set_a.issubset(set_b))"
   ]
  },
  {
   "cell_type": "code",
   "execution_count": 40,
   "id": "96be178c",
   "metadata": {},
   "outputs": [
    {
     "name": "stdout",
     "output_type": "stream",
     "text": [
      "{0, 2, 3, 5, 8, 9}\n"
     ]
    }
   ],
   "source": [
    "#11-create a shallow copy of sets\n",
    "set_a=set([3,5,9,0,2,8])\n",
    "set_b=set_a.copy()\n",
    "print(set_b)"
   ]
  },
  {
   "cell_type": "code",
   "execution_count": 41,
   "id": "d5e243d6",
   "metadata": {},
   "outputs": [
    {
     "name": "stdout",
     "output_type": "stream",
     "text": [
      "None\n"
     ]
    }
   ],
   "source": [
    "#12-remove all elements from a given set.\n",
    "set_a=set([3,5,9,0,2,8])\n",
    "print(set_a.clear())"
   ]
  },
  {
   "cell_type": "code",
   "execution_count": 47,
   "id": "c03c74cb",
   "metadata": {},
   "outputs": [
    {
     "name": "stdout",
     "output_type": "stream",
     "text": [
      "False\n",
      "frozenset({1, 2})\n",
      "frozenset({1, 2, 3, 4, 5, 6, 7})\n"
     ]
    }
   ],
   "source": [
    "#13-program to use of frozensets\n",
    "x = frozenset([1, 2, 3, 4, 5])\n",
    "y = frozenset([3, 4, 5, 6, 7])\n",
    "#use isdisjoint(). Return True if the set has no elements in common with other. \n",
    "print(x.isdisjoint(y))\n",
    "#use difference(). Return a new set with elements in the set that are not in the others.\n",
    "print(x.difference(y))\n",
    "#new set with elements from both x and y\n",
    "print(x | y)"
   ]
  },
  {
   "cell_type": "code",
   "execution_count": 46,
   "id": "40d18357",
   "metadata": {},
   "outputs": [
    {
     "name": "stdout",
     "output_type": "stream",
     "text": [
      "9 0\n"
     ]
    }
   ],
   "source": [
    "#14-find maximum and the minimum value in a set\n",
    "set_a=set([3,5,9,0,2,8])\n",
    "print(max(set_a),min(set_a))"
   ]
  },
  {
   "cell_type": "code",
   "execution_count": 48,
   "id": "94edd1c1",
   "metadata": {},
   "outputs": [
    {
     "name": "stdout",
     "output_type": "stream",
     "text": [
      "6\n"
     ]
    }
   ],
   "source": [
    "#15-find the length of a set\n",
    "set_a=set([3,5,9,0,2,8])\n",
    "print(len(set_a))"
   ]
  },
  {
   "cell_type": "code",
   "execution_count": null,
   "id": "6061927a",
   "metadata": {},
   "outputs": [],
   "source": [
    "#16-check if a given value is present in a set or not"
   ]
  }
 ],
 "metadata": {
  "kernelspec": {
   "display_name": "Python 3 (ipykernel)",
   "language": "python",
   "name": "python3"
  },
  "language_info": {
   "codemirror_mode": {
    "name": "ipython",
    "version": 3
   },
   "file_extension": ".py",
   "mimetype": "text/x-python",
   "name": "python",
   "nbconvert_exporter": "python",
   "pygments_lexer": "ipython3",
   "version": "3.9.7"
  }
 },
 "nbformat": 4,
 "nbformat_minor": 5
}
