{
 "cells": [
  {
   "cell_type": "code",
   "execution_count": 1,
   "id": "308d0265",
   "metadata": {},
   "outputs": [
    {
     "name": "stdout",
     "output_type": "stream",
     "text": [
      "Check if x is an integer! \n",
      "False\n",
      "Check if y is an integer! \n",
      "True\n"
     ]
    }
   ],
   "source": [
    "#113\n",
    "#Solution-3\n",
    "x=1.0\n",
    "x_int=isinstance(x,int)\n",
    "print(\"Check if x is an integer! \")\n",
    "print(x_int)\n",
    "y=1\n",
    "y_int=isinstance(y,int)\n",
    "print(\"Check if y is an integer! \")\n",
    "print(y_int)\n"
   ]
  },
  {
   "cell_type": "code",
   "execution_count": 6,
   "id": "e4275aef",
   "metadata": {},
   "outputs": [
    {
     "name": "stdout",
     "output_type": "stream",
     "text": [
      "[12, 34, 35]\n"
     ]
    }
   ],
   "source": [
    "#114******filter function\n",
    "#Solution-1\n",
    "\n",
    "num_list=[-1,12,0,34,-4,35]\n",
    "\n",
    "def posNumFilter(num):\n",
    "    if num>0:\n",
    "        return True\n",
    "    return False\n",
    "\n",
    "num_list_pos=filter(posNumFilter,num_list)\n",
    "print(list(num_list_pos))"
   ]
  },
  {
   "cell_type": "code",
   "execution_count": 7,
   "id": "8e986510",
   "metadata": {},
   "outputs": [
    {
     "name": "stdout",
     "output_type": "stream",
     "text": [
      "[12, 34, 35]\n"
     ]
    }
   ],
   "source": [
    "#114******\n",
    "#Solution-2 \n",
    "num_list=[-1,12,0,34,-4,35]\n",
    "\n",
    "num_list_pos=filter(lambda x:x>0,num_list)#(lambda VAR:CONDITION,INPUT)\n",
    "print(list(num_list_pos))"
   ]
  },
  {
   "cell_type": "code",
   "execution_count": 10,
   "id": "de44a07c",
   "metadata": {},
   "outputs": [
    {
     "name": "stdout",
     "output_type": "stream",
     "text": [
      "[12, 34, 35]\n"
     ]
    }
   ],
   "source": [
    "#114******\n",
    "#Solution-3 short for-if loops\n",
    "num_list=[-1,12,0,34,-4,35]\n",
    "\n",
    "num_list_pos=[n for n  in num_list if n>0]\n",
    "print(num_list_pos)"
   ]
  },
  {
   "cell_type": "code",
   "execution_count": 11,
   "id": "93d79980",
   "metadata": {},
   "outputs": [
    {
     "name": "stdout",
     "output_type": "stream",
     "text": [
      "120\n"
     ]
    }
   ],
   "source": [
    "#115 ***** Reduce function\n",
    "from functools import reduce\n",
    "num_list=[2,3,4,5,1]\n",
    "\n",
    "num_list_prod=reduce((lambda x,y:x*y),num_list)\n",
    "print(num_list_prod)"
   ]
  },
  {
   "cell_type": "code",
   "execution_count": 12,
   "id": "40dfe907",
   "metadata": {},
   "outputs": [
    {
     "name": "stdout",
     "output_type": "stream",
     "text": [
      "120\n"
     ]
    }
   ],
   "source": [
    "#115 *****\n",
    "import math\n",
    "\n",
    "num_list=[2,3,4,5,1]\n",
    "num_list_prod=math.prod(num_list)\n",
    "print(num_list_prod)"
   ]
  },
  {
   "cell_type": "code",
   "execution_count": 13,
   "id": "10f2d4fa",
   "metadata": {},
   "outputs": [
    {
     "name": "stdout",
     "output_type": "stream",
     "text": [
      "\n",
      "Python Exercises - w3resource\n",
      "\n"
     ]
    }
   ],
   "source": [
    "#116\n",
    "str = u'\\u0050\\u0079\\u0074\\u0068\\u006f\\u006e \\u0045\\u0078\\u0065\\u0072\\u0063\\u0069\\u0073\\u0065\\u0073 \\u002d \\u0077\\u0033\\u0072\\u0065\\u0073\\u006f\\u0075\\u0072\\u0063\\u0065'\n",
    "print()\n",
    "print(str)\n",
    "print()"
   ]
  },
  {
   "cell_type": "code",
   "execution_count": 16,
   "id": "1696830f",
   "metadata": {},
   "outputs": [
    {
     "name": "stdout",
     "output_type": "stream",
     "text": [
      "\n",
      "Memory location of str1 = 0x1fafa078b70\n",
      "Memory location of str2 = 0x1fafa078b70\n",
      "\n"
     ]
    }
   ],
   "source": [
    "#117*** Memory Location\n",
    "str1 = \"Python\"\n",
    "str2 = \"Python\"\n",
    " \n",
    "print(\"\\nMemory location of str1 =\", hex(id(str1)))\n",
    "print(\"Memory location of str2 =\", hex(id(str2)))\n",
    "print()\n"
   ]
  },
  {
   "cell_type": "code",
   "execution_count": 17,
   "id": "da12ecdb",
   "metadata": {},
   "outputs": [
    {
     "name": "stdout",
     "output_type": "stream",
     "text": [
      "bytearray(b'\\x02\\x03\\x04\\x05\\x01')\n"
     ]
    }
   ],
   "source": [
    "#118\n",
    "num_list=[2,3,4,5,1]\n",
    "values=bytearray(num_list)\n",
    "\n",
    "print(values)"
   ]
  },
  {
   "cell_type": "code",
   "execution_count": 20,
   "id": "ba04b84e",
   "metadata": {},
   "outputs": [
    {
     "name": "stdout",
     "output_type": "stream",
     "text": [
      "rounded number is 1.12\n",
      "rounded number is 1.12\n"
     ]
    }
   ],
   "source": [
    "#119***** Rounded numbers\n",
    "import math\n",
    "x=1.123\n",
    "#x_round=math.round(x)\n",
    "print(\"rounded number is %.2f\" %x)\n",
    "print(\"rounded number is {:0.2f}\".format(x))"
   ]
  },
  {
   "cell_type": "code",
   "execution_count": 22,
   "id": "4d45ab3a",
   "metadata": {},
   "outputs": [
    {
     "name": "stdout",
     "output_type": "stream",
     "text": [
      "original string : Abcdefmkl\n",
      "Trimmed String Abc\n"
     ]
    }
   ],
   "source": [
    "#120****limiting length of string\n",
    "\n",
    "str1=\"Abcdefmkl\"\n",
    "\n",
    "print(\"original string :\",str1)\n",
    "print(\"Trimmed String %.3s\"%str1)"
   ]
  },
  {
   "cell_type": "code",
   "execution_count": 26,
   "id": "8b36932e",
   "metadata": {},
   "outputs": [
    {
     "name": "stdout",
     "output_type": "stream",
     "text": [
      "Variable is defined..!\n"
     ]
    }
   ],
   "source": [
    "#121****try except block\n",
    "try:\n",
    "    x\n",
    "except NameError:\n",
    "    print(\"Variable is not defined ....!\")\n",
    "else:\n",
    "    print(\"Variable is defined..!\")\n",
    "    "
   ]
  },
  {
   "cell_type": "code",
   "execution_count": 36,
   "id": "e3a2732e",
   "metadata": {},
   "outputs": [
    {
     "name": "stdout",
     "output_type": "stream",
     "text": [
      "0\n",
      "{}\n",
      "[5]\n",
      "()\n"
     ]
    }
   ],
   "source": [
    "#122 Returning Empty variable\n",
    "#solution-1\n",
    "n=20\n",
    "d={\"x\":200}\n",
    "l=[1,3,5]\n",
    "t=(5,6,8)\n",
    "print(type(n)())\n",
    "print(type(d)())\n",
    "print(type(l)())\n",
    "print(type(t)())\n"
   ]
  },
  {
   "cell_type": "code",
   "execution_count": 28,
   "id": "97ccbce0",
   "metadata": {},
   "outputs": [
    {
     "name": "stdout",
     "output_type": "stream",
     "text": [
      "original list:  ['python', {'x': 12}, [10, 12, 'sfsd']]\n",
      "['', {}, []]\n"
     ]
    }
   ],
   "source": [
    "#122 Returning Empty variable\n",
    "#solution-2\n",
    "def empty_var(lst):\n",
    "    return [type(i)() for i in lst]\n",
    "lst=[\"python\",{\"x\":12},[10,12,'sfsd']]\n",
    "print(\"original list: \",lst)\n",
    "print(empty_var(lst))"
   ]
  },
  {
   "cell_type": "code",
   "execution_count": 29,
   "id": "51a19893",
   "metadata": {},
   "outputs": [
    {
     "name": "stdout",
     "output_type": "stream",
     "text": [
      "Float value information  sys.float_info(max=1.7976931348623157e+308, max_exp=1024, max_10_exp=308, min=2.2250738585072014e-308, min_exp=-1021, min_10_exp=-307, dig=15, mant_dig=53, epsilon=2.220446049250313e-16, radix=2, rounds=1)\n",
      "Integer Value information  sys.int_info(bits_per_digit=30, sizeof_digit=4)\n",
      "maximum size of integer  9223372036854775807\n"
     ]
    }
   ],
   "source": [
    "#123 largest int,long and float\n",
    "import sys\n",
    "print(\"Float value information \",sys.float_info)\n",
    "print(\"Integer Value information \",sys.int_info)\n",
    "print(\"maximum size of integer \",sys.maxsize)"
   ]
  },
  {
   "cell_type": "code",
   "execution_count": 32,
   "id": "b8e4fe9d",
   "metadata": {},
   "outputs": [],
   "source": [
    "#124\n",
    "x=20\n",
    "y=20\n",
    "z=200\n",
    "if x==y==z:\n",
    "    print(\"All variables have same value\")"
   ]
  },
  {
   "cell_type": "code",
   "execution_count": 34,
   "id": "7e53ef27",
   "metadata": {},
   "outputs": [
    {
     "name": "stdout",
     "output_type": "stream",
     "text": [
      "All variables are of same value\n"
     ]
    }
   ],
   "source": [
    "#124-All vars have same value solution-2\n",
    "def multiple_var_equality(*var):\n",
    "    for x in var:\n",
    "        if x!=var[0]:\n",
    "            return \"All variables are not of same value\"\n",
    "    return \"All variables are of same value\"\n",
    "print(multiple_var_equality(2,2,2,2))"
   ]
  },
  {
   "cell_type": "code",
   "execution_count": 37,
   "id": "e9722c25",
   "metadata": {},
   "outputs": [
    {
     "name": "stdout",
     "output_type": "stream",
     "text": [
      "9\n"
     ]
    }
   ],
   "source": [
    "#125-sum of all counts in a collections\n",
    "import collections\n",
    "num=[2,2,4,4,6,8,8,4,10]\n",
    "print(sum(collections.Counter(num).values()))"
   ]
  },
  {
   "cell_type": "code",
   "execution_count": 38,
   "id": "8f4362d1",
   "metadata": {},
   "outputs": [
    {
     "name": "stdout",
     "output_type": "stream",
     "text": [
      "9\n"
     ]
    }
   ],
   "source": [
    "#125-sum of all counts in a collections\n",
    "import collections\n",
    "num=[2,2,4,4,6,8,8,4,10]\n",
    "print(len(num))"
   ]
  },
  {
   "cell_type": "code",
   "execution_count": 39,
   "id": "f3e7ab2a",
   "metadata": {},
   "outputs": [
    {
     "name": "stdout",
     "output_type": "stream",
     "text": [
      "<module 'math' (built-in)>\n"
     ]
    }
   ],
   "source": [
    "#126-actual module object for a given object\n",
    "from inspect import getmodule\n",
    "from math import sqrt\n",
    "print(getmodule(sqrt))"
   ]
  },
  {
   "cell_type": "code",
   "execution_count": 41,
   "id": "2bd8c2d8",
   "metadata": {},
   "outputs": [
    {
     "name": "stdout",
     "output_type": "stream",
     "text": [
      "<module '__main__'>\n"
     ]
    }
   ],
   "source": [
    "#126-actual module object for a given object\n",
    "import inspect \n",
    "def add(x,y):\n",
    "    return x+y\n",
    "print(inspect.getmodule(add))"
   ]
  },
  {
   "cell_type": "code",
   "execution_count": 44,
   "id": "db209e87",
   "metadata": {},
   "outputs": [
    {
     "name": "stdout",
     "output_type": "stream",
     "text": [
      "64\n",
      "7\n"
     ]
    }
   ],
   "source": [
    "#127\n",
    "int_val=30\n",
    "if int_val.bit_length()<=63:\n",
    "    print((-2 ** 63).bit_length())\n",
    "    print((2 ** 63).bit_length())"
   ]
  },
  {
   "cell_type": "code",
   "execution_count": 50,
   "id": "c5ba7639",
   "metadata": {},
   "outputs": [
    {
     "name": "stdout",
     "output_type": "stream",
     "text": [
      "True\n"
     ]
    }
   ],
   "source": [
    "#128-lowercase letters exist in a string\n",
    "\n",
    "str1='abCc'\n",
    "print(any(c.islower() for c in str1))"
   ]
  },
  {
   "cell_type": "code",
   "execution_count": 53,
   "id": "de200602",
   "metadata": {},
   "outputs": [
    {
     "name": "stdout",
     "output_type": "stream",
     "text": [
      "None\n"
     ]
    }
   ],
   "source": [
    "#128--lowercase letters exist in a string\n",
    "def lower_case_str(txt):\n",
    "    ctr=0\n",
    "    for char in txt:\n",
    "        if(ord(char)>=97 and ord(char)<=122):\n",
    "            ctr=ctr+1\n",
    "        if(ctr>0):\n",
    "            return True\n",
    "str1='PYTHON'\n",
    "print(lower_case_str(str1))"
   ]
  },
  {
   "cell_type": "code",
   "execution_count": 55,
   "id": "b5519d91",
   "metadata": {},
   "outputs": [
    {
     "name": "stdout",
     "output_type": "stream",
     "text": [
      "Champ0000\n"
     ]
    }
   ],
   "source": [
    "#129-add leading zeros to a string\n",
    "#solution1:concat\n",
    "str1=\"Champ\"\n",
    "str2=str1+'0000'\n",
    "print(str2)"
   ]
  },
  {
   "cell_type": "code",
   "execution_count": 61,
   "id": "4e82ef53",
   "metadata": {},
   "outputs": [
    {
     "name": "stdout",
     "output_type": "stream",
     "text": [
      "122.2200\n",
      "0000000122.2200\n"
     ]
    }
   ],
   "source": [
    "#129-add leading zeros to a string\n",
    "#solution2:ljust/rjust functions\n",
    "\n",
    "str1='122.22'\n",
    "str1=str1.ljust(8,'0')\n",
    "print(str1)\n",
    "\n",
    "str2=str1.rjust(15,'0')\n",
    "print(str2)"
   ]
  },
  {
   "cell_type": "code",
   "execution_count": 67,
   "id": "085ff64c",
   "metadata": {},
   "outputs": [
    {
     "name": "stdout",
     "output_type": "stream",
     "text": [
      "0000122.22\n"
     ]
    }
   ],
   "source": [
    "#129-add leading zeros to a string\n",
    "#solution3:string formatting\n",
    "str1='122.22'\n",
    "f_text='{:>010}'\n",
    "str1=f_text.format(str1)\n",
    "print(str1)"
   ]
  },
  {
   "cell_type": "code",
   "execution_count": 68,
   "id": "b6e2e995",
   "metadata": {},
   "outputs": [
    {
     "name": "stdout",
     "output_type": "stream",
     "text": [
      "{\"Alex\": 1, \"Suresh\": 2}\n"
     ]
    }
   ],
   "source": [
    "#130\n",
    "import json\n",
    "print(json.dumps({'Alex':1,'Suresh':2}))"
   ]
  },
  {
   "cell_type": "code",
   "execution_count": 69,
   "id": "7297e645",
   "metadata": {},
   "outputs": [
    {
     "name": "stdout",
     "output_type": "stream",
     "text": [
      "a b c\n",
      "100 10.25\n"
     ]
    }
   ],
   "source": [
    "#131--did not understand this\n",
    "var_list=['a','b','c']\n",
    "x,y,z=(var_list+[None]*3)[:3]\n",
    "print(x,y,z)\n",
    "var_list=[100,10.25]\n",
    "x,y=(var_list+[None]*2)[:2]\n",
    "print(x,y)"
   ]
  },
  {
   "cell_type": "code",
   "execution_count": 70,
   "id": "e01befc0",
   "metadata": {},
   "outputs": [
    {
     "name": "stdout",
     "output_type": "stream",
     "text": [
      "0\n",
      "1\n",
      "2\n",
      "3\n",
      "4\n",
      "0.0006566999945789576\n",
      "0\n",
      "1\n",
      "2\n",
      "3\n",
      "4\n",
      "5\n",
      "6\n",
      "7\n",
      "8\n",
      "9\n",
      "10\n",
      "11\n",
      "12\n",
      "13\n",
      "14\n",
      "0.0006753999623470008\n"
     ]
    }
   ],
   "source": [
    "#133\n",
    "from timeit import default_timer\n",
    "def timer(n):\n",
    "    start=default_timer()\n",
    "    #some code here\n",
    "    for row in range(0,n):\n",
    "        print(row)\n",
    "    print(default_timer()-start)\n",
    "    \n",
    "timer(5)\n",
    "timer(15)"
   ]
  },
  {
   "cell_type": "code",
   "execution_count": 72,
   "id": "4688f6fc",
   "metadata": {},
   "outputs": [
    {
     "name": "stdout",
     "output_type": "stream",
     "text": [
      "C:\\Users\\przir\n",
      "<module 'ntpath' from 'C:\\\\Users\\\\przir\\\\anaconda3\\\\lib\\\\ntpath.py'>\n"
     ]
    }
   ],
   "source": [
    "#132****home directory path\n",
    "import os.path\n",
    "print(os.path.expanduser('~'))\n",
    "print(os.path)"
   ]
  },
  {
   "cell_type": "code",
   "execution_count": 73,
   "id": "d3a988f8",
   "metadata": {},
   "outputs": [
    {
     "name": "stdout",
     "output_type": "stream",
     "text": [
      "12 23\n"
     ]
    }
   ],
   "source": [
    "#134 Solution 1\n",
    "x=12\n",
    "y=23\n",
    "print(x ,y)"
   ]
  },
  {
   "cell_type": "code",
   "execution_count": 78,
   "id": "210bcda8",
   "metadata": {},
   "outputs": [
    {
     "name": "stdout",
     "output_type": "stream",
     "text": [
      "value of x is \" 30 \"\n",
      "value of x is \"30\"\n",
      "value of x is '30'\n",
      "Value of x is \"30\"\n"
     ]
    }
   ],
   "source": [
    "#135\n",
    "x=30\n",
    "print(\"value of x is \\\"\",x,\"\\\"\")\n",
    "print('value of x is \"{}\"'.format(x))\n",
    "print(\"value of x is '{}'\".format(x))\n",
    "print(\"Value of x is \\\"%i\\\"\" % x)"
   ]
  },
  {
   "cell_type": "code",
   "execution_count": 80,
   "id": "88496da5",
   "metadata": {},
   "outputs": [
    {
     "ename": "FileNotFoundError",
     "evalue": "[WinError 3] The system cannot find the path specified: '/home/Test'",
     "output_type": "error",
     "traceback": [
      "\u001b[1;31m---------------------------------------------------------------------------\u001b[0m",
      "\u001b[1;31mFileNotFoundError\u001b[0m                         Traceback (most recent call last)",
      "\u001b[1;32m~\\AppData\\Local\\Temp/ipykernel_1768/2733900247.py\u001b[0m in \u001b[0;36m<module>\u001b[1;34m\u001b[0m\n\u001b[0;32m      1\u001b[0m \u001b[1;31m#136\u001b[0m\u001b[1;33m\u001b[0m\u001b[1;33m\u001b[0m\u001b[0m\n\u001b[0;32m      2\u001b[0m \u001b[1;32mimport\u001b[0m \u001b[0mos\u001b[0m\u001b[1;33m\u001b[0m\u001b[1;33m\u001b[0m\u001b[0m\n\u001b[1;32m----> 3\u001b[1;33m \u001b[0mprint\u001b[0m\u001b[1;33m(\u001b[0m\u001b[1;33m[\u001b[0m\u001b[0mf\u001b[0m \u001b[1;32mfor\u001b[0m \u001b[0mf\u001b[0m \u001b[1;32min\u001b[0m \u001b[0mos\u001b[0m\u001b[1;33m.\u001b[0m\u001b[0mlistdir\u001b[0m\u001b[1;33m(\u001b[0m\u001b[1;34m'/home/Test'\u001b[0m\u001b[1;33m)\u001b[0m \u001b[1;32mif\u001b[0m \u001b[0mos\u001b[0m\u001b[1;33m.\u001b[0m\u001b[0mpath\u001b[0m\u001b[1;33m.\u001b[0m\u001b[0misfile\u001b[0m\u001b[1;33m(\u001b[0m\u001b[0mos\u001b[0m\u001b[1;33m.\u001b[0m\u001b[0mpath\u001b[0m\u001b[1;33m.\u001b[0m\u001b[0mjoin\u001b[0m\u001b[1;33m(\u001b[0m\u001b[1;34m'/home/Test'\u001b[0m\u001b[1;33m,\u001b[0m \u001b[0mf\u001b[0m\u001b[1;33m)\u001b[0m\u001b[1;33m)\u001b[0m\u001b[1;33m]\u001b[0m\u001b[1;33m)\u001b[0m\u001b[1;33m\u001b[0m\u001b[1;33m\u001b[0m\u001b[0m\n\u001b[0m",
      "\u001b[1;31mFileNotFoundError\u001b[0m: [WinError 3] The system cannot find the path specified: '/home/Test'"
     ]
    }
   ],
   "source": [
    "#136 - find files and skip directories of a given directory.\n",
    "import os\n",
    "print([f for f in os.listdir('/home/Test') if os.path.isfile(os.path.join('/home/Test', f))])"
   ]
  },
  {
   "cell_type": "code",
   "execution_count": 81,
   "id": "b0168581",
   "metadata": {},
   "outputs": [
    {
     "ename": "FileNotFoundError",
     "evalue": "[WinError 3] The system cannot find the path specified: 'd:/'",
     "output_type": "error",
     "traceback": [
      "\u001b[1;31m---------------------------------------------------------------------------\u001b[0m",
      "\u001b[1;31mFileNotFoundError\u001b[0m                         Traceback (most recent call last)",
      "\u001b[1;32m~\\AppData\\Local\\Temp/ipykernel_1768/3007517136.py\u001b[0m in \u001b[0;36m<module>\u001b[1;34m\u001b[0m\n\u001b[0;32m      1\u001b[0m \u001b[1;32mimport\u001b[0m \u001b[0mos\u001b[0m\u001b[1;33m\u001b[0m\u001b[1;33m\u001b[0m\u001b[0m\n\u001b[0;32m      2\u001b[0m \u001b[0muser_path\u001b[0m \u001b[1;33m=\u001b[0m \u001b[1;34m'd:/'\u001b[0m\u001b[1;33m\u001b[0m\u001b[1;33m\u001b[0m\u001b[0m\n\u001b[1;32m----> 3\u001b[1;33m \u001b[1;32mfor\u001b[0m \u001b[0mfname\u001b[0m \u001b[1;32min\u001b[0m \u001b[0mos\u001b[0m\u001b[1;33m.\u001b[0m\u001b[0mlistdir\u001b[0m\u001b[1;33m(\u001b[0m\u001b[0muser_path\u001b[0m\u001b[1;33m)\u001b[0m\u001b[1;33m:\u001b[0m\u001b[1;33m\u001b[0m\u001b[1;33m\u001b[0m\u001b[0m\n\u001b[0m\u001b[0;32m      4\u001b[0m    \u001b[0mpath\u001b[0m \u001b[1;33m=\u001b[0m \u001b[0mos\u001b[0m\u001b[1;33m.\u001b[0m\u001b[0mpath\u001b[0m\u001b[1;33m.\u001b[0m\u001b[0mjoin\u001b[0m\u001b[1;33m(\u001b[0m\u001b[0muser_path\u001b[0m\u001b[1;33m,\u001b[0m \u001b[0mfname\u001b[0m\u001b[1;33m)\u001b[0m\u001b[1;33m\u001b[0m\u001b[1;33m\u001b[0m\u001b[0m\n\u001b[0;32m      5\u001b[0m    \u001b[1;32mif\u001b[0m \u001b[0mos\u001b[0m\u001b[1;33m.\u001b[0m\u001b[0mpath\u001b[0m\u001b[1;33m.\u001b[0m\u001b[0misdir\u001b[0m\u001b[1;33m(\u001b[0m\u001b[0mpath\u001b[0m\u001b[1;33m)\u001b[0m\u001b[1;33m:\u001b[0m\u001b[1;33m\u001b[0m\u001b[1;33m\u001b[0m\u001b[0m\n",
      "\u001b[1;31mFileNotFoundError\u001b[0m: [WinError 3] The system cannot find the path specified: 'd:/'"
     ]
    }
   ],
   "source": [
    "#136-find files and skip directories of a given directory.\n",
    "import os\n",
    "user_path = 'd:/'\n",
    "for fname in os.listdir(user_path):\n",
    "   path = os.path.join(user_path, fname)\n",
    "   if os.path.isdir(path):\n",
    "       # skip directories\n",
    "       continue\n",
    "   # print the file names\n",
    "   print(fname)"
   ]
  },
  {
   "cell_type": "code",
   "execution_count": 84,
   "id": "7f9ea237",
   "metadata": {},
   "outputs": [
    {
     "name": "stdout",
     "output_type": "stream",
     "text": [
      "Red\n",
      "Green\n"
     ]
    }
   ],
   "source": [
    "#137****directory variable extraction\n",
    "d={'Red':'Green'}\n",
    "(c1,c2),=d.items()\n",
    "print(c1)\n",
    "print(c2)"
   ]
  },
  {
   "cell_type": "code",
   "execution_count": 87,
   "id": "4ae9824f",
   "metadata": {},
   "outputs": [
    {
     "name": "stdout",
     "output_type": "stream",
     "text": [
      "1\n"
     ]
    }
   ],
   "source": [
    "#138\n",
    "def fun_tf(x,y):\n",
    "    if x==y:\n",
    "        return 0\n",
    "    else:\n",
    "        return 1\n",
    "    \n",
    "print(fun_tf(0,1))"
   ]
  },
  {
   "cell_type": "code",
   "execution_count": 88,
   "id": "a3e85970",
   "metadata": {},
   "outputs": [
    {
     "name": "stdout",
     "output_type": "stream",
     "text": [
      "1\n",
      "0\n"
     ]
    }
   ],
   "source": [
    "#138\n",
    "x = 'true'\n",
    "x = int(x == 'true')\n",
    "print(x)\n",
    "x = 'abcd'\n",
    "x = int(x == 'true')\n",
    "print(x)"
   ]
  },
  {
   "cell_type": "code",
   "execution_count": 89,
   "id": "9acc2ef7",
   "metadata": {},
   "outputs": [
    {
     "name": "stdout",
     "output_type": "stream",
     "text": [
      "Invalid IP\n"
     ]
    }
   ],
   "source": [
    "import socket\n",
    "addr = '127.0.0.2561'\n",
    "try:\n",
    "    socket.inet_aton(addr)\n",
    "    print(\"Valid IP\")\n",
    "except socket.error:\n",
    "    print(\"Invalid IP\")"
   ]
  },
  {
   "cell_type": "code",
   "execution_count": 90,
   "id": "39abf1fc",
   "metadata": {},
   "outputs": [
    {
     "name": "stdout",
     "output_type": "stream",
     "text": [
      "00001100\n",
      "0000001100\n"
     ]
    }
   ],
   "source": [
    "#140****convert to binary and keep leading zeroes\n",
    "x=12\n",
    "print(format(x,'08b'))\n",
    "print(format(x,'010b'))"
   ]
  },
  {
   "cell_type": "code",
   "execution_count": 91,
   "id": "f2b5834f",
   "metadata": {},
   "outputs": [
    {
     "name": "stdout",
     "output_type": "stream",
     "text": [
      "1e\n"
     ]
    }
   ],
   "source": [
    "#141 Decimal to Hexadecimal conversion\n",
    "x=30\n",
    "print(format(x,'02x'))"
   ]
  },
  {
   "cell_type": "code",
   "execution_count": 92,
   "id": "ce5cabbf",
   "metadata": {},
   "outputs": [
    {
     "name": "stdout",
     "output_type": "stream",
     "text": [
      "Dechimal numbers:\n",
      "[0, 15, 30, 55, 355, 656, 896, 1125]\n",
      "\n",
      "Hexadechimal numbers of the said dechimal numbers:\n"
     ]
    },
    {
     "ename": "TypeError",
     "evalue": "'str' object is not callable",
     "output_type": "error",
     "traceback": [
      "\u001b[1;31m---------------------------------------------------------------------------\u001b[0m",
      "\u001b[1;31mTypeError\u001b[0m                                 Traceback (most recent call last)",
      "\u001b[1;32m~\\AppData\\Local\\Temp/ipykernel_1768/1452397611.py\u001b[0m in \u001b[0;36m<module>\u001b[1;34m\u001b[0m\n\u001b[0;32m     24\u001b[0m \u001b[0mprint\u001b[0m\u001b[1;33m(\u001b[0m\u001b[0mdechimal_nums\u001b[0m\u001b[1;33m)\u001b[0m\u001b[1;33m\u001b[0m\u001b[1;33m\u001b[0m\u001b[0m\n\u001b[0;32m     25\u001b[0m \u001b[0mprint\u001b[0m\u001b[1;33m(\u001b[0m\u001b[1;34m\"\\nHexadechimal numbers of the said dechimal numbers:\"\u001b[0m\u001b[1;33m)\u001b[0m\u001b[1;33m\u001b[0m\u001b[1;33m\u001b[0m\u001b[0m\n\u001b[1;32m---> 26\u001b[1;33m \u001b[0mprint\u001b[0m\u001b[1;33m(\u001b[0m\u001b[1;33m[\u001b[0m\u001b[0mdechimal_to_Hex\u001b[0m\u001b[1;33m(\u001b[0m\u001b[0mx\u001b[0m\u001b[1;33m)\u001b[0m \u001b[1;32mfor\u001b[0m \u001b[0mx\u001b[0m \u001b[1;32min\u001b[0m \u001b[0mdechimal_nums\u001b[0m\u001b[1;33m]\u001b[0m\u001b[1;33m)\u001b[0m\u001b[1;33m\u001b[0m\u001b[1;33m\u001b[0m\u001b[0m\n\u001b[0m",
      "\u001b[1;32m~\\AppData\\Local\\Temp/ipykernel_1768/1452397611.py\u001b[0m in \u001b[0;36m<listcomp>\u001b[1;34m(.0)\u001b[0m\n\u001b[0;32m     24\u001b[0m \u001b[0mprint\u001b[0m\u001b[1;33m(\u001b[0m\u001b[0mdechimal_nums\u001b[0m\u001b[1;33m)\u001b[0m\u001b[1;33m\u001b[0m\u001b[1;33m\u001b[0m\u001b[0m\n\u001b[0;32m     25\u001b[0m \u001b[0mprint\u001b[0m\u001b[1;33m(\u001b[0m\u001b[1;34m\"\\nHexadechimal numbers of the said dechimal numbers:\"\u001b[0m\u001b[1;33m)\u001b[0m\u001b[1;33m\u001b[0m\u001b[1;33m\u001b[0m\u001b[0m\n\u001b[1;32m---> 26\u001b[1;33m \u001b[0mprint\u001b[0m\u001b[1;33m(\u001b[0m\u001b[1;33m[\u001b[0m\u001b[0mdechimal_to_Hex\u001b[0m\u001b[1;33m(\u001b[0m\u001b[0mx\u001b[0m\u001b[1;33m)\u001b[0m \u001b[1;32mfor\u001b[0m \u001b[0mx\u001b[0m \u001b[1;32min\u001b[0m \u001b[0mdechimal_nums\u001b[0m\u001b[1;33m]\u001b[0m\u001b[1;33m)\u001b[0m\u001b[1;33m\u001b[0m\u001b[1;33m\u001b[0m\u001b[0m\n\u001b[0m",
      "\u001b[1;32m~\\AppData\\Local\\Temp/ipykernel_1768/1452397611.py\u001b[0m in \u001b[0;36mdechimal_to_Hex\u001b[1;34m(n)\u001b[0m\n\u001b[0;32m     19\u001b[0m        \u001b[1;32mreturn\u001b[0m \u001b[0mdechimal_to_Hex\u001b[0m\u001b[1;33m(\u001b[0m\u001b[0mn\u001b[0m \u001b[1;33m//\u001b[0m \u001b[1;36m16\u001b[0m\u001b[1;33m)\u001b[0m \u001b[1;33m+\u001b[0m \u001b[0mstr\u001b[0m\u001b[1;33m(\u001b[0m\u001b[0mch\u001b[0m\u001b[1;33m)\u001b[0m\u001b[1;33m\u001b[0m\u001b[1;33m\u001b[0m\u001b[0m\n\u001b[0;32m     20\u001b[0m    \u001b[1;32melse\u001b[0m\u001b[1;33m:\u001b[0m\u001b[1;33m\u001b[0m\u001b[1;33m\u001b[0m\u001b[0m\n\u001b[1;32m---> 21\u001b[1;33m        \u001b[1;32mreturn\u001b[0m \u001b[0mstr\u001b[0m\u001b[1;33m(\u001b[0m\u001b[0mch\u001b[0m\u001b[1;33m)\u001b[0m\u001b[1;33m\u001b[0m\u001b[1;33m\u001b[0m\u001b[0m\n\u001b[0m\u001b[0;32m     22\u001b[0m \u001b[0mdechimal_nums\u001b[0m \u001b[1;33m=\u001b[0m \u001b[1;33m[\u001b[0m\u001b[1;36m0\u001b[0m\u001b[1;33m,\u001b[0m \u001b[1;36m15\u001b[0m\u001b[1;33m,\u001b[0m \u001b[1;36m30\u001b[0m\u001b[1;33m,\u001b[0m \u001b[1;36m55\u001b[0m\u001b[1;33m,\u001b[0m \u001b[1;36m355\u001b[0m\u001b[1;33m,\u001b[0m \u001b[1;36m656\u001b[0m\u001b[1;33m,\u001b[0m \u001b[1;36m896\u001b[0m\u001b[1;33m,\u001b[0m \u001b[1;36m1125\u001b[0m\u001b[1;33m]\u001b[0m\u001b[1;33m\u001b[0m\u001b[1;33m\u001b[0m\u001b[0m\n\u001b[0;32m     23\u001b[0m \u001b[0mprint\u001b[0m\u001b[1;33m(\u001b[0m\u001b[1;34m\"Dechimal numbers:\"\u001b[0m\u001b[1;33m)\u001b[0m\u001b[1;33m\u001b[0m\u001b[1;33m\u001b[0m\u001b[0m\n",
      "\u001b[1;31mTypeError\u001b[0m: 'str' object is not callable"
     ]
    }
   ],
   "source": [
    "def dechimal_to_Hex(n):   \n",
    "   x = (n % 16)\n",
    "   ch = \"\"\n",
    "   if (x < 10):\n",
    "       ch = x\n",
    "   if (x == 10):\n",
    "       ch = \"A\"\n",
    "   if (x == 11):\n",
    "       ch = \"B\"\n",
    "   if (x == 12):\n",
    "       ch = \"ch\"\n",
    "   if (x == 13):\n",
    "       ch = \"D\"\n",
    "   if (x == 14):\n",
    "       ch = \"E\"\n",
    "   if (x == 15):\n",
    "       ch = \"F\"\n",
    "   if (n - x != 0):\n",
    "       return dechimal_to_Hex(n // 16) + str(ch)\n",
    "   else:\n",
    "       return str(ch)\n",
    "dechimal_nums = [0, 15, 30, 55, 355, 656, 896, 1125]\n",
    "print(\"Dechimal numbers:\")\n",
    "print(dechimal_nums)\n",
    "print(\"\\nHexadechimal numbers of the said dechimal numbers:\")\n",
    "print([dechimal_to_Hex(x) for x in dechimal_nums])\n"
   ]
  },
  {
   "cell_type": "code",
   "execution_count": 94,
   "id": "f957aea7",
   "metadata": {},
   "outputs": [
    {
     "name": "stdout",
     "output_type": "stream",
     "text": [
      "['0', 'F', '2B']\n"
     ]
    }
   ],
   "source": [
    "#141:decimal to hex\n",
    "def dec_to_hex(decimal_num):\n",
    "    digits=\"0123456789ABCDEF\"\n",
    "    x=(decimal_num%16)\n",
    "    rest_part=decimal_num//16\n",
    "    if(rest_part==0):\n",
    "        return digits[x]\n",
    "    return dec_to_hex(rest_part)+digits[x]\n",
    "decimal_nums=[0,15,43]\n",
    "print([dec_to_hex(x) for x in decimal_nums])"
   ]
  },
  {
   "cell_type": "code",
   "execution_count": 96,
   "id": "a3452dff",
   "metadata": {},
   "outputs": [
    {
     "name": "stdout",
     "output_type": "stream",
     "text": [
      "False\n"
     ]
    }
   ],
   "source": [
    "#142-consecutive sequence of zeroes is followed by a consecutive sequence of ones of same length\n",
    "def test(str1):\n",
    "    while '01' in str1:\n",
    "        str1=str1.replace('01','')\n",
    "    return len(str1)==0\n",
    "    \n",
    "print(test('01011'))"
   ]
  },
  {
   "cell_type": "code",
   "execution_count": 101,
   "id": "36fcebc0",
   "metadata": {},
   "outputs": [
    {
     "ename": "SyntaxError",
     "evalue": "unexpected EOF while parsing (Temp/ipykernel_1768/50888820.py, line 11)",
     "output_type": "error",
     "traceback": [
      "\u001b[1;36m  File \u001b[1;32m\"C:\\Users\\przir\\AppData\\Local\\Temp/ipykernel_1768/50888820.py\"\u001b[1;36m, line \u001b[1;32m11\u001b[0m\n\u001b[1;33m    print(test(\"011\")\u001b[0m\n\u001b[1;37m                     ^\u001b[0m\n\u001b[1;31mSyntaxError\u001b[0m\u001b[1;31m:\u001b[0m unexpected EOF while parsing\n"
     ]
    }
   ],
   "source": [
    "#142-consecutive sequence of zeroes is followed by a consecutive sequence \n",
    "#\n",
    "def test(str1):\n",
    "    temp=[]\n",
    "    for x in str1:\n",
    "        if(x=='0'):#--if hit 0 then append 0\n",
    "            temp.append('0')\n",
    "        else:\n",
    "            temp.pop()#if hit 1 then remove added 0\n",
    "    return not temp\n",
    "\n",
    "print(test(\"011\")"
   ]
  },
  {
   "cell_type": "code",
   "execution_count": 102,
   "id": "318227bc",
   "metadata": {},
   "outputs": [
    {
     "name": "stdout",
     "output_type": "stream",
     "text": [
      "64\n"
     ]
    }
   ],
   "source": [
    "#143\n",
    "import struct\n",
    "print(struct.calcsize(\"P\") * 8)"
   ]
  },
  {
   "cell_type": "code",
   "execution_count": 108,
   "id": "5ca59e33",
   "metadata": {},
   "outputs": [
    {
     "name": "stdout",
     "output_type": "stream",
     "text": [
      "True\n"
     ]
    },
    {
     "ename": "TypeError",
     "evalue": "isinstance() arg 2 must be a type or tuple of types",
     "output_type": "error",
     "traceback": [
      "\u001b[1;31m---------------------------------------------------------------------------\u001b[0m",
      "\u001b[1;31mTypeError\u001b[0m                                 Traceback (most recent call last)",
      "\u001b[1;32m~\\AppData\\Local\\Temp/ipykernel_1768/1985095661.py\u001b[0m in \u001b[0;36m<module>\u001b[1;34m\u001b[0m\n\u001b[0;32m      1\u001b[0m \u001b[1;31m#144:whether variable is integer or string.\u001b[0m\u001b[1;33m\u001b[0m\u001b[1;33m\u001b[0m\u001b[0m\n\u001b[0;32m      2\u001b[0m \u001b[0mprint\u001b[0m\u001b[1;33m(\u001b[0m\u001b[0misinstance\u001b[0m\u001b[1;33m(\u001b[0m\u001b[1;36m25\u001b[0m\u001b[1;33m,\u001b[0m\u001b[0mint\u001b[0m\u001b[1;33m)\u001b[0m \u001b[1;32mor\u001b[0m \u001b[0misinstance\u001b[0m\u001b[1;33m(\u001b[0m\u001b[1;36m25\u001b[0m\u001b[1;33m,\u001b[0m\u001b[0mstr\u001b[0m\u001b[1;33m)\u001b[0m\u001b[1;33m)\u001b[0m\u001b[1;33m\u001b[0m\u001b[1;33m\u001b[0m\u001b[0m\n\u001b[1;32m----> 3\u001b[1;33m \u001b[0mprint\u001b[0m\u001b[1;33m(\u001b[0m\u001b[0misinstance\u001b[0m\u001b[1;33m(\u001b[0m\u001b[1;33m[\u001b[0m\u001b[1;36m25\u001b[0m\u001b[1;33m]\u001b[0m\u001b[1;33m,\u001b[0m\u001b[0mint\u001b[0m\u001b[1;33m)\u001b[0m \u001b[1;32mor\u001b[0m \u001b[0misinstance\u001b[0m\u001b[1;33m(\u001b[0m\u001b[1;33m[\u001b[0m\u001b[1;36m25\u001b[0m\u001b[1;33m]\u001b[0m\u001b[1;33m,\u001b[0m\u001b[0mstr\u001b[0m\u001b[1;33m)\u001b[0m\u001b[1;33m)\u001b[0m\u001b[1;33m\u001b[0m\u001b[1;33m\u001b[0m\u001b[0m\n\u001b[0m\u001b[0;32m      4\u001b[0m \u001b[0mprint\u001b[0m\u001b[1;33m(\u001b[0m\u001b[0misinstance\u001b[0m\u001b[1;33m(\u001b[0m\u001b[1;34m\"25\"\u001b[0m\u001b[1;33m,\u001b[0m\u001b[0mint\u001b[0m\u001b[1;33m)\u001b[0m \u001b[1;32mor\u001b[0m \u001b[0misinstance\u001b[0m\u001b[1;33m(\u001b[0m\u001b[1;34m\"25\"\u001b[0m\u001b[1;33m,\u001b[0m\u001b[0mstr\u001b[0m\u001b[1;33m)\u001b[0m\u001b[1;33m)\u001b[0m\u001b[1;33m\u001b[0m\u001b[1;33m\u001b[0m\u001b[0m\n",
      "\u001b[1;31mTypeError\u001b[0m: isinstance() arg 2 must be a type or tuple of types"
     ]
    }
   ],
   "source": [
    "#144:whether variable is integer or string.\n",
    "print(isinstance(25,int) or isinstance(25,str))\n",
    "print(isinstance([25],int) or isinstance([25],str))\n",
    "print(isinstance(\"25\",int) or isinstance(\"25\",str))"
   ]
  },
  {
   "cell_type": "code",
   "execution_count": 109,
   "id": "f6fa4e68",
   "metadata": {},
   "outputs": [
    {
     "name": "stdout",
     "output_type": "stream",
     "text": [
      "x is a tuple\n"
     ]
    }
   ],
   "source": [
    "#145-test if a variable is a list or tuple or a set\n",
    "x=('tuple',False,3.2,1)\n",
    "if type(x) is list:\n",
    "    print('x is a list')\n",
    "elif type(x) is set:\n",
    "    print('x is a set')\n",
    "elif type(x) is tuple:\n",
    "    print('x is a tuple')\n",
    "else:\n",
    "    print('neither a list or set or tuple')\n",
    "    \n"
   ]
  },
  {
   "cell_type": "code",
   "execution_count": 110,
   "id": "ddb437ac",
   "metadata": {},
   "outputs": [
    {
     "name": "stdout",
     "output_type": "stream",
     "text": [
      "The variable is a list\n"
     ]
    }
   ],
   "source": [
    "#145-test if a variable is a list or tuple or a set\n",
    "def check_type(nums):\n",
    "    if isinstance(x,tuple)==True:\n",
    "        return 'The variable is a tuple'\n",
    "    elif isinstance(x,set)==True:\n",
    "        return 'The variable is a set'\n",
    "    elif isinstance(x,list)==True:\n",
    "        return 'The variable is a list'\n",
    "    else:\n",
    "        return 'Neither a list or tuple or set'\n",
    "    \n",
    "x=['a','b','c','d']\n",
    "print(check_type(x))"
   ]
  },
  {
   "cell_type": "code",
   "execution_count": 111,
   "id": "7bb9c23d",
   "metadata": {},
   "outputs": [
    {
     "name": "stdout",
     "output_type": "stream",
     "text": [
      "Location of Python os module sources:\n",
      "(<_io.TextIOWrapper name='C:\\\\Users\\\\przir\\\\anaconda3\\\\lib\\\\os.py' mode='r' encoding='utf-8'>, 'C:\\\\Users\\\\przir\\\\anaconda3\\\\lib\\\\os.py', ('.py', 'r', 1))\n",
      "\n",
      "Location of Python sys module sources:\n",
      "(<_io.TextIOWrapper name='C:\\\\Users\\\\przir\\\\anaconda3\\\\lib\\\\datetime.py' mode='r' encoding='utf-8'>, 'C:\\\\Users\\\\przir\\\\anaconda3\\\\lib\\\\datetime.py', ('.py', 'r', 1))\n"
     ]
    }
   ],
   "source": [
    "#146-location of Python module sources\n",
    "import imp\n",
    "print(\"Location of Python os module sources:\")\n",
    "print(imp.find_module('os'))\n",
    "print(\"\\nLocation of Python sys module sources:\")\n",
    "print(imp.find_module('datetime'))"
   ]
  },
  {
   "cell_type": "code",
   "execution_count": 112,
   "id": "5fc1e221",
   "metadata": {},
   "outputs": [
    {
     "name": "stdout",
     "output_type": "stream",
     "text": [
      "\n",
      "List of directories in os module:\n",
      "<module 'ntpath' from 'C:\\\\Users\\\\przir\\\\anaconda3\\\\lib\\\\ntpath.py'>\n",
      "\n",
      "List of directories in sys module:\n",
      "['C:\\\\Users\\\\przir', 'C:\\\\Users\\\\przir\\\\anaconda3\\\\python39.zip', 'C:\\\\Users\\\\przir\\\\anaconda3\\\\DLLs', 'C:\\\\Users\\\\przir\\\\anaconda3\\\\lib', 'C:\\\\Users\\\\przir\\\\anaconda3', '', 'C:\\\\Users\\\\przir\\\\anaconda3\\\\lib\\\\site-packages', 'C:\\\\Users\\\\przir\\\\anaconda3\\\\lib\\\\site-packages\\\\locket-0.2.1-py3.9.egg', 'C:\\\\Users\\\\przir\\\\anaconda3\\\\lib\\\\site-packages\\\\win32', 'C:\\\\Users\\\\przir\\\\anaconda3\\\\lib\\\\site-packages\\\\win32\\\\lib', 'C:\\\\Users\\\\przir\\\\anaconda3\\\\lib\\\\site-packages\\\\Pythonwin', 'C:\\\\Users\\\\przir\\\\anaconda3\\\\lib\\\\site-packages\\\\IPython\\\\extensions', 'C:\\\\Users\\\\przir\\\\.ipython']\n"
     ]
    }
   ],
   "source": [
    "import os\n",
    "print(\"\\nList of directories in os module:\")\n",
    "print(os.path)\n",
    "print(\"\\nList of directories in sys module:\")\n",
    "import sys\n",
    "print(sys.path)"
   ]
  },
  {
   "cell_type": "code",
   "execution_count": 4,
   "id": "bb22ab7b",
   "metadata": {},
   "outputs": [
    {
     "name": "stdout",
     "output_type": "stream",
     "text": [
      "Enter two numbers \n",
      "2\n",
      "4\n",
      "Yup\n"
     ]
    }
   ],
   "source": [
    "#147\n",
    "def numDiv():\n",
    "    print(\"Enter two numbers \")\n",
    "    x=int(input())\n",
    "    y=int(input())\n",
    "    \n",
    "    if x%y==0 or y%x==0:\n",
    "        return \"Yup\"\n",
    "    else:\n",
    "        return \"Nope\"\n",
    "    \n",
    "print(numDiv())"
   ]
  },
  {
   "cell_type": "code",
   "execution_count": 8,
   "id": "6f0b0caf",
   "metadata": {},
   "outputs": [
    {
     "name": "stdout",
     "output_type": "stream",
     "text": [
      "(8, 1)\n"
     ]
    }
   ],
   "source": [
    "#148\n",
    "def findMaxMin():\n",
    "    num=[2,5,8,4,1]\n",
    "    maxi=num[0]\n",
    "    mini=num[0]\n",
    "    \n",
    "    for i in num:\n",
    "        if i>=maxi:\n",
    "            maxi=i\n",
    "        else:\n",
    "            pass\n",
    "            \n",
    "        if i<=mini:\n",
    "            mini=i\n",
    "        else:\n",
    "            pass\n",
    "            \n",
    "    return maxi , mini\n",
    "print(findMaxMin())\n"
   ]
  },
  {
   "cell_type": "code",
   "execution_count": 10,
   "id": "b52734fe",
   "metadata": {},
   "outputs": [
    {
     "name": "stdout",
     "output_type": "stream",
     "text": [
      "13824\n"
     ]
    }
   ],
   "source": [
    "#149\n",
    "def cubeOfNum(numList,num):\n",
    "    summ=0\n",
    "    for i in numList:\n",
    "        if i<=num:\n",
    "            summ=i+summ\n",
    "        \n",
    "    return summ**3\n",
    "\n",
    "print(cubeOfNum([2,4,5,6,7,8,9],7))\n",
    "            "
   ]
  },
  {
   "cell_type": "code",
   "execution_count": 19,
   "id": "c679e985",
   "metadata": {},
   "outputs": [
    {
     "name": "stdout",
     "output_type": "stream",
     "text": [
      "3.0\n"
     ]
    }
   ],
   "source": [
    "#150--Notice difference between i in num and i in range num\n",
    "def oddProdNum(num):\n",
    "    count=0\n",
    "    for i in num:\n",
    "        for j in num:\n",
    "            if i!=j and i*j%2==1:\n",
    "                count=count+1\n",
    "                \n",
    "    return count/2\n",
    "\n",
    "print(oddProdNum([3,5,8,7]))"
   ]
  },
  {
   "cell_type": "code",
   "execution_count": null,
   "id": "bdc4e2e0",
   "metadata": {},
   "outputs": [],
   "source": [
    "#150 --Use of combination of itertools\n",
    "import itertools\n",
    "def pair_num_odds(nums):\n",
    "    uniqList=set(nums)#to get unique numbers\n",
    "    result=[]#result list\n",
    "    for n in itertools.combination(uniqList,2):#adding 2 unique values from uniqList to n \n",
    "        if ((n[0]*n[1])%2==1):\n",
    "            temp=str(n[0])+\"*\"+str[n[1]]#storing results in temp\n",
    "            result.append(temp)\n",
    "    return result\n",
    "\n"
   ]
  }
 ],
 "metadata": {
  "kernelspec": {
   "display_name": "Python 3 (ipykernel)",
   "language": "python",
   "name": "python3"
  },
  "language_info": {
   "codemirror_mode": {
    "name": "ipython",
    "version": 3
   },
   "file_extension": ".py",
   "mimetype": "text/x-python",
   "name": "python",
   "nbconvert_exporter": "python",
   "pygments_lexer": "ipython3",
   "version": "3.9.7"
  }
 },
 "nbformat": 4,
 "nbformat_minor": 5
}
