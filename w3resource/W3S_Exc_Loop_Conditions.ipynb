{
 "cells": [
  {
   "cell_type": "code",
   "execution_count": 1,
   "id": "2a6e908f",
   "metadata": {},
   "outputs": [
    {
     "name": "stdout",
     "output_type": "stream",
     "text": [
      "[1505, 1540, 1575, 1610, 1645, 1680, 1715, 1750, 1785, 1820, 1855, 1890, 1925, 1960, 1995, 2030, 2065, 2100, 2135, 2170, 2205, 2240, 2275, 2310, 2345, 2380, 2415, 2450, 2485, 2520, 2555, 2590, 2625, 2660, 2695]\n"
     ]
    }
   ],
   "source": [
    "#Date-06/29/22\n",
    "#1-find those numbers which are divisible by 7 and multiple of 5, \n",
    "#between 1500 and 2700 (both included).\n",
    "lst=[]\n",
    "for i in range(1500,2700):\n",
    "    if i%7==0 and i%5==0:\n",
    "        lst.append(i)\n",
    "print(lst)"
   ]
  },
  {
   "cell_type": "code",
   "execution_count": 4,
   "id": "e9805331",
   "metadata": {},
   "outputs": [
    {
     "name": "stdout",
     "output_type": "stream",
     "text": [
      "Input the  temperature you like to convert? (e.g., 45F, 102C etc.) : 60C\n",
      "The temperature in Fahrenheit is 140 degrees.\n"
     ]
    }
   ],
   "source": [
    "#2-convert temperatures to and from celsius, fahrenheit.\n",
    "temp = input(\"Input the  temperature you like to convert? (e.g., 45F, 102C etc.) : \")\n",
    "degree = int(temp[:-1])\n",
    "i_convention = temp[-1]\n",
    "\n",
    "if i_convention.upper() == \"C\":\n",
    "  result = int(round((9 * degree) / 5 + 32))\n",
    "  o_convention = \"Fahrenheit\"\n",
    "elif i_convention.upper() == \"F\":\n",
    "  result = int(round((degree - 32) * 5 / 9))\n",
    "  o_convention = \"Celsius\"\n",
    "else:\n",
    "  print(\"Input proper convention.\")\n",
    "  quit()\n",
    "print(\"The temperature in\", o_convention, \"is\", result, \"degrees.\")"
   ]
  },
  {
   "cell_type": "code",
   "execution_count": 2,
   "id": "26cbe5e6",
   "metadata": {},
   "outputs": [
    {
     "name": "stdout",
     "output_type": "stream",
     "text": [
      "Guess a number between 1 and 10 until you get it right : 3\n",
      "Guess a number between 1 and 10 until you get it right : 2\n",
      "Guess a number between 1 and 10 until you get it right : 1\n",
      "Well guessed!\n"
     ]
    }
   ],
   "source": [
    "#3-guess a number between 1 to 9\n",
    "import random \n",
    "target_num,guess_num=random.randint(1,10),0\n",
    "while target_num!=guess_num:\n",
    "    guess_num = int(input('Guess a number between 1 and 10 until you get it right : '))\n",
    "print('Well guessed!')"
   ]
  },
  {
   "cell_type": "code",
   "execution_count": 3,
   "id": "dabcc629",
   "metadata": {},
   "outputs": [
    {
     "name": "stdout",
     "output_type": "stream",
     "text": [
      "\n",
      "* \n",
      "* * \n",
      "* * * \n",
      "* * * * \n",
      "* * * * * \n",
      "* * * * \n",
      "* * * \n",
      "* * \n",
      "* \n"
     ]
    }
   ],
   "source": [
    "#4- construct the following pattern, using a nested for loop\n",
    "n=5;\n",
    "for i in range(n):\n",
    "    for j in range(i):\n",
    "        print ('* ', end=\"\")\n",
    "    print('')\n",
    "\n",
    "for i in range(n,0,-1):\n",
    "    for j in range(i):\n",
    "        print('* ', end=\"\")\n",
    "    print('')"
   ]
  },
  {
   "cell_type": "code",
   "execution_count": 1,
   "id": "a58f21ad",
   "metadata": {},
   "outputs": [
    {
     "name": "stdout",
     "output_type": "stream",
     "text": [
      "ewr\n",
      "ewr\n",
      "rwe\n"
     ]
    }
   ],
   "source": [
    "#Date 8/1/22\n",
    "#5-accepts a word from the user and reverse it\n",
    "user_input=(input())\n",
    "print(user_input)\n",
    "print(user_input[::-1])\n",
    "#print(user_input.reverse())"
   ]
  },
  {
   "cell_type": "code",
   "execution_count": 4,
   "id": "4a7c5c3f",
   "metadata": {},
   "outputs": [
    {
     "name": "stdout",
     "output_type": "stream",
     "text": [
      "[2, 4, 6, 8] [1, 3, 5, 7, 9]\n"
     ]
    }
   ],
   "source": [
    "#Date-8/6/22\n",
    "#6-count the number of even and odd numbers from a series of numbers.\n",
    "numbers = (1, 2, 3, 4, 5, 6, 7, 8, 9)\n",
    "res_even=list(filter(lambda x:x%2==0,numbers))\n",
    "res_odd=list(filter(lambda x:x%2==1,numbers))\n",
    "print(res_even,res_odd)"
   ]
  },
  {
   "cell_type": "code",
   "execution_count": 9,
   "id": "927caef2",
   "metadata": {},
   "outputs": [
    {
     "name": "stdout",
     "output_type": "stream",
     "text": [
      "1452 --> <class 'int'>\n",
      "11.23 --> <class 'float'>\n",
      "(1+2j) --> <class 'complex'>\n",
      "True --> <class 'bool'>\n",
      "w3resource --> <class 'str'>\n",
      "(0, -1) --> <class 'tuple'>\n",
      "[5, 12] --> <class 'list'>\n",
      "{'class': 'V', 'section': 'A'} --> <class 'dict'>\n"
     ]
    }
   ],
   "source": [
    "#7-prints each item and its corresponding type from the following list.\n",
    "datalist = [1452, 11.23, 1+2j, True, 'w3resource', (0, -1), [5, 12], {\"class\":'V', \"section\":'A'}]\n",
    "for i in datalist:\n",
    "    print(i,'-->',type(i))"
   ]
  },
  {
   "cell_type": "code",
   "execution_count": 12,
   "id": "3040b89f",
   "metadata": {},
   "outputs": [
    {
     "name": "stdout",
     "output_type": "stream",
     "text": [
      "0 1 2 4 5 "
     ]
    }
   ],
   "source": [
    "#8- prints all the numbers from 0 to 6 except 3 and 6. Note : Use 'continue' statement.\n",
    "for i in range(7):\n",
    "    if i==3 or i==6:\n",
    "        continue\n",
    "    else:\n",
    "        print(i,end=\" \")"
   ]
  },
  {
   "cell_type": "code",
   "execution_count": 13,
   "id": "ef88c841",
   "metadata": {},
   "outputs": [],
   "source": [
    "#9-get the Fibonacci series between 0 to 50\n",
    "#s1-lambda\n"
   ]
  },
  {
   "cell_type": "code",
   "execution_count": 14,
   "id": "2fdc8009",
   "metadata": {},
   "outputs": [],
   "source": [
    "#s2-recursion"
   ]
  },
  {
   "cell_type": "code",
   "execution_count": null,
   "id": "702d756b",
   "metadata": {},
   "outputs": [],
   "source": [
    "#s3-Naive method"
   ]
  }
 ],
 "metadata": {
  "kernelspec": {
   "display_name": "Python 3 (ipykernel)",
   "language": "python",
   "name": "python3"
  },
  "language_info": {
   "codemirror_mode": {
    "name": "ipython",
    "version": 3
   },
   "file_extension": ".py",
   "mimetype": "text/x-python",
   "name": "python",
   "nbconvert_exporter": "python",
   "pygments_lexer": "ipython3",
   "version": "3.9.7"
  }
 },
 "nbformat": 4,
 "nbformat_minor": 5
}
