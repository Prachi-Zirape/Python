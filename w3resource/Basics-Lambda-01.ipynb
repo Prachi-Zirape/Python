{
 "cells": [
  {
   "cell_type": "code",
   "execution_count": 3,
   "id": "11d350c4",
   "metadata": {},
   "outputs": [
    {
     "name": "stdout",
     "output_type": "stream",
     "text": [
      "GeeksforGeeks\n"
     ]
    }
   ],
   "source": [
    "#date-7/29-22\n",
    "#https://www.w3schools.com/python/python_lambda.asp\n",
    "#https://www.geeksforgeeks.org/python-lambda/\n",
    "#https://www.geeksforgeeks.org/python-lambda-anonymous-functions-filter-map-reduce/\n",
    "\n",
    "x = \"GeeksforGeeks\"\n",
    " \n",
    "# lambda gets pass to print\n",
    "(lambda x: print(x))(x)"
   ]
  },
  {
   "cell_type": "code",
   "execution_count": 11,
   "id": "c4903488",
   "metadata": {},
   "outputs": [
    {
     "name": "stdout",
     "output_type": "stream",
     "text": [
      "15\n"
     ]
    }
   ],
   "source": [
    "#1-create a lambda function that adds 15 to a given number passed in as an argument,\n",
    "#also create a lambda function that multiplies argument x with argument y and print the result.\n",
    "def add_lamb(n):\n",
    "     return lambda x:x+n\n",
    "res=add_lamb(10)\n",
    "print(res(5))"
   ]
  },
  {
   "cell_type": "code",
   "execution_count": 7,
   "id": "021ae11d",
   "metadata": {},
   "outputs": [
    {
     "name": "stdout",
     "output_type": "stream",
     "text": [
      "15\n"
     ]
    }
   ],
   "source": [
    "res=lambda x:x+10\n",
    "print(res(5))"
   ]
  },
  {
   "cell_type": "code",
   "execution_count": 8,
   "id": "d4ca4683",
   "metadata": {},
   "outputs": [
    {
     "name": "stdout",
     "output_type": "stream",
     "text": [
      "50\n"
     ]
    }
   ],
   "source": [
    "def mul_lamb(y):\n",
    "    return lambda x:x*y\n",
    "res=mul_lamb(10)\n",
    "print(res(5))"
   ]
  },
  {
   "cell_type": "code",
   "execution_count": 13,
   "id": "6bf8c775",
   "metadata": {},
   "outputs": [
    {
     "name": "stdout",
     "output_type": "stream",
     "text": [
      "25\n",
      "50\n"
     ]
    }
   ],
   "source": [
    "r=lambda a:a+15\n",
    "print(r(10))\n",
    "\n",
    "r=lambda x,y:x*y\n",
    "print(r(10,5))    "
   ]
  },
  {
   "cell_type": "code",
   "execution_count": 14,
   "id": "0c0e4f40",
   "metadata": {},
   "outputs": [
    {
     "name": "stdout",
     "output_type": "stream",
     "text": [
      "30\n"
     ]
    }
   ],
   "source": [
    "#2-create a function that takes one argument, and that argument will be multiplied with an unknown given number\n",
    "#inuput-Double the number of 15 = 30\n",
    "n=15\n",
    "res=lambda x:x*n\n",
    "print(res(2))"
   ]
  },
  {
   "cell_type": "code",
   "execution_count": 23,
   "id": "3616e854",
   "metadata": {},
   "outputs": [
    {
     "name": "stdout",
     "output_type": "stream",
     "text": [
      "[('Social sciences', 82), ('English', 88), ('Science', 90), ('Maths', 97)]\n"
     ]
    }
   ],
   "source": [
    "#3-sort a list of tuples using Lambda\n",
    "#input-[('English', 88), ('Science', 90), ('Maths', 97), ('Social sciences', 82)]\n",
    "#output-[('Social sciences', 82), ('English', 88), ('Science', 90), ('Maths', 97)]\n",
    "#s1-bubble sort\n",
    "#s2-sort +lambda method\n",
    "#s3-sorted +lambda method\n",
    "\n",
    "l=[('English', 88), ('Science', 90), ('Maths', 97), ('Social sciences', 82)]\n",
    "def sort_lst(lst):\n",
    "    lst.sort(key=lambda x:x[1])\n",
    "    return lst\n",
    "print(sort_lst(l))"
   ]
  },
  {
   "cell_type": "code",
   "execution_count": 26,
   "id": "8c167420",
   "metadata": {},
   "outputs": [
    {
     "name": "stdout",
     "output_type": "stream",
     "text": [
      "[('Social sciences', 82), ('English', 88), ('Science', 90), ('Maths', 97)]\n"
     ]
    }
   ],
   "source": [
    "l=[('English', 88), ('Science', 90), ('Maths', 97), ('Social sciences', 82)]\n",
    "def sorted_lst(lst):    \n",
    "    return sorted(lst,key=lambda x:x[1])\n",
    "print(sorted_lst(l))"
   ]
  },
  {
   "cell_type": "code",
   "execution_count": 30,
   "id": "cbf07f19",
   "metadata": {},
   "outputs": [
    {
     "name": "stdout",
     "output_type": "stream",
     "text": [
      "[('Geeksforgeeks', 5), ('is', 10), ('a', 15), ('portal', 20), ('for', 24), ('Geeks', 28)]\n"
     ]
    }
   ],
   "source": [
    "def buble_sort(lst):\n",
    "    tup=len(lst)\n",
    "    for i in range(0,tup):\n",
    "        for j in range(0,tup-i-1):\n",
    "            #print(tup-i-1,tup)\n",
    "            if (lst[j][1]>lst[j+1][1]):\n",
    "                temp=lst[j]\n",
    "                lst[j]=lst[j+1]\n",
    "                lst[j+1]=temp\n",
    "    return lst\n",
    "tup =[('for', 24), ('is', 10), ('Geeks', 28),\n",
    "      ('Geeksforgeeks', 5), ('portal', 20), ('a', 15)]\n",
    "       \n",
    "print(buble_sort(tup))"
   ]
  },
  {
   "cell_type": "code",
   "execution_count": 39,
   "id": "6d3b3e76",
   "metadata": {},
   "outputs": [
    {
     "name": "stdout",
     "output_type": "stream",
     "text": [
      "[{'make': 'Nokia', 'model': 216, 'color': 'Black'}, {'make': 'shoppingmode Samsung', 'model': 7, 'color': 'Blue'}, {'make': 'Mi Max', 'model': '2', 'color': 'Gold'}]\n"
     ]
    }
   ],
   "source": [
    "#4-sort a list of dictionaries using Lambda\n",
    "dcts=[{'make': 'Nokia', 'model': 216, 'color': 'Black'}, {'make': 'Mi Max', 'model': '2', 'color': 'Gold'}, {'make': 'shoppingmode Samsung', 'model': 7, 'color': 'Blue'}]\n",
    "\n",
    "#output-[{'make': 'Nokia', 'model': 216, 'color': 'Black'}, {'make': 'Samsung', 'model': 7, 'color': 'Blue'}, \n",
    "#{'make': 'Mi Max', 'model': '2', 'color': 'Gold'}]\n",
    "#res=dict{}\n",
    "def dict_sort(dct):    \n",
    "    return sorted(dct,key=lambda x:x['color'])\n",
    "print(dict_sort(dcts))"
   ]
  },
  {
   "cell_type": "code",
   "execution_count": 45,
   "id": "1e6a8d64",
   "metadata": {},
   "outputs": [
    {
     "name": "stdout",
     "output_type": "stream",
     "text": [
      "[False, True, False, True, False, True, False, True, False, True]\n"
     ]
    }
   ],
   "source": [
    "#5-filter a list of integers using Lambda\n",
    "#s1-map lambda fn with list\n",
    "#s2-filter method\n",
    "#s3-for loop\n",
    "\n",
    "l=[1, 2, 3, 4, 5, 6, 7, 8, 9, 10]\n",
    "def filter_lamb(lst,fn):\n",
    "    return list(map(fn,lst))\n",
    "print(filter_lamb(l, lambda x:x%2==0))"
   ]
  },
  {
   "cell_type": "code",
   "execution_count": 46,
   "id": "7f86e870",
   "metadata": {},
   "outputs": [
    {
     "name": "stdout",
     "output_type": "stream",
     "text": [
      "[2, 4, 6, 8, 10]\n"
     ]
    }
   ],
   "source": [
    "nums=[1, 2, 3, 4, 5, 6, 7, 8, 9, 10]\n",
    "even_nums=list(filter(lambda x:x%2==0,nums))\n",
    "print(even_nums)"
   ]
  },
  {
   "cell_type": "code",
   "execution_count": 55,
   "id": "037ffc1a",
   "metadata": {},
   "outputs": [
    {
     "name": "stdout",
     "output_type": "stream",
     "text": [
      "[1, 4, 9, 16, 25, 36, 49, 64, 81, 100]\n",
      "[1, 8, 27, 64, 125, 216, 343, 512, 729, 1000]\n"
     ]
    }
   ],
   "source": [
    "#6-square and cube every number in a given list of integers using Lambda\n",
    "l=[1, 2, 3, 4, 5, 6, 7, 8, 9, 10]\n",
    "def sq_cu_lst(lst,n):\n",
    "    #sqr_lst=list(lambda x:pow(x,n) for n in lst)\n",
    "    sqr_lst=list(map(lambda x:x**n,lst))\n",
    "    return sqr_lst\n",
    "print(sq_cu_lst(l,2))\n",
    "print(sq_cu_lst(l,3))"
   ]
  },
  {
   "cell_type": "code",
   "execution_count": 59,
   "id": "e7815031",
   "metadata": {},
   "outputs": [
    {
     "name": "stdout",
     "output_type": "stream",
     "text": [
      "False\n"
     ]
    }
   ],
   "source": [
    "#7-find if a given string starts with a given character using Lambda\n",
    "def str_chr(str1,ch):\n",
    "    res=next(map(lambda x:x[0]==ch,str1))\n",
    "    return res\n",
    "print(str_chr('Ramesh','l'))"
   ]
  },
  {
   "cell_type": "code",
   "execution_count": 61,
   "id": "772d7bbd",
   "metadata": {},
   "outputs": [
    {
     "name": "stdout",
     "output_type": "stream",
     "text": [
      "True\n"
     ]
    }
   ],
   "source": [
    "starts_with=lambda x:True if x.startswith('P') else False\n",
    "print(starts_with('Python'))"
   ]
  },
  {
   "cell_type": "code",
   "execution_count": 19,
   "id": "ff3d96b8",
   "metadata": {},
   "outputs": [
    {
     "name": "stdout",
     "output_type": "stream",
     "text": [
      "[['2'], ['0'], ['2'], ['0'], ['', ''], ['0'], ['1'], ['', ''], ['1'], ['5'], [' '], ['0'], ['9'], [':'], ['0'], ['3'], [':'], ['3'], ['2'], ['.'], ['7'], ['4'], ['4'], ['1'], ['7'], ['8']]\n",
      "['2020-01-15', '09:03:32.744178']\n"
     ]
    }
   ],
   "source": [
    "#8-extract year, month, date and time using Lambda.\n",
    "time_stamp1='2020-01-15 09:03:32.744178'\n",
    "res=list(map(lambda x:x.split('-'),time_stamp1))\n",
    "#res=list((lambda x:x.split('-') for x in time_stamp1))\n",
    "print(res)\n",
    "print(time_stamp1.split())       "
   ]
  },
  {
   "cell_type": "code",
   "execution_count": 25,
   "id": "71f2c4d2",
   "metadata": {},
   "outputs": [
    {
     "name": "stdout",
     "output_type": "stream",
     "text": [
      "2022-07-29 20:59:16.140328\n",
      "current year= 2022\n",
      "current monnth= 7\n",
      "current day= 29\n",
      "current time= 20:59:16.140328\n"
     ]
    }
   ],
   "source": [
    "import datetime\n",
    "now=datetime.datetime.now()\n",
    "print(now)\n",
    "year=lambda x:x.year\n",
    "month=lambda x:x.month\n",
    "day=lambda x:x.day\n",
    "time=lambda x:x.time()\n",
    "print(\"current year=\",year(now))\n",
    "print(\"current monnth=\",month(now))\n",
    "print(\"current day=\",day(now))\n",
    "print(\"current time=\",time(now))"
   ]
  },
  {
   "cell_type": "code",
   "execution_count": 32,
   "id": "a00339ef",
   "metadata": {},
   "outputs": [
    {
     "data": {
      "text/plain": [
       "True"
      ]
     },
     "execution_count": 32,
     "metadata": {},
     "output_type": "execute_result"
    }
   ],
   "source": [
    "#9-check whether a given string is number or not using Lambd\n",
    "res=lambda x: True if type(x)==str else False\n",
    "res(123)\n",
    "res('true')"
   ]
  },
  {
   "cell_type": "code",
   "execution_count": 38,
   "id": "159dc56f",
   "metadata": {},
   "outputs": [
    {
     "data": {
      "text/plain": [
       "True"
      ]
     },
     "execution_count": 38,
     "metadata": {},
     "output_type": "execute_result"
    }
   ],
   "source": [
    "def str_chk(n):###does not work with integer\n",
    "    res=next(map(lambda x: True if type(x)==str else False,str(n)))\n",
    "    return res\n",
    "str_chk(123)"
   ]
  },
  {
   "cell_type": "code",
   "execution_count": 1,
   "id": "94388071",
   "metadata": {},
   "outputs": [],
   "source": [
    "#10-create Fibonacci series upto n using Lambda\n",
    "#reduce method\n",
    "def fib_series(n):\n",
    "    res=list()"
   ]
  },
  {
   "cell_type": "code",
   "execution_count": 2,
   "id": "b6cc5905",
   "metadata": {},
   "outputs": [],
   "source": [
    "#map method"
   ]
  },
  {
   "cell_type": "code",
   "execution_count": 3,
   "id": "71dbaa73",
   "metadata": {},
   "outputs": [],
   "source": [
    "#11-intersection of two given arrays using Lambda"
   ]
  },
  {
   "cell_type": "code",
   "execution_count": 4,
   "id": "e0d5a557",
   "metadata": {},
   "outputs": [],
   "source": [
    "#12-rearrange positive and negative numbers in a given array using Lambda."
   ]
  },
  {
   "cell_type": "code",
   "execution_count": 5,
   "id": "149583de",
   "metadata": {},
   "outputs": [],
   "source": [
    "#13-count the even, odd numbers in a given array of integers using Lambda"
   ]
  },
  {
   "cell_type": "code",
   "execution_count": 23,
   "id": "f025f2b1",
   "metadata": {},
   "outputs": [
    {
     "name": "stdout",
     "output_type": "stream",
     "text": [
      "['Monday', Ellipsis, Ellipsis, Ellipsis, 'Friday', Ellipsis, 'Sunday']\n"
     ]
    }
   ],
   "source": [
    "#Date-7/30/22\n",
    "#14- find the values of length six in a given list using Lambda\n",
    "lst=['Monday','Tuesday','Wednesday','Thursday','Friday','Saturday','Sunday']\n",
    "res=list(map(lambda x:x if len(x)==6 else ...,lst))\n",
    "print(res)"
   ]
  },
  {
   "cell_type": "code",
   "execution_count": 18,
   "id": "3da76dc5",
   "metadata": {},
   "outputs": [
    {
     "name": "stdout",
     "output_type": "stream",
     "text": [
      "Monday\n",
      "Friday\n",
      "Sunday\n"
     ]
    }
   ],
   "source": [
    "lst=['Monday','Tuesday','Wednesday','Thursday','Friday','Saturday','Sunday']\n",
    "days=filter(lambda day:day if len(day)==6 else '',lst)\n",
    "for d in days:\n",
    "    print(d)"
   ]
  },
  {
   "cell_type": "code",
   "execution_count": 32,
   "id": "2fe3633a",
   "metadata": {},
   "outputs": [
    {
     "name": "stdout",
     "output_type": "stream",
     "text": [
      "[5, 7, 9]\n",
      "[5, 7, 9]\n"
     ]
    }
   ],
   "source": [
    "#13-add two given lists using map and lambda\n",
    "l1=[1, 2, 3]\n",
    "l2=[4, 5, 6]\n",
    "res=list(map(lambda x,y: x+y,l1,l2))\n",
    "result = map(lambda x, y: x + y, l1, l2)\n",
    "print(res)\n",
    "print(list(result))"
   ]
  },
  {
   "cell_type": "code",
   "execution_count": 50,
   "id": "fe069941",
   "metadata": {},
   "outputs": [
    {
     "name": "stdout",
     "output_type": "stream",
     "text": [
      "3\n",
      "'R Menon',70\n",
      "'K Ram', 50\n",
      "'S Roy', 100\n",
      "[[\"'R Menon'\", '70'], [\"'K Ram'\", ' 50'], [\"'S Roy'\", ' 100']]\n",
      "[[\"'K Ram'\", ' 50'], [\"'R Menon'\", '70'], [\"'S Roy'\", ' 100']]\n"
     ]
    }
   ],
   "source": [
    "#14-second lowest grade of any student(s) from the given names and grades of each student using lists and lambda\n",
    "#1-create list of sublist from the given names and grades\n",
    "#2-sort it \n",
    "#3-find 1st elemment of the list\n",
    "def second_lowest_grade():\n",
    "    num_inp=int(input())\n",
    "    grd_nem_lst=[]\n",
    "    for i in range(0,num_inp):\n",
    "        str1=input()\n",
    "        grd_nem_lst.append(str1.split(','))\n",
    "    print(grd_nem_lst)\n",
    "    sorted_lst=sorted(grd_nem_lst,key=lambda x: int(x[1]))\n",
    "    print(sorted_lst)   \n",
    "\n",
    "second_lowest_grade()  "
   ]
  },
  {
   "cell_type": "code",
   "execution_count": 51,
   "id": "c7445b6f",
   "metadata": {},
   "outputs": [
    {
     "name": "stdout",
     "output_type": "stream",
     "text": [
      "number of students=3\n",
      "name=Roy\n",
      "score=30\n",
      "name=Mani\n",
      "score=10\n",
      "name=Seeta\n",
      "score=23\n",
      "\n",
      "Names and Grades of all students:\n",
      "[['Roy', 30.0], ['Mani', 10.0], ['Seeta', 23.0]]\n",
      "[['Mani', 10.0], ['Seeta', 23.0], ['Roy', 30.0]]\n"
     ]
    }
   ],
   "source": [
    "#method 2\n",
    "students=[]\n",
    "sec_name=[]\n",
    "second_low=0\n",
    "n=int(input(\"number of students=\"))\n",
    "for _ in range(n):\n",
    "    s_name=input(\"name=\")\n",
    "    score=float(input(\"score=\"))\n",
    "    students.append([s_name,score])\n",
    "print(\"\\nNames and Grades of all students:\")\n",
    "print(students)\n",
    "order=sorted(students,key=lambda x:x[1])\n",
    "for i in range(n):\n",
    "    if order[i][1]!=order[0][1]:\n",
    "        second_low=order[i][1]\n",
    "        break\n",
    "print(\"\\nSecond lowest grade: \",second_low)\n",
    "sec_student_name = [x[0] for x in order if x[1] == second_low]\n",
    "sec_student_name.sort()\n",
    "print(\"\\nNames:\")\n",
    "for s_name in sec_student_name:\n",
    "    print(s_name)\n",
    "#print(order)  "
   ]
  },
  {
   "cell_type": "code",
   "execution_count": 53,
   "id": "b3494aac",
   "metadata": {},
   "outputs": [
    {
     "name": "stdout",
     "output_type": "stream",
     "text": [
      "[19, 65, 57, 39, 152, 190]\n"
     ]
    }
   ],
   "source": [
    "#17-find numbers divisible by nineteen or thirteen from a list of numbers using Lambda.\n",
    "l=[19, 65, 57, 39, 152, 639, 121, 44, 90, 190]\n",
    "res=list(filter(lambda x: x%13==0 or x%19==0,l))\n",
    "print(res)"
   ]
  },
  {
   "cell_type": "code",
   "execution_count": 59,
   "id": "ed12dd75",
   "metadata": {},
   "outputs": [
    {
     "name": "stdout",
     "output_type": "stream",
     "text": [
      "['php', 'aaa']\n"
     ]
    }
   ],
   "source": [
    "#18-find palindromes in a given list of strings using Lambda\n",
    "l_str=['php', 'w3r', 'Python', 'abcd', 'Java', 'aaa']\n",
    "l_op=list(filter(lambda x:x==x[::-1],l_str))\n",
    "print(l_op)"
   ]
  },
  {
   "cell_type": "code",
   "execution_count": 61,
   "id": "e725d195",
   "metadata": {},
   "outputs": [
    {
     "name": "stdout",
     "output_type": "stream",
     "text": [
      "Orginal list of strings: ['php', 'w3r', 'Python', 'abcd', 'Java', 'aaa']\n",
      "['php', 'aaa']\n"
     ]
    }
   ],
   "source": [
    "#using reversed function\n",
    "texts=['php', 'w3r', 'Python', 'abcd', 'Java', 'aaa']\n",
    "print(\"Orginal list of strings:\",texts)\n",
    "results=list(filter(lambda x: (x==\"\".join(reversed(x))),texts))\n",
    "print(results)"
   ]
  },
  {
   "cell_type": "code",
   "execution_count": 1,
   "id": "c7b4b334",
   "metadata": {},
   "outputs": [],
   "source": [
    "#19- find all anagrams of a string in a given list of strings using lambda\n",
    "#s1-sort string and compare\n",
    "#s2-create dictionary with key=character and value=count\n",
    "\n",
    "#https://www.geeksforgeeks.org/print-pairs-anagrams-given-array-strings/\n",
    "#https://www.geeksforgeeks.org/check-whether-two-strings-are-anagram-of-each-other/\n",
    "\n",
    "l=['bcda', 'abce', 'cbda', 'cbea', 'adcb']\n"
   ]
  },
  {
   "cell_type": "code",
   "execution_count": 7,
   "id": "8316236a",
   "metadata": {},
   "outputs": [
    {
     "name": "stdout",
     "output_type": "stream",
     "text": [
      "['sdf', '23', 'safs8', '5', 'sdfsd8', 'sdfs', '56', '21sfs', '20', '5']\n",
      "20 23 56 "
     ]
    }
   ],
   "source": [
    "#20-find the numbers of a given string and store them in a list, \n",
    "#display the numbers which are bigger than the length of the list in sorted form. Use lambda function to solve the problem\n",
    "str1='sdf 23 safs8 5 sdfsd8 sdfs 56 21sfs 20 5'\n",
    "\n",
    "str_num=[i for i in str1.split(' ')]\n",
    "lenght=len(str_num)\n",
    "print(str_num)\n",
    "nums=sorted([int(x) for x in str_num if x.isdigit()])\n",
    "\n",
    "for i in ((filter(lambda x : x>lenght,nums))):\n",
    "    print(i,end=' ')"
   ]
  },
  {
   "cell_type": "code",
   "execution_count": 9,
   "id": "f0a5af23",
   "metadata": {},
   "outputs": [
    {
     "name": "stdout",
     "output_type": "stream",
     "text": [
      "[4, 8, 12, 18, 22]\n",
      "4 8 12 18 22\n"
     ]
    }
   ],
   "source": [
    "#21- multiply each number of given list with a given number using lambda function. Print the result\n",
    "l=[2, 4, 6, 9, 11]\n",
    "n=2\n",
    "result=list(map(lambda x:x*n,l))\n",
    "print(result)\n",
    "print(' '.join(map(str,result)))"
   ]
  },
  {
   "cell_type": "code",
   "execution_count": 16,
   "id": "ee25dbd3",
   "metadata": {},
   "outputs": [
    {
     "name": "stdout",
     "output_type": "stream",
     "text": [
      "['Dylan', 'Diana', 'Joanne']\n",
      "16\n"
     ]
    }
   ],
   "source": [
    "#22-sum the length of the names of a given list of names after removing the names that starts with an lowercase letter\n",
    "l=['sally', 'Dylan', 'rebecca', 'Diana', 'Joanne', 'keith']\n",
    "result=list(filter(lambda x:x[0].isupper(),l))\n",
    "print(result)\n",
    "print(len(''.join(result)))"
   ]
  },
  {
   "cell_type": "code",
   "execution_count": 34,
   "id": "cc950b63",
   "metadata": {},
   "outputs": [
    {
     "name": "stdout",
     "output_type": "stream",
     "text": [
      "[2, 4, -6, -9, 11, -12, 14, -5, 17] 48 -32\n"
     ]
    }
   ],
   "source": [
    "#23-calculate the sum of the positive and negative numbers of a given list of numbers\n",
    "l=[2, 4, -6, -9, 11, -12, 14, -5, 17]\n",
    "sum_pos=0\n",
    "sum_neg=0\n",
    "sum_pos=sum(map(lambda x:x if x>0 else 0,l))\n",
    "sum_neg=sum(map(lambda x:x if x<0 else 0,l))\n",
    "print(result,sum_pos,sum_neg)"
   ]
  },
  {
   "cell_type": "code",
   "execution_count": 36,
   "id": "c5327c33",
   "metadata": {},
   "outputs": [
    {
     "name": "stdout",
     "output_type": "stream",
     "text": [
      "Sum of the positive numbers:  -32\n",
      "Sum of the negative numbers:  48\n"
     ]
    }
   ],
   "source": [
    "nums=[2, 4, -6, -9, 11, -12, 14, -5, 17]\n",
    "total_negative_nums = list(filter(lambda nums:nums<0,nums))\n",
    "total_positive_nums = list(filter(lambda nums:nums>0,nums))\n",
    "\n",
    "print(\"Sum of the positive numbers: \",sum(total_negative_nums))\n",
    "print(\"Sum of the negative numbers: \",sum(total_positive_nums))"
   ]
  },
  {
   "cell_type": "code",
   "execution_count": 29,
   "id": "f48683be",
   "metadata": {},
   "outputs": [
    {
     "name": "stdout",
     "output_type": "stream",
     "text": [
      "1.0\n",
      "[True, True]\n"
     ]
    }
   ],
   "source": [
    "#Date-8/2/22\n",
    "#24-find numbers within a given range where every number is divisible by every digit it contains\n",
    "n=25\n",
    "print(int(str(n)[0])/2)\n",
    "#result=list(map(lambda x:n/int(x),str(n)))\n",
    "for i in range(1,n):\n",
    "    if i==0 or str(i)=='0':\n",
    "        continue\n",
    "    elif i!=0:\n",
    "        result=list(map(lambda x:i/int(x),str(i)))\n",
    "print(result)"
   ]
  },
  {
   "cell_type": "code",
   "execution_count": 32,
   "id": "58ce4b52",
   "metadata": {},
   "outputs": [
    {
     "name": "stdout",
     "output_type": "stream",
     "text": [
      "[1, 2, 3, 4, 5, 6, 7, 8, 9, 11, 12, 15, 22]\n"
     ]
    }
   ],
   "source": [
    "def divisible_by_digits(m,n):\n",
    "    return[n for n in range(1,n+1) if not any(map(lambda x:int(x)==0 or n%int(x)!=0,str(n)))]\n",
    "print(divisible_by_digits(1,22))"
   ]
  },
  {
   "cell_type": "code",
   "execution_count": 52,
   "id": "12e9b26b",
   "metadata": {},
   "outputs": [
    {
     "name": "stdout",
     "output_type": "stream",
     "text": [
      "1\n"
     ]
    },
    {
     "ename": "TypeError",
     "evalue": "'tuple' object is not an iterator",
     "output_type": "error",
     "traceback": [
      "\u001b[1;31m---------------------------------------------------------------------------\u001b[0m",
      "\u001b[1;31mTypeError\u001b[0m                                 Traceback (most recent call last)",
      "\u001b[1;32m~\\AppData\\Local\\Temp/ipykernel_13712/1170692195.py\u001b[0m in \u001b[0;36m<module>\u001b[1;34m\u001b[0m\n\u001b[0;32m     11\u001b[0m     \u001b[0mop_num\u001b[0m\u001b[1;33m=\u001b[0m\u001b[1;34m''\u001b[0m\u001b[1;33m.\u001b[0m\u001b[0mjoin\u001b[0m\u001b[1;33m(\u001b[0m\u001b[0mi\u001b[0m\u001b[1;33m)\u001b[0m\u001b[1;33m\u001b[0m\u001b[1;33m\u001b[0m\u001b[0m\n\u001b[0;32m     12\u001b[0m \u001b[0mprint\u001b[0m\u001b[1;33m(\u001b[0m\u001b[0mop_num\u001b[0m\u001b[1;33m)\u001b[0m\u001b[1;33m\u001b[0m\u001b[1;33m\u001b[0m\u001b[0m\n\u001b[1;32m---> 13\u001b[1;33m \u001b[0mnext_bigger_num\u001b[0m\u001b[1;33m=\u001b[0m\u001b[0mnext\u001b[0m\u001b[1;33m(\u001b[0m\u001b[1;33m(\u001b[0m\u001b[1;32mlambda\u001b[0m \u001b[0mx\u001b[0m\u001b[1;33m:\u001b[0m\u001b[1;32mTrue\u001b[0m \u001b[1;32mif\u001b[0m \u001b[0mx\u001b[0m\u001b[1;33m>\u001b[0m\u001b[0mn\u001b[0m \u001b[1;32melse\u001b[0m \u001b[1;32mFalse\u001b[0m\u001b[1;33m,\u001b[0m\u001b[0mint\u001b[0m\u001b[1;33m(\u001b[0m\u001b[0mop_num\u001b[0m\u001b[1;33m)\u001b[0m\u001b[1;33m)\u001b[0m\u001b[1;33m)\u001b[0m\u001b[1;33m\u001b[0m\u001b[1;33m\u001b[0m\u001b[0m\n\u001b[0m",
      "\u001b[1;31mTypeError\u001b[0m: 'tuple' object is not an iterator"
     ]
    }
   ],
   "source": [
    "#25-Create the next bigger number by rearranging the digits of a given number\n",
    "#s1-arrangig digits of a number in descending order\n",
    "#s2-creating all permutations of a number and result being biggest one\n",
    "\n",
    "#Original number: 12  Output--Next bigger number: 21\n",
    "#Original number: 10 Output-Next bigger number: False\n",
    "n=10\n",
    "result=list(str(n))\n",
    "sorted_result=sorted(result)\n",
    "for i in sorted_result:\n",
    "    op_num=''.join(i)\n",
    "print(op_num)\n",
    "next_bigger_num=next((lambda x:True if x>n else False,int(op_num)))"
   ]
  },
  {
   "cell_type": "code",
   "execution_count": 58,
   "id": "39b03713",
   "metadata": {},
   "outputs": [
    {
     "name": "stdout",
     "output_type": "stream",
     "text": [
      "Next number with set of digits is 536479\n"
     ]
    }
   ],
   "source": [
    "#536479\n",
    "#4321\n",
    "def findNext(number,n):\n",
    "    for i in range(n-1,0,-1):\n",
    "        if number[i]>number[i-1]:#i>i-1\n",
    "            break;\n",
    "    if i==1 and number[i]<number[i-1]:##we are at 2nd leftmost digit(3)\n",
    "            print(\"Next digit not possible\")\n",
    "            return\n",
    "    x=number[i-1]  \n",
    "    smallest=i\n",
    "    for j in range(i+1,n):\n",
    "        if number[j]>x and number[j]<number[smallest]:\n",
    "            smallest=j\n",
    "    number[smallest],number[i-1]=number[i-1],number[smallest]\n",
    "    x=0\n",
    "    for j in range(i):\n",
    "        x=x*10+number[j]\n",
    "    # Sort the digits after i-1 in ascending order\n",
    "    number=sorted(number[i:])\n",
    "    # converting the remaining sorted digits into number\n",
    "    for j in range(n-i):\n",
    "        x=x*10+number[j]\n",
    "    print (\"Next number with set of digits is\",x) \n",
    "# Driver Program to test above function\n",
    "digits = \"534976\"        \n",
    " \n",
    "# converting into integer array,\n",
    "# number becomes [5,3,4,9,7,6]\n",
    "number = list(map(int ,digits))\n",
    "findNext(number, len(digits))       "
   ]
  },
  {
   "cell_type": "code",
   "execution_count": 69,
   "id": "9cad5230",
   "metadata": {},
   "outputs": [
    {
     "name": "stdout",
     "output_type": "stream",
     "text": [
      "5 3 6 4 7 9\n"
     ]
    }
   ],
   "source": [
    "def nextPermutation(arr):\n",
    "    n=len(arr)# find the length of the array\n",
    "    # start from the right most digit and find the first digit that is smaller than the digit next to it.\n",
    "    k=n-2\n",
    "    while k>=0:\n",
    "        if arr[k]<arr[k+1]:\n",
    "            #print(\"1st\",arr[k],arr[k+1])\n",
    "            break;\n",
    "        k-=1\n",
    "    # reverse the list if the digit that is smaller than digit next to it is not found.\n",
    "    if k<0:\n",
    "        arr=arr[::-1]\n",
    "    else:\n",
    "        # find the first greatest element than arr[k] from end of the list\n",
    "        for l in range(n-1,k,-1):\n",
    "            if arr[l]>arr[k]:\n",
    "                #print(arr[l],arr[k])\n",
    "                break\n",
    "            # swap the elements at arr[k] and arr[l  \n",
    "        arr[l],arr[k]=arr[k],arr[l]\n",
    "        # reverse the list from k + 1 to the end to find the\n",
    "        # most nearest greater number to the given input number\n",
    "        #print(arr[k+1:])\n",
    "        arr[k+1:]=reversed(arr[k+1:])\n",
    "    return arr\n",
    "# Driver code\n",
    "arr = [5, 3, 4, 9, 7, 6]\n",
    "print(*nextPermutation(arr))"
   ]
  },
  {
   "cell_type": "code",
   "execution_count": 71,
   "id": "55b17888",
   "metadata": {},
   "outputs": [
    {
     "name": "stdout",
     "output_type": "stream",
     "text": [
      "Original number: 12\n",
      "Next bigger number: 21\n"
     ]
    }
   ],
   "source": [
    "def rearrange_bigger(n):\n",
    "    #Break the number into digits and store in a list\n",
    "    nums = list(str(n))\n",
    "    for i in range(len(nums)-2,-1,-1):\n",
    "        if nums[i] < nums[i+1]:\n",
    "            z = nums[i:]\n",
    "            y = min(filter(lambda x: x > z[0], z))\n",
    "            z.remove(y)\n",
    "            z.sort()\n",
    "            nums[i:] = [y] + z\n",
    "            return int(\"\".join(nums))\n",
    "    return False\n",
    "n = 12\n",
    "print(\"Original number:\",n)\n",
    "print(\"Next bigger number:\",rearrange_bigger(n))"
   ]
  },
  {
   "cell_type": "code",
   "execution_count": 15,
   "id": "a4eb1d73",
   "metadata": {},
   "outputs": [
    {
     "name": "stdout",
     "output_type": "stream",
     "text": [
      "[13, 15, 17] [0]\n"
     ]
    }
   ],
   "source": [
    "#26-find the list with maximum and minimum length using lambda.\n",
    "l=[[0], [1, 3], [5, 7], [9, 11], [13, 15, 17]]\n",
    "#result_max=max(map(lambda x:(len(x)),l))\n",
    "result_max=max(l,key=lambda x:(len(x)))\n",
    "result_min=min(l,key=lambda x:(len(x)))\n",
    "print(result_max,result_min)"
   ]
  },
  {
   "cell_type": "code",
   "execution_count": 45,
   "id": "241cea34",
   "metadata": {},
   "outputs": [
    {
     "name": "stdout",
     "output_type": "stream",
     "text": [
      "[['green', 'orange'], ['black', 'white'], ['Ahite', 'black', 'orange']] [[['Ahite', 'black', 'orange'], ['black', 'white'], ['green', 'orange']]]\n"
     ]
    }
   ],
   "source": [
    "#27-sort each sublist of strings in a given list of lists using lambda\n",
    "l=[['green', 'orange'], ['black', 'white'], ['Ahite', 'black', 'orange']]\n",
    "sorted_l=[sorted(x,key=lambda x:x) for x in l]\n",
    "sorted_ll=[sorted(l,key=lambda x:x)]\n",
    "print(sorted_l,sorted_ll)"
   ]
  },
  {
   "cell_type": "code",
   "execution_count": 27,
   "id": "1b96825c",
   "metadata": {},
   "outputs": [
    {
     "name": "stdout",
     "output_type": "stream",
     "text": [
      "[[2], [0], [1, 3], [0, 7], [1, 11, 19, 20], [11, 13, 17]]\n",
      "[[0], [2], [0, 7], [1, 3], [13, 11, 17], [19, 11, 20, 1]]\n"
     ]
    }
   ],
   "source": [
    "#28- sort a given list of lists by length and value using lambda\n",
    "l_num=[[2], [0], [1, 3], [0, 7], [19, 11,20,1], [13, 11, 17]]\n",
    "result = sorted(l_num, key=lambda l: (len(l), l))\n",
    "l_sorted=[sorted(x,key=lambda x:x)for x in l_num]\n",
    "print(l_sorted)\n",
    "print(result)"
   ]
  },
  {
   "cell_type": "code",
   "execution_count": 37,
   "id": "6d5f6d5c",
   "metadata": {},
   "outputs": [
    {
     "name": "stdout",
     "output_type": "stream",
     "text": [
      "5\n",
      "version\n"
     ]
    }
   ],
   "source": [
    "#29-find the maximum value in a given heterogeneous list using lambda\n",
    "l_hetro=['Python', 3, 2, 4, 5, 'version']\n",
    "print(max(l_hetro,key=lambda i:(isinstance (i,int),i)))\n",
    "print(max(l_hetro,key=lambda i:(isinstance (i,str),i)))"
   ]
  },
  {
   "cell_type": "code",
   "execution_count": 42,
   "id": "6473c03d",
   "metadata": {},
   "outputs": [
    {
     "name": "stdout",
     "output_type": "stream",
     "text": [
      "[[1, 1, 1], [1, 2, 3], [2, 4, 5]]\n"
     ]
    }
   ],
   "source": [
    "#30-sort a given matrix in ascending order according to the sum of its rows using lambda\n",
    "l_mtr=[[1, 2, 3], [2, 4, 5], [1, 1, 1]]\n",
    "l_mtr_sorted=sorted(l_mtr,key=lambda x:sum(x))\n",
    "print(l_mtr_sorted)"
   ]
  },
  {
   "cell_type": "code",
   "execution_count": 46,
   "id": "3ac18fac",
   "metadata": {},
   "outputs": [
    {
     "name": "stdout",
     "output_type": "stream",
     "text": [
      "['practice', 'solution']\n"
     ]
    }
   ],
   "source": [
    "#31-extract specified size of strings from a give list of string values using lambda\n",
    "l=['Python', 'list', 'exercises', 'practice', 'solution']\n",
    "n=8\n",
    "result=list(filter(lambda x:len(x)==n,l))\n",
    "print(result)"
   ]
  },
  {
   "cell_type": "code",
   "execution_count": 47,
   "id": "8009f5be",
   "metadata": {},
   "outputs": [
    {
     "name": "stdout",
     "output_type": "stream",
     "text": [
      "[3.12, 1.2, -12.22]\n"
     ]
    }
   ],
   "source": [
    "#32-count float number in a given mixed list using lambda\n",
    "l_mixed=[1, 'abcd', 3.12, 1.2, 4, 'xyz', 5, 'pqr', 7, -5, -12.22]\n",
    "result=list(filter(lambda x:isinstance(x,float),l_mixed))\n",
    "print(result)"
   ]
  },
  {
   "cell_type": "code",
   "execution_count": 20,
   "id": "1bd896cd",
   "metadata": {},
   "outputs": [
    {
     "name": "stdout",
     "output_type": "stream",
     "text": [
      "Input the string: re\n",
      "['String must have 1 upper case character.', 'String must have 1 number.', 'String length should be atleast 8.']\n"
     ]
    }
   ],
   "source": [
    "#Date-8/3/22\n",
    "#33-check whether a given string contains a capital letter, a lower case letter, a number and a minimum length using lambda\n",
    "def check_string(str1):\n",
    "    messg = [\n",
    "    lambda str1: any(x.isupper() for x in str1) or 'String must have 1 upper case character.',\n",
    "    lambda str1: any(x.islower() for x in str1) or 'String must have 1 lower case character.',\n",
    "    lambda str1: any(x.isdigit() for x in str1) or 'String must have 1 number.',\n",
    "    lambda str1: len(str1) >= 7                 or 'String length should be atleast 8.',]\n",
    "    result = [x for x in [i(str1) for i in messg] if x != True]\n",
    "    if not result:\n",
    "        result.append('Valid string.')\n",
    "    return result    \n",
    "s = input(\"Input the string: \")\n",
    "print(check_string(s))"
   ]
  },
  {
   "cell_type": "code",
   "execution_count": 25,
   "id": "38674f39",
   "metadata": {},
   "outputs": [
    {
     "name": "stdout",
     "output_type": "stream",
     "text": [
      "{'Cierra Vega': (6.2, 70)}\n"
     ]
    }
   ],
   "source": [
    "#34- filter the height and width of students, which are stored in a dictionary using lambda\n",
    "dict1={'Cierra Vega': (6.2, 70), 'Alden Cantrell': (5.9, 65), 'Kierra Gentry': (6.0, 68), 'Pierre Cox': (5.8, 66)}\n",
    "ht=6\n",
    "wt=70\n",
    "result=dict(filter(lambda x: x[1][0]>=ht and x[1][1]>=wt,dict1.items()))\n",
    "print(result)"
   ]
  },
  {
   "cell_type": "code",
   "execution_count": 30,
   "id": "4d3d9700",
   "metadata": {},
   "outputs": [
    {
     "name": "stdout",
     "output_type": "stream",
     "text": [
      "List was sorted\n"
     ]
    }
   ],
   "source": [
    "#35-check whether a specified list is sorted or not using lambda\n",
    "l=[1, 2, 4, 6, 8, 10, 12, 14, 16, 17]\n",
    "result=sorted(l,key=lambda x:x)\n",
    "if l==result:\n",
    "    print(\"List was sorted\")\n",
    "else:\n",
    "    print(\"List was not sorted\")"
   ]
  },
  {
   "cell_type": "code",
   "execution_count": 34,
   "id": "4263ec99",
   "metadata": {},
   "outputs": [
    {
     "name": "stdout",
     "output_type": "stream",
     "text": [
      "Original list:\n",
      "[1, 2, 4, 6, 8, 10, 12, 14, 16, 27]\n",
      "\n",
      "Is the said list is sorted!\n",
      "True\n"
     ]
    }
   ],
   "source": [
    "def is_sort_list(nums, key=lambda x: x):\n",
    "    for i, e in enumerate(nums[1:]):#i is 1 poiter ahead of e and we compare those two values every iteration\n",
    "       # print(key(e),key(nums[i]))\n",
    "        if key(e) < key(nums[i]): \n",
    "            return False\n",
    "    return True\n",
    "nums1 = [1,2,4,6,8,10,12,14,16,27]\n",
    "print (\"Original list:\")\n",
    "print(nums1)\n",
    "print(\"\\nIs the said list is sorted!\")\n",
    "print(is_sort_list(nums1)) "
   ]
  },
  {
   "cell_type": "code",
   "execution_count": 36,
   "id": "050d054e",
   "metadata": {},
   "outputs": [
    {
     "name": "stdout",
     "output_type": "stream",
     "text": [
      "['Greyson Fulton', 'Brady Kent', 'Wyatt Knott', 'Beau Turnbull']\n"
     ]
    }
   ],
   "source": [
    "#36-extract the nth element from a given list of tuples using lambda\n",
    "l=[('Greyson Fulton', 98, 99), ('Brady Kent', 97, 96), ('Wyatt Knott', 91, 94), ('Beau Turnbull', 94, 98)]\n",
    "n=0\n",
    "result=list(map(lambda x:x[n],l))\n",
    "print(result)"
   ]
  },
  {
   "cell_type": "code",
   "execution_count": 38,
   "id": "e4ded876",
   "metadata": {},
   "outputs": [
    {
     "name": "stdout",
     "output_type": "stream",
     "text": [
      "[('Beau Turnbull', 94, 98), ('Brady Kent', 97, 96), ('Greyson Fulton', 98, 99), ('Wyatt Knott', 91, 94)]\n"
     ]
    }
   ],
   "source": [
    "#37-sort a list of lists by a given index of the inner list using lambda\n",
    "l=[('Greyson Fulton', 98, 99), ('Brady Kent', 97, 96), ('Wyatt Knott', 91, 94), ('Beau Turnbull', 94, 98)]\n",
    "idx=0\n",
    "result=sorted(l,key=lambda x:x[idx])\n",
    "print(result)"
   ]
  },
  {
   "cell_type": "code",
   "execution_count": 39,
   "id": "8d469023",
   "metadata": {},
   "outputs": [
    {
     "name": "stdout",
     "output_type": "stream",
     "text": [
      "[1, 3, 5, 7, 9, 10]\n"
     ]
    }
   ],
   "source": [
    "#38- remove all elements from a given list present in another list using lambda\n",
    "l1=[1, 2, 3, 4, 5, 6, 7, 8, 9, 10]\n",
    "l2=[2, 4, 6, 8]\n",
    "result=list(filter(lambda x : x not in l2,l1))\n",
    "print(result)"
   ]
  },
  {
   "cell_type": "code",
   "execution_count": 41,
   "id": "4b87b052",
   "metadata": {},
   "outputs": [
    {
     "name": "stdout",
     "output_type": "stream",
     "text": [
      "['black', 'rack']\n"
     ]
    }
   ],
   "source": [
    "#39-find the elements of a given list of strings that contain specific substring using lambda\n",
    "l=['red', 'black', 'white', 'green', 'orange','rack']\n",
    "sub_str='ack'\n",
    "result=list(filter(lambda x:sub_str in x,l))\n",
    "print(result)"
   ]
  },
  {
   "cell_type": "code",
   "execution_count": 48,
   "id": "8aa3143f",
   "metadata": {},
   "outputs": [
    {
     "name": "stdout",
     "output_type": "stream",
     "text": [
      "[[12], [7, 11], [1, 5, 8]]\n"
     ]
    }
   ],
   "source": [
    "#40-find the nested lists elements, which are present in another list using lambda\n",
    "org_lst=[1, 2, 3, 4, 5, 6, 7, 8, 9, 10, 11, 12, 13, 14]\n",
    "nested_lst=[[12, 18, 23, 25, 45], [7, 11, 19, 24, 28], [1, 5, 8, 18, 15, 16]]\n",
    "result=[list(filter(lambda x:x in org_lst,sublist)) for sublist in nested_lst]\n",
    "print(result)"
   ]
  },
  {
   "cell_type": "code",
   "execution_count": 55,
   "id": "e7c23d41",
   "metadata": {},
   "outputs": [
    {
     "name": "stdout",
     "output_type": "stream",
     "text": [
      "['deR', 'neerG', 'eulB', 'etihW', 'kcalB']\n"
     ]
    }
   ],
   "source": [
    "#41-reverse strings in a given list of string values using lambda\n",
    "l=['Red', 'Green', 'Blue', 'White', 'Black']\n",
    "result=list(map(lambda x:''.join(reversed(x)),l))\n",
    "#list(filter(lambda x: (x==\"\".join(reversed(x))),texts))\n",
    "print(result)"
   ]
  },
  {
   "cell_type": "code",
   "execution_count": 67,
   "id": "c2b9597f",
   "metadata": {},
   "outputs": [
    {
     "name": "stdout",
     "output_type": "stream",
     "text": [
      "3628800\n"
     ]
    }
   ],
   "source": [
    "#42-calculate the product of a given list of numbers using lambda\n",
    "import functools\n",
    "list1= [1, 2, 3, 4, 5, 6, 7, 8, 9, 10]\n",
    "mul=list1[0]\n",
    "result=functools.reduce(lambda x,y:x*y,list1)\n",
    "#result=functools.reduce(lambda x,y:x*y,list1,1)\n",
    "#result1=map(lambda x,y:x*y,list1,1)\n",
    "print(result)"
   ]
  },
  {
   "cell_type": "code",
   "execution_count": 68,
   "id": "15ec8ad1",
   "metadata": {},
   "outputs": [
    {
     "name": "stdout",
     "output_type": "stream",
     "text": [
      "-864\n"
     ]
    }
   ],
   "source": [
    "#43-multiply all the numbers in a given list using lambda\n",
    "import functools\n",
    "l=[4, 3, 2, 2, -1, 18]\n",
    "result=functools.reduce(lambda x,y:x*y,l)\n",
    "print(result)"
   ]
  },
  {
   "cell_type": "code",
   "execution_count": 2,
   "id": "1e572d6a",
   "metadata": {},
   "outputs": [
    {
     "name": "stdout",
     "output_type": "stream",
     "text": [
      "(30.5, 34.25, 27.0)\n"
     ]
    }
   ],
   "source": [
    "#44-calculate the average value of the numbers in a given tuple of tuples using lambda\n",
    "tup=((10, 10, 10), (30, 45, 56), (81, 80, 39), (1, 2, 3))\n",
    "result=tuple(map(lambda x:sum(x)/len(x),zip(*tup)))\n",
    "print(result)"
   ]
  },
  {
   "cell_type": "code",
   "execution_count": 4,
   "id": "526b27a2",
   "metadata": {},
   "outputs": [
    {
     "name": "stdout",
     "output_type": "stream",
     "text": [
      "((233, 33), (1416, 55), (2345, 34))\n"
     ]
    }
   ],
   "source": [
    "#45-convert string element to integer inside a given tuple using lambda\n",
    "tup=(('233', 'ABCD', '33'), ('1416', 'EFGH', '55'), ('2345', 'WERT', '34'))\n",
    "result=tuple(map(lambda x: (int(x[0]),int(x[2])),tup))\n",
    "print(result)"
   ]
  },
  {
   "cell_type": "code",
   "execution_count": 14,
   "id": "b92ac625",
   "metadata": {},
   "outputs": [
    {
     "name": "stdout",
     "output_type": "stream",
     "text": [
      "(5, 89) (3, 10.11)\n"
     ]
    }
   ],
   "source": [
    "#46-find index position and value of the maximum and minimum values in a given list of numbers using lambda.\n",
    "l=[12, 33, 23, 10.11, 67, 89, 45, 66.7, 23, 12, 11, 10.25, 54]\n",
    "result_max=max(enumerate(l),key=lambda x:x[1]) #enumerate gives tuple of (index,element). so x[1] is max of element\n",
    "#if we write lambda x:x it will give max of index as default=x[0]\n",
    "\n",
    "result_min=min(enumerate(l),key=lambda x:x[1])\n",
    "\n",
    "print(result_max,result_min)"
   ]
  },
  {
   "cell_type": "code",
   "execution_count": 20,
   "id": "3a5c7b88",
   "metadata": {},
   "outputs": [
    {
     "name": "stdout",
     "output_type": "stream",
     "text": [
      "[1, 10, 12, 19, 'blue', 'green', 'green', 'red', 'white']\n"
     ]
    }
   ],
   "source": [
    "#47-program to sort a given mixed list of integers and strings using lambda. Numbers must be sorted before strings\n",
    "l=[19, 'red', 12, 'green', 'blue', 10, 'white', 'green', 1]\n",
    "result=sorted(l,key=lambda x:(isinstance(x,str),x))\n",
    "print(result)"
   ]
  },
  {
   "cell_type": "code",
   "execution_count": 23,
   "id": "88735155",
   "metadata": {},
   "outputs": [
    {
     "name": "stdout",
     "output_type": "stream",
     "text": [
      "['-500', '-12', '0', '4', '7', '12', '45', '100', '200']\n"
     ]
    }
   ],
   "source": [
    "#48-sort a given list of strings(numbers) numerically using lambda\n",
    "l=['4', '12', '45', '7', '0', '100', '200', '-12', '-500']\n",
    "result=sorted(l,key=lambda x:int(x))\n",
    "print(result)"
   ]
  },
  {
   "cell_type": "code",
   "execution_count": 31,
   "id": "e3c60582",
   "metadata": {},
   "outputs": [
    {
     "name": "stdout",
     "output_type": "stream",
     "text": [
      "{3: 4, 4: 2, 5: 3, 8: 2, 0: 2, 1: 1, 2: 2}\n"
     ]
    }
   ],
   "source": [
    "#49-count the occurrences of the items in a given list using lambda\n",
    "l=[3, 4, 5, 8, 0, 3, 8, 5, 0, 3, 1, 5, 2, 3, 4, 2]\n",
    "dicts={}\n",
    "result=dict(map(lambda x:(x,l.count(x)),l))#(x,l.count(x))-we have to pass 2 arguments as dictionary takes key:value pair input\n",
    "#result=dict(map(lambda x:(l.count(x)),l))\n",
    "print(result)"
   ]
  },
  {
   "cell_type": "code",
   "execution_count": 36,
   "id": "6dd1427f",
   "metadata": {},
   "outputs": [
    {
     "name": "stdout",
     "output_type": "stream",
     "text": [
      "['red', 'green', 'blue', 'white']\n"
     ]
    }
   ],
   "source": [
    "#50-remove specific words from a given list using lambda.\n",
    "l=['orange', 'red', 'green', 'blue', 'white', 'black']\n",
    "l_remove=['orange', 'black']\n",
    "result=list(filter(lambda x:x not in l_remove,l))\n",
    "print(result)"
   ]
  },
  {
   "cell_type": "code",
   "execution_count": 50,
   "id": "f5ad2e6b",
   "metadata": {},
   "outputs": [
    {
     "name": "stdout",
     "output_type": "stream",
     "text": [
      "('IX', 74) ('V', 62)\n"
     ]
    }
   ],
   "source": [
    "#51-find the maximum and minimum values in a given list of tuples using lambda function\n",
    "tup_lst=[('V', 62), ('VI', 68), ('VII', 72), ('VIII', 70), ('IX', 74), ('X', 65)]\n",
    "result_max=max(tup_lst,key=lambda x:x[1])\n",
    "result_min=min(tup_lst,key=lambda x:x[1])\n",
    "print(result_max,result_min)"
   ]
  },
  {
   "cell_type": "code",
   "execution_count": 40,
   "id": "41a819e4",
   "metadata": {},
   "outputs": [
    {
     "name": "stdout",
     "output_type": "stream",
     "text": [
      "[12, 0, 23, -55, 234, 89, 0, 6, -12]\n",
      "[12, 0, 23, -55, 234, 89, 0, 6, -12]\n"
     ]
    }
   ],
   "source": [
    "#52-remove None value from a given list using lambda function\n",
    "l=[12, 0, None, 23, None, -55, 234, 89, None, 0, 6, -12]\n",
    "result=list(filter(lambda x: isinstance(x,int),l))\n",
    "result_way=list(filter(lambda x: x is not None,l))\n",
    "print(result)\n",
    "print(result_way)"
   ]
  },
  {
   "cell_type": "code",
   "execution_count": null,
   "id": "b086bb5c",
   "metadata": {},
   "outputs": [],
   "source": []
  }
 ],
 "metadata": {
  "kernelspec": {
   "display_name": "Python 3 (ipykernel)",
   "language": "python",
   "name": "python3"
  },
  "language_info": {
   "codemirror_mode": {
    "name": "ipython",
    "version": 3
   },
   "file_extension": ".py",
   "mimetype": "text/x-python",
   "name": "python",
   "nbconvert_exporter": "python",
   "pygments_lexer": "ipython3",
   "version": "3.9.7"
  }
 },
 "nbformat": 4,
 "nbformat_minor": 5
}
