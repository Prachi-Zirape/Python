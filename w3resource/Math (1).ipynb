{
 "cells": [
  {
   "cell_type": "code",
   "execution_count": 1,
   "id": "e49b7518",
   "metadata": {},
   "outputs": [
    {
     "name": "stdout",
     "output_type": "stream",
     "text": [
      "0.2617801047120419\n"
     ]
    }
   ],
   "source": [
    "#Date-09/11/22\n",
    "#1-convert degree to radian\n",
    "degree=15\n",
    "radian=degree/57.3\n",
    "print(radian)"
   ]
  },
  {
   "cell_type": "code",
   "execution_count": 2,
   "id": "c68d1282",
   "metadata": {},
   "outputs": [
    {
     "name": "stdout",
     "output_type": "stream",
     "text": [
      "Input degrees: 15\n",
      "0.2619047619047619\n"
     ]
    }
   ],
   "source": [
    "pi=22/7\n",
    "degree = float(input(\"Input degrees: \"))\n",
    "radian = degree*(pi/180)\n",
    "print(radian)"
   ]
  },
  {
   "cell_type": "code",
   "execution_count": 4,
   "id": "b8e9d812",
   "metadata": {},
   "outputs": [
    {
     "name": "stdout",
     "output_type": "stream",
     "text": [
      "572.7272727272727\n"
     ]
    }
   ],
   "source": [
    "#2-convert radian to degree.\n",
    "radian=10\n",
    "pi=22/7\n",
    "degree=radian*(180/pi)\n",
    "print(degree)"
   ]
  },
  {
   "cell_type": "code",
   "execution_count": 5,
   "id": "07435ee8",
   "metadata": {},
   "outputs": [
    {
     "name": "stdout",
     "output_type": "stream",
     "text": [
      "27.5\n"
     ]
    }
   ],
   "source": [
    "#3-calculate the area of a trapezoid.\n",
    "height=5\n",
    "base1=5\n",
    "base2=6\n",
    "\n",
    "area=((base1 + base2) / 2) * height\n",
    "print(area)"
   ]
  },
  {
   "cell_type": "code",
   "execution_count": 6,
   "id": "07e03155",
   "metadata": {},
   "outputs": [
    {
     "name": "stdout",
     "output_type": "stream",
     "text": [
      "30\n"
     ]
    }
   ],
   "source": [
    "#4-calculate the area of a parallelogram\n",
    "length=5\n",
    "height=6\n",
    "\n",
    "area=length*height\n",
    "print(area)"
   ]
  },
  {
   "cell_type": "code",
   "execution_count": 7,
   "id": "3e20d1af",
   "metadata": {},
   "outputs": [
    {
     "name": "stdout",
     "output_type": "stream",
     "text": [
      "452.57142857142856\n",
      "377.1428571428571\n"
     ]
    }
   ],
   "source": [
    "#5-calculate surface volume and area of a cylinder\n",
    "height=float(4)\n",
    "radius=float(6)\n",
    "pi=22/7\n",
    "\n",
    "volume=pi*radius*radius*height\n",
    "\n",
    "surface_area=((2*pi*radius)*height)+((pi*radius**2)*2)\n",
    "\n",
    "print(volume)\n",
    "print(surface_area)"
   ]
  },
  {
   "cell_type": "code",
   "execution_count": 9,
   "id": "3ed4d675",
   "metadata": {},
   "outputs": [
    {
     "name": "stdout",
     "output_type": "stream",
     "text": [
      "Surface Area is:  7.071428571428571\n",
      "Volume is:  1.7678571428571428\n"
     ]
    }
   ],
   "source": [
    "#6-calculate surface volume and area of a sphere\n",
    "radius=0.75\n",
    "pi=22/7\n",
    "\n",
    "surface_area=4*pi*radius**2\n",
    "\n",
    "volume=(4/3)*(pi*radius**3)\n",
    "\n",
    "print(\"Surface Area is: \", surface_area)\n",
    "print(\"Volume is: \", volume)"
   ]
  },
  {
   "cell_type": "code",
   "execution_count": 11,
   "id": "1f1f9d07",
   "metadata": {},
   "outputs": [
    {
     "name": "stdout",
     "output_type": "stream",
     "text": [
      "3.5357142857142856\n"
     ]
    }
   ],
   "source": [
    "#7-calculate arc length of an angle.\n",
    "diameter=9\n",
    "angle=45\n",
    "pi=22/7\n",
    "arc_length=0\n",
    "\n",
    "if angle<360:\n",
    "    arc_length=(pi*diameter)*(angle/360)\n",
    "    \n",
    "print(arc_length)"
   ]
  },
  {
   "cell_type": "code",
   "execution_count": 12,
   "id": "4b6e35ca",
   "metadata": {},
   "outputs": [
    {
     "name": "stdout",
     "output_type": "stream",
     "text": [
      "6.285714285714286\n"
     ]
    }
   ],
   "source": [
    "#8-calculate the area of the sector\n",
    "pi=22/7\n",
    "radius=4\n",
    "angle=45\n",
    "\n",
    "sect_area=(pi*radius**2)*(angle/360)\n",
    "print(sect_area)"
   ]
  },
  {
   "cell_type": "code",
   "execution_count": 15,
   "id": "5fb12cbd",
   "metadata": {},
   "outputs": [
    {
     "name": "stdout",
     "output_type": "stream",
     "text": [
      "Two Solutions. Discriminant value is: 64\n"
     ]
    }
   ],
   "source": [
    "#9-calculate the discriminant value\n",
    "x=4\n",
    "y=0\n",
    "z=-4\n",
    "\n",
    "discriminant=(y**2)-(4*x*z)\n",
    "\n",
    "if discriminant > 0:\n",
    "    print('Two Solutions. Discriminant value is:', discriminant)\n",
    "elif discriminant == 0:\n",
    "    print('One Solution. Discriminant value is:', discriminant)\n",
    "elif discriminant < 0:\n",
    "    print('No Real Solutions. Discriminant value is:', discriminant)"
   ]
  },
  {
   "cell_type": "code",
   "execution_count": 7,
   "id": "1b443e40",
   "metadata": {},
   "outputs": [
    {
     "name": "stdout",
     "output_type": "stream",
     "text": [
      "[8, 7, 6, 5]\n",
      "840\n"
     ]
    }
   ],
   "source": [
    "#Date-09/12/22\n",
    "#10-find the smallest multiple of the first n numbers. Also, display the factors\n",
    "def smallest_multiple(n):\n",
    "    if n<=2:\n",
    "        return n\n",
    "    i=n*2\n",
    "    factors=[number for number in range(n,1,-1) if number *2>n]  #its cause smller number than 2*n has already factors of bigger numbers\n",
    "    print(factors)\n",
    "    \n",
    "    while True:\n",
    "        for a in factors:\n",
    "            if i%a!=0:\n",
    "                i+=n\n",
    "                break\n",
    "            if (a==factors[-1] and i%a==0):\n",
    "                return i\n",
    "           # print(i,a)\n",
    "print(smallest_multiple(8))\n",
    "#print(smallest_multiple(11))"
   ]
  },
  {
   "cell_type": "code",
   "execution_count": 8,
   "id": "1d9c7a3d",
   "metadata": {},
   "outputs": [
    {
     "name": "stdout",
     "output_type": "stream",
     "text": [
      "3584\n"
     ]
    }
   ],
   "source": [
    "#11-calculate the difference between the squared sum of first n natural numbers \n",
    "#and the sum of squared first n natural numbers.(default value of number=2).\n",
    "\n",
    "n=8\n",
    "difference=0\n",
    "square_of_sum=0\n",
    "sum_of_square= 0\n",
    "\n",
    "for i in range(1,n+1):\n",
    "    square_of_sum+=n\n",
    "    \n",
    "    sum_of_square+=n*n\n",
    "    \n",
    "square_of_sum=square_of_sum**2\n",
    "\n",
    "difference=square_of_sum-sum_of_square\n",
    "\n",
    "print(difference)"
   ]
  },
  {
   "cell_type": "code",
   "execution_count": 10,
   "id": "0b8a7ce7",
   "metadata": {},
   "outputs": [
    {
     "name": "stdout",
     "output_type": "stream",
     "text": [
      "5\n"
     ]
    }
   ],
   "source": [
    "#12-sum of all digits of the base to the specified power.\n",
    "def power_base_sum(base,power):\n",
    "    return sum([int(i)for i in str(pow(base,power))])\n",
    "\n",
    "print(power_base_sum(2,5))"
   ]
  },
  {
   "cell_type": "code",
   "execution_count": 38,
   "id": "854b3b62",
   "metadata": {},
   "outputs": [
    {
     "name": "stdout",
     "output_type": "stream",
     "text": [
      "[1] 10 1\n",
      "[1, 2] 10 2\n",
      "[1, 2] 10 3\n",
      "[1, 2] 10 4\n",
      "[1, 2, 5] 10 5\n",
      "False\n"
     ]
    }
   ],
   "source": [
    "#13-find out, if the given number is abundant\n",
    "import math\n",
    "def abundant_num(n):\n",
    "    factors=[]\n",
    "    for i in range(1,(n//2)+1):\n",
    "    #for i in range(1,int(math.sqrt(n))+1):\n",
    "        if n%i==0:\n",
    "            factors.append(i)\n",
    "        print(factors,n,i)    \n",
    "    if sum(factors)>n:            \n",
    "        return True\n",
    "    else:\n",
    "        return False\n",
    "    #return factors\n",
    "print(abundant_num(10))"
   ]
  },
  {
   "cell_type": "code",
   "execution_count": 39,
   "id": "65dbc3c9",
   "metadata": {},
   "outputs": [
    {
     "name": "stdout",
     "output_type": "stream",
     "text": [
      "True\n",
      "False\n"
     ]
    }
   ],
   "source": [
    "def is_abundant(n):\n",
    "    fctr_sum = sum([fctr for fctr in range(1, n) if n % fctr == 0])\n",
    "    return fctr_sum > n\n",
    "print(is_abundant(12))\n",
    "print(is_abundant(13))"
   ]
  },
  {
   "cell_type": "code",
   "execution_count": 59,
   "id": "18b263c6",
   "metadata": {},
   "outputs": [
    {
     "data": {
      "text/plain": [
       "True"
      ]
     },
     "execution_count": 59,
     "metadata": {},
     "output_type": "execute_result"
    }
   ],
   "source": [
    "#14-sum all amicable numbers from 1 to specified numbers.\n",
    "def amicable_num(n1,n2):\n",
    "    factor_sum_n1=sum([fctr for fctr in range(1,n1) if n1%fctr==0])\n",
    "    factor_sum_n2=sum([fctr for fctr in range(1,n2) if n2%fctr==0])\n",
    "    \n",
    "    if factor_sum_n1==n2 and factor_sum_n2==n1:\n",
    "        return True\n",
    "    else:\n",
    "        return False\n",
    "amicable_num(220,284)"
   ]
  },
  {
   "cell_type": "code",
   "execution_count": 64,
   "id": "5946669b",
   "metadata": {},
   "outputs": [
    {
     "name": "stdout",
     "output_type": "stream",
     "text": [
      "16\n"
     ]
    }
   ],
   "source": [
    "#15-program to returns sum of all divisors of a number\n",
    "n=12\n",
    "factors=set()\n",
    "for i in range(1,int(n/2)+1):\n",
    "    if n%i==0:\n",
    "        factors.add(i)\n",
    "        #factors.add(n//i)\n",
    "print(sum(factors))"
   ]
  },
  {
   "cell_type": "code",
   "execution_count": 65,
   "id": "4ac7c1de",
   "metadata": {},
   "outputs": [
    {
     "name": "stdout",
     "output_type": "stream",
     "text": [
      "7\n",
      "16\n"
     ]
    }
   ],
   "source": [
    "def sum_div(number):\n",
    "    divisors = [1]\n",
    "    for i in range(2, number):\n",
    "        if (number % i)==0:\n",
    "            divisors.append(i)\n",
    "    return sum(divisors)\n",
    "print(sum_div(8))\n",
    "print(sum_div(12))"
   ]
  },
  {
   "cell_type": "code",
   "execution_count": 69,
   "id": "d3b03933",
   "metadata": {},
   "outputs": [
    {
     "name": "stdout",
     "output_type": "stream",
     "text": [
      "['ABCD', 'BACD', 'BCAD', 'BCDA', 'ACBD', 'CABD', 'CBAD', 'CBDA', 'ACDB', 'CADB', 'CDAB', 'CDBA', 'ABDC', 'BADC', 'BDAC', 'BDCA', 'ADBC', 'DABC', 'DBAC', 'DBCA', 'ADCB', 'DACB', 'DCAB', 'DCBA']\n"
     ]
    }
   ],
   "source": [
    "#16-print all permutations of a given string (including duplicates)\n",
    "def permute_string(str1):\n",
    "    if len(str1)==0:\n",
    "        return ['']\n",
    "    prev_lst=permute_string(str1[1:])\n",
    "    next_lst=[]\n",
    "    \n",
    "    for i in range(0,len(prev_lst)):\n",
    "        for j in range(0,len(str1)):\n",
    "            new_str=prev_lst[i][0:j]+str1[0]+prev_lst[i][j:len(str1)-1]\n",
    "            if new_str not in next_lst:\n",
    "                next_lst.append(new_str)\n",
    "    return next_lst\n",
    "print(permute_string('ABCD'));"
   ]
  },
  {
   "cell_type": "code",
   "execution_count": 1,
   "id": "86baef77",
   "metadata": {},
   "outputs": [
    {
     "name": "stdout",
     "output_type": "stream",
     "text": [
      "1\n"
     ]
    }
   ],
   "source": [
    "#17- print the first n Lucky Numbers\n",
    "def lucky_num(n):\n",
    "    #print(lucky_num.counter)\n",
    "    if lucky_num.counter>n:\n",
    "        return 1\n",
    "    elif n%lucky_num.counter==0:\n",
    "        return 0\n",
    "    next_position=n-(n/lucky_num.counter)\n",
    "    \n",
    "    lucky_num.counter=lucky_num.counter+1\n",
    "    return lucky_num(next_position)\n",
    "\n",
    "lucky_num.counter=2\n",
    "print(lucky_num(11))\n",
    "    "
   ]
  },
  {
   "cell_type": "code",
   "execution_count": 7,
   "id": "1ec955da",
   "metadata": {},
   "outputs": [
    {
     "name": "stdout",
     "output_type": "stream",
     "text": [
      "7.071067984011346\n"
     ]
    }
   ],
   "source": [
    "#18-program to computing square roots using the Babylonian method\n",
    "def sqrt_n(n):\n",
    "    x=n\n",
    "    y=1\n",
    "    #e=0.000001\n",
    "    e=0.001\n",
    "    \n",
    "    while (x-y>e):\n",
    "        x=(x+y)/2\n",
    "        y=n/x\n",
    "        #print(x,y)\n",
    "    return x\n",
    "print(sqrt_n(50))"
   ]
  },
  {
   "cell_type": "code",
   "execution_count": 9,
   "id": "68e198c7",
   "metadata": {},
   "outputs": [
    {
     "name": "stdout",
     "output_type": "stream",
     "text": [
      "The Square root of 0.3 = 0.5477225575051661\n"
     ]
    }
   ],
   "source": [
    "def babylon_algo(n):\n",
    "    if n==0:\n",
    "        return 0\n",
    "    \n",
    "    g=n/2\n",
    "    g2=g+1\n",
    "    while(g!=g2):\n",
    "        num=n/g\n",
    "        g2=g\n",
    "        g=(g+num)/2\n",
    "    return g\n",
    "print('The Square root of 0.3 =', babylon_algo(0.3))        "
   ]
  },
  {
   "cell_type": "code",
   "execution_count": 10,
   "id": "398e742a",
   "metadata": {},
   "outputs": [
    {
     "name": "stdout",
     "output_type": "stream",
     "text": [
      "20\n"
     ]
    }
   ],
   "source": [
    "#19-multiply two integers without using the * operator in python\n",
    "def mul_spec(m,n):\n",
    "    prod=0\n",
    "    while m>0:\n",
    "        prod+=n\n",
    "        m-=1\n",
    "    return prod\n",
    "print(mul_spec(4,5))"
   ]
  },
  {
   "cell_type": "code",
   "execution_count": 11,
   "id": "124927c0",
   "metadata": {},
   "outputs": [
    {
     "name": "stdout",
     "output_type": "stream",
     "text": [
      "15\n"
     ]
    }
   ],
   "source": [
    "def multiply(x, y):\n",
    "    if y < 0:\n",
    "        return -multiply(x, -y)\n",
    "    elif y == 0:\n",
    "        return 0\n",
    "    elif y == 1:\n",
    "        return x\n",
    "    else:\n",
    "        return x + multiply(x, y - 1)\n",
    "\n",
    "print(multiply(3, 5));"
   ]
  },
  {
   "cell_type": "code",
   "execution_count": 17,
   "id": "cf468e77",
   "metadata": {},
   "outputs": [
    {
     "name": "stdout",
     "output_type": "stream",
     "text": [
      "Magic Square for n = 5\n",
      "Sum of each row or column 65 \n",
      "\n",
      " 9  3 22 16 15 \n",
      " 2 21 20 14  8 \n",
      "25 19 13  7  1 \n",
      "18 12  6  5 24 \n",
      "11 10  4 23 17 \n"
     ]
    }
   ],
   "source": [
    "#20-calculate magic square\n",
    "def generateSquare(n):\n",
    "    #creating square nXn\n",
    "    magic_square=[[0 for x in range(n)]for y in range(n)]\n",
    "    \n",
    "    #initializing position of 1\n",
    "    i=n//2\n",
    "    j=n-1\n",
    "    \n",
    "    #filling the magic square\n",
    "    num=1\n",
    "    while num<=(n*n):\n",
    "        if i==-1 and j==n: # 3rd condition\n",
    "            j=n-2\n",
    "            i=0\n",
    "        else:\n",
    "            # next number goes out of\n",
    "            # right side of square\n",
    "            if j==n:\n",
    "                j=0\n",
    "            # next number goes\n",
    "            # out of upper side\n",
    "            if i<0:\n",
    "                i=n-1\n",
    "        if magic_square[int(i)][int(j)]:  #2nd condition\n",
    "            j=j-2\n",
    "            i=i+1\n",
    "            continue\n",
    "        else:\n",
    "            magic_square[int(i)][int(j)]=num\n",
    "            num+=1\n",
    "        j=j+1\n",
    "        i=i-1  #1st condition\n",
    "    print(\"Magic Square for n =\", n)\n",
    "    print(\"Sum of each row or column\",\n",
    "          n * (n * n + 1) // 2, \"\\n\")\n",
    " \n",
    "    for i in range(0, n):\n",
    "        for j in range(0, n):\n",
    "            print('%2d ' % (magic_square[i][j]),\n",
    "                  end='')\n",
    " \n",
    "            # To display output\n",
    "            # in matrix form\n",
    "            if j == n - 1:\n",
    "                print()\n",
    "# Works only when n is odd\n",
    "n = 5\n",
    "generateSquare(n)     \n",
    "                "
   ]
  },
  {
   "cell_type": "code",
   "execution_count": 12,
   "id": "91f84714",
   "metadata": {},
   "outputs": [
    {
     "name": "stdout",
     "output_type": "stream",
     "text": [
      "2 3 5 7 11 13 17 19 23 29 31 37 41 43 47 "
     ]
    }
   ],
   "source": [
    "#Date-9/13/22\n",
    "#21-print all primes (Sieve_of_Eratosthenes) smaller than or equal to a specified number\n",
    "def SieveOfEratosthenes(n):\n",
    "    prime=[True for i in range(n+1)]\n",
    "    p=2\n",
    "    while(p*p<=n):\n",
    "        # If prime[p] is not\n",
    "        # changed, then it is a prime\n",
    "        if prime[p]==True:\n",
    "            # Updating all multiples of p\n",
    "            for i in range(p*p,n+1,p):  #in range(4,51,2)\n",
    "                #print(i,end=\" \")\n",
    "                prime[i]=False   #4 or 6... will not repeat cause its marked as false\n",
    "        p+=1\n",
    "        #print(p,n)\n",
    "    #print(\"\\n\")\n",
    "    # Print all prime numbers\n",
    "    for p in range(2, n+1):\n",
    "        if prime[p]:\n",
    "            print(p, end=\" \")\n",
    "SieveOfEratosthenes(50)"
   ]
  },
  {
   "cell_type": "code",
   "execution_count": 28,
   "id": "1c03cc68",
   "metadata": {},
   "outputs": [],
   "source": [
    "#22-find the next smallest palindrome of a specified number.\n",
    "#its next or bigger number so need to change rightmost digit or second rightmost or so on \n",
    "def next_smallest_pal(n):\n",
    "    # find the index of mid digit\n",
    "    mid=int(n/2)\n",
    "    \n",
    "    # A bool variable to check if copy of left\n",
    "    # side to right is sufficient or not\n",
    "    leftSmaller=False\n",
    "    \n",
    "    # end of left side is always 'mid -1'\n",
    "    i=mid-1\n",
    "    \n",
    "    # Beginning of right side depends\n",
    "    # if n is odd or even\n",
    "    j=mid+1 if (n%2) else mid\n",
    "    \n",
    "    # Initially, ignore the middle same digits\n",
    "    while(i>=0 and num[i]==num[j]):  #when left equivalent=right equivalent  Heere i and j are indexes\n",
    "        i-=1  #moving away from mid\n",
    "        j+=1\n",
    "    # Find if the middle digit(s) need to be\n",
    "    # incremented or not (or copying left\n",
    "    # side is not sufficient)\n",
    "    if(i<0 or num[i]<num[j]):  #i is intialized to middle number-1 so it could be<0\n",
    "        leftSmaller=True       #j is initialized to middle number\n",
    "    # Copy the mirror of left to tight\n",
    "    while(i>=0):\n",
    "        num[j]=num[i]\n",
    "        j+=1\n",
    "        i-=1\n",
    "        \n",
    "    # Handle the case where middle\n",
    "    # digit(s) must be incremented.\n",
    "    # This part of code is for CASE 1 and CASE 2.2\n",
    "    if (leftsmaller == True) :\n",
    "     \n",
    "        carry = 1\n",
    "        i = mid - 1\n",
    " \n",
    "        # If there are odd digits, then increment\n",
    "        # the middle digit and store the carry\n",
    "        if (n%2 == 1) :\n",
    "         \n",
    "            num[mid] += carry\n",
    "            carry = int(num[mid] / 10 )\n",
    "            num[mid] %= 10\n",
    "            j = mid + 1\n",
    "         \n",
    "        else:\n",
    "            j = mid\n",
    " \n",
    "        # Add 1 to the rightmost digit of the\n",
    "        # left side, propagate the carry\n",
    "        # towards MSB digit and simultaneously\n",
    "        # copying mirror of the left side\n",
    "        # to the right side.\n",
    "        while (i >= 0) :\n",
    "         \n",
    "            num[i] += carry\n",
    "            carry = int(num[i] / 10)\n",
    "            num[i] %= 10\n",
    "            num[j] = num[i] # copy mirror to right\n",
    "            j+=1\n",
    "            i-=1    \n",
    "        "
   ]
  },
  {
   "cell_type": "code",
   "execution_count": 29,
   "id": "9613a0c5",
   "metadata": {},
   "outputs": [
    {
     "name": "stdout",
     "output_type": "stream",
     "text": [
      "101\n",
      "1331\n"
     ]
    }
   ],
   "source": [
    "import sys\n",
    "def Next_smallest_Palindrome(num):\n",
    "    numstr = str(num)\n",
    "    for i in range(num+1,sys.maxsize):\n",
    "        if str(i) == str(i)[::-1]:\n",
    "            return i\n",
    "\n",
    "print(Next_smallest_Palindrome(99));\n",
    "print(Next_smallest_Palindrome(1221));"
   ]
  },
  {
   "cell_type": "code",
   "execution_count": 30,
   "id": "7c5dbc21",
   "metadata": {},
   "outputs": [
    {
     "name": "stdout",
     "output_type": "stream",
     "text": [
      "88\n",
      "1111\n"
     ]
    }
   ],
   "source": [
    "#23-find the next previous palindrome of a specified number\n",
    "def Previous_Palindrome(num):\n",
    "    for x in range(num-1,0,-1):\n",
    "        if str(x) == str(x)[::-1]:\n",
    "            return x\n",
    "print(Previous_Palindrome(99));\n",
    "print(Previous_Palindrome(1221));"
   ]
  },
  {
   "cell_type": "code",
   "execution_count": 31,
   "id": "8557f476",
   "metadata": {},
   "outputs": [
    {
     "name": "stdout",
     "output_type": "stream",
     "text": [
      "21/5\n"
     ]
    }
   ],
   "source": [
    "#24-convert a float to ratio.\n",
    "from fractions import Fraction\n",
    "value = 4.2\n",
    "print(Fraction(value).limit_denominator())"
   ]
  },
  {
   "cell_type": "code",
   "execution_count": 4,
   "id": "0c3ae16b",
   "metadata": {},
   "outputs": [
    {
     "name": "stdout",
     "output_type": "stream",
     "text": [
      "1 1 2 5 14 42 132 429 1430 4862 "
     ]
    }
   ],
   "source": [
    "#25-program for nth Catalan Number.\n",
    "def catlan(n):\n",
    "    #base Case\n",
    "    if n<=1:\n",
    "        return 1\n",
    "    # Catalan(n) is the sum of catalan(i)*catalan(n-i-1)\n",
    "    res=0\n",
    "    for i in range(n):\n",
    "        res+=catlan(i)*catlan(n-i-1)\n",
    "    return res\n",
    "\n",
    "for i in range(10):\n",
    "    print(catlan(i), end=' ')"
   ]
  },
  {
   "cell_type": "code",
   "execution_count": 14,
   "id": "82537123",
   "metadata": {},
   "outputs": [
    {
     "name": "stdout",
     "output_type": "stream",
     "text": [
      "100,000,000\n"
     ]
    }
   ],
   "source": [
    "#26-print number with commas as thousands separators(from right side).\n",
    "n=100000000\n",
    "res=''\n",
    "for i in range(0,len(str(n)),3):\n",
    "    res+=str(n)[i:i+3]+','\n",
    "print(res[:-1])"
   ]
  },
  {
   "cell_type": "code",
   "execution_count": 15,
   "id": "8fee8a9e",
   "metadata": {},
   "outputs": [
    {
     "name": "stdout",
     "output_type": "stream",
     "text": [
      "1,000,000\n",
      "10,000\n"
     ]
    }
   ],
   "source": [
    "print(\"{:,}\".format(1000000))\n",
    "print(\"{:,}\".format(10000))"
   ]
  },
  {
   "cell_type": "code",
   "execution_count": 16,
   "id": "c875e3e6",
   "metadata": {},
   "outputs": [
    {
     "name": "stdout",
     "output_type": "stream",
     "text": [
      "Input coordinates of two points:\n",
      "Starting latitude: 12\n",
      "Ending longitude: 23\n",
      "Starting latitude: 45\n",
      "Ending longitude: 12\n",
      "The distance is 3815.52km.\n"
     ]
    }
   ],
   "source": [
    "#27-calculate the distance between two points using latitude and longitude\n",
    "from math import radians, sin, cos, acos\n",
    "\n",
    "print(\"Input coordinates of two points:\")\n",
    "slat = radians(float(input(\"Starting latitude: \")))\n",
    "slon = radians(float(input(\"Ending longitude: \")))\n",
    "elat = radians(float(input(\"Starting latitude: \")))\n",
    "elon = radians(float(input(\"Ending longitude: \")))\n",
    "\n",
    "dist = 6371.01 * acos(sin(slat)*sin(elat) + cos(slat)*cos(elat)*cos(slon - elon))\n",
    "print(\"The distance is %.2fkm.\" % dist)"
   ]
  },
  {
   "cell_type": "code",
   "execution_count": 17,
   "id": "2daa6010",
   "metadata": {},
   "outputs": [
    {
     "name": "stdout",
     "output_type": "stream",
     "text": [
      "Input number of sides: 5\n",
      "Input the length of a side: 12\n",
      "The area of the polygon is:  247.74874568481127\n"
     ]
    }
   ],
   "source": [
    "#28-calculate the area of regular polygon\n",
    "from math import tan, pi\n",
    "n_sides = int(input(\"Input number of sides: \"))\n",
    "s_length = float(input(\"Input the length of a side: \"))\n",
    "p_area = n_sides * (s_length ** 2) / (4 * tan(pi / n_sides))\n",
    "print(\"The area of the polygon is: \",p_area)"
   ]
  },
  {
   "cell_type": "code",
   "execution_count": 18,
   "id": "c03fb767",
   "metadata": {},
   "outputs": [
    {
     "name": "stdout",
     "output_type": "stream",
     "text": [
      "Input wind speed in kilometers/hour: 123\n",
      "Input air temperature in degrees Celsius: 34\n",
      "The wind chill index is 39\n"
     ]
    }
   ],
   "source": [
    "#29- calculate wind chill index\n",
    "import math\n",
    "v = float(input(\"Input wind speed in kilometers/hour: \"))\n",
    "t = float(input(\"Input air temperature in degrees Celsius: \"))\n",
    "wci = 13.12 + 0.6215*t -  11.37*math.pow(v, 0.16) + 0.3965*t*math.pow(v, 0.16)\n",
    "print(\"The wind chill index is\", int(round(wci, 0)))"
   ]
  },
  {
   "cell_type": "code",
   "execution_count": 19,
   "id": "78653854",
   "metadata": {},
   "outputs": [
    {
     "name": "stdout",
     "output_type": "stream",
     "text": [
      "real and different roots\n",
      "2.0\n",
      "-12.0\n"
     ]
    }
   ],
   "source": [
    "#30-find the roots of a quadratic function\n",
    "import math\n",
    "# function for finding roots\n",
    "def equationroots(a,b,c):\n",
    "    # calculating discriminant using formula\n",
    "    dis=b * b - 4 * a * c\n",
    "    sqrt_val=math.sqrt(abs(dis))\n",
    "    \n",
    "    # checking condition for discriminant\n",
    "    if dis>0:\n",
    "        print(\"real and different roots\")\n",
    "        print((-b+sqrt_val)/(2*a))\n",
    "        print((-b-sqrt_val)/(2*a))\n",
    "        \n",
    "    elif dis==0:\n",
    "        print(\"Real and Same Roots\")\n",
    "        print(-b/(2*a))\n",
    "        \n",
    "    else:\n",
    "        print(\"Complex Roots\") \n",
    "        print(- b / (2 * a), \" + i\", sqrt_val) \n",
    "        print(- b / (2 * a), \" - i\", sqrt_val) \n",
    "        \n",
    "a = 1\n",
    "b = 10\n",
    "c = -24\n",
    "  \n",
    "# If a is 0, then incorrect equation\n",
    "if a == 0: \n",
    "        print(\"Input correct quadratic equation\")   \n",
    "else:\n",
    "    equationroots(a, b, c)\n",
    "    "
   ]
  },
  {
   "cell_type": "code",
   "execution_count": 28,
   "id": "757b2282",
   "metadata": {},
   "outputs": [
    {
     "name": "stdout",
     "output_type": "stream",
     "text": [
      "4\n",
      "5\n",
      "9\n"
     ]
    }
   ],
   "source": [
    "#31- convert a binary number to decimal number\n",
    "def binaryToDecimal(binary):\n",
    "    binary1=binary\n",
    "    decimal,i,n=0,0,0\n",
    "    \n",
    "    while(binary!=0):\n",
    "        dec=binary%10\n",
    "        #print(binary,dec,i,decimal)\n",
    "        decimal=decimal+dec*pow(2,i)\n",
    "        #print(decimal,pow(2,i))\n",
    "        binary=binary//10\n",
    "        i+=1\n",
    "    print(decimal)\n",
    "    \n",
    "binaryToDecimal(100)\n",
    "binaryToDecimal(101)\n",
    "binaryToDecimal(1001)  "
   ]
  },
  {
   "cell_type": "code",
   "execution_count": 29,
   "id": "8325bf0f",
   "metadata": {},
   "outputs": [
    {
     "name": "stdout",
     "output_type": "stream",
     "text": [
      "input a binary number: 1001\n",
      "The decimal value of the number is 9\n"
     ]
    }
   ],
   "source": [
    "b_num=list(input(\"input a binary number: \"))\n",
    "value=0\n",
    "for i in range(len(b_num)):\n",
    "    digit=b_num.pop()\n",
    "    if digit=='1':\n",
    "        value+=pow(2,i)\n",
    "print(\"The decimal value of the number is\", value)"
   ]
  },
  {
   "cell_type": "code",
   "execution_count": 30,
   "id": "efca8dc6",
   "metadata": {},
   "outputs": [
    {
     "name": "stdout",
     "output_type": "stream",
     "text": [
      "Complex Number:  (2+3j)\n",
      "Complex Number - Real part:  2.0\n",
      "Complex Number - Imaginary part:  3.0\n"
     ]
    }
   ],
   "source": [
    "#32-print a complex number and its real and imaginary parts.\n",
    "cn = complex(2,3)\n",
    "print(\"Complex Number: \",cn)\n",
    "print(\"Complex Number - Real part: \",cn.real)\n",
    "print(\"Complex Number - Imaginary part: \",cn.imag)"
   ]
  },
  {
   "cell_type": "code",
   "execution_count": 33,
   "id": "031592ed",
   "metadata": {},
   "outputs": [
    {
     "name": "stdout",
     "output_type": "stream",
     "text": [
      "Addition of two complex numbers :  (7-4j)\n",
      "Subtraction of two complex numbers :  (1+10j)\n",
      "Multiplication of two complex numbers :  (33-19j)\n",
      "Division of two complex numbers :  (-0.15517241379310348+0.6379310344827587j)\n"
     ]
    }
   ],
   "source": [
    "#33-program to add, subtract, multiply and division of two complex numbers\n",
    "print(\"Addition of two complex numbers : \",(4+3j)+(3-7j))\n",
    "print(\"Subtraction of two complex numbers : \",(4+3j)-(3-7j))\n",
    "print(\"Multiplication of two complex numbers : \",(4+3j)*(3-7j))\n",
    "print(\"Division of two complex numbers : \",(4+3j)/(3-7j))"
   ]
  },
  {
   "cell_type": "code",
   "execution_count": 34,
   "id": "e9cabbc7",
   "metadata": {},
   "outputs": [
    {
     "name": "stdout",
     "output_type": "stream",
     "text": [
      "Length of a complex number:  5.0\n",
      "Complex number Angle:  1.5707963267948966\n"
     ]
    }
   ],
   "source": [
    "#34- get the length and the angle of a complex number\n",
    "import cmath\n",
    "cn = complex(3,4)\n",
    "#length of a complex number. \n",
    "print(\"Length of a complex number: \", abs(cn))\n",
    "# gets angle. return in radians, between  [-π, π]\n",
    "print(\"Complex number Angle: \",cmath.phase(0+1j) )"
   ]
  },
  {
   "cell_type": "code",
   "execution_count": 36,
   "id": "d4cc824a",
   "metadata": {},
   "outputs": [
    {
     "name": "stdout",
     "output_type": "stream",
     "text": [
      "Polar Coordinates:  (5.0, 0.9272952180016122)\n",
      "Polar to rectangular:  (-2+2.4492935982947064e-16j)\n"
     ]
    }
   ],
   "source": [
    "#35-program to convert Polar coordinates to rectangular coordinates.\n",
    "import cmath\n",
    "cn = complex(3,4)\n",
    "# get polar coordinates\n",
    "print(\"Polar Coordinates: \",cmath.polar(cn))\n",
    "\n",
    "# polar to rectangular. Format for input is (length, ‹angle in radians›).\n",
    "#Returns a complex number\n",
    "cn1 = cmath.rect(2, cmath.pi)\n",
    "print(\"Polar to rectangular: \",cn1)"
   ]
  },
  {
   "cell_type": "code",
   "execution_count": 37,
   "id": "8fb66ee6",
   "metadata": {},
   "outputs": [
    {
     "name": "stdout",
     "output_type": "stream",
     "text": [
      "7.25\n",
      "0.04\n"
     ]
    }
   ],
   "source": [
    "#36- find the maximum and minimum numbers from the specified decimal numbers\n",
    "l=[2.45, 2.69, 2.45, 3.45, 2.00, 0.04, 7.25]\n",
    "print(max(l))\n",
    "print(min(l))"
   ]
  },
  {
   "cell_type": "code",
   "execution_count": 38,
   "id": "0775e996",
   "metadata": {},
   "outputs": [
    {
     "name": "stdout",
     "output_type": "stream",
     "text": [
      "Maximum:  7.25\n",
      "Minimum:  0.04\n"
     ]
    }
   ],
   "source": [
    "from decimal import *\n",
    "data = list(map(Decimal, '2.45 2.69 2.45 3.45 2.00 0.04 7.25'.split()))\n",
    "print(\"Maximum: \", max(data))\n",
    "print(\"Minimum: \", min(data))"
   ]
  },
  {
   "cell_type": "code",
   "execution_count": 39,
   "id": "d043f08d",
   "metadata": {},
   "outputs": [
    {
     "name": "stdout",
     "output_type": "stream",
     "text": [
      "20.33\n",
      "[0.04, 2.0, 2.45, 2.45, 2.69, 3.45, 7.25]\n"
     ]
    }
   ],
   "source": [
    "l=[2.45, 2.69, 2.45, 3.45, 2.00, 0.04, 7.25]\n",
    "print(sum(l))\n",
    "print(sorted(l))"
   ]
  },
  {
   "cell_type": "code",
   "execution_count": 41,
   "id": "de537904",
   "metadata": {},
   "outputs": [
    {
     "name": "stdout",
     "output_type": "stream",
     "text": [
      "7.071067984011346\n"
     ]
    }
   ],
   "source": [
    "#38- get the square root and exponential of a given decimal number\n",
    "#babylon method of sqrt\n",
    "def sqrt(n):\n",
    "    x=n\n",
    "    y=1\n",
    "    e=0.000001\n",
    "    \n",
    "    while(x-y>e):\n",
    "        x=(x+y)/2\n",
    "        y=n/x\n",
    "    return x\n",
    "\n",
    "print(sqrt(50))"
   ]
  },
  {
   "cell_type": "code",
   "execution_count": 42,
   "id": "f97da6ee",
   "metadata": {},
   "outputs": [
    {
     "name": "stdout",
     "output_type": "stream",
     "text": [
      "Square root of  1.44  is : 1.2\n",
      "exponential of  1.44  is : 4.220695816996552825673328929\n"
     ]
    }
   ],
   "source": [
    "from decimal import *\n",
    "x = Decimal('1.44')\n",
    "print(\"Square root of \",x, \" is :\", x.sqrt())\n",
    "print(\"exponential of \",x, \" is :\", x.exp())"
   ]
  },
  {
   "cell_type": "code",
   "execution_count": 43,
   "id": "8a2d4a5c",
   "metadata": {},
   "outputs": [
    {
     "name": "stdout",
     "output_type": "stream",
     "text": [
      "Emax     = 999999\n",
      "Emin     = -999999\n",
      "capitals = 1\n",
      "prec     = 28\n",
      "rounding = ROUND_HALF_EVEN\n",
      "flags    =\n",
      "  <class 'decimal.InvalidOperation'>: False\n",
      "  <class 'decimal.FloatOperation'>: False\n",
      "  <class 'decimal.DivisionByZero'>: False\n",
      "  <class 'decimal.Overflow'>: False\n",
      "  <class 'decimal.Underflow'>: False\n",
      "  <class 'decimal.Subnormal'>: False\n",
      "  <class 'decimal.Inexact'>: True\n",
      "  <class 'decimal.Rounded'>: True\n",
      "  <class 'decimal.Clamped'>: False\n",
      "traps    =\n",
      "  <class 'decimal.InvalidOperation'>: True\n",
      "  <class 'decimal.FloatOperation'>: False\n",
      "  <class 'decimal.DivisionByZero'>: True\n",
      "  <class 'decimal.Overflow'>: True\n",
      "  <class 'decimal.Underflow'>: False\n",
      "  <class 'decimal.Subnormal'>: False\n",
      "  <class 'decimal.Inexact'>: False\n",
      "  <class 'decimal.Rounded'>: False\n",
      "  <class 'decimal.Clamped'>: False\n"
     ]
    }
   ],
   "source": [
    "#39-retrieve the current global context (public properties) for all decimal.\n",
    "import decimal\n",
    "context = decimal.getcontext()\n",
    "print('Emax     =', context.Emax)\n",
    "print('Emin     =', context.Emin)\n",
    "print('capitals =', context.capitals)\n",
    "print('prec     =', context.prec)\n",
    "print('rounding =', context.rounding)\n",
    "print('flags    =')\n",
    "for x, y in context.flags.items():\n",
    "    print('  {}: {}'.format(x, y))\n",
    "print('traps    =')\n",
    "for x, y in context.traps.items():\n",
    "    print('  {}: {}'.format(x, y))"
   ]
  },
  {
   "cell_type": "code",
   "execution_count": 2,
   "id": "7a736a45",
   "metadata": {},
   "outputs": [
    {
     "name": "stdout",
     "output_type": "stream",
     "text": [
      "0.27\n",
      "0.266\n"
     ]
    }
   ],
   "source": [
    "#Date-09/15/22\n",
    "#40-round a specified decimal by setting precision (between 1 and 4)\n",
    "import math\n",
    "n=0.26598\n",
    "print(round(n,2))\n",
    "print(round(n,3))"
   ]
  },
  {
   "cell_type": "code",
   "execution_count": 4,
   "id": "38ec12bf",
   "metadata": {},
   "outputs": [
    {
     "name": "stdout",
     "output_type": "stream",
     "text": [
      "Original Number:  0.26498\n",
      "Precision- 1 : 0.3\n",
      "Precision- 2 : 0.26\n",
      "Precision- 3 : 0.265\n",
      "Precision- 4 : 0.2650\n"
     ]
    }
   ],
   "source": [
    "import decimal\n",
    "d=decimal.Decimal('00.26498')\n",
    "print(\"Original Number: \",d)\n",
    "for i in range(1, 5):\n",
    "    decimal.getcontext().prec = i\n",
    "    print(\"Precision-\",i, ':', d * 1)"
   ]
  },
  {
   "cell_type": "code",
   "execution_count": 6,
   "id": "392d7e76",
   "metadata": {},
   "outputs": [
    {
     "name": "stdout",
     "output_type": "stream",
     "text": [
      "1/17= 0.05882\n",
      "Round upwards towards infinity:  0.05883\n",
      "Round down towards negative infinity:  0.05882\n"
     ]
    }
   ],
   "source": [
    "#41-round a specified number upwards towards infinity and down towards negative infinity of precision 4.\n",
    "import decimal\n",
    "context=decimal.getcontext()\n",
    "value=decimal.Decimal(1)/decimal.Decimal(17)\n",
    "print(\"1/17=\",value)\n",
    "context.prec=4\n",
    "\n",
    "context.rounding = getattr(decimal, 'ROUND_CEILING')\n",
    "value = decimal.Decimal(1) / decimal.Decimal(17)\n",
    "print(\"Round upwards towards infinity: \",value)\n",
    "\n",
    "context.rounding = getattr(decimal, 'ROUND_FLOOR')\n",
    "value = decimal.Decimal(1) / decimal.Decimal(17)\n",
    "print(\"Round down towards negative infinity: \",value)"
   ]
  },
  {
   "cell_type": "code",
   "execution_count": 9,
   "id": "cbe9c79e",
   "metadata": {},
   "outputs": [
    {
     "name": "stdout",
     "output_type": "stream",
     "text": [
      "Local Precision: 2\n",
      "22/7 = 3.1\n",
      "\n",
      "Default precision: 4\n",
      "22 /7 = 3.142\n"
     ]
    }
   ],
   "source": [
    "#42-get the local and default precision\n",
    "import decimal\n",
    "\n",
    "with decimal.localcontext() as context:\n",
    "    context.prec=2\n",
    "    print(\"Local Precision:\",context.prec)\n",
    "    print('22/7 =', (decimal.Decimal('22') / 7))\n",
    "    \n",
    "print()\n",
    "print('Default precision:', decimal.getcontext().prec)\n",
    "print('22 /7 =', (decimal.Decimal('22') / 7))"
   ]
  },
  {
   "cell_type": "code",
   "execution_count": 11,
   "id": "2c8d92e8",
   "metadata": {},
   "outputs": [
    {
     "name": "stdout",
     "output_type": "stream",
     "text": [
      "0.7 =7/10\n",
      "2.5 =5/2\n",
      "9.32=233/25\n",
      "7e-1=7/10\n"
     ]
    }
   ],
   "source": [
    "#43-fraction instances of the string representation of a number. \n",
    "import fractions\n",
    "for s in ['0.7', '2.5', '9.32', '7e-1']:\n",
    "    f=fractions.Fraction(s)\n",
    "    print('{0:4}={1}'.format(s,f))"
   ]
  },
  {
   "cell_type": "code",
   "execution_count": 12,
   "id": "75f517d9",
   "metadata": {},
   "outputs": [
    {
     "name": "stdout",
     "output_type": "stream",
     "text": [
      "0.2 = 3602879701896397/18014398509481984\n",
      "0.7 = 3152519739159347/4503599627370496\n",
      "6.5 = 13/2\n",
      "6.0 = 6\n"
     ]
    }
   ],
   "source": [
    "#44- fraction instances of float numbers\n",
    "import fractions\n",
    "for n in [0.2, 0.7, 6.5, 6.0]:\n",
    "    print('{} = {}'.format(n, fractions.Fraction(n)))"
   ]
  },
  {
   "cell_type": "code",
   "execution_count": 13,
   "id": "0c872ccc",
   "metadata": {},
   "outputs": [
    {
     "name": "stdout",
     "output_type": "stream",
     "text": [
      "0.2 = 1/5\n",
      "0.7 = 7/10\n",
      "2.5 = 5/2\n",
      "3.0 = 3\n"
     ]
    }
   ],
   "source": [
    "#45-create the fraction instances of decimal numbers\n",
    "import decimal\n",
    "import fractions\n",
    "values = [\n",
    "    decimal.Decimal('0.2'),\n",
    "    decimal.Decimal('0.7'),\n",
    "    decimal.Decimal('2.5'),\n",
    "    decimal.Decimal('3.0'),\n",
    "]\n",
    "\n",
    "for d in values:\n",
    "    print('{} = {}'.format(d, fractions.Fraction(d)))"
   ]
  },
  {
   "cell_type": "code",
   "execution_count": 17,
   "id": "e16d1720",
   "metadata": {},
   "outputs": [
    {
     "name": "stdout",
     "output_type": "stream",
     "text": [
      "2/3 + 3/7 = 23/21\n",
      "2/3 - 3/7 = 5/21\n",
      "2/3 * 3/7 = 2/7\n",
      "2/3 / 3/7 = 14/9\n"
     ]
    }
   ],
   "source": [
    "#46-add, subtract, multiply and divide two fractions\n",
    "import fractions\n",
    "f1=fractions.Fraction(2,3)\n",
    "f2=fractions.Fraction(3,7)\n",
    "\n",
    "print('{} + {} = {}'.format(f1, f2, f1 + f2))\n",
    "print('{} - {} = {}'.format(f1, f2, f1 - f2))\n",
    "print('{} * {} = {}'.format(f1, f2, f1 * f2))\n",
    "print('{} / {} = {}'.format(f1, f2, f1 / f2))"
   ]
  },
  {
   "cell_type": "code",
   "execution_count": 18,
   "id": "1665f5d6",
   "metadata": {},
   "outputs": [
    {
     "name": "stdout",
     "output_type": "stream",
     "text": [
      "PI  = 3.141592653589793\n",
      "No limit = 3141592653589793/1000000000000000\n",
      "       1 = 3\n",
      "       5 = 16/5\n",
      "      50 = 22/7\n",
      "      90 = 267/85\n",
      "     100 = 311/99\n",
      "     500 = 355/113\n",
      " 1000000 = 3126535/995207\n"
     ]
    }
   ],
   "source": [
    "#47-convert a floating point number (PI) to an approximate rational value on the various denominator\n",
    "import fractions\n",
    "import math\n",
    "print('PI  =',math.pi)\n",
    "\n",
    "f_pi=fractions.Fraction(str(math.pi))\n",
    "print('No limit =', f_pi)\n",
    "\n",
    "for d in [1, 5,  50, 90, 100, 500, 1000000]:\n",
    "    limited = f_pi.limit_denominator(d)\n",
    "    print('{0:8} = {1}'.format(d, limited))"
   ]
  },
  {
   "cell_type": "code",
   "execution_count": 20,
   "id": "2fe6d408",
   "metadata": {},
   "outputs": [
    {
     "name": "stdout",
     "output_type": "stream",
     "text": [
      "73.363 9.553 20.026 70.593 9.296 36.420 "
     ]
    }
   ],
   "source": [
    "#48-generate random float numbers in a specific numerical range\n",
    "import random\n",
    "for x in range(6):\n",
    "    print('{:04.3f}'.format(random.uniform(x, 100)), end=' ')"
   ]
  },
  {
   "cell_type": "code",
   "execution_count": 28,
   "id": "f93fc08d",
   "metadata": {},
   "outputs": [
    {
     "name": "stdout",
     "output_type": "stream",
     "text": [
      "92 8 16 95 47 59 "
     ]
    }
   ],
   "source": [
    "#49-generate random integers in a specific numerical range\n",
    "import random\n",
    "\n",
    "for x in range(6):\n",
    "    print(random.randrange(x, 100), end=' ')"
   ]
  },
  {
   "cell_type": "code",
   "execution_count": 25,
   "id": "92cf45bd",
   "metadata": {},
   "outputs": [
    {
     "name": "stdout",
     "output_type": "stream",
     "text": [
      "34 24 60 32 68 68 "
     ]
    }
   ],
   "source": [
    "#50-generate random even integers in a specific numerical range.\n",
    "import random\n",
    "\n",
    "for i in range(6):\n",
    "    print(random.randrange(10,100,2),end=\" \")"
   ]
  },
  {
   "cell_type": "code",
   "execution_count": 30,
   "id": "62b1ae31",
   "metadata": {},
   "outputs": [
    {
     "name": "stdout",
     "output_type": "stream",
     "text": [
      "d\n"
     ]
    }
   ],
   "source": [
    "#51-get a single random element from a specified string\n",
    "import random\n",
    "print(random.choice('abcdefghi'))"
   ]
  },
  {
   "cell_type": "code",
   "execution_count": 31,
   "id": "107c3ca3",
   "metadata": {},
   "outputs": [
    {
     "name": "stdout",
     "output_type": "stream",
     "text": [
      "[3, 4, 7, 2, 5, 1, 6]\n"
     ]
    }
   ],
   "source": [
    "#52-shuffle the following elements randomly\n",
    "import random\n",
    "\n",
    "nums = [1, 2, 3, 4, 5, 6, 7]\n",
    "random.shuffle(nums)\n",
    "print(nums)"
   ]
  },
  {
   "cell_type": "code",
   "execution_count": 37,
   "id": "9be3213c",
   "metadata": {},
   "outputs": [
    {
     "name": "stdout",
     "output_type": "stream",
     "text": [
      "Heads: 5104\n",
      "Tails: 4896\n"
     ]
    }
   ],
   "source": [
    "#53- flip a coin 1000 times and count heads and tails.\n",
    "import random\n",
    "import itertools\n",
    "\n",
    "results={\n",
    "    'heads':0,\n",
    "    'tails':0\n",
    "}\n",
    "\n",
    "sides=list(results.keys())\n",
    "\n",
    "for i in range(10000):\n",
    "    results[random.choice(sides)]+=1\n",
    "    \n",
    "print('Heads:', results['heads'])\n",
    "print('Tails:', results['tails'])   "
   ]
  },
  {
   "cell_type": "code",
   "execution_count": 33,
   "id": "56de6fa3",
   "metadata": {},
   "outputs": [],
   "source": [
    "#54-print a random sample of words from the system dictionary\n",
    "import random\n",
    "with open('/usr/share/dict/words', 'rt') as fh:\n",
    "    words = fh.readlines()\n",
    "words = [w.rstrip() for w in words]\n",
    "for w in random.sample(words, 7):\n",
    "    print(w)"
   ]
  },
  {
   "cell_type": "code",
   "execution_count": 42,
   "id": "2bec3f7a",
   "metadata": {},
   "outputs": [
    {
     "name": "stdout",
     "output_type": "stream",
     "text": [
      "Orange\n"
     ]
    }
   ],
   "source": [
    "#55-randomly select an item from a list\n",
    "import random\n",
    "color = ['Red', 'Green', 'Black', 'Orange', 'Black']\n",
    "print(random.choice(color))"
   ]
  },
  {
   "cell_type": "code",
   "execution_count": 43,
   "id": "431d9132",
   "metadata": {},
   "outputs": [
    {
     "name": "stdout",
     "output_type": "stream",
     "text": [
      "2.1\n"
     ]
    }
   ],
   "source": [
    "#56-calculate the absolute value of a floating point number\n",
    "import math\n",
    "print(math.fabs(-2.1))"
   ]
  },
  {
   "cell_type": "code",
   "execution_count": 45,
   "id": "cf06f4bd",
   "metadata": {},
   "outputs": [
    {
     "name": "stdout",
     "output_type": "stream",
     "text": [
      "Standard deviation of sample is : 2.3151673805580453\n"
     ]
    }
   ],
   "source": [
    "#57-calculate the standard deviation of the following data\n",
    "test_list=[4, 5, 8, 9, 10]\n",
    "\n",
    "mean=sum(test_list)/len(test_list)\n",
    "variance=sum([((x-mean)**2) for x in test_list])/len(test_list)\n",
    "res=variance**0.5\n",
    "\n",
    "print(\"Standard deviation of sample is : \" + str(res))"
   ]
  },
  {
   "cell_type": "code",
   "execution_count": 46,
   "id": "fc1748e5",
   "metadata": {},
   "outputs": [
    {
     "name": "stdout",
     "output_type": "stream",
     "text": [
      "The original list : [4, 5, 8, 9, 10]\n",
      "Standard deviation of sample is : 2.3151673805580453\n"
     ]
    }
   ],
   "source": [
    "import statistics\n",
    "  \n",
    "# initializing list\n",
    "test_list = [4, 5, 8, 9, 10]\n",
    "  \n",
    "# printing list\n",
    "print(\"The original list : \" + str(test_list))\n",
    "  \n",
    "# Standard deviation of list\n",
    "# Using pstdev()\n",
    "res = statistics.pstdev(test_list)\n",
    "  \n",
    "# Printing result\n",
    "print(\"Standard deviation of sample is : \" + str(res))"
   ]
  },
  {
   "cell_type": "code",
   "execution_count": 47,
   "id": "7301a973",
   "metadata": {},
   "outputs": [
    {
     "name": "stdout",
     "output_type": "stream",
     "text": [
      "Mantissa  Exponent  Floating point value\n",
      "--------  --------  --------------------\n",
      "   0.70       -3     0.09\n",
      "   0.30        0     0.30\n",
      "   0.50        3     4.00\n"
     ]
    }
   ],
   "source": [
    "#58-print the floating point from mantissa, exponent pair.\n",
    "import math\n",
    "\n",
    "print('{:^7}  {:^8}  {:^17}'.format('Mantissa', 'Exponent', 'Floating point value'))\n",
    "print('{:-^8}  {:-^8}  {:-^20}'.format('', '', ''))\n",
    "\n",
    "for m, e in [ (0.7, -3),\n",
    "              (0.3,  0),\n",
    "              (0.5,  3),\n",
    "              ]:\n",
    "    x = math.ldexp(m, e)\n",
    "    print('{:7.2f}  {:7d}  {:7.2f}'.format(m, e, x))"
   ]
  },
  {
   "cell_type": "code",
   "execution_count": 48,
   "id": "9fa52a97",
   "metadata": {},
   "outputs": [
    {
     "name": "stdout",
     "output_type": "stream",
     "text": [
      "           (F)  (I)\n",
      "0/2 = 0.0 (0.0, 0.0)\n",
      "1/2 = 0.5 (0.5, 0.0)\n",
      "2/2 = 1.0 (0.0, 1.0)\n",
      "3/2 = 1.5 (0.5, 1.0)\n",
      "4/2 = 2.0 (0.0, 2.0)\n",
      "5/2 = 2.5 (0.5, 2.0)\n"
     ]
    }
   ],
   "source": [
    "#59-split fractional and integer parts of a floating point number\n",
    "import math\n",
    "print('           (F)  (I)')\n",
    "for i in range(6):\n",
    "    print('{}/2 = {} {}'.format(i, i/2, math.modf(i/2.0)))"
   ]
  },
  {
   "cell_type": "code",
   "execution_count": 2,
   "id": "a717e2cc",
   "metadata": {},
   "outputs": [
    {
     "name": "stdout",
     "output_type": "stream",
     "text": [
      "4+((5*7)/2)\n"
     ]
    }
   ],
   "source": [
    "#Date-09/16/22\n",
    "#60-parse math formulas and put parentheses around multiplication and division\n",
    "import ast\n",
    "\n",
    "def recurse(node):\n",
    "    if isinstance(node, ast.BinOp):\n",
    "        if isinstance(node.op, ast.Mult) or isinstance(node.op, ast.Div):\n",
    "            print('(', end='')\n",
    "        recurse(node.left)\n",
    "        recurse(node.op)\n",
    "        recurse(node.right)\n",
    "        if isinstance(node.op, ast.Mult) or isinstance(node.op, ast.Div):\n",
    "            print(')', end='')\n",
    "    elif isinstance(node, ast.Add):\n",
    "        print('+', end='')\n",
    "    elif isinstance(node, ast.Sub):\n",
    "        print('-', end='')\n",
    "    elif isinstance(node, ast.Mult):\n",
    "        print('*', end='')\n",
    "    elif isinstance(node, ast.Div):\n",
    "        print('/', end='')\n",
    "    elif isinstance(node, ast.Num):\n",
    "        print(node.n, end='')\n",
    "    else:\n",
    "        for child in ast.iter_child_nodes(node):\n",
    "            recurse(child)\n",
    "\n",
    "\n",
    "def search_expr(node):\n",
    "    returns = []\n",
    "    for child in ast.iter_child_nodes(node):\n",
    "        if isinstance(child, ast.Expr):\n",
    "            return child\n",
    "        returns.append(search_expr(child))\n",
    "    for ret in returns:\n",
    "        if isinstance(ret, ast.Expr):\n",
    "            return ret\n",
    "    return None\n",
    "\n",
    "\n",
    "formula = '4+5*7/2'\n",
    "\n",
    "a = ast.parse(formula)\n",
    "\n",
    "expr = search_expr(a)\n",
    "if expr is not None:\n",
    "    recurse(expr)\n",
    "print()"
   ]
  },
  {
   "cell_type": "code",
   "execution_count": 6,
   "id": "7eafc140",
   "metadata": {},
   "outputs": [
    {
     "name": "stdout",
     "output_type": "stream",
     "text": [
      "Enter number of data points2\n",
      "X1: 1\n",
      "Y1: 2\n",
      "X2: 3\n",
      "Y2: 4\n",
      "{(1.0, 2.0), (3.0, 4.0)}\n",
      "Best fit line:\n",
      "y = 1.0x + 1.0\n",
      "Enter a value to calculate: 10\n",
      "y = 11.0\n"
     ]
    }
   ],
   "source": [
    "#61-describe linear regression\n",
    "data=set()\n",
    "count=int(input(\"Enter number of data points\"))\n",
    "\n",
    "for i in range(count):\n",
    "    x=float(input(\"X\"+str(i+1)+\": \"))\n",
    "    y=float(input(\"Y\"+str(i+1)+\": \"))\n",
    "    data.add((x,y))\n",
    "print(data)\n",
    "# Find the average x and \n",
    "avgx=0.0\n",
    "avgy=0.0\n",
    "for i in data:\n",
    "    avgx+=i[0]/len(data)\n",
    "    avgy+=i[1]/len(data)\n",
    "    \n",
    "# Find the sums\n",
    "totalxx=0\n",
    "totalxy=0\n",
    "\n",
    "for i in data:\n",
    "    totalxx+=(i[0]-avgx)**2\n",
    "    totalxy+=(i[0]-avgx)*(i[1]-avgy)\n",
    "    \n",
    "# Slope/intercept form\n",
    "m=totalxy/totalxx\n",
    "b=avgy-m*avgx\n",
    "\n",
    "print(\"Best fit line:\")\n",
    "print(\"y = \"+str(m)+\"x + \"+str(b))\n",
    "\n",
    "x = float(input(\"Enter a value to calculate: \"))\n",
    "print(\"y = \"+str(m*x+b))   "
   ]
  },
  {
   "cell_type": "code",
   "execution_count": 7,
   "id": "cf04809b",
   "metadata": {},
   "outputs": [
    {
     "name": "stdout",
     "output_type": "stream",
     "text": [
      "[[(-5.0, -4.196152422706632), (-5.0, -0.7320508075688767), (-2.0, 1.0), (1.0, -0.7320508075688767), (1.0, -4.196152422706632), (-2.0, -5.928203230275509), (-5.0, -4.196152422706632)], [(1.0, -4.196152422706632), (1.0, -0.7320508075688767), (4.0, 1.0), (7.0, -0.7320508075688767), (7.0, -4.196152422706632), (4.0, -5.928203230275509), (1.0, -4.196152422706632)], [(7.0, -4.196152422706632), (7.0, -0.7320508075688767), (10.0, 1.0), (13.0, -0.7320508075688767), (13.0, -4.196152422706632), (10.0, -5.928203230275509), (7.0, -4.196152422706632)], [(-2.0, 1.0000000000000004), (-2.0, 4.464101615137755), (1.0, 6.196152422706632), (4.0, 4.464101615137755), (4.0, 1.0000000000000004), (1.0, -0.7320508075688767), (-2.0, 1.0000000000000004)], [(4.0, 1.0000000000000004), (4.0, 4.464101615137755), (7.0, 6.196152422706632), (10.0, 4.464101615137755), (10.0, 1.0000000000000004), (7.0, -0.7320508075688767), (4.0, 1.0000000000000004)], [(-5.0, 6.196152422706632), (-5.0, 9.660254037844387), (-2.0, 11.392304845413264), (1.0, 9.660254037844387), (1.0, 6.196152422706632), (-2.0, 4.464101615137755), (-5.0, 6.196152422706632)], [(1.0, 6.196152422706632), (1.0, 9.660254037844387), (4.0, 11.392304845413264), (7.0, 9.660254037844387), (7.0, 6.196152422706632), (4.0, 4.464101615137755), (1.0, 6.196152422706632)], [(7.0, 6.196152422706632), (7.0, 9.660254037844387), (10.0, 11.392304845413264), (13.0, 9.660254037844387), (13.0, 6.196152422706632), (10.0, 4.464101615137755), (7.0, 6.196152422706632)], [(-2.0, 11.392304845413264), (-2.0, 14.85640646055102), (1.0, 16.588457268119896), (4.0, 14.85640646055102), (4.0, 11.392304845413264), (1.0, 9.660254037844387), (-2.0, 11.392304845413264)], [(4.0, 11.392304845413264), (4.0, 14.85640646055102), (7.0, 16.588457268119896), (10.0, 14.85640646055102), (10.0, 11.392304845413264), (7.0, 9.660254037844387), (4.0, 11.392304845413264)]]\n"
     ]
    }
   ],
   "source": [
    "#62-program to calculate a grid of hexagon coordinates of the given radius given lower-left and upper-right coordinates.\n",
    "import math\n",
    "def calculate_polygons(startx, starty, endx, endy, radius):\n",
    "     # calculate side length given radius   \n",
    "    sl = (2 * radius) * math.tan(math.pi / 6)\n",
    "    # calculate radius for a given side-length\n",
    "    # (a * (math.cos(math.pi / 6) / math.sin(math.pi / 6)) / 2)\n",
    "    # see http://www.calculatorsoup.com/calculators/geometry-plane/polygon.php\n",
    "    \n",
    "    # calculate coordinates of the hexagon points\n",
    "    # sin(30)\n",
    "    p = sl * 0.5\n",
    "    b = sl * math.cos(math.radians(30))\n",
    "    w = b * 2\n",
    "    h = 2 * sl\n",
    "    \n",
    "    # offset start and end coordinates by hex widths and heights to guarantee coverage     \n",
    "    startx = startx - w\n",
    "    starty = starty - h\n",
    "    endx = endx + w\n",
    "    endy = endy + h\n",
    "\n",
    "    origx = startx\n",
    "    origy = starty\n",
    "\n",
    "    # offsets for moving along and up rows\n",
    "    xoffset = b\n",
    "    yoffset = 3 * p\n",
    "\n",
    "    polygons = []\n",
    "    row = 1\n",
    "    counter = 0\n",
    "\n",
    "    while starty < endy:\n",
    "        if row % 2 == 0:\n",
    "            startx = origx + xoffset\n",
    "        else:\n",
    "            startx = origx\n",
    "        while startx < endx:\n",
    "            p1x = startx\n",
    "            p1y = starty + p\n",
    "            p2x = startx\n",
    "            p2y = starty + (3 * p)\n",
    "            p3x = startx + b\n",
    "            p3y = starty + h\n",
    "            p4x = startx + w\n",
    "            p4y = starty + (3 * p)\n",
    "            p5x = startx + w\n",
    "            p5y = starty + p\n",
    "            p6x = startx + b\n",
    "            p6y = starty\n",
    "            poly = [\n",
    "                (p1x, p1y),\n",
    "                (p2x, p2y),\n",
    "                (p3x, p3y),\n",
    "                (p4x, p4y),\n",
    "                (p5x, p5y),\n",
    "                (p6x, p6y),\n",
    "                (p1x, p1y)]\n",
    "            polygons.append(poly)\n",
    "            counter += 1\n",
    "            startx += w\n",
    "        starty += yoffset\n",
    "        row += 1\n",
    "    return polygons\n",
    "\n",
    "print(calculate_polygons(1,1, 4, 4, 3))"
   ]
  },
  {
   "cell_type": "code",
   "execution_count": 15,
   "id": "0377e01a",
   "metadata": {},
   "outputs": [
    {
     "name": "stdout",
     "output_type": "stream",
     "text": [
      "************************                                                         \n",
      "** A Simple Math Quiz **                                                         \n",
      "************************                                                         \n",
      "1. Addition                                                                      \n",
      "2. Subtraction                                                                   \n",
      "3. Multiplication                                                                \n",
      "4. Integer Division                                                              \n",
      "5. Exit                                                                          \n",
      "------------------------ \n",
      "print your choice 5\n",
      "print number a: 12\n",
      "print number b: 12\n"
     ]
    },
    {
     "ename": "SyntaxError",
     "evalue": "'break' outside loop (Temp/ipykernel_6112/909509793.py, line 28)",
     "output_type": "error",
     "traceback": [
      "\u001b[1;36m  File \u001b[1;32m\"C:\\Users\\przir\\AppData\\Local\\Temp/ipykernel_6112/909509793.py\"\u001b[1;36m, line \u001b[1;32m28\u001b[0m\n\u001b[1;33m    break\u001b[0m\n\u001b[1;37m    ^\u001b[0m\n\u001b[1;31mSyntaxError\u001b[0m\u001b[1;31m:\u001b[0m 'break' outside loop\n"
     ]
    }
   ],
   "source": [
    "#63-create a simple math quiz\n",
    "print('''************************                                                         \n",
    "** A Simple Math Quiz **                                                         \n",
    "************************                                                         \n",
    "1. Addition                                                                      \n",
    "2. Subtraction                                                                   \n",
    "3. Multiplication                                                                \n",
    "4. Integer Division                                                              \n",
    "5. Exit                                                                          \n",
    "------------------------ ''')\n",
    "\n",
    "choice=input(\"print your choice \")\n",
    "a=int(input(\"print number a: \"))\n",
    "b=int(input(\"print number b: \"))\n",
    "res=0\n",
    "\n",
    "if choice==1:\n",
    "    res=a+b\n",
    "elif choice==2:\n",
    "    res=a-b\n",
    "elif choice==3:\n",
    "    res=a*b\n",
    "elif choice==4 and b!=0:\n",
    "    res=a/b\n",
    "elif choice==4 and b==0:\n",
    "    print(\"please enter number other than 0\")\n",
    "elif choice==5:\n",
    "    break\n",
    "    \n",
    "print(\"Result=\",res)"
   ]
  },
  {
   "cell_type": "code",
   "execution_count": 18,
   "id": "37a0afdb",
   "metadata": {},
   "outputs": [
    {
     "name": "stderr",
     "output_type": "stream",
     "text": [
      "<>:51: SyntaxWarning: \"is\" with a literal. Did you mean \"==\"?\n",
      "<>:57: SyntaxWarning: \"is\" with a literal. Did you mean \"==\"?\n",
      "<>:63: SyntaxWarning: \"is\" with a literal. Did you mean \"==\"?\n",
      "<>:51: SyntaxWarning: \"is\" with a literal. Did you mean \"==\"?\n",
      "<>:57: SyntaxWarning: \"is\" with a literal. Did you mean \"==\"?\n",
      "<>:63: SyntaxWarning: \"is\" with a literal. Did you mean \"==\"?\n",
      "C:\\Users\\przir\\AppData\\Local\\Temp/ipykernel_6112/1478556078.py:51: SyntaxWarning: \"is\" with a literal. Did you mean \"==\"?\n",
      "  if index is 1:\n",
      "C:\\Users\\przir\\AppData\\Local\\Temp/ipykernel_6112/1478556078.py:57: SyntaxWarning: \"is\" with a literal. Did you mean \"==\"?\n",
      "  elif index is 2:\n",
      "C:\\Users\\przir\\AppData\\Local\\Temp/ipykernel_6112/1478556078.py:63: SyntaxWarning: \"is\" with a literal. Did you mean \"==\"?\n",
      "  elif index is 3:\n"
     ]
    },
    {
     "name": "stdout",
     "output_type": "stream",
     "text": [
      "************************\n",
      "** A Simple Math Quiz **\n",
      "************************\n",
      "1. Addition\n",
      "2. Subtraction\n",
      "3. Multiplication\n",
      "4. Integer Division\n",
      "5. Exit\n",
      "------------------------\n",
      "Enter your choice: 3\n",
      "Enter your answer\n",
      "7 * 15 = 10\n",
      "Incorrect.\n",
      "Enter your choice: 1\n",
      "Enter your answer\n",
      "12 + 2 = 14\n",
      "Correct.\n",
      "Enter your choice: 3\n",
      "Enter your answer\n",
      "5 * 15 = 4\n",
      "Incorrect.\n",
      "Enter your choice: 5\n",
      "Exit the quiz.\n",
      "------------------------\n",
      "You answered 3 questions with 1 correct.\n",
      "Your score is 33.33%. Thank you.\n"
     ]
    }
   ],
   "source": [
    "import random\n",
    "def display_intro():\n",
    "    title = \"** A Simple Math Quiz **\"\n",
    "    print(\"*\" * len(title))\n",
    "    print(title)\n",
    "    print(\"*\" * len(title))\n",
    "\n",
    "\n",
    "def display_menu():\n",
    "    menu_list = [\"1. Addition\", \"2. Subtraction\", \"3. Multiplication\", \"4. Integer Division\", \"5. Exit\"]\n",
    "    print(menu_list[0])\n",
    "    print(menu_list[1])\n",
    "    print(menu_list[2])\n",
    "    print(menu_list[3])\n",
    "    print(menu_list[4])\n",
    "\n",
    "\n",
    "def display_separator():\n",
    "    print(\"-\" * 24)\n",
    "\n",
    "\n",
    "def get_user_input():\n",
    "    user_input = int(input(\"Enter your choice: \"))\n",
    "    while user_input > 5 or user_input <= 0:\n",
    "        print(\"Invalid menu option.\")\n",
    "        user_input = int(input(\"Please try again: \"))\n",
    "    else:\n",
    "        return user_input\n",
    "\n",
    "\n",
    "def get_user_solution(problem):\n",
    "    print(\"Enter your answer\")\n",
    "    print(problem, end=\"\")\n",
    "    result = int(input(\" = \"))\n",
    "    return result\n",
    "\n",
    "\n",
    "def check_solution(user_solution, solution, count):\n",
    "    if user_solution == solution:\n",
    "        count = count + 1\n",
    "        print(\"Correct.\")\n",
    "        return count\n",
    "    else:\n",
    "        print(\"Incorrect.\")\n",
    "        return count\n",
    "\n",
    "\n",
    "def menu_option(index, count):\n",
    "    number_one = random.randrange(1, 21)\n",
    "    number_two = random.randrange(1, 21)\n",
    "    if index is 1:\n",
    "        problem = str(number_one) + \" + \" + str(number_two)\n",
    "        solution = number_one + number_two\n",
    "        user_solution = get_user_solution(problem)\n",
    "        count = check_solution(user_solution, solution, count)\n",
    "        return count\n",
    "    elif index is 2:\n",
    "        problem = str(number_one) + \" - \" + str(number_two)\n",
    "        solution = number_one - number_two\n",
    "        user_solution = get_user_solution(problem)\n",
    "        count = check_solution(user_solution, solution, count)\n",
    "        return count\n",
    "    elif index is 3:\n",
    "        problem = str(number_one) + \" * \" + str(number_two)\n",
    "        solution = number_one * number_two\n",
    "        user_solution = get_user_solution(problem)\n",
    "        count = check_solution(user_solution, solution, count)\n",
    "        return count\n",
    "    else:\n",
    "        problem = str(number_one) + \" // \" + str(number_two)\n",
    "        solution = number_one // number_two\n",
    "        user_solution = get_user_solution(problem)\n",
    "        count = check_solution(user_solution, solution, count)\n",
    "        return count\n",
    "\n",
    "\n",
    "def display_result(total, correct):\n",
    "    if total > 0:\n",
    "        result = correct / total\n",
    "        percentage = round((result * 100), 2)\n",
    "    if total == 0:\n",
    "        percentage = 0\n",
    "    print(\"You answered\", total, \"questions with\", correct, \"correct.\")\n",
    "    print(\"Your score is \", percentage, \"%. Thank you.\", sep = \"\")\n",
    "\n",
    "\n",
    "def main():\n",
    "    display_intro()\n",
    "    display_menu()\n",
    "    display_separator()\n",
    "\n",
    "    option = get_user_input()\n",
    "    total = 0\n",
    "    correct = 0\n",
    "    while option != 5:\n",
    "        total = total + 1\n",
    "        correct = menu_option(option, correct)\n",
    "        option = get_user_input()\n",
    "\n",
    "    print(\"Exit the quiz.\")\n",
    "    display_separator()\n",
    "    display_result(total, correct)\n",
    "\n",
    "main()"
   ]
  },
  {
   "cell_type": "code",
   "execution_count": 19,
   "id": "d7c3f4e6",
   "metadata": {},
   "outputs": [
    {
     "name": "stdout",
     "output_type": "stream",
     "text": [
      "117.85\n"
     ]
    }
   ],
   "source": [
    "#64-calculate the volume of a tetrahedron\n",
    "import math\n",
    "def volume_tetrahedron(num):\n",
    "\tvolume = (num ** 3 / (6 * math.sqrt(2)))\n",
    "\t\n",
    "\treturn round(volume, 2)\n",
    "\n",
    "print(volume_tetrahedron(10))"
   ]
  },
  {
   "cell_type": "code",
   "execution_count": 20,
   "id": "43566393",
   "metadata": {},
   "outputs": [
    {
     "name": "stdout",
     "output_type": "stream",
     "text": [
      "The mathematical constant e\n",
      "2.7182818282861687\n",
      "2.718281828459045\n"
     ]
    }
   ],
   "source": [
    "#65-compute the value of e(2.718281827...) using infinite series\n",
    "import math\n",
    "\n",
    "def fact(n):\n",
    "    if n == 0:\n",
    "       return 1\n",
    "    else:\n",
    "       return n*fact(n-1)\n",
    "\n",
    "def e(EPS):\n",
    "\n",
    "    v1 = 2\n",
    "    v2 = v1 + float(1.0/fact(2))\n",
    "    i = 3 \n",
    "    while math.fabs(v1-v2) >= EPS:\n",
    "          v1 = v2\n",
    "          v2 += float(1.0/fact(i))\n",
    "          i += 1\n",
    "    return v2  \n",
    "\n",
    "print(\"The mathematical constant e\")\n",
    "#computes the value of e using infinite series\n",
    "print(e(0.00000001))\n",
    "#mathematical constant e build-in\n",
    "print(math.e)"
   ]
  },
  {
   "cell_type": "code",
   "execution_count": 22,
   "id": "e0d0f06f",
   "metadata": {},
   "outputs": [
    {
     "name": "stdout",
     "output_type": "stream",
     "text": [
      "                            #                             \n",
      "                                                 *                                                 \n",
      "                                 #                                 \n",
      "                                               *                                                \n",
      "                                     #                                     \n",
      "                                              *                                              \n",
      "                                        #                                         \n",
      "                                           *                                            \n",
      "                                           #                                            \n",
      "                                        *                                         \n",
      "                                              #                                              \n",
      "                                     *                                     \n",
      "                                               #                                                \n",
      "                                 *                                 \n",
      "                                                 #                                                 \n",
      "                            *                             \n",
      "                                                 #                                                  \n",
      "                        *                         \n",
      "                                                 #                                                 \n",
      "                    *                    \n",
      "                                               #                                                \n",
      "               *                \n",
      "                                              #                                              \n",
      "            *            \n",
      "                                           #                                            \n",
      "        *        \n",
      "                                        #                                         \n",
      "     *     \n",
      "                                     #                                     \n",
      "  *   \n",
      "                                 #                                 \n",
      " * \n",
      "                            #                             \n",
      "*\n",
      "                        #                         \n",
      "*\n",
      "                    #                    \n",
      "*\n",
      "               #                \n",
      " * \n",
      "           #            \n",
      "  *   \n",
      "        #        \n",
      "     *     \n",
      "     #     \n",
      "        *        \n",
      "  #   \n",
      "           *            \n",
      " # \n",
      "               *                \n",
      "#\n",
      "                    *                    \n",
      "#\n",
      "                        *                        \n",
      "#\n",
      "                            *                             \n",
      " # \n",
      "                                 *                                 \n",
      "  #   \n",
      "                                     *                                     \n",
      "     #     \n",
      "                                        *                                         \n",
      "        #        \n",
      "                                           *                                            \n",
      "           #            \n",
      "                                              *                                              \n",
      "               #                \n",
      "                                               *                                                \n",
      "                    #                    \n",
      "                                                 *                                                 \n",
      "                        #                        \n",
      "                                                 *                                                  \n",
      "                            #                             \n",
      "                                                 *                                                 \n",
      "                                 #                                 \n",
      "                                               *                                                \n",
      "                                     #                                     \n",
      "                                              *                                              \n"
     ]
    }
   ],
   "source": [
    "#66-create an ASCII waveform\n",
    "from time import sleep\n",
    "from math import sin, cos, radians\n",
    "\n",
    "# increase 40 to get more wave\n",
    "for n in range(1, 40):\n",
    "\tcircle_1 = 50 * (1 + sin(radians(n*10)))\n",
    "\tcircle_2 = 50 * (1 + cos(radians(n*10)))\n",
    "\tprint(\"#\".center(int(circle_1)))\n",
    "\tprint(\"*\".center(int(circle_2)))\n",
    "\tsleep(0.05)"
   ]
  },
  {
   "cell_type": "code",
   "execution_count": 25,
   "id": "2dcba83d",
   "metadata": {},
   "outputs": [
    {
     "name": "stdout",
     "output_type": "stream",
     "text": [
      "                    .\n",
      "                   .\n",
      "                   .\n",
      "                   .\n",
      "                   .\n",
      "                   .\n",
      "                   .\n",
      "                   .\n",
      "                   .\n",
      "                   .\n"
     ]
    }
   ],
   "source": [
    "#67-create a dot string\n",
    "from math import sin, cos, radians\n",
    "import sys\n",
    "for i in range(10):\n",
    "    print(' '*int(10*cos(radians(i))+10) + '.')"
   ]
  },
  {
   "cell_type": "code",
   "execution_count": 29,
   "id": "95eabaa3",
   "metadata": {},
   "outputs": [
    {
     "name": "stdout",
     "output_type": "stream",
     "text": [
      "print side a=3\n",
      "print side b=4\n",
      "Third side of Pythogorus triangle is= 5.0\n"
     ]
    }
   ],
   "source": [
    "#68-Pythagorean theorem calculator\n",
    "import math\n",
    "a=int(input(\"print side a=\"))\n",
    "b=int(input(\"print side b=\"))\n",
    "c=0\n",
    "c=math.sqrt(b**2+a**2)\n",
    "\n",
    "print(\"Third side of Pythogorus triangle is=\",c)"
   ]
  },
  {
   "cell_type": "code",
   "execution_count": 31,
   "id": "687c1ad0",
   "metadata": {},
   "outputs": [
    {
     "name": "stdout",
     "output_type": "stream",
     "text": [
      "Pythagorean theorem calculator! Calculate your triangle sides.\n",
      "Assume the sides are a, b, c and c is the hypotenuse (the side opposite the right angle\n",
      "Which side (a, b, c) do you wish to calculate? side> b\n",
      "Input the length of side a: 4\n",
      "Input the length of side c: 5\n"
     ]
    },
    {
     "ename": "NameError",
     "evalue": "name 'side_c' is not defined",
     "output_type": "error",
     "traceback": [
      "\u001b[1;31m---------------------------------------------------------------------------\u001b[0m",
      "\u001b[1;31mNameError\u001b[0m                                 Traceback (most recent call last)",
      "\u001b[1;32m~\\AppData\\Local\\Temp/ipykernel_6112/1951736905.py\u001b[0m in \u001b[0;36m<module>\u001b[1;34m\u001b[0m\n\u001b[0;32m     27\u001b[0m     \u001b[0mside_b\u001b[0m \u001b[1;33m=\u001b[0m \u001b[0mint\u001b[0m\u001b[1;33m(\u001b[0m\u001b[0minput\u001b[0m\u001b[1;33m(\u001b[0m\u001b[1;34m'Input the length of side c: '\u001b[0m\u001b[1;33m)\u001b[0m\u001b[1;33m)\u001b[0m\u001b[1;33m\u001b[0m\u001b[1;33m\u001b[0m\u001b[0m\n\u001b[0;32m     28\u001b[0m \u001b[1;33m\u001b[0m\u001b[0m\n\u001b[1;32m---> 29\u001b[1;33m     \u001b[0mside_c\u001b[0m \u001b[1;33m=\u001b[0m \u001b[0msqrt\u001b[0m\u001b[1;33m(\u001b[0m\u001b[0mside_c\u001b[0m \u001b[1;33m*\u001b[0m \u001b[0mside_c\u001b[0m \u001b[1;33m-\u001b[0m \u001b[0mside_a\u001b[0m \u001b[1;33m*\u001b[0m \u001b[0mside_a\u001b[0m\u001b[1;33m)\u001b[0m\u001b[1;33m\u001b[0m\u001b[1;33m\u001b[0m\u001b[0m\n\u001b[0m\u001b[0;32m     30\u001b[0m \u001b[1;33m\u001b[0m\u001b[0m\n\u001b[0;32m     31\u001b[0m     \u001b[0mprint\u001b[0m\u001b[1;33m(\u001b[0m\u001b[1;34m'The length of side b is'\u001b[0m\u001b[1;33m)\u001b[0m\u001b[1;33m\u001b[0m\u001b[1;33m\u001b[0m\u001b[0m\n",
      "\u001b[1;31mNameError\u001b[0m: name 'side_c' is not defined"
     ]
    }
   ],
   "source": [
    "from math import sqrt\n",
    "\n",
    "print('Pythagorean theorem calculator! Calculate your triangle sides.')\n",
    "print('Assume the sides are a, b, c and c is the hypotenuse (the side opposite the right angle')\n",
    "formula = input('Which side (a, b, c) do you wish to calculate? side> ')\n",
    "\n",
    "if formula == 'c':\n",
    "\tside_a = int(input('Input the length of side a: '))\n",
    "\tside_b = int(input('Input the length of side b: '))\n",
    "\n",
    "\tside_c = sqrt(side_a * side_a + side_b * side_b)\n",
    "\t\n",
    "\tprint('The length of side c is: ' )\n",
    "\tprint(side_c)\n",
    "\n",
    "elif formula == 'a':\n",
    "    side_b = int(input('Input the length of side b: '))\n",
    "    side_c = int(input('Input the length of side c: '))\n",
    "    \n",
    "    side_a = sqrt((side_c * side_c) - (side_b * side_b))\n",
    "    \n",
    "    print('The length of side a is' )\n",
    "    print(side_a)\n",
    "\n",
    "elif formula == 'b':\n",
    "    side_a = int(input('Input the length of side a: '))\n",
    "    side_b = int(input('Input the length of side c: '))\n",
    "        \n",
    "    side_c = sqrt(side_c * side_c - side_a * side_a)\n",
    "    \n",
    "    print('The length of side b is')\n",
    "    print(side_c)\n",
    "\n",
    "else:\n",
    "\tprint('Please select a side between a, b, c')"
   ]
  },
  {
   "cell_type": "code",
   "execution_count": 33,
   "id": "769c683f",
   "metadata": {},
   "outputs": [
    {
     "name": "stdout",
     "output_type": "stream",
     "text": [
      "123.0\n",
      "123.01\n",
      "123.012\n"
     ]
    }
   ],
   "source": [
    "#69- round up a number to specified digits\n",
    "import math\n",
    "n=123.01247\n",
    "\n",
    "print(round(n,1))\n",
    "print(round(n,2))\n",
    "print(round(n,3))"
   ]
  },
  {
   "cell_type": "code",
   "execution_count": 34,
   "id": "8d9f1185",
   "metadata": {},
   "outputs": [
    {
     "name": "stdout",
     "output_type": "stream",
     "text": [
      "Original  Number:  123.01247\n",
      "124\n",
      "123.1\n",
      "123.02\n",
      "123.013\n"
     ]
    }
   ],
   "source": [
    "#70- casino simulation\n",
    "import math\n",
    "\n",
    "def roundup(a, digits=0):\n",
    "    n = 10**-digits\n",
    "    return round(math.ceil(a / n) * n, digits)\n",
    "\n",
    "x = 123.01247\n",
    "print(\"Original  Number: \",x)\n",
    "print(roundup(x, 0))\n",
    "print(roundup(x, 1))\n",
    "print(roundup(x, 2))\n",
    "print(roundup(x, 3))"
   ]
  },
  {
   "cell_type": "code",
   "execution_count": 1,
   "id": "242159cc",
   "metadata": {},
   "outputs": [
    {
     "name": "stdout",
     "output_type": "stream",
     "text": [
      "10 9 8 7 6 5 4 3 2 "
     ]
    }
   ],
   "source": [
    "#Date-09/17/22\n",
    "#71- reverse a range.\n",
    "for i in range(10,1,-1):\n",
    "    print(i,end=\" \")"
   ]
  },
  {
   "cell_type": "code",
   "execution_count": 3,
   "id": "ad21f571",
   "metadata": {},
   "outputs": [
    {
     "name": "stdout",
     "output_type": "stream",
     "text": [
      "range(9, -1, -2)\n",
      "range(4, 0, -1)\n"
     ]
    }
   ],
   "source": [
    "def reversed_range(start, stop=None, step=1):\n",
    "  if stop is None:\t\n",
    "    return range(start - step, -step, -step)\n",
    "  else:\n",
    "    new_start = stop - ((stop-start-1) % step + 1)\n",
    "    new_end = new_start - (stop-start+step-1) // step * step\n",
    "    if (stop - start) % step == 0 and step < 0: new_start -= step\n",
    "    return range(new_start, new_end, -step)\n",
    "\n",
    "print(reversed_range(1, 10, 2))\n",
    "\n",
    "print(reversed_range(1, 5, 1))"
   ]
  },
  {
   "cell_type": "code",
   "execution_count": 4,
   "id": "498378b0",
   "metadata": {},
   "outputs": [
    {
     "name": "stdout",
     "output_type": "stream",
     "text": [
      "[0.0, 0.1, 0.2, 0.30000000000000004, 0.4, 0.5, 0.6000000000000001, 0.7000000000000001, 0.8, 0.9, 1.0]\n"
     ]
    }
   ],
   "source": [
    "#71-create a range for floating numbers\n",
    "def frange(x, y, jump=1.0):\n",
    "    i = 0.0\n",
    "    x = float(x)  # Prevent yielding integers.\n",
    "    y = float(y)  # Comparison converts y to float every time otherwise.\n",
    "    x0 = x\n",
    "    epsilon = jump / 2.0\n",
    "    yield x  # yield always first value\n",
    "    while x + epsilon < y:\n",
    "        i += 1.0\n",
    "        x = x0 + i * jump\n",
    "        yield x\n",
    "\n",
    "print(list(frange(0.0, 1.0, 0.1)))"
   ]
  },
  {
   "cell_type": "code",
   "execution_count": 9,
   "id": "60d3c9bf",
   "metadata": {},
   "outputs": [
    {
     "name": "stdout",
     "output_type": "stream",
     "text": [
      "[[1, 2, 3, 4], [12, 13, 14, 5], [11, 16, 15, 6], [10, 9, 8, 7]]\n"
     ]
    }
   ],
   "source": [
    "#73- generate (given an integer n) a square matrix filled with elements from 1 to n raised to the power of 2 in spiral order\n",
    "def generateMatrix(n):\n",
    "    if n<=0:\n",
    "        return []\n",
    "    matrix=[row[:] for row in [[0]*n]*n]\n",
    "    #print(matrix)\n",
    "    \n",
    "    row_st=0\n",
    "    row_ed=n-1\n",
    "    \n",
    "    col_st=0\n",
    "    col_ed=n-1\n",
    "    current=1\n",
    "    \n",
    "    while(True):\n",
    "        if current>n*n:\n",
    "            break\n",
    "            \n",
    "        for c in range(col_st,col_ed+1):\n",
    "            matrix[row_st][c]=current\n",
    "            current+=1\n",
    "           # print(current,\"a\")\n",
    "        row_st+=1\n",
    "        \n",
    "        for r in range(row_st,row_ed+1):\n",
    "            matrix[r][col_ed]=current\n",
    "            current+=1\n",
    "           # print(current,\"b\")\n",
    "        col_ed-=1\n",
    "        \n",
    "        for c in range(col_ed,col_st-1,-1):\n",
    "            matrix[row_ed][c]=current\n",
    "            current+=1\n",
    "            #print(current,\"c\")\n",
    "        row_ed-=1\n",
    "        \n",
    "        for r in range(row_ed,row_st-1,-1):\n",
    "            matrix[r][col_st]=current\n",
    "            current+=1\n",
    "            #print(current,\"d\")\n",
    "        col_st+=1\n",
    "    return matrix\n",
    "print(list(generateMatrix(4)))"
   ]
  },
  {
   "cell_type": "code",
   "execution_count": 17,
   "id": "eced7bd0",
   "metadata": {},
   "outputs": [
    {
     "name": "stdout",
     "output_type": "stream",
     "text": [
      "2022-04-09\n"
     ]
    }
   ],
   "source": [
    "#74-select a random date in the current year\n",
    "from datetime import date\n",
    "import random\n",
    "\n",
    "start_dt = date.today().replace(day=1, month=1).toordinal()\n",
    "end_dt = date.today().toordinal()\n",
    "random_day = date.fromordinal(random.randint(start_dt, end_dt))\n",
    "print(random_day)\n",
    "#print(random(date))"
   ]
  },
  {
   "cell_type": "code",
   "execution_count": 18,
   "id": "c46ed689",
   "metadata": {},
   "outputs": [
    {
     "name": "stdout",
     "output_type": "stream",
     "text": [
      "Input number of points.> 2\n",
      "Input point (eg. 1,1)A> 1,2\n",
      "Input point (eg. 1,1)B> 3,4\n",
      "Distance matrix no. 1: \n",
      "[0.0, 2.83]\n",
      "[2.83, 0.0]\n",
      "Cluster is : [AB]\n"
     ]
    }
   ],
   "source": [
    "#75-calculate clusters using Hierarchical Clustering method\n",
    "import math\n",
    "\n",
    "def distance(a,b):\n",
    "    x=float(a[0])-float(b[0])\n",
    "    x=x*x\n",
    "    y=float(a[1])-float(b[1])\n",
    "    y=y*y\n",
    "    dist=round(math.sqrt(x+y),2)\n",
    "    return dist\n",
    "\n",
    "def minimum(matrix):\n",
    "    p=[0,0]\n",
    "    mn=1000\n",
    "    for i in range(0,len(matrix)):        \n",
    "        for j in range(0,len(matrix[i])):            \n",
    "            if (matrix[i][j]>0 and matrix[i][j]<mn):\n",
    "                mn=matrix[i][j]\n",
    "                p[0]=i\n",
    "                p[1]=j\n",
    "    return p \n",
    "            \n",
    "def newpoint(pt):\n",
    "    x=float(pt[0][0])+float(pt[1][0])\n",
    "    x=x/2\n",
    "    y=float(pt[0][1])+float(pt[1][1])\n",
    "    y=y/2\n",
    "    midpoint=[x,y]\n",
    "    return midpoint\n",
    "\n",
    "if __name__ == '__main__':    \n",
    "    n=int(input(\"Input number of points.> \"))\n",
    "    points=list()\n",
    "    outline='['\n",
    "    i=0\n",
    "\n",
    "    while(i<n):\n",
    "        s=input(\"Input point (eg. 1,1)\"+chr(65+i)+\"> \")\n",
    "        c=s.split(\",\")\n",
    "        points.append(c)\n",
    "        i=i+1\n",
    "\n",
    "    names={}\n",
    "\n",
    "    for i in range(0,len(points)):\n",
    "        names[str(points[i])]=chr(65+i)\n",
    "    l=0\n",
    "    while(len(points)>1):\n",
    "        l=l+1\n",
    "        matrix=list()\n",
    "        print('Distance matrix no. '+str(l)+': ')\n",
    "        for i in range(0,len(points)):\n",
    "            m=[]\n",
    "            for j in range(0,len(points)):\n",
    "                m.append(0)\n",
    "            for j in range(0,len(points)):\n",
    "                m[j]=distance(points[i],points[j])\n",
    "            print(str(m))\n",
    "            matrix.append(m)\n",
    "        \n",
    "        m=minimum(matrix)\n",
    "        pts=list()\n",
    "        p1=points[m[0]]\n",
    "        pts.append(p1)\n",
    "        points.remove(p1)\n",
    "        p2=points[m[1]-1]\n",
    "        pts.append(p2)\n",
    "        points.remove(p2)   \n",
    "        midpoint=newpoint(pts)\n",
    "        points.append(midpoint)    \n",
    "        c1=names.pop(str(p1))\n",
    "        c2=names.pop(str(p2))\n",
    "        names[str(midpoint)]=\"[\"+str(c1)+str(c2)+\"]\"    \n",
    "        outline=names[str(midpoint)]\n",
    "        \n",
    "    print(\"Cluster is :\",names[str(midpoint)])"
   ]
  },
  {
   "cell_type": "code",
   "execution_count": 24,
   "id": "124a1414",
   "metadata": {},
   "outputs": [
    {
     "name": "stdout",
     "output_type": "stream",
     "text": [
      "{1, 2, 5, 10, 50, 25}\n"
     ]
    },
    {
     "data": {
      "text/plain": [
       "50"
      ]
     },
     "execution_count": 24,
     "metadata": {},
     "output_type": "execute_result"
    }
   ],
   "source": [
    "#76-implement Euclidean Algorithm to compute the greatest common divisor\n",
    "def divisor(n):\n",
    "    div_set=set()\n",
    "    for i in range(1,int(math.sqrt(n))+1):\n",
    "        if n%i==0:\n",
    "            div_set.add(n//i)\n",
    "            div_set.add(i)\n",
    "    return div_set\n",
    "\n",
    "def euc_gcd(num1,num2):\n",
    "    n1=set()\n",
    "    n2=set()\n",
    "    n1=divisor(num1)\n",
    "    n2=divisor(num2)\n",
    "    \n",
    "    return(max(n1.intersection(n2)))\n",
    "\n",
    "print(divisor(50))\n",
    "euc_gcd(50,100)"
   ]
  },
  {
   "cell_type": "code",
   "execution_count": 26,
   "id": "0efad447",
   "metadata": {},
   "outputs": [
    {
     "name": "stdout",
     "output_type": "stream",
     "text": [
      "12\n"
     ]
    }
   ],
   "source": [
    "#76-\n",
    "def euclid_gcd(a,b):\n",
    "    if b==0:\n",
    "        return a\n",
    "    else:\n",
    "        return euclid_gcd(b,a%b)\n",
    "    \n",
    "print(euclid_gcd(48,60))"
   ]
  },
  {
   "cell_type": "code",
   "execution_count": 27,
   "id": "4a1e69a0",
   "metadata": {},
   "outputs": [
    {
     "name": "stdout",
     "output_type": "stream",
     "text": [
      "(0, 0.0, 100.0)\n",
      "(120.0, 100.0, 84.31372549019608)\n"
     ]
    }
   ],
   "source": [
    "#77-convert RGB color to HSV color\n",
    "def rgb_to_hsv(r, g, b):\n",
    "    r, g, b = r/255.0, g/255.0, b/255.0\n",
    "    mx = max(r, g, b)\n",
    "    mn = min(r, g, b)\n",
    "    df = mx-mn\n",
    "    if mx == mn:\n",
    "        h = 0\n",
    "    elif mx == r:\n",
    "        h = (60 * ((g-b)/df) + 360) % 360\n",
    "    elif mx == g:\n",
    "        h = (60 * ((b-r)/df) + 120) % 360\n",
    "    elif mx == b:\n",
    "        h = (60 * ((r-g)/df) + 240) % 360\n",
    "    if mx == 0:\n",
    "        s = 0\n",
    "    else:\n",
    "        s = (df/mx)*100\n",
    "    v = mx*100\n",
    "    return h, s, v\n",
    "\n",
    "print(rgb_to_hsv(255, 255, 255))\n",
    "print(rgb_to_hsv(0, 215, 0))"
   ]
  },
  {
   "cell_type": "code",
   "execution_count": 33,
   "id": "9a73bdad",
   "metadata": {},
   "outputs": [
    {
     "name": "stdout",
     "output_type": "stream",
     "text": [
      "[9, 16, 25, 36, 49, 64, 81, 100]\n"
     ]
    }
   ],
   "source": [
    "#78-perfect squares between two given numbers\n",
    "n1=3\n",
    "n2=100\n",
    "sq=[]\n",
    "for i in range(n1,int(math.sqrt(n2))+1):\n",
    "    sq.append(i*i)\n",
    "print(sq)"
   ]
  },
  {
   "cell_type": "code",
   "execution_count": 34,
   "id": "d090fe4c",
   "metadata": {},
   "outputs": [
    {
     "name": "stdout",
     "output_type": "stream",
     "text": [
      "[1, 4, 9, 16, 25]\n"
     ]
    }
   ],
   "source": [
    "def squares(a, b):\n",
    "    lists=[]\n",
    "    # Traverse through all numbers\n",
    "    for i in range (a,b+1):\n",
    "        j = 1;\n",
    "        while j*j <= i:\n",
    "            if j*j == i:\n",
    "                 lists.append(i)  \n",
    "            j = j+1\n",
    "        i = i+1\n",
    "    return lists\n",
    "print(squares(1, 25))"
   ]
  },
  {
   "cell_type": "code",
   "execution_count": 35,
   "id": "9eb586ce",
   "metadata": {},
   "outputs": [
    {
     "name": "stdout",
     "output_type": "stream",
     "text": [
      "Euclidean distance from x to y:  4.69041575982343\n"
     ]
    }
   ],
   "source": [
    "#79- compute Euclidean distance\n",
    "x=(5,6,7)\n",
    "y=(8,9,9)\n",
    "\n",
    "distance=math.sqrt(sum([(a-b)**2 for a,b in zip(x,y)]))\n",
    "print(\"Euclidean distance from x to y: \",distance)"
   ]
  },
  {
   "cell_type": "code",
   "execution_count": 36,
   "id": "a71b3c94",
   "metadata": {},
   "outputs": [
    {
     "name": "stdout",
     "output_type": "stream",
     "text": [
      "1 --> 0x01\n",
      "2 --> 0x02\n",
      "3 --> 0x03\n",
      "4 --> 0x04\n",
      "5 --> 0x05\n",
      "6 --> 0x06\n",
      "7 --> 0x07\n",
      "8 --> 0x08\n",
      "9 --> 0x09\n"
     ]
    }
   ],
   "source": [
    "#80- convert an integer to a 2 byte Hex value\n",
    "for i in range(1, 10):\n",
    "    print(i,'-->',format(i, '#04x'))"
   ]
  },
  {
   "cell_type": "code",
   "execution_count": null,
   "id": "a940e560",
   "metadata": {},
   "outputs": [],
   "source": []
  }
 ],
 "metadata": {
  "kernelspec": {
   "display_name": "Python 3 (ipykernel)",
   "language": "python",
   "name": "python3"
  },
  "language_info": {
   "codemirror_mode": {
    "name": "ipython",
    "version": 3
   },
   "file_extension": ".py",
   "mimetype": "text/x-python",
   "name": "python",
   "nbconvert_exporter": "python",
   "pygments_lexer": "ipython3",
   "version": "3.9.7"
  }
 },
 "nbformat": 4,
 "nbformat_minor": 5
}
