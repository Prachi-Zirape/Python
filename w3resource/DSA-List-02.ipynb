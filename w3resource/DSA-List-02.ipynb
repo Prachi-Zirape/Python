{
 "cells": [
  {
   "cell_type": "code",
   "execution_count": 3,
   "id": "5795de9a",
   "metadata": {},
   "outputs": [
    {
     "name": "stdout",
     "output_type": "stream",
     "text": [
      "[1, 2, 3, 4] ['emp1', 'emp2', 'emp3', 'emp4']\n"
     ]
    }
   ],
   "source": [
    "#date-06/26/22\n",
    "#63- insert a given string at the beginning of all items in a list\n",
    "#input-Sample list : [1,2,3,4], string : emp\n",
    "#output-['emp1', 'emp2', 'emp3', 'emp4']\n",
    "#s1-for loop\n",
    "#format method\n",
    "def lstReplStr():\n",
    "    lst=[1,2,3,4]\n",
    "    res_lst=[]\n",
    "    str1='emp'\n",
    "    str2=''\n",
    "    for i in lst:\n",
    "        str2=str1+(str(i))\n",
    "        #print(str2)\n",
    "        res_lst.append(str2)\n",
    "    print(lst,res_lst)\n",
    "#print('n')\n",
    "lstReplStr()"
   ]
  },
  {
   "cell_type": "code",
   "execution_count": 4,
   "id": "3a713614",
   "metadata": {},
   "outputs": [
    {
     "name": "stdout",
     "output_type": "stream",
     "text": [
      "['emp1', 'emp2', 'emp3', 'emp4']\n"
     ]
    }
   ],
   "source": [
    "#formmat method\n",
    "num=[1,2,3,4]\n",
    "print(['emp{0}'.format(i) for i in num])"
   ]
  },
  {
   "cell_type": "code",
   "execution_count": 5,
   "id": "c31cd38e",
   "metadata": {},
   "outputs": [
    {
     "name": "stdout",
     "output_type": "stream",
     "text": [
      "[1, 2, 3, 4]\n",
      "[1, 2, 3, 4, 1, 2, 3, 4]\n"
     ]
    }
   ],
   "source": [
    "#64-iterate over two lists simultaneously\n",
    "#tc1=2 lists are same length\n",
    "#tc2-2 lists are of different length\n",
    "\n",
    "lst1=[1,2,3,4]\n",
    "lst2=[1,2,3,4,1,2,3,4]\n",
    "for i in lst1,lst2:\n",
    "    print(i)"
   ]
  },
  {
   "cell_type": "code",
   "execution_count": 12,
   "id": "5373cc9b",
   "metadata": {},
   "outputs": [
    {
     "name": "stdout",
     "output_type": "stream",
     "text": [
      "1 Red\n",
      "2 Blue\n",
      "3 Green\n",
      "4 -1\n"
     ]
    }
   ],
   "source": [
    "#zip method\n",
    "import itertools\n",
    "num=[1,2,3,4]\n",
    "color=['Red','Blue','Green']\n",
    "for (a,b) in itertools.zip_longest(num,color,fillvalue=-1):\n",
    "    print(a,b)"
   ]
  },
  {
   "cell_type": "code",
   "execution_count": 16,
   "id": "8bb7204e",
   "metadata": {},
   "outputs": [
    {
     "name": "stdout",
     "output_type": "stream",
     "text": [
      "if [3, 4, 1, 0, 0, 6, 2, 0, 6, 7, 6, 0, 0, 0, 9, 10, 7, 4, 4, 5, 3, 0, 0, 2, 9, 7, 0] -2 2\n",
      "if [3, 4, 1, 7, 0, 6, 2, 0, 6, 7, 6, 0, 0, 0, 9, 10, 7, 4, 4, 5, 3, 0, 0, 2, 9, 0, 0] -3 3\n",
      "if [3, 4, 1, 7, 9, 6, 2, 0, 6, 7, 6, 0, 0, 0, 9, 10, 7, 4, 4, 5, 3, 0, 0, 2, 0, 0, 0] -4 4\n",
      "if [3, 4, 1, 7, 9, 6, 2, 2, 6, 7, 6, 0, 0, 0, 9, 10, 7, 4, 4, 5, 3, 0, 0, 0, 0, 0, 0] -5 7\n",
      "[3, 4, 1, 7, 9, 6, 2, 2, 6, 7, 6, 0, 0, 0, 9, 10, 7, 4, 4, 5, 3, 0, 0, 0, 0, 0, 0] -6 11\n",
      "[3, 4, 1, 7, 9, 6, 2, 2, 6, 7, 6, 0, 0, 0, 9, 10, 7, 4, 4, 5, 3, 0, 0, 0, 0, 0, 0] -7 11\n",
      "else [3, 4, 1, 7, 9, 6, 2, 2, 6, 7, 6, 3, 0, 0, 9, 10, 7, 4, 4, 5, 0, 0, 0, 0, 0, 0, 0] -8 11\n",
      "if [3, 4, 1, 7, 9, 6, 2, 2, 6, 7, 6, 3, 5, 0, 9, 10, 7, 4, 4, 0, 0, 0, 0, 0, 0, 0, 0] -9 12\n",
      "if [3, 4, 1, 7, 9, 6, 2, 2, 6, 7, 6, 3, 5, 4, 9, 10, 7, 4, 0, 0, 0, 0, 0, 0, 0, 0, 0] -10 13\n",
      "if [3, 4, 1, 7, 9, 6, 2, 2, 6, 7, 6, 3, 5, 4, 9, 10, 7, 0, 4, 0, 0, 0, 0, 0, 0, 0, 0] -11 18\n",
      "if [3, 4, 1, 7, 9, 6, 2, 2, 6, 7, 6, 3, 5, 4, 9, 10, 0, 0, 4, 7, 0, 0, 0, 0, 0, 0, 0] -12 19\n",
      "if [3, 4, 1, 7, 9, 6, 2, 2, 6, 7, 6, 3, 5, 4, 9, 0, 0, 0, 4, 7, 10, 0, 0, 0, 0, 0, 0] -13 20\n",
      "if [3, 4, 1, 7, 9, 6, 2, 2, 6, 7, 6, 3, 5, 4, 0, 0, 0, 0, 4, 7, 10, 9, 0, 0, 0, 0, 0] -14 21\n",
      "if [3, 4, 1, 7, 9, 6, 2, 2, 6, 7, 6, 3, 5, 0, 0, 0, 0, 0, 4, 7, 10, 9, 4, 0, 0, 0, 0] -15 22\n",
      "if [3, 4, 1, 7, 9, 6, 2, 2, 6, 7, 6, 3, 0, 0, 0, 0, 0, 0, 4, 7, 10, 9, 4, 5, 0, 0, 0] -16 23\n",
      "if [3, 4, 1, 7, 9, 6, 2, 2, 6, 7, 6, 0, 0, 0, 0, 0, 0, 0, 4, 7, 10, 9, 4, 5, 3, 0, 0] -17 24\n",
      "if [3, 4, 1, 7, 9, 6, 2, 2, 6, 7, 0, 0, 0, 0, 0, 0, 0, 0, 4, 7, 10, 9, 4, 5, 3, 6, 0] -18 25\n",
      "if [3, 4, 1, 7, 9, 6, 2, 2, 6, 0, 0, 0, 0, 0, 0, 0, 0, 0, 4, 7, 10, 9, 4, 5, 3, 6, 7] -19 26\n",
      "[3, 4, 1, 7, 9, 6, 2, 2, 6, 0, 0, 0, 0, 0, 0, 0, 0, 0, 4, 7, 10, 9, 4, 5, 3, 6, 7]\n"
     ]
    }
   ],
   "source": [
    "#Date-6/28/22\n",
    "#65-move all zero digits to end of a given list of numbers\n",
    "#Original list:[3, 4, 0, 0, 0, 6, 2, 0, 6, 7, 6, 0, 0, 0, 9, 10, 7, 4, 4, 5, 3, 0, 0, 2, 9, 7, 1]\n",
    "#result=[3, 4, 6, 2, 6, 7, 6, 9, 10, 7, 4, 4, 5, 3, 2, 9, 7, 1, 0, 0, 0, 0, 0, 0, 0, 0, 0]\n",
    "\n",
    "#s1-swapping : This is inefficient way giving up\n",
    "#s2-sorting in reverse\n",
    "def zeroEnd():\n",
    "    lst=[3, 4, 0, 0, 0, 6, 2, 0, 6, 7, 6, 0, 0, 0, 9, 10, 7, 4, 4, 5, 3, 0, 0, 2, 9, 7, 1]\n",
    "    #lst=[ 7, 6, 0, 0, 0, 9, 10, 7, 4, 4, 5, 3, 0, 0, 2, 9, 0, 0]\n",
    "    n=-1\n",
    "    for i in range(len(lst)):\n",
    "        if lst[i]==0 and lst[n]!=0:\n",
    "            temp=lst[i]\n",
    "            lst[i]=lst[n]\n",
    "            lst[n]=temp\n",
    "            n-=1\n",
    "            print(\"if\",lst,n,i)\n",
    "        elif lst[i]==0 and lst[n]==0:\n",
    "            while lst[n]==0:\n",
    "                n-=1\n",
    "                print(lst,n,i)\n",
    "            temp=lst[i]\n",
    "            lst[i]=lst[n]\n",
    "            lst[n]=temp\n",
    "            n-=1\n",
    "            print(\"else\",lst,n,i)   \n",
    "        #elif \n",
    "    print(lst)\n",
    "zeroEnd()"
   ]
  },
  {
   "cell_type": "code",
   "execution_count": 25,
   "id": "902f37ac",
   "metadata": {},
   "outputs": [
    {
     "name": "stdout",
     "output_type": "stream",
     "text": [
      "[3, 4, 6, 2, 6, 7, 6, 9, 10, 7, 4, 4, 5, 3, 2, 9, 7, 1, 0, 0, 0, 0, 0, 0, 0, 0, 0]\n"
     ]
    }
   ],
   "source": [
    "#s1-lambda function\n",
    "#s2-list comprehension\n",
    "#s3-removing and appending zeros\n",
    "#s1-lambda-\n",
    "lst=[3, 4, 0, 0, 0, 6, 2, 0, 6, 7, 6, 0, 0, 0, 9, 10, 7, 4, 4, 5, 3, 0, 0, 2, 9, 7, 1]\n",
    "#lst=filter(lambda x: x!=0,lst)+[0]*lst.count(0)\n",
    "x=[i for i in lst if i!=0]\n",
    "y=[i for i in lst if i==0]\n",
    "x.extend(y)\n",
    "print(x)"
   ]
  },
  {
   "cell_type": "code",
   "execution_count": 26,
   "id": "a3309c68",
   "metadata": {},
   "outputs": [
    {
     "name": "stdout",
     "output_type": "stream",
     "text": [
      "[3, 4, 6, 2, 6, 7, 6, 9, 10, 7, 4, 4, 5, 3, 2, 9, 7, 1, 0, 0, 0, 0, 0, 0, 0, 0, 0]\n"
     ]
    }
   ],
   "source": [
    "#removing and appending zeros\n",
    "lst=[3, 4, 0, 0, 0, 6, 2, 0, 6, 7, 6, 0, 0, 0, 9, 10, 7, 4, 4, 5, 3, 0, 0, 2, 9, 7, 1]\n",
    "for i in lst:\n",
    "    if i==0:\n",
    "        lst.remove(i)\n",
    "        lst.append(i)\n",
    "print(lst)"
   ]
  },
  {
   "cell_type": "code",
   "execution_count": 34,
   "id": "3e6aa688",
   "metadata": {},
   "outputs": [
    {
     "name": "stdout",
     "output_type": "stream",
     "text": [
      "[18, 0, 4, 0, 0, 6] 0 1 18 0\n",
      "[18, 4, 0, 0, 0, 6] 2 2 0 0\n",
      "[18, 4, 6, 0, 0, 0] 5 3 0 0\n",
      "[18, 4, 6, 0, 0, 0]\n"
     ]
    }
   ],
   "source": [
    "#list comprehension\n",
    "arr = [18, 0, 4, 0, 0, 6]\n",
    "count = 0\n",
    "for i in range(len(arr)):\n",
    "    if arr[i] != 0:\n",
    "        arr[i], arr[count] = arr[count], arr[i]\n",
    "        count += 1\n",
    "        print(arr,i,count,arr[i],arr[count])\n",
    "print(arr)"
   ]
  },
  {
   "cell_type": "code",
   "execution_count": 37,
   "id": "b871ae5d",
   "metadata": {},
   "outputs": [
    {
     "name": "stdout",
     "output_type": "stream",
     "text": [
      "[7, 8, 99]\n"
     ]
    }
   ],
   "source": [
    "#Python program to find the list in a list of lists whose sum of elements is the highest.\n",
    "#s1-for loops\n",
    "#s2-max method\n",
    "lst=[[1,2,3], [4,5,6], [10,11,12], [7,8,99]]\n",
    "sum=0\n",
    "max_sum=0\n",
    "for i in lst:\n",
    "    sum=0\n",
    "    lst=[]\n",
    "    for j in i:\n",
    "        sum=sum+j\n",
    "        lst.append(j)\n",
    "    if sum>max_sum:\n",
    "        max_sum=sum\n",
    "        max_lst=lst\n",
    "print(max_lst)"
   ]
  },
  {
   "cell_type": "code",
   "execution_count": 42,
   "id": "cd66d8b3",
   "metadata": {},
   "outputs": [
    {
     "name": "stdout",
     "output_type": "stream",
     "text": [
      "No\n"
     ]
    }
   ],
   "source": [
    "#67-Python program to find all the values in a list are greater than a specified number\n",
    "#s1-all method\n",
    "#s2-lambda\n",
    "#s3-for loop\n",
    "lst=[3, 4, 6, 2, 6, 7, 6, 9, 10, 7]\n",
    "n=5\n",
    "if all(lst)>n:\n",
    "    print(\"yass\")\n",
    "else:\n",
    "    print(\"No\")"
   ]
  },
  {
   "cell_type": "code",
   "execution_count": 61,
   "id": "ead68e71",
   "metadata": {},
   "outputs": [
    {
     "name": "stdout",
     "output_type": "stream",
     "text": [
      "0 is False\n"
     ]
    }
   ],
   "source": [
    "#lambda\n",
    "lst=[3, 4, 6, 2, 6, 7, 6, 9, 10, 7]\n",
    "n=99\n",
    "\n",
    "result = lambda x : f\"{x} is True\" if x >all(lst) else f\"{x} is False\"\n",
    "print(result(0))"
   ]
  },
  {
   "cell_type": "code",
   "execution_count": 66,
   "id": "e3f119c6",
   "metadata": {},
   "outputs": [
    {
     "name": "stdout",
     "output_type": "stream",
     "text": [
      "[10, 20, 30, 40, 50, 60]\n",
      "[10, 20, 30, 40, 50, 60, 40, 50, 60]\n",
      "[40, 50, 60, 10, 20, 30]\n"
     ]
    }
   ],
   "source": [
    "#68-Python program to extend a list without append.\n",
    "#s1-extend\n",
    "#s2-+ method\n",
    "#list slicing\n",
    "#s1\n",
    "lst1=[10, 20, 30]\n",
    "lst2=[40, 50, 60]\n",
    "lst1.extend(lst2)\n",
    "print(lst1)\n",
    "#s2\n",
    "lst=lst1+lst2\n",
    "print(lst)\n",
    "\n",
    "#s3\n",
    "x=[10, 20, 30]\n",
    "y=[40, 50, 60]\n",
    "x[:0]=y\n",
    "print(x)"
   ]
  },
  {
   "cell_type": "code",
   "execution_count": 72,
   "id": "573cd5c6",
   "metadata": {},
   "outputs": [
    {
     "ename": "TypeError",
     "evalue": "'list' object cannot be interpreted as an integer",
     "output_type": "error",
     "traceback": [
      "\u001b[1;31m---------------------------------------------------------------------------\u001b[0m",
      "\u001b[1;31mTypeError\u001b[0m                                 Traceback (most recent call last)",
      "\u001b[1;32m~\\AppData\\Local\\Temp/ipykernel_12188/1273686361.py\u001b[0m in \u001b[0;36m<module>\u001b[1;34m\u001b[0m\n\u001b[0;32m      8\u001b[0m         \u001b[1;32mfor\u001b[0m \u001b[0mj\u001b[0m \u001b[1;32min\u001b[0m \u001b[0mlist\u001b[0m\u001b[1;33m[\u001b[0m\u001b[0mi\u001b[0m\u001b[1;33m]\u001b[0m\u001b[1;33m:\u001b[0m\u001b[1;33m\u001b[0m\u001b[1;33m\u001b[0m\u001b[0m\n\u001b[0;32m      9\u001b[0m             \u001b[0mlist\u001b[0m\u001b[1;33m[\u001b[0m\u001b[0mi\u001b[0m\u001b[1;33m]\u001b[0m\u001b[1;33m[\u001b[0m\u001b[0mj\u001b[0m\u001b[1;33m]\u001b[0m \u001b[1;33m=\u001b[0m \u001b[0mset\u001b[0m\u001b[1;33m(\u001b[0m\u001b[1;33m[\u001b[0m\u001b[0mlist\u001b[0m\u001b[1;33m[\u001b[0m\u001b[0mi\u001b[0m\u001b[1;33m]\u001b[0m\u001b[1;33m[\u001b[0m\u001b[0mj\u001b[0m\u001b[1;33m]\u001b[0m\u001b[1;33m]\u001b[0m\u001b[1;33m)\u001b[0m\u001b[1;33m\u001b[0m\u001b[1;33m\u001b[0m\u001b[0m\n\u001b[1;32m---> 10\u001b[1;33m \u001b[0mprint\u001b[0m\u001b[1;33m(\u001b[0m\u001b[0mto_sets\u001b[0m\u001b[1;33m(\u001b[0m\u001b[0mlst\u001b[0m\u001b[1;33m)\u001b[0m\u001b[1;33m)\u001b[0m\u001b[1;33m\u001b[0m\u001b[1;33m\u001b[0m\u001b[0m\n\u001b[0m",
      "\u001b[1;32m~\\AppData\\Local\\Temp/ipykernel_12188/1273686361.py\u001b[0m in \u001b[0;36mto_sets\u001b[1;34m(l)\u001b[0m\n\u001b[0;32m      5\u001b[0m \u001b[0mlst\u001b[0m\u001b[1;33m=\u001b[0m\u001b[1;33m[\u001b[0m\u001b[1;33m[\u001b[0m\u001b[1;36m10\u001b[0m\u001b[1;33m,\u001b[0m \u001b[1;36m20\u001b[0m\u001b[1;33m]\u001b[0m\u001b[1;33m,\u001b[0m \u001b[1;33m[\u001b[0m\u001b[1;36m40\u001b[0m\u001b[1;33m]\u001b[0m\u001b[1;33m,\u001b[0m \u001b[1;33m[\u001b[0m\u001b[1;36m30\u001b[0m\u001b[1;33m,\u001b[0m \u001b[1;36m56\u001b[0m\u001b[1;33m,\u001b[0m \u001b[1;36m25\u001b[0m\u001b[1;33m]\u001b[0m\u001b[1;33m,\u001b[0m \u001b[1;33m[\u001b[0m\u001b[1;36m10\u001b[0m\u001b[1;33m,\u001b[0m \u001b[1;36m20\u001b[0m\u001b[1;33m]\u001b[0m\u001b[1;33m,\u001b[0m \u001b[1;33m[\u001b[0m\u001b[1;36m33\u001b[0m\u001b[1;33m]\u001b[0m\u001b[1;33m,\u001b[0m \u001b[1;33m[\u001b[0m\u001b[1;36m40\u001b[0m\u001b[1;33m]\u001b[0m\u001b[1;33m]\u001b[0m\u001b[1;33m\u001b[0m\u001b[1;33m\u001b[0m\u001b[0m\n\u001b[0;32m      6\u001b[0m \u001b[1;32mdef\u001b[0m \u001b[0mto_sets\u001b[0m\u001b[1;33m(\u001b[0m\u001b[0ml\u001b[0m\u001b[1;33m)\u001b[0m\u001b[1;33m:\u001b[0m\u001b[1;33m\u001b[0m\u001b[1;33m\u001b[0m\u001b[0m\n\u001b[1;32m----> 7\u001b[1;33m     \u001b[1;32mfor\u001b[0m \u001b[0mi\u001b[0m \u001b[1;32min\u001b[0m \u001b[0mrange\u001b[0m\u001b[1;33m(\u001b[0m\u001b[0ml\u001b[0m\u001b[1;33m)\u001b[0m\u001b[1;33m:\u001b[0m \u001b[1;31m#row\u001b[0m\u001b[1;33m\u001b[0m\u001b[1;33m\u001b[0m\u001b[0m\n\u001b[0m\u001b[0;32m      8\u001b[0m         \u001b[1;32mfor\u001b[0m \u001b[0mj\u001b[0m \u001b[1;32min\u001b[0m \u001b[0mlist\u001b[0m\u001b[1;33m[\u001b[0m\u001b[0mi\u001b[0m\u001b[1;33m]\u001b[0m\u001b[1;33m:\u001b[0m\u001b[1;33m\u001b[0m\u001b[1;33m\u001b[0m\u001b[0m\n\u001b[0;32m      9\u001b[0m             \u001b[0mlist\u001b[0m\u001b[1;33m[\u001b[0m\u001b[0mi\u001b[0m\u001b[1;33m]\u001b[0m\u001b[1;33m[\u001b[0m\u001b[0mj\u001b[0m\u001b[1;33m]\u001b[0m \u001b[1;33m=\u001b[0m \u001b[0mset\u001b[0m\u001b[1;33m(\u001b[0m\u001b[1;33m[\u001b[0m\u001b[0mlist\u001b[0m\u001b[1;33m[\u001b[0m\u001b[0mi\u001b[0m\u001b[1;33m]\u001b[0m\u001b[1;33m[\u001b[0m\u001b[0mj\u001b[0m\u001b[1;33m]\u001b[0m\u001b[1;33m]\u001b[0m\u001b[1;33m)\u001b[0m\u001b[1;33m\u001b[0m\u001b[1;33m\u001b[0m\u001b[0m\n",
      "\u001b[1;31mTypeError\u001b[0m: 'list' object cannot be interpreted as an integer"
     ]
    }
   ],
   "source": [
    "#69-Python program to remove duplicates from a list of lists.\n",
    "#s1-append unique values to new list\n",
    "#s2-for loop\n",
    "#s3-conversion in set-does not work this\n",
    "#s4-groupby method\n",
    "lst=[[10, 20], [40], [30, 56, 25], [10, 20], [33], [40]]\n",
    "def to_sets(l):\n",
    "    for i in range(l): #row\n",
    "        for j in list[i]:\n",
    "            list[i][j] = set([list[i][j]])\n",
    "print(to_sets(lst))"
   ]
  },
  {
   "cell_type": "code",
   "execution_count": 74,
   "id": "528fbf63",
   "metadata": {},
   "outputs": [
    {
     "name": "stdout",
     "output_type": "stream",
     "text": [
      "[[10, 20], [40], [30, 56, 25], [33]]\n"
     ]
    }
   ],
   "source": [
    "#s1-\n",
    "lst=[[10, 20], [40], [30, 56, 25], [10, 20], [33], [40]]\n",
    "res_lst=[]\n",
    "for i in lst:\n",
    "    if i not in res_lst:\n",
    "        res_lst.append(i)\n",
    "print(res_lst)"
   ]
  },
  {
   "cell_type": "code",
   "execution_count": 81,
   "id": "9de0999d",
   "metadata": {},
   "outputs": [
    {
     "name": "stdout",
     "output_type": "stream",
     "text": [
      "[[10, 20], [30, 56, 25], [33], [40]]\n"
     ]
    }
   ],
   "source": [
    "#s4-groupby method\n",
    "import itertools\n",
    "numbers = [[10, 20], [40], [30, 56, 25], [10, 20], [33], [40]]\n",
    "numbers.sort()\n",
    "new_num=list(num for num,_ in itertools.groupby(numbers))\n",
    "print(new_num)"
   ]
  },
  {
   "cell_type": "code",
   "execution_count": 83,
   "id": "bad9cd10",
   "metadata": {},
   "outputs": [
    {
     "name": "stdout",
     "output_type": "stream",
     "text": [
      "['abcd', 'abc', 'acjd']\n"
     ]
    }
   ],
   "source": [
    "#70-Python program to find the items starts with specific character from a given list\n",
    "#s1-for loops\n",
    "lst=['abcd', 'abc', 'bcd', 'bkie', 'cder', 'cdsw', 'sdfsd', 'dagfa', 'acjd']\n",
    "res=[]\n",
    "for i in lst:\n",
    "    if i[0]=='a':\n",
    "        res.append(i)\n",
    "print(res)"
   ]
  },
  {
   "cell_type": "code",
   "execution_count": 85,
   "id": "40eb8379",
   "metadata": {},
   "outputs": [
    {
     "name": "stdout",
     "output_type": "stream",
     "text": [
      "['abcd', 'abc', 'acjd']\n"
     ]
    }
   ],
   "source": [
    "#s2-startwith method\n",
    "def test(lst,char):\n",
    "    result=[i for i in lst if i.startswith(char)]\n",
    "    return result\n",
    "txt=['abcd', 'abc', 'bcd', 'bkie', 'cder', 'cdsw', 'sdfsd', 'dagfa', 'acjd']\n",
    "char='a'\n",
    "print(test(txt,char))"
   ]
  },
  {
   "cell_type": "code",
   "execution_count": 89,
   "id": "00ebfc69",
   "metadata": {},
   "outputs": [
    {
     "name": "stdout",
     "output_type": "stream",
     "text": [
      "0 2\n"
     ]
    }
   ],
   "source": [
    "#71-Python program to check whether all dictionaries in a list are empty or not.\n",
    "#s1-check length of dictionaries\n",
    "lst1=[{},{},{}]\n",
    "lst2=[{1,2},{},{}]\n",
    "\n",
    "print(len(lst1[0]),len(lst2[0]))"
   ]
  },
  {
   "cell_type": "code",
   "execution_count": 1,
   "id": "fc18a063",
   "metadata": {},
   "outputs": [
    {
     "name": "stdout",
     "output_type": "stream",
     "text": [
      "True\n",
      "False\n"
     ]
    }
   ],
   "source": [
    "#s2-all method\n",
    "lst1=[{},{},{}]\n",
    "lst2=[{1,2},{},{}]\n",
    "print(all(not d for d in lst1))\n",
    "print(all(not d for d in lst2))"
   ]
  },
  {
   "cell_type": "code",
   "execution_count": 10,
   "id": "b0e84da6",
   "metadata": {},
   "outputs": [
    {
     "name": "stdout",
     "output_type": "stream",
     "text": [
      "[0, 10, 20, 30, 40, 50, 60, 70, 80, 90, 100, 110, 120]\n"
     ]
    }
   ],
   "source": [
    "#72-Python program to flatten a given nested list structure\n",
    "#s1-trace lists with for loops and append content to new list\n",
    "lst=[0, 10, [20, 30], 40, 50, [60, 70, 80], [90, 100, 110, 120]]\n",
    "res_lst=[]\n",
    "for i in lst:\n",
    "    if type(i) is list:\n",
    "        for j in i:\n",
    "            res_lst.append(j)\n",
    "    else:\n",
    "        res_lst.append(i)\n",
    "print(res_lst)"
   ]
  },
  {
   "cell_type": "code",
   "execution_count": 14,
   "id": "4aa956cd",
   "metadata": {},
   "outputs": [
    {
     "name": "stdout",
     "output_type": "stream",
     "text": [
      "[0, 10, 20, 30, 40, 50, 60, 70, 80, 90, 100, 110, 120]\n"
     ]
    }
   ],
   "source": [
    "#s2-list comprehension-works only for nested lists not for mixture of elements and list inside list\n",
    "#s3-using recursion\n",
    "lst=[0, 10, [20, 30], 40, 50, [60, 70, 80], [90, 100, 110, 120]]\n",
    "res_lst=[]\n",
    "def remList(l):\n",
    "    for i in l:\n",
    "        if type(i) == list:\n",
    "            remList(i)\n",
    "        else:\n",
    "            res_lst.append(i)\n",
    "    #return res_lst\n",
    "    #print(res_lst)\n",
    "remList(lst)\n",
    "print(res_lst)"
   ]
  },
  {
   "cell_type": "code",
   "execution_count": 17,
   "id": "06437743",
   "metadata": {},
   "outputs": [
    {
     "name": "stdout",
     "output_type": "stream",
     "text": [
      "[20, 30, 60, 70, 80, 90, 100, 110, 120]\n"
     ]
    }
   ],
   "source": [
    "#s3-in built functtool method-works only with list into list \n",
    "import functools\n",
    "import operator\n",
    "\n",
    "lst=[[20, 30],[60, 70, 80], [90, 100, 110, 120]]\n",
    "#flatList=functools.reduce(operator.iconcat,lst,[])\n",
    "flatList = functools.reduce(operator.iconcat, lst, [])\n",
    "print(flatList)"
   ]
  },
  {
   "cell_type": "code",
   "execution_count": 19,
   "id": "36cc0fa7",
   "metadata": {},
   "outputs": [
    {
     "name": "stdout",
     "output_type": "stream",
     "text": [
      "Original List: [[11, 22, 33, 44], [55, 66, 77], [88, 99, 100]]\n",
      "Flattened List: [11, 22, 33, 44, 55, 66, 77, 88, 99, 100]\n"
     ]
    }
   ],
   "source": [
    "#s4-chain method\n",
    "import itertools\n",
    "lis = [[11, 22, 33, 44], [55, 66, 77], [88, 99, 100]]\n",
    " \n",
    "flatList = list(itertools.chain(*lis))\n",
    " \n",
    "print(\"Original List:\", lis)\n",
    "print(\"Flattened List:\", flatList)"
   ]
  },
  {
   "cell_type": "code",
   "execution_count": 26,
   "id": "b06d2388",
   "metadata": {},
   "outputs": [
    {
     "name": "stdout",
     "output_type": "stream",
     "text": [
      "[0, 1, 2, 3, 4, 5, 6, 7, 8, 9, 4]\n"
     ]
    }
   ],
   "source": [
    "#73-remove consecutive duplicates of a given list\n",
    "#s1-groupby method\n",
    "#s2-convert list to a set-not an option as we are removing ONLY CONSECUTIVE dupes\n",
    "#s3-for loop\n",
    "def remDupes():\n",
    "    lst=[0, 0, 1, 2, 3, 4, 4, 5, 6, 6, 6, 7, 8, 9, 4, 4]\n",
    "    res=list(key for key,group in itertools.groupby(lst))\n",
    "    print(res)\n",
    "remDupes()"
   ]
  },
  {
   "cell_type": "code",
   "execution_count": 31,
   "id": "91af9e0d",
   "metadata": {},
   "outputs": [
    {
     "name": "stdout",
     "output_type": "stream",
     "text": [
      "[[0, 0], [1], [2], [3], [4, 4], [5], [6, 6, 6], [7], [8], [9], [4, 4]]\n"
     ]
    }
   ],
   "source": [
    "#74-program to pack consecutive duplicates of a given list elements into sublists\n",
    "#s1-for loops with count\n",
    "#s2-group method\n",
    "import itertools\n",
    "def packDupes():\n",
    "    lst=[0, 0, 1, 2, 3, 4, 4, 5, 6, 6, 6, 7, 8, 9, 4, 4]\n",
    "    res=[list(group) for key,group in itertools.groupby(lst)]\n",
    "    print(res)\n",
    "packDupes()"
   ]
  },
  {
   "cell_type": "code",
   "execution_count": 34,
   "id": "1e60e1e9",
   "metadata": {},
   "outputs": [
    {
     "name": "stdout",
     "output_type": "stream",
     "text": [
      "[[2, 1], [1, 2], [1, 3], [1, 4], [1, 4.3], [1, 5], [1, 1]]\n"
     ]
    }
   ],
   "source": [
    "#75-create a list reflecting the run-length encoding from a given list of integers or a given list of characters.\n",
    "#s1-groupby method\n",
    "#s2-using dictionary\n",
    "import itertools\n",
    "n_list = [1,1,2,3,4,4.3,5, 1]\n",
    "def encode_lst(lst):\n",
    "    return [[len(list(group)),key] for key,group in itertools.groupby(lst)]\n",
    "print(encode_lst(n_list))"
   ]
  },
  {
   "cell_type": "code",
   "execution_count": 14,
   "id": "843bce12",
   "metadata": {},
   "outputs": [
    {
     "name": "stdout",
     "output_type": "stream",
     "text": [
      "w5a3d2e1x5\n"
     ]
    }
   ],
   "source": [
    "#Date-6/30/22\n",
    "#s2-dictionary method\n",
    "from collections import OrderedDict\n",
    "def runLengthEncoding(inputs):\n",
    "    dict=OrderedDict.fromkeys(input,0)\n",
    "    for ch in inputs:\n",
    "        dict[ch]+=1########interesting DICT counts char without if condition\n",
    "       # print(\"D\",dict[ch])\n",
    "        #list[ch]+=1\n",
    "        #print(\"L\",list[ch])\n",
    "        #print(dict[ch],ch)\n",
    "    output=\"\"\n",
    "    for key,value in dict.items():\n",
    "        output=output+key+str(value)\n",
    "    return output\n",
    "input=\"wwwwaaadexxdxxxw\"\n",
    "print (runLengthEncoding(input))      "
   ]
  },
  {
   "cell_type": "code",
   "execution_count": 15,
   "id": "c3ee347b",
   "metadata": {},
   "outputs": [
    {
     "name": "stdout",
     "output_type": "stream",
     "text": [
      "1A4B8C1A1B\n"
     ]
    }
   ],
   "source": [
    "#s3-2 while or for loops\n",
    "def encode(message):\n",
    "    i=0\n",
    "    encoded_message=\"\"\n",
    "    while(i<=len(message)-1):\n",
    "        count=1\n",
    "        ch=message[i]\n",
    "        j=i\n",
    "        while(j<len(message)-1):\n",
    "            if (message[j]==message[j+1]):\n",
    "                count+=1\n",
    "                j=j+1\n",
    "            else:\n",
    "                break\n",
    "        encoded_message=encoded_message+str(count)+ch\n",
    "        i=j+1\n",
    "    return encoded_message\n",
    "print(encode(\"ABBBBCCCCCCCCAB\"))"
   ]
  },
  {
   "cell_type": "code",
   "execution_count": 43,
   "id": "11bba840",
   "metadata": {},
   "outputs": [
    {
     "name": "stdout",
     "output_type": "stream",
     "text": [
      "[[2, 1], 2, 3, [2, 4], 5, 1]\n"
     ]
    }
   ],
   "source": [
    "#76-create a list reflecting the modified run-length encoding from a given list of integers or a given list of characters\n",
    "#Original list:[1, 1, 2, 3, 4, 4, 5, 1]\n",
    "#modified RLE-[[2, 1], 2, 3, [2, 4], 5, 1]\n",
    "#s1-2 while loops\n",
    "#s2-dicitonary+list combo\n",
    "#s3-recursion\n",
    "#s2-dictionary solution\n",
    "from itertools import groupby\n",
    "def modified_encode(lst):\n",
    "    def ctr_ele(el):\n",
    "        if len(el)>1:return[len(el),el[0]]\n",
    "        else: return el[0]\n",
    "    return[ctr_ele(list(group)) for key,group in groupby(lst)]\n",
    "n_list = [1,1,2,3,4,4,5, 1]\n",
    "print(modified_encode(n_list))"
   ]
  },
  {
   "cell_type": "code",
   "execution_count": 52,
   "id": "050f6d9e",
   "metadata": {},
   "outputs": [
    {
     "name": "stdout",
     "output_type": "stream",
     "text": [
      "[1, 1, 2, 3, 4, 4, 5, 1]\n"
     ]
    }
   ],
   "source": [
    "#77-decode a run-length encoded given list.\n",
    "#s1-2 for loops with type(i)==lst or isinstance(list)\n",
    "#input-[[2, 1], 2, 3, [2, 4], 5, 1]\n",
    "#output-[1, 1, 2, 3, 4, 4, 5, 1]\n",
    "def decode_lst(lst):\n",
    "    op_lst=[]\n",
    "    for i in lst:\n",
    "        if type(i)==list:\n",
    "            count=i[0]\n",
    "            num=i[1]\n",
    "            for j in range(count):\n",
    "                op_lst.append(num)\n",
    "        else:\n",
    "            op_lst.append(i)\n",
    "    print(op_lst)\n",
    "ip_lst=[[2, 1], 2, 3, [2, 4], 5, 1]\n",
    "decode_lst(ip_lst)"
   ]
  },
  {
   "cell_type": "code",
   "execution_count": 57,
   "id": "ebdd989a",
   "metadata": {},
   "outputs": [
    {
     "name": "stdout",
     "output_type": "stream",
     "text": [
      "[[1, 1, 2], [3, 4, 4, 5, 1]]\n"
     ]
    }
   ],
   "source": [
    "#78- program to split a given list into two parts where the length of the first part of the list is given\n",
    "#s1-list licing\n",
    "#s2-for loop+counting\n",
    "lst=[1, 1, 2, 3, 4, 4, 5, 1]\n",
    "n=3\n",
    "op_lst=[lst[:n],lst[n:]]\n",
    "print(op_lst)"
   ]
  },
  {
   "cell_type": "code",
   "execution_count": 61,
   "id": "528ca83c",
   "metadata": {},
   "outputs": [
    {
     "ename": "TypeError",
     "evalue": "list indices must be integers or slices, not list",
     "output_type": "error",
     "traceback": [
      "\u001b[1;31m---------------------------------------------------------------------------\u001b[0m",
      "\u001b[1;31mTypeError\u001b[0m                                 Traceback (most recent call last)",
      "\u001b[1;32m~\\AppData\\Local\\Temp/ipykernel_1972/3607204617.py\u001b[0m in \u001b[0;36m<module>\u001b[1;34m\u001b[0m\n\u001b[0;32m      4\u001b[0m \u001b[1;32mfor\u001b[0m \u001b[0mi\u001b[0m \u001b[1;32min\u001b[0m \u001b[0mlst\u001b[0m\u001b[1;33m:\u001b[0m\u001b[1;33m\u001b[0m\u001b[1;33m\u001b[0m\u001b[0m\n\u001b[0;32m      5\u001b[0m     \u001b[0mop_lst\u001b[0m\u001b[1;33m=\u001b[0m\u001b[1;33m[\u001b[0m\u001b[1;33m]\u001b[0m\u001b[1;33m\u001b[0m\u001b[1;33m\u001b[0m\u001b[0m\n\u001b[1;32m----> 6\u001b[1;33m     \u001b[0mlst1\u001b[0m\u001b[1;33m=\u001b[0m\u001b[0mop_lst\u001b[0m\u001b[1;33m[\u001b[0m\u001b[1;33m[\u001b[0m\u001b[1;33m]\u001b[0m\u001b[1;33m]\u001b[0m\u001b[1;33m\u001b[0m\u001b[1;33m\u001b[0m\u001b[0m\n\u001b[0m\u001b[0;32m      7\u001b[0m     \u001b[0mlst2\u001b[0m\u001b[1;33m=\u001b[0m\u001b[0mop_lst\u001b[0m\u001b[1;33m[\u001b[0m\u001b[1;33m[\u001b[0m\u001b[1;33m]\u001b[0m\u001b[1;33m]\u001b[0m\u001b[1;33m\u001b[0m\u001b[1;33m\u001b[0m\u001b[0m\n\u001b[0;32m      8\u001b[0m     \u001b[1;32mif\u001b[0m \u001b[0mlen\u001b[0m\u001b[1;33m(\u001b[0m\u001b[0mlst1\u001b[0m\u001b[1;33m)\u001b[0m\u001b[1;33m<\u001b[0m\u001b[0mn\u001b[0m\u001b[1;33m:\u001b[0m\u001b[1;33m\u001b[0m\u001b[1;33m\u001b[0m\u001b[0m\n",
      "\u001b[1;31mTypeError\u001b[0m: list indices must be integers or slices, not list"
     ]
    }
   ],
   "source": [
    "#s2-for loop+couting\n",
    "lst=[1, 1, 2, 3, 4, 4, 5, 1]\n",
    "n=3\n",
    "for i in lst:\n",
    "    op_lst=[]\n",
    "    lst1=op_lst[[]]\n",
    "    lst2=op_lst[[]]\n",
    "    if len(lst1)<n:\n",
    "        op_lst[lst1.append(i)]\n",
    "    else:\n",
    "        op_lst[lst2.append(i)]\n",
    "print(op_lst)"
   ]
  },
  {
   "cell_type": "code",
   "execution_count": 72,
   "id": "3303e4fa",
   "metadata": {},
   "outputs": [
    {
     "name": "stdout",
     "output_type": "stream",
     "text": [
      "[1, 1, 2, 3, 4, 5, 1]\n"
     ]
    }
   ],
   "source": [
    "#79-Python program to remove the K'th element from a given list, print the new list.\n",
    "lst=[1, 1, 2, 3, 4, 4, 5, 1]\n",
    "k=4\n",
    "lst.remove(k)#it removes that element k and not kth element\n",
    "print(lst)"
   ]
  },
  {
   "cell_type": "code",
   "execution_count": 65,
   "id": "ff27db09",
   "metadata": {},
   "outputs": [
    {
     "name": "stdout",
     "output_type": "stream",
     "text": [
      "[1, 1, 2, 4, 4, 5, 1]\n"
     ]
    }
   ],
   "source": [
    "def remove_kth_element(n_list, L):\n",
    "    return  n_list[:L-1] + n_list[L:]\n",
    "print(remove_kth_element([1, 1, 2, 3, 4, 4, 5, 1],4))"
   ]
  },
  {
   "cell_type": "code",
   "execution_count": 74,
   "id": "beed2f4f",
   "metadata": {},
   "outputs": [
    {
     "name": "stdout",
     "output_type": "stream",
     "text": [
      "[1, 1, 2, 3, 4, 4, 5, 1, 2]\n"
     ]
    }
   ],
   "source": [
    "#80-insert an element at a specified position into a given list.\n",
    "lst=[1, 1, 2, 3, 4, 4, 5, 1]\n",
    "lst.insert(8,2)\n",
    "print(lst)"
   ]
  },
  {
   "cell_type": "code",
   "execution_count": 75,
   "id": "1222b305",
   "metadata": {},
   "outputs": [
    {
     "name": "stdout",
     "output_type": "stream",
     "text": [
      "Original list:\n",
      "[1, 1, 2, 3, 4, 4, 5, 1]\n",
      "\n",
      "After inserting an element at kth position in the said list:\n",
      "[1, 1, 12, 2, 3, 4, 4, 5, 1]\n"
     ]
    }
   ],
   "source": [
    "def insert_spec_position(x, n_list, pos):\n",
    "    return n_list[:pos-1]+[x]+n_list[pos-1:]\n",
    "n_list = [1,1,2,3,4,4,5,1]\n",
    "print(\"Original list:\") \n",
    "print(n_list)\n",
    "kth_position = 3\n",
    "x = 12\n",
    "result = insert_spec_position(x, n_list, kth_position)\n",
    "print(\"\\nAfter inserting an element at kth position in the said list:\")\n",
    "print(result)"
   ]
  },
  {
   "cell_type": "code",
   "execution_count": 15,
   "id": "1ba5f529",
   "metadata": {},
   "outputs": [
    {
     "name": "stdout",
     "output_type": "stream",
     "text": [
      "[5, 1, 1]\n"
     ]
    }
   ],
   "source": [
    "#81- extract a given number of randomly selected elements from a given list\n",
    "#s1-random randint method applied to index/elment i\n",
    "#s2-random sample method\n",
    "#input=[1, 1, 2, 3, 4, 4, 5, 1]\n",
    "#output=[4, 4, 1]\n",
    "import random\n",
    "lst=[1, 1, 2, 3, 4, 4, 5, 1]\n",
    "cnt=1\n",
    "n=3\n",
    "res=[]\n",
    "for i in range(len(lst)):\n",
    "    if cnt<=n:\n",
    "        i=(random.randint(0,len(lst)-1))\n",
    "       # print(i,cnt)\n",
    "        res.append(lst[i])\n",
    "        cnt+=1\n",
    "    else:\n",
    "        break\n",
    "print(res)\n"
   ]
  },
  {
   "cell_type": "code",
   "execution_count": 19,
   "id": "d4d24477",
   "metadata": {},
   "outputs": [
    {
     "name": "stdout",
     "output_type": "stream",
     "text": [
      "[1, 5, 1]\n"
     ]
    }
   ],
   "source": [
    "import random\n",
    "def random_select_num(n_lst,n):\n",
    "    return random.sample(n_lst,n)\n",
    "n_lst=[1,1,2,3,4,4,5,1]\n",
    "result=(random_select_num(n_lst,3))\n",
    "print(result)"
   ]
  },
  {
   "cell_type": "code",
   "execution_count": 24,
   "id": "d3295471",
   "metadata": {},
   "outputs": [
    {
     "name": "stdout",
     "output_type": "stream",
     "text": [
      "(1, 2)\n",
      "(1, 3)\n",
      "(2, 3)\n"
     ]
    }
   ],
   "source": [
    "#82-generate the combinations of n distinct objects taken from the elements of a given list\n",
    "#input- [1, 2, 3, 4, 5, 6, 7, 8, 9] \n",
    "#output-[1, 2] [1, 3] [1, 4] [1, 5] .... [7, 8] [7, 9] [8, 9]\n",
    "#s1-combination method\n",
    "from itertools import combinations\n",
    "lst=[1, 2, 3] \n",
    "res=combinations(lst,2)\n",
    "for i in list(res):\n",
    "    print (i)\n",
    "#print(res)"
   ]
  },
  {
   "cell_type": "code",
   "execution_count": 10,
   "id": "f5b043ed",
   "metadata": {},
   "outputs": [
    {
     "name": "stdout",
     "output_type": "stream",
     "text": [
      "[1, 2]\n",
      "[1, 3]\n",
      "[1, 4]\n",
      "[2, 3]\n",
      "[2, 4]\n",
      "[3, 4]\n"
     ]
    }
   ],
   "source": [
    "#s2-work on it again\n",
    "def comb(n,n_lst):\n",
    "    if n<=0:\n",
    "        yield []#when n=0 then return empty list and jump to for loop ahead\n",
    "        return\n",
    "    for i in range(len(n_lst)):\n",
    "        c_num=n_lst[i:i+1]#to get ith element as c_num\n",
    "        #print(\"c=\",c_num)\n",
    "       # print((n-1,n_lst[i+1:])) #takes to n>0 and corresponding list value\n",
    "        for a_num in comb(n-1,n_lst[i+1:]):#list was sliced to ith and all other elements elements\n",
    "            #this go back to C_num logic but yields element from i+1 onwards\n",
    "            #print(\"a=\",a_num)\n",
    "            yield c_num+a_num\n",
    "n_list = [1,2,3,4]\n",
    "n=2\n",
    "result = comb(n, n_list)\n",
    "for e in result:\n",
    "     print(e)"
   ]
  },
  {
   "cell_type": "code",
   "execution_count": 29,
   "id": "e0210d21",
   "metadata": {},
   "outputs": [
    {
     "name": "stdout",
     "output_type": "stream",
     "text": [
      "243\n"
     ]
    }
   ],
   "source": [
    "#83-round every number of a given list of numbers and print the total sum multiplied by the length of the list\n",
    "#input- [22.4, 4.0, -16.22, -9.1, 11.0, -12.22, 14.2, -5.2, 17.5]\n",
    "#output-243\n",
    "#s1-round up mthod \n",
    "import math\n",
    "def rnd_mehtod(lst):\n",
    "    lst_len=len(lst)\n",
    "    res_sum=0\n",
    "    result=0\n",
    "    for i in lst:\n",
    "        rnd_num=round(i)\n",
    "        res_sum=res_sum+rnd_num\n",
    "    result=lst_len*res_sum\n",
    "    print(result)\n",
    "ip_lst=[22.4, 4.0, -16.22, -9.1, 11.0, -12.22, 14.2, -5.2, 17.5]\n",
    "rnd_mehtod(ip_lst)"
   ]
  },
  {
   "cell_type": "code",
   "execution_count": 30,
   "id": "f918ba64",
   "metadata": {},
   "outputs": [
    {
     "name": "stdout",
     "output_type": "stream",
     "text": [
      "Original list:  [22.4, 4.0, -16.22, -9.1, 11.0, -12.22, 14.2, -5.2, 17.5]\n",
      "Result:\n",
      "243\n"
     ]
    }
   ],
   "source": [
    "#s2-round+map\n",
    "nums = [22.4, 4.0, -16.22, -9.10, 11.00, -12.22, 14.20, -5.20, 17.50]\n",
    "print(\"Original list: \", nums)\n",
    "print(\"Result:\")\n",
    "lenght=len(nums)\n",
    "print(sum(list(map(round,nums))* lenght))"
   ]
  },
  {
   "cell_type": "code",
   "execution_count": 45,
   "id": "cfb5e21e",
   "metadata": {},
   "outputs": [
    {
     "name": "stdout",
     "output_type": "stream",
     "text": [
      "rounded list= [22, 4, 16, 9, 11, 12, 14, 5, 18]\n",
      "maximum value in rounded list= 22\n",
      "minimum value in rounded list= 4\n",
      "20 25 45 55 60 70 80 90 110 \n"
     ]
    }
   ],
   "source": [
    "#84-round the numbers of a given list, print the minimum and maximum numbers and multiply the numbers by 5. \n",
    "#Print the unique numbers in ascending order separated by space\n",
    "#input- [22.4, 4.0, 16.22, 9.1, 11.0, 12.22, 14.2, 5.2, 17.5]\n",
    "#Minimum value: 4 ; Maximum value: 22 ; Result:20 25 45 55 60 70 80 90 110\n",
    "res_lst=[]\n",
    "result=\"\"\n",
    "lst=[22.4, 4.0, 16.22, 9.1, 11.0, 12.22, 14.2, 5.2, 17.5]\n",
    "res_lst=list(map(round,lst))\n",
    "print(\"rounded list=\",res_lst)\n",
    "print(\"maximum value in rounded list=\",max(res_lst))\n",
    "print(\"minimum value in rounded list=\",min(res_lst))\n",
    "res_lst.sort()\n",
    "for i in res_lst:\n",
    "    i*=5\n",
    "    result=result+str(i)+\" \"\n",
    "print(result)    "
   ]
  },
  {
   "cell_type": "code",
   "execution_count": 47,
   "id": "7be3872c",
   "metadata": {},
   "outputs": [
    {
     "name": "stdout",
     "output_type": "stream",
     "text": [
      "[[0, 0], [0, 0], [0, 0], [0, 0], [0, 0], [0, 0], [0, 0], [0, 0], [0, 0]]\n"
     ]
    }
   ],
   "source": [
    "#85-create a multidimensional list (lists of lists) with zeros\n",
    "#input=Multidimensional list: [[0, 0], [0, 0], [0, 0]]\n",
    "lst=[]\n",
    "for i in range(9):\n",
    "    lst.append([0,0])\n",
    "print(lst)"
   ]
  },
  {
   "cell_type": "code",
   "execution_count": 53,
   "id": "c6d335af",
   "metadata": {},
   "outputs": [
    {
     "name": "stdout",
     "output_type": "stream",
     "text": [
      "Multidimensional list:\n",
      "[[0, 0], [0, 0], [0, 0]]\n"
     ]
    }
   ],
   "source": [
    "nums = []\n",
    "\n",
    "for i in range(3):\n",
    "\n",
    "    nums.append([])\n",
    "\n",
    "    for j in range(2):\n",
    "\n",
    "        nums[i].append(0)\n",
    "print(\"Multidimensional list:\")\n",
    "print(nums)"
   ]
  },
  {
   "cell_type": "code",
   "execution_count": 50,
   "id": "2fb19103",
   "metadata": {},
   "outputs": [
    {
     "name": "stdout",
     "output_type": "stream",
     "text": [
      "3X3 grid with numbers:\n",
      "[[1, 2, 3], [1, 2, 3], [1, 2, 3]]\n"
     ]
    }
   ],
   "source": [
    "#86-Python program to create a 3X3 grid with numbers\n",
    "nums = []\n",
    "for i in range(3):\n",
    "    nums.append([])\n",
    "    for j in range(1, 4):\n",
    "        nums[i].append(j)\n",
    "print(\"3X3 grid with numbers:\")\n",
    "print(nums)"
   ]
  },
  {
   "cell_type": "code",
   "execution_count": 27,
   "id": "5778e32e",
   "metadata": {},
   "outputs": [
    {
     "name": "stdout",
     "output_type": "stream",
     "text": [
      "6\n",
      "12\n",
      "18\n",
      "24\n",
      "[[0, 1, 2, 3], [0, 1, 2, 3], [0, 1, 2, 3], [0, 1, 2, 3]]\n"
     ]
    }
   ],
   "source": [
    "#Date-07/01/22\n",
    "#87-read a matrix from console and print the sum for each column. Accept matrix rows, columns and elements \n",
    "#for each column separated with a space(for every row) as input from the user\n",
    "#input-Input rows: 2; Input columns: 2 ;Input number of elements in a row (1, 2, 3):\n",
    "#Output- sum for each column: 4 6\n",
    "def matrix_sum():\n",
    "    lst=[]\n",
    "    sums=0\n",
    "    for i in range(4):\n",
    "        lst.append([])\n",
    "        for j in range(4):\n",
    "            (lst[i].append(j))\n",
    "        sums=sums+lst[i][j]        \n",
    "        print(sums)\n",
    "    print(lst)\n",
    "matrix_sum()"
   ]
  },
  {
   "cell_type": "code",
   "execution_count": 6,
   "id": "d27d6bf8",
   "metadata": {},
   "outputs": [
    {
     "name": "stdout",
     "output_type": "stream",
     "text": [
      "inpput rows:2\n",
      "input columns: 2\n",
      "mat= [[0, 0], [0, 0]]\n",
      "2 3\n",
      "2 3\n",
      "4  6  "
     ]
    }
   ],
   "source": [
    "#87-\n",
    "rows=int(input(\"inpput rows:\"))\n",
    "columns=int(input(\"input columns: \"))\n",
    "matrix=[[0]*columns for row in range(rows)]\n",
    "print(\"mat=\",matrix)\n",
    "for row in range(rows):\n",
    "    lines=list(map(int,input().split()))\n",
    "    #print(\"line=\",lines)\n",
    "    for column in range(columns):\n",
    "        matrix[row][column]=lines[column]\n",
    "sum=[0]*columns\n",
    "for column in range(columns):\n",
    "    for row in range(rows):\n",
    "        sum[column]+=matrix[row][column]\n",
    "    print((sum[column]), ' ', end = '')"
   ]
  },
  {
   "cell_type": "code",
   "execution_count": 18,
   "id": "7d0bafcb",
   "metadata": {},
   "outputs": [
    {
     "name": "stdout",
     "output_type": "stream",
     "text": [
      "Input the size of the matrix: 4\n",
      "1 2 3 4\n",
      "1 2 3 4\n",
      "1 2 3 4\n",
      "1 2 3 4\n",
      "[[1, 2, 3, 4], [1, 2, 3, 4], [1, 2, 3, 4], [1, 2, 3, 4]]\n"
     ]
    },
    {
     "ename": "TypeError",
     "evalue": "'list' object is not callable",
     "output_type": "error",
     "traceback": [
      "\u001b[1;31m---------------------------------------------------------------------------\u001b[0m",
      "\u001b[1;31mTypeError\u001b[0m                                 Traceback (most recent call last)",
      "\u001b[1;32m~\\AppData\\Local\\Temp/ipykernel_13704/503293410.py\u001b[0m in \u001b[0;36m<module>\u001b[1;34m\u001b[0m\n\u001b[0;32m     16\u001b[0m         \u001b[0mmatrix\u001b[0m\u001b[1;33m[\u001b[0m\u001b[0mx\u001b[0m\u001b[1;33m]\u001b[0m\u001b[1;33m[\u001b[0m\u001b[0my\u001b[0m\u001b[1;33m]\u001b[0m \u001b[1;33m=\u001b[0m \u001b[0mline\u001b[0m\u001b[1;33m[\u001b[0m\u001b[0my\u001b[0m\u001b[1;33m]\u001b[0m\u001b[1;33m\u001b[0m\u001b[1;33m\u001b[0m\u001b[0m\n\u001b[0;32m     17\u001b[0m \u001b[0mprint\u001b[0m\u001b[1;33m(\u001b[0m\u001b[0mmatrix\u001b[0m\u001b[1;33m)\u001b[0m\u001b[1;33m\u001b[0m\u001b[1;33m\u001b[0m\u001b[0m\n\u001b[1;32m---> 18\u001b[1;33m \u001b[0mmatrix_sum_diagonal\u001b[0m \u001b[1;33m=\u001b[0m \u001b[0msum\u001b[0m\u001b[1;33m(\u001b[0m\u001b[0mmatrix\u001b[0m\u001b[1;33m[\u001b[0m\u001b[0msize\u001b[0m \u001b[1;33m-\u001b[0m \u001b[0mi\u001b[0m \u001b[1;33m-\u001b[0m \u001b[1;36m1\u001b[0m\u001b[1;33m]\u001b[0m\u001b[1;33m[\u001b[0m\u001b[0msize\u001b[0m \u001b[1;33m-\u001b[0m \u001b[0mi\u001b[0m \u001b[1;33m-\u001b[0m \u001b[1;36m1\u001b[0m\u001b[1;33m]\u001b[0m \u001b[1;32mfor\u001b[0m \u001b[0mi\u001b[0m \u001b[1;32min\u001b[0m \u001b[0mrange\u001b[0m\u001b[1;33m(\u001b[0m\u001b[0msize\u001b[0m\u001b[1;33m)\u001b[0m\u001b[1;33m)\u001b[0m\u001b[1;33m\u001b[0m\u001b[1;33m\u001b[0m\u001b[0m\n\u001b[0m\u001b[0;32m     19\u001b[0m \u001b[0mprint\u001b[0m\u001b[1;33m(\u001b[0m\u001b[1;34m\"Sum of matrix primary diagonal:\"\u001b[0m\u001b[1;33m)\u001b[0m\u001b[1;33m\u001b[0m\u001b[1;33m\u001b[0m\u001b[0m\n\u001b[0;32m     20\u001b[0m \u001b[0mprint\u001b[0m\u001b[1;33m(\u001b[0m\u001b[0mmatrix_sum_diagonal\u001b[0m\u001b[1;33m)\u001b[0m\u001b[1;33m\u001b[0m\u001b[1;33m\u001b[0m\u001b[0m\n",
      "\u001b[1;31mTypeError\u001b[0m: 'list' object is not callable"
     ]
    }
   ],
   "source": [
    "#88-program to read a square matrix from console and print the sum of matrix primary diagonal.\n",
    "#Accept the size of the square matrix and elements for each column separated with \n",
    "#a space (for every row) as input from the user.\n",
    "#Input the size of the matrix: 3\n",
    "#2 3 4\n",
    "#4 5 6\n",
    "#3 4 7\n",
    "#Sum of matrix primary diagonal:14\n",
    "#\n",
    "#s-create matrix ;spot digoanl places ;add them up\n",
    "size = int(input(\"Input the size of the matrix: \"))\n",
    "matrix = [[0] * size for row in range(0, size)]#inittializr the matrix\n",
    "for x in range(0, size):\n",
    "    line = list(map(int, input().split()))\n",
    "    for y in range(0, size):\n",
    "        matrix[x][y] = line[y]\n",
    "print(matrix)\n",
    "matrix_sum_diagonal = sum(matrix[size - i - 1][size - i - 1] for i in range(size))\n",
    "print(\"Sum of matrix primary diagonal:\")\n",
    "print(matrix_sum_diagonal)    "
   ]
  },
  {
   "cell_type": "code",
   "execution_count": 28,
   "id": "a39b5c12",
   "metadata": {},
   "outputs": [
    {
     "name": "stdout",
     "output_type": "stream",
     "text": [
      "[[1, 3, 2, 4], [5, 7, 6, 8], [9, 11, 10, 12, 14]]\n"
     ]
    }
   ],
   "source": [
    "#89-Zip two given lists of lists\n",
    "#s1-chain method\n",
    "#s2-add method\n",
    "import itertools \n",
    "lst1=[[1, 3], [5, 7], [9, 11],[0,1]]\n",
    "lst2=[[2, 4], [6, 8], [10, 12, 14]]\n",
    "#print(itertools.zip_longest(str(lst1),str(lst2)))\n",
    "#print(lst)\n",
    "res=list(map(list.__add__,lst1,lst2))\n",
    "print(str(res))"
   ]
  },
  {
   "cell_type": "code",
   "execution_count": 29,
   "id": "42a7e418",
   "metadata": {},
   "outputs": [
    {
     "name": "stdout",
     "output_type": "stream",
     "text": [
      "[[1, 3, 2, 4], [5, 7, 6, 8], [9, 11, 10, 12, 14]]\n"
     ]
    }
   ],
   "source": [
    "import itertools \n",
    "lst1=[[1, 3], [5, 7], [9, 11],[0,1]]\n",
    "lst2=[[2, 4], [6, 8], [10, 12, 14]]\n",
    "res=[list(itertools.chain(*i)) for i in zip(lst1,lst2)]\n",
    "print(str(res))"
   ]
  },
  {
   "cell_type": "code",
   "execution_count": 30,
   "id": "023db7eb",
   "metadata": {},
   "outputs": [
    {
     "name": "stdout",
     "output_type": "stream",
     "text": [
      "number of lists are =4\n"
     ]
    }
   ],
   "source": [
    "#90- count number of lists in a given list of lists\n",
    "#s1-isinstance or type method\n",
    "#s2-return length-works only if all elements are lists\n",
    "#input-[[1, 3], [5, 7], [9, 11], [13, 15, 17]]\n",
    "#output-4\n",
    "lst=[[1, 3], [5, 7], [9, 11], [13, 15, 17]]\n",
    "count=0\n",
    "for i in lst:\n",
    "    if type(i) is list:\n",
    "        count+=1\n",
    "print(\"number of lists are ={}\".format(count))"
   ]
  },
  {
   "cell_type": "code",
   "execution_count": 31,
   "id": "1e05c373",
   "metadata": {},
   "outputs": [],
   "source": [
    "#s2-recursion\n",
    "def count_list(input_list): \n",
    "    return len(input_list)  "
   ]
  },
  {
   "cell_type": "code",
   "execution_count": 32,
   "id": "f2e970af",
   "metadata": {},
   "outputs": [
    {
     "name": "stdout",
     "output_type": "stream",
     "text": [
      "max length of the list is 3, max length list is [13, 15, 17]\n"
     ]
    }
   ],
   "source": [
    "#91-find the list with maximum and minimum length\n",
    "#input-[[0], [1, 3], [5, 7], [9, 11], [13, 15, 17]]\n",
    "#output#maximum length of lists:(3, [13, 15, 17]) ;List with minimum length of lists:(1, [0])\n",
    "#s1-type or isinstance method\n",
    "lst=[[0], [1, 3], [5, 7], [9, 11], [13, 15, 17]]\n",
    "max_len=len(lst[0])\n",
    "min_len=len(lst[0])\n",
    "max_lst=[]\n",
    "min_lst=[]\n",
    "for i in lst:\n",
    "    if type(i) is list:\n",
    "        if len(i)>max_len:\n",
    "            max_len=len(i)\n",
    "            max_lst=i\n",
    "        if len(i)<min_len:\n",
    "            min_len=len(i)\n",
    "            min_lst=i\n",
    "print(\"max length of the list is {}, max length list is {}\".format(max_len,max_lst))        "
   ]
  },
  {
   "cell_type": "code",
   "execution_count": 33,
   "id": "efaef43a",
   "metadata": {},
   "outputs": [],
   "source": [
    "def max_length_list(input_list):\n",
    "    max_length=max(len(x) for x in input_list)\n",
    "    max_list=max(input_list,key=len)\n",
    "    return(max_length, max_list)"
   ]
  },
  {
   "cell_type": "code",
   "execution_count": 47,
   "id": "0b56edc2",
   "metadata": {},
   "outputs": [
    {
     "data": {
      "text/plain": [
       "True"
      ]
     },
     "execution_count": 47,
     "metadata": {},
     "output_type": "execute_result"
    }
   ],
   "source": [
    "#92-check if a nested list is a subset of another nested list\n",
    "#input-[[1, 3], [5, 7], [9, 11], [13, 15, 17]] ;[[1, 3], [13, 15, 17]]\n",
    "#output-If the one of the said list is a subset of another.:True\n",
    "def sub_lst():\n",
    "    lst1=[[1, 3], [5, 7], [9, 11], [13, 15, 17]]\n",
    "    lst2=[[1, 3], [13, 15, 17]]\n",
    "    for i in lst2:\n",
    "        if i in lst1:\n",
    "            continue\n",
    "        else:\n",
    "            return False\n",
    "    return True\n",
    "sub_lst()"
   ]
  },
  {
   "cell_type": "code",
   "execution_count": 48,
   "id": "8fbadd68",
   "metadata": {},
   "outputs": [],
   "source": [
    "#s2-\n",
    "def checkSubset(input_list1, input_list2): \n",
    "    return all(map(input_list1.__contains__, input_list2)) "
   ]
  },
  {
   "cell_type": "code",
   "execution_count": 52,
   "id": "9e992a23",
   "metadata": {},
   "outputs": [
    {
     "name": "stdout",
     "output_type": "stream",
     "text": [
      "3\n"
     ]
    }
   ],
   "source": [
    "#93-count the number of sublists contain a particular element\n",
    "#input-[[1, 3], [5, 7], [1, 11], [1, 15, 7]]\n",
    "#output-Count 1 in the said list:3\n",
    "lst=[[1, 3], [5, 7], [1, 11], [1, 15, 7]]\n",
    "n=1\n",
    "count=0\n",
    "for i in lst:\n",
    "    if type(i) is list and n in i:\n",
    "        count+=1\n",
    "print(count)"
   ]
  },
  {
   "cell_type": "code",
   "execution_count": 23,
   "id": "739cdd6d",
   "metadata": {},
   "outputs": [
    {
     "name": "stdout",
     "output_type": "stream",
     "text": [
      "{(1, 3): 2, (5, 7): 2, (13, 15, 17): 1, (9, 11): 1}\n"
     ]
    }
   ],
   "source": [
    "#date-07/02/22\n",
    "#94-count number of unique sublists within a given list\n",
    "#input-[[1, 3], [5, 7], [1, 3], [13, 15, 17], [5, 7], [9, 11]]\n",
    "#output-Number of unique lists of the said list:{(1, 3): 2, (5, 7): 2, (13, 15, 17): 1, (9, 11): 1}\n",
    "#s1-Dictionary\n",
    "#s2-groupby\n",
    "#s3-for loop\n",
    "\n",
    "#s1-dictionary\n",
    "lst=[[1, 3], [5, 7], [1, 3], [13, 15, 17], [5, 7], [9, 11]]\n",
    "def count_sublst(input_list):\n",
    "    result={}\n",
    "    for l in input_list:\n",
    "        result.setdefault(tuple(l),list()).append(1)\n",
    "        #result.add(tuple(l),list()).append(1)\n",
    "       # print(result)\n",
    "    for key,value in result.items():\n",
    "        result[key]=sum(value)\n",
    "    return result\n",
    "print(count_sublst(lst) )          "
   ]
  },
  {
   "cell_type": "code",
   "execution_count": 3,
   "id": "69b2ffcd",
   "metadata": {},
   "outputs": [
    {
     "name": "stdout",
     "output_type": "stream",
     "text": [
      "\n",
      "Original list:\n",
      "[['green', 'orange'], ['black', 'white'], ['white', 'black', 'orange']]\n",
      "\n",
      "After sorting each sublist of the said list of lists:\n",
      "[['green', 'orange'], ['black', 'white'], ['black', 'orange', 'white']]\n"
     ]
    }
   ],
   "source": [
    "#Date 07/05/22\n",
    "#95-sort each sublist of strings in a given list of lists.\n",
    "#input-[[2], [0], [1, 3], [0, 7], [9, 11], [13, 15, 17]]\n",
    "#output-[[0], [2], [0, 7], [1, 3], [9, 11], [13, 15, 17]]\n",
    "#q1-whats the criteria here? and are we treating numbers as strings? Meaning considering ASCIIs intead of numbers\n",
    "\n",
    "def sort_sublists(input_list):\n",
    "    result=list(map(sorted,input_list))\n",
    "    return result\n",
    "color1 = [[\"green\", \"orange\"], [\"black\", \"white\"], [\"white\", \"black\", \"orange\"]]\n",
    "print(\"\\nOriginal list:\")\n",
    "print(color1)  \n",
    "print(\"\\nAfter sorting each sublist of the said list of lists:\")\n",
    "print(sort_sublists(color1))"
   ]
  },
  {
   "cell_type": "code",
   "execution_count": 17,
   "id": "1b4bb703",
   "metadata": {},
   "outputs": [
    {
     "name": "stdout",
     "output_type": "stream",
     "text": [
      "[[0], [2], [0, 7], [9, 11], [13, 15, 17], [1, 3, 8, 9, 0]]\n"
     ]
    }
   ],
   "source": [
    "#96- sort a given list of lists by length and value\n",
    "#input-[[2], [0], [1, 3], [0, 7], [9, 11], [13, 15, 17]]\n",
    "#output-[[0], [2], [0, 7], [1, 3], [9, 11], [13, 15, 17]]\n",
    "#q1-in the process are we going to sort sublists too?\n",
    "def sort_len_val(input_list):\n",
    "    input_list.sort()\n",
    "    input_list.sort(key=len)\n",
    "    print(input_list)\n",
    "lst=[[2], [0], [1, 3,8,9,0], [0, 7], [9, 11], [13, 15, 17]]\n",
    "sort_len_val(lst)"
   ]
  },
  {
   "cell_type": "code",
   "execution_count": 28,
   "id": "18b16636",
   "metadata": {},
   "outputs": [
    {
     "name": "stdout",
     "output_type": "stream",
     "text": [
      "[[2], [0], [1, 2, 3], [0, 1, 2, 3, 6, 7]]\n"
     ]
    }
   ],
   "source": [
    "#97-remove sublists from a given list of lists, which contains an element outside a given range.\n",
    "#input-[[2], [0], [1, 2, 3], [0, 1, 2, 3, 6, 7], [9, 11], [13, 14, 15, 17]] and range=[[13, 14, 15, 17]]\n",
    "#output-[[2], [0], [1, 2, 3], [0, 1, 2, 3, 6, 7], [9, 11]]\n",
    "#q1-what does range refer to? is it length or content\n",
    "#s1-search for sublist or range given and remove it from list\n",
    "def rem_sublist(lst,rng):\n",
    "    result=[]\n",
    "    for i in range(len(lst)):\n",
    "        if i<rng:\n",
    "            result.append(lst[i])\n",
    "    print(result)\n",
    "input_lst=[[2], [0], [1, 2, 3], [0, 1, 2, 3, 6, 7], [9, 11], [13, 14, 15, 17]]\n",
    "rem_sublist(input_lst,4)"
   ]
  },
  {
   "cell_type": "code",
   "execution_count": 30,
   "id": "2fc707b9",
   "metadata": {},
   "outputs": [
    {
     "name": "stdout",
     "output_type": "stream",
     "text": [
      "original list= ['Python', 'list', 'exercises', 'practice', 'solution']\n",
      "sample list is= ['hytnoP', 'tlis', 'seecxisre', 'rtecpiac', 'slotunoi']\n"
     ]
    }
   ],
   "source": [
    "#98-scramble the letters of string in a given list\n",
    "#input List-['Python', 'list', 'exercises', 'practice', 'solution']\n",
    "#output List-['tnPhyo', 'tlis', 'ecrsseiex', 'ccpitear', 'noiltuos']\n",
    "#q1-how to scramble them? randomly or any criterion?\n",
    "#s1-sample() method\n",
    "#s2-shuffle() method\n",
    "from random import sample\n",
    "test_lst=['Python', 'list', 'exercises', 'practice', 'solution']\n",
    "print(\"original list=\",test_lst)\n",
    "res=[''.join(sample(ele,len(ele))) for ele in test_lst]\n",
    "print(\"sample list is=\",res)           "
   ]
  },
  {
   "cell_type": "code",
   "execution_count": 37,
   "id": "033b2cd2",
   "metadata": {},
   "outputs": [
    {
     "name": "stdout",
     "output_type": "stream",
     "text": [
      "['fgg', 'si', 'tesb', 'rof', 'kgese']\n"
     ]
    }
   ],
   "source": [
    "from random import shuffle\n",
    "def perform_shuffle(ele):\n",
    "    ele=list(ele)\n",
    "    shuffle(ele)\n",
    "    return ''.join(ele)\n",
    "test_list = ['gfg', 'is', 'best', 'for', 'geeks']\n",
    "res=[perform_shuffle(ele) for ele in test_list]\n",
    "#res=[perform_shuffle(test_list)]\n",
    "print(res)"
   ]
  },
  {
   "cell_type": "code",
   "execution_count": 44,
   "id": "cb5cfccc",
   "metadata": {},
   "outputs": [
    {
     "name": "stdout",
     "output_type": "stream",
     "text": [
      "max num= 5  and min number= 2\n"
     ]
    }
   ],
   "source": [
    "#99-find the maximum and minimum values in a given heterogeneous list.\n",
    "#input-['Python', 3, 2, 4, 5, 'version']\n",
    "#output-(5, 2)\n",
    "#s1-see if its number and find max and min\n",
    "def find_max_min(lst):\n",
    "    maxm=0\n",
    "    minm=10000\n",
    "    for i in lst:\n",
    "        if type(i) is int:\n",
    "            if i>maxm:\n",
    "                maxm=i\n",
    "            if i<minm:\n",
    "                minm=i                \n",
    "    print(\"max num=\",maxm,\" and min number=\",minm)\n",
    "ip_lst=['Python', 3, 2, 4, 5, 'version']\n",
    "find_max_min(ip_lst)"
   ]
  },
  {
   "cell_type": "code",
   "execution_count": 55,
   "id": "7c05e391",
   "metadata": {},
   "outputs": [
    {
     "name": "stdout",
     "output_type": "stream",
     "text": [
      "Original lists:\n",
      "[1, 1, 3, 4, 5, 6, 7]\n",
      "[0, 1, 2, 3, 4, 5, 7]\n",
      "[0, 1, 2, 3, 4, 5, 7]\n",
      "Common index elements of the said lists:\n",
      "[1, 7]\n"
     ]
    }
   ],
   "source": [
    "#100-extract common index elements from more than one given list.\n",
    "#input-[1, 1, 3, 4, 5, 6, 7]; [0, 1, 2, 3, 4, 5, 7]; [0, 1, 2, 3, 4, 5, 7]\n",
    "#output-[1, 7]\n",
    "def extract_index_ele(l1, l2, l3):\n",
    "    result = []\n",
    "    for m, n, o in zip(l1, l2, l3):\n",
    "        if (m == n == o):\n",
    "            result.append(m)\n",
    "    return result\n",
    "\n",
    "nums1 = [1, 1, 3, 4, 5, 6, 7]\n",
    "nums2 = [0, 1, 2, 3, 4, 5, 7]\n",
    "nums3 = [0, 1, 2, 3, 4, 5, 7]\n",
    "\n",
    "print(\"Original lists:\")\n",
    "print(nums1)\n",
    "print(nums2)\n",
    "print(nums3)\n",
    "print(\"Common index elements of the said lists:\") \n",
    "print(extract_index_ele(nums1, nums2, nums3))"
   ]
  },
  {
   "cell_type": "code",
   "execution_count": 65,
   "id": "619639fe",
   "metadata": {},
   "outputs": [
    {
     "name": "stdout",
     "output_type": "stream",
     "text": [
      "[[1, 1, 1], [1, 2, 3], [2, 4, 5]]\n"
     ]
    }
   ],
   "source": [
    "#101-sort a given matrix in ascending order according to the sum of its rows\n",
    "#Input-[[1, 2, 3], [2, 4, 5], [1, 1, 1]]\n",
    "#Output-[[1, 1, 1], [1, 2, 3], [2, 4, 5]]\n",
    "def asc_order(mtr):\n",
    "    for i in mtr:        \n",
    "        #res=sorted(mtr,key=sum)#---One way\n",
    "        mtr.sort(key=sum)##another way\n",
    "    return mtr\n",
    "ip_lst=[[1, 2, 3], [2, 4, 5], [1, 1, 1]]\n",
    "print(asc_order((ip_lst)))"
   ]
  },
  {
   "cell_type": "code",
   "execution_count": 66,
   "id": "d9569608",
   "metadata": {},
   "outputs": [
    {
     "name": "stdout",
     "output_type": "stream",
     "text": [
      "practice\n",
      "solution\n"
     ]
    }
   ],
   "source": [
    "#102-extract specified size of strings from a give list of string values\n",
    "#input-['Python', 'list', 'exercises', 'practice', 'solution']; len=8\n",
    "#output-['practice', 'solution']\n",
    "lst=['Python', 'list', 'exercises', 'practice', 'solution']\n",
    "n=8\n",
    "for i in lst:\n",
    "    if len(i)==n:\n",
    "        print(i)"
   ]
  },
  {
   "cell_type": "code",
   "execution_count": 67,
   "id": "d028cb46",
   "metadata": {},
   "outputs": [],
   "source": [
    "def extract_string(str_list1, l):\n",
    "    result = [e for e in str_list1 if len(e) == l] \n",
    "    return result"
   ]
  },
  {
   "cell_type": "code",
   "execution_count": 11,
   "id": "46f64a29",
   "metadata": {},
   "outputs": [
    {
     "name": "stdout",
     "output_type": "stream",
     "text": [
      "[1, 4, 7]\n"
     ]
    }
   ],
   "source": [
    "#103-extract specified number of elements from a given list, which follows each other continuously.\n",
    "#input-[1, 1, 3, 4, 4, 5, 6, 7]; Extract 2 number of elements\n",
    "#output-[1, 4]\n",
    "from itertools import groupby\n",
    "def extract_ele(nums,n):\n",
    "    result=[i for i, j in groupby(nums) if len(list(j))==n] #groupby process only consecutive values\n",
    "    #for i,j in groupby(nums):\n",
    "        #print(i,list(j))\n",
    "    return result\n",
    "nums1 = [1, 1,5, 3, 4, 4, 5, 6, 7,7]\n",
    "n = 2\n",
    "print(extract_ele(nums1,n))"
   ]
  },
  {
   "cell_type": "code",
   "execution_count": 17,
   "id": "d24ce9d4",
   "metadata": {},
   "outputs": [
    {
     "name": "stdout",
     "output_type": "stream",
     "text": [
      "[0, 2, 1, 0, 1, 1, 1]\n"
     ]
    }
   ],
   "source": [
    "#104- Python program to find the difference between consecutive numbers in a given list\n",
    "#s1-use 2 for loops\n",
    "#input-[1, 1, 3, 4, 4, 5, 6, 7]\n",
    "#output-[0, 2, 1, 0, 1, 1, 1]\n",
    "def diff_num(lst):\n",
    "    res_lst=[]\n",
    "    for i in range(len(lst)-1):\n",
    "        res=0\n",
    "        res=lst[i+1]-lst[i]\n",
    "        res_lst.append(res)\n",
    "    print(res_lst)\n",
    "lst1=[1, 1, 3, 4, 4, 5, 6, 7]\n",
    "diff_num(lst1)"
   ]
  },
  {
   "cell_type": "code",
   "execution_count": 29,
   "id": "80e7277e",
   "metadata": {},
   "outputs": [
    {
     "name": "stdout",
     "output_type": "stream",
     "text": [
      "[1, 1, 3, 4, 4, 5, 6] [1, 3, 4, 4, 5, 6, 7]\n"
     ]
    },
    {
     "data": {
      "text/plain": [
       "[0, 2, 1, 0, 1, 1, 1]"
      ]
     },
     "execution_count": 29,
     "metadata": {},
     "output_type": "execute_result"
    }
   ],
   "source": [
    "#104-s2-use of zip\n",
    "def diff_cons(nums):\n",
    "    result=[b-a for a,b in zip(nums[:-1],nums[1:])]\n",
    "   # for a,b in zip(nums[:-1],nums[1:]):\n",
    "       # print(zip(nums[:-1],nums[1:]))\n",
    "    print(nums[:-1],nums[1:])\n",
    "    return result\n",
    "lst=[1, 1, 3, 4, 4, 5, 6, 7]\n",
    "diff_cons(lst)"
   ]
  },
  {
   "cell_type": "code",
   "execution_count": 39,
   "id": "2d7192ea",
   "metadata": {},
   "outputs": [
    {
     "name": "stdout",
     "output_type": "stream",
     "text": [
      "3.823529411764706\n"
     ]
    }
   ],
   "source": [
    "#105- compute average of two given lists\n",
    "#input-[1, 1, 3, 4, 4, 5, 6, 7];[0, 1, 2, 3, 4, 4, 5, 7, 8]\n",
    "#output-3.823529411764706\n",
    "#s1-zip and add numbers to count avarage\n",
    "#s2-2 for looops\n",
    "import itertools\n",
    "def avg_lst(l1,l2):\n",
    "    res=[]\n",
    "    avg=0\n",
    "    l1.extend(l2)\n",
    "    avg=sum(l1)/len(l1)\n",
    "    return avg\n",
    "lst1=[1, 1, 3, 4, 4, 5, 6, 7]\n",
    "lst2=[0, 1, 2, 3, 4, 4, 5, 7, 8]\n",
    "print(avg_lst(lst1,lst2))"
   ]
  },
  {
   "cell_type": "code",
   "execution_count": 40,
   "id": "3ba4ff31",
   "metadata": {},
   "outputs": [
    {
     "name": "stdout",
     "output_type": "stream",
     "text": [
      "3.823529411764706\n"
     ]
    }
   ],
   "source": [
    "def average_two_lists(nums1, nums2):\n",
    "    result = sum(nums1 + nums2) / len(nums1 + nums2) \n",
    "    return result\n",
    "\n",
    "nums1 = [1, 1, 3, 4, 4, 5, 6, 7]\n",
    "nums2 = [0, 1, 2, 3, 4, 4, 5, 7, 8]\n",
    "print(average_two_lists(nums1, nums2))"
   ]
  },
  {
   "cell_type": "code",
   "execution_count": 42,
   "id": "6e5022a5",
   "metadata": {},
   "outputs": [
    {
     "name": "stdout",
     "output_type": "stream",
     "text": [
      "3\n"
     ]
    }
   ],
   "source": [
    "#106-count integer in a given mixed list\n",
    "#input-[1, 'abcd', 3, 1.2, 4, 'xyz', 5, 'pqr', 7, -5, -12.22]\n",
    "#output-6\n",
    "#s1-use ascii values\n",
    "#s2-isdigit method\n",
    "def count_num(lst):\n",
    "    count=0\n",
    "    for i in lst:\n",
    "        if isinstance(i,str):\n",
    "            count+=1\n",
    "    print(count)\n",
    "l1=[1, 'abcd', 3, 1.2, 4, 'xyz', 5, 'pqr', 7, -5, -12.22]\n",
    "count_num(l1)"
   ]
  },
  {
   "cell_type": "code",
   "execution_count": 45,
   "id": "2129431b",
   "metadata": {},
   "outputs": [
    {
     "name": "stdout",
     "output_type": "stream",
     "text": [
      "[[2, 3], [4, 5], [1, 1]]\n"
     ]
    }
   ],
   "source": [
    "#107-remove a specified column from a given nested list\n",
    "#input-[[1, 2, 3], [2, 4, 5], [1, 1, 1]]; remove 1st column\n",
    "#output-[[2, 3], [4, 5], [1, 1]]\n",
    "#s1-pop method\n",
    "#s2-del method\n",
    "def rem_col(lst,n):\n",
    "    for i in lst:\n",
    "        i.pop(n)\n",
    "    print(lst)\n",
    "l1=[[1, 2, 3], [2, 4, 5], [1, 1, 1]]\n",
    "n=0\n",
    "rem_col(l1,n)"
   ]
  },
  {
   "cell_type": "code",
   "execution_count": 46,
   "id": "52a73ac9",
   "metadata": {},
   "outputs": [
    {
     "name": "stdout",
     "output_type": "stream",
     "text": [
      "Original Nested list:\n",
      "[[1, 2, 3], [2, 4, 5], [1, 1, 1]]\n",
      "After removing 1st column:\n",
      "[[2, 3], [4, 5], [1, 1]]\n"
     ]
    }
   ],
   "source": [
    "def remove_column(nums, n):\n",
    "   for i in nums: \n",
    "    del i[n] \n",
    "   return nums\n",
    "\n",
    "list1 = [[1, 2, 3], [2, 4, 5], [1, 1, 1]]\n",
    "n = 0\n",
    "print(\"Original Nested list:\")\n",
    "print(list1)\n",
    "print(\"After removing 1st column:\")\n",
    "print(remove_column(list1, n))"
   ]
  },
  {
   "cell_type": "code",
   "execution_count": 47,
   "id": "898cc34d",
   "metadata": {},
   "outputs": [
    {
     "name": "stdout",
     "output_type": "stream",
     "text": [
      "[1, 2, 1]\n"
     ]
    }
   ],
   "source": [
    "#108-extract a specified column from a given nested list\n",
    "#input-[[1, 2, 3], [2, 4, 5], [1, 1, 1]]; Extract 1st column:\n",
    "#output-[1, 2, 1]\n",
    "def col_ext(l1,n):\n",
    "    res=[]\n",
    "    for i in l1:\n",
    "        res.append(i[n])\n",
    "    return res\n",
    "l=[[1, 2, 3], [2, 4, 5], [1, 1, 1]]\n",
    "n=0\n",
    "print(col_ext(l,n))"
   ]
  },
  {
   "cell_type": "code",
   "execution_count": 48,
   "id": "9099e4ff",
   "metadata": {},
   "outputs": [],
   "source": [
    "def remove_column(nums, n):\n",
    "   result = [i.pop(n) for i in nums]\n",
    "   return result "
   ]
  },
  {
   "cell_type": "code",
   "execution_count": 2,
   "id": "f937b69c",
   "metadata": {},
   "outputs": [
    {
     "name": "stdout",
     "output_type": "stream",
     "text": [
      "[7, 8, 9, 10, 1, 2, 3, 4, 5, 6]\n"
     ]
    }
   ],
   "source": [
    "#Date-7/7/22\n",
    "#***PRNT-109-rotate a given list by specified number of items to the right or left direction\n",
    "#input-[1, 2, 3, 4, 5, 6, 7, 8, 9, 10]; Rotate the said list in left direction by 4\n",
    "#output-[4, 5, 6, 7, 8, 9, 10, 1, 2, 3, 4]\n",
    "\n",
    "#s1-list slicing\n",
    "#s2-using second list as output\n",
    "def rightRotate(lists,num):\n",
    "    output_lst=[]\n",
    "    #add values from old list from n to new list\n",
    "    for item in range(len(lists)-num,len(lists)):\n",
    "        output_lst.append(lists[item])\n",
    "    #will add values before n to end of the new list\n",
    "    for item in range(0,len(lists)-num):\n",
    "        output_lst.append(lists[item])\n",
    "    return output_lst\n",
    "rotate_num=4\n",
    "lst_1=[1, 2, 3, 4, 5, 6, 7, 8, 9, 10]\n",
    "print(rightRotate(lst_1,rotate_num))"
   ]
  },
  {
   "cell_type": "code",
   "execution_count": 17,
   "id": "5a23fd78",
   "metadata": {},
   "outputs": [
    {
     "name": "stdout",
     "output_type": "stream",
     "text": [
      "[1, 2]\n",
      "[3, 4, 5, 6]\n",
      "[3, 4, 5, 6, 1, 2]\n"
     ]
    }
   ],
   "source": [
    "#s2-slicing technique. One way of slicing list is by using len() method.\n",
    "n=4\n",
    "list_1=[1,2,3,4,5,6]\n",
    "#list_1=(list_1[len(list_1)-n:len(list_1)]+list_1[0:len(list_1)-n])\n",
    "print(list_1[0:len(list_1)-n])\n",
    "print(list_1[len(list_1)-n:len(list_1)])\n",
    "list_1=(list_1[len(list_1)-n:len(list_1)]+list_1[0:len(list_1)-n])\n",
    "print(list_1)"
   ]
  },
  {
   "cell_type": "code",
   "execution_count": 18,
   "id": "fbb685be",
   "metadata": {},
   "outputs": [
    {
     "name": "stdout",
     "output_type": "stream",
     "text": [
      "[4, 5, 6, 1, 2, 3]\n"
     ]
    }
   ],
   "source": [
    "#s3- Another way is without using len() method\n",
    "n=3\n",
    "list_1=[1,2,3,4,5,6]\n",
    "if n>len(list_1):\n",
    "    n=int(n%len(list_1))\n",
    "list_1=(list_1[-n:]+list_1[:-n])\n",
    "print(list_1)"
   ]
  },
  {
   "cell_type": "code",
   "execution_count": 25,
   "id": "0440d538",
   "metadata": {},
   "outputs": [
    {
     "name": "stdout",
     "output_type": "stream",
     "text": [
      "[(0, 4), (1, 5), (2, 6), (3, 1), (4, 2), (5, 3)]\n",
      "[4, 5, 6, 1, 2, 3]\n"
     ]
    }
   ],
   "source": [
    "#s4_list comprehension\n",
    "n=3\n",
    "list_1=[1,2,3,4,5,6]\n",
    "list_1=[list_1[(i+3)%len(list_1)] for i,x in enumerate(list_1)]\n",
    "print(list(enumerate(list_1)))\n",
    "print(list_1)"
   ]
  },
  {
   "cell_type": "code",
   "execution_count": 26,
   "id": "bfd2b552",
   "metadata": {},
   "outputs": [
    {
     "name": "stdout",
     "output_type": "stream",
     "text": [
      "[4, 5, 6, 1, 2, 3]\n"
     ]
    }
   ],
   "source": [
    "#s5-collection.deque method\n",
    "from collections import deque\n",
    "n=3\n",
    "list_1=[1,2,3,4,5,6]\n",
    "list_1=deque(list_1)\n",
    "list_1.rotate(-3)\n",
    "list_1=list(list_1)\n",
    "print(list_1)"
   ]
  },
  {
   "cell_type": "code",
   "execution_count": 27,
   "id": "466a4017",
   "metadata": {},
   "outputs": [
    {
     "name": "stdout",
     "output_type": "stream",
     "text": [
      "original List:\n",
      "[1, 2, 3, 4, 5, 6, 7, 8, 9, 10]\n",
      "\n",
      "Rotate the said list in left direction by 4:\n",
      "[4, 5, 6, 7, 8, 9, 10, 1, 2, 3, 4]\n",
      "\n",
      "Rotate the said list in left direction by 2:\n",
      "[3, 4, 5, 6, 7, 8, 9, 10, 1, 2]\n",
      "\n",
      "Rotate the said list in Right direction by 4:\n",
      "[8, 9, 10, 1, 2, 3, 4, 5, 6]\n"
     ]
    }
   ],
   "source": [
    "#LEFT VS RIGHT Rotation\n",
    "nums1 = [1, 2, 3, 4, 5, 6, 7, 8, 9, 10]\n",
    "print(\"original List:\")\n",
    "print(nums1)\n",
    "print(\"\\nRotate the said list in left direction by 4:\")\n",
    "result = nums1[3:] + nums1[:4]\n",
    "print(result)\n",
    "print(\"\\nRotate the said list in left direction by 2:\")\n",
    "result = nums1[2:] + nums1[:2]\n",
    "print(result)\n",
    "print(\"\\nRotate the said list in Right direction by 4:\")\n",
    "result = nums1[-3:] + nums1[:-4]\n",
    "print(result)    "
   ]
  },
  {
   "cell_type": "code",
   "execution_count": 30,
   "id": "0a9d0c82",
   "metadata": {},
   "outputs": [
    {
     "name": "stdout",
     "output_type": "stream",
     "text": [
      "20 2\n"
     ]
    }
   ],
   "source": [
    "#110-find the item with maximum occurrences in a given list\n",
    "#input-[2, 3, 8, 4, 7, 9, 8, 2, 6, 5, 1, 6, 1, 2, 3, 4, 6, 9, 1, 2]\n",
    "#output=2\n",
    "def cnt_max_occr(l):\n",
    "    max_count=0\n",
    "    count=0\n",
    "    max_num=0\n",
    "    for i in l:\n",
    "        if i in l:\n",
    "            count+=1\n",
    "        if count>max_count:\n",
    "            max_count=count\n",
    "            max_num=i\n",
    "    print(max_count,max_num)\n",
    "lst=[2, 3, 8, 4, 7, 9, 8, 2, 6, 5, 1, 6, 1, 2, 3, 4, 6, 9, 1, 2]\n",
    "cnt_max_occr(lst)"
   ]
  },
  {
   "cell_type": "code",
   "execution_count": 31,
   "id": "7af9bd8f",
   "metadata": {},
   "outputs": [
    {
     "name": "stdout",
     "output_type": "stream",
     "text": [
      "Original list:\n",
      "[2, 3, 8, 4, 7, 9, 8, 2, 6, 5, 1, 6, 1, 2, 3, 4, 6, 9, 1, 2]\n",
      "\n",
      "Item with maximum occurrences of the said list:\n",
      "2\n"
     ]
    }
   ],
   "source": [
    "#s2-count method\n",
    "def max_occurrences(nums):\n",
    "    max_val = 0\n",
    "    result = nums[0] \n",
    "    for i in nums:\n",
    "        occu = nums.count(i)\n",
    "        if occu > max_val:\n",
    "            max_val = occu\n",
    "            result = i \n",
    "    return result\n",
    "\n",
    "nums = [2,3,8,4,7,9,8,2,6,5,1,6,1,2,3,4,6,9,1,2]\n",
    "print (\"Original list:\")\n",
    "print(nums)\n",
    "print(\"\\nItem with maximum occurrences of the said list:\")\n",
    "print(max_occurrences(nums)) "
   ]
  },
  {
   "cell_type": "code",
   "execution_count": 38,
   "id": "adc99d7f",
   "metadata": {},
   "outputs": [
    {
     "name": "stdout",
     "output_type": "stream",
     "text": [
      "[2, 4, 9, 2, 1]\n"
     ]
    }
   ],
   "source": [
    "#111-access multiple elements of specified index from a given list.\n",
    "#input-[2, 3, 8, 4, 7, 9, 8, 2, 6, 5, 1, 6, 1, 2, 3, 4, 6, 9, 1, 2]\n",
    "#index list:[0, 3, 5, 7, 10]\n",
    "#output-[2, 4, 9, 2, 1]\n",
    "\n",
    "#s1-for loop+condition\n",
    "l=[2, 3, 8, 4, 7, 9, 8, 2, 6, 5, 1, 6, 1, 2, 3, 4, 6, 9, 1, 2]\n",
    "index_l=[0, 3, 5, 7, 10]\n",
    "op_l=[]\n",
    "for i in range(len(l)):\n",
    "    if i in index_l:\n",
    "        op_l.append(l[i])\n",
    "print(op_l)"
   ]
  },
  {
   "cell_type": "code",
   "execution_count": 47,
   "id": "e5408322",
   "metadata": {},
   "outputs": [
    {
     "name": "stdout",
     "output_type": "stream",
     "text": [
      "[1, 2, 4, 6, 8, 10, 12, 14, 16, 17]\n",
      "[1, 2, 4, 6, 8, 10, 12, 14, 16, 17]\n",
      "True\n"
     ]
    }
   ],
   "source": [
    "#112-check whether a specified list is sorted or not\n",
    "#input-Original list:[1, 2, 4, 6, 8, 10, 12, 14, 16, 17]-Is the said list is sorted!\n",
    "#output-True\n",
    "#s1-use sort method and compare sorted list with original\n",
    "#s2-comparing consecutove elements\n",
    "#s1-use sort method and compare sorted list with original\n",
    "l=[1, 2, 4, 6, 8, 10, 12, 14, 16, 17]\n",
    "org_l=[]\n",
    "for i in l:\n",
    "    org_l.append(i)\n",
    "print(org_l)\n",
    "\n",
    "l.sort()\n",
    "print(l)\n",
    "\n",
    "if org_l==l:\n",
    "    print(\"True\")\n",
    "else:\n",
    "    print(\"False\")"
   ]
  },
  {
   "cell_type": "code",
   "execution_count": 48,
   "id": "ac11de11",
   "metadata": {},
   "outputs": [
    {
     "name": "stdout",
     "output_type": "stream",
     "text": [
      "Original list:\n",
      "[1, 2, 4, 6, 8, 10, 12, 14, 16, 17]\n",
      "\n",
      "Is the said list is sorted!\n",
      "True\n"
     ]
    }
   ],
   "source": [
    "#s2-\n",
    "def is_sort_list(nums):\n",
    "    result = all(nums[i] <= nums[i+1] for i in range(len(nums)-1))\n",
    "    return result\n",
    "\n",
    "nums1 = [1,2,4,6,8,10,12,14,16,17]\n",
    "print (\"Original list:\")\n",
    "print(nums1)\n",
    "print(\"\\nIs the said list is sorted!\")\n",
    "print(is_sort_list(nums1)) "
   ]
  },
  {
   "cell_type": "code",
   "execution_count": 49,
   "id": "efe623de",
   "metadata": {},
   "outputs": [
    {
     "name": "stdout",
     "output_type": "stream",
     "text": [
      "[{'Green': '#008000'}, {'Black': '#000000'}, {'Blue': '#0000FF'}]\n"
     ]
    }
   ],
   "source": [
    "#113- remove duplicate dictionary from a given list\n",
    "#input-[{'Green': '#008000'}, {'Black': '#000000'}, {'Blue': '#0000FF'}, {'Green': '#008000'}]\n",
    "#output-[{'Black': '#000000'}, {'Blue': '#0000FF'}, {'Green': '#008000'}]\n",
    "#s1-comparing key and value\n",
    "#s2-comparing i value\n",
    "l=[{'Green': '#008000'}, {'Black': '#000000'}, {'Blue': '#0000FF'}, {'Green': '#008000'}]\n",
    "op_l=[]\n",
    "for i in l:\n",
    "    if i not in op_l:\n",
    "        op_l.append(i)\n",
    "print(op_l)"
   ]
  },
  {
   "cell_type": "code",
   "execution_count": 51,
   "id": "8c9f8bce",
   "metadata": {},
   "outputs": [
    {
     "name": "stdout",
     "output_type": "stream",
     "text": [
      "Original list with duplicate dictionary:\n",
      "[{'Green': '#008000'}, {'Black': '#000000'}, {'Blue': '#0000FF'}, {'Green': '#008000'}]\n",
      "\n",
      "After removing duplicate dictionary of the said list:\n",
      "[{'Blue': '#0000FF'}, {'Black': '#000000'}, {'Green': '#008000'}]\n"
     ]
    }
   ],
   "source": [
    "def remove_dupe_dict(list_color):\n",
    "    result=[dict(e)for e in {tuple(d.items())for d in list_color}]\n",
    "    return result\n",
    "list_color = [{'Green': '#008000'}, {'Black': '#000000'}, {'Blue': '#0000FF'}, {'Green': '#008000'}]\n",
    "print (\"Original list with duplicate dictionary:\")\n",
    "print(list_color)\n",
    "print(\"\\nAfter removing duplicate dictionary of the said list:\")\n",
    "print(remove_dupe_dict(list_color))"
   ]
  },
  {
   "cell_type": "raw",
   "id": "78ba893e",
   "metadata": {},
   "source": [
    "#114-extract the nth element from a given list of tuples\n",
    "#input-[('Greyson Fulton', 98, 99), ('Brady Kent', 97, 96), ('Wyatt Knott', 91, 94), ('Beau Turnbull', 94, 98)]\n",
    "#Extract nth element ( n = 0 ) from the said list of tuples:\n",
    "#output-['Greyson Fulton', 'Brady Kent', 'Wyatt Knott', 'Beau Turnbull']\n",
    "l=[('Greyson Fulton', 98, 99), ('Brady Kent', 97, 96), ('Wyatt Knott', 91, 94), ('Beau Turnbull', 94, 98)]\n",
    "n=0\n",
    "result=[]\n",
    "for i in l:\n",
    "    print(i)\n",
    "    result.append(i[0])\n",
    "print(result)"
   ]
  },
  {
   "cell_type": "code",
   "execution_count": 3,
   "id": "274b4523",
   "metadata": {},
   "outputs": [
    {
     "name": "stdout",
     "output_type": "stream",
     "text": [
      "['Greyson Fulton', 'Brady Kent', 'Wyatt Knott', 'Beau Turnbull']\n"
     ]
    }
   ],
   "source": [
    "#114-extract the nth element from a given list of tuples\n",
    "#input-[('Greyson Fulton', 98, 99), ('Brady Kent', 97, 96), ('Wyatt Knott', 91, 94), ('Beau Turnbull', 94, 98)]\n",
    "#Extract nth element ( n = 0 ) from the said list of tuples:\n",
    "#output-['Greyson Fulton', 'Brady Kent', 'Wyatt Knott', 'Beau Turnbull']\n",
    "def extract_nth_element(test_list, n):\n",
    "    result = [x[n] for x in test_list]\n",
    "    return result\n",
    "\n",
    "students = [('Greyson Fulton', 98, 99), ('Brady Kent', 97, 96), ('Wyatt Knott', 91, 94), ('Beau Turnbull', 94, 98)] \n",
    "print (\"Original list:\")\n",
    "print(students)\n",
    "n = 0\n",
    "print(\"\\nExtract nth element ( n =\",n,\") from the said list of tuples:\")\n",
    "print(extract_nth_element(students, n))\n",
    "\n",
    "n = 2\n",
    "print(\"\\nExtract nth element ( n =\",n,\") from the said list of tuples:\")\n",
    "print(extract_nth_element(students, n))"
   ]
  },
  {
   "cell_type": "code",
   "execution_count": 5,
   "id": "0a081311",
   "metadata": {},
   "outputs": [
    {
     "name": "stdout",
     "output_type": "stream",
     "text": [
      "False 10 14\n"
     ]
    }
   ],
   "source": [
    "#115-check if the elements of a given list are unique or not.\n",
    "#s1-conver list to set and see if length is same \n",
    "#s2-count elments and see if count>1\n",
    "#input-[1, 2, 4, 6, 8, 2, 1, 4, 10, 12, 14, 12, 16, 17]\n",
    "#output-False\n",
    "l=[1, 2, 4, 6, 8, 2, 1, 4, 10, 12, 14, 12, 16, 17]\n",
    "n=len(l)\n",
    "m=len(set(l))\n",
    "if m==n:\n",
    "    print(\"True\")\n",
    "else:\n",
    "    print(\"False\",m,n)"
   ]
  },
  {
   "cell_type": "code",
   "execution_count": 10,
   "id": "6d163153",
   "metadata": {},
   "outputs": [
    {
     "name": "stdout",
     "output_type": "stream",
     "text": [
      "[('Beau Turnbull', 94, 98), ('Brady Kent', 97, 96), ('Greyson Fulton', 98, 99), ('Wyatt Knott', 91, 94)]\n"
     ]
    }
   ],
   "source": [
    "#116-sort a list of lists by a given index of the inner list\n",
    "#input-[('Greyson Fulton', 98, 99), ('Brady Kent', 97, 96), ('Wyatt Knott', 91, 94), ('Beau Turnbull', 94, 98)]\n",
    "#index=0\n",
    "#output-[('Beau Turnbull', 94, 98), ('Brady Kent', 97, 96), ('Greyson Fulton', 98, 99), ('Wyatt Knott', 91, 94)]\n",
    "#s1-sort or soted method\n",
    "#s2-sort by lambda\n",
    "from operator import itemgetter\n",
    "def sort_by_idx(lst,idx):\n",
    "    lst.sort(key=itemgetter(idx))\n",
    "    print(lst)\n",
    "l=[('Greyson Fulton', 98, 99), ('Brady Kent', 97, 96), ('Wyatt Knott', 91, 94), ('Beau Turnbull', 94, 98)]\n",
    "n=0\n",
    "sort_by_idx(l,n)"
   ]
  },
  {
   "cell_type": "code",
   "execution_count": 13,
   "id": "ca267344",
   "metadata": {},
   "outputs": [
    {
     "name": "stdout",
     "output_type": "stream",
     "text": [
      "[('Wyatt Knott', 91, 94), ('Beau Turnbull', 94, 98), ('Brady Kent', 97, 96), ('Greyson Fulton', 98, 99)]\n"
     ]
    }
   ],
   "source": [
    "#s2-lambda method\n",
    "l=[('Greyson Fulton', 98, 99), ('Brady Kent', 97, 96), ('Wyatt Knott', 91, 94), ('Beau Turnbull', 94, 98)]\n",
    "n=1\n",
    "l.sort(key=lambda x:x[n])\n",
    "print(l)"
   ]
  },
  {
   "cell_type": "code",
   "execution_count": 17,
   "id": "d877c2d8",
   "metadata": {},
   "outputs": [
    {
     "name": "stdout",
     "output_type": "stream",
     "text": [
      "[1, 3, 5, 7, 9, 10] [2, 4, 6, 8]\n"
     ]
    }
   ],
   "source": [
    "#117- remove all elements from a given list present in another list\n",
    "#input-list1: [1, 2, 3, 4, 5, 6, 7, 8, 9, 10] ; list2: [2, 4, 6, 8]\n",
    "#output-[1, 3, 5, 7, 9, 10]\n",
    "lst1=[1, 2, 3, 4, 5, 6, 7, 8, 9, 10]\n",
    "lst2=[2, 4, 6, 8]\n",
    "for i in lst1:\n",
    "    if i in lst2:\n",
    "        lst1.remove(i)\n",
    "print(lst1,lst2)"
   ]
  },
  {
   "cell_type": "code",
   "execution_count": 18,
   "id": "483c258c",
   "metadata": {},
   "outputs": [
    {
     "name": "stdout",
     "output_type": "stream",
     "text": [
      "Original lists:\n",
      "list1: [1, 2, 3, 4, 5, 6, 7, 8, 9, 10]\n",
      "list2: [2, 4, 6, 8]\n",
      "\n",
      "Remove all elements from 'list1' present in 'list2:\n",
      "[1, 3, 5, 7, 9, 10]\n"
     ]
    }
   ],
   "source": [
    "def index_on_inner_list(list1, list2):\n",
    "    result = [x for x in list1 if x not in list2]\n",
    "    return result\n",
    "\n",
    "list1 = [1,2,3,4,5,6,7,8,9,10]\n",
    "list2 = [2,4,6,8]\n",
    "\n",
    "print(\"Original lists:\")\n",
    "print(\"list1:\", list1)\n",
    "print(\"list2:\", list2)\n",
    "\n",
    "print(\"\\nRemove all elements from 'list1' present in 'list2:\")\n",
    "print(index_on_inner_list(list1, list2))"
   ]
  },
  {
   "cell_type": "code",
   "execution_count": 23,
   "id": "f8953835",
   "metadata": {},
   "outputs": [
    {
     "name": "stdout",
     "output_type": "stream",
     "text": [
      "[1, 1, 1, 1, 1, 1, 1, 1, 1]\n"
     ]
    }
   ],
   "source": [
    "#118- difference between elements (n+1th - nth) of a given list of numeric values\n",
    "#s1-for loop\n",
    "#s2-slicing of list\n",
    "#Original list:[1, 2, 3, 4, 5, 6, 7, 8, 9, 10]\n",
    "#output :[1, 1, 1, 1, 1, 1, 1, 1, 1]\n",
    "ip_l1=[1, 2, 3, 4, 5, 6, 7, 8, 9, 10]\n",
    "ip_l2=ip_l1[1:]\n",
    "result=[]\n",
    "res=0\n",
    "for i in range(len(ip_l1)-1):\n",
    "    res=ip_l2[i]-ip_l1[i]\n",
    "    result.append(res)\n",
    "print(result)"
   ]
  },
  {
   "cell_type": "code",
   "execution_count": 24,
   "id": "bf56129e",
   "metadata": {},
   "outputs": [
    {
     "name": "stdout",
     "output_type": "stream",
     "text": [
      "Original list:\n",
      "[1, 2, 3, 4, 5, 6, 7, 8, 9, 10]\n",
      "\n",
      "Dfference between elements (n+1th – nth) of the said list :\n",
      "[1, 1, 1, 1, 1, 1, 1, 1, 1]\n",
      "\n",
      "Original list:\n",
      "[2, 4, 6, 8]\n",
      "\n",
      "Dfference between elements (n+1th – nth) of the said list :\n",
      "[2, 2, 2]\n"
     ]
    }
   ],
   "source": [
    "def elements_difference(nums):\n",
    "    result = [j-i for i, j in zip(nums[:-1], nums[1:])]\n",
    "    return result\n",
    "\n",
    "nums1 = [1,2,3,4,5,6,7,8,9,10]\n",
    "nums2 = [2,4,6,8]\n",
    "\n",
    "print(\"Original list:\")\n",
    "print(nums1)\n",
    "print(\"\\nDfference between elements (n+1th – nth) of the said list :\")\n",
    "print(elements_difference(nums1))\n",
    "print(\"\\nOriginal list:\")\n",
    "print(nums2)\n",
    "print(\"\\nDfference between elements (n+1th – nth) of the said list :\")\n",
    "print(elements_difference(nums2))"
   ]
  },
  {
   "cell_type": "code",
   "execution_count": 26,
   "id": "4a85e3b9",
   "metadata": {},
   "outputs": [
    {
     "name": "stdout",
     "output_type": "stream",
     "text": [
      "False\n",
      "True\n",
      "False\n",
      "False\n",
      "False\n"
     ]
    }
   ],
   "source": [
    "#119- check if a substring presents in a given list of string values\n",
    "#input-['red', 'black', 'white', 'green', 'orange']; Substring to search:ack\n",
    "#output:True\n",
    "#s1-as strings are arrays we could trace substring in list\n",
    "l=['red', 'black', 'white', 'green', 'orange']\n",
    "sub_str='ack'\n",
    "for i in l:\n",
    "    if sub_str in i:\n",
    "        print(\"True\")\n",
    "    else:\n",
    "        print(\"False\")"
   ]
  },
  {
   "cell_type": "code",
   "execution_count": 28,
   "id": "a5a268b3",
   "metadata": {},
   "outputs": [
    {
     "name": "stdout",
     "output_type": "stream",
     "text": [
      "Original list:\n",
      "['red', 'black', 'white', 'green', 'orange']\n",
      "Substring to search:\n",
      "ack\n",
      "Check if a substring presents in the said list of string values:\n",
      "True\n"
     ]
    }
   ],
   "source": [
    "#any method\n",
    "def find_sub_str(str1,sub_str):\n",
    "    if any(sub_str in s for s in str1):\n",
    "        return True\n",
    "    return False\n",
    "colors = [\"red\", \"black\", \"white\", \"green\", \"orange\"]\n",
    "print(\"Original list:\")\n",
    "print(colors)\n",
    "sub_str = \"ack\"\n",
    "print(\"Substring to search:\")\n",
    "print(sub_str)\n",
    "print(\"Check if a substring presents in the said list of string values:\")\n",
    "print(find_sub_str(colors, sub_str))"
   ]
  },
  {
   "cell_type": "code",
   "execution_count": 29,
   "id": "3e350b0d",
   "metadata": {},
   "outputs": [
    {
     "name": "stdout",
     "output_type": "stream",
     "text": [
      "['red', 'white', 'orange']\n"
     ]
    }
   ],
   "source": [
    "#120-create a list taking alternate elements from a given list\n",
    "#input:['red', 'black', 'white', 'green', 'orange']\n",
    "#output:['red', 'white', 'orange']\n",
    "#s1-for loop with condition\n",
    "l=['red', 'black', 'white', 'green', 'orange']\n",
    "op_l=[]\n",
    "for i in range(len(l)):\n",
    "    if i%2==0:\n",
    "        op_l.append(l[i])\n",
    "print(op_l)"
   ]
  },
  {
   "cell_type": "code",
   "execution_count": 33,
   "id": "e81c4952",
   "metadata": {},
   "outputs": [
    {
     "name": "stdout",
     "output_type": "stream",
     "text": [
      "['red', 'white', 'orange']\n"
     ]
    }
   ],
   "source": [
    "list_data=['red', 'black', 'white', 'green', 'orange']\n",
    "result=[]\n",
    "for item in list_data[::2]:\n",
    "        result.append(item)\n",
    "print(result)"
   ]
  },
  {
   "cell_type": "code",
   "execution_count": 5,
   "id": "22e20f4c",
   "metadata": {},
   "outputs": [
    {
     "name": "stdout",
     "output_type": "stream",
     "text": [
      "[12, 7, 11, 1, 5, 8]\n"
     ]
    }
   ],
   "source": [
    "#Date-7/8/22\n",
    "#121-find the nested lists elements which are present in another list\n",
    "#Input:[1, 2, 3, 4, 5, 6, 7, 8, 9, 10, 11, 12, 13, 14]\n",
    "#Nested Lists-[[12, 18, 23, 25, 45], [7, 11, 19, 24, 28], [1, 5, 8, 18, 15, 16]]\n",
    "#output:[[12], [7, 11], [1, 5, 8]]\n",
    "ip_l=[1, 2, 3, 4, 5, 6, 7, 8, 9, 10, 11, 12, 13, 14]\n",
    "nest_l=[[12, 18, 23, 25, 45], [7, 11, 19, 24, 28], [1, 5, 8, 18, 15, 16]]\n",
    "op_l=[]\n",
    "for i in nest_l:\n",
    "    for j in i:\n",
    "        if j in ip_l:\n",
    "            [op_l.append(j)]\n",
    "print(op_l)    "
   ]
  },
  {
   "cell_type": "code",
   "execution_count": 3,
   "id": "c735c507",
   "metadata": {},
   "outputs": [
    {
     "name": "stdout",
     "output_type": "stream",
     "text": [
      "\n",
      "Original lists:\n",
      "[1, 2, 3, 4, 5, 6, 7, 8, 9, 10, 11, 12, 13, 14]\n",
      "[[12, 18, 23, 25, 45], [7, 11, 19, 24, 28], [1, 5, 8, 18, 15, 16]]\n",
      "\n",
      "Intersection of said nested lists:\n",
      "[[12], [7, 11], [1, 5, 8]]\n"
     ]
    }
   ],
   "source": [
    "def intersect_nested_lst(l1,l2):\n",
    "    result=[[n for n in lst if n in l1]for lst in l2]\n",
    "    return result\n",
    "nums1 = [1, 2, 3, 4, 5, 6, 7, 8, 9, 10, 11, 12, 13, 14]\n",
    "nums2 = [[12, 18, 23, 25, 45], [7, 11, 19, 24, 28], [1, 5, 8, 18, 15, 16]]\n",
    "print(\"\\nOriginal lists:\")\n",
    "print(nums1)\n",
    "print(nums2)\n",
    "print(\"\\nIntersection of said nested lists:\")\n",
    "print(intersect_nested_lst(nums1, nums2))"
   ]
  },
  {
   "cell_type": "code",
   "execution_count": 18,
   "id": "39619536",
   "metadata": {},
   "outputs": [
    {
     "name": "stdout",
     "output_type": "stream",
     "text": [
      "[18, 12]\n"
     ]
    }
   ],
   "source": [
    "#122-find common element(s) in a given nested lists\n",
    "#input-[[12, 18, 23, 25, 45], [7, 12, 18, 24, 28], [1, 5, 8, 12, 15, 16, 18]]\n",
    "#output-[18, 12]\n",
    "#s1-using reduce()+lambda+set()\n",
    "from functools import reduce\n",
    "l=[[12, 18, 23, 25, 45], [7, 12, 18, 24, 28], [1, 5, 8, 12, 15, 16, 18]]\n",
    "#for i in l:\n",
    "    #print(set(i))\n",
    "result=list(reduce(lambda i,j:i&j,(set(x)for x in l)))\n",
    "#result=list(reduce(lambda i,j:i and j,(x for x in l)))\n",
    "\n",
    "print(result)"
   ]
  },
  {
   "cell_type": "code",
   "execution_count": 19,
   "id": "784c2e0e",
   "metadata": {},
   "outputs": [
    {
     "name": "stdout",
     "output_type": "stream",
     "text": [
      "[18, 12]\n"
     ]
    }
   ],
   "source": [
    "#s2-map+intersection\n",
    "l=[[12, 18, 23, 25, 45], [7, 12, 18, 24, 28], [1, 5, 8, 12, 15, 16, 18]]\n",
    "res=list(set.intersection(*map(set,l)))\n",
    "print(res)"
   ]
  },
  {
   "cell_type": "code",
   "execution_count": 36,
   "id": "635c1fee",
   "metadata": {},
   "outputs": [
    {
     "name": "stdout",
     "output_type": "stream",
     "text": [
      "['deR', 'neerG', 'eulB', 'etihW', 'kcalB']\n"
     ]
    }
   ],
   "source": [
    "#123-reverse strings in a given list of string value\n",
    "#input-['Red', 'Green', 'Blue', 'White', 'Black']\n",
    "#output-['deR', 'neerG', 'eulB', 'etihW', 'kcalB']\n",
    "l=['Red', 'Green', 'Blue', 'White', 'Black']\n",
    "res=[]\n",
    "result=''\n",
    "for i in l:\n",
    "    result=''\n",
    "    for j in range(len(i)-1,-1,-1):\n",
    "        result=result+i[j]\n",
    "    res.append(result)\n",
    "print(res)"
   ]
  },
  {
   "cell_type": "code",
   "execution_count": 39,
   "id": "8a827f47",
   "metadata": {},
   "outputs": [
    {
     "name": "stdout",
     "output_type": "stream",
     "text": [
      "Original lists:\n",
      "['Red', 'Green', 'Blue', 'White', 'Black']\n",
      "\n",
      "Reverse strings of the said given list:\n",
      "['deR', 'neerG', 'eulB', 'etihW', 'kcalB']\n"
     ]
    }
   ],
   "source": [
    "def reverse_str(str_lst):\n",
    "    result=[x[::-1]for x in str_lst]\n",
    "    return result\n",
    "colors_list = [\"Red\", \"Green\", \"Blue\", \"White\", \"Black\"]\n",
    "print(\"Original lists:\")\n",
    "print(colors_list)\n",
    "print(\"\\nReverse strings of the said given list:\")\n",
    "print(reverse_str(colors_list))"
   ]
  },
  {
   "cell_type": "code",
   "execution_count": 14,
   "id": "512390e8",
   "metadata": {},
   "outputs": [
    {
     "name": "stdout",
     "output_type": "stream",
     "text": [
      "(36, 8)\n"
     ]
    }
   ],
   "source": [
    "#124-maximum and minimum product from the pairs of tuple within a given list\n",
    "#input-[(2, 7), (2, 6), (1, 8), (4, 9)]\n",
    "#output-(36, 8)\n",
    "#s1-using operator method\n",
    "tup=[(2, 7), (2, 6), (1, 8), (4, 9)]\n",
    "maxm=0\n",
    "minm=100000\n",
    "tuple_res=()\n",
    "import operator\n",
    "for i in tup:\n",
    "    res=i[0]*i[1]\n",
    "    if res>maxm:\n",
    "        maxm=res\n",
    "    if res<minm:\n",
    "        minm=res\n",
    "tuple_res=tuple_res+(maxm,minm,)\n",
    "#tuple_res=tuple_res+(minm,)\n",
    "print(tuple_res)"
   ]
  },
  {
   "cell_type": "code",
   "execution_count": 15,
   "id": "26321fdf",
   "metadata": {},
   "outputs": [
    {
     "name": "stdout",
     "output_type": "stream",
     "text": [
      "The original list, tuple : \n",
      "[(2, 7), (2, 6), (1, 8), (4, 9)]\n",
      "\n",
      "Maximum and minimum product from the pairs of the said tuple of list:\n",
      "(36, 8)\n"
     ]
    }
   ],
   "source": [
    "def tuple_max_val(nums):\n",
    "    result_max = max([abs(x * y) for x, y in nums] )\n",
    "    result_min = min([abs(x * y) for x, y in nums] )\n",
    "    return result_max,result_min\n",
    "nums = [(2, 7), (2, 6), (1, 8), (4, 9)]   \n",
    "print(\"The original list, tuple : \") \n",
    "print(nums)\n",
    "print(\"\\nMaximum and minimum product from the pairs of the said tuple of list:\")\n",
    "print(tuple_max_val(nums)) "
   ]
  },
  {
   "cell_type": "code",
   "execution_count": 16,
   "id": "70d82d85",
   "metadata": {},
   "outputs": [
    {
     "name": "stdout",
     "output_type": "stream",
     "text": [
      "576000000000\n"
     ]
    }
   ],
   "source": [
    "#125-calculate the product of the unique numbers of a given list\n",
    "#input-[10, 20, 30, 40, 20, 50, 60, 40]\n",
    "#output-720000000\n",
    "#s1-List Traversal\n",
    "lst=[10, 20, 30, 40, 20, 50, 60, 40]\n",
    "result=1\n",
    "for i in lst:\n",
    "    result*=i\n",
    "print(result)"
   ]
  },
  {
   "cell_type": "code",
   "execution_count": 17,
   "id": "fc776ac1",
   "metadata": {},
   "outputs": [
    {
     "name": "stdout",
     "output_type": "stream",
     "text": [
      "576000000000\n"
     ]
    }
   ],
   "source": [
    "#s2-math.prod method\n",
    "import math\n",
    "lst=[10, 20, 30, 40, 20, 50, 60, 40]\n",
    "result=math.prod(lst)\n",
    "print(result)"
   ]
  },
  {
   "cell_type": "markdown",
   "id": "976611c1",
   "metadata": {},
   "source": [
    "#S3-DKS"
   ]
  },
  {
   "cell_type": "code",
   "execution_count": 18,
   "id": "d0f3f2e9",
   "metadata": {},
   "outputs": [
    {
     "name": "stdout",
     "output_type": "stream",
     "text": [
      "576000000000\n"
     ]
    }
   ],
   "source": [
    "#S3-reduce+lambda method\n",
    "from functools import reduce\n",
    "lst=[10, 20, 30, 40, 20, 50, 60, 40]\n",
    "result=reduce((lambda x,y:x*y),lst)\n",
    "print(result)"
   ]
  },
  {
   "cell_type": "code",
   "execution_count": 20,
   "id": "9654ec78",
   "metadata": {},
   "outputs": [
    {
     "name": "stdout",
     "output_type": "stream",
     "text": [
      "[1, 10, 100, 2, 20, 200, 3, 30, 300, 4, 40, 400, 5, 50, 500, 6, 60, 600, 7, 70, 700]\n"
     ]
    }
   ],
   "source": [
    "#126-interleave multiple lists of the same length\n",
    "list1= [1, 2, 3, 4, 5, 6, 7]\n",
    "list2= [10, 20, 30, 40, 50, 60, 70]\n",
    "list3= [100, 200, 300, 400, 500, 600, 700]\n",
    "lst=[]\n",
    "for i in range(len(list1)):\n",
    "    lst.append(list1[i])\n",
    "    lst.append(list2[i])\n",
    "    lst.append(list3[i])\n",
    "print(lst)"
   ]
  },
  {
   "cell_type": "code",
   "execution_count": 22,
   "id": "bef60b66",
   "metadata": {},
   "outputs": [
    {
     "name": "stdout",
     "output_type": "stream",
     "text": [
      "[1, 10, 100, 2, 20, 200, 3, 30, 300, 4, 40, 400, 5, 50, 500, 6, 60, 600, 7, 70, 700]\n"
     ]
    }
   ],
   "source": [
    "#zip method\n",
    "def interleav_lst(lst1,lst2,lst3):\n",
    "    result=[el for pair in zip(lst1,lst2,lst3)for el in pair]\n",
    "    return result\n",
    "list1 = [1,2,3,4,5,6,7]\n",
    "list2 = [10,20,30,40,50,60,70]\n",
    "list3 = [100,200,300,400,500,600,700]\n",
    "print(interleav_lst(list1,list2,list3))"
   ]
  },
  {
   "cell_type": "code",
   "execution_count": 26,
   "id": "eb9a79e7",
   "metadata": {},
   "outputs": [
    {
     "name": "stdout",
     "output_type": "stream",
     "text": [
      "['Green', 'White']\n"
     ]
    }
   ],
   "source": [
    "#127-remove words from a given list of strings containing a character or string.\n",
    "#q1-is space considered as character?\n",
    "\n",
    "#input-list1=['Red color', 'Orange#', 'Green', 'Orange @', 'White']\n",
    "#Character list:['#', 'color', '@']\n",
    "#output-['Red', '', 'Green', 'Orange', 'White']\n",
    "\n",
    "#s1-compare two lists one original and other with characters. remove characters when the match found\n",
    "lst=['Red color', 'Orange#', 'Green', 'Orange @', 'White']\n",
    "char_list=['#', 'color', '@',';']\n",
    "op_lst=[]\n",
    "res=[ele for ele in lst if all(ch not in ele for ch in char_list)]\n",
    "print(res)"
   ]
  },
  {
   "cell_type": "code",
   "execution_count": 33,
   "id": "97fd2e24",
   "metadata": {},
   "outputs": [
    {
     "name": "stdout",
     "output_type": "stream",
     "text": [
      "['Red', '', 'Green', 'Orange', 'White']\n",
      "None\n"
     ]
    }
   ],
   "source": [
    "#s2-\n",
    "def remove_words(in_lst,char_lst):\n",
    "    new_lst=[]\n",
    "    for line in in_lst:\n",
    "        new_words=' '.join([word for word in line.split() if not any([phrase in word for phrase in char_list])])\n",
    "        new_lst.append(new_words)\n",
    "    print(new_lst)\n",
    "str_list = ['Red colors', 'Orange#', 'Green', 'Orange @', \"White\"]\n",
    "char_list = ['#', 'color', '@']\n",
    "print(remove_words(str_list, char_list))"
   ]
  },
  {
   "cell_type": "code",
   "execution_count": 36,
   "id": "b82f36e4",
   "metadata": {},
   "outputs": [
    {
     "name": "stdout",
     "output_type": "stream",
     "text": [
      "29\n"
     ]
    }
   ],
   "source": [
    "#128-calculate the sum of the numbers in a list between the indices of a specified range.\n",
    "lst=[2, 1, 5, 6, 8, 3, 4, 9, 10, 11, 8, 12]\n",
    "Range= [8 , 10]\n",
    "sums=0\n",
    "for i in range(Range[0],Range[1]+1):\n",
    "    sums+=lst[i]\n",
    "print(sums)"
   ]
  },
  {
   "cell_type": "code",
   "execution_count": 39,
   "id": "cced142a",
   "metadata": {},
   "outputs": [
    {
     "name": "stdout",
     "output_type": "stream",
     "text": [
      "[[4, 3, 2, 1], [8, 7, 6, 5], [12, 11, 10, 9], [16, 15, 14, 13]]\n"
     ]
    }
   ],
   "source": [
    "#129-reverse each list in a given list of lists\n",
    "#input-[[1, 2, 3, 4], [5, 6, 7, 8], [9, 10, 11, 12], [13, 14, 15, 16]]\n",
    "#output-[[4, 3, 2, 1], [8, 7, 6, 5], [12, 11, 10, 9], [16, 15, 14, 13]]\n",
    "lst=[[1, 2, 3, 4], [5, 6, 7, 8], [9, 10, 11, 12], [13, 14, 15, 16]]\n",
    "result=[]\n",
    "for i in lst:\n",
    "    result.append(i[::-1])\n",
    "print(result)"
   ]
  },
  {
   "cell_type": "code",
   "execution_count": 8,
   "id": "9c01c3e4",
   "metadata": {},
   "outputs": [
    {
     "name": "stdout",
     "output_type": "stream",
     "text": [
      "3 3 3\n",
      "6 6 6\n",
      "7 7 7\n",
      "3\n"
     ]
    }
   ],
   "source": [
    "#Date-7/9/22\n",
    "#130-count the same pair in three given lists\n",
    "#s1-zip method\n",
    "#s2-for loop\n",
    "lst1=[1, 2, 3, 4, 5, 6, 7, 8]\n",
    "lst2=[2, 2, 3, 1, 2, 6, 7, 9]\n",
    "lst3=[2, 1, 3, 1, 2, 6, 7, 9]\n",
    "result=sum(m==n==o for m,n,o in zip(lst1,lst2,lst3))\n",
    "for i,j,k in (zip(lst1,lst2,lst3)):\n",
    "    if i==j==k:\n",
    "        print(i,j,k)\n",
    "print(result)"
   ]
  },
  {
   "cell_type": "code",
   "execution_count": 11,
   "id": "f09d2c67",
   "metadata": {},
   "outputs": [
    {
     "name": "stdout",
     "output_type": "stream",
     "text": [
      "([1, 2, 4, 5], [1, 3, 3, 4])\n"
     ]
    }
   ],
   "source": [
    "#131-Python program to count the frequency of consecutive duplicate elements in a given list of numbers\n",
    "#input-[1, 2, 2, 2, 4, 4, 4, 5, 5, 5, 5]\n",
    "#output-([1, 2, 4, 5], [1, 3, 3, 4])\n",
    "#s1-for loop \n",
    "def freq_dupe_nums(lst):\n",
    "    nums=[]\n",
    "    freq=[]\n",
    "    #count=0\n",
    "    for i in lst:\n",
    "        if i not in nums:\n",
    "            nums.append(i)\n",
    "            freq.append(lst.count(i))\n",
    "    return nums,freq\n",
    "lst1=[1, 2, 2, 2, 4, 4, 4, 5, 5, 5, 5]\n",
    "print(freq_dupe_nums(lst1))"
   ]
  },
  {
   "cell_type": "code",
   "execution_count": 12,
   "id": "d0c29b86",
   "metadata": {},
   "outputs": [
    {
     "name": "stdout",
     "output_type": "stream",
     "text": [
      "Original lists:\n",
      "[1, 2, 2, 2, 4, 4, 4, 5, 5, 5, 5]\n",
      "\n",
      "Consecutive duplicate elements and their frequency:\n",
      "([1, 2, 4, 5], [1, 3, 3, 4])\n"
     ]
    }
   ],
   "source": [
    "def count_dups(nums):\n",
    "    element = []\n",
    "    freque = []\n",
    "    if not nums:\n",
    "        return element\n",
    "    running_count = 1\n",
    "    for i in range(len(nums)-1):\n",
    "        if nums[i] == nums[i+1]:\n",
    "            running_count += 1\n",
    "        else:\n",
    "            freque.append(running_count)\n",
    "            element.append(nums[i])\n",
    "            running_count = 1\n",
    "    freque.append(running_count)\n",
    "    element.append(nums[i+1])\n",
    "    return element,freque\n",
    "\n",
    "nums = [1,2,2,2,4,4,4,5,5,5,5]\n",
    "print(\"Original lists:\")\n",
    "print(nums)\n",
    "\n",
    "print(\"\\nConsecutive duplicate elements and their frequency:\")\n",
    "print(count_dups(nums))"
   ]
  },
  {
   "cell_type": "code",
   "execution_count": 19,
   "id": "1bcbb882",
   "metadata": {},
   "outputs": [
    {
     "name": "stdout",
     "output_type": "stream",
     "text": [
      "7 3\n"
     ]
    }
   ],
   "source": [
    "#132-find all index positions of the maximum and minimum values in a given list of numbers\n",
    "#input-[12, 33, 23, 10, 67, 89, 45, 667, 23, 12, 11, 10, 54]\n",
    "#output-max-7; min -3\n",
    "l=[12, 33, 23, 10, 67, 89, 45, 667, 23, 12, 11, 10, 54]\n",
    "maxm =0\n",
    "max_idx=0\n",
    "minm=10000\n",
    "min_idx=100000\n",
    "for i in range(len(l)):\n",
    "    if maxm<l[i]:\n",
    "        #print(maxm)\n",
    "        max_idx=i\n",
    "        maxm=l[i]\n",
    "        \n",
    "    if minm>l[i]:\n",
    "        min_idx=i\n",
    "        minm=l[i]\n",
    "print(max_idx,min_idx)"
   ]
  },
  {
   "cell_type": "code",
   "execution_count": 20,
   "id": "90d17652",
   "metadata": {},
   "outputs": [
    {
     "name": "stdout",
     "output_type": "stream",
     "text": [
      "Original list:\n",
      "[12, 33, 23, 10, 67, 89, 45, 667, 23, 12, 11, 10, 54]\n",
      "\n",
      "Index positions of the maximum value of the said list:\n",
      "[7]\n",
      "\n",
      "Index positions of the minimum value of the said list:\n",
      "[3, 11]\n"
     ]
    }
   ],
   "source": [
    "#using enumerate\n",
    "def position_max_min(nums):\n",
    "    max_val=max(nums)\n",
    "    min_val=min(nums)\n",
    "    max_result=[i for i,j in enumerate(nums) if j==max_val]\n",
    "    min_result=[i for i,j in enumerate(nums) if j==min_val]\n",
    "    return max_result,min_result\n",
    "nums = [12,33,23,10,67,89,45,667,23,12,11,10,54]\n",
    "print(\"Original list:\")\n",
    "print(nums)\n",
    "result = position_max_min(nums)\n",
    "print(\"\\nIndex positions of the maximum value of the said list:\")\n",
    "print(result[0])\n",
    "print(\"\\nIndex positions of the minimum value of the said list:\")\n",
    "print(result[1])"
   ]
  },
  {
   "cell_type": "code",
   "execution_count": 42,
   "id": "a6c77bda",
   "metadata": {},
   "outputs": [
    {
     "name": "stdout",
     "output_type": "stream",
     "text": [
      "[3, 1, 0, 2]\n",
      "[3, 1, 0, None]\n",
      "[None, None, 0, 1]\n"
     ]
    }
   ],
   "source": [
    "#133-check common elements between two given list are in same order or not\n",
    "#s1-map() + enumerate() + dictionary comprehension + sorted()\n",
    "\n",
    "lst1=['red', 'green', 'black', 'orange']\n",
    "lst2=['red', 'pink', 'green', 'white', 'black']\n",
    "lst3=['white', 'orange', 'pink', 'black']\n",
    "def relative_order(lst):\n",
    "    temp={val:key for key,val in enumerate(sorted(lst))}\n",
    "    res=list(map(temp.get,lst1))\n",
    "    return res\n",
    "print(relative_order(lst1))\n",
    "print(relative_order(lst2))\n",
    "print(relative_order(lst3))"
   ]
  },
  {
   "cell_type": "code",
   "execution_count": 43,
   "id": "e53ed720",
   "metadata": {},
   "outputs": [
    {
     "name": "stdout",
     "output_type": "stream",
     "text": [
      "[5, 2, 0, 1, 4, 3]\n"
     ]
    }
   ],
   "source": [
    "#using sorted() + index() + list comprehension\n",
    "test_list=[6,3,1,2,5,4]\n",
    "temp=sorted(test_list)\n",
    "res=[temp.index(i)for i in test_list]\n",
    "print(res)"
   ]
  },
  {
   "cell_type": "code",
   "execution_count": 44,
   "id": "fa27dfc8",
   "metadata": {},
   "outputs": [],
   "source": [
    "def order_ele(l1,l2):\n",
    "    common_ele=set(l1)& set(l2)\n",
    "    l1=[e for e in l1 if e in common_ele]\n",
    "    l2=[e for e in l2 if e in common_ele]\n",
    "    return l1==l2"
   ]
  },
  {
   "cell_type": "code",
   "execution_count": 59,
   "id": "bc65a8ff",
   "metadata": {},
   "outputs": [
    {
     "name": "stdout",
     "output_type": "stream",
     "text": [
      "[3, 3, 4, 7]\n"
     ]
    }
   ],
   "source": [
    "#134-find the difference between two list including duplicate elements\n",
    "l1=[1, 1, 2, 3, 3, 4, 4, 5, 6, 7]\n",
    "l2=[1, 1, 2, 4, 5, 6]\n",
    "l=[]\n",
    "l=l1\n",
    "for el in l2:\n",
    "    l.remove(el)\n",
    "    #l.pop(el)\n",
    "print(l)  \n",
    "    "
   ]
  },
  {
   "cell_type": "code",
   "execution_count": 64,
   "id": "df6b88fd",
   "metadata": {},
   "outputs": [
    {
     "name": "stdout",
     "output_type": "stream",
     "text": [
      "[(1, 1), (1, 2), (2, 3), (3, 3), (3, 4), (4, 4), (4, 5)]\n"
     ]
    }
   ],
   "source": [
    "#135-iterate over all pairs of consecutive items in a given list\n",
    "#input-[1, 1, 2, 3, 3, 4, 4, 5]\n",
    "#output-[(1, 1), (1, 2), (2, 3), (3, 3), (3, 4), (4, 4), (4, 5)]\n",
    "#s1-\n",
    "l=[1, 1, 2, 3, 3, 4, 4, 5]\n",
    "tup=()\n",
    "res=[]\n",
    "for i in range(len(l)-1):\n",
    "    tup=(l[i],l[i+1])\n",
    "    res.append(tup)\n",
    "print(res)"
   ]
  },
  {
   "cell_type": "code",
   "execution_count": 65,
   "id": "0cbb17e3",
   "metadata": {},
   "outputs": [
    {
     "name": "stdout",
     "output_type": "stream",
     "text": [
      "['Python', 'Exercises', 'Practice', 'Solution']\n"
     ]
    }
   ],
   "source": [
    "#136-remove duplicate words from a given list of strings\n",
    "l=['Python', 'Exercises', 'Practice', 'Solution', 'Exercises']\n",
    "res=[]\n",
    "for i in l:\n",
    "    if i not in res:\n",
    "        res.append(i)\n",
    "print(res)"
   ]
  },
  {
   "cell_type": "code",
   "execution_count": 67,
   "id": "1686b43e",
   "metadata": {},
   "outputs": [
    {
     "name": "stdout",
     "output_type": "stream",
     "text": [
      "4 1\n"
     ]
    }
   ],
   "source": [
    "#137- find a first even and odd number in a given list of numbers.\n",
    "l=[1, 3, 5, 7, 4, 1, 6, 8]\n",
    "for i in range(len(l)-1):\n",
    "    if l[i]%2==0 and l[i+1]%2==1:\n",
    "        print(l[i],l[i+1])"
   ]
  },
  {
   "cell_type": "code",
   "execution_count": 2,
   "id": "ced33217",
   "metadata": {},
   "outputs": [
    {
     "name": "stdout",
     "output_type": "stream",
     "text": [
      "Original list:\n",
      "[1, 3, 5, 7, 4, 1, 6, 8]\n",
      "\n",
      "First even and odd number of the said list of numbers:\n",
      "(4, 1)\n"
     ]
    }
   ],
   "source": [
    "def first_even_odd(nums):\n",
    "    first_even=next((el for el in nums if el%2==0),-1)\n",
    "    first_odd=next((el for el in nums if el%2==1),-1)\n",
    "    return first_even,first_odd\n",
    "nums= [1,3,5,7,4,1,6,8]\n",
    "print(\"Original list:\")\n",
    "print(nums)\n",
    "print(\"\\nFirst even and odd number of the said list of numbers:\")\n",
    "print(first_even_odd(nums))"
   ]
  },
  {
   "cell_type": "code",
   "execution_count": 19,
   "id": "1d05c5f8",
   "metadata": {},
   "outputs": [
    {
     "name": "stdout",
     "output_type": "stream",
     "text": [
      "['blue', 'green', 'green', 'red', 'white', 1, 10, 12, 19]\n"
     ]
    }
   ],
   "source": [
    "#138-sort a given mixed list of integers and strings. Numbers must be sorted before strings\n",
    "#input-[19, 'red', 12, 'green', 'blue', 10, 'white', 'green', 1]\n",
    "#output-[1, 10, 12, 19, 'blue', 'green', 'green', 'red', 'white']\n",
    "#s1-using sort()+comparator\n",
    "def mixed_lst_sort(num):\n",
    "    try:\n",
    "            ele=int(num)\n",
    "            #print((0,ele))\n",
    "            #print(ele,\"Try\")\n",
    "            #return (1,ele,'')\n",
    "            return (1,ele)\n",
    "    except ValueError:\n",
    "            #print(ValueError)\n",
    "            #print((1,num))\n",
    "            #return (0,num,'')  \n",
    "            return (0,num)\n",
    "l=[19, 'red', 12, 'green', 'blue', 10, 'white', 'green', 1]\n",
    "\n",
    "l.sort(key=mixed_lst_sort)\n",
    "print(l)"
   ]
  },
  {
   "cell_type": "code",
   "execution_count": 23,
   "id": "f332ad91",
   "metadata": {},
   "outputs": [
    {
     "name": "stdout",
     "output_type": "stream",
     "text": [
      "[1, 10, 12, 19, 'blue', 'green', 'green', 'red', 'white']\n"
     ]
    }
   ],
   "source": [
    "#s2-using sorted()+key+lambda+isdigit()\n",
    "test_list=[19, 'red', 12, 'green', 'blue', 10, 'white', 'green', 1]\n",
    "#res=sorted(l,key=lambda ele:(0,int(ele)) if ele.isdigit() else (l,ele))--this is if 1(nummber) is character('1')\n",
    "res = sorted(test_list, key = lambda ele: (0, ele)\n",
    "                        if type(ele)==int else (1, ele))\n",
    "print(res)"
   ]
  },
  {
   "cell_type": "code",
   "execution_count": 28,
   "id": "4ef15d82",
   "metadata": {},
   "outputs": [
    {
     "name": "stdout",
     "output_type": "stream",
     "text": [
      "['-500', '-12', '0', '4', '7', '12', '45', '100', '200']\n"
     ]
    }
   ],
   "source": [
    "#139-sort a given list of strings(numbers) numerically\n",
    "#input-['4', '12', '45', '7', '0', '100', '200', '-12', '-500']\n",
    "#output-[-500, -12, 0, 4, 7, 12, 45, 100, 200]\n",
    "#s1-ueing sort/sorted\n",
    "l=['4', '12', '45', '7', '0', '100', '200', '-12', '-500']\n",
    "#l.sort(key=int) or \n",
    "res=sorted(l,key=int)\n",
    "print(res)"
   ]
  },
  {
   "cell_type": "code",
   "execution_count": 34,
   "id": "fe4c9ca0",
   "metadata": {},
   "outputs": [
    {
     "name": "stdout",
     "output_type": "stream",
     "text": [
      "['0', '4', '7', '12', '45', '-12', '100', '200', '-500']\n"
     ]
    }
   ],
   "source": [
    "#using sorted/sort with lambda\n",
    "l=['4', '12', '45', '7', '0', '100', '200', '-12', '-500']\n",
    "#res=sorted(l,key=lambda x:print((len(x),x)))\n",
    "res=sorted(l,key=lambda x:(len(x),x))\n",
    "#res=sorted(l,key=lambda x:(x))\n",
    "print(res)"
   ]
  },
  {
   "cell_type": "code",
   "execution_count": 42,
   "id": "da50cec7",
   "metadata": {},
   "outputs": [
    {
     "name": "stdout",
     "output_type": "stream",
     "text": [
      "[['Maroon', 'Yellow', 'Olive'], ['#800000', '#FFFF00', '#808000'], ['rgb(128,0,0)', 'rgb(255,255,0)', 'rgb(128,128,0)']]\n"
     ]
    }
   ],
   "source": [
    "#140- remove the specific item from a given list of lists\n",
    "l=[['Red', 'Maroon', 'Yellow', 'Olive'], ['#FF0000', '#800000', '#FFFF00', '#808000'], ['rgb(255,0,0)', 'rgb(128,0,0)', 'rgb(255,255,0)', 'rgb(128,128,0)']]\n",
    "n=1\n",
    "for i in l :\n",
    "    del(i[0])\n",
    "print(l)"
   ]
  },
  {
   "cell_type": "code",
   "execution_count": 50,
   "id": "6197b0da",
   "metadata": {},
   "outputs": [
    {
     "name": "stdout",
     "output_type": "stream",
     "text": [
      "['Red', 'Green', [1, 2], 'Blue']\n"
     ]
    }
   ],
   "source": [
    "#141-remove empty lists from a given list of lists\n",
    "l=[[], [], [], 'Red', 'Green', [1, 2], 'Blue', [], []]\n",
    "l2=[x for x in l if x]\n",
    "print(l2)"
   ]
  },
  {
   "cell_type": "code",
   "execution_count": 4,
   "id": "1c2942b5",
   "metadata": {},
   "outputs": [
    {
     "name": "stdout",
     "output_type": "stream",
     "text": [
      "Sum: 1st column of the said list of lists: 12\n"
     ]
    }
   ],
   "source": [
    "#Date-7/12/22\n",
    "#142-sum a specific column of a list in a given list of lists\n",
    "#input-[[1, 2, 3, 2], [4, 5, 6, 2], [7, 8, 9, 5]]\n",
    "#output-Sum: 1st column of the said list of lists:12\n",
    "\n",
    "l=[[1, 2, 3, 2], [4, 5, 6, 2], [7, 8, 9, 5]]\n",
    "c=0\n",
    "#sums=0\n",
    "#for i in l:\n",
    "    #sums=sums+i[0]\n",
    "def sum_col(l,c):\n",
    "    result=sum(row[c] for row in l)\n",
    "    print(\"Sum: 1st column of the said list of lists:\",result)\n",
    "sum_col(l,c)\n",
    "#print(\"Sum: 1st column of the said list of lists:\",sums)\n",
    "#print(\"Sum: 1st column of the said list of lists:\",result)"
   ]
  },
  {
   "cell_type": "code",
   "execution_count": 15,
   "id": "aa7dcff7",
   "metadata": {},
   "outputs": [
    {
     "ename": "TypeError",
     "evalue": "unhashable type: 'list'",
     "output_type": "error",
     "traceback": [
      "\u001b[1;31m---------------------------------------------------------------------------\u001b[0m",
      "\u001b[1;31mTypeError\u001b[0m                                 Traceback (most recent call last)",
      "\u001b[1;32m~\\AppData\\Local\\Temp/ipykernel_2552/3669795014.py\u001b[0m in \u001b[0;36m<module>\u001b[1;34m\u001b[0m\n\u001b[0;32m     14\u001b[0m         \u001b[0mprint\u001b[0m\u001b[1;33m(\u001b[0m\u001b[0mkey\u001b[0m\u001b[1;33m,\u001b[0m\u001b[1;34m\":\"\u001b[0m\u001b[1;33m,\u001b[0m\u001b[0mval\u001b[0m\u001b[1;33m)\u001b[0m\u001b[1;33m\u001b[0m\u001b[1;33m\u001b[0m\u001b[0m\n\u001b[0;32m     15\u001b[0m \u001b[0mlst\u001b[0m\u001b[1;33m=\u001b[0m \u001b[1;33m[\u001b[0m\u001b[1;33m[\u001b[0m\u001b[1;36m1\u001b[0m\u001b[1;33m,\u001b[0m \u001b[1;36m2\u001b[0m\u001b[1;33m,\u001b[0m \u001b[1;36m3\u001b[0m\u001b[1;33m,\u001b[0m \u001b[1;36m2\u001b[0m\u001b[1;33m]\u001b[0m\u001b[1;33m,\u001b[0m \u001b[1;33m[\u001b[0m\u001b[1;36m4\u001b[0m\u001b[1;33m,\u001b[0m \u001b[1;36m5\u001b[0m\u001b[1;33m,\u001b[0m \u001b[1;36m6\u001b[0m\u001b[1;33m,\u001b[0m \u001b[1;36m2\u001b[0m\u001b[1;33m]\u001b[0m\u001b[1;33m,\u001b[0m \u001b[1;33m[\u001b[0m\u001b[1;36m7\u001b[0m\u001b[1;33m,\u001b[0m \u001b[1;36m8\u001b[0m\u001b[1;33m,\u001b[0m \u001b[1;36m9\u001b[0m\u001b[1;33m,\u001b[0m \u001b[1;36m5\u001b[0m\u001b[1;33m]\u001b[0m\u001b[1;33m]\u001b[0m\u001b[1;33m\u001b[0m\u001b[1;33m\u001b[0m\u001b[0m\n\u001b[1;32m---> 16\u001b[1;33m \u001b[0mprint\u001b[0m\u001b[1;33m(\u001b[0m\u001b[0mfreq_lst_ele\u001b[0m\u001b[1;33m(\u001b[0m\u001b[0ml\u001b[0m\u001b[1;33m)\u001b[0m\u001b[1;33m)\u001b[0m\u001b[1;33m\u001b[0m\u001b[1;33m\u001b[0m\u001b[0m\n\u001b[0m",
      "\u001b[1;32m~\\AppData\\Local\\Temp/ipykernel_2552/3669795014.py\u001b[0m in \u001b[0;36mfreq_lst_ele\u001b[1;34m(l)\u001b[0m\n\u001b[0;32m     10\u001b[0m     \u001b[0mresult\u001b[0m\u001b[1;33m=\u001b[0m\u001b[1;33m[\u001b[0m\u001b[1;33m]\u001b[0m\u001b[1;33m\u001b[0m\u001b[1;33m\u001b[0m\u001b[0m\n\u001b[0;32m     11\u001b[0m     \u001b[1;31m#key_func= lambda x:x.Counter(l)\u001b[0m\u001b[1;33m\u001b[0m\u001b[1;33m\u001b[0m\u001b[0m\n\u001b[1;32m---> 12\u001b[1;33m     \u001b[0md\u001b[0m\u001b[1;33m=\u001b[0m\u001b[0mCounter\u001b[0m\u001b[1;33m(\u001b[0m\u001b[0ml\u001b[0m\u001b[1;33m)\u001b[0m\u001b[1;33m\u001b[0m\u001b[1;33m\u001b[0m\u001b[0m\n\u001b[0m\u001b[0;32m     13\u001b[0m     \u001b[1;32mfor\u001b[0m \u001b[0mkey\u001b[0m\u001b[1;33m,\u001b[0m \u001b[0mval\u001b[0m \u001b[1;32min\u001b[0m \u001b[0mitertools\u001b[0m\u001b[1;33m.\u001b[0m\u001b[0mgroupby\u001b[0m\u001b[1;33m(\u001b[0m\u001b[0ml\u001b[0m\u001b[1;33m,\u001b[0m\u001b[0mkey_func\u001b[0m\u001b[1;33m)\u001b[0m\u001b[1;33m:\u001b[0m\u001b[1;33m\u001b[0m\u001b[1;33m\u001b[0m\u001b[0m\n\u001b[0;32m     14\u001b[0m         \u001b[0mprint\u001b[0m\u001b[1;33m(\u001b[0m\u001b[0mkey\u001b[0m\u001b[1;33m,\u001b[0m\u001b[1;34m\":\"\u001b[0m\u001b[1;33m,\u001b[0m\u001b[0mval\u001b[0m\u001b[1;33m)\u001b[0m\u001b[1;33m\u001b[0m\u001b[1;33m\u001b[0m\u001b[0m\n",
      "\u001b[1;32m~\\anaconda3\\lib\\collections\\__init__.py\u001b[0m in \u001b[0;36m__init__\u001b[1;34m(self, iterable, **kwds)\u001b[0m\n\u001b[0;32m    591\u001b[0m         '''\n\u001b[0;32m    592\u001b[0m         \u001b[0msuper\u001b[0m\u001b[1;33m(\u001b[0m\u001b[1;33m)\u001b[0m\u001b[1;33m.\u001b[0m\u001b[0m__init__\u001b[0m\u001b[1;33m(\u001b[0m\u001b[1;33m)\u001b[0m\u001b[1;33m\u001b[0m\u001b[1;33m\u001b[0m\u001b[0m\n\u001b[1;32m--> 593\u001b[1;33m         \u001b[0mself\u001b[0m\u001b[1;33m.\u001b[0m\u001b[0mupdate\u001b[0m\u001b[1;33m(\u001b[0m\u001b[0miterable\u001b[0m\u001b[1;33m,\u001b[0m \u001b[1;33m**\u001b[0m\u001b[0mkwds\u001b[0m\u001b[1;33m)\u001b[0m\u001b[1;33m\u001b[0m\u001b[1;33m\u001b[0m\u001b[0m\n\u001b[0m\u001b[0;32m    594\u001b[0m \u001b[1;33m\u001b[0m\u001b[0m\n\u001b[0;32m    595\u001b[0m     \u001b[1;32mdef\u001b[0m \u001b[0m__missing__\u001b[0m\u001b[1;33m(\u001b[0m\u001b[0mself\u001b[0m\u001b[1;33m,\u001b[0m \u001b[0mkey\u001b[0m\u001b[1;33m)\u001b[0m\u001b[1;33m:\u001b[0m\u001b[1;33m\u001b[0m\u001b[1;33m\u001b[0m\u001b[0m\n",
      "\u001b[1;32m~\\anaconda3\\lib\\collections\\__init__.py\u001b[0m in \u001b[0;36mupdate\u001b[1;34m(self, iterable, **kwds)\u001b[0m\n\u001b[0;32m    677\u001b[0m                     \u001b[0msuper\u001b[0m\u001b[1;33m(\u001b[0m\u001b[1;33m)\u001b[0m\u001b[1;33m.\u001b[0m\u001b[0mupdate\u001b[0m\u001b[1;33m(\u001b[0m\u001b[0miterable\u001b[0m\u001b[1;33m)\u001b[0m\u001b[1;33m\u001b[0m\u001b[1;33m\u001b[0m\u001b[0m\n\u001b[0;32m    678\u001b[0m             \u001b[1;32melse\u001b[0m\u001b[1;33m:\u001b[0m\u001b[1;33m\u001b[0m\u001b[1;33m\u001b[0m\u001b[0m\n\u001b[1;32m--> 679\u001b[1;33m                 \u001b[0m_count_elements\u001b[0m\u001b[1;33m(\u001b[0m\u001b[0mself\u001b[0m\u001b[1;33m,\u001b[0m \u001b[0miterable\u001b[0m\u001b[1;33m)\u001b[0m\u001b[1;33m\u001b[0m\u001b[1;33m\u001b[0m\u001b[0m\n\u001b[0m\u001b[0;32m    680\u001b[0m         \u001b[1;32mif\u001b[0m \u001b[0mkwds\u001b[0m\u001b[1;33m:\u001b[0m\u001b[1;33m\u001b[0m\u001b[1;33m\u001b[0m\u001b[0m\n\u001b[0;32m    681\u001b[0m             \u001b[0mself\u001b[0m\u001b[1;33m.\u001b[0m\u001b[0mupdate\u001b[0m\u001b[1;33m(\u001b[0m\u001b[0mkwds\u001b[0m\u001b[1;33m)\u001b[0m\u001b[1;33m\u001b[0m\u001b[1;33m\u001b[0m\u001b[0m\n",
      "\u001b[1;31mTypeError\u001b[0m: unhashable type: 'list'"
     ]
    }
   ],
   "source": [
    "#143-program to get the frequency of the elements in a given list of lists\n",
    "#input-[[1, 2, 3, 2], [4, 5, 6, 2], [7, 8, 9, 5]]\n",
    "#output-{1: 1, 2: 3, 3: 1, 4: 1, 5: 2, 6: 1, 7: 1, 8: 1, 9: 1}\n",
    "#s1-groupby\n",
    "#s2-dictionary\n",
    "#s3-for loop\n",
    "import itertools\n",
    "from collections import Counter\n",
    "def freq_lst_ele(l):\n",
    "    result=[]\n",
    "    #key_func= lambda x:x.Counter(l)\n",
    "    d=Counter(l)\n",
    "    for key, val in itertools.groupby(l,key_func):\n",
    "        print(key,\":\",val)\n",
    "lst= [[1, 2, 3, 2], [4, 5, 6, 2], [7, 8, 9, 5]]\n",
    "print(freq_lst_ele(l))"
   ]
  },
  {
   "cell_type": "code",
   "execution_count": 21,
   "id": "b26567f3",
   "metadata": {},
   "outputs": [
    {
     "name": "stdout",
     "output_type": "stream",
     "text": [
      "Counter({1: 2, 2: 2, 3: 2, 4: 2, 5: 2})\n"
     ]
    }
   ],
   "source": [
    "from collections import Counter\n",
    "l=[1, 1, 2, 2, 3, 3, 4, 4, 5, 5]\n",
    "x=2\n",
    "d=Counter(l)\n",
    "print(Counter(l))    "
   ]
  },
  {
   "cell_type": "code",
   "execution_count": 36,
   "id": "120da90e",
   "metadata": {},
   "outputs": [
    {
     "data": {
      "text/plain": [
       "[(1, 4), (2, 3), (3, 2), (4, 2), (5, 2)]"
      ]
     },
     "execution_count": 36,
     "metadata": {},
     "output_type": "execute_result"
    }
   ],
   "source": [
    "from itertools import groupby\n",
    "l=[1, 1,1,1, 2, 2, 2,3, 3, 4, 4, 5, 5]\n",
    "[(key,len(list(val))) for key,val in groupby(l)]"
   ]
  },
  {
   "cell_type": "code",
   "execution_count": 37,
   "id": "f75d87d0",
   "metadata": {},
   "outputs": [
    {
     "name": "stdout",
     "output_type": "stream",
     "text": [
      "{1: 4, 2: 3, 3: 2, 4: 2, 5: 2}\n"
     ]
    }
   ],
   "source": [
    "l=[1, 1,1,1, 2, 2, 2,3, 3, 4, 4, 5, 5]\n",
    "d={x:l.count(x) for x in l}\n",
    "print(d)"
   ]
  },
  {
   "cell_type": "code",
   "execution_count": 5,
   "id": "aaba3c45",
   "metadata": {},
   "outputs": [
    {
     "name": "stdout",
     "output_type": "stream",
     "text": [
      "Original list of lists:\n",
      "[[1, 2, 3, 2], [4, 5, 6, 2], [7, 8, 9, 5]]\n",
      "\n",
      "Frequency of the elements in the said list of lists:\n",
      "l [1, 2, 3, 2, 4, 5, 6, 2, 7, 8, 9, 5]\n",
      "{1: 1, 2: 3, 3: 1, 4: 1, 5: 2, 6: 1, 7: 1, 8: 1, 9: 1}\n"
     ]
    }
   ],
   "source": [
    "#Date-7/13/22\n",
    "#dictionary method\n",
    "def count_ele_lst(nums):\n",
    "    nums=[items for sublist in nums for items in sublist]-flatten the list\n",
    "    #print(\"l\",nums)\n",
    "    dic_data={}#define dictionary\n",
    "    for num in nums:\n",
    "        if num in dic_data.keys():\n",
    "            dic_data[num]+=1\n",
    "        else:\n",
    "            key=num\n",
    "            value=1\n",
    "            dic_data[key]=value\n",
    "    return dic_data\n",
    "nums = [\n",
    "        [1,2,3,2],\n",
    "        [4,5,6,2],\n",
    "        [7,8,9,5],\n",
    "       ]    \n",
    "print(\"Original list of lists:\")\n",
    "print(nums)\n",
    "print(\"\\nFrequency of the elements in the said list of lists:\")\n",
    "print(count_ele_lst(nums))"
   ]
  },
  {
   "cell_type": "code",
   "execution_count": 8,
   "id": "a080d646",
   "metadata": {},
   "outputs": [
    {
     "name": "stdout",
     "output_type": "stream",
     "text": [
      "[1, 4, 7]\n"
     ]
    }
   ],
   "source": [
    "#144-extract every first or specified element from a given two-dimensional list\n",
    "#input-[[1, 2, 3, 2], [4, 5, 6, 2], [7, 1, 9, 5]]\n",
    "#first element-[1, 4, 7]\n",
    "l=[[1, 2, 3, 2], [4, 5, 6, 2], [7, 1, 9, 5]]\n",
    "n=1\n",
    "lst=[]\n",
    "lst=[i[n-1] for i in l]\n",
    "print(lst)"
   ]
  },
  {
   "cell_type": "code",
   "execution_count": 13,
   "id": "8f88e173",
   "metadata": {},
   "outputs": [
    {
     "name": "stdout",
     "output_type": "stream",
     "text": [
      "8\n"
     ]
    }
   ],
   "source": [
    "#145-generate a number in a specified range except some specific numbers\n",
    "#input-Generate a number in a specified range (1, 10) except [2, 9, 10]\n",
    "#output-7\n",
    "#s1-random method with exception\n",
    "import random\n",
    "r1=2\n",
    "while(r1==2 or r1==9 or r1==10):\n",
    "    r1=random.randint(1,11)\n",
    "print(r1)    "
   ]
  },
  {
   "cell_type": "code",
   "execution_count": 15,
   "id": "3dbaa037",
   "metadata": {},
   "outputs": [
    {
     "name": "stdout",
     "output_type": "stream",
     "text": [
      "Generate a number in a specified range (1, 10) except [2, 9, 10]\n",
      "4\n"
     ]
    }
   ],
   "source": [
    "#for loop\n",
    "from random import choice\n",
    "def generate_random(strt_rng,end_rng,lst):\n",
    "    result=choice([i for i in range(strt_rng,end_rng) if i not in lst])\n",
    "    return result\n",
    "start_range = 1\n",
    "end_range = 10\n",
    "nums = [2, 9, 10]\n",
    "print(\"Generate a number in a specified range (1, 10) except [2, 9, 10]\")\n",
    "print(generate_random(start_range,end_range,nums))"
   ]
  },
  {
   "cell_type": "code",
   "execution_count": 31,
   "id": "dbb556b9",
   "metadata": {},
   "outputs": [
    {
     "name": "stdout",
     "output_type": "stream",
     "text": [
      "Original tuple: \n",
      "[10, 2, 56]\n",
      "Sum of digits of each number of the said list of integers:\n",
      "14\n"
     ]
    }
   ],
   "source": [
    "#146-compute the sum of digits of each number of a given list.\n",
    "#input-[10, 20, 4, 5, 'b', 70, 'a']\n",
    "#output-Sum of digits of each number of the said list of integers:19\n",
    "lst=[10, 20, -4, 5, -70]\n",
    "sums=0\n",
    "def sum_of_digits(nums):\n",
    "    return sum(int(el)for n in nums for el in str(n)if el.isdigit())\n",
    "nums = [10,2,56]\n",
    "print(\"Original tuple: \") \n",
    "print(nums)\n",
    "print(\"Sum of digits of each number of the said list of integers:\")\n",
    "print(sum_of_digits(nums))"
   ]
  },
  {
   "cell_type": "code",
   "execution_count": 43,
   "id": "98bda820",
   "metadata": {},
   "outputs": [
    {
     "name": "stdout",
     "output_type": "stream",
     "text": [
      "[] []\n",
      "[4, 1, 3, 2, 7, 8, 8, 9, 3, 4, 3, 8, 7, 9]\n"
     ]
    }
   ],
   "source": [
    "#147-program to interleave two given list into another list randomly\n",
    "#Original lists:[1, 2, 7, 8, 3, 7]  ;[4, 3, 8, 9, 4, 3, 8, 9]\n",
    "#output-[4, 1, 2, 3, 8, 9, 4, 3, 7, 8, 9, 8, 3, 7]\n",
    "import random\n",
    "l1=[1, 2, 7, 8, 3, 7] \n",
    "l2=[4, 3, 8, 9, 4, 3, 8, 9]\n",
    "def random_interleave(nums1,nums2):\n",
    "    result =  [x.pop(0) for x in random.sample([nums1]*len(nums1) + [nums2]*len(nums2), len(nums1)+len(nums2))]\n",
    "    print(random.sample([nums1]*len(nums1),len(nums1)),[nums2]*len(nums2))\n",
    "    return result\n",
    "print(random_interleave(l1,l2))"
   ]
  },
  {
   "cell_type": "code",
   "execution_count": 47,
   "id": "03e26174",
   "metadata": {},
   "outputs": [
    {
     "name": "stdout",
     "output_type": "stream",
     "text": [
      "['red', 'green', 'blue', 'black'] ['white', 'orange']\n"
     ]
    }
   ],
   "source": [
    "#148-remove specific words from a given list.\n",
    "#input-['red', 'green', 'blue', 'white', 'black', 'orange']; Remove words:['white', 'orange']\n",
    "#output-['red', 'green', 'blue', 'black']\n",
    "#create new list\n",
    "#remove method\n",
    "l=['red', 'green', 'blue', 'white', 'black', 'orange']\n",
    "rem_l=['white', 'orange']\n",
    "for i in l:\n",
    "    if i in rem_l:\n",
    "        l.remove(i)\n",
    "print(l,rem_l)"
   ]
  },
  {
   "cell_type": "code",
   "execution_count": 15,
   "id": "f562e5e3",
   "metadata": {},
   "outputs": [
    {
     "name": "stdout",
     "output_type": "stream",
     "text": [
      "Original list:\n",
      "['orange', 'red', 'green', 'blue']\n",
      "\n",
      "All possible combinations of the said list’s elements:\n",
      "[[], ['orange'], ['red'], ['red', 'orange'], ['green'], ['green', 'orange'], ['green', 'red'], ['green', 'red', 'orange'], ['blue'], ['blue', 'orange'], ['blue', 'red'], ['blue', 'red', 'orange'], ['blue', 'green'], ['blue', 'green', 'orange'], ['blue', 'green', 'red'], ['blue', 'green', 'red', 'orange']]\n"
     ]
    }
   ],
   "source": [
    "#149-all possible combinations of the elements of a given list.\n",
    "#input-['orange', 'red', 'green', 'blue']\n",
    "#output-[[], ['orange'], ['red'], ['red', 'orange'], ['green'], ['green', 'orange'], ['green', 'red'], \n",
    "#['green', 'red', 'orange'], ['blue'], ['blue', 'orange'], ['blue', 'red'], ['blue', 'red', 'orange'], \n",
    "#['blue', 'green'], ['blue', 'green', 'orange'], ['blue', 'green', 'red'], ['blue', 'green', 'red', 'orange']]\n",
    "\n",
    "#s1-recursion method\n",
    "def combinations_lst(colors):\n",
    "    if len(colors)==0:\n",
    "        return [[]]\n",
    "    result=[]\n",
    "    for el in combinations_lst(colors[1:]):\n",
    "        result+=[el,el+[colors[0]]]\n",
    "    return result\n",
    "colors = ['orange', 'red', 'green', 'blue']\n",
    "print(\"Original list:\")\n",
    "print(colors)\n",
    "print(\"\\nAll possible combinations of the said list’s elements:\")\n",
    "print(combinations_lst(colors))  "
   ]
  },
  {
   "cell_type": "code",
   "execution_count": 7,
   "id": "a4253324",
   "metadata": {},
   "outputs": [
    {
     "name": "stdout",
     "output_type": "stream",
     "text": [
      "[['Hirva'], ['white', 'black', 'pink'], ['green', 'blue'], ['orange', 'red']]\n"
     ]
    }
   ],
   "source": [
    "#150-reverse a given list of lists.\n",
    "l=[['orange', 'red'], ['green', 'blue'], ['white', 'black', 'pink'],['Hirva']]\n",
    "l_rev=l[::-1]\n",
    "print(l_rev)"
   ]
  },
  {
   "cell_type": "code",
   "execution_count": 9,
   "id": "688522b4",
   "metadata": {},
   "outputs": [
    {
     "name": "stdout",
     "output_type": "stream",
     "text": [
      "30\n"
     ]
    }
   ],
   "source": [
    "#151- maximum and minimum values in a given list within specified index range\n",
    "l=[4, 3, 0, 5, 3, 0, 2, 30, 4, 2, 4, 3, 5]\n",
    "idx=(3,8)\n",
    "maxm=max(l[3:8])\n",
    "print(maxm)"
   ]
  },
  {
   "cell_type": "code",
   "execution_count": 20,
   "id": "3cf7e161",
   "metadata": {},
   "outputs": [
    {
     "name": "stdout",
     "output_type": "stream",
     "text": [
      "Original list:\n",
      "[4, 3, 0, 5, 3, 0, 2, 3, 4, 2, 4, 3, 5]\n",
      "\n",
      "Index range:\n",
      "3 to 8\n",
      "\n",
      "Maximum and minimum values of the said given list within index range:\n",
      "(5, 0)\n"
     ]
    }
   ],
   "source": [
    "def rev_lst_of_lst(nums,lr,hr):\n",
    "    temp=[]\n",
    "    for idx, el in enumerate(nums):\n",
    "        if idx>=lr and idx<hr:\n",
    "            temp.append(el)\n",
    "    result_max=max(temp)\n",
    "    result_min=min(temp)\n",
    "    return result_max, result_min\n",
    "nums = [4,3,0,5,3,0,2,3,4,2,4,3,5]\n",
    "print(\"Original list:\")\n",
    "print(nums)\n",
    "print(\"\\nIndex range:\")\n",
    "lr = 3\n",
    "hr = 8\n",
    "print(lr,\"to\",hr)\n",
    "print(\"\\nMaximum and minimum values of the said given list within index range:\")\n",
    "print(rev_lst_of_lst(nums,lr,hr))"
   ]
  },
  {
   "cell_type": "code",
   "execution_count": 18,
   "id": "03a6884c",
   "metadata": {},
   "outputs": [
    {
     "name": "stdout",
     "output_type": "stream",
     "text": [
      "[()]\n",
      "[(1,)]\n",
      "[(2,)]\n",
      "[(3,)]\n",
      "[(1, 2)]\n",
      "[(1, 3)]\n",
      "[(2, 3)]\n",
      "[(1, 2, 3)]\n"
     ]
    }
   ],
   "source": [
    "#Date-7/14/22\n",
    "#149-\n",
    "import itertools\n",
    "stuff=[1,2,3]\n",
    "for l in range(0,len(stuff)+1):\n",
    "    for subset in itertools.combinations(stuff,l):\n",
    "        print(subset)"
   ]
  },
  {
   "cell_type": "code",
   "execution_count": 19,
   "id": "208b581d",
   "metadata": {},
   "outputs": [
    {
     "name": "stdout",
     "output_type": "stream",
     "text": [
      "()\n",
      "(1,)\n",
      "(2,)\n",
      "(3,)\n",
      "(1, 2)\n",
      "(1, 3)\n",
      "(2, 3)\n",
      "(1, 2, 3)\n"
     ]
    }
   ],
   "source": [
    "from itertools import chain,combinations\n",
    "stuff=[1,2,3]\n",
    "def all_subsets(ss):\n",
    "    return chain(*map(lambda x:combinations(ss,x),range(0,len(ss)+1)))\n",
    "for subsets in all_subsets(stuff):\n",
    "    print(subsets)"
   ]
  },
  {
   "cell_type": "code",
   "execution_count": 21,
   "id": "9c591c06",
   "metadata": {},
   "outputs": [
    {
     "name": "stdout",
     "output_type": "stream",
     "text": [
      "[0, 1, 2, 3, 4, 5, 6, 7, 8, 9, 10, 11]\n"
     ]
    }
   ],
   "source": [
    "#152-combine two given sorted lists using heapq module\n",
    "l1=[1, 3, 5, 7, 9, 11]\n",
    "l2=[0, 2, 4, 6, 8, 10]\n",
    "from heapq import merge\n",
    "def mergeArray(lst1,lst2):\n",
    "    return list(merge(lst1,lst2))\n",
    "print(mergeArray(l1,l2))"
   ]
  },
  {
   "cell_type": "code",
   "execution_count": 24,
   "id": "f36b4626",
   "metadata": {},
   "outputs": [
    {
     "name": "stdout",
     "output_type": "stream",
     "text": [
      "False\n"
     ]
    }
   ],
   "source": [
    "#153-check if a given element occurs at least n times in a list\n",
    "l1=[0, 1, 3, 5, 0, 3, 4, 5, 0, 8, 0, 3, 6, 0, 3, 1, 1, 0]\n",
    "#Check if 3 occurs at least 4 times in a list\n",
    "el=3\n",
    "occr=10\n",
    "def occrnce_ele(lst,elm,freq):\n",
    "    for i in lst:\n",
    "        if lst.count(elm)==freq:\n",
    "            return True\n",
    "    return False\n",
    "print(occrnce_ele(l1,el,occr))"
   ]
  },
  {
   "cell_type": "code",
   "execution_count": 30,
   "id": "d24854d7",
   "metadata": {},
   "outputs": [
    {
     "name": "stdout",
     "output_type": "stream",
     "text": [
      "Original list:\n",
      "[0, 1, 3, 5, 0, 3, 4, 5, 0, 8, 0, 3, 6, 0, 3, 1, 1, 0]\n",
      "\n",
      "Check if 3 occurs at least 4 times in a list:\n",
      "True\n"
     ]
    }
   ],
   "source": [
    "def check_el_in_lst(lst,x,n):\n",
    "    t=0\n",
    "    try:\n",
    "        for _ in range(n):\n",
    "            t=lst.index(x,t)+1\n",
    "            #print(t,lst.index(x,t))\n",
    "        return True\n",
    "    except ValueError:\n",
    "        return False\n",
    "nums = [0,1,3,5,0,3,4,5,0,8,0,3,6,0,3,1,1,0]\n",
    "print(\"Original list:\")\n",
    "print(nums)\n",
    "x = 3\n",
    "n = 4\n",
    "print(\"\\nCheck if\",x,\"occurs at least\",n,\"times in a list:\")\n",
    "print(check_el_in_lst(nums,x,n))"
   ]
  },
  {
   "cell_type": "code",
   "execution_count": 36,
   "id": "13aca891",
   "metadata": {},
   "outputs": [
    {
     "name": "stdout",
     "output_type": "stream",
     "text": [
      "[[10, 20, [61]], [30, 40, [12, 14, 15]], [50, 60, [12, 13, 19, 20]], [30, 20, 80, [12]]]\n"
     ]
    }
   ],
   "source": [
    "#154-join two given list of lists of same length, element wise\n",
    "#input-[[10, 20], [30, 40], [50, 60], [30, 20, 80]];;[[61], [12, 14, 15], [12, 13, 19, 20], [12]]\n",
    "#output-[[10, 20, 61], [30, 40, 12, 14, 15], [50, 60, 12, 13, 19, 20], [30, 20, 80, 12]]]\n",
    "#append method\n",
    "l1=[[10, 20], [30, 40], [50, 60], [30, 20, 80]]\n",
    "l2=[[61], [12, 14, 15], [12, 13, 19, 20], [12]]\n",
    "\n",
    "for i in range(len(l1)):\n",
    "    l1[i].append(l2[i])\n",
    "print(l1)\n",
    "               "
   ]
  },
  {
   "cell_type": "code",
   "execution_count": 37,
   "id": "92ca85f2",
   "metadata": {},
   "outputs": [
    {
     "name": "stdout",
     "output_type": "stream",
     "text": [
      "Original lists:\n",
      "[[10, 20], [30, 40], [50, 60], [30, 20, 80]]\n",
      "[[61], [12, 14, 15], [12, 13, 19, 20], [12]]\n",
      "\n",
      "Join the said two lists element wise:\n",
      "[[10, 20, 61], [30, 40, 12, 14, 15], [50, 60, 12, 13, 19, 20], [30, 20, 80, 12]]\n"
     ]
    }
   ],
   "source": [
    "#zip method\n",
    "def elementWise_join(l1,l2):\n",
    "    result=[x+y for x,y in zip(l1,l2)]\n",
    "    #result=list(zip(l1,l2))\n",
    "    return result\n",
    "nums1 = [[10,20], [30,40], [50,60], [30,20,80]]\n",
    "nums2 = [[61], [12,14,15], [12,13,19,20], [12]]\n",
    "print(\"Original lists:\")\n",
    "print(nums1)\n",
    "print(nums2)\n",
    "print(\"\\nJoin the said two lists element wise:\")\n",
    "print(elementWise_join(nums1, nums2))"
   ]
  },
  {
   "cell_type": "code",
   "execution_count": 43,
   "id": "f1af2f5b",
   "metadata": {},
   "outputs": [
    {
     "name": "stdout",
     "output_type": "stream",
     "text": [
      "[10, 20, 61]\n",
      "[30, 40, 12, 14, 15]\n",
      "[50, 60, 12, 13, 19, 20]\n",
      "[30, 20, 80, 12]\n"
     ]
    }
   ],
   "source": [
    "l1=[[10,20], [30,40], [50,60], [30,20,80]]\n",
    "l2=[[61], [12,14,15], [12,13,19,20], [12]]\n",
    "for i,j in (zip(l1,l2)):\n",
    "    print(i+j)"
   ]
  },
  {
   "cell_type": "code",
   "execution_count": 47,
   "id": "e9c4da09",
   "metadata": {},
   "outputs": [
    {
     "name": "stdout",
     "output_type": "stream",
     "text": [
      "[5, 7, 6, 7, 8, 11]\n"
     ]
    }
   ],
   "source": [
    "#155- add two given lists of different lengths, start from left\n",
    "l1=[2, 4, 7, 0, 5, 8]\n",
    "l2=[3, 3, -1, 7]\n",
    "\n",
    "#s1-itertools and zip\n",
    "from itertools import cycle\n",
    "output=[x+y for x,y in zip(cycle(l2),l1)]  #it add cyclic manner observe last two elements in output\n",
    "print(output)"
   ]
  },
  {
   "cell_type": "code",
   "execution_count": 48,
   "id": "bf3384c7",
   "metadata": {},
   "outputs": [
    {
     "name": "stdout",
     "output_type": "stream",
     "text": [
      "[159, 221, 456, 294, 216, 257, 577, 132, 330, 361]\n"
     ]
    }
   ],
   "source": [
    "from itertools import starmap,cycle\n",
    "from operator import add\n",
    "list1 = [150, 177, 454, 126]\n",
    "list2 = [9, 44, 2, 168, 66, 80, 123, 6, 180, 184]\n",
    "output=list(starmap(add,zip(cycle(list1),list2)))\n",
    "print(output)"
   ]
  },
  {
   "cell_type": "code",
   "execution_count": 49,
   "id": "660d5e47",
   "metadata": {},
   "outputs": [
    {
     "name": "stdout",
     "output_type": "stream",
     "text": [
      "[159, 221, 456, 294, 216, 257, 577, 132, 330, 361]\n"
     ]
    }
   ],
   "source": [
    "#list comprehension\n",
    "list1 = [150, 177, 454, 126]\n",
    "list2 = [9, 44, 2, 168, 66, 80, 123, 6, 180, 184]\n",
    "output=[list1[i%len(list1)]+list2[i] for i in range(len(list2))]\n",
    "print(output)"
   ]
  },
  {
   "cell_type": "code",
   "execution_count": 56,
   "id": "2fabb050",
   "metadata": {},
   "outputs": [
    {
     "name": "stdout",
     "output_type": "stream",
     "text": [
      "Original lists:\n",
      "[2, 4, 7, 0, 5, 8]\n",
      "[3, 3, -1, 7]\n",
      "\n",
      "Add said two lists from left:\n",
      "[5, 7, 6, 7, 5, 8]\n"
     ]
    }
   ],
   "source": [
    "def elementwise_left(l1,l2):\n",
    "    f_len=len(l1)-(len(l2)-1)#l1 is always bigger list\n",
    "    #print(f_len)\n",
    "    for i in range(0,len(l2),1):\n",
    "        #print(f_len-i)\n",
    "        if f_len-i>=len(l1): #when smaller list ends keep numbers in bigger list\n",
    "            break\n",
    "        else:\n",
    "            l1[i]=l1[i]+l2[i]\n",
    "    return l1\n",
    "nums1 = [2, 4, 7, 0, 5, 8]\n",
    "nums2 = [3, 3, -1, 7]\n",
    "print(\"Original lists:\")\n",
    "print(nums1)\n",
    "print(nums2)\n",
    "print(\"\\nAdd said two lists from left:\")\n",
    "print(elementwise_left(nums1,nums2))"
   ]
  },
  {
   "cell_type": "code",
   "execution_count": 64,
   "id": "cca58fa5",
   "metadata": {},
   "outputs": [
    {
     "name": "stdout",
     "output_type": "stream",
     "text": [
      "Original lists:\n",
      "[2, 4, 7, 0, 5, 8]\n",
      "[3, 3, -1, 7]\n",
      "\n",
      "Add said two lists from left:\n",
      "[2, 4, 10, 3, 4, 15]\n"
     ]
    }
   ],
   "source": [
    "#156-add two given lists of different lengths, start from right\n",
    "#input=[2, 4, 7, 0, 5, 8];;; [3, 3, -1, 7]\n",
    "#output=[2, 4, 10, 3, 4, 15]\n",
    "def add_lst_right(l1,l2):\n",
    "    f_len=len(l1)-(len(l2)-1)\n",
    "    #f_len=len(l1)-(len(l2))\n",
    "    for i in range(len(l1),0,-1):\n",
    "        if i-f_len<0:\n",
    "            break\n",
    "        else:\n",
    "            l1[i-1]=l1[i-1]+l2[i-f_len]\n",
    "    return l1\n",
    "nums1 = [2, 4, 7, 0, 5, 8]\n",
    "nums2 = [3, 3, -1,7]\n",
    "print(\"Original lists:\")\n",
    "print(nums1)\n",
    "print(nums2)\n",
    "print(\"\\nAdd said two lists from left:\")\n",
    "print(add_lst_right(nums1, nums2))"
   ]
  },
  {
   "cell_type": "code",
   "execution_count": 2,
   "id": "9a85053d",
   "metadata": {},
   "outputs": [
    {
     "name": "stdout",
     "output_type": "stream",
     "text": [
      "[2, 4, 7, 0, 5, 8, 2, 5, 8, 0, 1, 3, 3, -1, 7]\n"
     ]
    }
   ],
   "source": [
    "#157- interleave multiple given lists of different lengths.\n",
    "#input-[2, 4, 7, 0, 5, 8] ;[2, 5, 8] ;[0, 1] ;[3, 3, -1, 7]\n",
    "#output-[2, 2, 0, 3, 4, 5, 1, 3, 7, 8, -1, 0, 7, 5, 8]\n",
    "l1=[2, 4, 7, 0, 5, 8]\n",
    "l2=[2, 5, 8]\n",
    "l3=[0, 1]\n",
    "l4=[3, 3, -1, 7]\n",
    "for i in l1:\n",
    "    l=l1+l2+l3+l4\n",
    "print(l)"
   ]
  },
  {
   "cell_type": "code",
   "execution_count": 3,
   "id": "230f055e",
   "metadata": {},
   "outputs": [
    {
     "name": "stdout",
     "output_type": "stream",
     "text": [
      "Original lists:\n",
      "[2, 4, 7, 0, 5, 8]\n",
      "[2, 5, 8]\n",
      "[0, 1]\n",
      "[3, 3, -1, 7]\n",
      "\n",
      "Interleave said lists of different lengths:\n",
      "[2, 2, 0, 3, 4, 5, 1, 3, 7, 8, -1, 0, 7, 5, 8]\n"
     ]
    }
   ],
   "source": [
    "#append method\n",
    "def interleave_diff_len_lists(list1, list2, list3, list4):\n",
    "    result = []\n",
    "    l1 = len(list1)\n",
    "    l2 = len(list2)\n",
    "    l3 = len(list3)\n",
    "    l4 = len(list4)\n",
    "    \n",
    "    for i in range(max(l1, l2, l3, l4)):\n",
    "        if i < l1:\n",
    "            result.append(list1[i])\n",
    "        if i < l2:\n",
    "            result.append(list2[i])\n",
    "        if i < l3:\n",
    "            result.append(list3[i])\n",
    "        if i < l4:\n",
    "            result.append(list4[i])\n",
    "    return result\n",
    "\n",
    "nums1 = [2, 4, 7, 0, 5, 8]\n",
    "nums2 = [2, 5, 8]\n",
    "nums3 = [0, 1]\n",
    "nums4 = [3, 3, -1, 7]\n",
    "\n",
    "print(\"Original lists:\")\n",
    "print(nums1)\n",
    "print(nums2)\n",
    "print(nums3)\n",
    "print(nums4)\n",
    "\n",
    "print(\"\\nInterleave said lists of different lengths:\")\n",
    "print(interleave_diff_len_lists(nums1, nums2, nums3, nums4))"
   ]
  },
  {
   "cell_type": "code",
   "execution_count": 13,
   "id": "30f6024d",
   "metadata": {},
   "outputs": [
    {
     "name": "stdout",
     "output_type": "stream",
     "text": [
      "78 60\n"
     ]
    }
   ],
   "source": [
    "#158-find the maximum and minimum values in a given list of tuples\n",
    "from operator import itemgetter\n",
    "l=[('V', 60), ('VI', 70), ('VII', 75), ('VIII', 72), ('IX', 78), ('X', 70)]\n",
    "return_max=max(l,key=itemgetter(1))[1]\n",
    "return_min=min(l,key=itemgetter(1))[1]\n",
    "print(return_max,return_min)"
   ]
  },
  {
   "cell_type": "code",
   "execution_count": 21,
   "id": "e745b062",
   "metadata": {},
   "outputs": [
    {
     "name": "stdout",
     "output_type": "stream",
     "text": [
      "[[1, 2, 5], [1, 2, 5], [1, 2, 5], [1, 2, 5]]\n"
     ]
    }
   ],
   "source": [
    "#159-append the same value /a list multiple times to a list/list-of-lists\n",
    "#input-Add a value(7), 5 times, to a list:\n",
    "#output--['7', '7', '7', '7', '7']\n",
    "val=[1,2,5]\n",
    "n=4\n",
    "l=[]\n",
    "for i in range(n):\n",
    "    l.append(val)\n",
    "print(l)"
   ]
  },
  {
   "cell_type": "code",
   "execution_count": 22,
   "id": "298d57b0",
   "metadata": {},
   "outputs": [
    {
     "name": "stdout",
     "output_type": "stream",
     "text": [
      "['7', '7', '7', '7', '7']\n"
     ]
    }
   ],
   "source": [
    "nums=[]\n",
    "nums+=5*['7']\n",
    "print(nums)"
   ]
  },
  {
   "cell_type": "code",
   "execution_count": 37,
   "id": "1573343e",
   "metadata": {},
   "outputs": [
    {
     "name": "stdout",
     "output_type": "stream",
     "text": [
      "[3, 7, 5, 7, 3, 3, 5, 9, 3, 4, 9, 8, 5]\n"
     ]
    }
   ],
   "source": [
    "#160-remove first specified number of elements from a given list satisfying a condition\n",
    "#input-Remove the first 4 number of even numbers from the following list:\n",
    "#[3,10,4,7,5,7,8,3,3,4,5,9,3,4,9,8,5]\n",
    "#output-[3, 7, 5, 7, 3, 3, 5, 9, 3, 4, 9, 8, 5]\n",
    "l=[3,10,4,7,5,7,8,3,3,4,5,9,3,4,9,8,5]\n",
    "count=0\n",
    "\n",
    "for i in range(len(l)-1):\n",
    "    if l[i]%2==0 and count<4:\n",
    "       # print(i,count,l[i])\n",
    "        count+=1\n",
    "        l.remove(l[i])\n",
    "    elif count>=4:\n",
    "        break\n",
    "print(l)"
   ]
  },
  {
   "cell_type": "code",
   "execution_count": 39,
   "id": "6dbc1394",
   "metadata": {},
   "outputs": [
    {
     "name": "stdout",
     "output_type": "stream",
     "text": [
      "Original list:\n",
      "[3, 10, 4, 7, 5, 7, 8, 3, 3, 4, 5, 9, 3, 4, 9, 8, 5]\n",
      "\n",
      "Remove first 4 even numbers from the said list:\n",
      "[3, 7, 5, 7, 3, 3, 5, 9, 3, 4, 9, 8, 5]\n"
     ]
    }
   ],
   "source": [
    "def con_match(x):\n",
    "    return ((x%2)==0)\n",
    "def rem_items_con(data,n):\n",
    "    ctr=1\n",
    "    result=[]\n",
    "    for x in data:\n",
    "        if ctr>n or not con_match(x):\n",
    "            result.append(x)\n",
    "        else:\n",
    "            ctr+=1\n",
    "    return result\n",
    "nums = [3,10,4,7,5,7,8,3,3,4,5,9,3,4,9,8,5]\n",
    "N = 4\n",
    "print(\"Original list:\")\n",
    "print(nums)\n",
    "print(\"\\nRemove first 4 even numbers from the said list:\")\n",
    "print(rem_items_con(nums, N))"
   ]
  },
  {
   "cell_type": "code",
   "execution_count": 42,
   "id": "7e6fdd38",
   "metadata": {},
   "outputs": [
    {
     "name": "stdout",
     "output_type": "stream",
     "text": [
      "True\n",
      "False\n",
      "True\n"
     ]
    }
   ],
   "source": [
    "#161-check if a given list is strictly increasing or not\n",
    "#s1-compare original list with sorted list \n",
    "def almost_increasing_sequence(sequence):\n",
    "    if len(sequence) < 3:\n",
    "        return True\n",
    "\n",
    "    a, b, *sequence = sequence\n",
    "    skipped = 0\n",
    "    for c in sequence:\n",
    "        if a < b < c:  # XXX\n",
    "            a, b = b, c\n",
    "            continue\n",
    "        elif b < c:    # !XX\n",
    "            a, b = b, c\n",
    "        elif a < c:    # X!X\n",
    "            a, b = a, c\n",
    "        skipped += 1\n",
    "        if skipped == 2:\n",
    "            return False\n",
    "    return a < b\n",
    "\n",
    "print(almost_increasing_sequence([]))\n",
    "print(almost_increasing_sequence([10, 11, 12, 2, 3, 4, 5]))\n",
    "print(almost_increasing_sequence([1, 2, 3, 0, 4, 5, 6]))"
   ]
  },
  {
   "cell_type": "code",
   "execution_count": 46,
   "id": "37924667",
   "metadata": {},
   "outputs": [
    {
     "name": "stdout",
     "output_type": "stream",
     "text": [
      "15\n"
     ]
    }
   ],
   "source": [
    "#162-last occurrence of a specified item in a given list\n",
    "l=['s', 'd', 'f', 's', 'd', 'f', 's', 'f', 'k', 'o', 'p', 'i', 'w', 'e', 'k', 'c']\n",
    "#Last occurrence of f in the said list:\n",
    "ch='c'\n",
    "for i in range(len(l)-1,0,-1):\n",
    "    if l[i]==ch:\n",
    "        print(i)\n",
    "        break"
   ]
  },
  {
   "cell_type": "code",
   "execution_count": 47,
   "id": "a3d41490",
   "metadata": {},
   "outputs": [
    {
     "name": "stdout",
     "output_type": "stream",
     "text": [
      "Original list:\n",
      "['s', 'd', 'f', 's', 'd', 'f', 's', 'f', 'k', 'o', 'p', 'i', 'w', 'e', 'k', 'c']\n",
      "Last occurrence of f in the said list:\n",
      "7\n"
     ]
    }
   ],
   "source": [
    "def last_occr(l,ch):\n",
    "    return ''.join(l).rindex(ch)\n",
    "chars = ['s','d','f','s','d','f','s','f','k','o','p','i','w','e','k','c']\n",
    "print(\"Original list:\")\n",
    "print(chars)\n",
    "ch = 'f'\n",
    "print(\"Last occurrence of\",ch,\"in the said list:\")\n",
    "print(last_occr(chars, ch))"
   ]
  },
  {
   "cell_type": "code",
   "execution_count": 48,
   "id": "8d78505a",
   "metadata": {},
   "outputs": [
    {
     "name": "stdout",
     "output_type": "stream",
     "text": [
      "4\n"
     ]
    }
   ],
   "source": [
    "#163-index of the first element which is greater than a specified element\n",
    "l=[12, 45, 23, 67, 78, 90, 100, 76, 38, 62, 73, 29, 83]\n",
    "#output-Index of the first element which is greater than 73 in the said list:4\n",
    "num=73\n",
    "for i in range(len(l)):\n",
    "    if l[i]>num:\n",
    "        print(i)\n",
    "        break"
   ]
  },
  {
   "cell_type": "code",
   "execution_count": 50,
   "id": "26342c3b",
   "metadata": {},
   "outputs": [
    {
     "name": "stdout",
     "output_type": "stream",
     "text": [
      "5\n"
     ]
    }
   ],
   "source": [
    "#164-get the items from a given list with specific condition\n",
    "l=[12, 45, 23, 67, 78, 90, 45, 32, 100, 76, 38, 62, 73, 29, 83]\n",
    "#output-Number of Items of the said list which are even and greater than 45-5\n",
    "count=0\n",
    "num=45\n",
    "for i in l:\n",
    "    if i>num and i%2==0:\n",
    "        count+=1\n",
    "print(count)"
   ]
  },
  {
   "cell_type": "code",
   "execution_count": 51,
   "id": "635829e9",
   "metadata": {},
   "outputs": [],
   "source": [
    "#164-\n",
    "def first_idx(l1):\n",
    "    return sum(1 for i in l if (i>45 and i%2==0))"
   ]
  },
  {
   "cell_type": "code",
   "execution_count": 60,
   "id": "49f94581",
   "metadata": {},
   "outputs": [
    {
     "name": "stdout",
     "output_type": "stream",
     "text": [
      "[[12, 45, 23], [67, 78, 90], [45, 32, 100], [76, 38, 62], [73, 29, 83]]\n"
     ]
    }
   ],
   "source": [
    "#165-split a given list into specified sized chunks\n",
    "l=[12, 45, 23, 67, 78, 90, 45, 32, 100, 76, 38, 62, 73, 29, 83]\n",
    "n=3\n",
    "op_l=[]\n",
    "for i in range(0,len(l),3):\n",
    "    [op_l.append(l[i:i+n])]\n",
    "print(list(op_l))"
   ]
  },
  {
   "cell_type": "code",
   "execution_count": 61,
   "id": "62829e13",
   "metadata": {},
   "outputs": [
    {
     "name": "stdout",
     "output_type": "stream",
     "text": [
      "Original list:\n",
      "[12, 45, 23, 67, 78, 90, 45, 32, 100, 76, 38, 62, 73, 29, 83]\n",
      "\n",
      "Split the said list into equal size 3\n",
      "[[12, 45, 23], [67, 78, 90], [45, 32, 100], [76, 38, 62], [73, 29, 83]]\n"
     ]
    }
   ],
   "source": [
    "def split_list(lst, n):\n",
    "    result = list((lst[i:i+n] for i in range(0, len(lst), n)))\n",
    "    return result\n",
    "nums = [12,45,23,67,78,90,45,32,100,76,38,62,73,29,83]\n",
    "print(\"Original list:\")\n",
    "print(nums)\n",
    "n = 3\n",
    "print(\"\\nSplit the said list into equal size\",n)\n",
    "print(split_list(nums,n))"
   ]
  },
  {
   "cell_type": "code",
   "execution_count": 2,
   "id": "8300a38f",
   "metadata": {},
   "outputs": [
    {
     "name": "stdout",
     "output_type": "stream",
     "text": [
      "[12, 0, 23, -55, 234, 89, 0, 6, -12]\n"
     ]
    }
   ],
   "source": [
    "#Date-7/15/22\n",
    "#166-remove None value from a given list.\n",
    "l=[12, 0, None, 23, None, -55, 234, 89, None, 0, 6, -12]\n",
    "for i in l:\n",
    "    if i is None:\n",
    "        l.remove(i)\n",
    "print(l)"
   ]
  },
  {
   "cell_type": "code",
   "execution_count": 3,
   "id": "f4beaaf5",
   "metadata": {},
   "outputs": [
    {
     "name": "stdout",
     "output_type": "stream",
     "text": [
      "[12, 0, 23, -55, 234, 89, 0, 6, -12]\n"
     ]
    }
   ],
   "source": [
    "def remove_none(l):\n",
    "    result=[x for x in l if x is not None]\n",
    "    return result\n",
    "lst=[12, 0, None, 23, None, -55, 234, 89, None, 0, 6, -12]\n",
    "print(remove_none(lst))"
   ]
  },
  {
   "cell_type": "code",
   "execution_count": 16,
   "id": "385e7a8f",
   "metadata": {},
   "outputs": [
    {
     "name": "stdout",
     "output_type": "stream",
     "text": [
      "[['R', 'e', 'd'], ['M', 'a', 'r', 'o', 'o', 'n'], ['Y', 'e', 'l', 'l', 'o', 'w'], ['O', 'l', 'i', 'v', 'e']]\n"
     ]
    }
   ],
   "source": [
    "#167-convert a given list of strings into list of lists\n",
    "#output-['R', 'e', 'd'], ['M', 'a', 'r', 'o', 'o', 'n'], ['Y', 'e', 'l', 'l', 'o', 'w'], ['O', 'l', 'i', 'v', 'e']]\n",
    "l=['Red', 'Maroon', 'Yellow', 'Olive']\n",
    "result=[]\n",
    "result=[list(ch) for ch in l]\n",
    "print(result)"
   ]
  },
  {
   "cell_type": "code",
   "execution_count": 20,
   "id": "7e7e25a1",
   "metadata": {},
   "outputs": [
    {
     "name": "stdout",
     "output_type": "stream",
     "text": [
      "a\n",
      "b\n",
      "c\n",
      "d\n",
      "e\n",
      "f\n",
      "1 4 7\n",
      "2 5 3\n",
      "5 8 6\n"
     ]
    }
   ],
   "source": [
    "#168-display vertically each element of a given list, list of lists\n",
    "l=['a', 'b', 'c', 'd', 'e', 'f']\n",
    "for i in l:\n",
    "    print(i)\n",
    "lst=[[1, 2, 5], [4, 5, 8], [7, 3, 6]] \n",
    "for a,b,c in zip(*lst):\n",
    "    print(a,b,c)"
   ]
  },
  {
   "cell_type": "code",
   "execution_count": 21,
   "id": "30513c45",
   "metadata": {},
   "outputs": [
    {
     "name": "stdout",
     "output_type": "stream",
     "text": [
      "['r', 'e', 'd', 'w', 'h', 'i', 't', 'e', 'a', 'b', 'b', 'l', 'a', 'c', 'k', 'f']\n"
     ]
    }
   ],
   "source": [
    "#169-convert a given list of strings and characters to a single list of characters.\n",
    "lst=['red', 'white', 'a', 'b', 'black', 'f']\n",
    "result=[]\n",
    "for i in lst:\n",
    "    for j in i:\n",
    "        result.append(j)\n",
    "print(result)"
   ]
  },
  {
   "cell_type": "code",
   "execution_count": 22,
   "id": "29efc254",
   "metadata": {},
   "outputs": [
    {
     "name": "stdout",
     "output_type": "stream",
     "text": [
      "['r', 'e', 'd', 'w', 'h', 'i', 't', 'e', 'a', 'b', 'b', 'l', 'a', 'c', 'k', 'f']\n"
     ]
    }
   ],
   "source": [
    "def str_lst(l):\n",
    "    result=[i for el in l for i in el]\n",
    "    print(result)\n",
    "lst=['red', 'white', 'a', 'b', 'black', 'f']\n",
    "str_lst(lst)"
   ]
  },
  {
   "cell_type": "code",
   "execution_count": 29,
   "id": "213009c3",
   "metadata": {},
   "outputs": [
    {
     "name": "stdout",
     "output_type": "stream",
     "text": [
      "[1, 2, 'a', 3, 4, 'a', 5, 6, 'a', 7, 8, 'a', 9, 0]\n"
     ]
    }
   ],
   "source": [
    "#170-insert an element in a given list after every nth position\n",
    "#output-Insert a in the said list after 2 nd element:\n",
    "#[1, 2, 'a', 3, 4, 'a', 5, 6, 'a', 7, 8, 'a', 9, 0]\n",
    "\n",
    "l=[1, 2, 3, 4, 5, 6, 7, 8, 9, 0]\n",
    "n=2\n",
    "ch='a'\n",
    "while n <len(l):\n",
    "    l.insert(n,ch)\n",
    "    n+=3\n",
    "print(l)"
   ]
  },
  {
   "cell_type": "code",
   "execution_count": 33,
   "id": "f5be4514",
   "metadata": {},
   "outputs": [
    {
     "name": "stdout",
     "output_type": "stream",
     "text": [
      "['a', 'b', 'c', '0', 'd', 'e', 'f', '0', 'g', 'h', 'i', '0', 'j']\n"
     ]
    }
   ],
   "source": [
    "letters=['a','b','c','d','e','f','g','h','i','j']\n",
    "result=list(''.join(l + '0' * (n % 3 == 2) for n, l in enumerate(letters)))\n",
    "print(result)"
   ]
  },
  {
   "cell_type": "code",
   "execution_count": 36,
   "id": "76b7f901",
   "metadata": {},
   "outputs": [
    {
     "name": "stdout",
     "output_type": "stream",
     "text": [
      "['a', 'b', 'c']\n",
      "['d', 'e', 'f']\n",
      "['g', 'h', 'i']\n",
      "['j']\n",
      "['a', 'b', 'c', '0', 'd', 'e', 'f', '0', 'g', 'h', 'i', '0', 'j']\n"
     ]
    }
   ],
   "source": [
    "letters = ['a','b','c','d','e','f','g','h','i','j']\n",
    "new_list = []\n",
    "n=3\n",
    "for strt_idx in range(0,len(letters),n):\n",
    "    new_list.extend(letters[strt_idx:strt_idx+n])\n",
    "    new_list.append('0')\n",
    "    #print(letters[strt_idx:strt_idx+n])\n",
    "new_list.pop()\n",
    "print(new_list)"
   ]
  },
  {
   "cell_type": "code",
   "execution_count": 39,
   "id": "b3e357a3",
   "metadata": {},
   "outputs": [
    {
     "name": "stdout",
     "output_type": "stream",
     "text": [
      "['0red100', '1green200', '2black300', '3blue400', '4white500']\n"
     ]
    }
   ],
   "source": [
    "#171-concatenate element-wise three given lists\n",
    "#output-['0red100', '1green200', '2black300', '3blue400', '4white500']\n",
    "#q1-are these list have same length?\n",
    "\n",
    "l1=['0', '1', '2', '3', '4']\n",
    "l2=['red', 'green', 'black', 'blue', 'white']\n",
    "l3=['100', '200', '300', '400', '500']\n",
    "result=[]\n",
    "for i in range(len(l1)):\n",
    "    k=l1[i]+l2[i]+l3[i]\n",
    "    result.append(k)\n",
    "print(result)"
   ]
  },
  {
   "cell_type": "code",
   "execution_count": 41,
   "id": "7efc4d03",
   "metadata": {},
   "outputs": [
    {
     "name": "stdout",
     "output_type": "stream",
     "text": [
      "['0red100', '1green200', '2black300', '3blue400', '4white500']\n"
     ]
    }
   ],
   "source": [
    "#zip method\n",
    "def concat_lst(l1,l2,l3):\n",
    "    return [i+j+k for i,j,k in zip(l1,l2,l3)]\n",
    "l1=['0', '1', '2', '3', '4','0']\n",
    "l2=['red', 'green', 'black', 'blue', 'white']\n",
    "l3=['100', '200', '300', '400', '500']\n",
    "print(concat_lst(l1,l2,l3))"
   ]
  },
  {
   "cell_type": "code",
   "execution_count": 44,
   "id": "6fa8b791",
   "metadata": {},
   "outputs": [
    {
     "name": "stdout",
     "output_type": "stream",
     "text": [
      "[2, 3, 9, 8, 2, 0, 39, 84, 2, 2, 34, 2, 34]\n"
     ]
    }
   ],
   "source": [
    "#172-remove the last N number of elements from a given list\n",
    "l=[2, 3, 9, 8, 2, 0, 39, 84, 2, 2, 34, 2, 34, 5, 3, 5]\n",
    "n=3\n",
    "#s1-ceate new list with l-3 elements\n",
    "#s2-delete last 3 elements\n",
    "#s3-pop 3 times\n",
    "result=[]\n",
    "for i in range(len(l)-n):\n",
    "    result.append(l[i])\n",
    "print(result)"
   ]
  },
  {
   "cell_type": "code",
   "execution_count": 51,
   "id": "0d706eb5",
   "metadata": {},
   "outputs": [
    {
     "name": "stdout",
     "output_type": "stream",
     "text": [
      "Original lists:\n",
      "[2, 3, 9, 8, 2, 0, 39, 84, 2, 2, 34, 2, 34, 5, 3, 5]\n",
      "\n",
      "Remove the last 3 elements from the said list:\n",
      "[2, 3, 9, 8, 2, 0, 39, 84, 2, 2, 34, 2, 34]\n"
     ]
    }
   ],
   "source": [
    "def remove_last_n(nums, N):\n",
    "    result = nums[:len(nums)-N]\n",
    "    return result  \n",
    "nums = [2,3,9,8,2,0,39,84,2,2,34,2,34,5,3,5]\n",
    "print(\"Original lists:\")\n",
    "print(nums)\n",
    "N = 3\n",
    "print(\"\\nRemove the last\",N,\"elements from the said list:\")\n",
    "print(remove_last_n(nums, N))"
   ]
  },
  {
   "cell_type": "code",
   "execution_count": 56,
   "id": "250ef961",
   "metadata": {},
   "outputs": [
    {
     "name": "stdout",
     "output_type": "stream",
     "text": [
      "['a', 'b', 'c', 'cd', 'cde', 'cdef', 'cdefg']\n"
     ]
    }
   ],
   "source": [
    "#173-merge some list items in given list using index value\n",
    "#q1-are the index always consecutive?\n",
    "\n",
    "#output-Merge items from 3 to 7 in the said List:['a', 'b', 'c', 'defg']\n",
    "l=['a', 'b', 'c', 'd', 'e', 'f', 'g']\n",
    "n1=3\n",
    "n2=7\n",
    "result=[]\n",
    "for i in range(len(l)):\n",
    "    if i>=n1 and i<=n2:\n",
    "        k=k+l[i]\n",
    "    else:\n",
    "        k=l[i]\n",
    "    result.append(k)\n",
    "print(result)"
   ]
  },
  {
   "cell_type": "code",
   "execution_count": 57,
   "id": "82381809",
   "metadata": {},
   "outputs": [
    {
     "name": "stdout",
     "output_type": "stream",
     "text": [
      "Original lists:\n",
      "['a', 'b', 'c', 'd', 'e', 'f', 'g']\n",
      "\n",
      "Merge items from 2 to 4 in the said List:\n",
      "['a', 'b', 'cd', 'e', 'f', 'g']\n"
     ]
    }
   ],
   "source": [
    "#s-list slicing\n",
    "def merge_chars(lst,merge_from,merge_to):\n",
    "    result=lst\n",
    "    result[merge_from:merge_to]=[''.join(result[merge_from:merge_to])]\n",
    "    return result\n",
    "chars = ['a', 'b', 'c', 'd', 'e', 'f', 'g']\n",
    "print(\"Original lists:\")\n",
    "print(chars)\n",
    "merge_from = 2\n",
    "merge_to = 4\n",
    "print(\"\\nMerge items from\",merge_from,\"to\",merge_to,\"in the said List:\")\n",
    "print(merge_chars(chars,merge_from,merge_to))"
   ]
  },
  {
   "cell_type": "code",
   "execution_count": 60,
   "id": "3186079a",
   "metadata": {},
   "outputs": [
    {
     "name": "stdout",
     "output_type": "stream",
     "text": [
      "[6, 11, 12, 7, 8, 3, 8, 3, 6]\n"
     ]
    }
   ],
   "source": [
    "#174-add a number to each element in a given list of numbers\n",
    "lst=[3, 8, 9, 4, 5, 0, 5, 0, 3]\n",
    "n=3\n",
    "result=[n+i for i in lst]\n",
    "print(result)"
   ]
  },
  {
   "cell_type": "code",
   "execution_count": 65,
   "id": "4250939e",
   "metadata": {},
   "outputs": [
    {
     "name": "stdout",
     "output_type": "stream",
     "text": [
      "7 0\n"
     ]
    }
   ],
   "source": [
    "#175-find the minimum, maximum value for each tuple position in a given list of tuples\n",
    "#input-[(2, 3), (2, 4), (0, 6), (7, 1)]\n",
    "#output-Maximum value for each tuple position in the said list of tuples:[7, 6]\n",
    "#Minimum value for each tuple position in the said list of tuples:[0, 1]\n",
    "l=[(2, 3), (2, 4), (0, 6), (7, 1)]\n",
    "print(max(l)[0],min(l)[0])"
   ]
  },
  {
   "cell_type": "code",
   "execution_count": 72,
   "id": "ec9713d4",
   "metadata": {},
   "outputs": [
    {
     "name": "stdout",
     "output_type": "stream",
     "text": [
      "Maximum value  for each tuple position in the said list of tuples:\n",
      "[7, 6]\n",
      "Minimum value  for each tuple position in the said list of tuples:\n",
      "[0, 1]\n"
     ]
    }
   ],
   "source": [
    "def max_min_lst_tup(nums):\n",
    "    zip(*nums)\n",
    "    result1=map(max,zip(*nums))\n",
    "    #print(list[result1])\n",
    "    result2 = map(min, zip(*nums))\n",
    "    #print(zip(*nums)\n",
    "    return list(result1), list(result2)\n",
    "nums = [(2,3),(2,4),(0,6),(7,1)]\n",
    "result = max_min_lst_tup(nums)\n",
    "print(\"Maximum value  for each tuple position in the said list of tuples:\")\n",
    "print(result[0])\n",
    "print(\"Minimum value  for each tuple position in the said list of tuples:\")\n",
    "print(result[1])"
   ]
  },
  {
   "cell_type": "code",
   "execution_count": 73,
   "id": "476981f0",
   "metadata": {},
   "outputs": [
    {
     "name": "stdout",
     "output_type": "stream",
     "text": [
      "[0.7777777777777778, 0.25, 1.5, 1.3333333333333333, 3.0, 2.0, 1.5]\n"
     ]
    }
   ],
   "source": [
    "#176-create a new list dividing two given lists of numbers\n",
    "nums1 = [7,2,3,4,9,2,3]\n",
    "nums2 = [9,8,2,3,3,1,2]\n",
    "result=[x/y for x,y in zip(nums1,nums2)]\n",
    "print(result)"
   ]
  },
  {
   "cell_type": "code",
   "execution_count": 24,
   "id": "ec449257",
   "metadata": {},
   "outputs": [
    {
     "name": "stdout",
     "output_type": "stream",
     "text": [
      "original list is=  [[7, 2, 3, 4, 7], [9, 2, 3, 2, 5], [8, 2, 3, 4, 4]]\n",
      "[{2, 3, 4, 7}, {9, 2, 3, 5}, {8, 2, 3, 4}]\n",
      "[2, 3]\n"
     ]
    }
   ],
   "source": [
    "#Date-7/16/22\n",
    "#177-find common elements in a given list of lists\n",
    "\n",
    "from functools import reduce\n",
    "test_lst=[[7, 2, 3, 4, 7], [9, 2, 3, 2, 5], [8, 2, 3, 4, 4]]\n",
    "print(\"original list is= \",test_lst)\n",
    "res=list(reduce(lambda i,j: i&j, (set(x) for x in test_lst)))\n",
    "#res=list(reduce(lambda i,j: i & j, (x for x in test_lst)))\n",
    "r=list( (set(x) for x in test_lst))\n",
    "print(r)\n",
    "print(res)"
   ]
  },
  {
   "cell_type": "code",
   "execution_count": 2,
   "id": "5acefaff",
   "metadata": {},
   "outputs": [
    {
     "name": "stdout",
     "output_type": "stream",
     "text": [
      "[2, 3]\n"
     ]
    }
   ],
   "source": [
    "test_lst=[[7, 2, 3, 4, 7], [9, 2, 3, 2, 5], [8, 2, 3, 4, 4]]\n",
    "res=list(set.intersection(*map(set,test_lst)))\n",
    "print(res)"
   ]
  },
  {
   "cell_type": "code",
   "execution_count": 14,
   "id": "7fe1322e",
   "metadata": {},
   "outputs": [
    {
     "name": "stdout",
     "output_type": "stream",
     "text": [
      "[1, 3, 5, 7, 20, 9, 11, 0, 2, 20, 4, 6, 8, 10, 20, 8, 9, 0, 4, 20, 3, 0]\n"
     ]
    }
   ],
   "source": [
    "#178-insert a specified element in a given list after every nth element\n",
    "l=[1, 3, 5, 7, 9, 11, 0, 2, 4, 6, 8, 10, 8, 9, 0, 4, 3, 0]\n",
    "n=4\n",
    "num=20\n",
    "while n <len(l):\n",
    "    l.insert(n,num)\n",
    "    n=n+5\n",
    "print(l)"
   ]
  },
  {
   "cell_type": "code",
   "execution_count": 30,
   "id": "9af0fba6",
   "metadata": {},
   "outputs": [
    {
     "name": "stdout",
     "output_type": "stream",
     "text": [
      "[1, 3, 5, 7, 'j', 9, 11, 0, 2, 'j', 4, 6, 8, 10, 'j', 8, 9, 0, 4, 'j', 3, 0]\n"
     ]
    }
   ],
   "source": [
    "l=[1, 3, 5, 7, 9, 11, 0, 2, 4, 6, 8, 10, 8, 9, 0, 4, 3, 0]\n",
    "n=4\n",
    "num=20\n",
    "op_l=[]\n",
    "for strt_idx in range(0,len(l),n):\n",
    "    op_l.extend(l[strt_idx:strt_idx+n])\n",
    "    op_l.append('j')\n",
    "op_l.pop()\n",
    "print(op_l)"
   ]
  },
  {
   "cell_type": "code",
   "execution_count": 38,
   "id": "63f4e85d",
   "metadata": {},
   "outputs": [
    {
     "name": "stdout",
     "output_type": "stream",
     "text": [
      "989744341403\n"
     ]
    }
   ],
   "source": [
    "#179-create the largest possible number using the elements of a given list of positive integers\n",
    "#s1-brute force\n",
    "#s2-sequntial arrangement \n",
    "#op-9744341403\n",
    "#res=''\n",
    "key=''\n",
    "l=[3, 40, 41, 43, 74, 9,98]\n",
    "res=sorted((str(val)for val in l),reverse=True)\n",
    "for i in res:\n",
    "    key=key+i\n",
    "print(key)\n",
    "#print(res)"
   ]
  },
  {
   "cell_type": "code",
   "execution_count": 43,
   "id": "d817d7f6",
   "metadata": {},
   "outputs": [
    {
     "name": "stdout",
     "output_type": "stream",
     "text": [
      "['3', '40', '41', '43', '74', '9']\n",
      "3404143749\n"
     ]
    }
   ],
   "source": [
    "#180-Python program to create the smallest possible number using the elements of a given list of positive integers.\n",
    "l=[3, 40, 41, 43, 74, 9]\n",
    "key=''\n",
    "res=(sorted(str(val)for val in l))\n",
    "print(res)\n",
    "for i in res:\n",
    "    key=key+i\n",
    "print(key)"
   ]
  },
  {
   "cell_type": "code",
   "execution_count": 4,
   "id": "283f3d75",
   "metadata": {},
   "outputs": [
    {
     "name": "stdout",
     "output_type": "stream",
     "text": [
      "The original list is : ['a', 'b', 'c', 'd', 'e', 'f', 'g', 'h']\n"
     ]
    },
    {
     "ename": "KeyboardInterrupt",
     "evalue": "",
     "output_type": "error",
     "traceback": [
      "\u001b[1;31m---------------------------------------------------------------------------\u001b[0m",
      "\u001b[1;31mKeyboardInterrupt\u001b[0m                         Traceback (most recent call last)",
      "\u001b[1;32m~\\AppData\\Local\\Temp/ipykernel_8688/2405875513.py\u001b[0m in \u001b[0;36m<module>\u001b[1;34m\u001b[0m\n\u001b[0;32m     16\u001b[0m \u001b[0mskipping\u001b[0m \u001b[1;33m=\u001b[0m \u001b[0mdropwhile\u001b[0m\u001b[1;33m(\u001b[0m\u001b[1;32mlambda\u001b[0m \u001b[0mx\u001b[0m\u001b[1;33m:\u001b[0m \u001b[0mx\u001b[0m \u001b[1;33m!=\u001b[0m \u001b[0mK\u001b[0m\u001b[1;33m,\u001b[0m \u001b[0mcycling\u001b[0m\u001b[1;33m)\u001b[0m\u001b[1;33m\u001b[0m\u001b[1;33m\u001b[0m\u001b[0m\n\u001b[0;32m     17\u001b[0m \u001b[0mslicing\u001b[0m \u001b[1;33m=\u001b[0m \u001b[0mislice\u001b[0m\u001b[1;33m(\u001b[0m\u001b[0mskipping\u001b[0m\u001b[1;33m,\u001b[0m \u001b[1;32mNone\u001b[0m\u001b[1;33m,\u001b[0m \u001b[0mlen\u001b[0m\u001b[1;33m(\u001b[0m\u001b[0mtest_list\u001b[0m\u001b[1;33m)\u001b[0m\u001b[1;33m)\u001b[0m\u001b[1;33m\u001b[0m\u001b[1;33m\u001b[0m\u001b[0m\n\u001b[1;32m---> 18\u001b[1;33m \u001b[0mslicing\u001b[0m \u001b[1;33m=\u001b[0m \u001b[0mlist\u001b[0m\u001b[1;33m(\u001b[0m\u001b[0mslicing\u001b[0m\u001b[1;33m)\u001b[0m\u001b[1;33m\u001b[0m\u001b[1;33m\u001b[0m\u001b[0m\n\u001b[0m\u001b[0;32m     19\u001b[0m \u001b[1;33m\u001b[0m\u001b[0m\n\u001b[0;32m     20\u001b[0m \u001b[1;31m# printing result\u001b[0m\u001b[1;33m\u001b[0m\u001b[1;33m\u001b[0m\u001b[0m\n",
      "\u001b[1;32m~\\AppData\\Local\\Temp/ipykernel_8688/2405875513.py\u001b[0m in \u001b[0;36m<lambda>\u001b[1;34m(x)\u001b[0m\n\u001b[0;32m     14\u001b[0m \u001b[1;31m# cyclic iteration in list\u001b[0m\u001b[1;33m\u001b[0m\u001b[1;33m\u001b[0m\u001b[0m\n\u001b[0;32m     15\u001b[0m \u001b[0mcycling\u001b[0m \u001b[1;33m=\u001b[0m \u001b[0mcycle\u001b[0m\u001b[1;33m(\u001b[0m\u001b[0mtest_list\u001b[0m\u001b[1;33m)\u001b[0m\u001b[1;33m\u001b[0m\u001b[1;33m\u001b[0m\u001b[0m\n\u001b[1;32m---> 16\u001b[1;33m \u001b[0mskipping\u001b[0m \u001b[1;33m=\u001b[0m \u001b[0mdropwhile\u001b[0m\u001b[1;33m(\u001b[0m\u001b[1;32mlambda\u001b[0m \u001b[0mx\u001b[0m\u001b[1;33m:\u001b[0m \u001b[0mx\u001b[0m \u001b[1;33m!=\u001b[0m \u001b[0mK\u001b[0m\u001b[1;33m,\u001b[0m \u001b[0mcycling\u001b[0m\u001b[1;33m)\u001b[0m\u001b[1;33m\u001b[0m\u001b[1;33m\u001b[0m\u001b[0m\n\u001b[0m\u001b[0;32m     17\u001b[0m \u001b[0mslicing\u001b[0m \u001b[1;33m=\u001b[0m \u001b[0mislice\u001b[0m\u001b[1;33m(\u001b[0m\u001b[0mskipping\u001b[0m\u001b[1;33m,\u001b[0m \u001b[1;32mNone\u001b[0m\u001b[1;33m,\u001b[0m \u001b[0mlen\u001b[0m\u001b[1;33m(\u001b[0m\u001b[0mtest_list\u001b[0m\u001b[1;33m)\u001b[0m\u001b[1;33m)\u001b[0m\u001b[1;33m\u001b[0m\u001b[1;33m\u001b[0m\u001b[0m\n\u001b[0;32m     18\u001b[0m \u001b[0mslicing\u001b[0m \u001b[1;33m=\u001b[0m \u001b[0mlist\u001b[0m\u001b[1;33m(\u001b[0m\u001b[0mslicing\u001b[0m\u001b[1;33m)\u001b[0m\u001b[1;33m\u001b[0m\u001b[1;33m\u001b[0m\u001b[0m\n",
      "\u001b[1;31mKeyboardInterrupt\u001b[0m: "
     ]
    }
   ],
   "source": [
    "#181-iterate a given list cyclically on specific index position\n",
    "from itertools import cycle, islice, dropwhile\n",
    "  \n",
    "# initializing tuple list \n",
    "test_list = ['a', 'b', 'c', 'd', 'e', 'f', 'g', 'h']\n",
    "  \n",
    "# printing original list\n",
    "print (\"The original list is : \" + str(test_list))\n",
    "  \n",
    "# starting index \n",
    "K = 3\n",
    "  \n",
    "# using itertools methods for\n",
    "# cyclic iteration in list \n",
    "cycling = cycle(test_list)  \n",
    "skipping = dropwhile(lambda x: x != K, cycling) \n",
    "slicing = islice(skipping, None, len(test_list))\n",
    "slicing = list(slicing)\n",
    "  \n",
    "# printing result \n",
    "print (\"The cycled list is : \" +  str(slicing))"
   ]
  },
  {
   "cell_type": "code",
   "execution_count": 5,
   "id": "de2b2b28",
   "metadata": {},
   "outputs": [
    {
     "name": "stdout",
     "output_type": "stream",
     "text": [
      "['d', 'e', 'f', 'g', 'h', 'a', 'b', 'c']\n"
     ]
    }
   ],
   "source": [
    "test_list = ['a', 'b', 'c', 'd', 'e', 'f', 'g', 'h']\n",
    "n=3\n",
    "cycle_lst=test_list[3:]+test_list[:3]\n",
    "print(cycle_lst)"
   ]
  },
  {
   "cell_type": "code",
   "execution_count": 6,
   "id": "f04696d0",
   "metadata": {},
   "outputs": [
    {
     "name": "stdout",
     "output_type": "stream",
     "text": [
      "['d', 'e', 'f', 'g', 'h', 'a', 'b', 'c']\n"
     ]
    }
   ],
   "source": [
    "#using% operator \n",
    "test_list = ['a', 'b', 'c', 'd', 'e', 'f', 'g', 'h']\n",
    "n=3\n",
    "res=[]\n",
    "for i in range(len(test_list)):\n",
    "    res.append(test_list[n%len(test_list)])\n",
    "    n=n+1\n",
    "print(res)"
   ]
  },
  {
   "cell_type": "code",
   "execution_count": 8,
   "id": "9c8e9ed8",
   "metadata": {},
   "outputs": [
    {
     "name": "stdout",
     "output_type": "stream",
     "text": [
      "14 [2, 3, 5, 4]\n"
     ]
    }
   ],
   "source": [
    "#182-calculate the maximum and minimum sum of a sublist in a given list of lists\n",
    "l=[[1, 2, 3, 5], [2, 3, 5, 4], [0, 5, 4, 1], [3, 7, 2, 1], [1, 2, 1, 2]]\n",
    "max_sum=0\n",
    "for i in l:\n",
    "    if sum(i)>max_sum:\n",
    "        max_sum=sum(i)\n",
    "        max_sum_arr=i\n",
    "print(max_sum,max_sum_arr)"
   ]
  },
  {
   "cell_type": "code",
   "execution_count": 10,
   "id": "cb0ad482",
   "metadata": {},
   "outputs": [
    {
     "name": "stdout",
     "output_type": "stream",
     "text": [
      "[2, 3, 5, 4]\n"
     ]
    }
   ],
   "source": [
    "l=[[1, 2, 3, 5], [2, 3, 5, 4], [0, 5, 4, 1], [3, 7, 2, 1], [1, 2, 1, 2]]\n",
    "max_result=(max(l,key=sum))\n",
    "print(max_result)"
   ]
  },
  {
   "cell_type": "code",
   "execution_count": 21,
   "id": "48a576f5",
   "metadata": {},
   "outputs": [
    {
     "name": "stdout",
     "output_type": "stream",
     "text": [
      "[0, 1, 2, 3, 4, 5, 7]\n"
     ]
    }
   ],
   "source": [
    "#183-get the unique values in a given list of lists\n",
    "#reduce method\n",
    "from functools import reduce\n",
    "l=[[1, 2, 3, 5], [2, 3, 5, 4], [0, 5, 4, 1], [3, 7, 2, 1], [1, 2, 1, 2]]\n",
    "res=list(reduce(lambda i,j :set(i) | set(j) ,l))\n",
    "print(res)"
   ]
  },
  {
   "cell_type": "code",
   "execution_count": 25,
   "id": "eee48830",
   "metadata": {},
   "outputs": [
    {
     "name": "stdout",
     "output_type": "stream",
     "text": [
      "{'b', 'a', 'c'}\n"
     ]
    }
   ],
   "source": [
    "from itertools import chain\n",
    "array=[['a','b'],['a','b','c'],['a']]\n",
    "print(set(chain(*array)))"
   ]
  },
  {
   "cell_type": "code",
   "execution_count": 28,
   "id": "f96c861c",
   "metadata": {},
   "outputs": [
    {
     "name": "stdout",
     "output_type": "stream",
     "text": [
      "{'b', 'a', 'c'}\n"
     ]
    }
   ],
   "source": [
    "array=[['a','b'],['a','b','c'],['a']]\n",
    "result={x for l in array for x in l}\n",
    "print(result)"
   ]
  },
  {
   "cell_type": "code",
   "execution_count": null,
   "id": "fb2e88d0",
   "metadata": {},
   "outputs": [],
   "source": []
  }
 ],
 "metadata": {
  "kernelspec": {
   "display_name": "Python 3 (ipykernel)",
   "language": "python",
   "name": "python3"
  },
  "language_info": {
   "codemirror_mode": {
    "name": "ipython",
    "version": 3
   },
   "file_extension": ".py",
   "mimetype": "text/x-python",
   "name": "python",
   "nbconvert_exporter": "python",
   "pygments_lexer": "ipython3",
   "version": "3.9.7"
  }
 },
 "nbformat": 4,
 "nbformat_minor": 5
}
