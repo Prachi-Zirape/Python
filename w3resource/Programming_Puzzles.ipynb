{
 "cells": [
  {
   "cell_type": "code",
   "execution_count": 1,
   "id": "673a0607",
   "metadata": {},
   "outputs": [
    {
     "name": "stdout",
     "output_type": "stream",
     "text": [
      "True\n"
     ]
    }
   ],
   "source": [
    "#Date-8/29/22\n",
    "#1-find a list of integers with exactly two occurrences of nineteen and at least three occurrences of five\n",
    "lst=[19, 19, 15, 5, 3, 5, 5, 2]\n",
    "\n",
    "def test(lst):\n",
    "    return lst.count(19)==2 and lst.count(5)>=3\n",
    "print(test(lst))"
   ]
  },
  {
   "cell_type": "code",
   "execution_count": 3,
   "id": "931f4899",
   "metadata": {},
   "outputs": [
    {
     "name": "stdout",
     "output_type": "stream",
     "text": [
      "False\n"
     ]
    }
   ],
   "source": [
    "#2-Return true if the length of the list is 8 and fifth element occurs thrice in the said list\n",
    "lst=[19, 19, 15, 5, 5, 5,5, 1, 2]\n",
    "def test(lst):\n",
    "    return len(lst)==8 and lst.count(lst[4])==3\n",
    "print(test(lst))"
   ]
  },
  {
   "cell_type": "code",
   "execution_count": 4,
   "id": "40f254e5",
   "metadata": {},
   "outputs": [
    {
     "name": "stdout",
     "output_type": "stream",
     "text": [
      "True\n"
     ]
    }
   ],
   "source": [
    "#3-an integer test whether an integer greater than 4^4 and which is 4 mod 34\n",
    "def test(n):\n",
    "    return n>4**4 and n%34==4\n",
    "\n",
    "print(test(922))"
   ]
  },
  {
   "cell_type": "code",
   "execution_count": 11,
   "id": "db221953",
   "metadata": {},
   "outputs": [
    {
     "name": "stdout",
     "output_type": "stream",
     "text": [
      "[17, 19, 21, 23, 25, 27, 29, 31, 33, 35, 37, 39, 41, 43, 45, 47, 49]\n"
     ]
    }
   ],
   "source": [
    "#4-The first pile has n stones. If n is even, then all piles have an even number of stones. \n",
    "#If n is odd, all piles have an odd number of stones. Each pile must more stones than the previous \n",
    "#pile but as few as possible. Write a Python program to find the number of stones in each pile\n",
    "\n",
    "n=17\n",
    "piles=[]\n",
    "for i in range(1,n+1):\n",
    "    piles.append(n)\n",
    "    n+=2\n",
    "print(piles)"
   ]
  },
  {
   "cell_type": "code",
   "execution_count": 13,
   "id": "c6d99a07",
   "metadata": {},
   "outputs": [
    {
     "name": "stdout",
     "output_type": "stream",
     "text": [
      "Number of piles: 10\n",
      "Number of stones in each pile:\n",
      "[10, 12, 14, 16, 18, 20, 22, 24, 26, 28]\n"
     ]
    }
   ],
   "source": [
    "def test(n):\n",
    "    return [n+2*i for i in range(n)]\n",
    "n = 10\n",
    "print(\"Number of piles:\",n)\n",
    "print(\"Number of stones in each pile:\")\n",
    "print(test(n)) "
   ]
  },
  {
   "cell_type": "code",
   "execution_count": 14,
   "id": "4bdeb6a0",
   "metadata": {},
   "outputs": [
    {
     "name": "stdout",
     "output_type": "stream",
     "text": [
      "Original list:\n",
      "['a', 'abb', 'sfs', 'oo', 'de', 'sfde']\n",
      "Check the nth-1 string is a proper substring of nth string of the said list of strings:\n",
      "True\n"
     ]
    }
   ],
   "source": [
    "#5-check the nth-1 string is a proper substring of nth string in a given list of strings\n",
    "def test(str1):\n",
    "    return str1[len(str1)-2] in str1[len(str1)-1] and str1[len(str1)-2] != str1[len(str1)-1]\n",
    "\n",
    "str11 = [\"a\",\"abb\",\"sfs\", \"oo\", \"de\", \"sfde\"]\n",
    "print(\"Original list:\")\n",
    "print(str11)\n",
    "print(\"Check the nth-1 string is a proper substring of nth string of the said list of strings:\")\n",
    "print(test(str11))"
   ]
  },
  {
   "cell_type": "code",
   "execution_count": 22,
   "id": "4baeb4f4",
   "metadata": {},
   "outputs": [
    {
     "data": {
      "text/plain": [
       "True"
      ]
     },
     "execution_count": 22,
     "metadata": {},
     "output_type": "execute_result"
    }
   ],
   "source": [
    "#6-test a list of one hundred integers between 0 and 999, which all differ by ten from one another\n",
    "num=[0, 10, 20, 30, 40, 50, 60, 70, 80, 90, 100, 110, 120, 130, 140, \n",
    "     150, 160, 170, 180, 190, 200, 210, 220, 230, 240, 250, 260, 270, \n",
    "     280, 290, 300, 310, 320, 330, 340, 350, 360, 370, 380, 390, 400, \n",
    "     410, 420, 430, 440, 450, 460, 470, 480, 490, 500, 510, 520, 530, \n",
    "     540, 550, 560, 570, 580, 590, 600, 610, 620, 630, 640, 650, 660, \n",
    "     670, 680, 690, 700, 710, 720, 730, 740, 750, 760, 770, 780, 790, \n",
    "     800, 810, 820, 830, 840, 850, 860, 870, 880, 890, 900, 910, 920, \n",
    "     930, 940, 950, 960, 970, 980, 990]\n",
    "def test(lst):\n",
    "    for i in range(len(lst)-1):\n",
    "        if lst[i+1]==lst[i]+10:\n",
    "            #print(lst[i+1],lst[i])\n",
    "            #print(\"\\n\")\n",
    "            continue\n",
    "        else:\n",
    "            #print(lst[i+1],lst[i])\n",
    "            return False\n",
    "    return True\n",
    "test(num)"
   ]
  },
  {
   "cell_type": "code",
   "execution_count": 24,
   "id": "16d2e9c8",
   "metadata": {},
   "outputs": [
    {
     "name": "stdout",
     "output_type": "stream",
     "text": [
      "Original list:\n",
      "[0, 10, 20, 30, 40, 50, 60, 70, 80, 90, 100, 110, 120, 130, 140, 150, 160, 170, 180, 190, 200, 210, 220, 230, 240, 250, 260, 270, 280, 290, 300, 310, 320, 330, 340, 350, 360, 370, 380, 390, 400, 410, 420, 430, 440, 450, 460, 470, 480, 490, 500, 510, 520, 530, 540, 550, 560, 570, 580, 590, 600, 610, 620, 630, 640, 650, 660, 670, 680, 690, 700, 710, 720, 730, 740, 750, 760, 770, 780, 790, 800, 810, 820, 830, 840, 850, 860, 870, 880, 890, 900, 910, 920, 930, 940, 950, 960, 970, 980, 990]\n",
      "Check whether the said list contains one hundred integers between 0 and 999 which all differ by ten from one another:\n",
      "True\n"
     ]
    }
   ],
   "source": [
    "def test(li):\n",
    "    return all(i in range(1000) and abs(i - j) >= 10 for i in li for j in li if i != j) and len(set(li)) == 100\n",
    "nums = list(range(0, 1000, 10))\n",
    "print(\"Original list:\")\n",
    "print(nums)\n",
    "print(\"Check whether the said list contains one hundred integers between 0 and 999 which all differ by ten from one another:\")\n",
    "print(test(nums))"
   ]
  },
  {
   "cell_type": "code",
   "execution_count": 25,
   "id": "73e2c8b0",
   "metadata": {},
   "outputs": [
    {
     "name": "stdout",
     "output_type": "stream",
     "text": [
      "yay\n"
     ]
    }
   ],
   "source": [
    "#7-check a given list of integers where the sum of the first i integers is i\n",
    "lst=[1, 1, 1, 1, 1, 1]\n",
    "\n",
    "if sum(lst)==len(lst):\n",
    "    print(\"yay\")\n",
    "else:\n",
    "    print(\"Nope\")"
   ]
  },
  {
   "cell_type": "code",
   "execution_count": 26,
   "id": "ab9931f6",
   "metadata": {},
   "outputs": [
    {
     "name": "stdout",
     "output_type": "stream",
     "text": [
      "Original list:\n",
      "[0, 1, 2, 3, 4, 5]\n",
      "Check the said list, where the sum of the first i integers is i:\n",
      "False\n"
     ]
    }
   ],
   "source": [
    "def test(num):\n",
    "    return all([sum(nums[:i])==i for i in range(len(nums))])\n",
    "nums = [0,1,2,3,4,5]\n",
    "print(\"Original list:\")\n",
    "print(nums)\n",
    "print(\"Check the said list, where the sum of the first i integers is i:\")\n",
    "print(test(nums))"
   ]
  },
  {
   "cell_type": "code",
   "execution_count": 28,
   "id": "2d05bc19",
   "metadata": {},
   "outputs": [
    {
     "name": "stdout",
     "output_type": "stream",
     "text": [
      "['W3resource Python', ' Exercises']\n"
     ]
    }
   ],
   "source": [
    "#8-split a string of words separated by commas and spaces into two lists, words and separators\n",
    "s='W3resource Python, Exercises'\n",
    "print(s.split(','))"
   ]
  },
  {
   "cell_type": "code",
   "execution_count": 29,
   "id": "90029f6c",
   "metadata": {},
   "outputs": [
    {
     "name": "stdout",
     "output_type": "stream",
     "text": [
      "Original string: W3resource Python, Exercises.\n",
      "Split the said string into 2 lists: words and separators:\n",
      "[['W3resource', 'Python', 'Exercises.'], [' ', ', ']]\n"
     ]
    }
   ],
   "source": [
    "def test(string):\n",
    "    import re\n",
    "    merged=re.split(r\"([ ,]+)\",string)\n",
    "    return [merged[::2],merged[1::2]]\n",
    "s = \"W3resource Python, Exercises.\"\n",
    "print(\"Original string:\",s)\n",
    "print(\"Split the said string into 2 lists: words and separators:\")\n",
    "print(test(s))"
   ]
  },
  {
   "cell_type": "code",
   "execution_count": 36,
   "id": "59538198",
   "metadata": {},
   "outputs": [
    {
     "name": "stdout",
     "output_type": "stream",
     "text": [
      "nope\n"
     ]
    }
   ],
   "source": [
    "#9-find list integers containing exactly four distinct values, \n",
    "#such that no integer repeats twice consecutively among the first twenty entries\n",
    "lst=[1, 2, 3, 4, 1, 2, 3, 4, 1, 2, 3,3, 4, 1, 2, 3, 4]\n",
    "for i in range(len(lst)-1):\n",
    "    if lst[i]==lst[i+1]:\n",
    "        print(\"nope\")\n",
    "        break\n",
    "    "
   ]
  },
  {
   "cell_type": "code",
   "execution_count": 37,
   "id": "0c1c2ab1",
   "metadata": {},
   "outputs": [
    {
     "name": "stdout",
     "output_type": "stream",
     "text": [
      "Original list:\n",
      "[1, 2, 3, 4, 1, 2, 3, 4, 1, 2, 3, 4, 1, 2, 3, 4]\n",
      "Check said list of integers containing exactly four distinct values, such that no integer repeats  twice consecutively:\n",
      "True\n"
     ]
    }
   ],
   "source": [
    "def test(nums):\n",
    "    return all([nums[i] != nums[i + 1] for i in range(len(nums)-1)]) and len(set(nums)) == 4\n",
    "nums = [1, 2, 3, 4, 1, 2, 3, 4, 1, 2, 3, 4, 1, 2, 3, 4]\n",
    "print(\"Original list:\")\n",
    "print(nums)\n",
    "print(\"Check said list of integers containing exactly four distinct values, such that no integer repeats  twice consecutively:\")\n",
    "print(test(nums))"
   ]
  },
  {
   "cell_type": "code",
   "execution_count": 47,
   "id": "9ff0ecc8",
   "metadata": {},
   "outputs": [
    {
     "name": "stdout",
     "output_type": "stream",
     "text": [
      "( ()) ((()()())) (()) ()\n",
      "['(', '(', ')', ')', '(', '(', '(', ')', '(', ')', '(', ')', ')', ')', '(', '(', ')', ')', '(', ')']\n",
      "(())((()()()))(())()\n"
     ]
    }
   ],
   "source": [
    "#10-string consisting of whitespace and groups of matched parentheses,\n",
    "#write a Python program to split it into groups of perfectly matched parentheses without any whitespace\n",
    "input1='( ()) ((()()())) (()) ()'\n",
    "lst=[]\n",
    "s=\"\"\n",
    "for i in input1:\n",
    "    #print(i)\n",
    "    if i==' ':\n",
    "        continue\n",
    "    else:\n",
    "        lst.append(i)\n",
    "        s+=i\n",
    "print(input1)\n",
    "print(lst)\n",
    "print(s)"
   ]
  },
  {
   "cell_type": "code",
   "execution_count": 49,
   "id": "34cb4e0b",
   "metadata": {},
   "outputs": [
    {
     "name": "stdout",
     "output_type": "stream",
     "text": [
      "Parentheses string:\n",
      "( ()) ((()()())) (()) (\n",
      "Separate parentheses groups of the said string:\n",
      "['(())', '((()()()))', '(())']\n"
     ]
    }
   ],
   "source": [
    "def test(combined):\n",
    "    ls=[]\n",
    "    s2=\"\"\n",
    "    for s in combined.replace(' ',''):\n",
    "        s2+=s\n",
    "        if s2.count(\"(\")==s2.count(\")\"):\n",
    "            ls.append(s2)\n",
    "            s2=\"\"\n",
    "    return ls\n",
    "combined = '( ()) ((()()())) (()) ('\n",
    "print(\"Parentheses string:\")\n",
    "print(combined)\n",
    "print(\"Separate parentheses groups of the said string:\")\n",
    "print(test(combined))"
   ]
  },
  {
   "cell_type": "code",
   "execution_count": 50,
   "id": "59ad1649",
   "metadata": {},
   "outputs": [
    {
     "name": "stdout",
     "output_type": "stream",
     "text": [
      "[0, 1, 2, 3, 7, 8, 9, 10]\n"
     ]
    }
   ],
   "source": [
    "#11-find the indexes of numbers of a given list below a given threshold.\n",
    "n=100\n",
    "lst=[0, 12, 45, 3, 4923, 322, 105, 29, 15, 39, 55]\n",
    "res=[]\n",
    "for i in lst:\n",
    "    if i<n:\n",
    "        res.append(lst.index(i))\n",
    "print(res)"
   ]
  },
  {
   "cell_type": "code",
   "execution_count": 51,
   "id": "cde731a3",
   "metadata": {},
   "outputs": [
    {
     "name": "stdout",
     "output_type": "stream",
     "text": [
      "Original list:\n",
      "[0, 12, 45, 3, 4923, 322, 105, 29, 15, 39, 55]\n",
      "Threshold:  100\n",
      "Check the indexes of numbers of the said list below the given threshold:\n",
      "[0, 1, 2, 3, 7, 8, 9, 10]\n"
     ]
    }
   ],
   "source": [
    "\n",
    "def test(nums,n):\n",
    "    return [i for i,n in enumerate(nums) if n<thresh]\n",
    "\n",
    "nums=[0, 12, 45, 3, 4923, 322, 105, 29, 15, 39, 55]\n",
    "thresh = 100\n",
    "print(\"Original list:\")\n",
    "print(nums)\n",
    "print(\"Threshold: \",thresh)\n",
    "print(\"Check the indexes of numbers of the said list below the given threshold:\")\n",
    "print(test(nums, thresh))"
   ]
  },
  {
   "cell_type": "code",
   "execution_count": 52,
   "id": "f580fd0c",
   "metadata": {},
   "outputs": [
    {
     "name": "stdout",
     "output_type": "stream",
     "text": [
      "['madamimadam', '']\n"
     ]
    }
   ],
   "source": [
    "#12-check whether the given strings are palindromes or not.\n",
    "lst=['palindrome', 'madamimadam', '', 'foo', 'eyes']\n",
    "pal=[]\n",
    "for i in lst:\n",
    "    if i[::-1]==i[0:]:\n",
    "        pal.append(i)\n",
    "print(pal)"
   ]
  },
  {
   "cell_type": "code",
   "execution_count": 55,
   "id": "2cfd014f",
   "metadata": {},
   "outputs": [
    {
     "name": "stdout",
     "output_type": "stream",
     "text": [
      "['cat', 'car']\n"
     ]
    }
   ],
   "source": [
    "#13-program to find the strings in a given list, starting with a given prefix\n",
    "s='ca'\n",
    "lst=['cat', 'car', 'fear', 'center']\n",
    "pref=[]\n",
    "\n",
    "for i in lst:\n",
    "    if s==i[:len(s)]:\n",
    "        pref.append(i)\n",
    "print(pref)"
   ]
  },
  {
   "cell_type": "code",
   "execution_count": 56,
   "id": "f07cf829",
   "metadata": {},
   "outputs": [
    {
     "name": "stdout",
     "output_type": "stream",
     "text": [
      "Original strings:\n",
      "['cat', 'car', 'fear', 'center']\n",
      "Starting prefix: ca\n",
      "Strings in the said list starting with a given prefix:\n",
      "['cat', 'car']\n"
     ]
    }
   ],
   "source": [
    "def test(strs, prefix):\n",
    "     return [s for s in strs if s.startswith(prefix)]\n",
    "strs =  ['cat', 'car', 'fear', 'center']\n",
    "prefix = \"ca\"\n",
    "print(\"Original strings:\")\n",
    "print(strs)\n",
    "print(\"Starting prefix:\", prefix)\n",
    "print(\"Strings in the said list starting with a given prefix:\")\n",
    "print(test(strs, prefix))"
   ]
  },
  {
   "cell_type": "code",
   "execution_count": 57,
   "id": "406ba390",
   "metadata": {},
   "outputs": [
    {
     "name": "stdout",
     "output_type": "stream",
     "text": [
      "[3, 3, 4, 6]\n"
     ]
    }
   ],
   "source": [
    "#14- find the lengths of a given list of non-empty strings\n",
    "lst=['cat', 'car', 'fear', 'center']\n",
    "res=[]\n",
    "for i in lst:\n",
    "    res.append(len(i))\n",
    "print(res)"
   ]
  },
  {
   "cell_type": "code",
   "execution_count": 61,
   "id": "e9b71b4c",
   "metadata": {},
   "outputs": [
    {
     "name": "stdout",
     "output_type": "stream",
     "text": [
      "feasdandosar\n"
     ]
    }
   ],
   "source": [
    "#15-find the longest string of a given list of strings\n",
    "lst=['cat', 'car', 'feasdandosar', 'center']\n",
    "print(max(lst,key=len))"
   ]
  },
  {
   "cell_type": "code",
   "execution_count": 64,
   "id": "5f9f0bfa",
   "metadata": {},
   "outputs": [
    {
     "name": "stdout",
     "output_type": "stream",
     "text": [
      "['cat', 'car', 'fecar']\n"
     ]
    }
   ],
   "source": [
    "#16- find the strings in a given list containing a given substring.\n",
    "lst=['cat', 'car', 'fecar', 'center']\n",
    "sub='ca'\n",
    "res=[]\n",
    "\n",
    "for i in lst:\n",
    "    if sub in i:\n",
    "        res.append(i)\n",
    "print(res)"
   ]
  },
  {
   "cell_type": "code",
   "execution_count": 3,
   "id": "d7692dcf",
   "metadata": {},
   "outputs": [
    {
     "name": "stdout",
     "output_type": "stream",
     "text": [
      "0 1 2 3 4 5 6 7 8 9 10 "
     ]
    }
   ],
   "source": [
    "#Date-8/30/22\n",
    "#17-create string consisting of the non-negative integers up to n inclusive\n",
    "n=10\n",
    "for i in range(n+1):\n",
    "    print(str(i),end=\" \")"
   ]
  },
  {
   "cell_type": "code",
   "execution_count": 4,
   "id": "353f9649",
   "metadata": {},
   "outputs": [
    {
     "name": "stdout",
     "output_type": "stream",
     "text": [
      "Matrix:\n",
      "[[1, 3, 2, 32, 19], [19, 2, 48, 19], [], [9, 35, 4], [3, 19]]\n",
      "Target value:\n",
      "19\n",
      "Indices of all occurrences of the target value in the said uneven matrix:\n",
      "[[0, 4], [1, 0], [1, 3], [4, 1]]\n"
     ]
    }
   ],
   "source": [
    "#18-Write a Python program to find the indices of all occurrences of target in the uneven\n",
    "def test(M,T):\n",
    "    return [[i,j]for i, row in enumerate(M)for j,n in enumerate(row) if n==T]\n",
    "\n",
    "M = [[1, 3, 2, 32, 19], [19, 2, 48, 19], [], [9, 35, 4], [3, 19]]\n",
    "T = 19\n",
    "print(\"Matrix:\")\n",
    "print(M)\n",
    "print(\"Target value:\")\n",
    "print(T)\n",
    "print(\"Indices of all occurrences of the target value in the said uneven matrix:\")\n",
    "print(test(M,T))"
   ]
  },
  {
   "cell_type": "code",
   "execution_count": 17,
   "id": "88299aeb",
   "metadata": {},
   "outputs": [
    {
     "name": "stdout",
     "output_type": "stream",
     "text": [
      "['a b c d']\n"
     ]
    }
   ],
   "source": [
    "#19-split a given string (s) into strings if there is a space in the string, \n",
    "#otherwise split on commas if there is a comma, otherwise return the list of lowercase \n",
    "#letters with odd order (order of a = 0, b = 1, etc.)\n",
    "s1='a b c d'  #['a', 'b', 'c', 'd']\n",
    "s2='a,b,c,d'  #['a', 'b', 'c', 'd']\n",
    "s3='abcd'     #['b', 'd']\n",
    "res=''\n",
    "for i in s1:\n",
    "    i.split(\" \")\n",
    "    if i==' ':\n",
    "        i=i.replace(' ',\",\")\n",
    "    res+=i\n",
    "print([res])"
   ]
  },
  {
   "cell_type": "code",
   "execution_count": 15,
   "id": "b1317755",
   "metadata": {},
   "outputs": [
    {
     "name": "stdout",
     "output_type": "stream",
     "text": [
      "Original string:\n",
      "a b c d\n",
      "Split the said string into strings if there is a space in the string, \n",
      "otherwise split on commas if there is a comma, \n",
      "otherwise return the list of lowercase letters with odd order:\n",
      "['a', 'b', 'c', 'd']\n",
      "\n",
      "Original string:\n",
      "a,b,c,d\n",
      "Split the said string into strings if there is a space in the string, \n",
      "otherwise split on commas if there is a comma, \n",
      "otherwise return the list of lowercase letters with odd order:\n",
      "['a', 'b', 'c', 'd']\n",
      "\n",
      "Original string:\n",
      "abcd\n",
      "Split the said string into strings if there is a space in the string, \n",
      "otherwise split on commas if there is a comma, \n",
      "otherwise return the list of lowercase letters with odd order:\n",
      "['b', 'd']\n"
     ]
    }
   ],
   "source": [
    "#Better solution\n",
    "def test(s):\n",
    "    if \" \" in s:\n",
    "        return s.split(\" \")\n",
    "    if \",\" in s:\n",
    "        return s.split(\",\")\n",
    "    return [c for c in s if c.islower()and ord(c)%2==0]\n",
    "strs = \"a b c d\"\n",
    "print(\"Original string:\")\n",
    "print(strs)\n",
    "print(\"Split the said string into strings if there is a space in the string, \\notherwise split on commas if there is a comma, \\notherwise return the list of lowercase letters with odd order:\")\n",
    "print(test(strs))\n",
    "strs = \"a,b,c,d\"\n",
    "print(\"\\nOriginal string:\")\n",
    "print(strs)\n",
    "print(\"Split the said string into strings if there is a space in the string, \\notherwise split on commas if there is a comma, \\notherwise return the list of lowercase letters with odd order:\")\n",
    "print(test(strs))\n",
    "strs = \"abcd\"\n",
    "print(\"\\nOriginal string:\")\n",
    "print(strs)\n",
    "print(\"Split the said string into strings if there is a space in the string, \\notherwise split on commas if there is a comma, \\notherwise return the list of lowercase letters with odd order:\")\n",
    "print(test(strs))"
   ]
  },
  {
   "cell_type": "code",
   "execution_count": 19,
   "id": "f0d61edb",
   "metadata": {},
   "outputs": [
    {
     "name": "stdout",
     "output_type": "stream",
     "text": [
      "Decreasing Order\n"
     ]
    }
   ],
   "source": [
    "#20-determine the direction ('increasing' or 'decreasing') of monotonic sequence numbers\n",
    "l2=[1, 2, 3, 4, 5, 6]\n",
    "l1=[6, 5, 4, 3, 2, 1]\n",
    "\n",
    "if sorted(l1)==l1:\n",
    "    print(\"Increasing Order\")\n",
    "elif sorted(l1,reverse=True)==l1:\n",
    "    print(\"Decreasing Order\")\n",
    "else:\n",
    "    print(\"Not in order\")"
   ]
  },
  {
   "cell_type": "code",
   "execution_count": 22,
   "id": "7f0e7a29",
   "metadata": {},
   "outputs": [
    {
     "name": "stdout",
     "output_type": "stream",
     "text": [
      "Original list:\n",
      "[1, 2, 3, 4, 5, 6]\n",
      "Check the direction ('increasing' or 'decreasing') of the said list:\n",
      "Increasing\n"
     ]
    }
   ],
   "source": [
    "def test(nums):\n",
    "    return \"Increasing\" if all(nums[i]<nums[i+1]for i in range(len(nums)-1))\\\n",
    "            else \"Decreasing\" if all(num[i+1]<num[i] for i in range(len(num)-1))\\\n",
    "            else \"Not a monotonic sequence!\"\n",
    "\n",
    "nums = [1,2,3,4,5,6]\n",
    "print(\"Original list:\")\n",
    "print(nums)\n",
    "print(\"Check the direction ('increasing' or 'decreasing') of the said list:\")\n",
    "print(test(nums))"
   ]
  },
  {
   "cell_type": "code",
   "execution_count": 23,
   "id": "00b1f0ae",
   "metadata": {},
   "outputs": [
    {
     "name": "stdout",
     "output_type": "stream",
     "text": [
      "['True', 'False', 'True', 'True']\n"
     ]
    }
   ],
   "source": [
    "#21-check, for each string in a given list, whether the last character is an isolated letter or not.\n",
    "lst=['ca t', 'car', 'fea r', 'cente r']\n",
    "res=[]\n",
    "for i in lst:\n",
    "    if i[-2]==' ':\n",
    "        res.append(\"True\")\n",
    "    else:\n",
    "        res.append(\"False\")\n",
    "print(res)"
   ]
  },
  {
   "cell_type": "code",
   "execution_count": 24,
   "id": "6caa6855",
   "metadata": {},
   "outputs": [
    {
     "name": "stdout",
     "output_type": "stream",
     "text": [
      "Original strings:\n",
      "['cat', 'car', 'fear', 'center']\n",
      "Check, for each string in the said list, whether the last character is an isolated letter:\n",
      "[False, False, False, False]\n"
     ]
    }
   ],
   "source": [
    "def test(strs):\n",
    "    return [len(s.split(\" \")[-1])==1 for s in strs]\n",
    "\n",
    "strs =  ['cat', 'car', 'fear', 'center']\n",
    "print(\"Original strings:\")\n",
    "print(strs)\n",
    "print(\"Check, for each string in the said list, whether the last character is an isolated letter:\")\n",
    "print(test(strs))"
   ]
  },
  {
   "cell_type": "code",
   "execution_count": 26,
   "id": "dbc90ebc",
   "metadata": {},
   "outputs": [
    {
     "name": "stdout",
     "output_type": "stream",
     "text": [
      "373\n"
     ]
    }
   ],
   "source": [
    "#22-compute the sum of the ASCII values of the upper-case characters in a given string\n",
    "s='PytHon ExerciSEs'\n",
    "sums=0\n",
    "for i in s:\n",
    "    if i.isupper():\n",
    "        sums+=ord(i)\n",
    "print(sums)"
   ]
  },
  {
   "cell_type": "code",
   "execution_count": 27,
   "id": "56ba890b",
   "metadata": {},
   "outputs": [
    {
     "name": "stdout",
     "output_type": "stream",
     "text": [
      "Original strings:\n",
      "PytHon ExerciSEs\n",
      "Sum of the ASCII values of the upper-case characters in the said string:\n",
      "373\n"
     ]
    }
   ],
   "source": [
    "#using filter and map\n",
    "def test(strs):\n",
    "    return sum(map(ord,filter(str.isupper,strs)))\n",
    "\n",
    "strs =  \"PytHon ExerciSEs\"\n",
    "print(\"Original strings:\")\n",
    "print(strs)\n",
    "print(\"Sum of the ASCII values of the upper-case characters in the said string:\")\n",
    "print(test(strs))"
   ]
  },
  {
   "cell_type": "code",
   "execution_count": 31,
   "id": "30489b2a",
   "metadata": {},
   "outputs": [
    {
     "name": "stdout",
     "output_type": "stream",
     "text": [
      "[1, 4, 6, 8, 10, 11, 15, 16, 18]\n"
     ]
    }
   ],
   "source": [
    "#23-find the indices for which the numbers in the list drops\n",
    "lst=[0, -1, 3, 8, 5, 9, 8, 14, 2, 4, 3, -10, 10, 17, 41, 22, -4, -4, -15, 0]\n",
    "res=[]\n",
    "\n",
    "for i in range(len(lst)-1):\n",
    "    if lst[i]>lst[i+1]:\n",
    "        res.append(i+1)\n",
    "print(res)"
   ]
  },
  {
   "cell_type": "code",
   "execution_count": 33,
   "id": "39a7660a",
   "metadata": {},
   "outputs": [
    {
     "name": "stdout",
     "output_type": "stream",
     "text": [
      "[0, 0, 3, 8, 8, 9, 9, 14, 14, 14, 14, 14, 14, 17, 41, 41, 41, 41, 41, 41]\n"
     ]
    }
   ],
   "source": [
    "#24-create a list whose ith element is the maximum of the first i elements from a input list\n",
    "lst=[0, -1, 3, 8, 5, 9, 8, 14, 2, 4, 3, -10, 10, 17, 41, 22, -4, -4, -15, 0]\n",
    "for i in range(len(lst)-1):\n",
    "    if lst[i]>lst[i+1]:\n",
    "        lst[i+1]=lst[i]\n",
    "print(lst)"
   ]
  },
  {
   "cell_type": "code",
   "execution_count": 34,
   "id": "8176f33a",
   "metadata": {},
   "outputs": [
    {
     "name": "stdout",
     "output_type": "stream",
     "text": [
      "Original list:\n",
      "[0, -1, 3, 8, 5, 9, 8, 14, 2, 4, 3, -10, 10, 17, 41, 22, -4, -4, -15, 0]\n",
      "List whose ith element is the maximum of the first i elements of the said list:\n",
      "[0, 0, 3, 8, 8, 9, 9, 14, 14, 14, 14, 14, 14, 17, 41, 41, 41, 41, 41, 41]\n"
     ]
    }
   ],
   "source": [
    "def test(nums):\n",
    "    return [max(nums[:i])for i in range(1, len(nums)+1)]\n",
    "nums = [0, -1, 3, 8, 5, 9, 8, 14, 2, 4, 3, -10, 10, 17, 41, 22, -4, -4, -15, 0]\n",
    "print(\"Original list:\")\n",
    "print(nums)\n",
    "print(\"List whose ith element is the maximum of the first i elements of the said list:\")\n",
    "print(test(nums))"
   ]
  },
  {
   "cell_type": "code",
   "execution_count": 35,
   "id": "a197453d",
   "metadata": {},
   "outputs": [
    {
     "name": "stdout",
     "output_type": "stream",
     "text": [
      "Original strings:\n",
      "['0001', '1011']\n",
      "XOR of two said strings interpreted as binary numbers:\n",
      "0b1010\n"
     ]
    }
   ],
   "source": [
    "#25-find the XOR of two given strings interpreted as binary numbers\n",
    "def test(nums):\n",
    "    return bin(int(nums[0],2)^int(nums[1],2))\n",
    "nums =  [\"0001\", \"1011\"]\n",
    "print(\"Original strings:\")\n",
    "print(nums)\n",
    "print(\"XOR of two said strings interpreted as binary numbers:\")\n",
    "print(test(nums))"
   ]
  },
  {
   "cell_type": "code",
   "execution_count": 2,
   "id": "d67c0a1a",
   "metadata": {},
   "outputs": [
    {
     "name": "stdout",
     "output_type": "stream",
     "text": [
      "102.1\n"
     ]
    }
   ],
   "source": [
    "#Date-8/31/22\n",
    "#26-find the largest number where commas or periods are decimal points\n",
    "lst=['100', '102,1', '101.1']\n",
    "def test(str_num):\n",
    "    return max(float(s.replace(\",\",\".\"))for s in str_num)\n",
    "print(test(lst))"
   ]
  },
  {
   "cell_type": "code",
   "execution_count": 3,
   "id": "9c355ff8",
   "metadata": {},
   "outputs": [
    {
     "name": "stdout",
     "output_type": "stream",
     "text": [
      "Original list:\n",
      "[4, -5, 17, -9, 14, 108, -9]\n",
      "Minimizes mean squared deviation from the said list of numbers:\n",
      "17.142857142857142\n"
     ]
    }
   ],
   "source": [
    "#27-find x that minimizes mean squared deviation from a given a list of numbers\n",
    "lst=[4, -5, 17, -9, 14, 108, -9]\n",
    "def test(nums):\n",
    "    return sum(nums) / len(nums) \n",
    "nums = [4, -5, 17, -9, 14, 108, -9]\n",
    "print(\"Original list:\")\n",
    "print(nums)\n",
    "print(\"Minimizes mean squared deviation from the said list of numbers:\")\n",
    "print(test(nums))"
   ]
  },
  {
   "cell_type": "code",
   "execution_count": 6,
   "id": "450e0599",
   "metadata": {},
   "outputs": [
    {
     "name": "stdout",
     "output_type": "stream",
     "text": [
      "abcdefhijklmnop\n"
     ]
    }
   ],
   "source": [
    "#28-select a string from a given list of strings with the most unique characters.\n",
    "lst=['cat', 'catatatatctsa', 'abcdefhijklmnop', '124259239185125', '', 'foo', 'unique']\n",
    "#solution1-create set of chars\n",
    "#solution2-ordereddict\n",
    "#solution3-groupby\n",
    "max_len=0\n",
    "max_uniq_char=\"\"\n",
    "#solution1-create set of chars\n",
    "for i in lst:\n",
    "    if len(set(i))>max_len:\n",
    "        max_len=len(set(i))\n",
    "        max_uniq_char=i\n",
    "print(max_uniq_char)     \n",
    "    "
   ]
  },
  {
   "cell_type": "code",
   "execution_count": 16,
   "id": "7eda67a4",
   "metadata": {},
   "outputs": [
    {
     "name": "stdout",
     "output_type": "stream",
     "text": [
      "cats\n"
     ]
    }
   ],
   "source": [
    "#solution2-ordereddict\n",
    "from collections import OrderedDict\n",
    "lst=['cat', 'catatatatctsa', 'abcdefhijklmnop', '124259239185125', '', 'foo', 'unique']\n",
    "#import OrderedDict\n",
    "#for i in \n",
    "dct=''.join(OrderedDict.fromkeys(\"catatatatctsa\").keys())\n",
    "print(dct)"
   ]
  },
  {
   "cell_type": "code",
   "execution_count": 18,
   "id": "a2d48694",
   "metadata": {},
   "outputs": [
    {
     "data": {
      "text/plain": [
       "'abcd'"
      ]
     },
     "execution_count": 18,
     "metadata": {},
     "output_type": "execute_result"
    }
   ],
   "source": [
    "from itertools import groupby\n",
    "''.join(k for k, g in groupby(sorted(\"aaabcabccd\")))"
   ]
  },
  {
   "cell_type": "code",
   "execution_count": 20,
   "id": "13abcd95",
   "metadata": {},
   "outputs": [
    {
     "name": "stdout",
     "output_type": "stream",
     "text": [
      "Original list:\n",
      "['cat', 'catatatatctsa', 'abcdefhijklmnop', '124259239185125', '', 'foo', 'unique']\n",
      "Select a string from the said list of strings with the most unique characters:\n",
      "abcdefhijklmnop\n"
     ]
    }
   ],
   "source": [
    "def test(strs):\n",
    "    return max(strs,key=lambda x:len(set(x)))\n",
    "strs = ['cat', 'catatatatctsa', 'abcdefhijklmnop', '124259239185125', '', 'foo', 'unique']\n",
    "print(\"Original list:\")\n",
    "print(strs)\n",
    "print(\"Select a string from the said list of strings with the most unique characters:\")\n",
    "print(test(strs))"
   ]
  },
  {
   "cell_type": "code",
   "execution_count": 27,
   "id": "65937ac4",
   "metadata": {},
   "outputs": [
    {
     "data": {
      "text/plain": [
       "(1, 'and', 4)"
      ]
     },
     "execution_count": 27,
     "metadata": {},
     "output_type": "execute_result"
    }
   ],
   "source": [
    "#29-find the indices of two numbers that sum to 0 in a given list of numbers.\n",
    "#solution1-using for loop\n",
    "#solution2-\n",
    "lst=[1, -4, 6,7, 4,8]\n",
    "def test(lst):\n",
    "    for i in lst:\n",
    "        if -i in lst:\n",
    "            return (lst.index(i),\"and\",lst.index(-i))\n",
    "            #break\n",
    "test(lst)"
   ]
  },
  {
   "cell_type": "code",
   "execution_count": 33,
   "id": "1e31ddd9",
   "metadata": {},
   "outputs": [
    {
     "name": "stdout",
     "output_type": "stream",
     "text": [
      "Original List:\n",
      "[['this', 'list', 'is', 'narrow'], ['I', 'am', 'shorter but wider']]\n",
      "\n",
      "Find the given list of strings that has fewer total characters:\n",
      "['this', 'list', 'is', 'narrow']\n"
     ]
    }
   ],
   "source": [
    "#30-find the list of strings that has fewer total characters (including repetitions)\n",
    "#q1-are we also counting spaces?\n",
    "l=[['this', 'list', 'is', 'narrow'], ['I', 'am', 'shorter but wider']]\n",
    "#print(len(l[0]),len(l[1]))\n",
    "#print(min(l,key=len))\n",
    "\n",
    "def test(strs):\n",
    "    return min(strs,key=lambda x:sum(len(i) for i in x))\n",
    "\n",
    "print(\"Original List:\")\n",
    "print(l) \n",
    "print(\"\\nFind the given list of strings that has fewer total characters:\")\n",
    "print(test(l))"
   ]
  },
  {
   "cell_type": "code",
   "execution_count": 34,
   "id": "532213dd",
   "metadata": {},
   "outputs": [
    {
     "name": "stdout",
     "output_type": "stream",
     "text": [
      "Sides of the triangle: [3, 4, 5]\n",
      "Coordinates of a triangle with the said side lengths:\n",
      "[[0.0, 0.0], [3, 0.0], [3.0, 4.0]]\n"
     ]
    }
   ],
   "source": [
    "#31-find the coordinates of a triangle with the given side lengths\n",
    "tri_len=[3, 4, 5]\n",
    "def test(sides):\n",
    "    a,b,c=sorted(sides)\n",
    "    s=sum(sides)/2\n",
    "    area=(s*(s-a)*(s-b)*(s-c))**0.5 #Heron's formula\n",
    "    y=2*area/a #height\n",
    "    x=(c**2-y**2)**0.5\n",
    "    return [[0.0, 0.0], [a, 0.0], [x, y]]\n",
    "sides = [3, 4, 5]\n",
    "print(\"Sides of the triangle:\",sides)\n",
    "print(\"Coordinates of a triangle with the said side lengths:\")\n",
    "print(test(sides))"
   ]
  },
  {
   "cell_type": "code",
   "execution_count": 1,
   "id": "05d08342",
   "metadata": {},
   "outputs": [],
   "source": [
    "#32-rescale and shift numbers of a given list, so that they cover the range [0, 1]\n",
    "l=[18.5, 17.0, 18.0, 19.0, 18.0]\n",
    "\n",
    "#https://stackoverflow.com/questions/929103/convert-a-number-range-to-another-range-maintaining-ratio\n"
   ]
  },
  {
   "cell_type": "code",
   "execution_count": 2,
   "id": "e15f19e9",
   "metadata": {},
   "outputs": [
    {
     "name": "stdout",
     "output_type": "stream",
     "text": [
      "Original list:\n",
      "[18.5, 17.0, 18.0, 19.0, 18.0]\n",
      "Rescale and shift the numbers of the said list so that they cover the range [0, 1]:\n",
      "[0.75, 0.0, 0.5, 1.0, 0.5]\n"
     ]
    }
   ],
   "source": [
    "def test(nums):\n",
    "    a=min(nums)\n",
    "    b=max(nums)\n",
    "    if b-a==0:\n",
    "        return [0.0]+[1.0]*(len(nums)-1)\n",
    "    \n",
    "    for i in range(len(nums)):\n",
    "        nums[i]=(nums[i]-a)/(b-a)\n",
    "    return nums\n",
    "\n",
    "nums = [18.5, 17.0, 18.0, 19.0, 18.0]\n",
    "print(\"Original list:\")\n",
    "print(nums)\n",
    "print(\"Rescale and shift the numbers of the said list so that they cover the range [0, 1]:\")\n",
    "print(test(nums))"
   ]
  },
  {
   "cell_type": "code",
   "execution_count": 7,
   "id": "a258f26e",
   "metadata": {},
   "outputs": [
    {
     "name": "stdout",
     "output_type": "stream",
     "text": [
      "[0, 2, 4]\n"
     ]
    }
   ],
   "source": [
    "#33-find the positions of all uppercase vowels (not counting Y) in even indices of a given string\n",
    "vowels=['a','e','i','o','u']\n",
    "s='AEIOUYW'\n",
    "res=[]\n",
    "for i in s:\n",
    "    if i.lower() in vowels and s.index(i)%2==0:\n",
    "        res.append(s.index(i))\n",
    "print(res)"
   ]
  },
  {
   "cell_type": "code",
   "execution_count": 8,
   "id": "63dd95b6",
   "metadata": {},
   "outputs": [
    {
     "name": "stdout",
     "output_type": "stream",
     "text": [
      "Original List: w3rEsOUrcE \n",
      "Positions of all uppercase vowels (not counting Y) in even indices:\n",
      "[6]\n"
     ]
    }
   ],
   "source": [
    "def test(strs):\n",
    "    return [i for i, c in enumerate(strs) if i % 2 == 0 and c in \"AEIOU\"] \n",
    "strs = \"w3rEsOUrcE \"\n",
    "print(\"Original List:\",strs)\n",
    "print(\"Positions of all uppercase vowels (not counting Y) in even indices:\")\n",
    "print(test(strs))"
   ]
  },
  {
   "cell_type": "code",
   "execution_count": 7,
   "id": "26bbc9d2",
   "metadata": {},
   "outputs": [
    {
     "name": "stdout",
     "output_type": "stream",
     "text": [
      "[]\n"
     ]
    }
   ],
   "source": [
    "#Date-09/02/22\n",
    "#34-find the sum of the numbers of a given list among the first k with more than 2 digits\n",
    "l=[4, 5, 17, 9, 14, 108, -9, 12, 76]\n",
    "k=4\n",
    "res=[l[i] for i in range(len(l)) if (len(str(l[i]))>=3 and i<=k)]\n",
    "print(res)"
   ]
  },
  {
   "cell_type": "code",
   "execution_count": 8,
   "id": "0ea111f7",
   "metadata": {},
   "outputs": [
    {
     "name": "stdout",
     "output_type": "stream",
     "text": [
      "Original list: [4, 5, 17, 9, 14, 108, -9, 12, 76]\n",
      "Value of K: 4\n",
      "sum of the numbers among the first k with more than 2 digits\n",
      "0\n",
      "\n",
      "Original list: [4, 5, 17, 9, 14, 108, -9, 12, 76]\n",
      "Value of K: 6\n",
      "sum of the numbers among the first k with more than 2 digits\n",
      "108\n",
      "\n",
      "Original list: [114, 215, -117, 119, 14, 108, -9, 12, 76]\n",
      "Value of K: 5\n",
      "sum of the numbers among the first k with more than 2 digits\n",
      "331\n",
      "\n",
      "Original list: [114, 215, -117, 119, 14, 108, -9, 12, 76]\n",
      "Value of K: 1\n",
      "sum of the numbers among the first k with more than 2 digits\n",
      "114\n"
     ]
    }
   ],
   "source": [
    "def test(nums, k):\n",
    "    s = 0\n",
    "    for i in range(len(nums))[:k]:\n",
    "        if len(str(abs(nums[i])))>2:\n",
    "            s = s + nums[i]\n",
    "    return s\n",
    "\n",
    "nums = [4, 5, 17, 9, 14, 108, -9, 12 ,76]\n",
    "print(\"Original list:\",nums)\n",
    "K = 4\n",
    "print(\"Value of K:\",K)\n",
    "print(\"sum of the numbers among the first k with more than 2 digits\")\n",
    "print(test(nums, K))\n",
    "nums = [4, 5, 17, 9, 14, 108, -9, 12 ,76]\n",
    "print(\"\\nOriginal list:\",nums)\n",
    "K = 6\n",
    "print(\"Value of K:\",K)\n",
    "print(\"sum of the numbers among the first k with more than 2 digits\")\n",
    "print(test(nums, K))\n",
    "nums = [114, 215, -117, 119, 14, 108, -9, 12 ,76]\n",
    "print(\"\\nOriginal list:\",nums)\n",
    "K = 5\n",
    "print(\"Value of K:\",K)\n",
    "print(\"sum of the numbers among the first k with more than 2 digits\")\n",
    "print(test(nums, K)) \n",
    "print(\"\\nOriginal list:\",nums)\n",
    "K = 1\n",
    "print(\"Value of K:\",K)\n",
    "print(\"sum of the numbers among the first k with more than 2 digits\")\n",
    "print(test(nums, K)) "
   ]
  },
  {
   "cell_type": "code",
   "execution_count": 12,
   "id": "ee69f5f7",
   "metadata": {},
   "outputs": [
    {
     "name": "stdout",
     "output_type": "stream",
     "text": [
      "945\n"
     ]
    }
   ],
   "source": [
    "#35-compute the product of the odd digits in a given number, or 0 if there aren't any\n",
    "n=123456789\n",
    "prod=1\n",
    "for i in str(n):\n",
    "    if int(i)%2==1:\n",
    "        prod*=int(i)\n",
    "print(prod)"
   ]
  },
  {
   "cell_type": "code",
   "execution_count": 30,
   "id": "63e0b876",
   "metadata": {},
   "outputs": [
    {
     "name": "stdout",
     "output_type": "stream",
     "text": [
      "[1, 2, 2, 3, 3, 4, 5, 5, 6]\n",
      "[5, 5, 6]\n"
     ]
    }
   ],
   "source": [
    "#36-find the largest k numbers from a given list of numbers\n",
    "l=[1, 2, 3, 4, 5, 5, 3, 6, 2]\n",
    "k=3\n",
    "print(sorted(l))\n",
    "lst=sorted(l)\n",
    "#print((lst[len(l)-k:]))\n",
    "print((lst[-k:]))"
   ]
  },
  {
   "cell_type": "code",
   "execution_count": 31,
   "id": "e7864e9e",
   "metadata": {},
   "outputs": [
    {
     "name": "stdout",
     "output_type": "stream",
     "text": [
      "Original list of numbers: [1, 2, 3, 4, 5, 5, 3, 6, 2]\n",
      "Largest 1 numbers from the said list:\n",
      "[6]\n"
     ]
    }
   ],
   "source": [
    "def test(nums, k):\n",
    "    if k == 0:\n",
    "        return []\n",
    "    return sorted(nums, reverse=True)[:k]\n",
    "nums = [1, 2, 3, 4, 5, 5, 3, 6, 2] \n",
    "print(\"Original list of numbers:\",nums)\n",
    "k = 1\n",
    "print(\"Largest\", k, \"numbers from the said list:\")\n",
    "print(test(nums, k))"
   ]
  },
  {
   "cell_type": "code",
   "execution_count": 41,
   "id": "94ed1288",
   "metadata": {},
   "outputs": [
    {
     "name": "stdout",
     "output_type": "stream",
     "text": [
      "[1, 2, 4, 5, 20.0, 25.0, 50.0, 100.0] 50.0\n"
     ]
    }
   ],
   "source": [
    "#37-find the largest integer divisor of a number n that is less than n\n",
    "import math\n",
    "n=100\n",
    "res=[]\n",
    "sorted_res=[]\n",
    "for i in range(1,int(math.sqrt(n))):\n",
    "    if n%i==0:\n",
    "        res.append(i)\n",
    "        res.append(n/i)\n",
    "sorted_res=sorted(res)\n",
    "print(sorted_res,sorted_res[-2])"
   ]
  },
  {
   "cell_type": "code",
   "execution_count": 43,
   "id": "215b2a4b",
   "metadata": {},
   "outputs": [
    {
     "name": "stdout",
     "output_type": "stream",
     "text": [
      "Original number: 15\n",
      "Largest integer divisor of a number n that is less than n:\n",
      "5\n"
     ]
    }
   ],
   "source": [
    "def test(n):\n",
    "    return next(d for d in range(n-1,0,-1)if n%d==0)\n",
    "n = 15\n",
    "print(\"Original number:\",n)\n",
    "print(\"Largest integer divisor of a number n that is less than n:\")\n",
    "print(test(n))"
   ]
  },
  {
   "cell_type": "code",
   "execution_count": 63,
   "id": "c826d152",
   "metadata": {},
   "outputs": [
    {
     "name": "stdout",
     "output_type": "stream",
     "text": [
      "{10: 1, 11: 2, 12: 3, 13: 4, 14: 5, 15: 6, 16: 7, 17: 8, 18: 9, 19: 10, 20: 2}\n",
      "[10, 11, 20, 12, 13, 14, 15, 16, 17, 18, 19]\n"
     ]
    }
   ],
   "source": [
    "#38-sort the numbers of a given list by the sum of their digits.\n",
    "#using dictionary\n",
    "from operator import itemgetter\n",
    "l=[10, 11, 12, 13, 14, 15, 16, 17, 18, 19, 20]\n",
    "res={}\n",
    "sums=0\n",
    "for i in l:\n",
    "    for n in str(i):\n",
    "        sums+=int(n)\n",
    "    res[i]=sums\n",
    "    sums=0\n",
    "print(res)\n",
    "sorted_res=sorted(res,key=lambda i:res[i])\n",
    "#sorted_res=sorted(res.items(),key=itemgetter(1))\n",
    "print((sorted_res))"
   ]
  },
  {
   "cell_type": "code",
   "execution_count": 49,
   "id": "201bd87a",
   "metadata": {},
   "outputs": [
    {
     "name": "stdout",
     "output_type": "stream",
     "text": [
      "Original list of numbers: [10, 11, 12, 13, 14, 15, 16, 17, 18, 19, 20]\n",
      "Sort the numbers of the said list by the sum of their digits:\n",
      "[10, 11, 20, 12, 13, 14, 15, 16, 17, 18, 19]\n"
     ]
    }
   ],
   "source": [
    "def test(nums):\n",
    "    return sorted(nums,key=lambda n:sum(int(c)for c in str(n)if c!='-'))\n",
    "nums = [10, 11, 12, 13, 14, 15, 16, 17, 18, 19, 20]\n",
    "print(\"Original list of numbers:\",nums)\n",
    "print(\"Sort the numbers of the said list by the sum of their digits:\")\n",
    "print(test(nums))"
   ]
  },
  {
   "cell_type": "code",
   "execution_count": 66,
   "id": "b7e1d98d",
   "metadata": {},
   "outputs": [
    {
     "name": "stdout",
     "output_type": "stream",
     "text": [
      "True\n",
      "True\n",
      "False\n",
      "False\n",
      "False\n"
     ]
    }
   ],
   "source": [
    "#39-determine which triples sum to zero from a given list of lists.\n",
    "l=[[1, 2, -3], [-4, 0, 4], [0, 1, -5], [1, 1, 1], [-2, 4, -1]]\n",
    "res=[print(\"True\") if sum(i)==0 else print(\"False\") for i in l ]"
   ]
  },
  {
   "cell_type": "code",
   "execution_count": 67,
   "id": "e18e61eb",
   "metadata": {},
   "outputs": [
    {
     "name": "stdout",
     "output_type": "stream",
     "text": [
      "Original list of lists: [[1343532, -2920635, 332], [-27, 18, 9], [4, 0, -4], [2, 2, 2], [-20, 16, 4]]\n",
      "Determine which triples sum to zero:\n",
      "[False, True, True, False, True]\n"
     ]
    }
   ],
   "source": [
    "def test(nums):\n",
    "    return [sum(t)==0 for t in nums]\n",
    " \n",
    "nums = [[1343532, -2920635, 332], [-27, 18, 9], [4, 0, -4], [2, 2, 2], [-20, 16, 4]]\n",
    "print(\"Original list of lists:\",nums)\n",
    "print(\"Determine which triples sum to zero:\")\n",
    "print(test(nums))"
   ]
  },
  {
   "cell_type": "code",
   "execution_count": 74,
   "id": "dd74a114",
   "metadata": {},
   "outputs": [
    {
     "name": "stdout",
     "output_type": "stream",
     "text": [
      "pYTHQN\n"
     ]
    }
   ],
   "source": [
    "#40- find string s that, when case is flipped gives target where vowels are replaced by chars two later\n",
    "#quest: is it case sensetive? is y a vowel? \n",
    "vowels=['a','e','i','o','u']\n",
    "chars=['c','g','j','q','w']\n",
    "dct={'a':'c','e':'g','i':'j','o':'q','u':'w'}\n",
    "s=\"Python\"\n",
    "res=\"\"\n",
    "#res[0]=s[0].lower()\n",
    "for i in s:\n",
    "    if i in dct.keys():\n",
    "        #print(i)\n",
    "        res+=dct[i]\n",
    "    else:\n",
    "        res+=i\n",
    "print(res.swapcase())\n",
    "    "
   ]
  },
  {
   "cell_type": "code",
   "execution_count": 75,
   "id": "e2102506",
   "metadata": {},
   "outputs": [
    {
     "name": "stdout",
     "output_type": "stream",
     "text": [
      "Original string: Python\n",
      "Find string s that, when case is flipped gives target where vowels are replaced by chars two later:\n",
      "pYTHQN\n"
     ]
    }
   ],
   "source": [
    "#usoing ord() method and translate\n",
    "def test(strs):\n",
    "    return strs.translate({ord(c):ord(c)+2 for c in \"aeiouAEIOU\"}).swapcase()\n",
    "strs = \"Python\" \n",
    "print(\"Original string:\",strs)\n",
    "print(\"Find string s that, when case is flipped gives target where vowels are replaced by chars two later:\")\n",
    "print(test(strs))"
   ]
  },
  {
   "cell_type": "code",
   "execution_count": 86,
   "id": "3f4e48e5",
   "metadata": {},
   "outputs": [
    {
     "name": "stdout",
     "output_type": "stream",
     "text": [
      "['one', 'two', 'three', 'four', 'six', 'eight', 'nine']\n"
     ]
    }
   ],
   "source": [
    "#41- sort numbers based on strings\n",
    "dct={'one':1,'two':2,'three':3,'four':4,'five':5,'six':6,'seven':7,'eight':8,'nine':9,'zero':0}\n",
    "l=\"six one four three two nine eight\"\n",
    "lst=l.split()\n",
    "#print(sorted(lst))\n",
    "res=sorted(lst,key=lambda i:dct[i])\n",
    "print(res)    "
   ]
  },
  {
   "cell_type": "code",
   "execution_count": 84,
   "id": "fe145c93",
   "metadata": {},
   "outputs": [
    {
     "name": "stdout",
     "output_type": "stream",
     "text": [
      "Original string: six one four one two three\n",
      "Sort numbers based on said strings:\n",
      "one two three four six\n"
     ]
    }
   ],
   "source": [
    "def test(strs):\n",
    "    return ' '.join([x for x in 'one two three four five six seven eight nine'.split() if x in strs])\n",
    "strs = \"six one four one two three\"\n",
    "print(\"Original string:\",strs)\n",
    "print(\"Sort numbers based on said strings:\")\n",
    "print(test(strs))"
   ]
  },
  {
   "cell_type": "code",
   "execution_count": 87,
   "id": "7ee0d31b",
   "metadata": {},
   "outputs": [
    {
     "name": "stdout",
     "output_type": "stream",
     "text": [
      "['H', 'E', 'l', 'O']\n"
     ]
    }
   ],
   "source": [
    "#42-find the set of distinct characters in a given string, ignoring case\n",
    "s='HElLO'\n",
    "res=[]\n",
    "for i in s:\n",
    "    if i.lower() not in res:\n",
    "        res.append(i)\n",
    "print(res)"
   ]
  },
  {
   "cell_type": "code",
   "execution_count": 88,
   "id": "be33f24a",
   "metadata": {},
   "outputs": [
    {
     "name": "stdout",
     "output_type": "stream",
     "text": [
      "Original string: HELLO\n",
      "Set of distinct characters in the said string, ignoring case:\n",
      "['l', 'h', 'e', 'o']\n"
     ]
    }
   ],
   "source": [
    "#creating sets\n",
    "def test(strs):\n",
    "    return [*set(strs.lower())]\n",
    " \n",
    "strs = \"HELLO\"\n",
    "print(\"Original string:\",strs)\n",
    "print(\"Set of distinct characters in the said string, ignoring case:\")\n",
    "print(test(strs))"
   ]
  },
  {
   "cell_type": "code",
   "execution_count": 90,
   "id": "e540a6a4",
   "metadata": {},
   "outputs": [
    {
     "name": "stdout",
     "output_type": "stream",
     "text": [
      "['this', 'timer']\n"
     ]
    }
   ],
   "source": [
    "#43- find all words in a given string with n consonants\n",
    "#find word\n",
    "#split method\n",
    "vowels=['a','e','i','o','u']\n",
    "s=\"this is our timer\"\n",
    "k=3\n",
    "res=[]\n",
    "cnt=0\n",
    "lst=s.split()\n",
    "for i in lst:\n",
    "    for j in i:\n",
    "        if j not in vowels:\n",
    "            cnt+=1\n",
    "    if cnt==k:\n",
    "        res.append(i)\n",
    "    cnt=0\n",
    "print(res)"
   ]
  },
  {
   "cell_type": "code",
   "execution_count": 91,
   "id": "27f354f8",
   "metadata": {},
   "outputs": [
    {
     "name": "stdout",
     "output_type": "stream",
     "text": [
      "Original string: this is our time\n",
      "Number of consonants: 3\n",
      "Words in the said string with 3 consonants:\n",
      "['this']\n"
     ]
    }
   ],
   "source": [
    "def test(strs,n):\n",
    "    return [w for w in strs.split() if sum([c not in \"aeiou\" for c in w.lower()])==n]\n",
    "strs = \"this is our time\"\n",
    "print(\"Original string:\",strs)\n",
    "n = 3\n",
    "print(\"Number of consonants:\",n)\n",
    "print(\"Words in the said string with\",n,\"consonants:\")\n",
    "print(test(strs, n))"
   ]
  },
  {
   "cell_type": "code",
   "execution_count": 95,
   "id": "0cb5801e",
   "metadata": {},
   "outputs": [
    {
     "name": "stdout",
     "output_type": "stream",
     "text": [
      "['2', '3', 'B', 'D']\n"
     ]
    }
   ],
   "source": [
    "#44- find which characters of a hexadecimal number correspond to prime numbers\n",
    "prime=[2,3,5,7,11,13,17]\n",
    "n='123ABCD'\n",
    "res=[]\n",
    "for i in n:\n",
    "    if int(i,16) in prime:\n",
    "        res.append(i)\n",
    "print(res)"
   ]
  },
  {
   "cell_type": "code",
   "execution_count": 96,
   "id": "aab8634a",
   "metadata": {},
   "outputs": [
    {
     "name": "stdout",
     "output_type": "stream",
     "text": [
      "Original hexadecimal number: 123ABCD\n",
      "Characters of the said hexadecimal number correspond to prime numbers:\n",
      "[False, True, True, False, True, False, True]\n"
     ]
    }
   ],
   "source": [
    "def test(hn):\n",
    "    return [c in \"2357BD\" for c in hn] \n",
    "hn = \"123ABCD\"\n",
    "print(\"Original hexadecimal number:\",hn) \n",
    "print(\"Characters of the said hexadecimal number correspond to prime numbers:\")\n",
    "print(test(hn))"
   ]
  },
  {
   "cell_type": "code",
   "execution_count": 110,
   "id": "5d4c03b6",
   "metadata": {},
   "outputs": [
    {
     "name": "stdout",
     "output_type": "stream",
     "text": [
      "[0, 1, 2, 3, 4, 5, 6, 7, 8, 9, 11, 22, 33, 44, 55, 66, 77, 88, 99]\n"
     ]
    }
   ],
   "source": [
    "#45-find all even palindromes up to n.\n",
    "n=100\n",
    "res=[]\n",
    "for i in range(n+1):\n",
    "    if str(i)==str(i)[::-1]:\n",
    "        res.append(i)\n",
    "print(res)"
   ]
  },
  {
   "cell_type": "code",
   "execution_count": 114,
   "id": "9916ce86",
   "metadata": {},
   "outputs": [
    {
     "name": "stdout",
     "output_type": "stream",
     "text": [
      "Original list:\n",
      "[1, 9, 4, 6, 10, 11, 14, 8]\n",
      "Minimum even value and its index of the said array of numbers:\n",
      "[4, 2]\n"
     ]
    }
   ],
   "source": [
    "#46-array of numbers representing a branch on a binary tree, write a Python program to\n",
    "#find the minimum even value and its index. In the case of a tie, return the smallest index.\n",
    "#If there are no even numbers, the answer is [].\n",
    "\n",
    "def test(nums):\n",
    "    if any(n % 2 == 0 for n in nums):\n",
    "        return min([v, i] for i, v in enumerate(nums) if v % 2 == 0)\n",
    "    else:\n",
    "        return []\n",
    "nums =  [1, 9, 4, 6, 10, 11, 14, 8]\n",
    "print(\"Original list:\")\n",
    "print(nums)\n",
    "print(\"Minimum even value and its index of the said array of numbers:\")\n",
    "print(test(nums))"
   ]
  },
  {
   "cell_type": "code",
   "execution_count": 116,
   "id": "7e42243f",
   "metadata": {},
   "outputs": [
    {
     "name": "stdout",
     "output_type": "stream",
     "text": [
      "Original list:\n",
      "[11, -6, -103, -200]\n",
      "Find the numbers in the said list whose sum of digits is >0, where the first digit can be negative:\n",
      "[11, -103]\n"
     ]
    }
   ],
   "source": [
    "#47-Filter for the numbers in numbers in a given list whose sum of digits is > 0, where the first digit can be negative.\n",
    "l=[11, -6, -103, -200]\n",
    "def test(nums):\n",
    "    return [n for n in nums if int(str(n)[:2])+sum(map(int,str(n)[2:]))>0]\n",
    "nums =  [11, -6, -103, -200]\n",
    "print(\"Original list:\")\n",
    "print(nums)\n",
    "print(\"Find the numbers in the said list whose sum of digits is >0, where the first digit can be negative:\")\n",
    "print(test(nums))"
   ]
  },
  {
   "cell_type": "code",
   "execution_count": 118,
   "id": "e555e854",
   "metadata": {},
   "outputs": [
    {
     "name": "stdout",
     "output_type": "stream",
     "text": [
      "[2, 3]\n"
     ]
    }
   ],
   "source": [
    "#48-find the indices of two entries that show that the list is not in increasing order\n",
    "l=[1, 2, 3, 0, 4, 5, 6]\n",
    "for i in range(len(l)):\n",
    "    if l[i+1]<l[i]:\n",
    "        print([i,i+1])\n",
    "        break"
   ]
  },
  {
   "cell_type": "code",
   "execution_count": 125,
   "id": "7689b456",
   "metadata": {},
   "outputs": [
    {
     "name": "stdout",
     "output_type": "stream",
     "text": [
      "4\n"
     ]
    }
   ],
   "source": [
    "#49-find the h-index, the largest positive number h such that h occurs in \n",
    "#the sequence at least h times. If there is no such positive number return h = -1.\n",
    "l=[1, 2, 2, 3, 3, 4, 4, 4, 4]\n",
    "res=set()\n",
    "for i in l:\n",
    "    if i==l.count(i):\n",
    "        res.add(i)\n",
    "print(list(res)[-1])"
   ]
  },
  {
   "cell_type": "code",
   "execution_count": 127,
   "id": "01c2d030",
   "metadata": {},
   "outputs": [
    {
     "name": "stdout",
     "output_type": "stream",
     "text": [
      "Original list of numbers:\n",
      "[1, 2, 2, 3, 3, 4, 4, 4, 4]\n",
      "h-index, the largest positive number h such that h occurs in the said sequence at least h times:\n",
      "4\n"
     ]
    }
   ],
   "source": [
    "def test(nums):\n",
    "    return max([-1] + [i for i in nums if i > 0 and nums.count(i) >= i])\n",
    "\n",
    "nums =  [1, 2, 2, 3, 3, 4, 4, 4, 4]\n",
    "print(\"Original list of numbers:\")\n",
    "print(nums)\n",
    "print(\"h-index, the largest positive number h such that h occurs in the said sequence at least h times:\")\n",
    "print(test(nums))"
   ]
  },
  {
   "cell_type": "code",
   "execution_count": 126,
   "id": "4e68b988",
   "metadata": {},
   "outputs": [
    {
     "name": "stdout",
     "output_type": "stream",
     "text": [
      "['Pink', 'Orange']\n"
     ]
    }
   ],
   "source": [
    "#50- find the even-length words from a given list of words and sort them by length\n",
    "l=['Red', 'Black', 'White', 'Green', 'Pink', 'Orange']\n",
    "lst=[]\n",
    "for i in l:\n",
    "    if len(i)%2==0:\n",
    "        lst.append(i)\n",
    "print(sorted(lst,key=len))"
   ]
  },
  {
   "cell_type": "code",
   "execution_count": 128,
   "id": "3c586298",
   "metadata": {},
   "outputs": [
    {
     "name": "stdout",
     "output_type": "stream",
     "text": [
      "Original list of words:\n",
      "['Red', 'Black', 'White', 'Green', 'Pink', 'Orange']\n",
      "Find the even-length words and sort them by length in the said list of words:\n",
      "['Pink', 'Orange']\n"
     ]
    }
   ],
   "source": [
    "def test(nums):\n",
    "     return sorted([w for w in words if len(w) % 2 == 0], key=lambda w: (len(w), w))\n",
    "\n",
    "words = [\"Red\", \"Black\", \"White\", \"Green\", \"Pink\", \"Orange\"]\n",
    "print(\"Original list of words:\")\n",
    "print(words)\n",
    "print(\"Find the even-length words and sort them by length in the said list of words:\")\n",
    "print(test(words))"
   ]
  },
  {
   "cell_type": "code",
   "execution_count": 138,
   "id": "033b8435",
   "metadata": {},
   "outputs": [
    {
     "name": "stdout",
     "output_type": "stream",
     "text": [
      "[1, 1, 2, 3, 5, 8, 13, 21, 34, 55, 89, 144, 233, 377, 610]\n"
     ]
    }
   ],
   "source": [
    "#51-find the first n Fibonacci numbers\n",
    "n=15\n",
    "sums=0\n",
    "res=[1,1]\n",
    "for i in range(2,n):\n",
    "    sums=0\n",
    "    sums=res[i-2]+res[i-1]\n",
    "    res.append(sums)\n",
    "print(res)"
   ]
  },
  {
   "cell_type": "code",
   "execution_count": 139,
   "id": "b744f6f6",
   "metadata": {},
   "outputs": [
    {
     "name": "stdout",
     "output_type": "stream",
     "text": [
      "\n",
      "Find the first 10 Fibonacci numbers:\n",
      "[1, 1, 2, 3, 5, 8, 13, 21, 34, 55]\n"
     ]
    }
   ],
   "source": [
    "def test(n):\n",
    "    a = [1, 1]\n",
    "    while len(a) < n: a += [sum(a[-2:])]\n",
    "    return a[:n]\n",
    "n = 10\n",
    "print(\"\\nFind the first\",n,\"Fibonacci numbers:\")    \n",
    "print(test(n))"
   ]
  },
  {
   "cell_type": "code",
   "execution_count": 140,
   "id": "b5fc82e4",
   "metadata": {},
   "outputs": [
    {
     "name": "stdout",
     "output_type": "stream",
     "text": [
      "['CAT', 'CATATATATCTSA', 'ABCDEFHIJKLMNOP', '124259239185125', '', 'FOO', 'UNIQUE']\n"
     ]
    }
   ],
   "source": [
    "#52-reverse the case of all strings\n",
    "l=['cat', 'catatatatctsa', 'abcdefhijklmnop', '124259239185125', '', 'foo', 'unique']\n",
    "res=[]\n",
    "for i in l:\n",
    "    res.append(i.swapcase())\n",
    "print(res)"
   ]
  },
  {
   "cell_type": "code",
   "execution_count": 141,
   "id": "aab2dc07",
   "metadata": {},
   "outputs": [
    {
     "name": "stdout",
     "output_type": "stream",
     "text": [
      "Original list:\n",
      "['cat', 'catatatatctsa', 'abcdefhijklmnop', '124259239185125', '', 'foo', 'unique']\n",
      "Reverse the case of all strings. For those strings which contain no letters, reverse the strings:\n",
      "['CAT', 'CATATATATCTSA', 'ABCDEFHIJKLMNOP', '521581932952421', '', 'FOO', 'UNIQUE']\n"
     ]
    }
   ],
   "source": [
    "def test(strs):\n",
    "    return [s[::-1] if s.isdigit() else s.swapcase() for s in strs] \n",
    "strs = ['cat', 'catatatatctsa', 'abcdefhijklmnop', '124259239185125', '', 'foo', 'unique']\n",
    "print(\"Original list:\")\n",
    "print(strs)\n",
    "print(\"Reverse the case of all strings. For those strings which contain no letters, reverse the strings:\")\n",
    "print(test(strs))"
   ]
  },
  {
   "cell_type": "code",
   "execution_count": 143,
   "id": "c3f45fa9",
   "metadata": {},
   "outputs": [
    {
     "name": "stdout",
     "output_type": "stream",
     "text": [
      "18\n"
     ]
    }
   ],
   "source": [
    "#53-find the product of the units digits in the numbers of a given list\n",
    "l=[12, 23, 43]\n",
    "prod=1\n",
    "for i in l:\n",
    "    n=str(i)[-1]\n",
    "    prod*=int(n)\n",
    "print(prod)"
   ]
  },
  {
   "cell_type": "code",
   "execution_count": 144,
   "id": "b2784f82",
   "metadata": {},
   "outputs": [
    {
     "name": "stdout",
     "output_type": "stream",
     "text": [
      "Original list of numbers:\n",
      "[12, 23]\n",
      "Product of the units digits in the numbers of the said:\n",
      "6\n"
     ]
    }
   ],
   "source": [
    "def test(nums):\n",
    "     return eval('*'.join([str(x % 10) for x in nums]))\n",
    " \n",
    "nums = [12, 23]\n",
    "print(\"Original list of numbers:\")\n",
    "print(nums)\n",
    "print(\"Product of the units digits in the numbers of the said:\")\n",
    "print(test(nums))"
   ]
  },
  {
   "cell_type": "code",
   "execution_count": 145,
   "id": "9d5ee198",
   "metadata": {},
   "outputs": [
    {
     "name": "stdout",
     "output_type": "stream",
     "text": [
      "[1, 3, 4, 10, 43]\n"
     ]
    }
   ],
   "source": [
    "#54-remove duplicates from a list of integers, preserving order\n",
    "l=[1, 3, 4, 10, 4, 1, 43]\n",
    "res=[]\n",
    "for i in l:\n",
    "    if i not in res:\n",
    "        res.append(i)\n",
    "print (res)"
   ]
  },
  {
   "cell_type": "code",
   "execution_count": 146,
   "id": "3c5c72f1",
   "metadata": {},
   "outputs": [
    {
     "name": "stdout",
     "output_type": "stream",
     "text": [
      "Original list of numbers:\n",
      "[1, 3, 4, 10, 4, 1, 43]\n",
      "Remove duplicates from the said list of integers, preserving order:\n",
      "[1, 3, 4, 10, 43]\n"
     ]
    }
   ],
   "source": [
    "def test(nums):\n",
    "    return list(dict.fromkeys(nums))\n",
    "nums = [1, 3, 4, 10, 4, 1, 43]\n",
    "print(\"Original list of numbers:\")\n",
    "print(nums)\n",
    "print(\"Remove duplicates from the said list of integers, preserving order:\")\n",
    "print(test(nums))"
   ]
  },
  {
   "cell_type": "code",
   "execution_count": 3,
   "id": "79347931",
   "metadata": {},
   "outputs": [
    {
     "name": "stdout",
     "output_type": "stream",
     "text": [
      "Original list of numbers:\n",
      "[1, 3, 79, 10, 4, 1, 39]\n",
      "Numbers of the said array that are greater than 10 and have odd first and last digits:\n",
      "[79, 39]\n"
     ]
    }
   ],
   "source": [
    "#Date-9/3/22\n",
    "#55-numbers that are greater than 10 and have odd first and last digits\n",
    "def test(nums):\n",
    "      return [x for x in nums if x > 10 and x % 10 % 2 and int(str(x)[0]) % 2]\n",
    "nums = [1, 3, 79, 10, 4, 1, 39]\n",
    "print(\"Original list of numbers:\")\n",
    "print(nums)\n",
    "print(\"Numbers of the said array that are greater than 10 and have odd first and last digits:\")\n",
    "print(test(nums))"
   ]
  },
  {
   "cell_type": "code",
   "execution_count": 7,
   "id": "dd74ea43",
   "metadata": {},
   "outputs": [
    {
     "name": "stdout",
     "output_type": "stream",
     "text": [
      "4 8 9 16 25 27 32 36 49 64 81 "
     ]
    }
   ],
   "source": [
    "#56-find an integer exponent x such that a^x = n.\n",
    "a=2\n",
    "n=1024\n",
    "import math \n",
    "def isPower(n):\n",
    "    #base case\n",
    "    if (n<=1):\n",
    "        return True\n",
    "    for x in range(2,int(math.sqrt(n))+1):\n",
    "        p=x\n",
    "        #keep multiplying with x while n <=x\n",
    "        while(p<=n):\n",
    "            p=p*x\n",
    "            if (p==n):\n",
    "                return True\n",
    "    return False\n",
    "# Driver Program\n",
    "for i in range(2, 100) :\n",
    "     \n",
    "    if (isPower(i)) :\n",
    "        print( i, end =\" \")"
   ]
  },
  {
   "cell_type": "code",
   "execution_count": 8,
   "id": "1521d6d3",
   "metadata": {},
   "outputs": [
    {
     "name": "stdout",
     "output_type": "stream",
     "text": [
      "a =  2 : n =  1024\n",
      "Find an integer exponent x such that a^x = n:\n",
      "10\n"
     ]
    }
   ],
   "source": [
    "def test(n,a):\n",
    "    m=1\n",
    "    x=0\n",
    "    while m!=n:\n",
    "        x+=1\n",
    "        m*=a\n",
    "    return x\n",
    "a = 2\n",
    "n = 1024\n",
    "print(\"a = \",a,\": n = \",n)\n",
    "print(\"Find an integer exponent x such that a^x = n:\")    \n",
    "print(test(n,a))"
   ]
  },
  {
   "cell_type": "code",
   "execution_count": 18,
   "id": "64b09350",
   "metadata": {},
   "outputs": [
    {
     "name": "stdout",
     "output_type": "stream",
     "text": [
      "-7\n"
     ]
    }
   ],
   "source": [
    "#57-find the sum of the magnitudes of the elements in the array with a sign \n",
    "#that is equal to the product of the signs of the entries\n",
    "l=[1, 3, -2,1]\n",
    "s=0\n",
    "flag=0\n",
    "\n",
    "for i in l:\n",
    "    if i<0:\n",
    "        flag=1        \n",
    "    s+=abs(i)\n",
    "   # print(i)    \n",
    "if flag==1:\n",
    "    print(-s)\n",
    "else:\n",
    "    print(s)"
   ]
  },
  {
   "cell_type": "code",
   "execution_count": null,
   "id": "69ca2bc4",
   "metadata": {},
   "outputs": [],
   "source": [
    "def test(nums):\n",
    "    tot=sum(abs(i)for i in nums)\n",
    "    if all(nums):\n",
    "        return tot if sum(i<0 for i in nums)%2==0 else -tot\n",
    "    return 0\n",
    "nums = [1, 3, -2]\n",
    "print(\"Original list of numbers:\")\n",
    "print(nums)\n",
    "print(\"Sum of the magnitudes of the elements in the array with a sign that is equal to the product of the signs of the entries:\")\n",
    "print(test(nums))    "
   ]
  },
  {
   "cell_type": "code",
   "execution_count": 19,
   "id": "a19764da",
   "metadata": {},
   "outputs": [
    {
     "name": "stdout",
     "output_type": "stream",
     "text": [
      "56\n"
     ]
    }
   ],
   "source": [
    "#58- find the biggest even number between two numbers inclusive\n",
    "m=12\n",
    "n=57\n",
    "\n",
    "if max(m,n)%2==0:\n",
    "    print(max(m,n))\n",
    "else:\n",
    "    print(max(m,n)-1)"
   ]
  },
  {
   "cell_type": "code",
   "execution_count": 21,
   "id": "a5020019",
   "metadata": {},
   "outputs": [
    {
     "name": "stdout",
     "output_type": "stream",
     "text": [
      "Biggest even number between 12 and 51\n",
      "50\n"
     ]
    }
   ],
   "source": [
    "def test(m, n):\n",
    "    if m > n or (m == n and m % 2 == 1):\n",
    "        return -1\n",
    "    return n if n % 2 == 0 else n - 1\n",
    "\n",
    "m = 12\n",
    "n = 51\n",
    "print(\"Biggest even number between\",m,\"and\",n)\n",
    "print(test(m, n))"
   ]
  },
  {
   "cell_type": "code",
   "execution_count": 28,
   "id": "239cc02b",
   "metadata": {},
   "outputs": [
    {
     "name": "stdout",
     "output_type": "stream",
     "text": [
      "invalid test.py .py\n"
     ]
    }
   ],
   "source": [
    "#59-program to create a list of True/False that determine whether candidate filename is valid or not\n",
    "file_name=[ 'txt', 'exe', 'jpg', 'png', 'dll']\n",
    "l=['abc123.txt', 'windows.dll', 'tiger.png', 'rose.jpg', 'test.py', 'win32.exe']\n",
    "for i in l:\n",
    "    cnt=0\n",
    "    if i.count('.')>1:\n",
    "        print(\"invalid\",i)\n",
    "    if i[-3:] not in file_name:\n",
    "        print(\"invalid\",i,i[-3:])        "
   ]
  },
  {
   "cell_type": "code",
   "execution_count": 29,
   "id": "dfa3c170",
   "metadata": {},
   "outputs": [
    {
     "name": "stdout",
     "output_type": "stream",
     "text": [
      "Original list of files:\n",
      "['abc.txt', 'windows.dll', 'tiger.png', 'rose.jpg', 'test.py', 'win32.exe']\n",
      "Valid filenames:\n",
      "['Yes', 'Yes', 'Yes', 'Yes', 'No', 'Yes']\n"
     ]
    }
   ],
   "source": [
    "def test(file_names):\n",
    "    return [\"Yes\" if \n",
    "           f.split(\".\")[1:] in [['txt'], ['png'], ['dll'], ['exe'], ['jpg']] and f[0].isalpha() and sum(c.isdigit() for c in f) < 4\n",
    "            else \"No\"\n",
    "            for f in file_names]\n",
    "file_names = ['abc.txt', 'windows.dll', 'tiger.png', 'rose.jpg', 'test.py', 'win32.exe']\n",
    "print(\"Original list of files:\")\n",
    "print(file_names)\n",
    "print(\"Valid filenames:\")\n",
    "print(test(file_names))"
   ]
  },
  {
   "cell_type": "code",
   "execution_count": 34,
   "id": "31efc531",
   "metadata": {},
   "outputs": [
    {
     "name": "stdout",
     "output_type": "stream",
     "text": [
      "[17, 5, 16, 2, 4, 2]\n"
     ]
    }
   ],
   "source": [
    "#60-Python program to find a list of all numbers that are adjacent to a prime number in the list, sorted without duplicates\n",
    "import math\n",
    "l=[2, 17, 16, 0, 6, 4, 5]\n",
    "res=[]\n",
    "def isPrime(n):\n",
    "    if n==0 or n==1:\n",
    "        return False\n",
    "    for i in range(2,int(math.sqrt(n)+1)):\n",
    "       # print(n,i)        \n",
    "        if n%i==0 :\n",
    "            # print(n,i)\n",
    "            return False\n",
    "    return True\n",
    "\n",
    "for i in range(0,len(l)-1):\n",
    "    if isPrime(l[i])==True:\n",
    "        #print(l[i],\"p\")\n",
    "        res.append(l[i+1])\n",
    "        res.append(l[i-1])\n",
    "        \n",
    "if isPrime(l[-1])==True:\n",
    "    res.append(l[-2])\n",
    "if isPrime(l[1])==True:\n",
    "    res.append(l[0])\n",
    "print(res)"
   ]
  },
  {
   "cell_type": "code",
   "execution_count": 35,
   "id": "7cd8e683",
   "metadata": {},
   "outputs": [
    {
     "name": "stdout",
     "output_type": "stream",
     "text": [
      "Original list of numbers:\n",
      "[2, 17, 16, 0, 6, 4, 5]\n",
      "Numbers that are adjacent to a prime number in the said list, sorted without duplicates:\n",
      "[2, 4, 16, 17]\n"
     ]
    }
   ],
   "source": [
    "def test(nums):\n",
    "    return sorted({\n",
    "        n for i, n in enumerate(nums)\n",
    "        if (i>0 and prime(nums[i-1])) or (i<len(nums)-1 and prime(nums[i+1]))\n",
    "    })\n",
    "def prime(m):\n",
    "  if (m>0):\n",
    "    return all(m % i for i in range(2, m - 1))   \n",
    " \n",
    "nums = [2, 17, 16, 0, 6, 4, 5]\n",
    "print(\"Original list of numbers:\")\n",
    "print(nums)\n",
    "print(\"Numbers that are adjacent to a prime number in the said list, sorted without duplicates:\")\n",
    "print(test(nums))"
   ]
  },
  {
   "cell_type": "code",
   "execution_count": 38,
   "id": "e8e72d45",
   "metadata": {},
   "outputs": [
    {
     "name": "stdout",
     "output_type": "stream",
     "text": [
      "1313980\n"
     ]
    }
   ],
   "source": [
    "#61-find the number which when appended to the list makes the total 0.\n",
    "l=[10, 42, 17, 9, -1315182, 184, 102, 29, 15, 39, 755]\n",
    "sum_l=sum(l)\n",
    "n=-sum_l\n",
    "print(n)"
   ]
  },
  {
   "cell_type": "code",
   "execution_count": 40,
   "id": "ca94a0fd",
   "metadata": {},
   "outputs": [
    {
     "name": "stdout",
     "output_type": "stream",
     "text": [
      "Original list of numbers:\n",
      "[1, 2, 3, 4, 5]\n",
      "Number which when appended to the list makes the total 0:\n",
      "-15\n"
     ]
    }
   ],
   "source": [
    "def test(nums):\n",
    "    dset = set(nums)\n",
    "    result = sum(nums)\n",
    "    dmin = abs(min(nums) - sum(dset^set(nums)))\n",
    "    for d in dset^set(nums):\n",
    "        dcopy = list(nums)\n",
    "        dcopy.append(d)\n",
    "        ds = sum(dcopy)\n",
    "        if 0-ds < dmin:\n",
    "            result = ds\n",
    "            dmin = abs(ds)\n",
    "        elif 0-ds == dmin:\n",
    "            result = min(result, ds)\n",
    "    return result*(-1)\n",
    " \n",
    "nums = [1, 2, 3, 4, 5]\n",
    "print(\"Original list of numbers:\")\n",
    "print(nums)\n",
    "print(\"Number which when appended to the list makes the total 0:\")\n",
    "print(test(nums)) "
   ]
  },
  {
   "cell_type": "code",
   "execution_count": 41,
   "id": "77e62b2b",
   "metadata": {},
   "outputs": [
    {
     "name": "stdout",
     "output_type": "stream",
     "text": [
      "Original dictionary key-values:\n",
      "{'red': '', 'GREEN': '', 'blue': 'orange'}\n",
      "Find the dictionary key whose case is different than all other keys:\n",
      "GREEN\n"
     ]
    }
   ],
   "source": [
    "#62-find the dictionary key whose case is different than all other keys\n",
    "def test(dict_data):\n",
    "    for different in dict_data:\n",
    "        if all(k.islower()!=different.islower() for k in dict_data if k!=different):\n",
    "            return different\n",
    "        \n",
    "dict_data = {\"red\": \"\", \"GREEN\": \"\", \"blue\": \"orange\"}\n",
    "print(\"Original dictionary key-values:\")\n",
    "print(dict_data)\n",
    "print(\"Find the dictionary key whose case is different than all other keys:\")\n",
    "print(test(dict_data))"
   ]
  },
  {
   "cell_type": "code",
   "execution_count": 42,
   "id": "7b1d1960",
   "metadata": {},
   "outputs": [
    {
     "name": "stdout",
     "output_type": "stream",
     "text": [
      "12\n"
     ]
    }
   ],
   "source": [
    "#63-find the sum of the even elements that are at odd indices in a given list\n",
    "l=[1, 2, 3, 4, 5, 6, 7]\n",
    "sums=0\n",
    "for ind,n in enumerate(l):\n",
    "    if ind%2==1 and n%2==0:\n",
    "        sums+=n\n",
    "print(sums)"
   ]
  },
  {
   "cell_type": "code",
   "execution_count": 43,
   "id": "3168f84c",
   "metadata": {},
   "outputs": [
    {
     "name": "stdout",
     "output_type": "stream",
     "text": [
      "Original list of numbers:\n",
      "[1, 2, 3, 4, 5, 6, 7]\n",
      "Sum of the even elements of the said list that are at odd indices:\n",
      "12\n"
     ]
    }
   ],
   "source": [
    "#jumping odd index by 2\n",
    "def test(nums):\n",
    "    return sum(i for i in nums[1::2] if i % 2 == 0) \n",
    "nums = [1, 2, 3, 4, 5, 6, 7]\n",
    "print(\"Original list of numbers:\")\n",
    "print(nums)\n",
    "print(\"Sum of the even elements of the said list that are at odd indices:\")\n",
    "print(test(nums))"
   ]
  },
  {
   "cell_type": "code",
   "execution_count": 70,
   "id": "f9b14f41",
   "metadata": {},
   "outputs": [
    {
     "name": "stdout",
     "output_type": "stream",
     "text": [
      "['The', 'quick', 'brown', 'fox', 'jumps', 'the', 'dog']\n"
     ]
    }
   ],
   "source": [
    "#64-find the string consisting of all the words whose lengths are prime numbers.\n",
    "import math\n",
    "s='The quick brown fox jumps over the lazy dog'\n",
    "res=[]\n",
    "flag=1\n",
    "for i in s.split():\n",
    "    flag=1\n",
    "    #print(len(i),len_w,int(math.sqrt(len(i))+1))\n",
    "    for len_w in range(2,int(math.sqrt(len(i))+1)):\n",
    "        #print(len(i),len_w,\"i\")\n",
    "        if len(i)%len_w==0:\n",
    "            flag=0\n",
    "    if flag==1:\n",
    "        res.append(i)\n",
    "   # print(flag,\"f\")\n",
    "print(res)"
   ]
  },
  {
   "cell_type": "code",
   "execution_count": 71,
   "id": "78f50e70",
   "metadata": {},
   "outputs": [
    {
     "name": "stdout",
     "output_type": "stream",
     "text": [
      "Original list of numbers:\n",
      "The quick brown fox jumps over the lazy dog.\n",
      "Words whose lengths are prime numbers in the said string:\n",
      "The quick brown fox jumps the\n"
     ]
    }
   ],
   "source": [
    "def test(strs):\n",
    "    return \" \".join(strs for strs in strs.split() if is_prime(len(strs))) \n",
    "def is_prime(n):\n",
    "    return n > 1 and all(n % j for j in range(2, int(n ** 0.5) + 1))\n",
    "strs = \"The quick brown fox jumps over the lazy dog.\"\n",
    "print(\"Original list of numbers:\")\n",
    "print(strs)\n",
    "print(\"Words whose lengths are prime numbers in the said string:\")\n",
    "print(test(strs))"
   ]
  },
  {
   "cell_type": "code",
   "execution_count": 78,
   "id": "c8ebd384",
   "metadata": {},
   "outputs": [
    {
     "name": "stdout",
     "output_type": "stream",
     "text": [
      "54321\n"
     ]
    }
   ],
   "source": [
    "#65- shift the decimal digits n places to the left, wrapping the extra digits around. If shift > \n",
    "#the number of digits of n, reverse the string\n",
    "n = 12345 \n",
    "shift = 6\n",
    "\n",
    "if shift==len(str(n))+1:\n",
    "    print(str(n)[::-1])\n",
    "else:\n",
    "    print(str(n)[shift:]+str(n)[:shift])\n"
   ]
  },
  {
   "cell_type": "code",
   "execution_count": 79,
   "id": "0c83f085",
   "metadata": {},
   "outputs": [
    {
     "name": "stdout",
     "output_type": "stream",
     "text": [
      "List of numbers: [1, 7, 9, 2, 10]\n",
      "Indices of the closest pair from the said list of numbers:\n",
      "[0, 3]\n"
     ]
    }
   ],
   "source": [
    "#66- find the indices of the closest pair from a list of numbers.\n",
    "def test(nums):\n",
    "    closest_inds = None\n",
    "    closest_dist = None\n",
    "    for ind, num in enumerate(nums):\n",
    "        for other_ind, num2 in enumerate(nums):\n",
    "            if num != num2 and ((closest_dist is None) or abs(num - num2) < closest_dist):\n",
    "                closest_dist = abs(num - num2)\n",
    "                closest_inds = [ind, other_ind]\n",
    "                if num <= num2:\n",
    "                    closest_inds = [ind, other_ind]\n",
    "                else:\n",
    "                    closest_inds = [other_ind, ind]\n",
    "    return closest_inds\n",
    " \n",
    "nums = [1, 7, 9, 2, 10]\n",
    "print(\"List of numbers:\",nums)\n",
    "print(\"Indices of the closest pair from the said list of numbers:\")\n",
    "print(test(nums))    "
   ]
  },
  {
   "cell_type": "code",
   "execution_count": 80,
   "id": "0b33a681",
   "metadata": {},
   "outputs": [
    {
     "name": "stdout",
     "output_type": "stream",
     "text": [
      "Original string:\n",
      "Ascii character table\n",
      "Shift = 1\n",
      "A new string which, when each character is shifted (ASCII incremented) by shift in the said string:\n",
      "@rbhh\u001fbg`q`bsdq\u001fs`akd\n"
     ]
    }
   ],
   "source": [
    "#67-program to find a string which, when each character is shifted (ASCII incremented) by shift, gives the result.\n",
    "def test(strs,shift):\n",
    "    return \"\".join(chr(ord(c) - shift) for c in strs)\n",
    " \n",
    "strs = \"Ascii character table\"\n",
    "print(\"Original string:\")\n",
    "print(strs)\n",
    "shift = 1\n",
    "print('Shift =',shift)\n",
    "print(\"A new string which, when each character is shifted (ASCII incremented) by shift in the said string:\")\n",
    "print(test(strs, shift))"
   ]
  },
  {
   "cell_type": "code",
   "execution_count": 85,
   "id": "959d9500",
   "metadata": {},
   "outputs": [
    {
     "name": "stdout",
     "output_type": "stream",
     "text": [
      "[15, 45]\n"
     ]
    }
   ],
   "source": [
    "#68-find all 5's in integers less than n that are divisible by 9 or 15.\n",
    "n=65\n",
    "res=[]\n",
    "for i in range(1,n):\n",
    "    if (i%15==0 or i%45==0) and i%10!=0:\n",
    "        res.append(i)\n",
    "print(res)"
   ]
  },
  {
   "cell_type": "code",
   "execution_count": 86,
   "id": "a4f71e55",
   "metadata": {},
   "outputs": [
    {
     "name": "stdout",
     "output_type": "stream",
     "text": [
      "Value of n =  50\n",
      "5's in integers less than 50 that are divisible by 9 or 15:\n",
      "[[15, 1], [45, 1]]\n"
     ]
    }
   ],
   "source": [
    "def test(n):\n",
    "    return [[i,j] for i in range(n) for j in range(len(str(i))) if str(i)[j] == '5' and (i%15==0 or i%9==0)]\n",
    "n = 50\n",
    "print(\"Value of n = \",n)\n",
    "print(\"5's in integers less than\",n,\"that are divisible by 9 or 15:\")\n",
    "print(test(n))"
   ]
  },
  {
   "cell_type": "code",
   "execution_count": 90,
   "id": "330a5fd3",
   "metadata": {},
   "outputs": [
    {
     "data": {
      "text/plain": [
       "'Aciis aaccehrrt abelt'"
      ]
     },
     "execution_count": 90,
     "metadata": {},
     "output_type": "execute_result"
    }
   ],
   "source": [
    "#69- create a new string by taking a string, and word by word rearranging its characters in ASCII order\n",
    "s='Ascii character table'\n",
    "' '.join(''.join(sorted(w)) for w in s.split())"
   ]
  },
  {
   "cell_type": "code",
   "execution_count": 91,
   "id": "f5a41df0",
   "metadata": {},
   "outputs": [
    {
     "name": "stdout",
     "output_type": "stream",
     "text": [
      "Bank deposits and withdrawals:\n",
      "[[12, -7, 3, -89, 14, 88, -78], [-1, 2, 7]]\n",
      "\n",
      "First negative balance of deposits and withdrawals:\n",
      "[-81, -1]\n"
     ]
    }
   ],
   "source": [
    "#70-find the first negative balance from a given a list of numbers which represent bank deposits and withdrawals\n",
    "def test(balances):\n",
    "    firsts = []\n",
    "    for bals in balances:\n",
    "        total = 0\n",
    "        for b in bals:\n",
    "            total += b\n",
    "            if total < 0:\n",
    "                firsts.append(total)\n",
    "                break\n",
    "        else:\n",
    "            firsts.append(None)\n",
    "    return firsts \n",
    "balances = [[12, -7, 3, -89, 14, 88, -78], [-1, 2, 7]]\n",
    "print(\"Bank deposits and withdrawals:\")\n",
    "print(balances)\n",
    "print(\"\\nFirst negative balance of deposits and withdrawals:\")\n",
    "print(test(balances))"
   ]
  },
  {
   "cell_type": "code",
   "execution_count": 96,
   "id": "59f2745a",
   "metadata": {},
   "outputs": [
    {
     "name": "stdout",
     "output_type": "stream",
     "text": [
      "[12, 6, -7, 6, 3, 6, -89, 6, 14, 6, 88, 6, -78, 6, -1, 6, 2, 6, 7]\n"
     ]
    }
   ],
   "source": [
    "#71-write a Python program to create a list containing that number in between each pair of adjacent numbers\n",
    "l=[12, -7, 3, -89, 14, 88, -78, -1, 2, 7]\n",
    "res=[]\n",
    "sep=6\n",
    "for i in range(len(l)*2-1):\n",
    "    if i%2==1:\n",
    "        l.insert(i,sep)\n",
    "print(l)    "
   ]
  },
  {
   "cell_type": "code",
   "execution_count": 97,
   "id": "96340db6",
   "metadata": {},
   "outputs": [
    {
     "name": "stdout",
     "output_type": "stream",
     "text": [
      "List of numbers: [12, -7, 3, -89, 14, 88, -78, -1, 2, 7]\n",
      "Separator: 6\n",
      "Inject the separator in between each pair of adjacent numbers of the said list:\n",
      "[12, 6, -7, 6, 3, 6, -89, 6, 14, 6, 88, 6, -78, 6, -1, 6, 2, 6, 7]\n"
     ]
    }
   ],
   "source": [
    "def test(nums, sep):\n",
    "    ans = [sep] * (2 * len(nums) - 1)\n",
    "    ans[::2] = nums\n",
    "    return ans \n",
    "nums = [12, -7, 3, -89, 14, 88, -78, -1, 2, 7]\n",
    "separator = 6\n",
    "print(\"List of numbers:\",nums)\n",
    "print(\"Separator:\",separator)\n",
    "print(\"Inject the separator in between each pair of adjacent numbers of the said list:\")\n",
    "print(test(nums,separator))"
   ]
  },
  {
   "cell_type": "code",
   "execution_count": 15,
   "id": "89d2f0d1",
   "metadata": {},
   "outputs": [
    {
     "name": "stdout",
     "output_type": "stream",
     "text": [
      "List of numbers: [1, 2, 3, 4, 5, 6, -7]\n",
      "Indices of three numbers that sum to 0 in the said list:\n",
      "{1: 0, 2: 1, 3: 2, 4: 3, 5: 4, 6: 5, -7: 6}\n",
      "[1, 2, 3, 4, 5, 6, -7]\n",
      "2 6\n",
      "[2, 3, 6]\n"
     ]
    }
   ],
   "source": [
    "#Date-9/4/22\n",
    "#72-find the indices of three numbers that sum to 0 in a given list of numbers.\n",
    "nums=[1, 2, 3, 4, 5, 6, -7]\n",
    "def test(nums):\n",
    "    inv = {n: i for i, n in enumerate(nums)}  # note that later duplicates will override earlier entries\n",
    "    print(inv)\n",
    "    print((nums))\n",
    "    for i, n in enumerate(nums):\n",
    "        #if inv[n] == i:\n",
    "            #del inv[n]\n",
    "            #print(i)\n",
    "        if any((-m - n) in inv for m in nums[:i]):  # found solution!\n",
    "            j, m = next((j, m) for j, m in enumerate(nums) if (-m - n) in inv)\n",
    "            k = inv[-m - n]\n",
    "            print(j,k)\n",
    "            return sorted([i, j, k])\n",
    "print(\"List of numbers:\",nums)\n",
    "print(\"Indices of three numbers that sum to 0 in the said list:\")\n",
    "print(test(nums))"
   ]
  },
  {
   "cell_type": "code",
   "execution_count": 21,
   "id": "6a1366ed",
   "metadata": {},
   "outputs": [
    {
     "name": "stdout",
     "output_type": "stream",
     "text": [
      "hi\n"
     ]
    }
   ],
   "source": [
    "#73- find a substring in a given string contains a vowel between two consonants.\n",
    "vowel=['a','e','i','o','u']\n",
    "s='Sndwhchi'\n",
    "\n",
    "for ch in range(len(s)):\n",
    "    if s[ch] in vowel:\n",
    "        print(s[ch-1:ch+2])\n",
    "        break"
   ]
  },
  {
   "cell_type": "code",
   "execution_count": 26,
   "id": "be5151d9",
   "metadata": {},
   "outputs": [
    {
     "name": "stdout",
     "output_type": "stream",
     "text": [
      "foo\n"
     ]
    }
   ],
   "source": [
    "#74-program to find a string consisting of space-separated characters with given counts\n",
    "dct={'f': 1, 'o': 2}\n",
    "s=\"\"\n",
    "for key,val in dct.items():\n",
    "    s+=key*val\n",
    "print(s)"
   ]
  },
  {
   "cell_type": "code",
   "execution_count": 31,
   "id": "9cd6d0b4",
   "metadata": {},
   "outputs": [
    {
     "name": "stdout",
     "output_type": "stream",
     "text": [
      "Reorder numbers of a give array in increasing/decreasing order based on whether the first plus last element is odd/even.:\n",
      "\n",
      "List of numbers: [2, 7, 4]\n",
      "Result:\n",
      "[7, 4, 2]\n"
     ]
    }
   ],
   "source": [
    "#75-reorder numbers from a give array in increasing/decreasing order based on whether \n",
    "#the first plus last element is odd/even.\n",
    "def test(nums):\n",
    "    return sorted(nums,reverse=(False if(nums[0]+nums[-1])%2 else True))\n",
    "print(\"Reorder numbers of a give array in increasing/decreasing order based on whether the first plus last element is odd/even.:\") \n",
    "nums = [2, 7, 4]\n",
    "print(\"\\nList of numbers:\",nums)\n",
    "print(\"Result:\")\n",
    "print(test(nums))   "
   ]
  },
  {
   "cell_type": "code",
   "execution_count": 34,
   "id": "c4daef65",
   "metadata": {},
   "outputs": [
    {
     "name": "stdout",
     "output_type": "stream",
     "text": [
      "(7, 1)\n"
     ]
    }
   ],
   "source": [
    "#76- find the index of the largest prime in the list and the sum of its digits\n",
    "import math\n",
    "def isPrime(n):\n",
    "    if n==0 or n==1:\n",
    "        return False\n",
    "    for i in range(2,int(math.sqrt(n)+1)):\n",
    "        if n%i==0:\n",
    "            return False\n",
    "    return True\n",
    "\n",
    "def largestPrime(l):\n",
    "    max_prime=2\n",
    "    for i in l:\n",
    "        if isPrime(i) and i>max_prime:\n",
    "            max_prime=i\n",
    "    return max_prime, l.index(max_prime)\n",
    "l=[3, 7, 4]\n",
    "print(largestPrime(l))"
   ]
  },
  {
   "cell_type": "code",
   "execution_count": 36,
   "id": "10aa4587",
   "metadata": {},
   "outputs": [
    {
     "name": "stdout",
     "output_type": "stream",
     "text": [
      "List of numbers: [4.0, 3.5, 3.8]\n",
      "Convert GPAs to letter grades:\n",
      "['A+', 'A-', 'A']\n"
     ]
    }
   ],
   "source": [
    "#77-convert GPAs to letter grades according to the following table:\n",
    "#grade_dct={4.0:'A+',3.7:'A',3.4:'A-',3.0='B+',2.7:'B',2.4:'B-',2.0:'C+',1.7:'C',1.4:'C-','Below':'F'}\n",
    "def test(nums):\n",
    "    return [\"A+\" if grade >= 4.0\n",
    "            else (\"A\" if grade >= 3.7\n",
    "                  else (\"A-\" if grade >= 3.4\n",
    "                        else (\"B+\" if grade >= 3.0\n",
    "                              else (\"B\" if grade >= 2.7\n",
    "                                    else (\"B-\" if grade >= 2.4\n",
    "                                          else (\"C+\" if grade >= 2.0\n",
    "                                                else (\"C\" if grade >= 1.7\n",
    "                                                      else (\"C-\" if grade >= 1.4\n",
    "                                                            else \"F\"))))))))\n",
    "            for grade in nums]   \n",
    "nums = [4.0, 3.5, 3.8]\n",
    "print(\"List of numbers:\",nums)\n",
    "print(\"Convert GPAs to letter grades:\")\n",
    "print(test(nums))"
   ]
  },
  {
   "cell_type": "code",
   "execution_count": 37,
   "id": "1fd718aa",
   "metadata": {},
   "outputs": [
    {
     "name": "stdout",
     "output_type": "stream",
     "text": [
      "List of numbers: [1.3, 5.24, 0.89, 21.0, 5.27, 1.3]\n",
      "Two closest distinct numbers in the said list of numbers:\n",
      "[5.24, 5.27]\n"
     ]
    }
   ],
   "source": [
    "#78-find the two closest distinct numbers in a given a list of numbers\n",
    "l=[1.3, 5.24, 0.89, 21.0, 5.27, 1.3]\n",
    "def test(nums):\n",
    "    s=sorted(set(nums))\n",
    "    return min([[a,b] for a,b in zip(s,s[1:])],key=lambda x:x[1]-x[0])\n",
    "\n",
    "nums = [1.3, 5.24, 0.89, 21.0, 5.27, 1.3]\n",
    "print(\"List of numbers:\",nums)\n",
    "print(\"Two closest distinct numbers in the said list of numbers:\")\n",
    "print(test(nums))   "
   ]
  },
  {
   "cell_type": "code",
   "execution_count": 43,
   "id": "2298ce2c",
   "metadata": {},
   "outputs": [
    {
     "name": "stdout",
     "output_type": "stream",
     "text": [
      "[2, -6]\n"
     ]
    }
   ],
   "source": [
    "#79-find the largest negative and smallest positive numbers (or 0 if none)\n",
    "l=[-12, -6, 300, -40, 2, 2, 3, 57, -50, -22, 12, 40, 9, 11, 18]\n",
    "def test(l):\n",
    "    return [min(i for i in l if i>0 ) , max(i for i in l if i<0)]\n",
    "print(test(l))"
   ]
  },
  {
   "cell_type": "code",
   "execution_count": 55,
   "id": "94607858",
   "metadata": {},
   "outputs": [
    {
     "name": "stdout",
     "output_type": "stream",
     "text": [
      "[9, 16, 49, 9, 36]\n",
      "9 25 74 83 119 "
     ]
    }
   ],
   "source": [
    "#80- round each float in a given list of number up to the next integer and return the running total of the integer squares\n",
    "import math\n",
    "l=[2.6, 3.5, 6.7, 2.3, 5.6]\n",
    "add=0\n",
    "res=[math.ceil(i)**2 for i in l]\n",
    "print(res)\n",
    "\n",
    "for i in res:\n",
    "    add+=i\n",
    "    print(add,end=\" \")"
   ]
  },
  {
   "cell_type": "code",
   "execution_count": 66,
   "id": "b13079b7",
   "metadata": {},
   "outputs": [
    {
     "name": "stdout",
     "output_type": "stream",
     "text": [
      "0b1111\n",
      "0b110\n"
     ]
    }
   ],
   "source": [
    "#81- calculate the average of the numbers a through b ( b not included ) \n",
    "#rounded to nearest integer, in binary (or -1 if there are no such numbers).\n",
    "import math\n",
    "n1=11 \n",
    "n2=19\n",
    "\n",
    "print(bin(round((n1+n2)/2)))\n",
    "print(bin(6))"
   ]
  },
  {
   "cell_type": "code",
   "execution_count": 71,
   "id": "96f54489",
   "metadata": {},
   "outputs": [
    {
     "name": "stdout",
     "output_type": "stream",
     "text": [
      "[1, 3, 79, 39]\n"
     ]
    }
   ],
   "source": [
    "#82- find the sublist of numbers from a given list of numbers with only odd digits in increasing order\n",
    "odd=[1,3,5,7,9]\n",
    "l=[1, 3, 79, 10, 4, 2, 39]\n",
    "res=[]\n",
    "for i in l:\n",
    "    flag=0\n",
    "    for j in range(len(str(i))):\n",
    "        if int(str(i)[j]) not in odd:\n",
    "            flag=1\n",
    "    if flag==0:\n",
    "        res.append(i)\n",
    "print(res)"
   ]
  },
  {
   "cell_type": "code",
   "execution_count": 86,
   "id": "af5f2b67",
   "metadata": {},
   "outputs": [
    {
     "name": "stdout",
     "output_type": "stream",
     "text": [
      "String unhappy\n",
      "hoo 3\n"
     ]
    }
   ],
   "source": [
    "#83-string is happy if every three consecutive characters are distinct. \n",
    "#Write a Python program to find two indices making a given string unhappy.\n",
    "s='Pythoon'\n",
    "for i in range(0,len(s)):\n",
    "    #print(len(s[i:i+3]))\n",
    "    #print(len(set(s[i:i+3])))\n",
    "    if (len(s[i:i+3]))==(len(set(s[i:i+3]))):\n",
    "        #print(s[i:i+3])\n",
    "        #print(set(s[i:i+3]))\n",
    "        continue\n",
    "    else:\n",
    "        print(\"String unhappy\")\n",
    "        print(s[i:i+3], i)\n",
    "        break"
   ]
  },
  {
   "cell_type": "code",
   "execution_count": 23,
   "id": "6086a80a",
   "metadata": {},
   "outputs": [
    {
     "name": "stdout",
     "output_type": "stream",
     "text": [
      "Original string: Hello\n",
      "Find a vowel between two consonants, contained in said string:\n",
      "Hel\n"
     ]
    }
   ],
   "source": [
    "#73-\n",
    "def test(s):\n",
    "    cons = \"bcdfghjklmnpqrstvwxz\"\n",
    "    vows = \"aeiou\"\n",
    "    return next(s[i - 1:i + 2] for i in range(1, len(s) - 1)\n",
    "                if s[i].lower() in vows and s[i - 1].lower() in cons and s[i + 1].lower() in cons)\n",
    "strs = \"Hello\"\n",
    "print(\"Original string:\",strs) \n",
    "print(\"Find a vowel between two consonants, contained in said string:\")\n",
    "print(test(strs))"
   ]
  },
  {
   "cell_type": "code",
   "execution_count": 29,
   "id": "e620a938",
   "metadata": {},
   "outputs": [
    {
     "name": "stdout",
     "output_type": "stream",
     "text": [
      "Original string: {'f': 1, 'o': 2}\n",
      "String consisting of space-separated characters with given counts:\n",
      "f o o\n"
     ]
    }
   ],
   "source": [
    "#74-\n",
    "def test(counts):\n",
    "     return \" \".join(c for c, i in counts.items() for _ in range(i))\n",
    "strs = {\"f\": 1, \"o\": 2}\n",
    "print(\"Original string:\",strs) \n",
    "print(\"String consisting of space-separated characters with given counts:\")\n",
    "print(test(strs))"
   ]
  },
  {
   "cell_type": "code",
   "execution_count": 35,
   "id": "861581c6",
   "metadata": {},
   "outputs": [
    {
     "name": "stdout",
     "output_type": "stream",
     "text": [
      "List of numbers: [3, 7, 4]\n",
      "Index of the largest prime in the said list and the sum of its digits:\n",
      "[1, 7]\n"
     ]
    }
   ],
   "source": [
    "#76-\n",
    "def test(nums):\n",
    "    n,i=max((n,i) for i,n in enumerate(nums)if is_Prime(n))\n",
    "    return [i,sum(int(c)for c in str(n))]\n",
    "def is_Prime(n):\n",
    "    return n>1 and all(n%j for j in range(2,int(n**0.5)+1))\n",
    "nums = [3, 7, 4]\n",
    "print(\"List of numbers:\",nums)\n",
    "print(\"Index of the largest prime in the said list and the sum of its digits:\")\n",
    "print(test(nums))"
   ]
  },
  {
   "cell_type": "code",
   "execution_count": 72,
   "id": "9eb92dc5",
   "metadata": {},
   "outputs": [
    {
     "name": "stdout",
     "output_type": "stream",
     "text": [
      "Original list of numbers:\n",
      "[1, 3, 79, 10, 4, 2, 39]\n",
      "Sublist of numbers of the said list with only odd digits in increasing order:\n",
      "[1, 3, 39, 79]\n"
     ]
    }
   ],
   "source": [
    "#82-\n",
    "def test(nums):\n",
    "    return sorted(n for n in nums if all(int(c) % 2 for c in str(abs(n))))\n",
    "  \n",
    "nums = [1, 3, 79, 10, 4, 2, 39]\n",
    "print(\"Original list of numbers:\")\n",
    "print(nums)\n",
    "print(\"Sublist of numbers of the said list with only odd digits in increasing order:\")\n",
    "print(test(nums))"
   ]
  },
  {
   "cell_type": "code",
   "execution_count": 88,
   "id": "36490cb5",
   "metadata": {},
   "outputs": [
    {
     "name": "stdout",
     "output_type": "stream",
     "text": [
      "Original string: Python\n",
      "Find two indices making the said string unhappy!\n",
      "None\n"
     ]
    }
   ],
   "source": [
    "#83-\n",
    "def test(s):\n",
    "    for i in range(len(s) - 2):\n",
    "        if s[i] == s[i + 1]:\n",
    "            return [i, i + 1]\n",
    "        if s[i] == s[i + 2]:\n",
    "            return [i, i + 2] \n",
    "\n",
    "strs = \"Python\"\n",
    "print(\"Original string:\",strs) \n",
    "print(\"Find two indices making the said string unhappy!\")\n",
    "print(test(strs))\n"
   ]
  },
  {
   "cell_type": "code",
   "execution_count": 19,
   "id": "2b52840e",
   "metadata": {},
   "outputs": [
    {
     "name": "stdout",
     "output_type": "stream",
     "text": [
      "[]\n",
      "{0: 1, 3: 4, 2: 5}\n"
     ]
    }
   ],
   "source": [
    "#84-find the index of the matching parentheses for each character in a given string. \n",
    "s='()(())'\n",
    "res=[]\n",
    "dct={}\n",
    "\n",
    "for idx,ch in enumerate(s):\n",
    "    if ch=='(':\n",
    "        res.append(idx)\n",
    "        #print(res)\n",
    "    if ch==')':\n",
    "        try:\n",
    "            dct[res.pop()]=idx\n",
    "        except IndexError:\n",
    "            print('Too many closing parentheses')\n",
    "if res:\n",
    "    print(\"Too many opening parenthesis\")\n",
    "\n",
    "print(res)\n",
    "print(dct)"
   ]
  },
  {
   "cell_type": "code",
   "execution_count": 20,
   "id": "437ebf5d",
   "metadata": {},
   "outputs": [
    {
     "name": "stdout",
     "output_type": "stream",
     "text": [
      "[1, 2, 3, 4, 10, 39, 79]\n"
     ]
    }
   ],
   "source": [
    "#85-find an increasing sequence consisting of the elements of the original list\n",
    "l=[1, 3, 79, 10, 4, 2, 39]\n",
    "print(sorted(l))"
   ]
  },
  {
   "cell_type": "code",
   "execution_count": 26,
   "id": "c5d4bf03",
   "metadata": {},
   "outputs": [
    {
     "name": "stdout",
     "output_type": "stream",
     "text": [
      "['eoue', 'o', 'aay', '']\n"
     ]
    }
   ],
   "source": [
    "#86-find the vowels from each of the original texts (y counts as a vowel at the end of the word) from a given list of strings\n",
    "l=['w3resource', 'Python', 'Javay', 'C++']\n",
    "vowel=['a','e','i','o','u']\n",
    "res=[]\n",
    "for i in l:\n",
    "    s=''\n",
    "    for j in i:\n",
    "        if j in vowel:\n",
    "            s+=j\n",
    "    if i[-1]=='y' or i[-1]=='Y':\n",
    "        s+=i[-1]\n",
    "    res.append(s)\n",
    "print(res)        "
   ]
  },
  {
   "cell_type": "code",
   "execution_count": 27,
   "id": "99eaabc2",
   "metadata": {},
   "outputs": [
    {
     "name": "stdout",
     "output_type": "stream",
     "text": [
      "Original List of strings: ['w3resource', 'Python', 'Java', 'C++']\n",
      "Vowels from each of the original texts (y counts as a vowel at the end of the word:\n",
      "['eoue', 'o', 'aa', '']\n"
     ]
    }
   ],
   "source": [
    "def test(strs):\n",
    "        return [\"\".join(c for c in text if c.lower() in \"aeiou\") + (text[-1] if text[-1].lower() == \"y\" else \"\")\n",
    "            for text in strs]\n",
    "\n",
    "strs = [\"w3resource\", \"Python\", \"Java\", \"C++\"]\n",
    "print(\"Original List of strings:\",strs)\n",
    "print(\"Vowels from each of the original texts (y counts as a vowel at the end of the word:\")\n",
    "print(test(strs))"
   ]
  },
  {
   "cell_type": "code",
   "execution_count": 28,
   "id": "eed15c7f",
   "metadata": {},
   "outputs": [
    {
     "name": "stdout",
     "output_type": "stream",
     "text": [
      "Original List of strings: ]][][[]]]\n",
      "\n",
      "Find a valid substring of the said string that contains matching brackets, at least one of which is nested:\n",
      "[[]]\n"
     ]
    }
   ],
   "source": [
    "#87-find a valid substring of a given string that contains matching brackets, at least one of which is nested\n",
    "def test(s):\n",
    "    import re\n",
    "    return re.search(r\"\\[(\\[\\])+\\]\", s).group(0)\n",
    "\n",
    "brackets = \"]][][[]]]\"\n",
    "print(\"Original List of strings:\",brackets)\n",
    "print(\"\\nFind a valid substring of the said string that contains matching brackets, at least one of which is nested:\")\n",
    "print(test(brackets))"
   ]
  },
  {
   "cell_type": "code",
   "execution_count": 29,
   "id": "3b4f94d2",
   "metadata": {},
   "outputs": [],
   "source": [
    "#index matchin\n",
    "brc = \"]][][[]]]\"\n",
    "if i in range(len(brc)):\n",
    "    if brc[i]=='[':\n",
    "        res.append(i)\n",
    "        "
   ]
  },
  {
   "cell_type": "code",
   "execution_count": 30,
   "id": "98088ee3",
   "metadata": {},
   "outputs": [
    {
     "name": "stdout",
     "output_type": "stream",
     "text": [
      "Number of even digits: 2 ,Number of odd digits: 3\n",
      "Integer(>= 0) with the given number of even and odd digits:\n",
      "22333\n"
     ]
    }
   ],
   "source": [
    "#88-find an integer (n >= 0) with the given number of even and odd digits\n",
    "def test(a,b):    \n",
    "    return int(evens*\"2\"+odds*\"3\")   \n",
    "evens = 2\n",
    "odds = 3\n",
    "print(\"Number of even digits:\",evens,\",Number of odd digits:\",odds)\n",
    "print(\"Integer(>= 0) with the given number of even and odd digits:\")\n",
    "print(test(evens, odds)) "
   ]
  },
  {
   "cell_type": "code",
   "execution_count": 35,
   "id": "6413e9ea",
   "metadata": {},
   "outputs": [
    {
     "name": "stdout",
     "output_type": "stream",
     "text": [
      "Number: 10\n",
      "Find all integers <= said number that are the product of exactly three primes:\n",
      "[[2, 2, 2]]\n"
     ]
    }
   ],
   "source": [
    "#89-find all integers <= 1000 that are the product of exactly three primes. \n",
    "#Each integer should represent as the list of its three prime factors.\n",
    "import math\n",
    "def test(n):    \n",
    "    ps = [p for p in range(2,n) if all(p % sat != 0 for sat in range(2, p))]   #find primes less than n\n",
    "    return [[p, q, r] for p in ps for q in ps for r in ps if p*q*r <= n]    #see if the product<=n\n",
    "n = 10\n",
    "print(\"Number:\",n)\n",
    "print(\"Find all integers <= said number that are the product of exactly three primes:\")\n",
    "print(test(n))     "
   ]
  },
  {
   "cell_type": "code",
   "execution_count": 36,
   "id": "0007e674",
   "metadata": {},
   "outputs": [
    {
     "name": "stdout",
     "output_type": "stream",
     "text": [
      "[[7, 1], [12, 13]]\n"
     ]
    }
   ],
   "source": [
    "#90- For each triple of eaten, need, stock write a Python program to get a pair of total appetite and remaining\n",
    "l=[[2, 5, 6], [3, 9, 22]]\n",
    "res=[]\n",
    "for i in l:\n",
    "    res.append([i[1]+i[0],i[2]-i[1]])\n",
    "print(res)"
   ]
  },
  {
   "cell_type": "code",
   "execution_count": 39,
   "id": "9e1feae8",
   "metadata": {},
   "outputs": [
    {
     "name": "stdout",
     "output_type": "stream",
     "text": [
      "Original list (triple) of lists:\n",
      "[[2, 5, 6], [3, 9, 22]]\n",
      "Each triple of eaten, need, stock return a pair of total appetite and remaining:\n",
      "[[7, 1], [12, 13]]\n"
     ]
    }
   ],
   "source": [
    "def test(nums):\n",
    "    return [[a+min(b, c), max(0, c-b)] for a, b, c in nums]\n",
    "\n",
    "nums = [[2, 5, 6], [3, 9, 22]]\n",
    "print(\"Original list (triple) of lists:\")\n",
    "print(nums)\n",
    "print(\"Each triple of eaten, need, stock return a pair of total appetite and remaining:\")\n",
    "print(test(nums))"
   ]
  },
  {
   "cell_type": "code",
   "execution_count": 45,
   "id": "58440bc9",
   "metadata": {},
   "outputs": [
    {
     "name": "stdout",
     "output_type": "stream",
     "text": [
      "[12, 20, 21, 22, 23, 24, 25, 26, 27, 28, 29, 32, 42, 52, 62, 72, 82, 92]\n"
     ]
    }
   ],
   "source": [
    "#91-find all n-digit integers that start or end with 2\n",
    "n=2\n",
    "res=[]\n",
    "for i in range(10**(n-1),10**n):\n",
    "    if int(str(i)[0])==2:\n",
    "        res.append(i)\n",
    "    elif int(str(i)[-1])==2:\n",
    "        res.append(i)\n",
    "print(res)"
   ]
  },
  {
   "cell_type": "code",
   "execution_count": 43,
   "id": "6dd40393",
   "metadata": {},
   "outputs": [
    {
     "name": "stdout",
     "output_type": "stream",
     "text": [
      "Number: 1\n",
      "All 1 - digit integers that start or end with 2:\n",
      "[2]\n"
     ]
    }
   ],
   "source": [
    "def test(n):\n",
    "    ans = []\n",
    "    for i in range(10 ** (n - 1), 10 ** n):\n",
    "        assert len(str(i)) == n\n",
    "        if str(i).startswith(\"2\") or str(i).endswith(\"2\"):\n",
    "            ans.append(i)\n",
    "    return ans   \n",
    "n = 1\n",
    "print(\"Number:\",n)\n",
    "print(\"All\",n,\"- digit integers that start or end with 2:\")\n",
    "print(test(n))"
   ]
  },
  {
   "cell_type": "code",
   "execution_count": 4,
   "id": "407cc5ef",
   "metadata": {},
   "outputs": [
    {
     "name": "stdout",
     "output_type": "stream",
     "text": [
      "Original list (triple) of lists:\n",
      "[2, 5, 6, 3, 1, 4, 34]\n",
      "In the said list, keep every other element in place and otherwise sort the list.:\n",
      "[1, 5, 2, 3, 6, 4, 34]\n"
     ]
    }
   ],
   "source": [
    "#92-start with a list of integers, keep every other element in place and otherwise sort the list.\n",
    "def test(nums):\n",
    "    li = nums.copy()    \n",
    "    for i in range(len(li)):\n",
    "        if i % 2 == 0: \n",
    "            for j in range(i+2, len(li), 2):\n",
    "                if li[j] < li[i]:\n",
    "                    swap(li, i, j)    \n",
    "    return li\n",
    "\n",
    "def swap(li, i, j):\n",
    "    temp = li[i]\n",
    "    li[i] = li[j]\n",
    "    li[j] = temp\n",
    "nums = [2, 5, 6, 3, 1, 4, 34]\n",
    "print(\"Original list (triple) of lists:\")\n",
    "print(nums)\n",
    "print(\"In the said list, keep every other element in place and otherwise sort the list.:\")\n",
    "print(test(nums))"
   ]
  },
  {
   "cell_type": "code",
   "execution_count": 47,
   "id": "aee99ffb",
   "metadata": {},
   "outputs": [],
   "source": [
    "#93- program to find the closest palindrome from a given string\n",
    "#https://stackoverflow.com/questions/42880034/finding-closest-palindrome-to-string\n",
    "#DFS"
   ]
  },
  {
   "cell_type": "code",
   "execution_count": 7,
   "id": "cfda625b",
   "metadata": {},
   "outputs": [
    {
     "name": "stdout",
     "output_type": "stream",
     "text": [
      "['(())', '((()()()))', '(())', '()']\n"
     ]
    }
   ],
   "source": [
    "#94-string consisting of whitespace and groups of matched parentheses, \n",
    "#write a Python program to split it into groups of perfectly matched parentheses without any whitespace\n",
    "combined='( ()) ((()()())) (()) ()'\n",
    "ls=[]\n",
    "s2=\"\"\n",
    "for s in combined.replace(' ',''):\n",
    "    s2+=s\n",
    "    if s2.count(\"(\")==s2.count(\")\"):\n",
    "        ls.append(s2)\n",
    "        s2=\"\"\n",
    "print(ls)"
   ]
  },
  {
   "cell_type": "code",
   "execution_count": 49,
   "id": "2d9a4af0",
   "metadata": {},
   "outputs": [],
   "source": [
    "#95-find a palindrome of a given length containing a given string\n"
   ]
  },
  {
   "cell_type": "code",
   "execution_count": 82,
   "id": "80756144",
   "metadata": {},
   "outputs": [
    {
     "name": "stdout",
     "output_type": "stream",
     "text": [
      "[1, 3, 5, 8, 27, 31]\n",
      "['One', 'Three', 'Five', 'Eight']\n"
     ]
    }
   ],
   "source": [
    "#96- Python program to get the single digits in numbers sorted backwards and converted to English words\n",
    "l=[27, 3, 8, 5, 1, 31]\n",
    "dct={1:\"One\",2:\"Two\",3:\"Three\",4:\"Four\",5:\"Five\",6:\"Six\",7:\"Seven\",8:\"Eight\",9:\"Nine\",0:\"Zero\"}\n",
    "res=[]\n",
    "sorted_l=sorted(l,reverse=True)\n",
    "print(sorted_l)\n",
    "\n",
    "for key,val in dct.items():\n",
    "    if key in sorted_l:\n",
    "        res.append(val)\n",
    "print(res)"
   ]
  },
  {
   "cell_type": "code",
   "execution_count": 42,
   "id": "16fcaa93",
   "metadata": {},
   "outputs": [
    {
     "name": "stdout",
     "output_type": "stream",
     "text": [
      "[1, 31, 3, 27, 5, 8]\n"
     ]
    }
   ],
   "source": [
    "#97-Write a Python program to find the following strange sort of list of numbers: \n",
    "#the first element is the smallest, the second is the largest of the remaining, the third is the smallest of the remaining, \n",
    "#the fourth is the largest of the remaining, etc\n",
    "\n",
    "l=[27, 3, 8, 5, 1, 31]\n",
    "n=len(l)\n",
    "#print(n)\n",
    "res=[]\n",
    "#cnt=0\n",
    "\n",
    "while n>0:\n",
    "    if n%2==0:\n",
    "        temp=min(l)\n",
    "        res.append(temp)\n",
    "        l.remove(temp)\n",
    "    if n%2==1:\n",
    "        temp=max(l)\n",
    "        res.append(temp)\n",
    "        l.remove(temp)\n",
    "    #cnt+=1\n",
    "    n-=1\n",
    "print(res)"
   ]
  },
  {
   "cell_type": "code",
   "execution_count": 24,
   "id": "c2065540",
   "metadata": {},
   "outputs": [
    {
     "name": "stdout",
     "output_type": "stream",
     "text": [
      "[2, 2, 1, 3]\n"
     ]
    }
   ],
   "source": [
    "#98-string consisting of groups of matched nested parentheses separated by parentheses, \n",
    "#write a Python program to compute the depth of each group\n",
    "strs='(()) (()) () ((()()())) ('\n",
    "#strs='((()()()))'\n",
    "res=[]\n",
    "cnt=0\n",
    "for s in strs.split(\" \"):\n",
    "    if s.count(\"(\")==s.count(\")\") :\n",
    "        for i in s:\n",
    "            if i==\"(\":\n",
    "                cnt+=1\n",
    "            elif i==\")\":\n",
    "                break                \n",
    "        #cnt=s.count(\"(\")\n",
    "        res.append(cnt)\n",
    "       # print(s.count(\"(\"),\" \",s.count(\")\"))\n",
    "        cnt=0\n",
    "    else:\n",
    "        cnt=-1\n",
    "print(res)"
   ]
  },
  {
   "cell_type": "code",
   "execution_count": 68,
   "id": "002ffc8f",
   "metadata": {},
   "outputs": [
    {
     "name": "stdout",
     "output_type": "stream",
     "text": [
      " Hello, world!  This is so easy! \n"
     ]
    }
   ],
   "source": [
    "#99-Write a Python program to find a string such that, when three or more spaces are compacted \n",
    "#to a '-' and one or two spaces are replaced by underscores, leads to the target.\n",
    "\n",
    "s='-Hello,_world!__This_is-so-easy!-'\n",
    "res=\"\"\n",
    "print(s.replace(\"-\",\" \").replace(\"_\",\" \"))"
   ]
  },
  {
   "cell_type": "code",
   "execution_count": 54,
   "id": "d97bb8f3",
   "metadata": {},
   "outputs": [
    {
     "name": "stdout",
     "output_type": "stream",
     "text": [
      "Four positive even integers whose sum is 100\n",
      "[94, 2, 2, 2]\n"
     ]
    }
   ],
   "source": [
    "#100-Python program to find four positive even integers whose sum is a given integer.\n",
    "def test(n):\n",
    "    for a in range(n, 0, -1):\n",
    "        if not a % 2 == 0:\n",
    "            continue\n",
    "        for b in range(n - a, 0, -1):\n",
    "            if not b % 2 == 0:\n",
    "                continue\n",
    "            for c in range(n - b - a, 0, -1):\n",
    "                if not c % 2 == 0:\n",
    "                    continue\n",
    "                for d in range(n - b - c - a, 0, -1):\n",
    "                    if not d % 2 == 0:\n",
    "                        continue\n",
    "                    if a + b + c + d == n:\n",
    "                        return [a, b, c, d]\n",
    "   \n",
    "n = 100\n",
    "print(\"Four positive even integers whose sum is\",n)\n",
    "print(test(n))"
   ]
  },
  {
   "cell_type": "code",
   "execution_count": 74,
   "id": "0cffb12a",
   "metadata": {},
   "outputs": [
    {
     "name": "stdout",
     "output_type": "stream",
     "text": [
      "Original list of numbers:\n",
      "[1, 3, 4, 5, 11]\n",
      "Return the single digits in nums sorted backwards and converted to English words:\n",
      "['five', 'four', 'three', 'one']\n"
     ]
    }
   ],
   "source": [
    "def test(nums):\n",
    "    digits = {\"zero\": None,\n",
    "              \"one\": 1,\n",
    "              \"two\": 2,\n",
    "              \"three\": 3,\n",
    "              \"four\": 4,\n",
    "              \"five\": 5,\n",
    "              \"six\": 6,\n",
    "              \"seven\": 7,\n",
    "              \"eight\": 8,\n",
    "              \"nine\": 9}\n",
    "    digits_backwards = {digits[k]: k for k in digits}\n",
    "    digits = [digits[s] for s in digits]\n",
    "    li = [digits[n] for n in nums if n in digits]\n",
    "    return [digits_backwards[n] for n in sorted(li, reverse=True)]\n",
    "  \n",
    "nums = [1, 3, 4, 5, 11]\n",
    "print(\"Original list of numbers:\")\n",
    "print(nums)\n",
    "print(\"Return the single digits in nums sorted backwards and converted to English words:\")\n",
    "print(test(nums))"
   ]
  },
  {
   "cell_type": "code",
   "execution_count": null,
   "id": "5b7863e0",
   "metadata": {},
   "outputs": [],
   "source": []
  },
  {
   "cell_type": "code",
   "execution_count": null,
   "id": "f781d7f1",
   "metadata": {},
   "outputs": [],
   "source": []
  }
 ],
 "metadata": {
  "kernelspec": {
   "display_name": "Python 3 (ipykernel)",
   "language": "python",
   "name": "python3"
  },
  "language_info": {
   "codemirror_mode": {
    "name": "ipython",
    "version": 3
   },
   "file_extension": ".py",
   "mimetype": "text/x-python",
   "name": "python",
   "nbconvert_exporter": "python",
   "pygments_lexer": "ipython3",
   "version": "3.9.7"
  }
 },
 "nbformat": 4,
 "nbformat_minor": 5
}
