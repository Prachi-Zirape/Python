{
 "cells": [
  {
   "cell_type": "code",
   "execution_count": 15,
   "id": "1d182d73",
   "metadata": {},
   "outputs": [
    {
     "name": "stdout",
     "output_type": "stream",
     "text": [
      "array('I', [10, 20, 30, 40, 50])\n"
     ]
    }
   ],
   "source": [
    "#1-Write a Python program to create an array of 5 integers and display the array items. \n",
    "#Access individual element through indexes\n",
    "\n",
    "from array import *\n",
    "\n",
    "def arrayBasics():\n",
    "    int_array=array('I',[10,20,30,40,50])\n",
    "        \n",
    "    print(int_array)\n",
    "    \n",
    "arrayBasics()"
   ]
  },
  {
   "cell_type": "markdown",
   "id": "192f35f2",
   "metadata": {},
   "source": []
  },
  {
   "cell_type": "code",
   "execution_count": 24,
   "id": "b0c94002",
   "metadata": {},
   "outputs": [
    {
     "name": "stdout",
     "output_type": "stream",
     "text": [
      "1\n",
      "1\n",
      "[1]\n"
     ]
    }
   ],
   "source": [
    "#solution 2 - Take user input \n",
    "def array_basic():\n",
    "    num_array=[]\n",
    "    num=int(input())\n",
    "    for i in range(int(num)):\n",
    "        n=int(input())\n",
    "        num_array.append(int(n))\n",
    "    print(num_array)\n",
    "    \n",
    "array_basic()"
   ]
  },
  {
   "cell_type": "markdown",
   "id": "309d4a01",
   "metadata": {},
   "source": [
    "str_arr = raw_input().split(' ') //will take in a string of numbers separated by a space\n",
    "arr = [int(num) for num in str_arr]"
   ]
  },
  {
   "cell_type": "code",
   "execution_count": 28,
   "id": "c6b9cbeb",
   "metadata": {},
   "outputs": [
    {
     "name": "stdout",
     "output_type": "stream",
     "text": [
      "3 2 1 4\n"
     ]
    }
   ],
   "source": [
    "str_arr = str(input()).split(' ') #will take in a string of numbers separated by a space\n",
    "arr = [int(num) for num in str_arr]"
   ]
  },
  {
   "cell_type": "code",
   "execution_count": 35,
   "id": "ae20243e",
   "metadata": {},
   "outputs": [
    {
     "name": "stdout",
     "output_type": "stream",
     "text": [
      "Please enter the number to appen\n",
      "3\n",
      "array('I', [10, 20, 30, 40, 3, 3])\n"
     ]
    }
   ],
   "source": [
    "#2-Write a Python program to append a new item to the end of the array\n",
    "#Solution-either insert or append\n",
    "from array import *\n",
    "def array_append():\n",
    "    num_array=array('I',[10,20,30,40])\n",
    "    print(\"Please enter the number to appen\")\n",
    "    n=int(input())\n",
    "    num_array.append(n)\n",
    "    num_array.insert(4,n)\n",
    "    print(num_array)\n",
    "    \n",
    "array_append()"
   ]
  },
  {
   "cell_type": "code",
   "execution_count": 50,
   "id": "c376976d",
   "metadata": {},
   "outputs": [
    {
     "name": "stdout",
     "output_type": "stream",
     "text": [
      "50\n",
      "40\n",
      "30\n",
      "20\n",
      "10\n",
      "array('I', [50, 40, 30, 20, 10])\n",
      "array('I', [10, 20, 30, 40, 50])\n"
     ]
    }
   ],
   "source": [
    "#3-Write a Python program to reverse the order of the items in the array\n",
    "#solution-1:trace index reverse (len,0)\n",
    "#solution-2:reverse() method\n",
    "#solution-3: Slicing\n",
    "\n",
    "from array import *\n",
    "def reve_order():\n",
    "    num_array=array('I',[10,20,30,40,50])\n",
    "    \n",
    "    #solution-1: trace index reverse (len,0)\n",
    "    for i in range(len(num_array)-1,-1,-1):\n",
    "        print(num_array[i])\n",
    "    \n",
    "    #solution-2: reverse() method\n",
    "    num_array.reverse()\n",
    "    print(str(num_array))\n",
    "    \n",
    "    #solution-3: Slicing\n",
    "    arr=num_array[::-1]\n",
    "    print(arr)\n",
    "reve_order()\n"
   ]
  },
  {
   "cell_type": "code",
   "execution_count": 56,
   "id": "e3bb0260",
   "metadata": {},
   "outputs": [
    {
     "name": "stdout",
     "output_type": "stream",
     "text": [
      "4\n"
     ]
    }
   ],
   "source": [
    "#4******-Write a Python program to get the length in bytes of one array item in the internal representation\n",
    "from array import *\n",
    "def lenByte():\n",
    "    num_array=array('i',[10,20,30,5000,9])    \n",
    "    print((num_array.itemsize))\n",
    "    \n",
    "lenByte()"
   ]
  },
  {
   "cell_type": "code",
   "execution_count": 57,
   "id": "a3fb63e3",
   "metadata": {},
   "outputs": [
    {
     "name": "stdout",
     "output_type": "stream",
     "text": [
      "Original array: array('i', [1, 3, 5, 7, 9])\n",
      "Current memory address and the length in elements of the buffer: (2111656537488, 5)\n",
      "The size of the memory buffer in bytes: 20\n"
     ]
    }
   ],
   "source": [
    "#5-get the current memory address and the length in elements of the buffer used to hold an array's \n",
    "#contents and also find the size of the memory buffer in bytes\n",
    "from array import *\n",
    "array_num = array('i', [1, 3, 5, 7, 9])\n",
    "print(\"Original array: \"+str(array_num))\n",
    "print(\"Current memory address and the length in elements of the buffer: \"+str(array_num.buffer_info()))\n",
    "print(\"The size of the memory buffer in bytes: \"+str(array_num.buffer_info()[1] * array_num.itemsize))"
   ]
  },
  {
   "cell_type": "code",
   "execution_count": 61,
   "id": "5e351e8e",
   "metadata": {},
   "outputs": [
    {
     "name": "stdout",
     "output_type": "stream",
     "text": [
      "number need to count \n",
      "3\n",
      "the count of '3' occurs '3' times\n",
      "3\n"
     ]
    }
   ],
   "source": [
    "#6-Write a Python program to get the number of occurrences of a specified element in an array.\n",
    "#solution-1:if element spotted add up to counter\n",
    "#solution-2:count() method\n",
    "\n",
    "from array import *\n",
    "def num_occr():\n",
    "    num_array=array('I',[1, 3, 5, 3, 7, 9, 3])\n",
    "    count=0\n",
    "    print(\"number need to count \")\n",
    "    num=int(input())\n",
    "    for i in num_array:\n",
    "        if i==num:\n",
    "            count+=1\n",
    "    print(\"the count of '{}' occurs '{}' times\".format(num,count))\n",
    "    print(num_array.count(3))\n",
    "    \n",
    "num_occr()   "
   ]
  },
  {
   "cell_type": "code",
   "execution_count": 62,
   "id": "00c073df",
   "metadata": {},
   "outputs": [
    {
     "name": "stdout",
     "output_type": "stream",
     "text": [
      "Original array: array('i', [1, 3, 5, 7, 9])\n",
      "Extended array: array('i', [1, 3, 5, 7, 9, 1, 3, 5, 7, 9])\n"
     ]
    }
   ],
   "source": [
    "#******7-append items from inerrable to the end of the array\n",
    "#solution-1: extend method\n",
    "from array import *\n",
    "array_num = array('i', [1, 3, 5, 7, 9])\n",
    "print(\"Original array: \"+str(array_num))\n",
    "array_num.extend(array_num)\n",
    "print(\"Extended array: \"+str(array_num))"
   ]
  },
  {
   "cell_type": "code",
   "execution_count": 63,
   "id": "351c02d3",
   "metadata": {},
   "outputs": [
    {
     "name": "stdout",
     "output_type": "stream",
     "text": [
      "Bytes to String: \n",
      "b'w3resource'\n"
     ]
    }
   ],
   "source": [
    "#8-to convert an array to an array of machine values and return the bytes representation.\n",
    "from array import *\n",
    "print(\"Bytes to String: \")\n",
    "x = array('b', [119, 51, 114, 101,  115, 111, 117, 114, 99, 101])\n",
    "s = x.tobytes()\n",
    "print(s)"
   ]
  },
  {
   "cell_type": "code",
   "execution_count": 1,
   "id": "fa537fcd",
   "metadata": {},
   "outputs": [
    {
     "name": "stdout",
     "output_type": "stream",
     "text": [
      "array('I', [1, 3, 5, 7, 9])\n"
     ]
    }
   ],
   "source": [
    "#9- append items from a specified list\n",
    "#Solution-Create list and use append or insert maybe\n",
    "\n",
    "from array import *\n",
    "def append_List():\n",
    "    lst=[1, 3, 5, 7, 9]\n",
    "    arr=array('I',lst)\n",
    "    print(arr)\n",
    "    \n",
    "append_List()"
   ]
  },
  {
   "cell_type": "code",
   "execution_count": 2,
   "id": "ca0e990a",
   "metadata": {},
   "outputs": [
    {
     "name": "stdout",
     "output_type": "stream",
     "text": [
      "Items in the list: [1, 2, 6, -8]\n",
      "Append items from the list: \n",
      "Items in the array: array('i', [1, 2, 6, -8])\n"
     ]
    }
   ],
   "source": [
    "#*******solution-2: fromlist method \n",
    "from array import *\n",
    "num_list = [1, 2, 6, -8]\n",
    "array_num = array('i', [])\n",
    "print(\"Items in the list: \" + str(num_list))\n",
    "print(\"Append items from the list: \")\n",
    "array_num.fromlist(num_list)\n",
    "print(\"Items in the array: \"+str(array_num))"
   ]
  },
  {
   "cell_type": "code",
   "execution_count": 4,
   "id": "681cf1b8",
   "metadata": {},
   "outputs": [
    {
     "name": "stdout",
     "output_type": "stream",
     "text": [
      "Please type the number and position in array\n",
      "4\n",
      "1\n",
      "array('I', [1, 4, 3, 5, 7, 9])\n"
     ]
    }
   ],
   "source": [
    "#10-insert a new item before the second element in an existing array.\n",
    "#solution-insert method\n",
    "from array import *\n",
    "def insert_elemnt():\n",
    "    arr=array('I',[1, 3, 5, 7, 9])\n",
    "    print(\"Please type the number and position in array\")\n",
    "    num=int(input())\n",
    "    position=int(input())\n",
    "    arr.insert(position,num)\n",
    "    print(arr)\n",
    "    \n",
    "insert_elemnt()"
   ]
  },
  {
   "cell_type": "code",
   "execution_count": 7,
   "id": "08902a5a",
   "metadata": {},
   "outputs": [
    {
     "name": "stdout",
     "output_type": "stream",
     "text": [
      "array('i', [1, 3, 7, 9])\n"
     ]
    }
   ],
   "source": [
    "#11-remove a specified item using the index from an array\n",
    "#solution-use pop method\n",
    "from array import *\n",
    "def del_element():\n",
    "    arr=array('i',[1, 3, 5, 7, 9])\n",
    "    arr.pop(2)\n",
    "    print(arr)\n",
    "del_element()"
   ]
  },
  {
   "cell_type": "code",
   "execution_count": 8,
   "id": "8d0cda45",
   "metadata": {},
   "outputs": [
    {
     "name": "stdout",
     "output_type": "stream",
     "text": [
      "array('i', [1, 5, 7, 3, 9])\n"
     ]
    }
   ],
   "source": [
    "#12-remove the first occurrence of a specified element from an array\n",
    "#solution-use remove method\n",
    "from array import *\n",
    "def rem_element():\n",
    "    arr=array('i',[1, 3, 5, 7, 3,9])\n",
    "    arr.remove(3)\n",
    "    print(arr)\n",
    "rem_element()"
   ]
  },
  {
   "cell_type": "code",
   "execution_count": 9,
   "id": "3e4cd927",
   "metadata": {},
   "outputs": [
    {
     "name": "stdout",
     "output_type": "stream",
     "text": [
      "[1, 3, 5, 7, 3, 9]\n"
     ]
    }
   ],
   "source": [
    "#13-convert an array to an ordinary list with the same items.\n",
    "from array import *\n",
    "def arrayTolist():\n",
    "    arr=array('i',[1, 3, 5, 7, 3,9])\n",
    "    lst=arr.tolist()\n",
    "    print(lst)\n",
    "arrayTolist()"
   ]
  },
  {
   "cell_type": "code",
   "execution_count": 20,
   "id": "6ebe52b0",
   "metadata": {},
   "outputs": [
    {
     "name": "stdout",
     "output_type": "stream",
     "text": [
      "1 1\n",
      "3 1\n",
      "3 2\n"
     ]
    },
    {
     "data": {
      "text/plain": [
       "True"
      ]
     },
     "execution_count": 20,
     "metadata": {},
     "output_type": "execute_result"
    }
   ],
   "source": [
    "#14-find whether a given array of integers contains any duplicate element\n",
    "#solution-1:bruteforce two for loops\n",
    "#solution-2:see if set and array has same length\n",
    "#solution-3:use count() method if count>1 then true\n",
    "from array import *\n",
    "def find_dup():\n",
    "    arr=array('i',[1, 3, 5, 7,9,3])\n",
    "   # count=0\n",
    "    for k in range(len(arr)):\n",
    "        count=0\n",
    "        for j in range (len(arr)):\n",
    "            if arr[k]==arr[j]:\n",
    "                count+=1\n",
    "                print(arr[k],count)\n",
    "                if count>1:\n",
    "                    return True\n",
    "    return False\n",
    "find_dup()"
   ]
  },
  {
   "cell_type": "code",
   "execution_count": 21,
   "id": "130c833a",
   "metadata": {},
   "outputs": [
    {
     "name": "stdout",
     "output_type": "stream",
     "text": [
      "False\n",
      "True\n",
      "True\n"
     ]
    }
   ],
   "source": [
    "#solution-2:see if set and array has same length\n",
    "def test_duplicate(array_nums):\n",
    "    nums_set = set(array_nums)    \n",
    "    return len(array_nums) != len(nums_set)     \n",
    "print(test_duplicate([1,2,3,4,5]))\n",
    "print(test_duplicate([1,2,3,4, 4]))\n",
    "print(test_duplicate([1,1,2,2,3,3,4,4,5]))"
   ]
  },
  {
   "cell_type": "code",
   "execution_count": 22,
   "id": "88892977",
   "metadata": {},
   "outputs": [
    {
     "name": "stdout",
     "output_type": "stream",
     "text": [
      "1 1\n",
      "1 2\n"
     ]
    },
    {
     "data": {
      "text/plain": [
       "True"
      ]
     },
     "execution_count": 22,
     "metadata": {},
     "output_type": "execute_result"
    }
   ],
   "source": [
    "#15-find the first duplicate element in a given array of integers.\n",
    "from array import *\n",
    "def find_dup():\n",
    "    arr=array('i',[1, 3, 5, 7,9,3,1])\n",
    "   # count=0\n",
    "    for k in range(len(arr)):\n",
    "        count=0\n",
    "        for j in range (len(arr)):\n",
    "            if arr[k]==arr[j]:\n",
    "                count+=1\n",
    "                print(arr[k],count)\n",
    "                if count>1:\n",
    "                    return True\n",
    "    return False\n",
    "find_dup()"
   ]
  },
  {
   "cell_type": "code",
   "execution_count": 24,
   "id": "4dce1f59",
   "metadata": {},
   "outputs": [
    {
     "data": {
      "text/plain": [
       "-1"
      ]
     },
     "execution_count": 24,
     "metadata": {},
     "output_type": "execute_result"
    }
   ],
   "source": [
    "#solution-2: copy element from array to set. if set already has an element return it otherwise keep copying/adding\n",
    "from array import *\n",
    "def find_dupe():\n",
    "    arr=array('i',[1, 3, 5, 7,9])\n",
    "    set_num=set()\n",
    "    for i in range(len(arr)):\n",
    "        if arr[i] in set_num:\n",
    "            return arr[i]\n",
    "        else:\n",
    "            set_num.add(arr[i])\n",
    "    return -1\n",
    "find_dupe()"
   ]
  },
  {
   "cell_type": "code",
   "execution_count": 47,
   "id": "8f158940",
   "metadata": {},
   "outputs": [
    {
     "name": "stdout",
     "output_type": "stream",
     "text": [
      "sdict[patterns[i]]= ['red']\n",
      "sdict[patterns[i]]= ['green']\n",
      "sdict[patterns[i]]= ['y']\n",
      "pset= {'b', 'a', 'c'}\n",
      "sset= {'red', 'green', 'y'}\n",
      "values= dict_values([['red'], ['green'], ['y']])\n",
      "values= ['red']\n",
      "values= ['green']\n",
      "values= ['y']\n",
      "True\n",
      "sdict[patterns[i]]= ['red']\n",
      "sdict[patterns[i]]= ['green']\n",
      "sdict[patterns[i]]= ['green', 'greenn']\n",
      "pset= {'b', 'a'}\n",
      "sset= {'red', 'green', 'greenn'}\n",
      "values= dict_values([['red'], ['green', 'greenn']])\n",
      "False\n"
     ]
    }
   ],
   "source": [
    "#16-program to check whether it follows the sequence given in the patterns array\n",
    "#Pattern example:\n",
    "#For color1 = [\"red\", \"green\", \"green\"] and patterns = [\"a\", \"b\", \"b\"]\n",
    "#solution-1: use dictionary and play key value role\n",
    "#basically added keys then added values \n",
    "from array import *\n",
    "def is_samePatterns(colors,patterns):    \n",
    "    if len(colors)!=len(patterns):\n",
    "        return False\n",
    "    sdict={}\n",
    "    pset=set()\n",
    "    sset=set()\n",
    "    for i in range(len(patterns)):\n",
    "        pset.add(patterns[i])\n",
    "       # print(\"pset=\",pset)\n",
    "        sset.add(colors[i])\n",
    "       # print(\"sset=\",sset)    \n",
    "        if patterns[i] not in sdict.keys():\n",
    "            sdict[patterns[i]]=[]#adding keys\n",
    "        keys=sdict[patterns[i]]\n",
    "        keys.append(colors[i])##appending values\n",
    "        sdict[patterns[i]]=keys ##now patterns are colors too \n",
    "        \n",
    "    if len(pset)!=len(sset):\n",
    "        return False\n",
    "    \n",
    "    for values in sdict.values():\n",
    "        for i in range(len(values)-1):\n",
    "            #print(\"values=\",values)\n",
    "            if values[i]!=values[i+1]:\n",
    "                return False\n",
    "        print(\"values=\",values)\n",
    "    return True\n",
    "\n",
    "print(is_samePatterns([\"red\", \n",
    " \"green\", \n",
    " \"y\"], [\"a\", \n",
    " \"b\", \n",
    " \"c\"])) \n",
    "\n",
    "print(is_samePatterns([\"red\", \n",
    " \"green\", \n",
    " \"greenn\"], [\"a\", \n",
    " \"b\", \n",
    " \"b\"]))  \n",
    "    "
   ]
  },
  {
   "cell_type": "code",
   "execution_count": 59,
   "id": "02191f16",
   "metadata": {},
   "outputs": [
    {
     "name": "stdout",
     "output_type": "stream",
     "text": [
      "Maximum product is '24'\n"
     ]
    }
   ],
   "source": [
    "#17-Python program to find a pair with highest product from a given array of integers.\n",
    "#Original array: [1, 2, 3, 4, 7, 0, 8, 4]\n",
    "#Maximum product pair is: (7, 8)\n",
    "#solution-1:2 for loops\n",
    "#solution-2:sort array and multiply last 2 elements\n",
    "#solution-3: Use Heap \n",
    "from array import *\n",
    "def max_prod():\n",
    "    arr=array('i',[0, -1, -2, -4, 5, 0, -6])\n",
    "    max=0\n",
    "    prod=0\n",
    "    for k in range(len(arr)):        \n",
    "        for j in range(len(arr)):            \n",
    "            prod=arr[k]*arr[j]\n",
    "            #print(prod,arr[k],arr[j])\n",
    "            if prod>max and k!=j:\n",
    "                max=prod\n",
    "                #print(max)\n",
    "    print(\"Maximum product is '{}'\".format(max))\n",
    "max_prod()"
   ]
  },
  {
   "cell_type": "code",
   "execution_count": 70,
   "id": "2786286f",
   "metadata": {},
   "outputs": [
    {
     "name": "stdout",
     "output_type": "stream",
     "text": [
      "0\n",
      "-1\n",
      "-2\n"
     ]
    }
   ],
   "source": [
    "#18-Write a Python program to create an array contains six integers. Also print all the members of the array\n",
    "from array import *\n",
    "def basics_arr():\n",
    "    arr=array('i',[0, -1, -2])\n",
    "    for i in arr:\n",
    "        print(i)\n",
    "\n",
    "basics_arr()"
   ]
  },
  {
   "cell_type": "code",
   "execution_count": 71,
   "id": "ac207030",
   "metadata": {},
   "outputs": [
    {
     "name": "stdout",
     "output_type": "stream",
     "text": [
      "Array buffer start address in memory and number of elements.\n",
      "(2035136198560, 2)\n"
     ]
    }
   ],
   "source": [
    "#19-Python program to get an array buffer information.\n",
    "from array import array\n",
    "a = array(\"I\", (12,25))\n",
    "print(\"Array buffer start address in memory and number of elements.\")\n",
    "print(a.buffer_info())"
   ]
  },
  {
   "cell_type": "code",
   "execution_count": 72,
   "id": "8f1830d4",
   "metadata": {},
   "outputs": [
    {
     "name": "stdout",
     "output_type": "stream",
     "text": [
      "3\n"
     ]
    }
   ],
   "source": [
    "#20-program to get the length of an array\n",
    "from array import *\n",
    "arr=array('i',[0, -1, -2])\n",
    "print(len(arr))"
   ]
  },
  {
   "cell_type": "code",
   "execution_count": 73,
   "id": "ae55836a",
   "metadata": {},
   "outputs": [
    {
     "name": "stdout",
     "output_type": "stream",
     "text": [
      "4\n",
      "4\n"
     ]
    }
   ],
   "source": [
    "#21- Python program to get the array size of types unsigned integer and float\n",
    "from array import array\n",
    "a = array(\"I\", (12,25))\n",
    "print(a.itemsize)\n",
    "a = array(\"f\", (12.236,36.36))\n",
    "print(a.itemsize)"
   ]
  },
  {
   "cell_type": "code",
   "execution_count": 74,
   "id": "a686227b",
   "metadata": {},
   "outputs": [
    {
     "name": "stdout",
     "output_type": "stream",
     "text": [
      "array1: array('i', [7, 8, 9, 10])\n",
      "Bytes: b'0700000008000000090000000a000000'\n",
      "array2: array('i', [7, 8, 9, 10])\n"
     ]
    }
   ],
   "source": [
    "#22-Python program to read a string and interpreting the string as an array of machine values.\n",
    "from array import array\n",
    "import binascii\n",
    "array1 = array('i', [7, 8, 9, 10])\n",
    "print('array1:', array1)\n",
    "as_bytes = array1.tobytes()\n",
    "print('Bytes:', binascii.hexlify(as_bytes))\n",
    "array2 = array('i')\n",
    "array2.frombytes(as_bytes)\n",
    "print('array2:', array2)"
   ]
  },
  {
   "cell_type": "code",
   "execution_count": 80,
   "id": "39f41860",
   "metadata": {},
   "outputs": [
    {
     "name": "stdout",
     "output_type": "stream",
     "text": [
      "[1, 3, 5, 7, 9]\n"
     ]
    }
   ],
   "source": [
    "#23-Python program to remove all duplicate elements from a given array and returns a new array.\n",
    "#solution-1:convert array to set and set to new array\n",
    "#solution 2:2 for loops and add unique elements to new array\n",
    "#solution 2:sort array and see if arr[i]==arr[i+1]\n",
    "#solution-3:Use dictionary function\n",
    "\n",
    "from array import *\n",
    "def rem_dup():\n",
    "    arr=array('i',[1,3,5,1,3,7,9])\n",
    "    newlist=list(dict.fromkeys(arr))\n",
    "    print(newlist)\n",
    "    \n",
    "rem_dup()"
   ]
  },
  {
   "cell_type": "code",
   "execution_count": 86,
   "id": "6b73aa39",
   "metadata": {},
   "outputs": [
    {
     "name": "stdout",
     "output_type": "stream",
     "text": [
      "15\n"
     ]
    }
   ],
   "source": [
    "#24-program to find the missing number in a given array of numbers between 10 and 20\n",
    "#Original array: 10 11 12 13 14 16 17 18 19 20\n",
    "#Missing number in the said array (10-20): 15\n",
    "\n",
    "#q1-is it sorted array or unsorted\n",
    "#solution-1-if sorted then see if arr[i]=i i begins with 10\n",
    "#sum of 10 to 20=165. subtract sum of all elements from 165 and get the answer\n",
    "\n",
    "from array import *\n",
    "def missing_element():\n",
    "    arr=array('i',[10,11,12,13,14,16,17,18,19,20])\n",
    "    for i in range(len(arr)):\n",
    "        if arr[i+1]!=arr[i]+1:\n",
    "            return arr[i]+1\n",
    "print(missing_element())"
   ]
  },
  {
   "cell_type": "code",
   "execution_count": null,
   "id": "1794f9e0",
   "metadata": {},
   "outputs": [],
   "source": []
  }
 ],
 "metadata": {
  "kernelspec": {
   "display_name": "Python 3 (ipykernel)",
   "language": "python",
   "name": "python3"
  },
  "language_info": {
   "codemirror_mode": {
    "name": "ipython",
    "version": 3
   },
   "file_extension": ".py",
   "mimetype": "text/x-python",
   "name": "python",
   "nbconvert_exporter": "python",
   "pygments_lexer": "ipython3",
   "version": "3.9.7"
  }
 },
 "nbformat": 4,
 "nbformat_minor": 5
}
