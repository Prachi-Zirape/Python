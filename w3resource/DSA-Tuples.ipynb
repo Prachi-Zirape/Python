{
 "cells": [
  {
   "cell_type": "code",
   "execution_count": 2,
   "id": "6e5252be",
   "metadata": {},
   "outputs": [
    {
     "name": "stdout",
     "output_type": "stream",
     "text": [
      "()\n",
      "()\n"
     ]
    }
   ],
   "source": [
    "#Date 8/12/22\n",
    "#1-create a tuple\n",
    "x=()\n",
    "\n",
    "tup=tuple()\n",
    "\n",
    "print(x)\n",
    "print(tup)"
   ]
  },
  {
   "cell_type": "code",
   "execution_count": 4,
   "id": "de3b71bb",
   "metadata": {},
   "outputs": [
    {
     "name": "stdout",
     "output_type": "stream",
     "text": [
      "(1, 'x')\n"
     ]
    }
   ],
   "source": [
    "#2-create a tuple with different data types\n",
    "tup=(1,'x')\n",
    "print(tup)"
   ]
  },
  {
   "cell_type": "code",
   "execution_count": 5,
   "id": "3cefe7d9",
   "metadata": {},
   "outputs": [
    {
     "name": "stdout",
     "output_type": "stream",
     "text": [
      "1\n"
     ]
    }
   ],
   "source": [
    "#3-create a tuple with numbers and print one item\n",
    "tup=(1,3,5)\n",
    "print(tup[0])"
   ]
  },
  {
   "cell_type": "code",
   "execution_count": 6,
   "id": "b15240a7",
   "metadata": {},
   "outputs": [
    {
     "name": "stdout",
     "output_type": "stream",
     "text": [
      "(5, 10, 15, 20, 25)\n",
      "(5,)\n"
     ]
    }
   ],
   "source": [
    "#s2-\n",
    "#Create a tuple with numbers\n",
    "tuplex = 5, 10, 15, 20, 25\n",
    "print(tuplex)\n",
    "#Create a tuple of one item\n",
    "tuplex = 5,\n",
    "print(tuplex)"
   ]
  },
  {
   "cell_type": "code",
   "execution_count": 9,
   "id": "8807c094",
   "metadata": {},
   "outputs": [
    {
     "name": "stdout",
     "output_type": "stream",
     "text": [
      "5 10 15\n"
     ]
    }
   ],
   "source": [
    "#4-unpack a tuple in several variables\n",
    "tuplex = (5, 10, 15)\n",
    "n1,n2,n3=tuplex\n",
    "print(n1,n2,n3)"
   ]
  },
  {
   "cell_type": "code",
   "execution_count": 16,
   "id": "72964c87",
   "metadata": {},
   "outputs": [
    {
     "name": "stdout",
     "output_type": "stream",
     "text": [
      "(5, 10, 15, 30)\n",
      "(0, 3, 2, 6, 9)\n",
      "(5, 10, 15, 30, 15, 20, 25, 5, 10, 15, 30)\n"
     ]
    }
   ],
   "source": [
    "#5-add an item in a tuple\n",
    "tuplex = (5, 10, 15)\n",
    "x=list(tuplex)\n",
    "x.append(30)\n",
    "tuplex=tuple(x)\n",
    "print(tuplex)\n",
    "\n",
    "#--------------------------------------\n",
    "tup=(0,3,2,6)\n",
    "tup=tup+(9,)\n",
    "print(tup)\n",
    "#--------------------------------------\n",
    "tuplex = tuplex[:5] + (15, 20, 25) + tuplex[:5]\n",
    "print(tuplex)"
   ]
  },
  {
   "cell_type": "code",
   "execution_count": 19,
   "id": "596dd38f",
   "metadata": {},
   "outputs": [
    {
     "name": "stdout",
     "output_type": "stream",
     "text": [
      "aqr\n"
     ]
    }
   ],
   "source": [
    "#6-convert a tuple to a string\n",
    "tup=('a','q','r')\n",
    "e=''.join(tup)\n",
    "print(e)"
   ]
  },
  {
   "cell_type": "code",
   "execution_count": 21,
   "id": "66bb8a58",
   "metadata": {},
   "outputs": [
    {
     "name": "stdout",
     "output_type": "stream",
     "text": [
      "85 75\n"
     ]
    }
   ],
   "source": [
    "#7- get the 4th element and 4th element from last of a tuple\n",
    "tup=(5, 10, 15, 30, 85, 20, 25, 75, 10, 15, 30)\n",
    "print(tup[4],tup[-4])"
   ]
  },
  {
   "cell_type": "code",
   "execution_count": 22,
   "id": "95120aa1",
   "metadata": {},
   "outputs": [
    {
     "name": "stdout",
     "output_type": "stream",
     "text": [
      "('HELLO', 5, [], True)\n",
      "('HELLO', 5, [50], True)\n",
      "('HELLO', 5, [], True)\n"
     ]
    }
   ],
   "source": [
    "#8-program to create the colone of a tuple\n",
    "from copy import deepcopy\n",
    "#create a tuple\n",
    "tuplex = (\"HELLO\", 5, [], True) \n",
    "print(tuplex)\n",
    "#make a copy of a tuple using deepcopy() function\n",
    "tuplex_colon = deepcopy(tuplex)\n",
    "tuplex_colon[2].append(50)\n",
    "print(tuplex_colon)\n",
    "print(tuplex)"
   ]
  },
  {
   "cell_type": "code",
   "execution_count": 26,
   "id": "4f5dc37f",
   "metadata": {},
   "outputs": [
    {
     "name": "stdout",
     "output_type": "stream",
     "text": [
      "(15, 3)\n",
      "(10, 2)\n",
      "(30, 2)\n",
      "(5, 1)\n",
      "(20, 1)\n",
      "(25, 1)\n",
      "(75, 1)\n"
     ]
    }
   ],
   "source": [
    "#9-find the repeated items of a tuple\n",
    "from collections import Counter\n",
    "tup=(5, 10, 15, 30, 15, 20, 25, 75, 10, 15, 30)\n",
    "coun=Counter(tup)\n",
    "for i in coun.most_common(20):\n",
    "    print(i)"
   ]
  },
  {
   "cell_type": "code",
   "execution_count": 31,
   "id": "8942d6ad",
   "metadata": {},
   "outputs": [
    {
     "name": "stdout",
     "output_type": "stream",
     "text": [
      "5 1\n",
      "10 2\n",
      "15 3\n",
      "30 2\n",
      "20 1\n",
      "25 1\n",
      "75 1\n"
     ]
    }
   ],
   "source": [
    "#Counter method\n",
    "from collections import Counter\n",
    "tup=(5, 10, 15, 30, 15, 20, 25, 75, 10, 15, 30)\n",
    "cnt=Counter(tup)\n",
    "for i in cnt:\n",
    "    print(i,cnt[i])"
   ]
  },
  {
   "cell_type": "code",
   "execution_count": 33,
   "id": "c49d3ea2",
   "metadata": {},
   "outputs": [
    {
     "name": "stdout",
     "output_type": "stream",
     "text": [
      "Counter({15: 3, 10: 2, 30: 2, 5: 1, 20: 1, 25: 1, 75: 1})\n",
      "[5, 10, 10, 15, 15, 15, 30, 30, 20, 25, 75]\n"
     ]
    }
   ],
   "source": [
    "#element method\n",
    "from collections import Counter\n",
    "tup=(5, 10, 15, 30, 15, 20, 25, 75, 10, 15, 30)\n",
    "cnt=Counter(tup)\n",
    "print(cnt)\n",
    "print(list(cnt.elements()))"
   ]
  },
  {
   "cell_type": "code",
   "execution_count": 35,
   "id": "711eea13",
   "metadata": {},
   "outputs": [
    {
     "name": "stdout",
     "output_type": "stream",
     "text": [
      "False\n",
      "Yay\n"
     ]
    }
   ],
   "source": [
    "#10-check whether an element exists within a tuple\n",
    "tup=(5, 10, 15, 30, 15, 20, 25, 75, 10, 15, 30)\n",
    "n=75\n",
    "print(60 in tup)\n",
    "\n",
    "if n in tup:\n",
    "    print('Yay')\n",
    "else:\n",
    "    print('Nay')"
   ]
  },
  {
   "cell_type": "code",
   "execution_count": 36,
   "id": "3832429b",
   "metadata": {},
   "outputs": [
    {
     "name": "stdout",
     "output_type": "stream",
     "text": [
      "(5, 10, 10, 15, 15, 15, 30, 30, 20, 25, 75)\n"
     ]
    }
   ],
   "source": [
    "#11-convert a list to a tuple.\n",
    "lst=[5, 10, 10, 15, 15, 15, 30, 30, 20, 25, 75]\n",
    "print(tuple(lst))"
   ]
  },
  {
   "cell_type": "code",
   "execution_count": 41,
   "id": "cbab74fd",
   "metadata": {},
   "outputs": [
    {
     "name": "stdout",
     "output_type": "stream",
     "text": [
      "(5, 10, 15, 15, 15, 30, 30, 20, 25, 75)\n",
      "(5, 10, 15, 15, 30, 30, 20, 25, 75)\n"
     ]
    }
   ],
   "source": [
    "#12-remove an item from a tuple\n",
    "tup=(5, 10, 10, 15, 15, 15, 30, 30, 20, 25, 75)\n",
    "x=list(tup)\n",
    "x.remove(10)\n",
    "tup=tuple(x)\n",
    "print(tup)\n",
    "\n",
    "tup = tup[:2] + tup[3:]\n",
    "print(tup)"
   ]
  },
  {
   "cell_type": "code",
   "execution_count": 43,
   "id": "35acf127",
   "metadata": {},
   "outputs": [
    {
     "name": "stdout",
     "output_type": "stream",
     "text": [
      "(15, 15, 15, 30)\n"
     ]
    }
   ],
   "source": [
    "#13-slice a tuple.\n",
    "tup=(5, 10, 10, 15, 15, 15, 30, 30, 20, 25, 75)\n",
    "tup = tup[3:7] \n",
    "print(tup)"
   ]
  },
  {
   "cell_type": "code",
   "execution_count": 46,
   "id": "297f3b4d",
   "metadata": {},
   "outputs": [
    {
     "name": "stdout",
     "output_type": "stream",
     "text": [
      "2\n"
     ]
    }
   ],
   "source": [
    "#14-find the index of an item of a tuple\n",
    "tup=(5, 10, 15, 30, 20, 25, 75)\n",
    "print(tup.index(15))"
   ]
  },
  {
   "cell_type": "code",
   "execution_count": 47,
   "id": "3e148584",
   "metadata": {},
   "outputs": [
    {
     "name": "stdout",
     "output_type": "stream",
     "text": [
      "7\n"
     ]
    }
   ],
   "source": [
    "#15-find the length of a tuple\n",
    "tup=(5, 10, 15, 30, 20, 25, 75)\n",
    "print(len(tup))"
   ]
  },
  {
   "cell_type": "code",
   "execution_count": 52,
   "id": "05672423",
   "metadata": {},
   "outputs": [
    {
     "name": "stdout",
     "output_type": "stream",
     "text": [
      "{5: 10, 10: 20, 15: 30, 30: 60, 20: 40, 25: 50, 75: 150}\n"
     ]
    }
   ],
   "source": [
    "#16-convert a tuple to a dictionary\n",
    "tup=(5, 10, 15, 30, 20, 25, 75)\n",
    "d={}\n",
    "for i in tup:\n",
    "    d[i]=2*i\n",
    "print(d)"
   ]
  },
  {
   "cell_type": "code",
   "execution_count": 15,
   "id": "502dcd65",
   "metadata": {},
   "outputs": [
    {
     "name": "stdout",
     "output_type": "stream",
     "text": [
      "[1, 2, 3, 4, 9, 0, 5, 4]\n",
      "[(1, 3, 9, 5), (2, 4, 0, 4)]\n",
      "<map object at 0x0000028B1DC92970>\n"
     ]
    }
   ],
   "source": [
    "#Date 8/13/22\n",
    "#17-unzip a list of tuples into individual lists\n",
    "lst=[(1,2),(3,4),(9,0),(5,4)]\n",
    "op_lst=[]\n",
    "for i in lst:\n",
    "    op_lst.append(i[0])\n",
    "    op_lst.append(i[1])\n",
    "print(op_lst)\n",
    "\n",
    "print(list(zip(*lst)))\n",
    "\n",
    "res=(map(None,*lst))\n",
    "print(res)"
   ]
  },
  {
   "cell_type": "code",
   "execution_count": 24,
   "id": "e653e0a7",
   "metadata": {},
   "outputs": [
    {
     "name": "stdout",
     "output_type": "stream",
     "text": [
      "(5, 9, 3, 1)\n"
     ]
    }
   ],
   "source": [
    "#18- reverse a tuple\n",
    "tup=(1, 3, 9, 5)\n",
    "#print(tup[-1:-(len(tup)-1)])\n",
    "y=reversed(tup)\n",
    "print(tuple(y))\n"
   ]
  },
  {
   "cell_type": "code",
   "execution_count": 25,
   "id": "4735e8e8",
   "metadata": {},
   "outputs": [
    {
     "name": "stdout",
     "output_type": "stream",
     "text": [
      "{1: 2, 3: 4, 9: 0, 5: 4}\n"
     ]
    }
   ],
   "source": [
    "#19- convert a list of tuples into a dictionary.\n",
    "lst=[(1,2),(3,4),(9,0),(5,4)]\n",
    "dct={}\n",
    "for i in lst:\n",
    "    dct[i[0]]=i[1]\n",
    "print(dct)"
   ]
  },
  {
   "cell_type": "code",
   "execution_count": 27,
   "id": "5659a7ea",
   "metadata": {},
   "outputs": [
    {
     "name": "stdout",
     "output_type": "stream",
     "text": [
      "{'x': [1, 2, 3], 'y': [1, 2], 'z': [1]}\n"
     ]
    }
   ],
   "source": [
    "l = [(\"x\", 1), (\"x\", 2), (\"x\", 3), (\"y\", 1), (\"y\", 2), (\"z\", 1)]\n",
    "d={}\n",
    "\n",
    "for a,b in l:\n",
    "    d.setdefault(a,[]).append(b)\n",
    "print(d)"
   ]
  },
  {
   "cell_type": "code",
   "execution_count": 29,
   "id": "32a10f8e",
   "metadata": {},
   "outputs": [
    {
     "name": "stdout",
     "output_type": "stream",
     "text": [
      "this is a tuple (100, 200, 300)\n"
     ]
    }
   ],
   "source": [
    "#20-print a tuple with string formatting\n",
    "t = (100, 200, 300)\n",
    "print(\"this is a tuple {}\".format(t))"
   ]
  },
  {
   "cell_type": "code",
   "execution_count": 34,
   "id": "f526f1a9",
   "metadata": {},
   "outputs": [
    {
     "name": "stdout",
     "output_type": "stream",
     "text": [
      "[(10, 20, 40), (40, 50, 60), (70, 80, 90)]\n",
      "[(10, 20, 100), (40, 50, 100), (70, 80, 100)]\n"
     ]
    }
   ],
   "source": [
    "#21-replace last value of tuples in a list\n",
    "lst=[(10, 20, 40), (40, 50, 60), (70, 80, 90)]\n",
    "n=100\n",
    "for i in lst:\n",
    "    i[:-1]+(100,)\n",
    "print(lst)\n",
    "\n",
    "print([t[:-1] + (100,) for t in lst])"
   ]
  },
  {
   "cell_type": "code",
   "execution_count": 37,
   "id": "ae2cde5f",
   "metadata": {},
   "outputs": [
    {
     "name": "stdout",
     "output_type": "stream",
     "text": [
      "[(), ('',), ('a', 'b'), ('a', 'b', 'c'), 'd']\n",
      "[('',), ('a', 'b'), ('a', 'b', 'c'), 'd']\n"
     ]
    }
   ],
   "source": [
    "#22-remove an empty tuple(s) from a list of tuples\n",
    "lst=[(), (), ('',), ('a', 'b'), ('a', 'b', 'c'), ('d')]\n",
    "for i in lst:\n",
    "    if len(tuple(i))==0:\n",
    "        lst.remove(i)\n",
    "print(lst)\n",
    "\n",
    "L=[(), (), ('',), ('a', 'b'), ('a', 'b', 'c'), ('d')]\n",
    "L=[t for t in L if t]\n",
    "print(L)"
   ]
  },
  {
   "cell_type": "code",
   "execution_count": 47,
   "id": "52b384f9",
   "metadata": {},
   "outputs": [
    {
     "name": "stdout",
     "output_type": "stream",
     "text": [
      "[('item1', '12.20'), ('item3', '24.5'), ('item2', '115.10')]\n"
     ]
    }
   ],
   "source": [
    "#23-sort a tuple by its float element\n",
    "lst=[('item1', '12.20'), ('item2', '115.10'), ('item3', '24.5')]\n",
    "lst_sorted=sorted(lst,key=lambda x:float(x[1]))\n",
    "print(lst_sorted)"
   ]
  },
  {
   "cell_type": "code",
   "execution_count": 52,
   "id": "f2d48398",
   "metadata": {},
   "outputs": [
    {
     "name": "stdout",
     "output_type": "stream",
     "text": [
      "3\n"
     ]
    }
   ],
   "source": [
    "#24- count the elements in a list until an element is a tuple\n",
    "l=['a','d','y',('p',),('item1', '12.20'),'p']\n",
    "cnt=0\n",
    "for i in l:\n",
    "    if type(i)==tuple:\n",
    "        break\n",
    "    else:\n",
    "        #print(i)\n",
    "        cnt+=1\n",
    "print(cnt)"
   ]
  },
  {
   "cell_type": "code",
   "execution_count": 55,
   "id": "1fb1b392",
   "metadata": {},
   "outputs": [
    {
     "name": "stdout",
     "output_type": "stream",
     "text": [
      "('p', 'y', 't', 'h', 'o', 'n', ' ', '3', '.', '0')\n"
     ]
    }
   ],
   "source": [
    "#25-convert a given string list to a tuple\n",
    "strng='python 3.0'\n",
    "tup=tuple()\n",
    "for i in strng:\n",
    "    tup=tup+(i,)\n",
    "print(tup)"
   ]
  },
  {
   "cell_type": "code",
   "execution_count": 56,
   "id": "5046595b",
   "metadata": {},
   "outputs": [
    {
     "name": "stdout",
     "output_type": "stream",
     "text": [
      "-864\n"
     ]
    }
   ],
   "source": [
    "#26-calculate the product, multiplying all the numbers of a given tuple\n",
    "tup=(4, 3, 2, 2, -1, 18)\n",
    "result=1\n",
    "for i in tup:\n",
    "    result*=i\n",
    "print(result)"
   ]
  },
  {
   "cell_type": "code",
   "execution_count": 62,
   "id": "8616af90",
   "metadata": {},
   "outputs": [
    {
     "name": "stdout",
     "output_type": "stream",
     "text": [
      "[30.5, 34.25, 27.0, 23.25]\n"
     ]
    }
   ],
   "source": [
    "#27-calculate the average value of the numbers in a given tuple of tuples\n",
    "tup=((10, 10, 10, 12), (30, 45, 56, 45), (81, 80, 39, 32), (1, 2, 3, 4))\n",
    "res_arr=[]\n",
    "for i in zip(*tup):\n",
    "    result=sum(i)/len(i)\n",
    "    res_arr.append(result)\n",
    "print(res_arr)"
   ]
  },
  {
   "cell_type": "code",
   "execution_count": 67,
   "id": "d6f5e522",
   "metadata": {},
   "outputs": [
    {
     "name": "stdout",
     "output_type": "stream",
     "text": [
      "(333, 33, 1416, 55)\n"
     ]
    }
   ],
   "source": [
    "#28-convert a tuple of string values to a tuple of integer values\n",
    "tup=(('333', '33'), ('1416', '55'))\n",
    "new_tup=tuple()\n",
    "for i in tup:\n",
    "    for j in i:\n",
    "        new_tup=new_tup+(int(j),)\n",
    "print(new_tup)"
   ]
  },
  {
   "cell_type": "code",
   "execution_count": 68,
   "id": "7154a4bc",
   "metadata": {},
   "outputs": [
    {
     "name": "stdout",
     "output_type": "stream",
     "text": [
      "Original tuple values:\n",
      "(('333', '33'), ('1416', '55'))\n",
      "\n",
      "New tuple values:\n",
      "((333, 33), (1416, 55))\n"
     ]
    }
   ],
   "source": [
    "def tuple_int_str(tuple_str):\n",
    "    result = tuple((int(x[0]), int(x[1])) for x in tuple_str)\n",
    "    return result\n",
    "     \n",
    "tuple_str =  (('333', '33'), ('1416', '55'))\n",
    "print(\"Original tuple values:\")\n",
    "print(tuple_str)\n",
    "print(\"\\nNew tuple values:\")\n",
    "print(tuple_int_str(tuple_str))"
   ]
  },
  {
   "cell_type": "code",
   "execution_count": 72,
   "id": "1dd8ce85",
   "metadata": {},
   "outputs": [
    {
     "name": "stdout",
     "output_type": "stream",
     "text": [
      "102040570\n"
     ]
    }
   ],
   "source": [
    "#29-convert a given tuple of positive integers into an integer\n",
    "tup=(10, 20, 40, 5, 70)\n",
    "num=''\n",
    "for i in tup:\n",
    "    num+=str(i)\n",
    "print(int(num))"
   ]
  },
  {
   "cell_type": "code",
   "execution_count": 73,
   "id": "411efd7e",
   "metadata": {},
   "outputs": [
    {
     "name": "stdout",
     "output_type": "stream",
     "text": [
      "Original tuple: \n",
      "(1, 2, 3)\n",
      "Convert the said tuple of positive integers into an integer:\n",
      "123\n"
     ]
    }
   ],
   "source": [
    "def tuple_to_int(nums):\n",
    "    result = int(''.join(map(str,nums)))\n",
    "    return result\n",
    "\n",
    "nums = (1,2,3)\n",
    "print(\"Original tuple: \") \n",
    "print(nums)\n",
    "print(\"Convert the said tuple of positive integers into an integer:\")\n",
    "print(tuple_to_int(nums))"
   ]
  },
  {
   "cell_type": "code",
   "execution_count": 74,
   "id": "a64991b8",
   "metadata": {},
   "outputs": [
    {
     "name": "stdout",
     "output_type": "stream",
     "text": [
      "True\n",
      "False\n",
      "False\n"
     ]
    }
   ],
   "source": [
    "#30-check if a specified element presents in a tuple of tuples\n",
    "tup=(('Red', 'White', 'Blue'), ('Green', 'Pink', 'Purple'), ('Orange', 'Yellow', 'Lime'))\n",
    "srch='White'\n",
    "for i in tup:\n",
    "    print(srch in i)"
   ]
  },
  {
   "cell_type": "code",
   "execution_count": 75,
   "id": "70e6e522",
   "metadata": {},
   "outputs": [
    {
     "name": "stdout",
     "output_type": "stream",
     "text": [
      "Original list:\n",
      "(('Red', 'White', 'Blue'), ('Green', 'Pink', 'Purple'), ('Orange', 'Yellow', 'Lime'))\n",
      "\n",
      "Check if White presenet in said tuple of tuples!\n",
      "True\n"
     ]
    }
   ],
   "source": [
    "def check_in_tuples(colors, c):\n",
    "    result = any(c in tu for tu in colors)\n",
    "    return result\n",
    "\n",
    "colors = (\n",
    "    ('Red', 'White', 'Blue'),\n",
    "    ('Green', 'Pink', 'Purple'),\n",
    "    ('Orange', 'Yellow', 'Lime'),\n",
    ")\n",
    "print(\"Original list:\")\n",
    "print(colors)\n",
    "c1 = 'White'\n",
    "print(\"\\nCheck if\",c1,\"presenet in said tuple of tuples!\")\n",
    "print(check_in_tuples(colors, c1))"
   ]
  },
  {
   "cell_type": "code",
   "execution_count": 84,
   "id": "d577cd6b",
   "metadata": {},
   "outputs": [
    {
     "name": "stdout",
     "output_type": "stream",
     "text": [
      "(6, 9, 8, 6)\n"
     ]
    }
   ],
   "source": [
    "#31-compute element-wise sum of given tuples.\n",
    "tup1=(1, 2, 3, 4)\n",
    "tup2=(3, 5, 2, 1)\n",
    "tup3=(2, 2, 3, 1)\n",
    "sum_tup=tuple()\n",
    "for i in (zip(tup1,tup2,tup3)):\n",
    "    sum_tup+=(sum(i),)\n",
    "print(sum_tup)"
   ]
  },
  {
   "cell_type": "code",
   "execution_count": 85,
   "id": "5ddd8cb0",
   "metadata": {},
   "outputs": [
    {
     "name": "stdout",
     "output_type": "stream",
     "text": [
      "Original lists:\n",
      "(1, 2, 3, 4)\n",
      "(3, 5, 2, 1)\n",
      "(2, 2, 3, 1)\n",
      "\n",
      "Element-wise sum of the said tuples:\n",
      "(6, 9, 8, 6)\n"
     ]
    }
   ],
   "source": [
    "x = (1,2,3,4)\n",
    "y = (3,5,2,1)\n",
    "z = (2,2,3,1)\n",
    "print(\"Original lists:\")\n",
    "print(x)\n",
    "print(y)\n",
    "print(z)\n",
    "print(\"\\nElement-wise sum of the said tuples:\")\n",
    "result = tuple(map(sum, zip(x, y, z)))\n",
    "print(result)"
   ]
  },
  {
   "cell_type": "code",
   "execution_count": 90,
   "id": "b10f0d38",
   "metadata": {},
   "outputs": [
    {
     "name": "stdout",
     "output_type": "stream",
     "text": [
      "[3, 5, 7]\n"
     ]
    }
   ],
   "source": [
    "#32-program to compute the sum of all the elements of each tuple stored inside a list of tuples.\n",
    "lst=[(1, 2), (2, 3), (3, 4)]\n",
    "result=list(map(sum,lst))\n",
    "print(result)"
   ]
  },
  {
   "cell_type": "code",
   "execution_count": 92,
   "id": "44a2f11d",
   "metadata": {},
   "outputs": [
    {
     "name": "stdout",
     "output_type": "stream",
     "text": [
      "[[1, 2], [2, 3], [3, 4]]\n"
     ]
    }
   ],
   "source": [
    "#33-convert a given list of tuples to a list of lists\n",
    "lst_tup= [(1, 2), (2, 3), (3, 4)]\n",
    "lst=map(list,lst_tup)\n",
    "print(list(lst))"
   ]
  },
  {
   "cell_type": "code",
   "execution_count": 94,
   "id": "20b50628",
   "metadata": {},
   "outputs": [
    {
     "name": "stdout",
     "output_type": "stream",
     "text": [
      "Original list of tuples:\n",
      "[(1, 2), (2, 3), (3, 4)]\n",
      "Convert the said list of tuples to a list of lists:\n",
      "[[1, 2], [2, 3], [3, 4]]\n"
     ]
    }
   ],
   "source": [
    "def test(lst_tuples):\n",
    "    result = [list(el) for el in lst_tuples]\n",
    "    return result\n",
    "lst_tuples = [(1,2), (2,3), (3,4)]\n",
    "print(\"Original list of tuples:\")\n",
    "print(lst_tuples)\n",
    "print(\"Convert the said list of tuples to a list of lists:\")\n",
    "print(test(lst_tuples))"
   ]
  },
  {
   "cell_type": "code",
   "execution_count": null,
   "id": "1f16c531",
   "metadata": {},
   "outputs": [],
   "source": []
  }
 ],
 "metadata": {
  "kernelspec": {
   "display_name": "Python 3 (ipykernel)",
   "language": "python",
   "name": "python3"
  },
  "language_info": {
   "codemirror_mode": {
    "name": "ipython",
    "version": 3
   },
   "file_extension": ".py",
   "mimetype": "text/x-python",
   "name": "python",
   "nbconvert_exporter": "python",
   "pygments_lexer": "ipython3",
   "version": "3.9.7"
  }
 },
 "nbformat": 4,
 "nbformat_minor": 5
}
