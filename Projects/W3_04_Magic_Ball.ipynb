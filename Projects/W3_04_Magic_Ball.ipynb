{
 "cells": [
  {
   "cell_type": "code",
   "execution_count": 6,
   "id": "d12b59ee",
   "metadata": {},
   "outputs": [
    {
     "name": "stdout",
     "output_type": "stream",
     "text": [
      "  __  __          _____ _____ _____    ___  \n",
      " |  \\/  |   /\\   / ____|_   _/ ____|  / _ \\ \n",
      " | \\  / |  /  \\ | |  __  | || |      | (_) |\n",
      " | |\\/| | / /\\ \\| | |_ | | || |       > _ < \n",
      " | |  | |/ ____ \\ |__| |_| || |____  | (_) |\n",
      " |_|  |_/_/    \\_\\_____|_____\\_____|  \\___/ \n",
      "\n",
      "\n",
      "\n",
      "Hello World, I am the Magic 8 Ball, What is your name?\n",
      "Prachi\n",
      "HeloPrachi\n",
      "ask a question\n",
      "Sup?\n",
      "My reply is no\n",
      "I hope that helped\n",
      "Do you have another question?\n",
      "Y\n",
      "ask a question\n",
      "ati kya khandala\n",
      "Better not tell you now\n",
      "I hope that helped\n",
      "Do you have another question?\n",
      "love u\n",
      "I apologies, I did not catch that. Please repeat.\n",
      "Do you have another question?\n",
      "N\n"
     ]
    }
   ],
   "source": [
    "#Date 11/13/22\n",
    "'''Python project of a Magic 8 Ball which is a toy used for fortune-telling or seeking advice.\n",
    "\n",
    "Allow the user to input their question.\n",
    "Show an in progress message.\n",
    "Create 10/20 responses, and show a random response.\n",
    "Allow the user to ask another question/advice or quit the game.'''\n",
    "\n",
    "import random\n",
    "answers=['It is certain', 'It is decidedly so', 'Without a doubt', 'Yes – definitely', 'You may rely on it', 'As I see it, yes', 'Most likely', 'Outlook good', 'Yes Signs point to yes', 'Reply hazy', 'try again', 'Ask again later', 'Better not tell you now', 'Cannot predict now', 'Concentrate and ask again', 'Dont count on it', 'My reply is no', 'My sources say no', 'Outlook not so good', 'Very doubtful']\n",
    "\n",
    "print('  __  __          _____ _____ _____    ___  ')\n",
    "print(' |  \\/  |   /\\   / ____|_   _/ ____|  / _ \\ ')\n",
    "print(' | \\  / |  /  \\ | |  __  | || |      | (_) |')\n",
    "print(' | |\\/| | / /\\ \\| | |_ | | || |       > _ < ')\n",
    "print(' | |  | |/ ____ \\ |__| |_| || |____  | (_) |')\n",
    "print(' |_|  |_/_/    \\_\\_____|_____\\_____|  \\___/ ')\n",
    "print('')\n",
    "print('')\n",
    "print('')\n",
    "print('Hello World, I am the Magic 8 Ball, What is your name?')\n",
    "name=input()\n",
    "print('Helo'+name)\n",
    "\n",
    "def magic8Ball():\n",
    "    print('ask a question')\n",
    "    input()\n",
    "    print(answers[random.randint(0,len(answers)-1)])\n",
    "    print('I hope that helped')\n",
    "    replay()\n",
    "    \n",
    "def replay():\n",
    "    print('Do you have another question?')\n",
    "    reply=input()\n",
    "    if reply == 'Y':\n",
    "        magic8Ball()\n",
    "    elif reply == 'N':\n",
    "        exit()\n",
    "    else:\n",
    "        print('I apologies, I did not catch that. Please repeat.')\n",
    "        replay()\n",
    "magic8Ball()"
   ]
  },
  {
   "cell_type": "code",
   "execution_count": 2,
   "id": "9e0fe926",
   "metadata": {},
   "outputs": [
    {
     "name": "stdout",
     "output_type": "stream",
     "text": [
      "You may ask your yes or no question of the Magic 8 Ball!\n",
      "come in?\n",
      "Thinking...\n",
      "Most Likely\n",
      "Would you like to ask another question? (Y or N)Y\n",
      "You may ask your yes or no question of the Magic 8 Ball!\n",
      "love yu\n",
      "Thinking...\n",
      "Very Doubtful\n",
      "Would you like to ask another question? (Y or N)b\n",
      "Come back if you have more questions!\n"
     ]
    }
   ],
   "source": [
    "import random\n",
    "import time\n",
    "\n",
    "eight_ball = [ \"It is certain\", \"It is decidedly so\", \"Without a doubt\", \"Yes, definitely\",\n",
    "               \"You may rely on it\", \"As I see it, yes\", \"Most Likely\", \"Outlook Good\",\n",
    "               \"Yes\", \"Signs point to yes\", \"Reply hazy, try again\", \"Ask again later\",\n",
    "               \"Better not tell you now\", \"Cannot predict now\", \"Concentrate and ask again\",\n",
    "               \"Don't count on it\", \"My reply is no\", \"My sources say no\", \"Outlook not so good\", \"Very Doubtful\"]\n",
    "\n",
    "def question():\n",
    "    question = input(\"You may ask your yes or no question of the Magic 8 Ball!\\n\")\n",
    "    print(\"Thinking...\")\n",
    "    time.sleep(random.randrange(0,5))\n",
    "    print(random.choice(eight_ball))\n",
    "\n",
    "while True:\n",
    "    question()\n",
    "    repeat = input(\"Would you like to ask another question? (Y or N)\")\n",
    "    if not (repeat == \"y\" or repeat == \"Y\"):\n",
    "        print(\"Come back if you have more questions!\")\n",
    "        break"
   ]
  },
  {
   "cell_type": "code",
   "execution_count": null,
   "id": "2ad35f73",
   "metadata": {},
   "outputs": [],
   "source": []
  }
 ],
 "metadata": {
  "kernelspec": {
   "display_name": "Python 3 (ipykernel)",
   "language": "python",
   "name": "python3"
  },
  "language_info": {
   "codemirror_mode": {
    "name": "ipython",
    "version": 3
   },
   "file_extension": ".py",
   "mimetype": "text/x-python",
   "name": "python",
   "nbconvert_exporter": "python",
   "pygments_lexer": "ipython3",
   "version": "3.9.7"
  }
 },
 "nbformat": 4,
 "nbformat_minor": 5
}
