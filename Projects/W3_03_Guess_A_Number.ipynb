{
 "cells": [
  {
   "cell_type": "code",
   "execution_count": 33,
   "id": "976338f0",
   "metadata": {},
   "outputs": [
    {
     "name": "stdout",
     "output_type": "stream",
     "text": [
      "3\n",
      "a number between 1-10=>4\n",
      "a number between 1-10=>3\n",
      "You are right\n"
     ]
    }
   ],
   "source": [
    "#Date 11/13/22\n",
    "\n",
    "#3-guess a number that has randomly selected\n",
    "import random\n",
    "x=random.randint(1,10)\n",
    "print(x)\n",
    "\n",
    "while(x!=n):\n",
    "    n=int(input('a number between 1-10=>'))\n",
    "    if x==n:\n",
    "        print('You are right')"
   ]
  },
  {
   "cell_type": "code",
   "execution_count": 34,
   "id": "5412bb97",
   "metadata": {},
   "outputs": [
    {
     "name": "stdout",
     "output_type": "stream",
     "text": [
      "welcome to number guess\n",
      "Please input number between 0 and 100: 22\n",
      "This is lower than actual number. Please try again.\n",
      "Please input number between 0 and 100: 30\n",
      "This is lower than actual number. Please try again.\n",
      "Please input number between 0 and 100: 40\n",
      "This is lower than actual number. Please try again.\n",
      "Please input number between 0 and 100: 50\n",
      "This is lower than actual number. Please try again.\n",
      "Please input number between 0 and 100: 60\n",
      "This is higher than actual number. Please try again.\n",
      "Please input number between 0 and 100: 55\n",
      "This is lower than actual number. Please try again.\n",
      "Please input number between 0 and 100: 56\n",
      "This is lower than actual number. Please try again.\n",
      "Please input number between 0 and 100: 57\n",
      "This is lower than actual number. Please try again.\n",
      "Please input number between 0 and 100: 58\n",
      "This is lower than actual number. Please try again.\n",
      "Please input number between 0 and 100: 49\n",
      "This is lower than actual number. Please try again.\n",
      "Please input number between 0 and 100: 59\n",
      "This is the correct number\n",
      "Thank you for playing number guess\n"
     ]
    }
   ],
   "source": [
    "#Complete Solution\n",
    "import random\n",
    "number=random.randrange(0,100)\n",
    "print('welcome to number guess')\n",
    "guessCheck='Wrong'\n",
    "\n",
    "while guessCheck=='Wrong':\n",
    "    response=int(input('Please input number between 0 and 100: '))\n",
    "    try:\n",
    "        val=int(response)\n",
    "    except ValueError:\n",
    "        print('This is not valid integer, please try again')\n",
    "        continue\n",
    "    val=int(response)\n",
    "    if val<number:\n",
    "        print(\"This is lower than actual number. Please try again.\")\n",
    "    elif val>number:\n",
    "        print(\"This is higher than actual number. Please try again.\")\n",
    "    else:\n",
    "        print(\"This is the correct number\")\n",
    "        guessCheck='Correct'\n",
    "\n",
    "print('Thank you for playing number guess')"
   ]
  },
  {
   "cell_type": "code",
   "execution_count": null,
   "id": "f5b6e1fe",
   "metadata": {},
   "outputs": [],
   "source": []
  },
  {
   "cell_type": "code",
   "execution_count": null,
   "id": "b7261931",
   "metadata": {},
   "outputs": [],
   "source": []
  },
  {
   "cell_type": "code",
   "execution_count": null,
   "id": "081b7bde",
   "metadata": {},
   "outputs": [],
   "source": []
  },
  {
   "cell_type": "code",
   "execution_count": null,
   "id": "7f097656",
   "metadata": {},
   "outputs": [],
   "source": [
    "\n"
   ]
  }
 ],
 "metadata": {
  "kernelspec": {
   "display_name": "Python 3 (ipykernel)",
   "language": "python",
   "name": "python3"
  },
  "language_info": {
   "codemirror_mode": {
    "name": "ipython",
    "version": 3
   },
   "file_extension": ".py",
   "mimetype": "text/x-python",
   "name": "python",
   "nbconvert_exporter": "python",
   "pygments_lexer": "ipython3",
   "version": "3.9.7"
  }
 },
 "nbformat": 4,
 "nbformat_minor": 5
}
